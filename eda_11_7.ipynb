{
 "cells": [
  {
   "cell_type": "code",
   "execution_count": 1,
   "metadata": {},
   "outputs": [],
   "source": [
    "import numpy as np\n",
    "import pandas as pd\n",
    "import matplotlib.pyplot as plt\n",
    "import os\n",
    "import gc\n",
    "import sys\n",
    "import time\n",
    "import gc\n",
    "import itertools\n",
    "import tqdm\n",
    "import time\n",
    "import copy\n",
    "\n",
    "import scipy.stats as ss\n",
    "from numba import jit\n",
    "\n",
    "if os.name=='nt':\n",
    "    try:\n",
    "        mingw_path = 'C:\\\\Program Files\\\\mingw-w64\\\\x86_64-8.1.0-posix-seh-rt_v6-rev0\\\\mingw64\\\\bin'\n",
    "        os.environ['PATH'] = mingw_path + ';' + os.environ['PATH']\n",
    "    except:\n",
    "        pass\n",
    "    \n",
    "import xgboost as xgb\n",
    "from sklearn.metrics import mean_squared_error \n",
    "from sklearn.preprocessing import LabelEncoder\n",
    "from sklearn.model_selection import StratifiedKFold\n",
    "\n",
    "%matplotlib inline"
   ]
  },
  {
   "cell_type": "markdown",
   "metadata": {},
   "source": [
    "### Helper Function"
   ]
  },
  {
   "cell_type": "code",
   "execution_count": 2,
   "metadata": {},
   "outputs": [],
   "source": [
    "def lag_features(df, lags, merge_cols, shift_cols, fillna_value=None):\n",
    "    '''create lag features of col'''\n",
    "    cols = copy.copy(merge_cols)\n",
    "    cols.extend(shift_cols)\n",
    "    tmp = df.loc[:, cols]\n",
    "    for i in lags:\n",
    "        shifted = tmp.copy()\n",
    "        shifted_cols = shifted.columns.tolist()\n",
    "        shifted_cols = [c+'_lag_'+str(i) if c in shift_cols else c \n",
    "                        for c in shifted_cols]\n",
    "        shifted.columns = shifted_cols\n",
    "        shifted['month'] += i\n",
    "        shifted.drop_duplicates(inplace=True)\n",
    "        df = pd.merge(df, shifted, on=merge_cols, how='left')\n",
    "    if fillna_value is not None:\n",
    "        df.fillna(fillna_value, inplace=True)\n",
    "    return df    "
   ]
  },
  {
   "cell_type": "code",
   "execution_count": 3,
   "metadata": {},
   "outputs": [],
   "source": [
    "def clip_rmse(preds, dtrain):\n",
    "    y_test = np.array(dtrain.get_label())\n",
    "    preds = np.array(preds)\n",
    "    y_test = np.maximum(np.minimum(y_test, 20), 0)\n",
    "    preds = np.maximum(np.minimum(preds, 20), 0)\n",
    "    #preds = np.array(list(map(lambda x: min(20, max(x, 0)), list(preds))))\n",
    "    #y_test = np.array(list(map(lambda x: min(20, max(x, 0)), list(y_test))))\n",
    "    rmse = np.sqrt(mean_squared_error(preds,y_test))\n",
    "    return 'clip-rmse', rmse"
   ]
  },
  {
   "cell_type": "code",
   "execution_count": 4,
   "metadata": {},
   "outputs": [],
   "source": [
    "def cv(x_train, y_train, param, n_repetition, n_split, n_tree, verbose, random_state):\n",
    "    '''Repeated CV'''\n",
    "    \n",
    "    cv_results = {}\n",
    "    clf = {}\n",
    "    running_time = {}\n",
    "\n",
    "    np.random.seed(random_state)\n",
    "\n",
    "    for m in range(n_repetition):\n",
    "        # Train and valuation sets split\n",
    "        skf = StratifiedKFold(n_splits=n_split, random_state=np.random.randint(10**6), shuffle=True)\n",
    "\n",
    "        for n, (train_index, val_index) in enumerate(skf.split(x_train, y_train)):\n",
    "\n",
    "            start_time = time.time()\n",
    "\n",
    "            # Construct DMatrix\n",
    "            dtrain = xgb.DMatrix(x_train.iloc[train_index], label=y_train.iloc[train_index])\n",
    "            dval = xgb.DMatrix(x_train.iloc[val_index], label=y_train.iloc[val_index])\n",
    "\n",
    "            # Placeholder for evals_results\n",
    "            cv_results[m, n] = {}\n",
    "\n",
    "            param['seed'] = np.random.randint(10**6)\n",
    "            clf[m, n] = xgb.train(param, dtrain,num_boost_round=n_tree, \n",
    "                                  evals=[(dtrain, 'train'), (dval, 'val')], \n",
    "                                  feval=clip_rmse, maximize=False, early_stopping_rounds=None, \n",
    "                                  evals_result=cv_results[m, n], verbose_eval=verbose)\n",
    "\n",
    "            running_time[m, n] = time.time() - start_time\n",
    "\n",
    "            print('Repeat {}, split {}, val score = {:.3f}, running time = {:.3f} min.'.format(m, n, \n",
    "                cv_results[m, n]['val']['clip-rmse'][-1], running_time[m, n]/60))\n",
    "\n",
    "    cv_results_final = {}\n",
    "    for m in range(n_repetition):\n",
    "        for n in range(n_split):\n",
    "            cv_results_final['train', m, n] = cv_results[m, n]['train']['clip-rmse']\n",
    "            cv_results_final['val', m, n] = cv_results[m, n]['val']['clip-rmse']\n",
    "\n",
    "    df = pd.DataFrame(cv_results_final)\n",
    "    df.index.name = 'iteration'\n",
    "    df.columns.names = ['dataset', 'repetition', 'cv_split']\n",
    "\n",
    "    print('Val mean = {:.3f}, std = {:.3f}'.format(df['val'].iloc[-1].mean(), df['val'].iloc[-1].std()))\n",
    "    \n",
    "    return df, clf, running_time"
   ]
  },
  {
   "cell_type": "code",
   "execution_count": 5,
   "metadata": {},
   "outputs": [],
   "source": [
    "def feature_combination(x, feature_list, function_dict, column_name, merge=False):\n",
    "    '''Combination of new features'''\n",
    "    tmp = x.groupby(feature_list).agg(function_dict)\n",
    "    tmp.columns = column_name\n",
    "    if merge:\n",
    "        x = x.merge(tmp, on=feature_list, how='left')\n",
    "        return x, tmp\n",
    "    else:\n",
    "        return tmp"
   ]
  },
  {
   "cell_type": "markdown",
   "metadata": {},
   "source": [
    "### Load and Preprocess Data"
   ]
  },
  {
   "cell_type": "code",
   "execution_count": 6,
   "metadata": {},
   "outputs": [],
   "source": [
    "# Load data\n",
    "train = pd.read_csv('all/sales_train.csv.gz')\n",
    "test = pd.read_csv('all/test.csv.gz')\n",
    "shop = pd.read_csv('all/shops-translated.csv')\n",
    "item = pd.read_csv('all/item_category.csv')\n",
    "\n",
    "test.set_index('ID', inplace=True)\n",
    "item.drop(['item_name_translated'], axis=1, inplace=True)\n",
    "shop.drop(['Name'], axis=1, inplace=True)\n",
    "\n",
    "le = LabelEncoder()\n",
    "item['item_cat1'] = le.fit_transform(item['item_cat1'].astype(str))\n",
    "item['item_cat2'] = le.fit_transform(item['item_cat2'].astype(str))\n",
    "shop['City'] = le.fit_transform(shop['City'])\n",
    "shop['Type'] = le.fit_transform(shop['Type'])"
   ]
  },
  {
   "cell_type": "markdown",
   "metadata": {},
   "source": [
    "Remove outliers"
   ]
  },
  {
   "cell_type": "code",
   "execution_count": 7,
   "metadata": {},
   "outputs": [],
   "source": [
    "train = train[train.item_price<100000]\n",
    "train = train[train.item_cnt_day<1001]\n",
    "median = train[(train.shop_id==32)&(train.item_id==2973)&(train.date_block_num==4)&(train.item_price>0)].item_price.median()\n",
    "train.loc[train.item_price<0, 'item_price'] = median"
   ]
  },
  {
   "cell_type": "markdown",
   "metadata": {},
   "source": [
    "Fix shop names and ids"
   ]
  },
  {
   "cell_type": "code",
   "execution_count": 8,
   "metadata": {},
   "outputs": [],
   "source": [
    "train.loc[train.shop_id == 0, 'shop_id'] = 57\n",
    "test.loc[test.shop_id == 0, 'shop_id'] = 57\n",
    "train.loc[train.shop_id == 1, 'shop_id'] = 58\n",
    "test.loc[test.shop_id == 1, 'shop_id'] = 58\n",
    "train.loc[train.shop_id == 10, 'shop_id'] = 11\n",
    "test.loc[test.shop_id == 10, 'shop_id'] = 11"
   ]
  },
  {
   "cell_type": "markdown",
   "metadata": {},
   "source": [
    "Monthly sales for all the samples"
   ]
  },
  {
   "cell_type": "code",
   "execution_count": 9,
   "metadata": {},
   "outputs": [],
   "source": [
    "x = pd.DataFrame(train.groupby(['date_block_num', 'shop_id', 'item_id'])['item_cnt_day'].sum())\n",
    "x.item_cnt_day = x.item_cnt_day.clip(0, 20)\n",
    "x.reset_index(inplace=True)"
   ]
  },
  {
   "cell_type": "markdown",
   "metadata": {},
   "source": [
    "Training set only contains sold samples, need to extend to all samples.\n",
    "\n",
    "There are two ways of extending:\n",
    "1. overall product between elements in (month, shop_id, item_id)\n",
    "2. in each month, the product between elements in (shop_id, item_id)\n",
    "\n",
    "The first one increases the number of rows by 23.5 times, the second one 6 times"
   ]
  },
  {
   "cell_type": "code",
   "execution_count": 10,
   "metadata": {},
   "outputs": [
    {
     "name": "stdout",
     "output_type": "stream",
     "text": [
      "overall product count is 42260028, sample count is 1609123, ratio is 26.263\n",
      "monthly product count sum is 10913804, monthly sample count is 1609123, ratio is 6.782\n"
     ]
    }
   ],
   "source": [
    "shop_count = {}\n",
    "item_count = {}\n",
    "product_count = {}\n",
    "sample_count = {}\n",
    "ratio = {}\n",
    "\n",
    "for n in x.date_block_num.unique():\n",
    "    shop_count[n] = len(x.loc[x.date_block_num==n, 'shop_id'].unique())\n",
    "    item_count[n] = len(x.loc[x.date_block_num==n, 'item_id'].unique())\n",
    "    sample_count[n] = len(x.loc[x.date_block_num==n, :])\n",
    "    product_count[n] = shop_count[n]*item_count[n]\n",
    "    ratio[n] = product_count[n]/sample_count[n]\n",
    "#     print('product count is {}, sample count is {}, ratio is {:.3f}'.format(product_count[n], \n",
    "#                                                                             sample_count[n], \n",
    "#                                                                             product_count[n]/sample_count[n]))\n",
    "    \n",
    "print('overall product count is {}, sample count is {}, ratio is {:.3f}'.format(\n",
    "    len(x.shop_id.unique())*len(x.item_id.unique())*34, \n",
    "    x.shape[0], 34*len(x.shop_id.unique())*len(x.item_id.unique())/x.shape[0]))\n",
    "print('monthly product count sum is {}, monthly sample count is {}, ratio is {:.3f}'.format(\n",
    "    sum(product_count.values()), sum(sample_count.values()), sum(product_count.values())/sum(sample_count.values())))"
   ]
  },
  {
   "cell_type": "markdown",
   "metadata": {},
   "source": [
    "Try the first extending method\n",
    "\n",
    "It requires huge RAM"
   ]
  },
  {
   "cell_type": "code",
   "execution_count": 11,
   "metadata": {},
   "outputs": [],
   "source": [
    "if False:\n",
    "    month = np.arange(0, 34)\n",
    "    shop_list = train.shop_id.unique().tolist()\n",
    "    item_list = train.item_id.unique().tolist()\n",
    "    n_rows = len(month)*len(shop_list)*len(item_list)\n",
    "\n",
    "    idx = pd.MultiIndex.from_product([month, shop_list, item_list], names=['date_block_num', 'shop_id', 'item_id'])\n",
    "\n",
    "    x2 = pd.DataFrame(np.zeros((n_rows,2)), index=idx)\n",
    "    x2.reset_index(inplace=True, drop=False)\n",
    "    x2.drop([0, 1], axis=1, inplace=True)\n",
    "\n",
    "    x = x2.merge(x, on=['date_block_num', 'shop_id', 'item_id'], how='outer').fillna(0.0)\n",
    "    test['date_block_num'] = 34\n",
    "    x = pd.concat((x, test), sort=False).fillna(0.0)\n",
    "\n",
    "    del x2\n",
    "    gc.collect()"
   ]
  },
  {
   "cell_type": "markdown",
   "metadata": {},
   "source": [
    "Try the second method"
   ]
  },
  {
   "cell_type": "code",
   "execution_count": 12,
   "metadata": {},
   "outputs": [],
   "source": [
    "tmp = []\n",
    "for n in range(34):\n",
    "    shop_list = x.loc[x.date_block_num==n, 'shop_id'].unique()\n",
    "    item_list = x.loc[x.date_block_num==n, 'item_id'].unique()\n",
    "    idx = pd.MultiIndex.from_product([[n], shop_list, item_list], names=['date_block_num', 'shop_id', 'item_id'])\n",
    "    df_tmp = pd.DataFrame(np.zeros((len(idx),2)), index=idx)\n",
    "    tmp.append(df_tmp)\n",
    "tmp = pd.concat(tmp, sort=False)\n",
    "tmp.reset_index(inplace=True, drop=False)\n",
    "tmp.drop([0, 1], axis=1, inplace=True)\n",
    "x = tmp.merge(x, on=['date_block_num', 'shop_id', 'item_id'], how='outer').fillna(0.0)\n",
    "test['date_block_num'] = 34\n",
    "x = pd.concat((x, test), sort=False).fillna(0.0)"
   ]
  },
  {
   "cell_type": "markdown",
   "metadata": {},
   "source": [
    "Add shop/item features"
   ]
  },
  {
   "cell_type": "code",
   "execution_count": 13,
   "metadata": {},
   "outputs": [],
   "source": [
    "x = pd.merge(x, shop, on='shop_id', how='left')\n",
    "x = pd.merge(x, item, on='item_id', how='left')"
   ]
  },
  {
   "cell_type": "markdown",
   "metadata": {},
   "source": [
    "Change column names"
   ]
  },
  {
   "cell_type": "code",
   "execution_count": 14,
   "metadata": {},
   "outputs": [],
   "source": [
    "x.columns = ['month', 'shop_id', 'item_id', 'sales_month', \n",
    "             'City', 'Type', 'item_cat1', 'item_cat2']"
   ]
  },
  {
   "cell_type": "markdown",
   "metadata": {},
   "source": [
    "Change column types"
   ]
  },
  {
   "cell_type": "markdown",
   "metadata": {},
   "source": [
    "x['City'] = x['City'].astype(np.int8)\n",
    "x['Type'] = x['Type'].astype(np.int8)\n",
    "x['item_cat1'] = x['item_cat1'].astype(np.int8)\n",
    "x['item_cat2'] = x['item_cat2'].astype(np.int8)\n",
    "x['sales_month'] = x['sales_month'].astype(np.float16)\n",
    "x['month'] = x['month'].astype(np.int8)\n",
    "x['shop_id'] = x['shop_id'].astype(np.int8)"
   ]
  },
  {
   "cell_type": "markdown",
   "metadata": {},
   "source": [
    "### Target Lags"
   ]
  },
  {
   "cell_type": "code",
   "execution_count": 15,
   "metadata": {},
   "outputs": [],
   "source": [
    "x = lag_features(x, [1, 2, 3, 6, 12], \n",
    "                 ['month', 'shop_id', 'item_id'], \n",
    "                 ['sales_month'], fillna_value=0)"
   ]
  },
  {
   "cell_type": "markdown",
   "metadata": {},
   "source": [
    "### Mean Encoding"
   ]
  },
  {
   "cell_type": "markdown",
   "metadata": {},
   "source": [
    "`sales_mean_month`"
   ]
  },
  {
   "cell_type": "code",
   "execution_count": 16,
   "metadata": {},
   "outputs": [],
   "source": [
    "group = x.groupby('month').agg({'sales_month': ['mean']})\n",
    "group.columns = ['sales_mean_month']\n",
    "group.reset_index(inplace=True)\n",
    "\n",
    "x = pd.merge(x, group, on=['month'], how='left')\n",
    "x['sales_mean_month'] = x['sales_mean_month'].astype(np.float16)\n",
    "x = lag_features(x, [1], ['month'], ['sales_mean_month'], fillna_value=0.0)\n",
    "x.drop(['sales_mean_month'], axis=1, inplace=True)"
   ]
  },
  {
   "cell_type": "markdown",
   "metadata": {},
   "source": [
    "`sales_mean_month_item`"
   ]
  },
  {
   "cell_type": "code",
   "execution_count": 17,
   "metadata": {},
   "outputs": [],
   "source": [
    "col = 'sales_mean_month_item'\n",
    "group = x.groupby(['month', 'item_id']).agg({'sales_month': ['mean']})\n",
    "group.columns = [col]\n",
    "group.reset_index(inplace=True)\n",
    "\n",
    "x = pd.merge(x, group, on=['month', 'item_id'], how='left')\n",
    "x[col] = x[col].astype(np.float16)\n",
    "x = lag_features(x, [1, 2, 3, 6, 12], \n",
    "                 ['month', 'item_id'], \n",
    "                 [col], fillna_value=0.0)\n",
    "x.drop([col], axis=1, inplace=True)"
   ]
  },
  {
   "cell_type": "markdown",
   "metadata": {},
   "source": [
    "`sales_mean_month_shop`"
   ]
  },
  {
   "cell_type": "code",
   "execution_count": 18,
   "metadata": {},
   "outputs": [],
   "source": [
    "col = 'sales_mean_month_shop'\n",
    "merge_cols = ['month', 'shop_id']\n",
    "group = x.groupby(merge_cols).agg({'sales_month': ['mean']})\n",
    "group.columns = [col]\n",
    "group.reset_index(inplace=True)\n",
    "\n",
    "x = pd.merge(x, group, on=merge_cols, how='left')\n",
    "x[col] = x[col].astype(np.float16)\n",
    "x = lag_features(x, [1, 2, 3, 6, 12], \n",
    "                 merge_cols, \n",
    "                 [col], fillna_value=0.0)\n",
    "x.drop([col], axis=1, inplace=True)"
   ]
  },
  {
   "cell_type": "markdown",
   "metadata": {},
   "source": [
    "`sales_mean_month_cat1`"
   ]
  },
  {
   "cell_type": "code",
   "execution_count": 19,
   "metadata": {},
   "outputs": [],
   "source": [
    "col = 'sales_mean_month_cat1'\n",
    "merge_cols = ['month', 'item_cat1']\n",
    "group = x.groupby(merge_cols).agg({'sales_month': ['mean']})\n",
    "group.columns = [col]\n",
    "group.reset_index(inplace=True)\n",
    "\n",
    "x = pd.merge(x, group, on=merge_cols, how='left')\n",
    "x[col] = x[col].astype(np.float16)\n",
    "x = lag_features(x, [1], \n",
    "                 merge_cols, \n",
    "                 [col], fillna_value=0.0)\n",
    "x.drop([col], axis=1, inplace=True)"
   ]
  },
  {
   "cell_type": "markdown",
   "metadata": {},
   "source": [
    "`sales_mean_month_shop_cat1`"
   ]
  },
  {
   "cell_type": "code",
   "execution_count": 20,
   "metadata": {},
   "outputs": [],
   "source": [
    "col = 'sales_mean_month_shop_cat1'\n",
    "merge_cols = ['month', 'shop_id', 'item_cat1']\n",
    "group = x.groupby(merge_cols).agg({'sales_month': ['mean']})\n",
    "group.columns = [col]\n",
    "group.reset_index(inplace=True)\n",
    "\n",
    "x = pd.merge(x, group, on=merge_cols, how='left')\n",
    "x[col] = x[col].astype(np.float16)\n",
    "x = lag_features(x, [1], \n",
    "                 merge_cols, \n",
    "                 [col], fillna_value=0.0)\n",
    "x.drop([col], axis=1, inplace=True)"
   ]
  },
  {
   "cell_type": "markdown",
   "metadata": {},
   "source": [
    "`sales_mean_month_shop_type`"
   ]
  },
  {
   "cell_type": "code",
   "execution_count": 21,
   "metadata": {},
   "outputs": [],
   "source": [
    "col = 'sales_mean_month_shop_type'\n",
    "merge_cols = ['month', 'shop_id', 'Type']\n",
    "group = x.groupby(merge_cols).agg({'sales_month': ['mean']})\n",
    "group.columns = [col]\n",
    "group.reset_index(inplace=True)\n",
    "\n",
    "x = pd.merge(x, group, on=merge_cols, how='left')\n",
    "x[col] = x[col].astype(np.float16)\n",
    "x = lag_features(x, [1], \n",
    "                 merge_cols, \n",
    "                 [col], fillna_value=0.0)\n",
    "x.drop([col], axis=1, inplace=True)"
   ]
  },
  {
   "cell_type": "markdown",
   "metadata": {},
   "source": [
    "`sales_mean_month_shop_cat2`"
   ]
  },
  {
   "cell_type": "code",
   "execution_count": 22,
   "metadata": {},
   "outputs": [],
   "source": [
    "col = 'sales_mean_month_shop_cat2'\n",
    "merge_cols = ['month', 'shop_id', 'item_cat2']\n",
    "group = x.groupby(merge_cols).agg({'sales_month': ['mean']})\n",
    "group.columns = [col]\n",
    "group.reset_index(inplace=True)\n",
    "\n",
    "x = pd.merge(x, group, on=merge_cols, how='left')\n",
    "x[col] = x[col].astype(np.float16)\n",
    "x = lag_features(x, [1], \n",
    "                 merge_cols, \n",
    "                 [col], fillna_value=0.0)\n",
    "x.drop([col], axis=1, inplace=True)"
   ]
  },
  {
   "cell_type": "markdown",
   "metadata": {},
   "source": [
    "`sales_mean_month_city`"
   ]
  },
  {
   "cell_type": "code",
   "execution_count": 23,
   "metadata": {},
   "outputs": [],
   "source": [
    "col = 'sales_mean_month_city'\n",
    "merge_cols = ['month', 'City']\n",
    "group = x.groupby(merge_cols).agg({'sales_month': ['mean']})\n",
    "group.columns = [col]\n",
    "group.reset_index(inplace=True)\n",
    "\n",
    "x = pd.merge(x, group, on=merge_cols, how='left')\n",
    "x[col] = x[col].astype(np.float16)\n",
    "x = lag_features(x, [1], \n",
    "                 merge_cols, \n",
    "                 [col], fillna_value=0.0)\n",
    "x.drop([col], axis=1, inplace=True)"
   ]
  },
  {
   "cell_type": "markdown",
   "metadata": {},
   "source": [
    "`sales_mean_month_item_city`"
   ]
  },
  {
   "cell_type": "code",
   "execution_count": 24,
   "metadata": {},
   "outputs": [],
   "source": [
    "col = 'sales_mean_month_item_city'\n",
    "merge_cols = ['month', 'item_id', 'City']\n",
    "group = x.groupby(merge_cols).agg({'sales_month': ['mean']})\n",
    "group.columns = [col]\n",
    "group.reset_index(inplace=True)\n",
    "\n",
    "x = pd.merge(x, group, on=merge_cols, how='left')\n",
    "x[col] = x[col].astype(np.float16)\n",
    "x = lag_features(x, [1], \n",
    "                 merge_cols, \n",
    "                 [col], fillna_value=0.0)\n",
    "x.drop([col], axis=1, inplace=True)"
   ]
  },
  {
   "cell_type": "markdown",
   "metadata": {},
   "source": [
    "`sales_mean_month_cat2`"
   ]
  },
  {
   "cell_type": "code",
   "execution_count": 25,
   "metadata": {},
   "outputs": [],
   "source": [
    "col = 'sales_mean_month_cat2'\n",
    "merge_cols = ['month', 'item_cat2']\n",
    "group = x.groupby(merge_cols).agg({'sales_month': ['mean']})\n",
    "group.columns = [col]\n",
    "group.reset_index(inplace=True)\n",
    "\n",
    "x = pd.merge(x, group, on=merge_cols, how='left')\n",
    "x[col] = x[col].astype(np.float16)\n",
    "x = lag_features(x, [1], \n",
    "                 merge_cols, \n",
    "                 [col], fillna_value=0.0)\n",
    "x.drop([col], axis=1, inplace=True)"
   ]
  },
  {
   "cell_type": "markdown",
   "metadata": {},
   "source": [
    "`sales_mean_month_cat1_cat2`"
   ]
  },
  {
   "cell_type": "code",
   "execution_count": 26,
   "metadata": {},
   "outputs": [],
   "source": [
    "col = 'sales_mean_month_cat1_cat2'\n",
    "merge_cols = ['month', 'item_cat1', 'item_cat2']\n",
    "group = x.groupby(merge_cols).agg({'sales_month': ['mean']})\n",
    "group.columns = [col]\n",
    "group.reset_index(inplace=True)\n",
    "\n",
    "x = pd.merge(x, group, on=merge_cols, how='left')\n",
    "x[col] = x[col].astype(np.float16)\n",
    "x = lag_features(x, [1, 2, 3, 6], \n",
    "                 merge_cols, \n",
    "                 [col], fillna_value=0.0)\n",
    "x.drop([col], axis=1, inplace=True)"
   ]
  },
  {
   "cell_type": "markdown",
   "metadata": {},
   "source": [
    "### Trend Features"
   ]
  },
  {
   "cell_type": "markdown",
   "metadata": {},
   "source": [
    "Average price of each item"
   ]
  },
  {
   "cell_type": "code",
   "execution_count": 27,
   "metadata": {},
   "outputs": [],
   "source": [
    "if False:\n",
    "    group = train.groupby('item_id').agg({'item_price': np.mean})\n",
    "    group.columns = ['price_mean_item']\n",
    "    x = pd.merge(x, group, on=['item_id'], how='left')\n",
    "    x['price_mean_item'] = x['price_mean_item'].astype(np.float16)"
   ]
  },
  {
   "cell_type": "markdown",
   "metadata": {},
   "source": [
    "Average price of each item in each month"
   ]
  },
  {
   "cell_type": "code",
   "execution_count": 28,
   "metadata": {},
   "outputs": [],
   "source": [
    "if False:\n",
    "    group = train.groupby(['date_block_num', 'item_id']).agg({'item_price': np.mean})\n",
    "    group.reset_index(inplace=True)\n",
    "    group.columns = ['month', 'item_id', 'price_mean_month_item']\n",
    "    x = pd.merge(x, group, on=['month', 'item_id'], how='left')\n",
    "    x['price_mean_month_item'] = x['price_mean_month_item'].astype(np.float16)\n",
    "\n",
    "    lags = [1, 2, 3, 4, 5, 6]\n",
    "    x = lag_features(x, lags, merge_cols=['month', 'item_id'], shift_cols=['price_mean_month_item'])\n",
    "\n",
    "    # delta price is the difference between price in lag month and mean price over all periods\n",
    "    for i in lags:\n",
    "        x['delta_price_mean_month_item_lag_'+str(i)] = \\\n",
    "            (x['price_mean_month_item_lag_'+str(i)] - x['price_mean_item']) / x['price_mean_item']\n",
    "\n",
    "    x['price_mean_month_item_diff'] = (x['price_mean_month_item'] - x['price_mean_month_item_lag_1']) / x['price_mean_month_item']\n",
    "    x['price_mean_month_item_diff'] = x['price_mean_month_item_diff'].astype(np.float16)\n",
    "    x = lag_features(x, lags, merge_cols=['month', 'item_id'], shift_cols=['price_mean_month_item_diff'])\n",
    "\n",
    "    x.drop(['price_mean_month_item', 'price_mean_month_item_diff'], axis=1, inplace=True)"
   ]
  },
  {
   "cell_type": "markdown",
   "metadata": {},
   "source": [
    "Last month shop revenue trend"
   ]
  },
  {
   "cell_type": "code",
   "execution_count": 29,
   "metadata": {},
   "outputs": [],
   "source": [
    "if False:\n",
    "    train['revenue'] = train['item_cnt_day']*train['item_price']\n",
    "    group = train.groupby(['date_block_num', 'shop_id']).agg({'revenue': np.sum})\n",
    "\n",
    "    group.reset_index(inplace=True)\n",
    "    group.columns = ['month', 'shop_id', 'rev_sum_month_shop']\n",
    "\n",
    "    x = pd.merge(x, group, on=['month', 'shop_id'], how='left')\n",
    "    x['rev_sum_month_shop'] = x['rev_sum_month_shop'].astype(np.float32)\n",
    "\n",
    "    group = train.groupby(['shop_id']).agg({'revenue': lambda x: np.sum(x)/34})\n",
    "    group.reset_index(inplace=True)\n",
    "    group.columns = ['shop_id', 'rev_sum_month_shop_mean_month']\n",
    "\n",
    "    x = pd.merge(x, group, on=['shop_id'], how='left')\n",
    "    x['delta_rev'] = (x['rev_sum_month_shop'] - x['rev_sum_month_shop_mean_month']) / x['rev_sum_month_shop_mean_month']\n",
    "    x = lag_features(x, [1], merge_cols=['month', 'shop_id'], shift_cols=['delta_rev'])\n",
    "    x.drop(['rev_sum_month_shop', 'delta_rev'], axis=1, inplace=True)"
   ]
  },
  {
   "cell_type": "markdown",
   "metadata": {},
   "source": [
    "Price trend"
   ]
  },
  {
   "cell_type": "code",
   "execution_count": 30,
   "metadata": {},
   "outputs": [],
   "source": [
    "group = train.groupby(['item_id']).agg({'item_price': np.mean})\n",
    "group.columns = ['item_price_mean']\n",
    "x = x.merge(group, on='item_id', how='left')\n",
    "\n",
    "group = train.groupby(['item_id', 'date_block_num']).agg({'item_price': np.mean})\n",
    "group.index.names = ['item_id', 'month']\n",
    "group.columns = ['item_price_mean_month']\n",
    "x = x.merge(group, on=['item_id', 'month'], how='left')\n",
    "\n",
    "x = lag_features(x, [1, 2, 3, 4, 5, 6], ['month', 'item_id'], ['item_price_mean_month'])\n",
    "\n",
    "for i in [1, 2, 3, 4, 5, 6]:\n",
    "    x['item_price_mean_month_diff_lag_'+str(i)] = (x['item_price_mean_month_lag_'+str(i)]-x['item_price_mean'])/x['item_price_mean']\n",
    "\n",
    "\n",
    "cols = ['item_price_mean_month_diff_lag_'+str(i) for i in range(1, 7)]\n",
    "x['item_price_trend'] = x[cols].fillna(method='bfill').iloc[:, 0].fillna(0.0)\n",
    "\n",
    "cols.extend(['item_price_mean_month_lag_'+str(i) for i in range(1, 7)])\n",
    "cols.append('item_price_mean_month')\n",
    "cols.append('item_price_mean')\n",
    "x.drop(cols, axis=1, inplace=True)"
   ]
  },
  {
   "cell_type": "markdown",
   "metadata": {},
   "source": [
    "Last month shop revenue trend"
   ]
  },
  {
   "cell_type": "code",
   "execution_count": 31,
   "metadata": {},
   "outputs": [],
   "source": [
    "train['rev'] = train.item_price*train.item_cnt_day\n",
    "group = train.groupby(['shop_id', 'date_block_num']).agg({'rev': np.sum})\n",
    "group = group.mean(axis=0, level=0)\n",
    "group.columns = ['shop_rev_mean']\n",
    "x = x.merge(group, on='shop_id', how='left')\n",
    "\n",
    "group = train.groupby(['shop_id', 'date_block_num']).agg({'rev': np.sum})\n",
    "group.reset_index(inplace=True)\n",
    "group.columns = ['shop_id', 'month', 'shop_rev_month']\n",
    "x = x.merge(group, on=['shop_id', 'month'], how='left')\n",
    "x = lag_features(x, [1], ['month', 'shop_id'], ['shop_rev_month'])\n",
    "\n",
    "x['shop_rev_trend'] = (x.shop_rev_month_lag_1 - x.shop_rev_mean) / x.shop_rev_mean\n",
    "x.shop_rev_trend = x.shop_rev_trend.fillna(0.0)\n",
    "\n",
    "x.drop(['shop_rev_mean', 'shop_rev_month', 'shop_rev_month_lag_1'], axis=1, inplace=True)"
   ]
  },
  {
   "cell_type": "markdown",
   "metadata": {},
   "source": [
    "### Special Features"
   ]
  },
  {
   "cell_type": "markdown",
   "metadata": {},
   "source": [
    "Month and days"
   ]
  },
  {
   "cell_type": "code",
   "execution_count": 32,
   "metadata": {},
   "outputs": [],
   "source": [
    "x['month2'] = x['month'] % 12\n",
    "x['days_in_month'] = x['month2'].map(pd.Series([31,28,31,30,31,30,31,31,30,31,30,31]))"
   ]
  },
  {
   "cell_type": "markdown",
   "metadata": {},
   "source": [
    "Distance to the last sold month for (month, shop, item) pair"
   ]
  },
  {
   "cell_type": "code",
   "execution_count": 33,
   "metadata": {},
   "outputs": [
    {
     "data": {
      "application/vnd.jupyter.widget-view+json": {
       "model_id": "1bea7a48186541418938dde682ffe8fa",
       "version_major": 2,
       "version_minor": 0
      },
      "text/plain": [
       "HBox(children=(IntProgress(value=0, max=35), HTML(value='')))"
      ]
     },
     "metadata": {},
     "output_type": "display_data"
    },
    {
     "name": "stdout",
     "output_type": "stream",
     "text": [
      "\n"
     ]
    }
   ],
   "source": [
    "tmp = x.pivot_table(index=['shop_id', 'item_id'], \n",
    "                    columns=['month'], \n",
    "                    values=['sales_month']).fillna(0.0)\n",
    "\n",
    "tmp = tmp>0.0\n",
    "for n in tqdm.tqdm_notebook(range(tmp.shape[1])):\n",
    "    tmp.iloc[:, n] = tmp.iloc[:, n].map({False: -1, True: n})\n",
    "tmp = tmp.shift(axis=1).fillna(-1.0).cummax(axis=1)\n",
    "tmp = np.arange(0, 35)-tmp.replace(-1.0, -np.inf)\n",
    "tmp.replace(np.inf, -1, inplace=True)\n",
    "tmp = tmp.stack()\n",
    "tmp.columns = ['shop_item_to_last_sold_month']\n",
    "tmp.reset_index(inplace=True)\n",
    "tmp = tmp[['month', 'shop_id', 'item_id', 'shop_item_to_last_sold_month']]\n",
    "\n",
    "x = pd.merge(x, tmp, on=['month', 'shop_id', 'item_id'], how='left')"
   ]
  },
  {
   "cell_type": "markdown",
   "metadata": {},
   "source": [
    "Distance to the last sold month for (month, item) pair"
   ]
  },
  {
   "cell_type": "code",
   "execution_count": 34,
   "metadata": {},
   "outputs": [
    {
     "data": {
      "application/vnd.jupyter.widget-view+json": {
       "model_id": "3bce0abd1d6a4732a0b0201fe24b2423",
       "version_major": 2,
       "version_minor": 0
      },
      "text/plain": [
       "HBox(children=(IntProgress(value=0, max=35), HTML(value='')))"
      ]
     },
     "metadata": {},
     "output_type": "display_data"
    },
    {
     "name": "stdout",
     "output_type": "stream",
     "text": [
      "\n"
     ]
    }
   ],
   "source": [
    "tmp = x.pivot_table(index=['item_id'], \n",
    "                    columns=['month'], \n",
    "                    values=['sales_month']).fillna(0.0)\n",
    "tmp = tmp>0.0\n",
    "for n in tqdm.tqdm_notebook(range(tmp.shape[1])):\n",
    "    tmp.iloc[:, n] = tmp.iloc[:, n].map({False: -1, True: n})\n",
    "tmp = tmp.shift(axis=1).fillna(-1.0).cummax(axis=1)\n",
    "tmp = np.arange(0, 35)-tmp.replace(-1.0, -np.inf)\n",
    "tmp.replace(np.inf, -1, inplace=True)\n",
    "tmp = tmp.stack()\n",
    "tmp.columns = ['item_to_last_sold_month']\n",
    "tmp.reset_index(inplace=True)\n",
    "tmp = tmp[['month', 'item_id', 'item_to_last_sold_month']]\n",
    "\n",
    "x = pd.merge(x, tmp, on=['month', 'item_id'], how='left')"
   ]
  },
  {
   "cell_type": "markdown",
   "metadata": {},
   "source": [
    "First sold month for the (shop, item) pair"
   ]
  },
  {
   "cell_type": "code",
   "execution_count": 35,
   "metadata": {},
   "outputs": [],
   "source": [
    "if True:\n",
    "    tmp = x.pivot_table(index=['shop_id', 'item_id'], columns='month', values='sales_month', aggfunc=np.sum)\n",
    "    tmp = tmp.replace(0.0, np.nan)\n",
    "\n",
    "    for n in range(tmp.shape[1]):\n",
    "        idx = np.where(~np.isnan(tmp.iloc[:, n]))[0]\n",
    "        tmp.iloc[idx, n] = n\n",
    "\n",
    "    tmp0 = pd.DataFrame(tmp.min(axis=1))\n",
    "    tmp0.reset_index(inplace=True)\n",
    "    tmp0.columns = ['shop_id', 'item_id', 'shop_item_to_first_sold_month']\n",
    "\n",
    "    x = x.merge(tmp0, on=['shop_id', 'item_id'], how='left')\n",
    "    x['shop_item_to_first_sold_month'] = x['month'] - x['shop_item_to_first_sold_month']\n",
    "\n",
    "    x.loc[x['shop_item_to_first_sold_month']<=0.0, 'shop_item_to_first_sold_month'] = np.nan"
   ]
  },
  {
   "cell_type": "markdown",
   "metadata": {},
   "source": [
    "First sold month for each item"
   ]
  },
  {
   "cell_type": "code",
   "execution_count": 36,
   "metadata": {},
   "outputs": [],
   "source": [
    "if True:\n",
    "    tmp = x.pivot_table(index=['item_id'], columns='month', values='sales_month', aggfunc=np.sum)\n",
    "    tmp = tmp.replace(0.0, np.nan)\n",
    "\n",
    "    for n in range(tmp.shape[1]):\n",
    "        idx = np.where(~np.isnan(tmp.iloc[:, n]))[0]\n",
    "        tmp.iloc[idx, n] = n\n",
    "\n",
    "    tmp0 = pd.DataFrame(tmp.min(axis=1))\n",
    "\n",
    "    tmp0.reset_index(inplace=True)\n",
    "\n",
    "    tmp0.columns = ['item_id', 'item_to_first_sold_month']\n",
    "\n",
    "    x = x.merge(tmp0, on='item_id', how='left')\n",
    "    x['item_to_first_sold_month'] = x['month'] - x['item_to_first_sold_month']\n",
    "\n",
    "    x.loc[x['item_to_first_sold_month']<=0.0, 'item_to_first_sold_month'] = np.nan"
   ]
  },
  {
   "cell_type": "markdown",
   "metadata": {},
   "source": [
    "## CV"
   ]
  },
  {
   "cell_type": "code",
   "execution_count": 37,
   "metadata": {},
   "outputs": [],
   "source": [
    "# Split train and test sets\n",
    "x_train = x.loc[(x['month']<=32) & (x['month']>=12), :].copy()\n",
    "x_val = x.loc[x['month']==33, :].copy()\n",
    "x_test = x.loc[x['month']==34, :].copy()\n",
    "\n",
    "# Drop target from test set\n",
    "x_test.drop(['sales_month'], axis=1, inplace=True)\n",
    "\n",
    "# Split target from train set\n",
    "y_train = x_train['sales_month'].clip(0, 20)\n",
    "x_train.drop(['sales_month'], axis=1, inplace=True)\n",
    "\n",
    "y_val = x_val['sales_month'].clip(0, 20)\n",
    "x_val.drop(['sales_month'], axis=1, inplace=True)"
   ]
  },
  {
   "cell_type": "code",
   "execution_count": 38,
   "metadata": {},
   "outputs": [],
   "source": [
    "param = {'max_depth':10, \n",
    "         'subsample':0.8,\n",
    "         'min_child_weight':10,\n",
    "         'eta':0.1, \n",
    "         'lambda': 1,\n",
    "         'colsample_bytree':0.8,\n",
    "         'seed':1,\n",
    "         'silent':1,\n",
    "         'maximize': False,\n",
    "         'nthread':8}\n",
    "\n",
    "n_tree = 50\n",
    "verbose = True\n",
    "n_repetition = 4"
   ]
  },
  {
   "cell_type": "code",
   "execution_count": 39,
   "metadata": {
    "scrolled": true
   },
   "outputs": [
    {
     "name": "stdout",
     "output_type": "stream",
     "text": [
      "[0]\ttrain-rmse:1.14691\tval-rmse:1.11613\ttrain-clip-rmse:1.14691\tval-clip-rmse:1.11613\n",
      "[1]\ttrain-rmse:1.0944\tval-rmse:1.07706\ttrain-clip-rmse:1.09439\tval-clip-rmse:1.07706\n",
      "[2]\ttrain-rmse:1.04941\tval-rmse:1.04686\ttrain-clip-rmse:1.04941\tval-clip-rmse:1.04686\n",
      "[3]\ttrain-rmse:1.01043\tval-rmse:1.01947\ttrain-clip-rmse:1.01044\tval-clip-rmse:1.01947\n",
      "[4]\ttrain-rmse:0.974166\tval-rmse:0.99669\ttrain-clip-rmse:0.974166\tval-clip-rmse:0.99669\n",
      "[5]\ttrain-rmse:0.943153\tval-rmse:0.975845\ttrain-clip-rmse:0.943154\tval-clip-rmse:0.975845\n",
      "[6]\ttrain-rmse:0.918678\tval-rmse:0.960689\ttrain-clip-rmse:0.918678\tval-clip-rmse:0.960689\n",
      "[7]\ttrain-rmse:0.897119\tval-rmse:0.94719\ttrain-clip-rmse:0.897119\tval-clip-rmse:0.94719\n",
      "[8]\ttrain-rmse:0.877256\tval-rmse:0.936057\ttrain-clip-rmse:0.877256\tval-clip-rmse:0.936057\n",
      "[9]\ttrain-rmse:0.860835\tval-rmse:0.927691\ttrain-clip-rmse:0.860835\tval-clip-rmse:0.927691\n",
      "[10]\ttrain-rmse:0.845829\tval-rmse:0.919905\ttrain-clip-rmse:0.845828\tval-clip-rmse:0.919905\n",
      "[11]\ttrain-rmse:0.833365\tval-rmse:0.913347\ttrain-clip-rmse:0.833365\tval-clip-rmse:0.913347\n",
      "[12]\ttrain-rmse:0.822314\tval-rmse:0.909089\ttrain-clip-rmse:0.822314\tval-clip-rmse:0.909089\n",
      "[13]\ttrain-rmse:0.812799\tval-rmse:0.905197\ttrain-clip-rmse:0.812798\tval-clip-rmse:0.905197\n",
      "[14]\ttrain-rmse:0.80418\tval-rmse:0.902605\ttrain-clip-rmse:0.80418\tval-clip-rmse:0.902605\n",
      "[15]\ttrain-rmse:0.796685\tval-rmse:0.899271\ttrain-clip-rmse:0.796685\tval-clip-rmse:0.899271\n",
      "[16]\ttrain-rmse:0.790466\tval-rmse:0.89752\ttrain-clip-rmse:0.790466\tval-clip-rmse:0.89752\n",
      "[17]\ttrain-rmse:0.784544\tval-rmse:0.896238\ttrain-clip-rmse:0.784544\tval-clip-rmse:0.896238\n",
      "[18]\ttrain-rmse:0.779823\tval-rmse:0.894981\ttrain-clip-rmse:0.779823\tval-clip-rmse:0.894981\n",
      "[19]\ttrain-rmse:0.774799\tval-rmse:0.894613\ttrain-clip-rmse:0.774799\tval-clip-rmse:0.894613\n",
      "[20]\ttrain-rmse:0.770066\tval-rmse:0.894447\ttrain-clip-rmse:0.770066\tval-clip-rmse:0.894447\n",
      "[21]\ttrain-rmse:0.76596\tval-rmse:0.894363\ttrain-clip-rmse:0.76596\tval-clip-rmse:0.894363\n",
      "[22]\ttrain-rmse:0.762371\tval-rmse:0.893657\ttrain-clip-rmse:0.762371\tval-clip-rmse:0.893655\n",
      "[23]\ttrain-rmse:0.758784\tval-rmse:0.892953\ttrain-clip-rmse:0.758784\tval-clip-rmse:0.892949\n",
      "[24]\ttrain-rmse:0.755237\tval-rmse:0.891979\ttrain-clip-rmse:0.755238\tval-clip-rmse:0.891973\n",
      "[25]\ttrain-rmse:0.752025\tval-rmse:0.89255\ttrain-clip-rmse:0.752024\tval-clip-rmse:0.892543\n",
      "[26]\ttrain-rmse:0.748532\tval-rmse:0.892386\ttrain-clip-rmse:0.748532\tval-clip-rmse:0.892378\n",
      "[27]\ttrain-rmse:0.746333\tval-rmse:0.89235\ttrain-clip-rmse:0.746333\tval-clip-rmse:0.89235\n",
      "[28]\ttrain-rmse:0.74399\tval-rmse:0.891267\ttrain-clip-rmse:0.743989\tval-clip-rmse:0.891265\n",
      "[29]\ttrain-rmse:0.741733\tval-rmse:0.890965\ttrain-clip-rmse:0.741732\tval-clip-rmse:0.890962\n",
      "[30]\ttrain-rmse:0.739243\tval-rmse:0.892158\ttrain-clip-rmse:0.739242\tval-clip-rmse:0.892155\n",
      "[31]\ttrain-rmse:0.737526\tval-rmse:0.892255\ttrain-clip-rmse:0.737524\tval-clip-rmse:0.892252\n",
      "[32]\ttrain-rmse:0.735702\tval-rmse:0.892628\ttrain-clip-rmse:0.7357\tval-clip-rmse:0.892625\n",
      "[33]\ttrain-rmse:0.733911\tval-rmse:0.892558\ttrain-clip-rmse:0.733908\tval-clip-rmse:0.892555\n",
      "[34]\ttrain-rmse:0.732074\tval-rmse:0.893316\ttrain-clip-rmse:0.732071\tval-clip-rmse:0.893311\n",
      "[35]\ttrain-rmse:0.729404\tval-rmse:0.894738\ttrain-clip-rmse:0.7294\tval-clip-rmse:0.894733\n",
      "[36]\ttrain-rmse:0.727842\tval-rmse:0.895882\ttrain-clip-rmse:0.727838\tval-clip-rmse:0.895877\n",
      "[37]\ttrain-rmse:0.726491\tval-rmse:0.895943\ttrain-clip-rmse:0.726485\tval-clip-rmse:0.895938\n",
      "[38]\ttrain-rmse:0.724835\tval-rmse:0.895953\ttrain-clip-rmse:0.724829\tval-clip-rmse:0.895948\n",
      "[39]\ttrain-rmse:0.723014\tval-rmse:0.896547\ttrain-clip-rmse:0.723007\tval-clip-rmse:0.896541\n",
      "[40]\ttrain-rmse:0.721838\tval-rmse:0.896922\ttrain-clip-rmse:0.72183\tval-clip-rmse:0.896915\n",
      "[41]\ttrain-rmse:0.720986\tval-rmse:0.898452\ttrain-clip-rmse:0.720977\tval-clip-rmse:0.898444\n",
      "[42]\ttrain-rmse:0.719399\tval-rmse:0.897973\ttrain-clip-rmse:0.719389\tval-clip-rmse:0.897964\n",
      "[43]\ttrain-rmse:0.718499\tval-rmse:0.898168\ttrain-clip-rmse:0.718488\tval-clip-rmse:0.898159\n",
      "[44]\ttrain-rmse:0.717361\tval-rmse:0.89805\ttrain-clip-rmse:0.717349\tval-clip-rmse:0.898041\n",
      "[45]\ttrain-rmse:0.716699\tval-rmse:0.897897\ttrain-clip-rmse:0.716686\tval-clip-rmse:0.897888\n",
      "[46]\ttrain-rmse:0.715861\tval-rmse:0.897915\ttrain-clip-rmse:0.715848\tval-clip-rmse:0.897905\n",
      "[47]\ttrain-rmse:0.715084\tval-rmse:0.897897\ttrain-clip-rmse:0.71507\tval-clip-rmse:0.897888\n",
      "[48]\ttrain-rmse:0.714385\tval-rmse:0.898299\ttrain-clip-rmse:0.714369\tval-clip-rmse:0.898289\n",
      "[49]\ttrain-rmse:0.71302\tval-rmse:0.898777\ttrain-clip-rmse:0.713003\tval-clip-rmse:0.898758\n",
      "CV repetition 1/4 finished, running time 18.445 min, val score 0.8988.\n",
      "------------------------------------\n",
      "\n",
      "[0]\ttrain-rmse:1.14594\tval-rmse:1.11598\ttrain-clip-rmse:1.14594\tval-clip-rmse:1.11598\n",
      "[1]\ttrain-rmse:1.09209\tval-rmse:1.0753\ttrain-clip-rmse:1.09209\tval-clip-rmse:1.0753\n",
      "[2]\ttrain-rmse:1.04625\tval-rmse:1.0441\ttrain-clip-rmse:1.04625\tval-clip-rmse:1.0441\n",
      "[3]\ttrain-rmse:1.00666\tval-rmse:1.0183\ttrain-clip-rmse:1.00666\tval-clip-rmse:1.0183\n",
      "[4]\ttrain-rmse:0.973705\tval-rmse:0.996315\ttrain-clip-rmse:0.973704\tval-clip-rmse:0.996315\n",
      "[5]\ttrain-rmse:0.945985\tval-rmse:0.979097\ttrain-clip-rmse:0.945985\tval-clip-rmse:0.979097\n",
      "[6]\ttrain-rmse:0.919773\tval-rmse:0.961284\ttrain-clip-rmse:0.919773\tval-clip-rmse:0.961284\n",
      "[7]\ttrain-rmse:0.896215\tval-rmse:0.947365\ttrain-clip-rmse:0.896215\tval-clip-rmse:0.947365\n",
      "[8]\ttrain-rmse:0.877749\tval-rmse:0.936984\ttrain-clip-rmse:0.877749\tval-clip-rmse:0.936984\n",
      "[9]\ttrain-rmse:0.860696\tval-rmse:0.927397\ttrain-clip-rmse:0.860696\tval-clip-rmse:0.927397\n",
      "[10]\ttrain-rmse:0.845816\tval-rmse:0.918777\ttrain-clip-rmse:0.845816\tval-clip-rmse:0.918777\n",
      "[11]\ttrain-rmse:0.832937\tval-rmse:0.913269\ttrain-clip-rmse:0.832937\tval-clip-rmse:0.913269\n",
      "[12]\ttrain-rmse:0.821765\tval-rmse:0.908436\ttrain-clip-rmse:0.821765\tval-clip-rmse:0.908436\n",
      "[13]\ttrain-rmse:0.811466\tval-rmse:0.903682\ttrain-clip-rmse:0.811466\tval-clip-rmse:0.903682\n",
      "[14]\ttrain-rmse:0.801718\tval-rmse:0.900703\ttrain-clip-rmse:0.801718\tval-clip-rmse:0.900703\n",
      "[15]\ttrain-rmse:0.794327\tval-rmse:0.897775\ttrain-clip-rmse:0.794327\tval-clip-rmse:0.897775\n",
      "[16]\ttrain-rmse:0.787486\tval-rmse:0.895814\ttrain-clip-rmse:0.787486\tval-clip-rmse:0.895814\n",
      "[17]\ttrain-rmse:0.781499\tval-rmse:0.893837\ttrain-clip-rmse:0.781499\tval-clip-rmse:0.893837\n",
      "[18]\ttrain-rmse:0.776066\tval-rmse:0.892862\ttrain-clip-rmse:0.776066\tval-clip-rmse:0.892862\n",
      "[19]\ttrain-rmse:0.771424\tval-rmse:0.891441\ttrain-clip-rmse:0.771424\tval-clip-rmse:0.891441\n",
      "[20]\ttrain-rmse:0.767164\tval-rmse:0.890391\ttrain-clip-rmse:0.767164\tval-clip-rmse:0.890391\n",
      "[21]\ttrain-rmse:0.763724\tval-rmse:0.889656\ttrain-clip-rmse:0.763724\tval-clip-rmse:0.889656\n",
      "[22]\ttrain-rmse:0.760732\tval-rmse:0.888999\ttrain-clip-rmse:0.760732\tval-clip-rmse:0.888999\n",
      "[23]\ttrain-rmse:0.757511\tval-rmse:0.888861\ttrain-clip-rmse:0.757511\tval-clip-rmse:0.888861\n",
      "[24]\ttrain-rmse:0.754267\tval-rmse:0.888226\ttrain-clip-rmse:0.754267\tval-clip-rmse:0.888226\n",
      "[25]\ttrain-rmse:0.751046\tval-rmse:0.888019\ttrain-clip-rmse:0.751046\tval-clip-rmse:0.888019\n",
      "[26]\ttrain-rmse:0.748253\tval-rmse:0.888221\ttrain-clip-rmse:0.748253\tval-clip-rmse:0.888221\n",
      "[27]\ttrain-rmse:0.745897\tval-rmse:0.887868\ttrain-clip-rmse:0.745896\tval-clip-rmse:0.887868\n",
      "[28]\ttrain-rmse:0.743144\tval-rmse:0.886802\ttrain-clip-rmse:0.743144\tval-clip-rmse:0.886802\n",
      "[29]\ttrain-rmse:0.741437\tval-rmse:0.886484\ttrain-clip-rmse:0.741437\tval-clip-rmse:0.886484\n",
      "[30]\ttrain-rmse:0.739262\tval-rmse:0.885706\ttrain-clip-rmse:0.739262\tval-clip-rmse:0.885706\n",
      "[31]\ttrain-rmse:0.737403\tval-rmse:0.885515\ttrain-clip-rmse:0.737402\tval-clip-rmse:0.885515\n",
      "[32]\ttrain-rmse:0.73557\tval-rmse:0.885684\ttrain-clip-rmse:0.735569\tval-clip-rmse:0.885679\n",
      "[33]\ttrain-rmse:0.733895\tval-rmse:0.885964\ttrain-clip-rmse:0.733894\tval-clip-rmse:0.885958\n",
      "[34]\ttrain-rmse:0.731584\tval-rmse:0.886048\ttrain-clip-rmse:0.731582\tval-clip-rmse:0.886047\n",
      "[35]\ttrain-rmse:0.729053\tval-rmse:0.88652\ttrain-clip-rmse:0.72905\tval-clip-rmse:0.88652\n",
      "[36]\ttrain-rmse:0.727073\tval-rmse:0.886557\ttrain-clip-rmse:0.727071\tval-clip-rmse:0.886556\n",
      "[37]\ttrain-rmse:0.72583\tval-rmse:0.886608\ttrain-clip-rmse:0.725827\tval-clip-rmse:0.886607\n",
      "[38]\ttrain-rmse:0.723099\tval-rmse:0.889126\ttrain-clip-rmse:0.723095\tval-clip-rmse:0.889125\n",
      "[39]\ttrain-rmse:0.722015\tval-rmse:0.889336\ttrain-clip-rmse:0.72201\tval-clip-rmse:0.889335\n"
     ]
    },
    {
     "name": "stdout",
     "output_type": "stream",
     "text": [
      "[40]\ttrain-rmse:0.721399\tval-rmse:0.889962\ttrain-clip-rmse:0.721394\tval-clip-rmse:0.889961\n",
      "[41]\ttrain-rmse:0.719729\tval-rmse:0.890504\ttrain-clip-rmse:0.719723\tval-clip-rmse:0.890502\n",
      "[42]\ttrain-rmse:0.718988\tval-rmse:0.890481\ttrain-clip-rmse:0.718981\tval-clip-rmse:0.890479\n",
      "[43]\ttrain-rmse:0.717922\tval-rmse:0.890572\ttrain-clip-rmse:0.717914\tval-clip-rmse:0.890571\n",
      "[44]\ttrain-rmse:0.716312\tval-rmse:0.891032\ttrain-clip-rmse:0.716303\tval-clip-rmse:0.891031\n",
      "[45]\ttrain-rmse:0.715157\tval-rmse:0.890056\ttrain-clip-rmse:0.715147\tval-clip-rmse:0.890054\n",
      "[46]\ttrain-rmse:0.713916\tval-rmse:0.890271\ttrain-clip-rmse:0.713905\tval-clip-rmse:0.890269\n",
      "[47]\ttrain-rmse:0.712915\tval-rmse:0.890329\ttrain-clip-rmse:0.712902\tval-clip-rmse:0.890327\n",
      "[48]\ttrain-rmse:0.712047\tval-rmse:0.890745\ttrain-clip-rmse:0.712034\tval-clip-rmse:0.890743\n",
      "[49]\ttrain-rmse:0.711058\tval-rmse:0.89153\ttrain-clip-rmse:0.711043\tval-clip-rmse:0.891527\n",
      "CV repetition 2/4 finished, running time 18.344 min, val score 0.8915.\n",
      "------------------------------------\n",
      "\n",
      "[0]\ttrain-rmse:1.14458\tval-rmse:1.11425\ttrain-clip-rmse:1.14458\tval-clip-rmse:1.11425\n",
      "[1]\ttrain-rmse:1.09179\tval-rmse:1.07813\ttrain-clip-rmse:1.09179\tval-clip-rmse:1.07813\n",
      "[2]\ttrain-rmse:1.04635\tval-rmse:1.04735\ttrain-clip-rmse:1.04635\tval-clip-rmse:1.04735\n",
      "[3]\ttrain-rmse:1.00676\tval-rmse:1.01865\ttrain-clip-rmse:1.00676\tval-clip-rmse:1.01865\n",
      "[4]\ttrain-rmse:0.971536\tval-rmse:0.997315\ttrain-clip-rmse:0.971536\tval-clip-rmse:0.997315\n",
      "[5]\ttrain-rmse:0.941662\tval-rmse:0.97865\ttrain-clip-rmse:0.941662\tval-clip-rmse:0.97865\n",
      "[6]\ttrain-rmse:0.916142\tval-rmse:0.96359\ttrain-clip-rmse:0.916142\tval-clip-rmse:0.96359\n",
      "[7]\ttrain-rmse:0.89381\tval-rmse:0.950392\ttrain-clip-rmse:0.89381\tval-clip-rmse:0.950392\n",
      "[8]\ttrain-rmse:0.875247\tval-rmse:0.939686\ttrain-clip-rmse:0.875247\tval-clip-rmse:0.939686\n",
      "[9]\ttrain-rmse:0.859734\tval-rmse:0.932024\ttrain-clip-rmse:0.859734\tval-clip-rmse:0.932024\n",
      "[10]\ttrain-rmse:0.84636\tval-rmse:0.923703\ttrain-clip-rmse:0.84636\tval-clip-rmse:0.923703\n",
      "[11]\ttrain-rmse:0.832756\tval-rmse:0.917661\ttrain-clip-rmse:0.832756\tval-clip-rmse:0.917661\n",
      "[12]\ttrain-rmse:0.822157\tval-rmse:0.912794\ttrain-clip-rmse:0.822157\tval-clip-rmse:0.912788\n",
      "[13]\ttrain-rmse:0.812117\tval-rmse:0.908284\ttrain-clip-rmse:0.812117\tval-clip-rmse:0.908276\n",
      "[14]\ttrain-rmse:0.804258\tval-rmse:0.904701\ttrain-clip-rmse:0.804258\tval-clip-rmse:0.904701\n",
      "[15]\ttrain-rmse:0.797133\tval-rmse:0.901734\ttrain-clip-rmse:0.797133\tval-clip-rmse:0.901734\n",
      "[16]\ttrain-rmse:0.790136\tval-rmse:0.899859\ttrain-clip-rmse:0.790136\tval-clip-rmse:0.899859\n",
      "[17]\ttrain-rmse:0.784113\tval-rmse:0.898234\ttrain-clip-rmse:0.784113\tval-clip-rmse:0.898234\n",
      "[18]\ttrain-rmse:0.778685\tval-rmse:0.896869\ttrain-clip-rmse:0.778685\tval-clip-rmse:0.896869\n",
      "[19]\ttrain-rmse:0.774536\tval-rmse:0.895869\ttrain-clip-rmse:0.774536\tval-clip-rmse:0.895869\n",
      "[20]\ttrain-rmse:0.770121\tval-rmse:0.894995\ttrain-clip-rmse:0.770121\tval-clip-rmse:0.894995\n",
      "[21]\ttrain-rmse:0.7663\tval-rmse:0.893553\ttrain-clip-rmse:0.7663\tval-clip-rmse:0.893553\n",
      "[22]\ttrain-rmse:0.762543\tval-rmse:0.893123\ttrain-clip-rmse:0.762543\tval-clip-rmse:0.893123\n",
      "[23]\ttrain-rmse:0.759229\tval-rmse:0.893048\ttrain-clip-rmse:0.759229\tval-clip-rmse:0.893048\n",
      "[24]\ttrain-rmse:0.755098\tval-rmse:0.892737\ttrain-clip-rmse:0.755098\tval-clip-rmse:0.892722\n",
      "[25]\ttrain-rmse:0.752264\tval-rmse:0.892723\ttrain-clip-rmse:0.752263\tval-clip-rmse:0.892706\n",
      "[26]\ttrain-rmse:0.750038\tval-rmse:0.892674\ttrain-clip-rmse:0.750037\tval-clip-rmse:0.892657\n",
      "[27]\ttrain-rmse:0.746742\tval-rmse:0.892025\ttrain-clip-rmse:0.746742\tval-clip-rmse:0.892007\n",
      "[28]\ttrain-rmse:0.744972\tval-rmse:0.892083\ttrain-clip-rmse:0.744971\tval-clip-rmse:0.892067\n",
      "[29]\ttrain-rmse:0.742409\tval-rmse:0.890076\ttrain-clip-rmse:0.742409\tval-clip-rmse:0.890058\n",
      "[30]\ttrain-rmse:0.740083\tval-rmse:0.890176\ttrain-clip-rmse:0.740083\tval-clip-rmse:0.890158\n",
      "[31]\ttrain-rmse:0.73803\tval-rmse:0.891502\ttrain-clip-rmse:0.738029\tval-clip-rmse:0.891485\n",
      "[32]\ttrain-rmse:0.736548\tval-rmse:0.891682\ttrain-clip-rmse:0.736547\tval-clip-rmse:0.891651\n",
      "[33]\ttrain-rmse:0.73476\tval-rmse:0.891373\ttrain-clip-rmse:0.734759\tval-clip-rmse:0.891342\n",
      "[34]\ttrain-rmse:0.73313\tval-rmse:0.891349\ttrain-clip-rmse:0.733129\tval-clip-rmse:0.891318\n",
      "[35]\ttrain-rmse:0.731263\tval-rmse:0.892227\ttrain-clip-rmse:0.731262\tval-clip-rmse:0.892196\n",
      "[36]\ttrain-rmse:0.72962\tval-rmse:0.892505\ttrain-clip-rmse:0.729619\tval-clip-rmse:0.892474\n",
      "[37]\ttrain-rmse:0.72831\tval-rmse:0.892764\ttrain-clip-rmse:0.728307\tval-clip-rmse:0.892732\n",
      "[38]\ttrain-rmse:0.727498\tval-rmse:0.892989\ttrain-clip-rmse:0.727496\tval-clip-rmse:0.892958\n",
      "[39]\ttrain-rmse:0.726655\tval-rmse:0.89275\ttrain-clip-rmse:0.726652\tval-clip-rmse:0.892718\n",
      "[40]\ttrain-rmse:0.725698\tval-rmse:0.893017\ttrain-clip-rmse:0.725695\tval-clip-rmse:0.892985\n",
      "[41]\ttrain-rmse:0.723746\tval-rmse:0.892843\ttrain-clip-rmse:0.723741\tval-clip-rmse:0.892811\n",
      "[42]\ttrain-rmse:0.722559\tval-rmse:0.893959\ttrain-clip-rmse:0.722554\tval-clip-rmse:0.89392\n",
      "[43]\ttrain-rmse:0.721531\tval-rmse:0.893829\ttrain-clip-rmse:0.721525\tval-clip-rmse:0.893789\n",
      "[44]\ttrain-rmse:0.720601\tval-rmse:0.894721\ttrain-clip-rmse:0.720593\tval-clip-rmse:0.89468\n",
      "[45]\ttrain-rmse:0.71982\tval-rmse:0.895403\ttrain-clip-rmse:0.719812\tval-clip-rmse:0.895362\n",
      "[46]\ttrain-rmse:0.718943\tval-rmse:0.895442\ttrain-clip-rmse:0.718935\tval-clip-rmse:0.895401\n",
      "[47]\ttrain-rmse:0.717166\tval-rmse:0.897629\ttrain-clip-rmse:0.717157\tval-clip-rmse:0.897586\n",
      "[48]\ttrain-rmse:0.715999\tval-rmse:0.897976\ttrain-clip-rmse:0.715989\tval-clip-rmse:0.897924\n",
      "[49]\ttrain-rmse:0.715397\tval-rmse:0.897912\ttrain-clip-rmse:0.715386\tval-clip-rmse:0.897859\n",
      "CV repetition 3/4 finished, running time 17.720 min, val score 0.8979.\n",
      "------------------------------------\n",
      "\n",
      "[0]\ttrain-rmse:1.14708\tval-rmse:1.11914\ttrain-clip-rmse:1.14708\tval-clip-rmse:1.11914\n",
      "[1]\ttrain-rmse:1.09287\tval-rmse:1.08207\ttrain-clip-rmse:1.09287\tval-clip-rmse:1.08207\n",
      "[2]\ttrain-rmse:1.04699\tval-rmse:1.05027\ttrain-clip-rmse:1.04699\tval-clip-rmse:1.05027\n",
      "[3]\ttrain-rmse:1.00796\tval-rmse:1.02189\ttrain-clip-rmse:1.00796\tval-clip-rmse:1.02189\n",
      "[4]\ttrain-rmse:0.972871\tval-rmse:0.996181\ttrain-clip-rmse:0.972871\tval-clip-rmse:0.996181\n",
      "[5]\ttrain-rmse:0.943515\tval-rmse:0.974529\ttrain-clip-rmse:0.943515\tval-clip-rmse:0.974529\n",
      "[6]\ttrain-rmse:0.917784\tval-rmse:0.959297\ttrain-clip-rmse:0.917784\tval-clip-rmse:0.959297\n",
      "[7]\ttrain-rmse:0.89615\tval-rmse:0.946149\ttrain-clip-rmse:0.89615\tval-clip-rmse:0.946149\n",
      "[8]\ttrain-rmse:0.877712\tval-rmse:0.936061\ttrain-clip-rmse:0.877712\tval-clip-rmse:0.936061\n",
      "[9]\ttrain-rmse:0.861539\tval-rmse:0.927434\ttrain-clip-rmse:0.861539\tval-clip-rmse:0.927434\n",
      "[10]\ttrain-rmse:0.847537\tval-rmse:0.920743\ttrain-clip-rmse:0.847536\tval-clip-rmse:0.920743\n",
      "[11]\ttrain-rmse:0.835337\tval-rmse:0.915467\ttrain-clip-rmse:0.835337\tval-clip-rmse:0.915467\n",
      "[12]\ttrain-rmse:0.824229\tval-rmse:0.911131\ttrain-clip-rmse:0.824229\tval-clip-rmse:0.911131\n",
      "[13]\ttrain-rmse:0.814194\tval-rmse:0.907497\ttrain-clip-rmse:0.814194\tval-clip-rmse:0.907497\n",
      "[14]\ttrain-rmse:0.806034\tval-rmse:0.904191\ttrain-clip-rmse:0.806034\tval-clip-rmse:0.904191\n",
      "[15]\ttrain-rmse:0.797496\tval-rmse:0.902156\ttrain-clip-rmse:0.797496\tval-clip-rmse:0.902156\n",
      "[16]\ttrain-rmse:0.791009\tval-rmse:0.899867\ttrain-clip-rmse:0.791009\tval-clip-rmse:0.899867\n",
      "[17]\ttrain-rmse:0.785339\tval-rmse:0.89796\ttrain-clip-rmse:0.785339\tval-clip-rmse:0.89796\n",
      "[18]\ttrain-rmse:0.779709\tval-rmse:0.89629\ttrain-clip-rmse:0.779709\tval-clip-rmse:0.89629\n",
      "[19]\ttrain-rmse:0.774854\tval-rmse:0.894861\ttrain-clip-rmse:0.774854\tval-clip-rmse:0.89486\n",
      "[20]\ttrain-rmse:0.770411\tval-rmse:0.89452\ttrain-clip-rmse:0.770411\tval-clip-rmse:0.89452\n",
      "[21]\ttrain-rmse:0.766625\tval-rmse:0.89413\ttrain-clip-rmse:0.766625\tval-clip-rmse:0.89413\n",
      "[22]\ttrain-rmse:0.762235\tval-rmse:0.893283\ttrain-clip-rmse:0.762234\tval-clip-rmse:0.893283\n",
      "[23]\ttrain-rmse:0.758662\tval-rmse:0.892453\ttrain-clip-rmse:0.758661\tval-clip-rmse:0.892452\n",
      "[24]\ttrain-rmse:0.755289\tval-rmse:0.892031\ttrain-clip-rmse:0.755289\tval-clip-rmse:0.892031\n",
      "[25]\ttrain-rmse:0.751872\tval-rmse:0.892058\ttrain-clip-rmse:0.751871\tval-clip-rmse:0.892058\n",
      "[26]\ttrain-rmse:0.748163\tval-rmse:0.891705\ttrain-clip-rmse:0.748162\tval-clip-rmse:0.891704\n",
      "[27]\ttrain-rmse:0.746179\tval-rmse:0.891795\ttrain-clip-rmse:0.746178\tval-clip-rmse:0.891795\n",
      "[28]\ttrain-rmse:0.743976\tval-rmse:0.892239\ttrain-clip-rmse:0.743974\tval-clip-rmse:0.892239\n"
     ]
    },
    {
     "name": "stdout",
     "output_type": "stream",
     "text": [
      "[29]\ttrain-rmse:0.741977\tval-rmse:0.89208\ttrain-clip-rmse:0.741975\tval-clip-rmse:0.892079\n",
      "[30]\ttrain-rmse:0.739577\tval-rmse:0.891221\ttrain-clip-rmse:0.739575\tval-clip-rmse:0.891221\n",
      "[31]\ttrain-rmse:0.736931\tval-rmse:0.891815\ttrain-clip-rmse:0.736929\tval-clip-rmse:0.891814\n",
      "[32]\ttrain-rmse:0.734701\tval-rmse:0.891958\ttrain-clip-rmse:0.734699\tval-clip-rmse:0.891957\n",
      "[33]\ttrain-rmse:0.733255\tval-rmse:0.892448\ttrain-clip-rmse:0.733252\tval-clip-rmse:0.892448\n",
      "[34]\ttrain-rmse:0.73067\tval-rmse:0.893024\ttrain-clip-rmse:0.730666\tval-clip-rmse:0.893024\n",
      "[35]\ttrain-rmse:0.729105\tval-rmse:0.893564\ttrain-clip-rmse:0.729101\tval-clip-rmse:0.893564\n",
      "[36]\ttrain-rmse:0.727574\tval-rmse:0.893308\ttrain-clip-rmse:0.727569\tval-clip-rmse:0.893308\n",
      "[37]\ttrain-rmse:0.726225\tval-rmse:0.892855\ttrain-clip-rmse:0.726219\tval-clip-rmse:0.892854\n",
      "[38]\ttrain-rmse:0.724487\tval-rmse:0.893283\ttrain-clip-rmse:0.724481\tval-clip-rmse:0.893281\n",
      "[39]\ttrain-rmse:0.723253\tval-rmse:0.893233\ttrain-clip-rmse:0.723247\tval-clip-rmse:0.893231\n",
      "[40]\ttrain-rmse:0.721953\tval-rmse:0.893448\ttrain-clip-rmse:0.721946\tval-clip-rmse:0.893446\n",
      "[41]\ttrain-rmse:0.720668\tval-rmse:0.893528\ttrain-clip-rmse:0.720659\tval-clip-rmse:0.893527\n",
      "[42]\ttrain-rmse:0.719749\tval-rmse:0.893186\ttrain-clip-rmse:0.71974\tval-clip-rmse:0.893184\n",
      "[43]\ttrain-rmse:0.718802\tval-rmse:0.892897\ttrain-clip-rmse:0.718792\tval-clip-rmse:0.892895\n",
      "[44]\ttrain-rmse:0.717985\tval-rmse:0.893215\ttrain-clip-rmse:0.717973\tval-clip-rmse:0.893213\n",
      "[45]\ttrain-rmse:0.716802\tval-rmse:0.893255\ttrain-clip-rmse:0.716788\tval-clip-rmse:0.893252\n",
      "[46]\ttrain-rmse:0.715906\tval-rmse:0.893217\ttrain-clip-rmse:0.715891\tval-clip-rmse:0.893214\n",
      "[47]\ttrain-rmse:0.715055\tval-rmse:0.892678\ttrain-clip-rmse:0.715039\tval-clip-rmse:0.892675\n",
      "[48]\ttrain-rmse:0.714038\tval-rmse:0.892899\ttrain-clip-rmse:0.714022\tval-clip-rmse:0.892896\n",
      "[49]\ttrain-rmse:0.713088\tval-rmse:0.893042\ttrain-clip-rmse:0.713071\tval-clip-rmse:0.893038\n",
      "CV repetition 4/4 finished, running time 17.929 min, val score 0.8930.\n",
      "------------------------------------\n",
      "\n"
     ]
    }
   ],
   "source": [
    "if True:\n",
    "    dtrain = xgb.DMatrix(x_train, y_train)\n",
    "    dval = xgb.DMatrix(x_val, y_val)\n",
    "    cv_results = {}\n",
    "    cv_bst = {}\n",
    "    np.random.seed(429578)\n",
    "    for n in range(n_repetition):\n",
    "        time_start = time.time()\n",
    "        param['seed'] = np.random.randint(10**6)\n",
    "        cv_results[n] = {}\n",
    "        cv_bst[n] = xgb.train(param, dtrain,num_boost_round=n_tree, \n",
    "            evals=[(dtrain, 'train'), (dval, 'val')], \n",
    "            feval=clip_rmse, maximize=False, early_stopping_rounds=None, \n",
    "            evals_result=cv_results[n], verbose_eval=verbose)\n",
    "        running_time = time.time() - time_start\n",
    "        print('CV repetition {}/{} finished, running time {:.3f} min, val score {:.4f}.'.format(n+1, n_repetition, \n",
    "            running_time/60, cv_results[n]['val']['clip-rmse'][-1]))\n",
    "        print('------------------------------------\\n')"
   ]
  },
  {
   "cell_type": "markdown",
   "metadata": {},
   "source": [
    "CV history"
   ]
  },
  {
   "cell_type": "code",
   "execution_count": 40,
   "metadata": {},
   "outputs": [
    {
     "data": {
      "image/png": "[encoded data removed]",
      "text/plain": [
       "<Figure size 1152x648 with 1 Axes>"
      ]
     },
     "metadata": {},
     "output_type": "display_data"
    }
   ],
   "source": [
    "if True:\n",
    "    tmp = pd.DataFrame({(d, k): cv_results[k][d]['clip-rmse'] \n",
    "        for k, d in itertools.product(range(n_repetition), ['train', 'val'])})\n",
    "    tmp[[('train', 'mean'), ('val', 'mean')]] = tmp.mean(axis=1, level=0)\n",
    "    tmp[[('train', 'std'), ('val', 'std')]] = tmp.std(axis=1, level=0)\n",
    "    tmp.drop([0, 1], axis=1, level=1, inplace=True)\n",
    "\n",
    "    cv_history = tmp.copy()\n",
    "    \n",
    "    plt.figure(figsize=(16, 9))\n",
    "    plt.plot(np.arange(n_tree), cv_history[('train', 'mean')])\n",
    "    plt.fill_between(np.arange(n_tree), \n",
    "        cv_history[('train', 'mean')]-cv_history[('train', 'std')], \n",
    "        cv_history[('train', 'mean')]+cv_history[('train', 'std')],\n",
    "        alpha=0.5)\n",
    "    plt.plot(np.arange(n_tree), cv_history[('val', 'mean')])\n",
    "    plt.fill_between(np.arange(n_tree), \n",
    "        cv_history[('val', 'mean')]-cv_history[('val', 'std')], \n",
    "        cv_history[('val', 'mean')]+cv_history[('val', 'std')],\n",
    "        alpha=0.5)\n",
    "    plt.grid()"
   ]
  },
  {
   "cell_type": "markdown",
   "metadata": {},
   "source": [
    "Feature importance"
   ]
  },
  {
   "cell_type": "code",
   "execution_count": 41,
   "metadata": {},
   "outputs": [],
   "source": [
    "if True:\n",
    "    feature_importance = pd.DataFrame({k: cv_bst[k].get_score(importance_type='gain') for k in cv_bst.keys()})\n",
    "    feature_importance['mean'] = feature_importance.mean(axis=1)\n",
    "    feature_importance['std'] = feature_importance.std(axis=1)\n",
    "    feature_importance.drop(np.arange(n_repetition), axis=1, inplace=True)\n",
    "    feature_importance.sort_values('mean', axis=0, inplace=True, ascending=False)\n",
    "    feature_importance.to_csv('eda_11_7_feature_importance.csv')"
   ]
  },
  {
   "cell_type": "markdown",
   "metadata": {},
   "source": [
    "Plot feature importance"
   ]
  },
  {
   "cell_type": "code",
   "execution_count": 42,
   "metadata": {},
   "outputs": [
    {
     "data": {
      "image/png": "[encoded data removed]",
      "text/plain": [
       "<Figure size 1728x1728 with 1 Axes>"
      ]
     },
     "metadata": {},
     "output_type": "display_data"
    }
   ],
   "source": [
    "if True:\n",
    "    plt.rcParams.update({'font.size': 18})\n",
    "    plt.figure(figsize=(24, 24))\n",
    "    plt.barh(feature_importance.index, feature_importance.iloc[:, 0], xerr=feature_importance.iloc[:, 1])\n",
    "    plt.gca().invert_yaxis()"
   ]
  },
  {
   "cell_type": "markdown",
   "metadata": {},
   "source": [
    "Train and submit"
   ]
  },
  {
   "cell_type": "code",
   "execution_count": 43,
   "metadata": {},
   "outputs": [],
   "source": [
    "if False:\n",
    "    n_tree=20\n",
    "    x_train = x.loc[(x['month']<=33) & (x['month']>=12), :].copy()\n",
    "    x_test = x.loc[x['month']==34, :].copy()\n",
    "\n",
    "    # Drop target from test set\n",
    "    x_test.drop(['sales_month'], axis=1, inplace=True)\n",
    "\n",
    "    y_train = x_train['sales_month'].clip(0, 40)\n",
    "    x_train.drop(['sales_month'], axis=1, inplace=True)\n",
    "    \n",
    "    dtrain = xgb.DMatrix(x_train, y_train)\n",
    "    bst = xgb.train(param, dtrain, num_boost_round=n_tree, \n",
    "                    evals=[(dtrain, 'train')], feval=clip_rmse, maximize=False,\n",
    "                    verbose_eval=True)\n",
    "\n",
    "    preds = bst.predict(xgb.DMatrix(x_test))\n",
    "    preds = list(map(lambda x: min(20, max(x, 0)), list(preds)))\n",
    "    sub_df = pd.DataFrame({'ID': test.index, 'item_cnt_month': preds})\n",
    "    sub_df.to_csv('eda_11_7_submit.csv', index=False)"
   ]
  },
  {
   "cell_type": "markdown",
   "metadata": {},
   "source": [
    "Ensemble training"
   ]
  },
  {
   "cell_type": "code",
   "execution_count": null,
   "metadata": {},
   "outputs": [],
   "source": [
    "if True:\n",
    "    n_tree = 30\n",
    "    x_train = x.loc[(x['month']<=33) & (x['month']>=12), :].copy()\n",
    "    x_test = x.loc[x['month']==34, :].copy()\n",
    "\n",
    "    # Drop target from test set\n",
    "    x_test.drop(['sales_month'], axis=1, inplace=True)\n",
    "\n",
    "    y_train = x_train['sales_month'].clip(0, 40)\n",
    "    x_train.drop(['sales_month'], axis=1, inplace=True)\n",
    "        \n",
    "    dtrain = xgb.DMatrix(x_train, y_train)\n",
    "    dtest = xgb.DMatrix(x_test)\n",
    "    \n",
    "    preds_ensemble = []\n",
    "    \n",
    "    for n in range(n_repetition):\n",
    "        bst = xgb.train(param, dtrain, num_boost_round=n_tree, \n",
    "                        evals=[(dtrain, 'train')], feval=clip_rmse, maximize=False,\n",
    "                        verbose_eval=True)\n",
    "        preds = bst.predict(dtest)\n",
    "        preds = list(map(lambda x: min(20, max(x, 0)), list(preds)))\n",
    "        preds_ensemble.append(preds)\n",
    "    \n",
    "    sub_df = np.array(preds_ensemble).mean(axis=0)\n",
    "    sub_df = pd.DataFrame({'ID': test.index, 'item_cnt_month': sub_df})\n",
    "    sub_df.to_csv('eda_11_7_submit.csv', index=False)"
   ]
  }
 ],
 "metadata": {
  "kernelspec": {
   "display_name": "Python 3",
   "language": "python",
   "name": "python3"
  },
  "language_info": {
   "codemirror_mode": {
    "name": "ipython",
    "version": 3
   },
   "file_extension": ".py",
   "mimetype": "text/x-python",
   "name": "python",
   "nbconvert_exporter": "python",
   "pygments_lexer": "ipython3",
   "version": "3.6.6"
  }
 },
 "nbformat": 4,
 "nbformat_minor": 2
}
