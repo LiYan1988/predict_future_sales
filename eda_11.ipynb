{
 "cells": [
  {
   "cell_type": "code",
   "execution_count": 1,
   "metadata": {},
   "outputs": [],
   "source": [
    "import numpy as np\n",
    "import pandas as pd\n",
    "import matplotlib.pyplot as plt\n",
    "import os\n",
    "import gc\n",
    "import sys\n",
    "import time\n",
    "import gc\n",
    "import itertools\n",
    "import tqdm\n",
    "import time\n",
    "\n",
    "from sklearn.preprocessing import LabelEncoder\n",
    "import scipy.stats as ss\n",
    "\n",
    "if os.name=='nt':\n",
    "    try:\n",
    "        mingw_path = 'C:\\\\Program Files\\\\mingw-w64\\\\x86_64-8.1.0-posix-seh-rt_v6-rev0\\\\mingw64\\\\bin'\n",
    "        os.environ['PATH'] = mingw_path + ';' + os.environ['PATH']\n",
    "    except:\n",
    "        pass\n",
    "    \n",
    "import xgboost as xgb\n",
    "from sklearn.metrics import mean_squared_error \n",
    "from numba import jit\n",
    "\n",
    "%matplotlib inline"
   ]
  },
  {
   "cell_type": "code",
   "execution_count": 2,
   "metadata": {},
   "outputs": [],
   "source": [
    "# Load data\n",
    "train = pd.read_csv('all/sales_train.csv.gz')\n",
    "test = pd.read_csv('all/test.csv.gz')\n",
    "shop = pd.read_csv('all/shops-translated.csv')\n",
    "item = pd.read_csv('all/item_category.csv')\n",
    "\n",
    "test.set_index('ID', inplace=True)\n",
    "item.drop(['item_name_translated'], axis=1, inplace=True)\n",
    "shop.drop(['Name'], axis=1, inplace=True)\n",
    "\n",
    "le = LabelEncoder()\n",
    "item['item_cat1'] = le.fit_transform(item['item_cat1'].astype(str))\n",
    "item['item_cat2'] = le.fit_transform(item['item_cat2'].astype(str))\n",
    "shop['City'] = le.fit_transform(shop['City'])\n",
    "shop['Type'] = le.fit_transform(shop['Type'])\n",
    "\n",
    "# test = test.merge(item, on='item_id', how='left')\n",
    "# test = test.merge(shop, on='shop_id', how='left')"
   ]
  },
  {
   "cell_type": "code",
   "execution_count": 3,
   "metadata": {},
   "outputs": [],
   "source": [
    "# count of sales per month\n",
    "cnt = train.pivot_table(index=['shop_id', 'item_id'],\n",
    "                        columns=['date_block_num'],\n",
    "                        values='item_cnt_day',\n",
    "                        aggfunc='sum').fillna(0.0)\n",
    "\n",
    "cnt = test.join(cnt, on=['shop_id', 'item_id'], how='left').fillna(0.0)\n",
    "cnt.drop(['shop_id', 'item_id'], axis=1, inplace=True)\n",
    "cnt.columns = ['cnt_'+str(k) for k in cnt.columns]"
   ]
  },
  {
   "cell_type": "code",
   "execution_count": 4,
   "metadata": {},
   "outputs": [],
   "source": [
    "# total value of sales per month\n",
    "train['sales'] = train['item_cnt_day']*train['item_price']\n",
    "sales = train.pivot_table(index=['shop_id', 'item_id'],\n",
    "                         columns='date_block_num',\n",
    "                         values='sales',\n",
    "                         aggfunc=np.sum).fillna(0.0)\n",
    "\n",
    "sales = test.join(sales, on=['shop_id', 'item_id'], how='left').fillna(0.0)\n",
    "sales.drop(['shop_id', 'item_id'], axis=1, inplace=True)\n",
    "sales.columns = ['sales_'+str(k) for k in sales.columns]"
   ]
  },
  {
   "cell_type": "code",
   "execution_count": 5,
   "metadata": {},
   "outputs": [],
   "source": [
    "test_shop_item = test.merge(shop, on=['shop_id'], how='left')\n",
    "test_shop_item = test_shop_item.merge(item, on=['item_id'], how='left')"
   ]
  },
  {
   "cell_type": "markdown",
   "metadata": {},
   "source": [
    "### Mean Encoding"
   ]
  },
  {
   "cell_type": "code",
   "execution_count": 6,
   "metadata": {},
   "outputs": [],
   "source": [
    "# Apply pivot table with combinations of the following parameters\n",
    "index_list = ['item_id', 'shop_id', 'City', 'Type', 'item_cat1', 'item_cat2']\n",
    "column_list = ['date_block_num']\n",
    "value_list = ['item_price', 'item_cnt_day'] # ['item_price', 'item_cnt_day', 'sales']\n",
    "aggfunc_list = [np.sum, np.mean]"
   ]
  },
  {
   "cell_type": "code",
   "execution_count": 7,
   "metadata": {},
   "outputs": [],
   "source": [
    "x = train.merge(shop, on='shop_id', how='left')\n",
    "x = x.merge(item, on='item_id', how='left')"
   ]
  },
  {
   "cell_type": "code",
   "execution_count": 8,
   "metadata": {},
   "outputs": [],
   "source": [
    "cols_drop = ['shop_id', 'item_id', 'City', 'Type', 'item_cat1', 'item_cat2']"
   ]
  },
  {
   "cell_type": "code",
   "execution_count": 9,
   "metadata": {},
   "outputs": [
    {
     "data": {
      "application/vnd.jupyter.widget-view+json": {
       "model_id": "0b96ace3dee54b2aa73b6ba9700a230f",
       "version_major": 2,
       "version_minor": 0
      },
      "text/plain": [
       "HBox(children=(IntProgress(value=0, max=24), HTML(value='')))"
      ]
     },
     "metadata": {},
     "output_type": "display_data"
    },
    {
     "name": "stdout",
     "output_type": "stream",
     "text": [
      "\n"
     ]
    }
   ],
   "source": [
    "feature_dict2 = {}\n",
    "for idx, col, val, agf in tqdm.tqdm_notebook(list(itertools.product(index_list, column_list, value_list, aggfunc_list))):\n",
    "    tmp = x.pivot_table(index=idx, columns=col, values=val, aggfunc=agf).fillna(0.0)\n",
    "    tmp_name = '-'.join([idx, val, str(agf).split(' ')[1]])\n",
    "    tmp.columns = [tmp_name+'_'+str(k) for k in tmp.columns]\n",
    "    tmp = test_shop_item.merge(tmp, on=idx, how='left').fillna(0.0)\n",
    "    tmp.drop(cols_drop, axis=1, inplace=True)\n",
    "    feature_dict2[tmp_name] = tmp"
   ]
  },
  {
   "cell_type": "code",
   "execution_count": 10,
   "metadata": {},
   "outputs": [
    {
     "data": {
      "text/plain": [
       "dict_keys(['item_id-item_price-sum', 'item_id-item_price-mean', 'item_id-item_cnt_day-sum', 'item_id-item_cnt_day-mean', 'shop_id-item_price-sum', 'shop_id-item_price-mean', 'shop_id-item_cnt_day-sum', 'shop_id-item_cnt_day-mean', 'City-item_price-sum', 'City-item_price-mean', 'City-item_cnt_day-sum', 'City-item_cnt_day-mean', 'Type-item_price-sum', 'Type-item_price-mean', 'Type-item_cnt_day-sum', 'Type-item_cnt_day-mean', 'item_cat1-item_price-sum', 'item_cat1-item_price-mean', 'item_cat1-item_cnt_day-sum', 'item_cat1-item_cnt_day-mean', 'item_cat2-item_price-sum', 'item_cat2-item_price-mean', 'item_cat2-item_cnt_day-sum', 'item_cat2-item_cnt_day-mean'])"
      ]
     },
     "execution_count": 10,
     "metadata": {},
     "output_type": "execute_result"
    }
   ],
   "source": [
    "feature_dict2.keys()"
   ]
  },
  {
   "cell_type": "markdown",
   "metadata": {},
   "source": [
    "### CV"
   ]
  },
  {
   "cell_type": "code",
   "execution_count": 11,
   "metadata": {},
   "outputs": [],
   "source": [
    "month_in_model = 31\n",
    "month_in_cv = list(range(month_in_model, 34))\n",
    "cols_train = {k: list(range(k-month_in_model, k)) for k in month_in_cv}"
   ]
  },
  {
   "cell_type": "code",
   "execution_count": 12,
   "metadata": {},
   "outputs": [
    {
     "name": "stdout",
     "output_type": "stream",
     "text": [
      "31\n",
      "32\n",
      "33\n"
     ]
    }
   ],
   "source": [
    "#x_train = {k: pd.concat((test_shop_item, \n",
    "#           cnt.iloc[:, cols_train[k]], \n",
    "#           sales.iloc[:, cols_train[k]]), \n",
    "#           axis=1, sort=False) for k in month_in_cv}\n",
    "# x_train = {m: pd.concat()for m in month_in_cv}\n",
    "x_train = {}\n",
    "for m in month_in_cv:\n",
    "    print(m)\n",
    "    df_list = [test_shop_item, \n",
    "               cnt.iloc[:, cols_train[m]], \n",
    "               sales.iloc[:, cols_train[m]]]\n",
    "    df_list.extend([feature_dict2[k].iloc[:, cols_train[m]] \n",
    "                    for k in feature_dict2.keys()])\n",
    "    x_train[m] = pd.concat(df_list, axis=1, sort=False).values\n",
    "y_train = {k: cnt.iloc[:, k].values for k in month_in_cv}"
   ]
  },
  {
   "cell_type": "code",
   "execution_count": 13,
   "metadata": {},
   "outputs": [],
   "source": [
    "def clip_rmse(preds, dtrain):\n",
    "    y_test = np.array(dtrain.get_label())\n",
    "    preds = np.array(preds)\n",
    "    y_test = np.maximum(np.minimum(y_test, 20), 0)\n",
    "    preds = np.maximum(np.minimum(preds, 20), 0)\n",
    "    #preds = np.array(list(map(lambda x: min(20, max(x, 0)), list(preds))))\n",
    "    #y_test = np.array(list(map(lambda x: min(20, max(x, 0)), list(y_test))))\n",
    "    rmse = np.sqrt(mean_squared_error(preds,y_test))\n",
    "    return 'clip-rmse', rmse"
   ]
  },
  {
   "cell_type": "code",
   "execution_count": 14,
   "metadata": {},
   "outputs": [],
   "source": [
    "def cv(param, n_tree, x_train, y_train, month_in_cv, verbose=False):\n",
    "    '''CV'''\n",
    "    progress = dict()\n",
    "    \n",
    "    for m in month_in_cv[:-1]:\n",
    "        print('CV of month {} is started.'.format(m))\n",
    "        time_start = time.time()\n",
    "        progress[m] = {}\n",
    "        dtrain = xgb.DMatrix(x_train[m], y_train[m], nthread=-1)\n",
    "        dval = xgb.DMatrix(x_train[m+1], y_train[m+1], nthread=-1)\n",
    "        watchlist = [(dtrain, 'train'), (dval, 'val')]\n",
    "        \n",
    "        bst = xgb.train(param, \n",
    "                        dtrain, \n",
    "                        evals=watchlist,\n",
    "                        evals_result=progress[m], \n",
    "                        verbose_eval=verbose,\n",
    "                        num_boost_round=n_tree,\n",
    "                        feval=clip_rmse)\n",
    "        \n",
    "        time_end = time.time()\n",
    "        \n",
    "        print('CV of month {} is finished, uses {:.2f} sec, clip-rmse on val {:.2f}\\n'.format(m, \n",
    "            time_end-time_start, progress[m]['val']['clip-rmse'][-1]))\n",
    "        \n",
    "    progress = {m: {'train': progress[m]['train']['clip-rmse'], \n",
    "            'val': progress[m]['val']['clip-rmse']} \n",
    "        for m in progress.keys()}\n",
    "    progress = pd.DataFrame({(m, k): progress[m][k] \n",
    "                             for m in progress.keys() \n",
    "                             for k in progress[m].keys()})\n",
    "    return progress"
   ]
  },
  {
   "cell_type": "code",
   "execution_count": 20,
   "metadata": {},
   "outputs": [
    {
     "name": "stdout",
     "output_type": "stream",
     "text": [
      "CV of month 31 is started.\n",
      "[0]\ttrain-rmse:2.11766\tval-rmse:2.47877\ttrain-clip-rmse:1.03168\tval-clip-rmse:1.12712\n",
      "[1]\ttrain-rmse:2.07722\tval-rmse:2.44856\ttrain-clip-rmse:1.00591\tval-clip-rmse:1.11261\n",
      "[2]\ttrain-rmse:2.03778\tval-rmse:2.41539\ttrain-clip-rmse:0.983276\tval-clip-rmse:1.09895\n",
      "[3]\ttrain-rmse:2.00042\tval-rmse:2.38964\ttrain-clip-rmse:0.963761\tval-clip-rmse:1.08781\n",
      "[4]\ttrain-rmse:1.96105\tval-rmse:2.3634\ttrain-clip-rmse:0.942438\tval-clip-rmse:1.07671\n",
      "[5]\ttrain-rmse:1.92275\tval-rmse:2.33782\ttrain-clip-rmse:0.92242\tval-clip-rmse:1.06653\n",
      "[6]\ttrain-rmse:1.88705\tval-rmse:2.31631\ttrain-clip-rmse:0.905522\tval-clip-rmse:1.05694\n",
      "[7]\ttrain-rmse:1.85291\tval-rmse:2.29236\ttrain-clip-rmse:0.88753\tval-clip-rmse:1.04999\n",
      "[8]\ttrain-rmse:1.81774\tval-rmse:2.26481\ttrain-clip-rmse:0.870646\tval-clip-rmse:1.04238\n",
      "[9]\ttrain-rmse:1.7826\tval-rmse:2.24279\ttrain-clip-rmse:0.853913\tval-clip-rmse:1.03592\n",
      "[10]\ttrain-rmse:1.74866\tval-rmse:2.22197\ttrain-clip-rmse:0.838223\tval-clip-rmse:1.02929\n",
      "[11]\ttrain-rmse:1.71727\tval-rmse:2.20207\ttrain-clip-rmse:0.825032\tval-clip-rmse:1.02208\n",
      "[12]\ttrain-rmse:1.68715\tval-rmse:2.17679\ttrain-clip-rmse:0.812625\tval-clip-rmse:1.01608\n",
      "[13]\ttrain-rmse:1.65631\tval-rmse:2.15228\ttrain-clip-rmse:0.798652\tval-clip-rmse:1.00978\n",
      "[14]\ttrain-rmse:1.62552\tval-rmse:2.13439\ttrain-clip-rmse:0.784865\tval-clip-rmse:1.00621\n",
      "[15]\ttrain-rmse:1.5957\tval-rmse:2.11582\ttrain-clip-rmse:0.771904\tval-clip-rmse:1.00199\n",
      "[16]\ttrain-rmse:1.56626\tval-rmse:2.09811\ttrain-clip-rmse:0.759424\tval-clip-rmse:0.997649\n",
      "[17]\ttrain-rmse:1.53822\tval-rmse:2.08008\ttrain-clip-rmse:0.747379\tval-clip-rmse:0.995156\n",
      "[18]\ttrain-rmse:1.5115\tval-rmse:2.06095\ttrain-clip-rmse:0.735973\tval-clip-rmse:0.992492\n",
      "[19]\ttrain-rmse:1.48464\tval-rmse:2.04222\ttrain-clip-rmse:0.724723\tval-clip-rmse:0.991274\n",
      "[20]\ttrain-rmse:1.45871\tval-rmse:2.02404\ttrain-clip-rmse:0.713703\tval-clip-rmse:0.990528\n",
      "[21]\ttrain-rmse:1.43476\tval-rmse:2.00935\ttrain-clip-rmse:0.70305\tval-clip-rmse:0.987264\n",
      "[22]\ttrain-rmse:1.4092\tval-rmse:1.99629\ttrain-clip-rmse:0.692607\tval-clip-rmse:0.985698\n",
      "[23]\ttrain-rmse:1.38492\tval-rmse:1.98078\ttrain-clip-rmse:0.682884\tval-clip-rmse:0.982561\n",
      "[24]\ttrain-rmse:1.36196\tval-rmse:1.96616\ttrain-clip-rmse:0.673907\tval-clip-rmse:0.97947\n",
      "[25]\ttrain-rmse:1.33929\tval-rmse:1.95158\ttrain-clip-rmse:0.664929\tval-clip-rmse:0.976868\n",
      "[26]\ttrain-rmse:1.31693\tval-rmse:1.93882\ttrain-clip-rmse:0.656154\tval-clip-rmse:0.975339\n",
      "[27]\ttrain-rmse:1.29776\tval-rmse:1.92776\ttrain-clip-rmse:0.648633\tval-clip-rmse:0.972738\n",
      "[28]\ttrain-rmse:1.27654\tval-rmse:1.91417\ttrain-clip-rmse:0.640553\tval-clip-rmse:0.971571\n",
      "[29]\ttrain-rmse:1.25886\tval-rmse:1.90328\ttrain-clip-rmse:0.633361\tval-clip-rmse:0.969509\n",
      "[30]\ttrain-rmse:1.23822\tval-rmse:1.89067\ttrain-clip-rmse:0.625683\tval-clip-rmse:0.968298\n",
      "[31]\ttrain-rmse:1.21824\tval-rmse:1.87811\ttrain-clip-rmse:0.618437\tval-clip-rmse:0.966269\n",
      "[32]\ttrain-rmse:1.20156\tval-rmse:1.86989\ttrain-clip-rmse:0.61098\tval-clip-rmse:0.965956\n",
      "[33]\ttrain-rmse:1.1822\tval-rmse:1.8592\ttrain-clip-rmse:0.603947\tval-clip-rmse:0.965682\n",
      "[34]\ttrain-rmse:1.16384\tval-rmse:1.84799\ttrain-clip-rmse:0.597378\tval-clip-rmse:0.964178\n",
      "[35]\ttrain-rmse:1.14786\tval-rmse:1.8395\ttrain-clip-rmse:0.5908\tval-clip-rmse:0.9628\n",
      "[36]\ttrain-rmse:1.13097\tval-rmse:1.8295\ttrain-clip-rmse:0.585224\tval-clip-rmse:0.961326\n",
      "[37]\ttrain-rmse:1.11358\tval-rmse:1.81965\ttrain-clip-rmse:0.579059\tval-clip-rmse:0.960849\n",
      "[38]\ttrain-rmse:1.09648\tval-rmse:1.81022\ttrain-clip-rmse:0.573132\tval-clip-rmse:0.95998\n",
      "[39]\ttrain-rmse:1.08184\tval-rmse:1.80415\ttrain-clip-rmse:0.567153\tval-clip-rmse:0.960278\n",
      "[40]\ttrain-rmse:1.06594\tval-rmse:1.79546\ttrain-clip-rmse:0.561774\tval-clip-rmse:0.96085\n",
      "[41]\ttrain-rmse:1.05115\tval-rmse:1.78822\ttrain-clip-rmse:0.556151\tval-clip-rmse:0.959957\n",
      "[42]\ttrain-rmse:1.0385\tval-rmse:1.78186\ttrain-clip-rmse:0.550977\tval-clip-rmse:0.959173\n",
      "[43]\ttrain-rmse:1.02466\tval-rmse:1.77577\ttrain-clip-rmse:0.546438\tval-clip-rmse:0.95964\n",
      "[44]\ttrain-rmse:1.01017\tval-rmse:1.76902\ttrain-clip-rmse:0.541686\tval-clip-rmse:0.961691\n",
      "[45]\ttrain-rmse:0.997361\tval-rmse:1.76022\ttrain-clip-rmse:0.537573\tval-clip-rmse:0.960956\n",
      "[46]\ttrain-rmse:0.985092\tval-rmse:1.75517\ttrain-clip-rmse:0.532862\tval-clip-rmse:0.960346\n",
      "[47]\ttrain-rmse:0.971131\tval-rmse:1.74644\ttrain-clip-rmse:0.528409\tval-clip-rmse:0.959883\n",
      "[48]\ttrain-rmse:0.958193\tval-rmse:1.7393\ttrain-clip-rmse:0.524592\tval-clip-rmse:0.959413\n",
      "[49]\ttrain-rmse:0.947322\tval-rmse:1.73375\ttrain-clip-rmse:0.520707\tval-clip-rmse:0.95905\n",
      "[50]\ttrain-rmse:0.933948\tval-rmse:1.72795\ttrain-clip-rmse:0.516859\tval-clip-rmse:0.960155\n",
      "[51]\ttrain-rmse:0.921944\tval-rmse:1.72152\ttrain-clip-rmse:0.513261\tval-clip-rmse:0.9605\n",
      "[52]\ttrain-rmse:0.910046\tval-rmse:1.71676\ttrain-clip-rmse:0.510001\tval-clip-rmse:0.960472\n",
      "[53]\ttrain-rmse:0.898154\tval-rmse:1.71077\ttrain-clip-rmse:0.506703\tval-clip-rmse:0.960225\n",
      "[54]\ttrain-rmse:0.886717\tval-rmse:1.70596\ttrain-clip-rmse:0.5034\tval-clip-rmse:0.961332\n",
      "[55]\ttrain-rmse:0.875436\tval-rmse:1.70015\ttrain-clip-rmse:0.500296\tval-clip-rmse:0.96145\n",
      "[56]\ttrain-rmse:0.864725\tval-rmse:1.69516\ttrain-clip-rmse:0.497228\tval-clip-rmse:0.961224\n",
      "[57]\ttrain-rmse:0.854081\tval-rmse:1.69137\ttrain-clip-rmse:0.494248\tval-clip-rmse:0.961367\n",
      "[58]\ttrain-rmse:0.843968\tval-rmse:1.68663\ttrain-clip-rmse:0.49132\tval-clip-rmse:0.962236\n",
      "[59]\ttrain-rmse:0.835494\tval-rmse:1.68395\ttrain-clip-rmse:0.487979\tval-clip-rmse:0.962738\n",
      "CV of month 31 is finished, uses 812.67 sec, clip-rmse on val 0.96\n",
      "\n",
      "CV of month 32 is started.\n",
      "[0]\ttrain-rmse:2.45755\tval-rmse:5.53065\ttrain-clip-rmse:1.11208\tval-clip-rmse:1.09663\n",
      "[1]\ttrain-rmse:2.40946\tval-rmse:5.50873\ttrain-clip-rmse:1.08221\tval-clip-rmse:1.07926\n",
      "[2]\ttrain-rmse:2.36165\tval-rmse:5.48257\ttrain-clip-rmse:1.05472\tval-clip-rmse:1.06517\n",
      "[3]\ttrain-rmse:2.3213\tval-rmse:5.46066\ttrain-clip-rmse:1.03691\tval-clip-rmse:1.05092\n",
      "[4]\ttrain-rmse:2.27526\tval-rmse:5.43622\ttrain-clip-rmse:1.01213\tval-clip-rmse:1.03912\n",
      "[5]\ttrain-rmse:2.23072\tval-rmse:5.41664\ttrain-clip-rmse:0.9889\tval-clip-rmse:1.02803\n",
      "[6]\ttrain-rmse:2.19375\tval-rmse:5.39769\ttrain-clip-rmse:0.973702\tval-clip-rmse:1.01804\n",
      "[7]\ttrain-rmse:2.15368\tval-rmse:5.37699\ttrain-clip-rmse:0.952156\tval-clip-rmse:1.00895\n",
      "[8]\ttrain-rmse:2.11146\tval-rmse:5.35918\ttrain-clip-rmse:0.932054\tval-clip-rmse:1.00069\n",
      "[9]\ttrain-rmse:2.07041\tval-rmse:5.34205\ttrain-clip-rmse:0.912671\tval-clip-rmse:0.993019\n",
      "[10]\ttrain-rmse:2.03086\tval-rmse:5.32624\ttrain-clip-rmse:0.894225\tval-clip-rmse:0.986581\n",
      "[11]\ttrain-rmse:1.99808\tval-rmse:5.31084\ttrain-clip-rmse:0.88278\tval-clip-rmse:0.981026\n",
      "[12]\ttrain-rmse:1.96746\tval-rmse:5.29208\ttrain-clip-rmse:0.871748\tval-clip-rmse:0.975545\n",
      "[13]\ttrain-rmse:1.92977\tval-rmse:5.27733\ttrain-clip-rmse:0.854605\tval-clip-rmse:0.969736\n",
      "[14]\ttrain-rmse:1.89327\tval-rmse:5.26337\ttrain-clip-rmse:0.838533\tval-clip-rmse:0.964366\n",
      "[15]\ttrain-rmse:1.85836\tval-rmse:5.25064\ttrain-clip-rmse:0.823426\tval-clip-rmse:0.96057\n",
      "[16]\ttrain-rmse:1.82393\tval-rmse:5.23791\ttrain-clip-rmse:0.808604\tval-clip-rmse:0.956692\n",
      "[17]\ttrain-rmse:1.79056\tval-rmse:5.22556\ttrain-clip-rmse:0.794532\tval-clip-rmse:0.952076\n",
      "[18]\ttrain-rmse:1.75846\tval-rmse:5.21455\ttrain-clip-rmse:0.781488\tval-clip-rmse:0.949073\n",
      "[19]\ttrain-rmse:1.72728\tval-rmse:5.20533\ttrain-clip-rmse:0.769007\tval-clip-rmse:0.945832\n",
      "[20]\ttrain-rmse:1.69684\tval-rmse:5.19514\ttrain-clip-rmse:0.756277\tval-clip-rmse:0.942735\n",
      "[21]\ttrain-rmse:1.67121\tval-rmse:5.18706\ttrain-clip-rmse:0.744127\tval-clip-rmse:0.940167\n",
      "[22]\ttrain-rmse:1.64158\tval-rmse:5.17675\ttrain-clip-rmse:0.732746\tval-clip-rmse:0.93742\n",
      "[23]\ttrain-rmse:1.61365\tval-rmse:5.16882\ttrain-clip-rmse:0.722158\tval-clip-rmse:0.935582\n",
      "[24]\ttrain-rmse:1.58602\tval-rmse:5.16123\ttrain-clip-rmse:0.711372\tval-clip-rmse:0.934148\n",
      "[25]\ttrain-rmse:1.55931\tval-rmse:5.14812\ttrain-clip-rmse:0.701307\tval-clip-rmse:0.932939\n",
      "[26]\ttrain-rmse:1.53334\tval-rmse:5.14095\ttrain-clip-rmse:0.691396\tval-clip-rmse:0.932964\n",
      "[27]\ttrain-rmse:1.51429\tval-rmse:5.12997\ttrain-clip-rmse:0.684857\tval-clip-rmse:0.931029\n",
      "[28]\ttrain-rmse:1.48841\tval-rmse:5.12168\ttrain-clip-rmse:0.67629\tval-clip-rmse:0.929834\n",
      "[29]\ttrain-rmse:1.47119\tval-rmse:5.11228\ttrain-clip-rmse:0.670138\tval-clip-rmse:0.928101\n",
      "[30]\ttrain-rmse:1.4471\tval-rmse:5.10498\ttrain-clip-rmse:0.661755\tval-clip-rmse:0.927695\n"
     ]
    },
    {
     "ename": "KeyboardInterrupt",
     "evalue": "",
     "output_type": "error",
     "traceback": [
      "\u001b[1;31m---------------------------------------------------------------------------\u001b[0m",
      "\u001b[1;31mKeyboardInterrupt\u001b[0m                         Traceback (most recent call last)",
      "\u001b[1;32m<ipython-input-20-f416a406c68d>\u001b[0m in \u001b[0;36m<module>\u001b[1;34m()\u001b[0m\n\u001b[0;32m     12\u001b[0m \u001b[0mn_tree\u001b[0m \u001b[1;33m=\u001b[0m \u001b[1;36m60\u001b[0m\u001b[1;33m\u001b[0m\u001b[0m\n\u001b[0;32m     13\u001b[0m \u001b[1;33m\u001b[0m\u001b[0m\n\u001b[1;32m---> 14\u001b[1;33m \u001b[0mprogress\u001b[0m \u001b[1;33m=\u001b[0m \u001b[0mcv\u001b[0m\u001b[1;33m(\u001b[0m\u001b[0mparam\u001b[0m\u001b[1;33m,\u001b[0m \u001b[0mn_tree\u001b[0m\u001b[1;33m,\u001b[0m \u001b[0mx_train\u001b[0m\u001b[1;33m,\u001b[0m \u001b[0my_train\u001b[0m\u001b[1;33m,\u001b[0m \u001b[0mmonth_in_cv\u001b[0m\u001b[1;33m,\u001b[0m \u001b[0mverbose\u001b[0m\u001b[1;33m=\u001b[0m\u001b[1;32mTrue\u001b[0m\u001b[1;33m)\u001b[0m\u001b[1;33m\u001b[0m\u001b[0m\n\u001b[0m",
      "\u001b[1;32m<ipython-input-14-fac815cdbc72>\u001b[0m in \u001b[0;36mcv\u001b[1;34m(param, n_tree, x_train, y_train, month_in_cv, verbose)\u001b[0m\n\u001b[0;32m     17\u001b[0m                         \u001b[0mverbose_eval\u001b[0m\u001b[1;33m=\u001b[0m\u001b[0mverbose\u001b[0m\u001b[1;33m,\u001b[0m\u001b[1;33m\u001b[0m\u001b[0m\n\u001b[0;32m     18\u001b[0m                         \u001b[0mnum_boost_round\u001b[0m\u001b[1;33m=\u001b[0m\u001b[0mn_tree\u001b[0m\u001b[1;33m,\u001b[0m\u001b[1;33m\u001b[0m\u001b[0m\n\u001b[1;32m---> 19\u001b[1;33m                         feval=clip_rmse)\n\u001b[0m\u001b[0;32m     20\u001b[0m \u001b[1;33m\u001b[0m\u001b[0m\n\u001b[0;32m     21\u001b[0m         \u001b[0mtime_end\u001b[0m \u001b[1;33m=\u001b[0m \u001b[0mtime\u001b[0m\u001b[1;33m.\u001b[0m\u001b[0mtime\u001b[0m\u001b[1;33m(\u001b[0m\u001b[1;33m)\u001b[0m\u001b[1;33m\u001b[0m\u001b[0m\n",
      "\u001b[1;32m~\\Anaconda3\\envs\\kaggle\\lib\\site-packages\\xgboost-0.72-py3.6.egg\\xgboost\\training.py\u001b[0m in \u001b[0;36mtrain\u001b[1;34m(params, dtrain, num_boost_round, evals, obj, feval, maximize, early_stopping_rounds, evals_result, verbose_eval, xgb_model, callbacks, learning_rates)\u001b[0m\n\u001b[0;32m    202\u001b[0m                            \u001b[0mevals\u001b[0m\u001b[1;33m=\u001b[0m\u001b[0mevals\u001b[0m\u001b[1;33m,\u001b[0m\u001b[1;33m\u001b[0m\u001b[0m\n\u001b[0;32m    203\u001b[0m                            \u001b[0mobj\u001b[0m\u001b[1;33m=\u001b[0m\u001b[0mobj\u001b[0m\u001b[1;33m,\u001b[0m \u001b[0mfeval\u001b[0m\u001b[1;33m=\u001b[0m\u001b[0mfeval\u001b[0m\u001b[1;33m,\u001b[0m\u001b[1;33m\u001b[0m\u001b[0m\n\u001b[1;32m--> 204\u001b[1;33m                            xgb_model=xgb_model, callbacks=callbacks)\n\u001b[0m\u001b[0;32m    205\u001b[0m \u001b[1;33m\u001b[0m\u001b[0m\n\u001b[0;32m    206\u001b[0m \u001b[1;33m\u001b[0m\u001b[0m\n",
      "\u001b[1;32m~\\Anaconda3\\envs\\kaggle\\lib\\site-packages\\xgboost-0.72-py3.6.egg\\xgboost\\training.py\u001b[0m in \u001b[0;36m_train_internal\u001b[1;34m(params, dtrain, num_boost_round, evals, obj, feval, xgb_model, callbacks)\u001b[0m\n\u001b[0;32m     72\u001b[0m         \u001b[1;31m# Skip the first update if it is a recovery step.\u001b[0m\u001b[1;33m\u001b[0m\u001b[1;33m\u001b[0m\u001b[0m\n\u001b[0;32m     73\u001b[0m         \u001b[1;32mif\u001b[0m \u001b[0mversion\u001b[0m \u001b[1;33m%\u001b[0m \u001b[1;36m2\u001b[0m \u001b[1;33m==\u001b[0m \u001b[1;36m0\u001b[0m\u001b[1;33m:\u001b[0m\u001b[1;33m\u001b[0m\u001b[0m\n\u001b[1;32m---> 74\u001b[1;33m             \u001b[0mbst\u001b[0m\u001b[1;33m.\u001b[0m\u001b[0mupdate\u001b[0m\u001b[1;33m(\u001b[0m\u001b[0mdtrain\u001b[0m\u001b[1;33m,\u001b[0m \u001b[0mi\u001b[0m\u001b[1;33m,\u001b[0m \u001b[0mobj\u001b[0m\u001b[1;33m)\u001b[0m\u001b[1;33m\u001b[0m\u001b[0m\n\u001b[0m\u001b[0;32m     75\u001b[0m             \u001b[0mbst\u001b[0m\u001b[1;33m.\u001b[0m\u001b[0msave_rabit_checkpoint\u001b[0m\u001b[1;33m(\u001b[0m\u001b[1;33m)\u001b[0m\u001b[1;33m\u001b[0m\u001b[0m\n\u001b[0;32m     76\u001b[0m             \u001b[0mversion\u001b[0m \u001b[1;33m+=\u001b[0m \u001b[1;36m1\u001b[0m\u001b[1;33m\u001b[0m\u001b[0m\n",
      "\u001b[1;32m~\\Anaconda3\\envs\\kaggle\\lib\\site-packages\\xgboost-0.72-py3.6.egg\\xgboost\\core.py\u001b[0m in \u001b[0;36mupdate\u001b[1;34m(self, dtrain, iteration, fobj)\u001b[0m\n\u001b[0;32m    895\u001b[0m         \u001b[1;32mif\u001b[0m \u001b[0mfobj\u001b[0m \u001b[1;32mis\u001b[0m \u001b[1;32mNone\u001b[0m\u001b[1;33m:\u001b[0m\u001b[1;33m\u001b[0m\u001b[0m\n\u001b[0;32m    896\u001b[0m             _check_call(_LIB.XGBoosterUpdateOneIter(self.handle, ctypes.c_int(iteration),\n\u001b[1;32m--> 897\u001b[1;33m                                                     dtrain.handle))\n\u001b[0m\u001b[0;32m    898\u001b[0m         \u001b[1;32melse\u001b[0m\u001b[1;33m:\u001b[0m\u001b[1;33m\u001b[0m\u001b[0m\n\u001b[0;32m    899\u001b[0m             \u001b[0mpred\u001b[0m \u001b[1;33m=\u001b[0m \u001b[0mself\u001b[0m\u001b[1;33m.\u001b[0m\u001b[0mpredict\u001b[0m\u001b[1;33m(\u001b[0m\u001b[0mdtrain\u001b[0m\u001b[1;33m)\u001b[0m\u001b[1;33m\u001b[0m\u001b[0m\n",
      "\u001b[1;31mKeyboardInterrupt\u001b[0m: "
     ]
    }
   ],
   "source": [
    "param = {'max_depth':14, \n",
    "         'subsample':0.9,\n",
    "         'min_child_weight':3,\n",
    "         'eta':0.03, \n",
    "         'lambda':2,\n",
    "         'colsample_bytree':0.8,\n",
    "         'seed':1,\n",
    "         'silent':1,\n",
    "         'eval_metric':'rmse',\n",
    "         'maximize': False,\n",
    "         'nthread':8}\n",
    "n_tree = 60\n",
    "\n",
    "progress = cv(param, n_tree, x_train, y_train, month_in_cv, verbose=True)"
   ]
  },
  {
   "cell_type": "code",
   "execution_count": 129,
   "metadata": {},
   "outputs": [
    {
     "data": {
      "image/png": "[encoded data removed]",
      "text/plain": [
       "<Figure size 1152x648 with 1 Axes>"
      ]
     },
     "metadata": {},
     "output_type": "display_data"
    }
   ],
   "source": [
    "val_mean = progress.xs('val', axis=1, level=1).mean(axis=1)\n",
    "val_std = progress.xs('val', axis=1, level=1).std(axis=1)\n",
    "\n",
    "train_mean = progress.xs('train', axis=1, level=1).mean(axis=1)\n",
    "train_std = progress.xs('train', axis=1, level=1).std(axis=1)\n",
    "\n",
    "plt.figure(figsize=(16, 9))\n",
    "plt.rcParams.update({'font.size': 20})\n",
    "plt.plot(np.arange(len(train_mean)), train_mean)\n",
    "plt.fill_between(np.arange(len(train_std)), \n",
    "                 train_mean-train_std, \n",
    "                 train_mean+train_std, alpha=0.5)\n",
    "plt.plot(np.arange(len(val_mean)), val_mean)\n",
    "plt.fill_between(np.arange(len(val_mean)), \n",
    "                 val_mean-val_std, \n",
    "                 val_mean+val_std, alpha=0.5)\n",
    "plt.legend(['train', 'val'])\n",
    "plt.xlabel('iteration')\n",
    "plt.ylabel('clip-rmse')\n",
    "plt.grid()"
   ]
  },
  {
   "cell_type": "code",
   "execution_count": null,
   "metadata": {},
   "outputs": [],
   "source": []
  }
 ],
 "metadata": {
  "kernelspec": {
   "display_name": "Python 3",
   "language": "python",
   "name": "python3"
  },
  "language_info": {
   "codemirror_mode": {
    "name": "ipython",
    "version": 3
   },
   "file_extension": ".py",
   "mimetype": "text/x-python",
   "name": "python",
   "nbconvert_exporter": "python",
   "pygments_lexer": "ipython3",
   "version": "3.6.6"
  }
 },
 "nbformat": 4,
 "nbformat_minor": 2
}
