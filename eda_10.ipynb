{
 "cells": [
  {
   "cell_type": "code",
   "execution_count": 1,
   "metadata": {},
   "outputs": [],
   "source": [
    "import numpy as np\n",
    "import pandas as pd\n",
    "import matplotlib.pyplot as plt\n",
    "import os\n",
    "import gc\n",
    "import sys\n",
    "import time\n",
    "import gc\n",
    "import itertools\n",
    "import tqdm\n",
    "\n",
    "from sklearn.preprocessing import LabelEncoder\n",
    "import scipy.stats as ss\n",
    "\n",
    "if os.name=='nt':\n",
    "    try:\n",
    "        mingw_path = 'C:\\\\Program Files\\\\mingw-w64\\\\x86_64-8.1.0-posix-seh-rt_v6-rev0\\\\mingw64\\\\bin'\n",
    "        os.environ['PATH'] = mingw_path + ';' + os.environ['PATH']\n",
    "    except:\n",
    "        pass\n",
    "    \n",
    "import xgboost as xgb\n",
    "from sklearn.metrics import mean_squared_error \n",
    "from numba import jit\n",
    "\n",
    "%matplotlib inline"
   ]
  },
  {
   "cell_type": "markdown",
   "metadata": {},
   "source": [
    "### Load data"
   ]
  },
  {
   "cell_type": "code",
   "execution_count": 2,
   "metadata": {},
   "outputs": [],
   "source": [
    "# Load data\n",
    "train = pd.read_csv('all/sales_train.csv.gz')\n",
    "test = pd.read_csv('all/test.csv.gz')\n",
    "shop = pd.read_csv('all/shops-translated.csv')\n",
    "item = pd.read_csv('all/item_category.csv')\n",
    "\n",
    "test.set_index('ID', inplace=True)\n",
    "item.drop(['item_name_translated'], axis=1, inplace=True)\n",
    "shop.drop(['Name'], axis=1, inplace=True)\n",
    "\n",
    "le = LabelEncoder()\n",
    "item['item_cat1'] = le.fit_transform(item['item_cat1'].astype(str))\n",
    "item['item_cat2'] = le.fit_transform(item['item_cat2'].astype(str))\n",
    "shop['City'] = le.fit_transform(shop['City'])\n",
    "shop['Type'] = le.fit_transform(shop['Type'])\n",
    "\n",
    "shop.set_index('shop_id', inplace=True)\n",
    "item.set_index('item_id', inplace=True)"
   ]
  },
  {
   "cell_type": "code",
   "execution_count": 3,
   "metadata": {},
   "outputs": [],
   "source": [
    "train['sales'] = train['item_price']*train['item_cnt_day']\n",
    "train = train.merge(shop, how='left', left_on='shop_id', right_index=True)\n",
    "train = train.merge(item, how='left', left_on='item_id', right_index=True)\n",
    "train.date = pd.to_datetime(train.date, format='%d.%m.%Y')\n",
    "\n",
    "test = test.merge(shop, how='left', left_on='shop_id', right_index=True)\n",
    "test = test.merge(item, how='left', left_on='item_id', right_index=True)"
   ]
  },
  {
   "cell_type": "markdown",
   "metadata": {},
   "source": [
    "### `cnt`"
   ]
  },
  {
   "cell_type": "code",
   "execution_count": 4,
   "metadata": {},
   "outputs": [],
   "source": [
    "feature_dict = {} # dict containing all the features"
   ]
  },
  {
   "cell_type": "code",
   "execution_count": 5,
   "metadata": {},
   "outputs": [],
   "source": [
    "# Total count of sales per month\n",
    "train_p = train.pivot_table(index=['shop_id', 'item_id'],\n",
    "                           columns='date_block_num',\n",
    "                           values='item_cnt_day',\n",
    "                           aggfunc=np.sum).fillna(0.0)\n",
    "# Rename columns\n",
    "train_p.columns = ['cnt_'+str(k) for k in train_p.columns.get_level_values(0)]\n",
    "# Add one column for test data\n",
    "train_p['cnt_34'] = np.zeros((len(train_p), 1))\n",
    "# Merge to test\n",
    "train_p = test.merge(train_p, how='left', left_on=['shop_id', 'item_id'], right_index=True)\n",
    "# Add to the feature dict\n",
    "feature_dict['cnt'] = train_p"
   ]
  },
  {
   "cell_type": "markdown",
   "metadata": {},
   "source": [
    "### `sales`"
   ]
  },
  {
   "cell_type": "code",
   "execution_count": 6,
   "metadata": {},
   "outputs": [],
   "source": [
    "# Total value of sales per month\n",
    "sales = train.pivot_table(index=['shop_id', 'item_id'],\n",
    "                         columns='date_block_num', \n",
    "                         values='sales',\n",
    "                         aggfunc=np.sum).fillna(0.0)\n",
    "# Rename columns\n",
    "sales.columns = ['sales_'+str(k) for k in sales.columns.get_level_values(0)]\n",
    "# Add on column for test data\n",
    "sales['sales_34'] = np.zeros((len(sales), 1))\n",
    "# Merge to test\n",
    "sales = test.merge(sales, how='left', left_on=['shop_id', 'item_id'], right_index=True)\n",
    "# Add to the feature dict\n",
    "feature_dict['sales'] = sales"
   ]
  },
  {
   "cell_type": "markdown",
   "metadata": {},
   "source": [
    "### explore"
   ]
  },
  {
   "cell_type": "code",
   "execution_count": 7,
   "metadata": {},
   "outputs": [],
   "source": [
    "# Apply pivot table to x with combinations of the following parameters\n",
    "index_list = ['item_id', 'shop_id', 'City', 'Type', 'item_cat1', 'item_cat2']\n",
    "column_list = ['date_block_num']\n",
    "value_list = ['item_price', 'item_cnt_day', 'sales']\n",
    "aggfunc_list = [np.sum, np.mean]"
   ]
  },
  {
   "cell_type": "code",
   "execution_count": null,
   "metadata": {},
   "outputs": [
    {
     "data": {
      "application/vnd.jupyter.widget-view+json": {
       "model_id": "7b30f630fec84e5aa2bb10df306734cd",
       "version_major": 2,
       "version_minor": 0
      },
      "text/plain": [
       "HBox(children=(IntProgress(value=0, max=36), HTML(value='')))"
      ]
     },
     "metadata": {},
     "output_type": "display_data"
    }
   ],
   "source": [
    "feature_dict2 = {}\n",
    "for idx, col, val, agf in tqdm.tqdm_notebook(list(itertools.product(index_list, column_list, value_list, aggfunc_list))):\n",
    "    tmp = train.pivot_table(index=idx, columns=col, values=val, aggfunc=agf).fillna(0.0)\n",
    "    tmp_name = '-'.join([idx, val, str(agf).split(' ')[1]])\n",
    "    tmp.columns = [tmp_name+'_'+str(k) for k in tmp.columns]\n",
    "    tmp[tmp_name+'_34'] = np.zeros((len(tmp), 1))\n",
    "    feature_dict2[tmp_name] = tmp"
   ]
  },
  {
   "cell_type": "markdown",
   "metadata": {},
   "source": [
    "### CV"
   ]
  },
  {
   "cell_type": "code",
   "execution_count": null,
   "metadata": {},
   "outputs": [],
   "source": []
  }
 ],
 "metadata": {
  "kernelspec": {
   "display_name": "Python 3",
   "language": "python",
   "name": "python3"
  },
  "language_info": {
   "codemirror_mode": {
    "name": "ipython",
    "version": 3
   },
   "file_extension": ".py",
   "mimetype": "text/x-python",
   "name": "python",
   "nbconvert_exporter": "python",
   "pygments_lexer": "ipython3",
   "version": "3.6.6"
  }
 },
 "nbformat": 4,
 "nbformat_minor": 2
}
