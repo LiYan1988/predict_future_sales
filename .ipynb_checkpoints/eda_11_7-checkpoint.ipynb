{
 "cells": [
  {
   "cell_type": "code",
   "execution_count": 1,
   "metadata": {},
   "outputs": [],
   "source": [
    "import numpy as np\n",
    "import pandas as pd\n",
    "import matplotlib.pyplot as plt\n",
    "import os\n",
    "import gc\n",
    "import sys\n",
    "import time\n",
    "import gc\n",
    "import itertools\n",
    "import tqdm\n",
    "import time\n",
    "import copy\n",
    "\n",
    "import scipy.stats as ss\n",
    "from numba import jit\n",
    "\n",
    "if os.name=='nt':\n",
    "    try:\n",
    "        mingw_path = 'C:\\\\Program Files\\\\mingw-w64\\\\x86_64-8.1.0-posix-seh-rt_v6-rev0\\\\mingw64\\\\bin'\n",
    "        os.environ['PATH'] = mingw_path + ';' + os.environ['PATH']\n",
    "    except:\n",
    "        pass\n",
    "    \n",
    "import xgboost as xgb\n",
    "from sklearn.metrics import mean_squared_error \n",
    "from sklearn.preprocessing import LabelEncoder\n",
    "from sklearn.model_selection import StratifiedKFold\n",
    "\n",
    "%matplotlib inline"
   ]
  },
  {
   "cell_type": "markdown",
   "metadata": {},
   "source": [
    "### Helper Function"
   ]
  },
  {
   "cell_type": "code",
   "execution_count": 2,
   "metadata": {},
   "outputs": [],
   "source": [
    "def lag_features(df, lags, merge_cols, shift_cols, fillna_value=None):\n",
    "    '''create lag features of col'''\n",
    "    cols = copy.copy(merge_cols)\n",
    "    cols.extend(shift_cols)\n",
    "    tmp = df.loc[:, cols]\n",
    "    for i in lags:\n",
    "        shifted = tmp.copy()\n",
    "        shifted_cols = shifted.columns.tolist()\n",
    "        shifted_cols = [c+'_lag_'+str(i) if c in shift_cols else c \n",
    "                        for c in shifted_cols]\n",
    "        shifted.columns = shifted_cols\n",
    "        shifted['month'] += i\n",
    "        shifted.drop_duplicates(inplace=True)\n",
    "        df = pd.merge(df, shifted, on=merge_cols, how='left')\n",
    "    if fillna_value is not None:\n",
    "        df.fillna(fillna_value, inplace=True)\n",
    "    return df    "
   ]
  },
  {
   "cell_type": "code",
   "execution_count": 3,
   "metadata": {},
   "outputs": [],
   "source": [
    "def clip_rmse(preds, dtrain):\n",
    "    y_test = np.array(dtrain.get_label())\n",
    "    preds = np.array(preds)\n",
    "    y_test = np.maximum(np.minimum(y_test, 20), 0)\n",
    "    preds = np.maximum(np.minimum(preds, 20), 0)\n",
    "    #preds = np.array(list(map(lambda x: min(20, max(x, 0)), list(preds))))\n",
    "    #y_test = np.array(list(map(lambda x: min(20, max(x, 0)), list(y_test))))\n",
    "    rmse = np.sqrt(mean_squared_error(preds,y_test))\n",
    "    return 'clip-rmse', rmse"
   ]
  },
  {
   "cell_type": "code",
   "execution_count": 4,
   "metadata": {},
   "outputs": [],
   "source": [
    "def cv(x_train, y_train, param, n_repetition, n_split, n_tree, verbose, random_state):\n",
    "    '''Repeated CV'''\n",
    "    \n",
    "    cv_results = {}\n",
    "    clf = {}\n",
    "    running_time = {}\n",
    "\n",
    "    np.random.seed(random_state)\n",
    "\n",
    "    for m in range(n_repetition):\n",
    "        # Train and valuation sets split\n",
    "        skf = StratifiedKFold(n_splits=n_split, random_state=np.random.randint(10**6), shuffle=True)\n",
    "\n",
    "        for n, (train_index, val_index) in enumerate(skf.split(x_train, y_train)):\n",
    "\n",
    "            start_time = time.time()\n",
    "\n",
    "            # Construct DMatrix\n",
    "            dtrain = xgb.DMatrix(x_train.iloc[train_index], label=y_train.iloc[train_index])\n",
    "            dval = xgb.DMatrix(x_train.iloc[val_index], label=y_train.iloc[val_index])\n",
    "\n",
    "            # Placeholder for evals_results\n",
    "            cv_results[m, n] = {}\n",
    "\n",
    "            param['seed'] = np.random.randint(10**6)\n",
    "            clf[m, n] = xgb.train(param, dtrain,num_boost_round=n_tree, \n",
    "                                  evals=[(dtrain, 'train'), (dval, 'val')], \n",
    "                                  feval=clip_rmse, maximize=False, early_stopping_rounds=None, \n",
    "                                  evals_result=cv_results[m, n], verbose_eval=verbose)\n",
    "\n",
    "            running_time[m, n] = time.time() - start_time\n",
    "\n",
    "            print('Repeat {}, split {}, val score = {:.3f}, running time = {:.3f} min.'.format(m, n, \n",
    "                cv_results[m, n]['val']['clip-rmse'][-1], running_time[m, n]/60))\n",
    "\n",
    "    cv_results_final = {}\n",
    "    for m in range(n_repetition):\n",
    "        for n in range(n_split):\n",
    "            cv_results_final['train', m, n] = cv_results[m, n]['train']['clip-rmse']\n",
    "            cv_results_final['val', m, n] = cv_results[m, n]['val']['clip-rmse']\n",
    "\n",
    "    df = pd.DataFrame(cv_results_final)\n",
    "    df.index.name = 'iteration'\n",
    "    df.columns.names = ['dataset', 'repetition', 'cv_split']\n",
    "\n",
    "    print('Val mean = {:.3f}, std = {:.3f}'.format(df['val'].iloc[-1].mean(), df['val'].iloc[-1].std()))\n",
    "    \n",
    "    return df, clf, running_time"
   ]
  },
  {
   "cell_type": "code",
   "execution_count": 5,
   "metadata": {},
   "outputs": [],
   "source": [
    "def feature_combination(x, feature_list, function_dict, column_name, merge=False):\n",
    "    '''Combination of new features'''\n",
    "    tmp = x.groupby(feature_list).agg(function_dict)\n",
    "    tmp.columns = column_name\n",
    "    if merge:\n",
    "        x = x.merge(tmp, on=feature_list, how='left')\n",
    "        return x, tmp\n",
    "    else:\n",
    "        return tmp"
   ]
  },
  {
   "cell_type": "markdown",
   "metadata": {},
   "source": [
    "### Load and Preprocess Data"
   ]
  },
  {
   "cell_type": "code",
   "execution_count": 6,
   "metadata": {},
   "outputs": [],
   "source": [
    "# Load data\n",
    "train = pd.read_csv('all/sales_train.csv.gz')\n",
    "test = pd.read_csv('all/test.csv.gz')\n",
    "shop = pd.read_csv('all/shops-translated.csv')\n",
    "item = pd.read_csv('all/item_category.csv')\n",
    "\n",
    "test.set_index('ID', inplace=True)\n",
    "item.drop(['item_name_translated'], axis=1, inplace=True)\n",
    "shop.drop(['Name'], axis=1, inplace=True)\n",
    "\n",
    "le = LabelEncoder()\n",
    "item['item_cat1'] = le.fit_transform(item['item_cat1'].astype(str))\n",
    "item['item_cat2'] = le.fit_transform(item['item_cat2'].astype(str))\n",
    "shop['City'] = le.fit_transform(shop['City'])\n",
    "shop['Type'] = le.fit_transform(shop['Type'])"
   ]
  },
  {
   "cell_type": "markdown",
   "metadata": {},
   "source": [
    "Remove outliers"
   ]
  },
  {
   "cell_type": "code",
   "execution_count": 7,
   "metadata": {},
   "outputs": [],
   "source": [
    "train = train[train.item_price<100000]\n",
    "train = train[train.item_cnt_day<1001]\n",
    "median = train[(train.shop_id==32)&(train.item_id==2973)&(train.date_block_num==4)&(train.item_price>0)].item_price.median()\n",
    "train.loc[train.item_price<0, 'item_price'] = median"
   ]
  },
  {
   "cell_type": "markdown",
   "metadata": {},
   "source": [
    "Fix shop names and ids"
   ]
  },
  {
   "cell_type": "code",
   "execution_count": 8,
   "metadata": {},
   "outputs": [],
   "source": [
    "train.loc[train.shop_id == 0, 'shop_id'] = 57\n",
    "test.loc[test.shop_id == 0, 'shop_id'] = 57\n",
    "train.loc[train.shop_id == 1, 'shop_id'] = 58\n",
    "test.loc[test.shop_id == 1, 'shop_id'] = 58\n",
    "train.loc[train.shop_id == 10, 'shop_id'] = 11\n",
    "test.loc[test.shop_id == 10, 'shop_id'] = 11"
   ]
  },
  {
   "cell_type": "markdown",
   "metadata": {},
   "source": [
    "Monthly sales for all the samples"
   ]
  },
  {
   "cell_type": "code",
   "execution_count": 9,
   "metadata": {},
   "outputs": [],
   "source": [
    "x = pd.DataFrame(train.groupby(['date_block_num', 'shop_id', 'item_id'])['item_cnt_day'].sum())\n",
    "\n",
    "x.reset_index(inplace=True)"
   ]
  },
  {
   "cell_type": "markdown",
   "metadata": {},
   "source": [
    "Training set only contains sold samples, need to extend to all samples.\n",
    "\n",
    "There are two ways of extending:\n",
    "1. overall product between elements in (month, shop_id, item_id)\n",
    "2. in each month, the product between elements in (shop_id, item_id)\n",
    "\n",
    "The first one increases the number of rows by 23.5 times, the second one 6 times"
   ]
  },
  {
   "cell_type": "code",
   "execution_count": 10,
   "metadata": {},
   "outputs": [
    {
     "name": "stdout",
     "output_type": "stream",
     "text": [
      "overall product count is 42260028, sample count is 1609123, ratio is 26.263\n",
      "monthly product count sum is 10913804, monthly sample count is 1609123, ratio is 6.782\n"
     ]
    }
   ],
   "source": [
    "shop_count = {}\n",
    "item_count = {}\n",
    "product_count = {}\n",
    "sample_count = {}\n",
    "ratio = {}\n",
    "\n",
    "for n in x.date_block_num.unique():\n",
    "    shop_count[n] = len(x.loc[x.date_block_num==n, 'shop_id'].unique())\n",
    "    item_count[n] = len(x.loc[x.date_block_num==n, 'item_id'].unique())\n",
    "    sample_count[n] = len(x.loc[x.date_block_num==n, :])\n",
    "    product_count[n] = shop_count[n]*item_count[n]\n",
    "    ratio[n] = product_count[n]/sample_count[n]\n",
    "#     print('product count is {}, sample count is {}, ratio is {:.3f}'.format(product_count[n], \n",
    "#                                                                             sample_count[n], \n",
    "#                                                                             product_count[n]/sample_count[n]))\n",
    "    \n",
    "print('overall product count is {}, sample count is {}, ratio is {:.3f}'.format(\n",
    "    len(x.shop_id.unique())*len(x.item_id.unique())*34, \n",
    "    x.shape[0], 34*len(x.shop_id.unique())*len(x.item_id.unique())/x.shape[0]))\n",
    "print('monthly product count sum is {}, monthly sample count is {}, ratio is {:.3f}'.format(\n",
    "    sum(product_count.values()), sum(sample_count.values()), sum(product_count.values())/sum(sample_count.values())))"
   ]
  },
  {
   "cell_type": "markdown",
   "metadata": {},
   "source": [
    "Try the first extending method\n",
    "\n",
    "It requires huge RAM"
   ]
  },
  {
   "cell_type": "code",
   "execution_count": 11,
   "metadata": {},
   "outputs": [],
   "source": [
    "if False:\n",
    "    month = np.arange(0, 34)\n",
    "    shop_list = train.shop_id.unique().tolist()\n",
    "    item_list = train.item_id.unique().tolist()\n",
    "    n_rows = len(month)*len(shop_list)*len(item_list)\n",
    "\n",
    "    idx = pd.MultiIndex.from_product([month, shop_list, item_list], names=['date_block_num', 'shop_id', 'item_id'])\n",
    "\n",
    "    x2 = pd.DataFrame(np.zeros((n_rows,2)), index=idx)\n",
    "    x2.reset_index(inplace=True, drop=False)\n",
    "    x2.drop([0, 1], axis=1, inplace=True)\n",
    "\n",
    "    x = x2.merge(x, on=['date_block_num', 'shop_id', 'item_id'], how='outer').fillna(0.0)\n",
    "    test['date_block_num'] = 34\n",
    "    x = pd.concat((x, test), sort=False).fillna(0.0)\n",
    "\n",
    "    del x2\n",
    "    gc.collect()"
   ]
  },
  {
   "cell_type": "markdown",
   "metadata": {},
   "source": [
    "Try the second method"
   ]
  },
  {
   "cell_type": "code",
   "execution_count": 12,
   "metadata": {},
   "outputs": [],
   "source": [
    "tmp = []\n",
    "for n in range(34):\n",
    "    shop_list = x.loc[x.date_block_num==n, 'shop_id'].unique()\n",
    "    item_list = x.loc[x.date_block_num==n, 'item_id'].unique()\n",
    "    idx = pd.MultiIndex.from_product([[n], shop_list, item_list], names=['date_block_num', 'shop_id', 'item_id'])\n",
    "    df_tmp = pd.DataFrame(np.zeros((len(idx),2)), index=idx)\n",
    "    tmp.append(df_tmp)\n",
    "tmp = pd.concat(tmp, sort=False)\n",
    "tmp.reset_index(inplace=True, drop=False)\n",
    "tmp.drop([0, 1], axis=1, inplace=True)\n",
    "x = tmp.merge(x, on=['date_block_num', 'shop_id', 'item_id'], how='outer').fillna(0.0)\n",
    "test['date_block_num'] = 34\n",
    "x = pd.concat((x, test), sort=False).fillna(0.0)"
   ]
  },
  {
   "cell_type": "markdown",
   "metadata": {},
   "source": [
    "Add shop/item features"
   ]
  },
  {
   "cell_type": "code",
   "execution_count": 13,
   "metadata": {},
   "outputs": [],
   "source": [
    "x = pd.merge(x, shop, on='shop_id', how='left')\n",
    "x = pd.merge(x, item, on='item_id', how='left')"
   ]
  },
  {
   "cell_type": "markdown",
   "metadata": {},
   "source": [
    "Change column names"
   ]
  },
  {
   "cell_type": "code",
   "execution_count": 14,
   "metadata": {},
   "outputs": [],
   "source": [
    "x.columns = ['month', 'shop_id', 'item_id', 'sales_month', \n",
    "             'City', 'Type', 'item_cat1', 'item_cat2']"
   ]
  },
  {
   "cell_type": "markdown",
   "metadata": {},
   "source": [
    "Change column types"
   ]
  },
  {
   "cell_type": "markdown",
   "metadata": {},
   "source": [
    "x['City'] = x['City'].astype(np.int8)\n",
    "x['Type'] = x['Type'].astype(np.int8)\n",
    "x['item_cat1'] = x['item_cat1'].astype(np.int8)\n",
    "x['item_cat2'] = x['item_cat2'].astype(np.int8)\n",
    "x['sales_month'] = x['sales_month'].astype(np.float16)\n",
    "x['month'] = x['month'].astype(np.int8)\n",
    "x['shop_id'] = x['shop_id'].astype(np.int8)"
   ]
  },
  {
   "cell_type": "markdown",
   "metadata": {},
   "source": [
    "### Target Lags"
   ]
  },
  {
   "cell_type": "code",
   "execution_count": 15,
   "metadata": {},
   "outputs": [],
   "source": [
    "x = lag_features(x, [1, 2, 3, 6, 12], \n",
    "                 ['month', 'shop_id', 'item_id'], \n",
    "                 ['sales_month'], fillna_value=0)"
   ]
  },
  {
   "cell_type": "markdown",
   "metadata": {},
   "source": [
    "### Mean Encoding"
   ]
  },
  {
   "cell_type": "markdown",
   "metadata": {},
   "source": [
    "`sales_mean_month`"
   ]
  },
  {
   "cell_type": "code",
   "execution_count": 16,
   "metadata": {},
   "outputs": [],
   "source": [
    "group = x.groupby('month').agg({'sales_month': ['mean']})\n",
    "group.columns = ['sales_mean_month']\n",
    "group.reset_index(inplace=True)\n",
    "\n",
    "x = pd.merge(x, group, on=['month'], how='left')\n",
    "x['sales_mean_month'] = x['sales_mean_month'].astype(np.float16)\n",
    "x = lag_features(x, [1], ['month'], ['sales_mean_month'], fillna_value=0.0)\n",
    "x.drop(['sales_mean_month'], axis=1, inplace=True)"
   ]
  },
  {
   "cell_type": "markdown",
   "metadata": {},
   "source": [
    "`sales_mean_month_item`"
   ]
  },
  {
   "cell_type": "code",
   "execution_count": 17,
   "metadata": {},
   "outputs": [],
   "source": [
    "col = 'sales_mean_month_item'\n",
    "group = x.groupby(['month', 'item_id']).agg({'sales_month': ['mean']})\n",
    "group.columns = [col]\n",
    "group.reset_index(inplace=True)\n",
    "\n",
    "x = pd.merge(x, group, on=['month', 'item_id'], how='left')\n",
    "x[col] = x[col].astype(np.float16)\n",
    "x = lag_features(x, [1, 2, 3, 6, 12], \n",
    "                 ['month', 'item_id'], \n",
    "                 [col], fillna_value=0.0)\n",
    "x.drop([col], axis=1, inplace=True)"
   ]
  },
  {
   "cell_type": "markdown",
   "metadata": {},
   "source": [
    "`sales_mean_month_shop`"
   ]
  },
  {
   "cell_type": "code",
   "execution_count": 18,
   "metadata": {},
   "outputs": [],
   "source": [
    "col = 'sales_mean_month_shop'\n",
    "merge_cols = ['month', 'shop_id']\n",
    "group = x.groupby(merge_cols).agg({'sales_month': ['mean']})\n",
    "group.columns = [col]\n",
    "group.reset_index(inplace=True)\n",
    "\n",
    "x = pd.merge(x, group, on=merge_cols, how='left')\n",
    "x[col] = x[col].astype(np.float16)\n",
    "x = lag_features(x, [1, 2, 3, 6, 12], \n",
    "                 merge_cols, \n",
    "                 [col], fillna_value=0.0)\n",
    "x.drop([col], axis=1, inplace=True)"
   ]
  },
  {
   "cell_type": "markdown",
   "metadata": {},
   "source": [
    "`sales_mean_month_cat1`"
   ]
  },
  {
   "cell_type": "code",
   "execution_count": 19,
   "metadata": {},
   "outputs": [],
   "source": [
    "col = 'sales_mean_month_cat1'\n",
    "merge_cols = ['month', 'item_cat1']\n",
    "group = x.groupby(merge_cols).agg({'sales_month': ['mean']})\n",
    "group.columns = [col]\n",
    "group.reset_index(inplace=True)\n",
    "\n",
    "x = pd.merge(x, group, on=merge_cols, how='left')\n",
    "x[col] = x[col].astype(np.float16)\n",
    "x = lag_features(x, [1], \n",
    "                 merge_cols, \n",
    "                 [col], fillna_value=0.0)\n",
    "x.drop([col], axis=1, inplace=True)"
   ]
  },
  {
   "cell_type": "markdown",
   "metadata": {},
   "source": [
    "`sales_mean_month_shop_cat1`"
   ]
  },
  {
   "cell_type": "code",
   "execution_count": 20,
   "metadata": {},
   "outputs": [],
   "source": [
    "col = 'sales_mean_month_shop_cat1'\n",
    "merge_cols = ['month', 'shop_id', 'item_cat1']\n",
    "group = x.groupby(merge_cols).agg({'sales_month': ['mean']})\n",
    "group.columns = [col]\n",
    "group.reset_index(inplace=True)\n",
    "\n",
    "x = pd.merge(x, group, on=merge_cols, how='left')\n",
    "x[col] = x[col].astype(np.float16)\n",
    "x = lag_features(x, [1], \n",
    "                 merge_cols, \n",
    "                 [col], fillna_value=0.0)\n",
    "x.drop([col], axis=1, inplace=True)"
   ]
  },
  {
   "cell_type": "markdown",
   "metadata": {},
   "source": [
    "`sales_mean_month_shop_type`"
   ]
  },
  {
   "cell_type": "code",
   "execution_count": 21,
   "metadata": {},
   "outputs": [],
   "source": [
    "col = 'sales_mean_month_shop_type'\n",
    "merge_cols = ['month', 'shop_id', 'Type']\n",
    "group = x.groupby(merge_cols).agg({'sales_month': ['mean']})\n",
    "group.columns = [col]\n",
    "group.reset_index(inplace=True)\n",
    "\n",
    "x = pd.merge(x, group, on=merge_cols, how='left')\n",
    "x[col] = x[col].astype(np.float16)\n",
    "x = lag_features(x, [1], \n",
    "                 merge_cols, \n",
    "                 [col], fillna_value=0.0)\n",
    "x.drop([col], axis=1, inplace=True)"
   ]
  },
  {
   "cell_type": "markdown",
   "metadata": {},
   "source": [
    "`sales_mean_month_shop_cat2`"
   ]
  },
  {
   "cell_type": "code",
   "execution_count": 22,
   "metadata": {},
   "outputs": [],
   "source": [
    "col = 'sales_mean_month_shop_cat2'\n",
    "merge_cols = ['month', 'shop_id', 'item_cat2']\n",
    "group = x.groupby(merge_cols).agg({'sales_month': ['mean']})\n",
    "group.columns = [col]\n",
    "group.reset_index(inplace=True)\n",
    "\n",
    "x = pd.merge(x, group, on=merge_cols, how='left')\n",
    "x[col] = x[col].astype(np.float16)\n",
    "x = lag_features(x, [1], \n",
    "                 merge_cols, \n",
    "                 [col], fillna_value=0.0)\n",
    "x.drop([col], axis=1, inplace=True)"
   ]
  },
  {
   "cell_type": "markdown",
   "metadata": {},
   "source": [
    "`sales_mean_month_city`"
   ]
  },
  {
   "cell_type": "code",
   "execution_count": 23,
   "metadata": {},
   "outputs": [],
   "source": [
    "col = 'sales_mean_month_city'\n",
    "merge_cols = ['month', 'City']\n",
    "group = x.groupby(merge_cols).agg({'sales_month': ['mean']})\n",
    "group.columns = [col]\n",
    "group.reset_index(inplace=True)\n",
    "\n",
    "x = pd.merge(x, group, on=merge_cols, how='left')\n",
    "x[col] = x[col].astype(np.float16)\n",
    "x = lag_features(x, [1], \n",
    "                 merge_cols, \n",
    "                 [col], fillna_value=0.0)\n",
    "x.drop([col], axis=1, inplace=True)"
   ]
  },
  {
   "cell_type": "markdown",
   "metadata": {},
   "source": [
    "`sales_mean_month_item_city`"
   ]
  },
  {
   "cell_type": "code",
   "execution_count": 24,
   "metadata": {},
   "outputs": [],
   "source": [
    "col = 'sales_mean_month_item_city'\n",
    "merge_cols = ['month', 'item_id', 'City']\n",
    "group = x.groupby(merge_cols).agg({'sales_month': ['mean']})\n",
    "group.columns = [col]\n",
    "group.reset_index(inplace=True)\n",
    "\n",
    "x = pd.merge(x, group, on=merge_cols, how='left')\n",
    "x[col] = x[col].astype(np.float16)\n",
    "x = lag_features(x, [1], \n",
    "                 merge_cols, \n",
    "                 [col], fillna_value=0.0)\n",
    "x.drop([col], axis=1, inplace=True)"
   ]
  },
  {
   "cell_type": "markdown",
   "metadata": {},
   "source": [
    "`sales_mean_month_cat2`"
   ]
  },
  {
   "cell_type": "code",
   "execution_count": 25,
   "metadata": {},
   "outputs": [],
   "source": [
    "col = 'sales_mean_month_cat2'\n",
    "merge_cols = ['month', 'item_cat2']\n",
    "group = x.groupby(merge_cols).agg({'sales_month': ['mean']})\n",
    "group.columns = [col]\n",
    "group.reset_index(inplace=True)\n",
    "\n",
    "x = pd.merge(x, group, on=merge_cols, how='left')\n",
    "x[col] = x[col].astype(np.float16)\n",
    "x = lag_features(x, [1], \n",
    "                 merge_cols, \n",
    "                 [col], fillna_value=0.0)\n",
    "x.drop([col], axis=1, inplace=True)"
   ]
  },
  {
   "cell_type": "markdown",
   "metadata": {},
   "source": [
    "`sales_mean_month_cat1_cat2`"
   ]
  },
  {
   "cell_type": "code",
   "execution_count": 26,
   "metadata": {},
   "outputs": [],
   "source": [
    "col = 'sales_mean_month_cat1_cat2'\n",
    "merge_cols = ['month', 'item_cat1', 'item_cat2']\n",
    "group = x.groupby(merge_cols).agg({'sales_month': ['mean']})\n",
    "group.columns = [col]\n",
    "group.reset_index(inplace=True)\n",
    "\n",
    "x = pd.merge(x, group, on=merge_cols, how='left')\n",
    "x[col] = x[col].astype(np.float16)\n",
    "x = lag_features(x, [1, 2, 3, 6], \n",
    "                 merge_cols, \n",
    "                 [col], fillna_value=0.0)\n",
    "x.drop([col], axis=1, inplace=True)"
   ]
  },
  {
   "cell_type": "markdown",
   "metadata": {},
   "source": [
    "### Trend Features"
   ]
  },
  {
   "cell_type": "markdown",
   "metadata": {},
   "source": [
    "Average price of each item"
   ]
  },
  {
   "cell_type": "code",
   "execution_count": 27,
   "metadata": {},
   "outputs": [],
   "source": [
    "group = train.groupby('item_id').agg({'item_price': np.mean})\n",
    "group.columns = ['price_mean_item']\n",
    "x = pd.merge(x, group, on=['item_id'], how='left')\n",
    "x['price_mean_item'] = x['price_mean_item'].astype(np.float16)"
   ]
  },
  {
   "cell_type": "markdown",
   "metadata": {},
   "source": [
    "Average price of each item in each month"
   ]
  },
  {
   "cell_type": "code",
   "execution_count": 28,
   "metadata": {},
   "outputs": [],
   "source": [
    "group = train.groupby(['date_block_num', 'item_id']).agg({'item_price': np.mean})\n",
    "group.reset_index(inplace=True)\n",
    "group.columns = ['month', 'item_id', 'price_mean_month_item']\n",
    "x = pd.merge(x, group, on=['month', 'item_id'], how='left')\n",
    "x['price_mean_month_item'] = x['price_mean_month_item'].astype(np.float16)\n",
    "\n",
    "lags = [1, 2, 3, 4, 5, 6]\n",
    "x = lag_features(x, lags, merge_cols=['month', 'item_id'], shift_cols=['price_mean_month_item'])\n",
    "\n",
    "# delta price is the difference between price in lag month and mean price over all periods\n",
    "for i in lags:\n",
    "    x['delta_price_mean_month_item_lag_'+str(i)] = \\\n",
    "        (x['price_mean_month_item_lag_'+str(i)] - x['price_mean_item']) / x['price_mean_item']\n",
    "\n",
    "x['price_mean_month_item_diff'] = (x['price_mean_month_item'] - x['price_mean_month_item_lag_1']) / x['price_mean_month_item']\n",
    "x['price_mean_month_item_diff'] = x['price_mean_month_item_diff'].astype(np.float16)\n",
    "x = lag_features(x, lags, merge_cols=['month', 'item_id'], shift_cols=['price_mean_month_item_diff'])\n",
    "\n",
    "x.drop(['price_mean_month_item', 'price_mean_month_item_diff'], axis=1, inplace=True)"
   ]
  },
  {
   "cell_type": "markdown",
   "metadata": {},
   "source": [
    "Last month shop revenue trend"
   ]
  },
  {
   "cell_type": "code",
   "execution_count": 29,
   "metadata": {},
   "outputs": [],
   "source": [
    "train['revenue'] = train['item_cnt_day']*train['item_price']\n",
    "group = train.groupby(['date_block_num', 'shop_id']).agg({'revenue': np.sum})\n",
    "\n",
    "group.reset_index(inplace=True)\n",
    "group.columns = ['month', 'shop_id', 'rev_sum_month_shop']\n",
    "\n",
    "x = pd.merge(x, group, on=['month', 'shop_id'], how='left')\n",
    "x['rev_sum_month_shop'] = x['rev_sum_month_shop'].astype(np.float32)\n",
    "\n",
    "group = train.groupby(['shop_id']).agg({'revenue': lambda x: np.sum(x)/34})\n",
    "group.reset_index(inplace=True)\n",
    "group.columns = ['shop_id', 'rev_sum_month_shop_mean_month']\n",
    "\n",
    "x = pd.merge(x, group, on=['shop_id'], how='left')\n",
    "x['delta_rev'] = (x['rev_sum_month_shop'] - x['rev_sum_month_shop_mean_month']) / x['rev_sum_month_shop_mean_month']\n",
    "x = lag_features(x, [1], merge_cols=['month', 'shop_id'], shift_cols=['delta_rev'])\n",
    "x.drop(['rev_sum_month_shop', 'delta_rev'], axis=1, inplace=True)"
   ]
  },
  {
   "cell_type": "markdown",
   "metadata": {},
   "source": [
    "### Special Features"
   ]
  },
  {
   "cell_type": "markdown",
   "metadata": {},
   "source": [
    "Month and days"
   ]
  },
  {
   "cell_type": "code",
   "execution_count": 30,
   "metadata": {},
   "outputs": [],
   "source": [
    "x['month2'] = x['month'] % 12\n",
    "x['days_in_month'] = x['month2'].map(pd.Series([31,28,31,30,31,30,31,31,30,31,30,31]))"
   ]
  },
  {
   "cell_type": "markdown",
   "metadata": {},
   "source": [
    "Distance to the last sold month for (month, shop, item) pair"
   ]
  },
  {
   "cell_type": "code",
   "execution_count": 31,
   "metadata": {},
   "outputs": [
    {
     "data": {
      "application/vnd.jupyter.widget-view+json": {
       "model_id": "b0776289d51a4ab18d6d0fd469e957fd",
       "version_major": 2,
       "version_minor": 0
      },
      "text/plain": [
       "HBox(children=(IntProgress(value=0, max=35), HTML(value='')))"
      ]
     },
     "metadata": {},
     "output_type": "display_data"
    },
    {
     "name": "stdout",
     "output_type": "stream",
     "text": [
      "\n"
     ]
    }
   ],
   "source": [
    "tmp = x.pivot_table(index=['shop_id', 'item_id'], \n",
    "                    columns=['month'], \n",
    "                    values=['sales_month']).fillna(0.0)\n",
    "\n",
    "tmp = tmp>0.0\n",
    "for n in tqdm.tqdm_notebook(range(tmp.shape[1])):\n",
    "    tmp.iloc[:, n] = tmp.iloc[:, n].map({False: -1, True: n})\n",
    "tmp = tmp.shift(axis=1).fillna(-1.0).cummax(axis=1)\n",
    "tmp = np.arange(0, 35)-tmp.replace(-1.0, -np.inf)\n",
    "tmp.replace(np.inf, -1, inplace=True)\n",
    "tmp = tmp.stack()\n",
    "tmp.columns = ['shop_item_to_last_sold_month']\n",
    "tmp.reset_index(inplace=True)\n",
    "tmp = tmp[['month', 'shop_id', 'item_id', 'shop_item_to_last_sold_month']]\n",
    "\n",
    "x = pd.merge(x, tmp, on=['month', 'shop_id', 'item_id'], how='left')"
   ]
  },
  {
   "cell_type": "markdown",
   "metadata": {},
   "source": [
    "Distance to the last sold month for (month, item) pair"
   ]
  },
  {
   "cell_type": "code",
   "execution_count": 32,
   "metadata": {},
   "outputs": [
    {
     "data": {
      "application/vnd.jupyter.widget-view+json": {
       "model_id": "676f103a85f449f9ad267f035cd158d4",
       "version_major": 2,
       "version_minor": 0
      },
      "text/plain": [
       "HBox(children=(IntProgress(value=0, max=35), HTML(value='')))"
      ]
     },
     "metadata": {},
     "output_type": "display_data"
    },
    {
     "name": "stdout",
     "output_type": "stream",
     "text": [
      "\n"
     ]
    }
   ],
   "source": [
    "tmp = x.pivot_table(index=['item_id'], \n",
    "                    columns=['month'], \n",
    "                    values=['sales_month']).fillna(0.0)\n",
    "tmp = tmp>0.0\n",
    "for n in tqdm.tqdm_notebook(range(tmp.shape[1])):\n",
    "    tmp.iloc[:, n] = tmp.iloc[:, n].map({False: -1, True: n})\n",
    "tmp = tmp.shift(axis=1).fillna(-1.0).cummax(axis=1)\n",
    "tmp = np.arange(0, 35)-tmp.replace(-1.0, -np.inf)\n",
    "tmp.replace(np.inf, -1, inplace=True)\n",
    "tmp = tmp.stack()\n",
    "tmp.columns = ['item_to_last_sold_month']\n",
    "tmp.reset_index(inplace=True)\n",
    "tmp = tmp[['month', 'item_id', 'item_to_last_sold_month']]\n",
    "\n",
    "x = pd.merge(x, tmp, on=['month', 'item_id'], how='left')"
   ]
  },
  {
   "cell_type": "markdown",
   "metadata": {},
   "source": [
    "First sold month for the (shop, item) pair"
   ]
  },
  {
   "cell_type": "code",
   "execution_count": 33,
   "metadata": {},
   "outputs": [],
   "source": [
    "if False:\n",
    "    tmp = x.pivot_table(index=['shop_id', 'item_id'], \n",
    "                        columns=['month'], \n",
    "                        values=['sales_month'], \n",
    "                        aggfunc=np.sum).fillna(0.0)\n",
    "\n",
    "    a = np.nonzero(tmp.values)\n",
    "    a = np.array(a).T\n",
    "    a = pd.DataFrame(a)\n",
    "    a.columns = ['index', 'shop_item_to_first_sold_month']\n",
    "\n",
    "    a = pd.DataFrame(a.groupby('index')['shop_item_to_first_sold_month'].min())\n",
    "\n",
    "    b = tmp.copy()\n",
    "    b.reset_index(inplace=True, drop=False)\n",
    "    b.drop('sales_month', level=0, axis=1, inplace=True)\n",
    "    b.columns = ['shop_id', 'item_id']\n",
    "    b = b.join(a, how='left').fillna(-1.0)\n",
    "    x = x.merge(b, on=['shop_id', 'item_id'], how='left')"
   ]
  },
  {
   "cell_type": "markdown",
   "metadata": {},
   "source": [
    "First sold month for each item"
   ]
  },
  {
   "cell_type": "code",
   "execution_count": 34,
   "metadata": {},
   "outputs": [],
   "source": [
    "if False:\n",
    "    tmp = x.pivot_table(index=['item_id'], \n",
    "                        columns=['month'], \n",
    "                        values=['sales_month'], \n",
    "                        aggfunc=np.sum).fillna(0.0)\n",
    "\n",
    "\n",
    "    a = np.nonzero(tmp.values)\n",
    "    a = np.array(a).T\n",
    "    a = pd.DataFrame(a)\n",
    "    a.columns = ['index', 'item_to_first_sold_month']\n",
    "    a = pd.DataFrame(a.groupby('index')['item_to_first_sold_month'].min())\n",
    "\n",
    "    b = tmp.copy()\n",
    "    b.reset_index(inplace=True, drop=False)\n",
    "    b.drop('sales_month', level=0, axis=1, inplace=True)\n",
    "    b.columns = ['item_id']\n",
    "\n",
    "    b = b.join(a, how='left').fillna(-1.0)\n",
    "    x = x.merge(b, on=['item_id'], how='left')"
   ]
  },
  {
   "cell_type": "markdown",
   "metadata": {},
   "source": [
    "## CV"
   ]
  },
  {
   "cell_type": "code",
   "execution_count": 35,
   "metadata": {},
   "outputs": [],
   "source": [
    "# Split train and test sets\n",
    "x_train = x.loc[(x['month']<=32) & (x['month']>=12), :].copy()\n",
    "x_val = x.loc[x['month']==33, :].copy()\n",
    "x_test = x.loc[x['month']==34, :].copy()\n",
    "\n",
    "# Drop target from test set\n",
    "x_test.drop(['sales_month'], axis=1, inplace=True)\n",
    "\n",
    "# Split target from train set\n",
    "# Note that target is first clipped to (0, 40), then clipped to (0, 20) in test set. \n",
    "# This is similar to the idea of calibration\n",
    "y_train = x_train['sales_month'].clip(0, 40)\n",
    "x_train.drop(['sales_month'], axis=1, inplace=True)\n",
    "\n",
    "y_val = x_val['sales_month'].clip(0, 40)\n",
    "x_val.drop(['sales_month'], axis=1, inplace=True)"
   ]
  },
  {
   "cell_type": "code",
   "execution_count": 38,
   "metadata": {},
   "outputs": [],
   "source": [
    "param = {'max_depth':8, \n",
    "         'subsample':0.8,\n",
    "         'min_child_weight':10,\n",
    "         'eta':0.1, \n",
    "         'lambda':2,\n",
    "         'colsample_bytree':0.8,\n",
    "         'seed':1,\n",
    "         'silent':1,\n",
    "         'maximize': False,\n",
    "         'nthread':8}\n",
    "\n",
    "n_tree = 40\n",
    "verbose = True\n",
    "n_split = 3\n",
    "n_repetition = 2"
   ]
  },
  {
   "cell_type": "code",
   "execution_count": 39,
   "metadata": {},
   "outputs": [
    {
     "name": "stdout",
     "output_type": "stream",
     "text": [
      "[0]\ttrain-rmse:1.37904\tval-rmse:1.36224\ttrain-clip-rmse:1.13881\tval-clip-rmse:1.10832\n",
      "[1]\ttrain-rmse:1.32299\tval-rmse:1.31453\ttrain-clip-rmse:1.08608\tval-clip-rmse:1.0626\n",
      "[2]\ttrain-rmse:1.26886\tval-rmse:1.27692\ttrain-clip-rmse:1.03645\tval-clip-rmse:1.02786\n",
      "[3]\ttrain-rmse:1.22394\tval-rmse:1.2405\ttrain-clip-rmse:0.996175\tval-clip-rmse:0.993027\n",
      "[4]\ttrain-rmse:1.18655\tval-rmse:1.21738\ttrain-clip-rmse:0.963764\tval-clip-rmse:0.972448\n",
      "[5]\ttrain-rmse:1.15156\tval-rmse:1.18649\ttrain-clip-rmse:0.934835\tval-clip-rmse:0.944665\n",
      "[6]\ttrain-rmse:1.12089\tval-rmse:1.16078\ttrain-clip-rmse:0.910406\tval-clip-rmse:0.924112\n",
      "[7]\ttrain-rmse:1.09693\tval-rmse:1.13856\ttrain-clip-rmse:0.892003\tval-clip-rmse:0.906139\n",
      "[8]\ttrain-rmse:1.07416\tval-rmse:1.12121\ttrain-clip-rmse:0.874839\tval-clip-rmse:0.893202\n",
      "[9]\ttrain-rmse:1.05536\tval-rmse:1.1066\ttrain-clip-rmse:0.86111\tval-clip-rmse:0.882391\n",
      "[10]\ttrain-rmse:1.03872\tval-rmse:1.09554\ttrain-clip-rmse:0.849188\tval-clip-rmse:0.875374\n",
      "[11]\ttrain-rmse:1.02595\tval-rmse:1.08796\ttrain-clip-rmse:0.840205\tval-clip-rmse:0.870352\n",
      "[12]\ttrain-rmse:1.01222\tval-rmse:1.08267\ttrain-clip-rmse:0.830964\tval-clip-rmse:0.868419\n",
      "[13]\ttrain-rmse:1.00122\tval-rmse:1.07546\ttrain-clip-rmse:0.823721\tval-clip-rmse:0.86405\n",
      "[14]\ttrain-rmse:0.992077\tval-rmse:1.07072\ttrain-clip-rmse:0.818036\tval-clip-rmse:0.861798\n",
      "[15]\ttrain-rmse:0.984059\tval-rmse:1.06682\ttrain-clip-rmse:0.81294\tval-clip-rmse:0.859381\n",
      "[16]\ttrain-rmse:0.975726\tval-rmse:1.06594\ttrain-clip-rmse:0.807642\tval-clip-rmse:0.860184\n",
      "[17]\ttrain-rmse:0.968615\tval-rmse:1.06445\ttrain-clip-rmse:0.803424\tval-clip-rmse:0.861117\n",
      "[18]\ttrain-rmse:0.962372\tval-rmse:1.06219\ttrain-clip-rmse:0.799453\tval-clip-rmse:0.859961\n",
      "[19]\ttrain-rmse:0.956086\tval-rmse:1.05958\ttrain-clip-rmse:0.795529\tval-clip-rmse:0.858616\n",
      "[20]\ttrain-rmse:0.951121\tval-rmse:1.06134\ttrain-clip-rmse:0.792553\tval-clip-rmse:0.862\n",
      "[21]\ttrain-rmse:0.94629\tval-rmse:1.06319\ttrain-clip-rmse:0.789792\tval-clip-rmse:0.865342\n",
      "[22]\ttrain-rmse:0.94182\tval-rmse:1.06237\ttrain-clip-rmse:0.787237\tval-clip-rmse:0.865633\n",
      "[23]\ttrain-rmse:0.938002\tval-rmse:1.06084\ttrain-clip-rmse:0.785056\tval-clip-rmse:0.865561\n",
      "[24]\ttrain-rmse:0.934436\tval-rmse:1.06509\ttrain-clip-rmse:0.782879\tval-clip-rmse:0.870541\n",
      "[25]\ttrain-rmse:0.931106\tval-rmse:1.06752\ttrain-clip-rmse:0.780796\tval-clip-rmse:0.874555\n",
      "[26]\ttrain-rmse:0.927675\tval-rmse:1.06813\ttrain-clip-rmse:0.778845\tval-clip-rmse:0.876107\n",
      "[27]\ttrain-rmse:0.924676\tval-rmse:1.06605\ttrain-clip-rmse:0.777093\tval-clip-rmse:0.875017\n",
      "[28]\ttrain-rmse:0.921933\tval-rmse:1.06884\ttrain-clip-rmse:0.775332\tval-clip-rmse:0.878638\n",
      "[29]\ttrain-rmse:0.919573\tval-rmse:1.06919\ttrain-clip-rmse:0.773966\tval-clip-rmse:0.87991\n",
      "[30]\ttrain-rmse:0.916624\tval-rmse:1.06984\ttrain-clip-rmse:0.772093\tval-clip-rmse:0.88103\n",
      "[31]\ttrain-rmse:0.913308\tval-rmse:1.07017\ttrain-clip-rmse:0.769861\tval-clip-rmse:0.881748\n",
      "[32]\ttrain-rmse:0.910567\tval-rmse:1.07192\ttrain-clip-rmse:0.768077\tval-clip-rmse:0.884068\n",
      "[33]\ttrain-rmse:0.908853\tval-rmse:1.07124\ttrain-clip-rmse:0.767002\tval-clip-rmse:0.883548\n",
      "[34]\ttrain-rmse:0.906611\tval-rmse:1.07047\ttrain-clip-rmse:0.765769\tval-clip-rmse:0.883738\n",
      "[35]\ttrain-rmse:0.904744\tval-rmse:1.07215\ttrain-clip-rmse:0.764402\tval-clip-rmse:0.885476\n",
      "[36]\ttrain-rmse:0.902866\tval-rmse:1.07641\ttrain-clip-rmse:0.763191\tval-clip-rmse:0.890327\n",
      "[37]\ttrain-rmse:0.900218\tval-rmse:1.07486\ttrain-clip-rmse:0.761586\tval-clip-rmse:0.889174\n",
      "[38]\ttrain-rmse:0.897407\tval-rmse:1.07702\ttrain-clip-rmse:0.759442\tval-clip-rmse:0.891175\n",
      "[39]\ttrain-rmse:0.895175\tval-rmse:1.07781\ttrain-clip-rmse:0.757652\tval-clip-rmse:0.892134\n",
      "CV repetition 1/2 finished, running time 3.206 min, val score 0.8921.\n",
      "------------------------------------\n",
      "\n",
      "[0]\ttrain-rmse:1.38405\tval-rmse:1.36966\ttrain-clip-rmse:1.14422\tval-clip-rmse:1.11671\n",
      "[1]\ttrain-rmse:1.32287\tval-rmse:1.32105\ttrain-clip-rmse:1.08686\tval-clip-rmse:1.06967\n",
      "[2]\ttrain-rmse:1.27038\tval-rmse:1.28235\ttrain-clip-rmse:1.03872\tval-clip-rmse:1.0334\n",
      "[3]\ttrain-rmse:1.22413\tval-rmse:1.24818\ttrain-clip-rmse:0.997413\tval-clip-rmse:1.00125\n",
      "[4]\ttrain-rmse:1.18558\tval-rmse:1.21327\ttrain-clip-rmse:0.963858\tval-clip-rmse:0.969834\n",
      "[5]\ttrain-rmse:1.15503\tval-rmse:1.19125\ttrain-clip-rmse:0.938526\tval-clip-rmse:0.951752\n",
      "[6]\ttrain-rmse:1.12459\tval-rmse:1.16863\ttrain-clip-rmse:0.914035\tval-clip-rmse:0.932561\n",
      "[7]\ttrain-rmse:1.09906\tval-rmse:1.15273\ttrain-clip-rmse:0.894513\tval-clip-rmse:0.92142\n",
      "[8]\ttrain-rmse:1.07597\tval-rmse:1.13212\ttrain-clip-rmse:0.877122\tval-clip-rmse:0.90505\n",
      "[9]\ttrain-rmse:1.05738\tval-rmse:1.12186\ttrain-clip-rmse:0.863656\tval-clip-rmse:0.898481\n",
      "[10]\ttrain-rmse:1.04002\tval-rmse:1.10971\ttrain-clip-rmse:0.851097\tval-clip-rmse:0.88977\n",
      "[11]\ttrain-rmse:1.02626\tval-rmse:1.10092\ttrain-clip-rmse:0.84129\tval-clip-rmse:0.883383\n",
      "[12]\ttrain-rmse:1.01379\tval-rmse:1.08967\ttrain-clip-rmse:0.832602\tval-clip-rmse:0.874862\n",
      "[13]\ttrain-rmse:1.00226\tval-rmse:1.08448\ttrain-clip-rmse:0.824868\tval-clip-rmse:0.871706\n",
      "[14]\ttrain-rmse:0.993255\tval-rmse:1.07808\ttrain-clip-rmse:0.819105\tval-clip-rmse:0.867403\n",
      "[15]\ttrain-rmse:0.983454\tval-rmse:1.07312\ttrain-clip-rmse:0.812739\tval-clip-rmse:0.864739\n",
      "[16]\ttrain-rmse:0.976211\tval-rmse:1.06677\ttrain-clip-rmse:0.80814\tval-clip-rmse:0.860577\n",
      "[17]\ttrain-rmse:0.969548\tval-rmse:1.06573\ttrain-clip-rmse:0.803613\tval-clip-rmse:0.861093\n",
      "[18]\ttrain-rmse:0.963998\tval-rmse:1.06058\ttrain-clip-rmse:0.800352\tval-clip-rmse:0.857391\n",
      "[19]\ttrain-rmse:0.958492\tval-rmse:1.0587\ttrain-clip-rmse:0.797077\tval-clip-rmse:0.856629\n",
      "[20]\ttrain-rmse:0.953095\tval-rmse:1.05721\ttrain-clip-rmse:0.793647\tval-clip-rmse:0.856724\n",
      "[21]\ttrain-rmse:0.948752\tval-rmse:1.05853\ttrain-clip-rmse:0.791011\tval-clip-rmse:0.859926\n",
      "[22]\ttrain-rmse:0.945138\tval-rmse:1.0589\ttrain-clip-rmse:0.788961\tval-clip-rmse:0.861298\n",
      "[23]\ttrain-rmse:0.941238\tval-rmse:1.06072\ttrain-clip-rmse:0.786386\tval-clip-rmse:0.864005\n",
      "[24]\ttrain-rmse:0.937548\tval-rmse:1.06124\ttrain-clip-rmse:0.784265\tval-clip-rmse:0.865575\n",
      "[25]\ttrain-rmse:0.933568\tval-rmse:1.06007\ttrain-clip-rmse:0.782013\tval-clip-rmse:0.865533\n",
      "[26]\ttrain-rmse:0.929734\tval-rmse:1.0644\ttrain-clip-rmse:0.779748\tval-clip-rmse:0.871213\n",
      "[27]\ttrain-rmse:0.92696\tval-rmse:1.06267\ttrain-clip-rmse:0.77821\tval-clip-rmse:0.870648\n",
      "[28]\ttrain-rmse:0.923618\tval-rmse:1.06483\ttrain-clip-rmse:0.776538\tval-clip-rmse:0.873996\n",
      "[29]\ttrain-rmse:0.920682\tval-rmse:1.0639\ttrain-clip-rmse:0.774754\tval-clip-rmse:0.873766\n",
      "[30]\ttrain-rmse:0.917266\tval-rmse:1.06563\ttrain-clip-rmse:0.772251\tval-clip-rmse:0.876341\n",
      "[31]\ttrain-rmse:0.915304\tval-rmse:1.06474\ttrain-clip-rmse:0.771066\tval-clip-rmse:0.875741\n",
      "[32]\ttrain-rmse:0.912695\tval-rmse:1.06428\ttrain-clip-rmse:0.769329\tval-clip-rmse:0.875996\n",
      "[33]\ttrain-rmse:0.910826\tval-rmse:1.06387\ttrain-clip-rmse:0.768315\tval-clip-rmse:0.876409\n",
      "[34]\ttrain-rmse:0.908781\tval-rmse:1.06712\ttrain-clip-rmse:0.767071\tval-clip-rmse:0.879876\n",
      "[35]\ttrain-rmse:0.907147\tval-rmse:1.06677\ttrain-clip-rmse:0.766007\tval-clip-rmse:0.879778\n",
      "[36]\ttrain-rmse:0.90463\tval-rmse:1.07002\ttrain-clip-rmse:0.764449\tval-clip-rmse:0.884042\n",
      "[37]\ttrain-rmse:0.903304\tval-rmse:1.06977\ttrain-clip-rmse:0.763652\tval-clip-rmse:0.884167\n",
      "[38]\ttrain-rmse:0.900934\tval-rmse:1.07387\ttrain-clip-rmse:0.761931\tval-clip-rmse:0.888901\n",
      "[39]\ttrain-rmse:0.897851\tval-rmse:1.07376\ttrain-clip-rmse:0.759222\tval-clip-rmse:0.888933\n",
      "CV repetition 2/2 finished, running time 3.090 min, val score 0.8889.\n",
      "------------------------------------\n",
      "\n"
     ]
    }
   ],
   "source": [
    "if True:\n",
    "    dtrain = xgb.DMatrix(x_train, y_train)\n",
    "    dval = xgb.DMatrix(x_val, y_val)\n",
    "    cv_results = {}\n",
    "    cv_bst = {}\n",
    "    np.random.seed(42)\n",
    "    for n in range(n_repetition):\n",
    "        time_start = time.time()\n",
    "        param['seed'] = np.random.randint(10**6)\n",
    "        cv_results[n] = {}\n",
    "        cv_bst[n] = xgb.train(param, dtrain,num_boost_round=n_tree, \n",
    "            evals=[(dtrain, 'train'), (dval, 'val')], \n",
    "            feval=clip_rmse, maximize=False, early_stopping_rounds=None, \n",
    "            evals_result=cv_results[n], verbose_eval=verbose)\n",
    "        running_time = time.time() - time_start\n",
    "        print('CV repetition {}/{} finished, running time {:.3f} min, val score {:.4f}.'.format(n+1, n_repetition, \n",
    "            running_time/60, cv_results[n]['val']['clip-rmse'][-1]))\n",
    "        print('------------------------------------\\n')"
   ]
  },
  {
   "cell_type": "markdown",
   "metadata": {},
   "source": [
    "CV history"
   ]
  },
  {
   "cell_type": "code",
   "execution_count": 40,
   "metadata": {},
   "outputs": [],
   "source": [
    "if True:\n",
    "    tmp = pd.DataFrame({(d, k): cv_results[k][d]['clip-rmse'] \n",
    "        for k, d in itertools.product(range(n_repetition), ['train', 'val'])})\n",
    "    tmp[[('train', 'mean'), ('val', 'mean')]] = tmp.mean(axis=1, level=0)\n",
    "    tmp[[('train', 'std'), ('val', 'std')]] = tmp.std(axis=1, level=0)\n",
    "    tmp.drop([0, 1], axis=1, level=1, inplace=True)\n",
    "\n",
    "    cv_history = tmp.copy()\n",
    "    \n",
    "    plt.figure(figsize=(16, 9))\n",
    "    plt.plot(np.arange(n_tree), cv_history[('train', 'mean')])\n",
    "    plt.fill_between(np.arange(n_tree), \n",
    "        cv_history[('train', 'mean')]-cv_history[('train', 'std')], \n",
    "        cv_history[('train', 'mean')]+cv_history[('train', 'std')],\n",
    "        alpha=0.5)\n",
    "    plt.plot(np.arange(n_tree), cv_history[('val', 'mean')])\n",
    "    plt.fill_between(np.arange(n_tree), \n",
    "        cv_history[('val', 'mean')]-cv_history[('val', 'std')], \n",
    "        cv_history[('val', 'mean')]+cv_history[('val', 'std')],\n",
    "        alpha=0.5)\n"
   ]
  },
  {
   "cell_type": "markdown",
   "metadata": {},
   "source": [
    "Feature importance"
   ]
  },
  {
   "cell_type": "code",
   "execution_count": null,
   "metadata": {},
   "outputs": [],
   "source": [
    "if True:\n",
    "    feature_importance = pd.DataFrame({k: cv_bst[k].get_score(importance_type='gain') for k in cv_bst.keys()})\n",
    "    feature_importance['mean'] = feature_importance.mean(axis=1)\n",
    "    feature_importance['std'] = feature_importance.std(axis=1)\n",
    "    feature_importance.drop([0, 1], axis=1, inplace=True)\n",
    "    feature_importance.sort_values('mean', axis=0, inplace=True, ascending=False)\n",
    "    feature_importance.to_csv('eda_11_7_feature_importance.csv')"
   ]
  },
  {
   "cell_type": "code",
   "execution_count": 51,
   "metadata": {},
   "outputs": [
    {
     "name": "stdout",
     "output_type": "stream",
     "text": [
      "[0]\ttrain-rmse:1.37984\ttrain-clip-rmse:1.13872\n",
      "[1]\ttrain-rmse:1.32017\ttrain-clip-rmse:1.08248\n",
      "[2]\ttrain-rmse:1.26822\ttrain-clip-rmse:1.03505\n",
      "[3]\ttrain-rmse:1.22323\ttrain-clip-rmse:0.994798\n",
      "[4]\ttrain-rmse:1.18408\ttrain-clip-rmse:0.961162\n",
      "[5]\ttrain-rmse:1.15094\ttrain-clip-rmse:0.933405\n",
      "[6]\ttrain-rmse:1.12211\ttrain-clip-rmse:0.910656\n",
      "[7]\ttrain-rmse:1.09829\ttrain-clip-rmse:0.892689\n",
      "[8]\ttrain-rmse:1.07718\ttrain-clip-rmse:0.876788\n",
      "[9]\ttrain-rmse:1.05881\ttrain-clip-rmse:0.863358\n",
      "[10]\ttrain-rmse:1.04319\ttrain-clip-rmse:0.851664\n",
      "[11]\ttrain-rmse:1.02943\ttrain-clip-rmse:0.842113\n",
      "[12]\ttrain-rmse:1.01704\ttrain-clip-rmse:0.833596\n",
      "[13]\ttrain-rmse:1.00647\ttrain-clip-rmse:0.82688\n",
      "[14]\ttrain-rmse:0.99791\ttrain-clip-rmse:0.821518\n",
      "[15]\ttrain-rmse:0.990519\ttrain-clip-rmse:0.816842\n",
      "[16]\ttrain-rmse:0.9824\ttrain-clip-rmse:0.811181\n",
      "[17]\ttrain-rmse:0.976007\ttrain-clip-rmse:0.807168\n",
      "[18]\ttrain-rmse:0.969836\ttrain-clip-rmse:0.803407\n",
      "[19]\ttrain-rmse:0.964164\ttrain-clip-rmse:0.800062\n"
     ]
    }
   ],
   "source": [
    "if True:\n",
    "    n_tree=20\n",
    "    x_train = x.loc[(x['month']<=33) & (x['month']>=12), :].copy()\n",
    "    x_test = x.loc[x['month']==34, :].copy()\n",
    "\n",
    "    # Drop target from test set\n",
    "    x_test.drop(['sales_month'], axis=1, inplace=True)\n",
    "\n",
    "    y_train = x_train['sales_month'].clip(0, 40)\n",
    "    x_train.drop(['sales_month'], axis=1, inplace=True)\n",
    "    \n",
    "    dtrain = xgb.DMatrix(x_train, y_train)\n",
    "    bst = xgb.train(param, dtrain, num_boost_round=n_tree, \n",
    "                    evals=[(dtrain, 'train')], feval=clip_rmse, maximize=False,\n",
    "                    verbose_eval=True)\n",
    "\n",
    "    preds = bst.predict(xgb.DMatrix(x_test))\n",
    "    preds = list(map(lambda x: min(20, max(x, 0)), list(preds)))\n",
    "    sub_df = pd.DataFrame({'ID': test.index, 'item_cnt_month': preds})\n",
    "    sub_df.to_csv('eda_11_7_submit.csv', index=False)"
   ]
  },
  {
   "cell_type": "code",
   "execution_count": null,
   "metadata": {},
   "outputs": [],
   "source": []
  }
 ],
 "metadata": {
  "kernelspec": {
   "display_name": "Python 3",
   "language": "python",
   "name": "python3"
  },
  "language_info": {
   "codemirror_mode": {
    "name": "ipython",
    "version": 3
   },
   "file_extension": ".py",
   "mimetype": "text/x-python",
   "name": "python",
   "nbconvert_exporter": "python",
   "pygments_lexer": "ipython3",
   "version": "3.6.6"
  }
 },
 "nbformat": 4,
 "nbformat_minor": 2
}
