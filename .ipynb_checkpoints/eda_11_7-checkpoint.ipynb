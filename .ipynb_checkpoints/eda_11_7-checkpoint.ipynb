{
 "cells": [
  {
   "cell_type": "code",
   "execution_count": 1,
   "metadata": {},
   "outputs": [],
   "source": [
    "import numpy as np\n",
    "import pandas as pd\n",
    "import matplotlib.pyplot as plt\n",
    "import os\n",
    "import gc\n",
    "import sys\n",
    "import time\n",
    "import gc\n",
    "import itertools\n",
    "import tqdm\n",
    "import time\n",
    "import copy\n",
    "\n",
    "import scipy.stats as ss\n",
    "from numba import jit\n",
    "\n",
    "if os.name=='nt':\n",
    "    try:\n",
    "        mingw_path = 'C:\\\\Program Files\\\\mingw-w64\\\\x86_64-8.1.0-posix-seh-rt_v6-rev0\\\\mingw64\\\\bin'\n",
    "        os.environ['PATH'] = mingw_path + ';' + os.environ['PATH']\n",
    "    except:\n",
    "        pass\n",
    "    \n",
    "import xgboost as xgb\n",
    "from sklearn.metrics import mean_squared_error \n",
    "from sklearn.preprocessing import LabelEncoder\n",
    "from sklearn.model_selection import StratifiedKFold\n",
    "\n",
    "%matplotlib inline"
   ]
  },
  {
   "cell_type": "markdown",
   "metadata": {},
   "source": [
    "### Helper Function"
   ]
  },
  {
   "cell_type": "code",
   "execution_count": 2,
   "metadata": {},
   "outputs": [],
   "source": [
    "def lag_features(df, lags, merge_cols, shift_cols, fillna_value=None):\n",
    "    '''create lag features of col'''\n",
    "    cols = copy.copy(merge_cols)\n",
    "    cols.extend(shift_cols)\n",
    "    tmp = df.loc[:, cols]\n",
    "    for i in lags:\n",
    "        shifted = tmp.copy()\n",
    "        shifted_cols = shifted.columns.tolist()\n",
    "        shifted_cols = [c+'_lag_'+str(i) if c in shift_cols else c \n",
    "                        for c in shifted_cols]\n",
    "        shifted.columns = shifted_cols\n",
    "        shifted['month'] += i\n",
    "        shifted.drop_duplicates(inplace=True)\n",
    "        df = pd.merge(df, shifted, on=merge_cols, how='left')\n",
    "    if fillna_value is not None:\n",
    "        df.fillna(fillna_value, inplace=True)\n",
    "    return df    "
   ]
  },
  {
   "cell_type": "code",
   "execution_count": 3,
   "metadata": {},
   "outputs": [],
   "source": [
    "def clip_rmse(preds, dtrain):\n",
    "    y_test = np.array(dtrain.get_label())\n",
    "    preds = np.array(preds)\n",
    "    y_test = np.maximum(np.minimum(y_test, 20), 0)\n",
    "    preds = np.maximum(np.minimum(preds, 20), 0)\n",
    "    #preds = np.array(list(map(lambda x: min(20, max(x, 0)), list(preds))))\n",
    "    #y_test = np.array(list(map(lambda x: min(20, max(x, 0)), list(y_test))))\n",
    "    rmse = np.sqrt(mean_squared_error(preds,y_test))\n",
    "    return 'clip-rmse', rmse"
   ]
  },
  {
   "cell_type": "code",
   "execution_count": 4,
   "metadata": {},
   "outputs": [],
   "source": [
    "def cv(x_train, y_train, param, n_repetition, n_split, n_tree, verbose, random_state):\n",
    "    '''Repeated CV'''\n",
    "    \n",
    "    cv_results = {}\n",
    "    clf = {}\n",
    "    running_time = {}\n",
    "\n",
    "    np.random.seed(random_state)\n",
    "\n",
    "    for m in range(n_repetition):\n",
    "        # Train and valuation sets split\n",
    "        skf = StratifiedKFold(n_splits=n_split, random_state=np.random.randint(10**6), shuffle=True)\n",
    "\n",
    "        for n, (train_index, val_index) in enumerate(skf.split(x_train, y_train)):\n",
    "\n",
    "            start_time = time.time()\n",
    "\n",
    "            # Construct DMatrix\n",
    "            dtrain = xgb.DMatrix(x_train.iloc[train_index], label=y_train.iloc[train_index])\n",
    "            dval = xgb.DMatrix(x_train.iloc[val_index], label=y_train.iloc[val_index])\n",
    "\n",
    "            # Placeholder for evals_results\n",
    "            cv_results[m, n] = {}\n",
    "\n",
    "            param['seed'] = np.random.randint(10**6)\n",
    "            clf[m, n] = xgb.train(param, dtrain,num_boost_round=n_tree, \n",
    "                                  evals=[(dtrain, 'train'), (dval, 'val')], \n",
    "                                  feval=clip_rmse, maximize=False, early_stopping_rounds=None, \n",
    "                                  evals_result=cv_results[m, n], verbose_eval=verbose)\n",
    "\n",
    "            running_time[m, n] = time.time() - start_time\n",
    "\n",
    "            print('Repeat {}, split {}, val score = {:.3f}, running time = {:.3f} min.'.format(m, n, \n",
    "                cv_results[m, n]['val']['clip-rmse'][-1], running_time[m, n]/60))\n",
    "\n",
    "    cv_results_final = {}\n",
    "    for m in range(n_repetition):\n",
    "        for n in range(n_split):\n",
    "            cv_results_final['train', m, n] = cv_results[m, n]['train']['clip-rmse']\n",
    "            cv_results_final['val', m, n] = cv_results[m, n]['val']['clip-rmse']\n",
    "\n",
    "    df = pd.DataFrame(cv_results_final)\n",
    "    df.index.name = 'iteration'\n",
    "    df.columns.names = ['dataset', 'repetition', 'cv_split']\n",
    "\n",
    "    print('Val mean = {:.3f}, std = {:.3f}'.format(df['val'].iloc[-1].mean(), df['val'].iloc[-1].std()))\n",
    "    \n",
    "    return df, clf, running_time"
   ]
  },
  {
   "cell_type": "code",
   "execution_count": 5,
   "metadata": {},
   "outputs": [],
   "source": [
    "def feature_combination(x, feature_list, function_dict, column_name, merge=False):\n",
    "    '''Combination of new features'''\n",
    "    tmp = x.groupby(feature_list).agg(function_dict)\n",
    "    tmp.columns = column_name\n",
    "    if merge:\n",
    "        x = x.merge(tmp, on=feature_list, how='left')\n",
    "        return x, tmp\n",
    "    else:\n",
    "        return tmp"
   ]
  },
  {
   "cell_type": "markdown",
   "metadata": {},
   "source": [
    "### Load and Preprocess Data"
   ]
  },
  {
   "cell_type": "code",
   "execution_count": 6,
   "metadata": {},
   "outputs": [],
   "source": [
    "# Load data\n",
    "train = pd.read_csv('all/sales_train.csv.gz')\n",
    "test = pd.read_csv('all/test.csv.gz')\n",
    "shop = pd.read_csv('all/shops-translated.csv')\n",
    "item = pd.read_csv('all/item_category.csv')\n",
    "\n",
    "test.set_index('ID', inplace=True)\n",
    "item.drop(['item_name_translated'], axis=1, inplace=True)\n",
    "shop.drop(['Name'], axis=1, inplace=True)\n",
    "\n",
    "le = LabelEncoder()\n",
    "item['item_cat1'] = le.fit_transform(item['item_cat1'].astype(str))\n",
    "item['item_cat2'] = le.fit_transform(item['item_cat2'].astype(str))\n",
    "shop['City'] = le.fit_transform(shop['City'])\n",
    "shop['Type'] = le.fit_transform(shop['Type'])"
   ]
  },
  {
   "cell_type": "markdown",
   "metadata": {},
   "source": [
    "Remove outliers"
   ]
  },
  {
   "cell_type": "code",
   "execution_count": 7,
   "metadata": {},
   "outputs": [],
   "source": [
    "train = train[train.item_price<100000]\n",
    "train = train[train.item_cnt_day<1001]\n",
    "median = train[(train.shop_id==32)&(train.item_id==2973)&(train.date_block_num==4)&(train.item_price>0)].item_price.median()\n",
    "train.loc[train.item_price<0, 'item_price'] = median"
   ]
  },
  {
   "cell_type": "markdown",
   "metadata": {},
   "source": [
    "Fix shop names and ids"
   ]
  },
  {
   "cell_type": "code",
   "execution_count": 8,
   "metadata": {},
   "outputs": [],
   "source": [
    "train.loc[train.shop_id == 0, 'shop_id'] = 57\n",
    "test.loc[test.shop_id == 0, 'shop_id'] = 57\n",
    "train.loc[train.shop_id == 1, 'shop_id'] = 58\n",
    "test.loc[test.shop_id == 1, 'shop_id'] = 58\n",
    "train.loc[train.shop_id == 10, 'shop_id'] = 11\n",
    "test.loc[test.shop_id == 10, 'shop_id'] = 11"
   ]
  },
  {
   "cell_type": "markdown",
   "metadata": {},
   "source": [
    "Monthly sales for all the samples"
   ]
  },
  {
   "cell_type": "code",
   "execution_count": 9,
   "metadata": {},
   "outputs": [],
   "source": [
    "x = pd.DataFrame(train.groupby(['date_block_num', 'shop_id', 'item_id'])['item_cnt_day'].sum())\n",
    "\n",
    "x.reset_index(inplace=True)"
   ]
  },
  {
   "cell_type": "markdown",
   "metadata": {},
   "source": [
    "Training set only contains sold samples, need to extend to all samples.\n",
    "\n",
    "There are two ways of extending:\n",
    "1. overall product between elements in (month, shop_id, item_id)\n",
    "2. in each month, the product between elements in (shop_id, item_id)\n",
    "\n",
    "The first one increases the number of rows by 23.5 times, the second one 6 times"
   ]
  },
  {
   "cell_type": "code",
   "execution_count": 10,
   "metadata": {},
   "outputs": [
    {
     "name": "stdout",
     "output_type": "stream",
     "text": [
      "overall product count is 42260028, sample count is 1609123, ratio is 26.263\n",
      "monthly product count sum is 10913804, monthly sample count is 1609123, ratio is 6.782\n"
     ]
    }
   ],
   "source": [
    "shop_count = {}\n",
    "item_count = {}\n",
    "product_count = {}\n",
    "sample_count = {}\n",
    "ratio = {}\n",
    "\n",
    "for n in x.date_block_num.unique():\n",
    "    shop_count[n] = len(x.loc[x.date_block_num==n, 'shop_id'].unique())\n",
    "    item_count[n] = len(x.loc[x.date_block_num==n, 'item_id'].unique())\n",
    "    sample_count[n] = len(x.loc[x.date_block_num==n, :])\n",
    "    product_count[n] = shop_count[n]*item_count[n]\n",
    "    ratio[n] = product_count[n]/sample_count[n]\n",
    "#     print('product count is {}, sample count is {}, ratio is {:.3f}'.format(product_count[n], \n",
    "#                                                                             sample_count[n], \n",
    "#                                                                             product_count[n]/sample_count[n]))\n",
    "    \n",
    "print('overall product count is {}, sample count is {}, ratio is {:.3f}'.format(\n",
    "    len(x.shop_id.unique())*len(x.item_id.unique())*34, \n",
    "    x.shape[0], 34*len(x.shop_id.unique())*len(x.item_id.unique())/x.shape[0]))\n",
    "print('monthly product count sum is {}, monthly sample count is {}, ratio is {:.3f}'.format(\n",
    "    sum(product_count.values()), sum(sample_count.values()), sum(product_count.values())/sum(sample_count.values())))"
   ]
  },
  {
   "cell_type": "markdown",
   "metadata": {},
   "source": [
    "Try the first extending method\n",
    "\n",
    "It requires huge RAM"
   ]
  },
  {
   "cell_type": "code",
   "execution_count": 11,
   "metadata": {},
   "outputs": [],
   "source": [
    "if False:\n",
    "    month = np.arange(0, 34)\n",
    "    shop_list = train.shop_id.unique().tolist()\n",
    "    item_list = train.item_id.unique().tolist()\n",
    "    n_rows = len(month)*len(shop_list)*len(item_list)\n",
    "\n",
    "    idx = pd.MultiIndex.from_product([month, shop_list, item_list], names=['date_block_num', 'shop_id', 'item_id'])\n",
    "\n",
    "    x2 = pd.DataFrame(np.zeros((n_rows,2)), index=idx)\n",
    "    x2.reset_index(inplace=True, drop=False)\n",
    "    x2.drop([0, 1], axis=1, inplace=True)\n",
    "\n",
    "    x = x2.merge(x, on=['date_block_num', 'shop_id', 'item_id'], how='outer').fillna(0.0)\n",
    "    test['date_block_num'] = 34\n",
    "    x = pd.concat((x, test), sort=False).fillna(0.0)\n",
    "\n",
    "    del x2\n",
    "    gc.collect()"
   ]
  },
  {
   "cell_type": "markdown",
   "metadata": {},
   "source": [
    "Try the second method"
   ]
  },
  {
   "cell_type": "code",
   "execution_count": 12,
   "metadata": {},
   "outputs": [],
   "source": [
    "tmp = []\n",
    "for n in range(34):\n",
    "    shop_list = x.loc[x.date_block_num==n, 'shop_id'].unique()\n",
    "    item_list = x.loc[x.date_block_num==n, 'item_id'].unique()\n",
    "    idx = pd.MultiIndex.from_product([[n], shop_list, item_list], names=['date_block_num', 'shop_id', 'item_id'])\n",
    "    df_tmp = pd.DataFrame(np.zeros((len(idx),2)), index=idx)\n",
    "    tmp.append(df_tmp)\n",
    "tmp = pd.concat(tmp, sort=False)\n",
    "tmp.reset_index(inplace=True, drop=False)\n",
    "tmp.drop([0, 1], axis=1, inplace=True)\n",
    "x = tmp.merge(x, on=['date_block_num', 'shop_id', 'item_id'], how='outer').fillna(0.0)\n",
    "test['date_block_num'] = 34\n",
    "x = pd.concat((x, test), sort=False).fillna(0.0)"
   ]
  },
  {
   "cell_type": "markdown",
   "metadata": {},
   "source": [
    "Add shop/item features"
   ]
  },
  {
   "cell_type": "code",
   "execution_count": 13,
   "metadata": {},
   "outputs": [],
   "source": [
    "x = pd.merge(x, shop, on='shop_id', how='left')\n",
    "x = pd.merge(x, item, on='item_id', how='left')"
   ]
  },
  {
   "cell_type": "markdown",
   "metadata": {},
   "source": [
    "Change column names"
   ]
  },
  {
   "cell_type": "code",
   "execution_count": 14,
   "metadata": {},
   "outputs": [],
   "source": [
    "x.columns = ['month', 'shop_id', 'item_id', 'sales_month', \n",
    "             'City', 'Type', 'item_cat1', 'item_cat2']"
   ]
  },
  {
   "cell_type": "markdown",
   "metadata": {},
   "source": [
    "Change column types"
   ]
  },
  {
   "cell_type": "markdown",
   "metadata": {},
   "source": [
    "x['City'] = x['City'].astype(np.int8)\n",
    "x['Type'] = x['Type'].astype(np.int8)\n",
    "x['item_cat1'] = x['item_cat1'].astype(np.int8)\n",
    "x['item_cat2'] = x['item_cat2'].astype(np.int8)\n",
    "x['sales_month'] = x['sales_month'].astype(np.float16)\n",
    "x['month'] = x['month'].astype(np.int8)\n",
    "x['shop_id'] = x['shop_id'].astype(np.int8)"
   ]
  },
  {
   "cell_type": "markdown",
   "metadata": {},
   "source": [
    "### Target Lags"
   ]
  },
  {
   "cell_type": "code",
   "execution_count": 15,
   "metadata": {},
   "outputs": [],
   "source": [
    "x = lag_features(x, [1, 2, 3, 6, 12], \n",
    "                 ['month', 'shop_id', 'item_id'], \n",
    "                 ['sales_month'], fillna_value=0)"
   ]
  },
  {
   "cell_type": "markdown",
   "metadata": {},
   "source": [
    "### Mean Encoding"
   ]
  },
  {
   "cell_type": "markdown",
   "metadata": {},
   "source": [
    "`sales_mean_month`"
   ]
  },
  {
   "cell_type": "code",
   "execution_count": 16,
   "metadata": {},
   "outputs": [],
   "source": [
    "group = x.groupby('month').agg({'sales_month': ['mean']})\n",
    "group.columns = ['sales_mean_month']\n",
    "group.reset_index(inplace=True)\n",
    "\n",
    "x = pd.merge(x, group, on=['month'], how='left')\n",
    "x['sales_mean_month'] = x['sales_mean_month'].astype(np.float16)\n",
    "x = lag_features(x, [1], ['month'], ['sales_mean_month'], fillna_value=0.0)\n",
    "x.drop(['sales_mean_month'], axis=1, inplace=True)"
   ]
  },
  {
   "cell_type": "markdown",
   "metadata": {},
   "source": [
    "`sales_mean_month_item`"
   ]
  },
  {
   "cell_type": "code",
   "execution_count": 17,
   "metadata": {},
   "outputs": [],
   "source": [
    "col = 'sales_mean_month_item'\n",
    "group = x.groupby(['month', 'item_id']).agg({'sales_month': ['mean']})\n",
    "group.columns = [col]\n",
    "group.reset_index(inplace=True)\n",
    "\n",
    "x = pd.merge(x, group, on=['month', 'item_id'], how='left')\n",
    "x[col] = x[col].astype(np.float16)\n",
    "x = lag_features(x, [1, 2, 3, 6, 12], \n",
    "                 ['month', 'item_id'], \n",
    "                 [col], fillna_value=0.0)\n",
    "x.drop([col], axis=1, inplace=True)"
   ]
  },
  {
   "cell_type": "markdown",
   "metadata": {},
   "source": [
    "`sales_mean_month_shop`"
   ]
  },
  {
   "cell_type": "code",
   "execution_count": 18,
   "metadata": {},
   "outputs": [],
   "source": [
    "col = 'sales_mean_month_shop'\n",
    "merge_cols = ['month', 'shop_id']\n",
    "group = x.groupby(merge_cols).agg({'sales_month': ['mean']})\n",
    "group.columns = [col]\n",
    "group.reset_index(inplace=True)\n",
    "\n",
    "x = pd.merge(x, group, on=merge_cols, how='left')\n",
    "x[col] = x[col].astype(np.float16)\n",
    "x = lag_features(x, [1, 2, 3, 6, 12], \n",
    "                 merge_cols, \n",
    "                 [col], fillna_value=0.0)\n",
    "x.drop([col], axis=1, inplace=True)"
   ]
  },
  {
   "cell_type": "markdown",
   "metadata": {},
   "source": [
    "`sales_mean_month_cat1`"
   ]
  },
  {
   "cell_type": "code",
   "execution_count": 19,
   "metadata": {},
   "outputs": [],
   "source": [
    "col = 'sales_mean_month_cat1'\n",
    "merge_cols = ['month', 'item_cat1']\n",
    "group = x.groupby(merge_cols).agg({'sales_month': ['mean']})\n",
    "group.columns = [col]\n",
    "group.reset_index(inplace=True)\n",
    "\n",
    "x = pd.merge(x, group, on=merge_cols, how='left')\n",
    "x[col] = x[col].astype(np.float16)\n",
    "x = lag_features(x, [1], \n",
    "                 merge_cols, \n",
    "                 [col], fillna_value=0.0)\n",
    "x.drop([col], axis=1, inplace=True)"
   ]
  },
  {
   "cell_type": "markdown",
   "metadata": {},
   "source": [
    "`sales_mean_month_shop_cat1`"
   ]
  },
  {
   "cell_type": "code",
   "execution_count": 20,
   "metadata": {},
   "outputs": [],
   "source": [
    "col = 'sales_mean_month_shop_cat1'\n",
    "merge_cols = ['month', 'shop_id', 'item_cat1']\n",
    "group = x.groupby(merge_cols).agg({'sales_month': ['mean']})\n",
    "group.columns = [col]\n",
    "group.reset_index(inplace=True)\n",
    "\n",
    "x = pd.merge(x, group, on=merge_cols, how='left')\n",
    "x[col] = x[col].astype(np.float16)\n",
    "x = lag_features(x, [1], \n",
    "                 merge_cols, \n",
    "                 [col], fillna_value=0.0)\n",
    "x.drop([col], axis=1, inplace=True)"
   ]
  },
  {
   "cell_type": "markdown",
   "metadata": {},
   "source": [
    "`sales_mean_month_shop_type`"
   ]
  },
  {
   "cell_type": "code",
   "execution_count": 21,
   "metadata": {},
   "outputs": [],
   "source": [
    "col = 'sales_mean_month_shop_type'\n",
    "merge_cols = ['month', 'shop_id', 'Type']\n",
    "group = x.groupby(merge_cols).agg({'sales_month': ['mean']})\n",
    "group.columns = [col]\n",
    "group.reset_index(inplace=True)\n",
    "\n",
    "x = pd.merge(x, group, on=merge_cols, how='left')\n",
    "x[col] = x[col].astype(np.float16)\n",
    "x = lag_features(x, [1], \n",
    "                 merge_cols, \n",
    "                 [col], fillna_value=0.0)\n",
    "x.drop([col], axis=1, inplace=True)"
   ]
  },
  {
   "cell_type": "markdown",
   "metadata": {},
   "source": [
    "`sales_mean_month_shop_cat2`"
   ]
  },
  {
   "cell_type": "code",
   "execution_count": 22,
   "metadata": {},
   "outputs": [],
   "source": [
    "col = 'sales_mean_month_shop_cat2'\n",
    "merge_cols = ['month', 'shop_id', 'item_cat2']\n",
    "group = x.groupby(merge_cols).agg({'sales_month': ['mean']})\n",
    "group.columns = [col]\n",
    "group.reset_index(inplace=True)\n",
    "\n",
    "x = pd.merge(x, group, on=merge_cols, how='left')\n",
    "x[col] = x[col].astype(np.float16)\n",
    "x = lag_features(x, [1], \n",
    "                 merge_cols, \n",
    "                 [col], fillna_value=0.0)\n",
    "x.drop([col], axis=1, inplace=True)"
   ]
  },
  {
   "cell_type": "markdown",
   "metadata": {},
   "source": [
    "`sales_mean_month_city`"
   ]
  },
  {
   "cell_type": "code",
   "execution_count": 23,
   "metadata": {},
   "outputs": [],
   "source": [
    "col = 'sales_mean_month_city'\n",
    "merge_cols = ['month', 'City']\n",
    "group = x.groupby(merge_cols).agg({'sales_month': ['mean']})\n",
    "group.columns = [col]\n",
    "group.reset_index(inplace=True)\n",
    "\n",
    "x = pd.merge(x, group, on=merge_cols, how='left')\n",
    "x[col] = x[col].astype(np.float16)\n",
    "x = lag_features(x, [1], \n",
    "                 merge_cols, \n",
    "                 [col], fillna_value=0.0)\n",
    "x.drop([col], axis=1, inplace=True)"
   ]
  },
  {
   "cell_type": "markdown",
   "metadata": {},
   "source": [
    "`sales_mean_month_item_city`"
   ]
  },
  {
   "cell_type": "code",
   "execution_count": 24,
   "metadata": {},
   "outputs": [],
   "source": [
    "col = 'sales_mean_month_item_city'\n",
    "merge_cols = ['month', 'item_id', 'City']\n",
    "group = x.groupby(merge_cols).agg({'sales_month': ['mean']})\n",
    "group.columns = [col]\n",
    "group.reset_index(inplace=True)\n",
    "\n",
    "x = pd.merge(x, group, on=merge_cols, how='left')\n",
    "x[col] = x[col].astype(np.float16)\n",
    "x = lag_features(x, [1], \n",
    "                 merge_cols, \n",
    "                 [col], fillna_value=0.0)\n",
    "x.drop([col], axis=1, inplace=True)"
   ]
  },
  {
   "cell_type": "markdown",
   "metadata": {},
   "source": [
    "`sales_mean_month_cat2`"
   ]
  },
  {
   "cell_type": "code",
   "execution_count": 25,
   "metadata": {},
   "outputs": [],
   "source": [
    "col = 'sales_mean_month_cat2'\n",
    "merge_cols = ['month', 'item_cat2']\n",
    "group = x.groupby(merge_cols).agg({'sales_month': ['mean']})\n",
    "group.columns = [col]\n",
    "group.reset_index(inplace=True)\n",
    "\n",
    "x = pd.merge(x, group, on=merge_cols, how='left')\n",
    "x[col] = x[col].astype(np.float16)\n",
    "x = lag_features(x, [1], \n",
    "                 merge_cols, \n",
    "                 [col], fillna_value=0.0)\n",
    "x.drop([col], axis=1, inplace=True)"
   ]
  },
  {
   "cell_type": "markdown",
   "metadata": {},
   "source": [
    "`sales_mean_month_cat1_cat2`"
   ]
  },
  {
   "cell_type": "code",
   "execution_count": 26,
   "metadata": {},
   "outputs": [],
   "source": [
    "col = 'sales_mean_month_cat1_cat2'\n",
    "merge_cols = ['month', 'item_cat1', 'item_cat2']\n",
    "group = x.groupby(merge_cols).agg({'sales_month': ['mean']})\n",
    "group.columns = [col]\n",
    "group.reset_index(inplace=True)\n",
    "\n",
    "x = pd.merge(x, group, on=merge_cols, how='left')\n",
    "x[col] = x[col].astype(np.float16)\n",
    "x = lag_features(x, [1, 2, 3, 6], \n",
    "                 merge_cols, \n",
    "                 [col], fillna_value=0.0)\n",
    "x.drop([col], axis=1, inplace=True)"
   ]
  },
  {
   "cell_type": "markdown",
   "metadata": {},
   "source": [
    "### Trend Features"
   ]
  },
  {
   "cell_type": "markdown",
   "metadata": {},
   "source": [
    "Average price of each item"
   ]
  },
  {
   "cell_type": "code",
   "execution_count": 27,
   "metadata": {},
   "outputs": [],
   "source": [
    "if False:\n",
    "    group = train.groupby('item_id').agg({'item_price': np.mean})\n",
    "    group.columns = ['price_mean_item']\n",
    "    x = pd.merge(x, group, on=['item_id'], how='left')\n",
    "    x['price_mean_item'] = x['price_mean_item'].astype(np.float16)"
   ]
  },
  {
   "cell_type": "markdown",
   "metadata": {},
   "source": [
    "Average price of each item in each month"
   ]
  },
  {
   "cell_type": "code",
   "execution_count": 28,
   "metadata": {},
   "outputs": [],
   "source": [
    "if False:\n",
    "    group = train.groupby(['date_block_num', 'item_id']).agg({'item_price': np.mean})\n",
    "    group.reset_index(inplace=True)\n",
    "    group.columns = ['month', 'item_id', 'price_mean_month_item']\n",
    "    x = pd.merge(x, group, on=['month', 'item_id'], how='left')\n",
    "    x['price_mean_month_item'] = x['price_mean_month_item'].astype(np.float16)\n",
    "\n",
    "    lags = [1, 2, 3, 4, 5, 6]\n",
    "    x = lag_features(x, lags, merge_cols=['month', 'item_id'], shift_cols=['price_mean_month_item'])\n",
    "\n",
    "    # delta price is the difference between price in lag month and mean price over all periods\n",
    "    for i in lags:\n",
    "        x['delta_price_mean_month_item_lag_'+str(i)] = \\\n",
    "            (x['price_mean_month_item_lag_'+str(i)] - x['price_mean_item']) / x['price_mean_item']\n",
    "\n",
    "    x['price_mean_month_item_diff'] = (x['price_mean_month_item'] - x['price_mean_month_item_lag_1']) / x['price_mean_month_item']\n",
    "    x['price_mean_month_item_diff'] = x['price_mean_month_item_diff'].astype(np.float16)\n",
    "    x = lag_features(x, lags, merge_cols=['month', 'item_id'], shift_cols=['price_mean_month_item_diff'])\n",
    "\n",
    "    x.drop(['price_mean_month_item', 'price_mean_month_item_diff'], axis=1, inplace=True)"
   ]
  },
  {
   "cell_type": "markdown",
   "metadata": {},
   "source": [
    "Last month shop revenue trend"
   ]
  },
  {
   "cell_type": "code",
   "execution_count": 29,
   "metadata": {},
   "outputs": [],
   "source": [
    "if False:\n",
    "    train['revenue'] = train['item_cnt_day']*train['item_price']\n",
    "    group = train.groupby(['date_block_num', 'shop_id']).agg({'revenue': np.sum})\n",
    "\n",
    "    group.reset_index(inplace=True)\n",
    "    group.columns = ['month', 'shop_id', 'rev_sum_month_shop']\n",
    "\n",
    "    x = pd.merge(x, group, on=['month', 'shop_id'], how='left')\n",
    "    x['rev_sum_month_shop'] = x['rev_sum_month_shop'].astype(np.float32)\n",
    "\n",
    "    group = train.groupby(['shop_id']).agg({'revenue': lambda x: np.sum(x)/34})\n",
    "    group.reset_index(inplace=True)\n",
    "    group.columns = ['shop_id', 'rev_sum_month_shop_mean_month']\n",
    "\n",
    "    x = pd.merge(x, group, on=['shop_id'], how='left')\n",
    "    x['delta_rev'] = (x['rev_sum_month_shop'] - x['rev_sum_month_shop_mean_month']) / x['rev_sum_month_shop_mean_month']\n",
    "    x = lag_features(x, [1], merge_cols=['month', 'shop_id'], shift_cols=['delta_rev'])\n",
    "    x.drop(['rev_sum_month_shop', 'delta_rev'], axis=1, inplace=True)"
   ]
  },
  {
   "cell_type": "markdown",
   "metadata": {},
   "source": [
    "Price trend"
   ]
  },
  {
   "cell_type": "code",
   "execution_count": 30,
   "metadata": {},
   "outputs": [],
   "source": [
    "group = train.groupby(['item_id']).agg({'item_price': np.mean})\n",
    "group.columns = ['item_price_mean']\n",
    "x = x.merge(group, on='item_id', how='left')\n",
    "\n",
    "group = train.groupby(['item_id', 'date_block_num']).agg({'item_price': np.mean})\n",
    "group.index.names = ['item_id', 'month']\n",
    "group.columns = ['item_price_mean_month']\n",
    "x = x.merge(group, on=['item_id', 'month'], how='left')\n",
    "\n",
    "x = lag_features(x, [1, 2, 3, 4, 5, 6], ['month', 'item_id'], ['item_price_mean_month'])\n",
    "\n",
    "for i in [1, 2, 3, 4, 5, 6]:\n",
    "    x['item_price_mean_month_diff_lag_'+str(i)] = (x['item_price_mean_month_lag_'+str(i)]-x['item_price_mean'])/x['item_price_mean']\n",
    "\n",
    "\n",
    "cols = ['item_price_mean_month_diff_lag_'+str(i) for i in range(1, 7)]\n",
    "x['item_price_trend'] = x[cols].fillna(method='bfill').iloc[:, 0].fillna(0.0)\n",
    "\n",
    "cols.extend(['item_price_mean_month_lag_'+str(i) for i in range(1, 7)])\n",
    "cols.append('item_price_mean_month')\n",
    "cols.append('item_price_mean')\n",
    "x.drop(cols, axis=1, inplace=True)"
   ]
  },
  {
   "cell_type": "markdown",
   "metadata": {},
   "source": [
    "Last month shop revenue trend"
   ]
  },
  {
   "cell_type": "code",
   "execution_count": 31,
   "metadata": {},
   "outputs": [],
   "source": [
    "train['rev'] = train.item_price*train.item_cnt_day\n",
    "group = train.groupby(['shop_id', 'date_block_num']).agg({'rev': np.sum})\n",
    "group = group.mean(axis=0, level=0)\n",
    "group.columns = ['shop_rev_mean']\n",
    "x = x.merge(group, on='shop_id', how='left')\n",
    "\n",
    "group = train.groupby(['shop_id', 'date_block_num']).agg({'rev': np.sum})\n",
    "group.reset_index(inplace=True)\n",
    "group.columns = ['shop_id', 'month', 'shop_rev_month']\n",
    "x = x.merge(group, on=['shop_id', 'month'], how='left')\n",
    "x = lag_features(x, [1], ['month', 'shop_id'], ['shop_rev_month'])\n",
    "\n",
    "x['shop_rev_trend'] = (x.shop_rev_month_lag_1 - x.shop_rev_mean) / x.shop_rev_mean\n",
    "x.shop_rev_trend = x.shop_rev_trend.fillna(0.0)\n",
    "\n",
    "x.drop(['shop_rev_mean', 'shop_rev_month', 'shop_rev_month_lag_1'], axis=1, inplace=True)"
   ]
  },
  {
   "cell_type": "markdown",
   "metadata": {},
   "source": [
    "### Special Features"
   ]
  },
  {
   "cell_type": "markdown",
   "metadata": {},
   "source": [
    "Month and days"
   ]
  },
  {
   "cell_type": "code",
   "execution_count": 32,
   "metadata": {},
   "outputs": [],
   "source": [
    "x['month2'] = x['month'] % 12\n",
    "x['days_in_month'] = x['month2'].map(pd.Series([31,28,31,30,31,30,31,31,30,31,30,31]))"
   ]
  },
  {
   "cell_type": "markdown",
   "metadata": {},
   "source": [
    "Distance to the last sold month for (month, shop, item) pair"
   ]
  },
  {
   "cell_type": "code",
   "execution_count": 33,
   "metadata": {},
   "outputs": [
    {
     "data": {
      "application/vnd.jupyter.widget-view+json": {
       "model_id": "e4812e45083042949c91d1a1a4ff3fc1",
       "version_major": 2,
       "version_minor": 0
      },
      "text/plain": [
       "HBox(children=(IntProgress(value=0, max=35), HTML(value='')))"
      ]
     },
     "metadata": {},
     "output_type": "display_data"
    },
    {
     "name": "stdout",
     "output_type": "stream",
     "text": [
      "\n"
     ]
    }
   ],
   "source": [
    "tmp = x.pivot_table(index=['shop_id', 'item_id'], \n",
    "                    columns=['month'], \n",
    "                    values=['sales_month']).fillna(0.0)\n",
    "\n",
    "tmp = tmp>0.0\n",
    "for n in tqdm.tqdm_notebook(range(tmp.shape[1])):\n",
    "    tmp.iloc[:, n] = tmp.iloc[:, n].map({False: -1, True: n})\n",
    "tmp = tmp.shift(axis=1).fillna(-1.0).cummax(axis=1)\n",
    "tmp = np.arange(0, 35)-tmp.replace(-1.0, -np.inf)\n",
    "tmp.replace(np.inf, -1, inplace=True)\n",
    "tmp = tmp.stack()\n",
    "tmp.columns = ['shop_item_to_last_sold_month']\n",
    "tmp.reset_index(inplace=True)\n",
    "tmp = tmp[['month', 'shop_id', 'item_id', 'shop_item_to_last_sold_month']]\n",
    "\n",
    "x = pd.merge(x, tmp, on=['month', 'shop_id', 'item_id'], how='left')"
   ]
  },
  {
   "cell_type": "markdown",
   "metadata": {},
   "source": [
    "Distance to the last sold month for (month, item) pair"
   ]
  },
  {
   "cell_type": "code",
   "execution_count": 34,
   "metadata": {},
   "outputs": [
    {
     "data": {
      "application/vnd.jupyter.widget-view+json": {
       "model_id": "af8f054696c549ccb87f041769f3a4b7",
       "version_major": 2,
       "version_minor": 0
      },
      "text/plain": [
       "HBox(children=(IntProgress(value=0, max=35), HTML(value='')))"
      ]
     },
     "metadata": {},
     "output_type": "display_data"
    },
    {
     "name": "stdout",
     "output_type": "stream",
     "text": [
      "\n"
     ]
    }
   ],
   "source": [
    "tmp = x.pivot_table(index=['item_id'], \n",
    "                    columns=['month'], \n",
    "                    values=['sales_month']).fillna(0.0)\n",
    "tmp = tmp>0.0\n",
    "for n in tqdm.tqdm_notebook(range(tmp.shape[1])):\n",
    "    tmp.iloc[:, n] = tmp.iloc[:, n].map({False: -1, True: n})\n",
    "tmp = tmp.shift(axis=1).fillna(-1.0).cummax(axis=1)\n",
    "tmp = np.arange(0, 35)-tmp.replace(-1.0, -np.inf)\n",
    "tmp.replace(np.inf, -1, inplace=True)\n",
    "tmp = tmp.stack()\n",
    "tmp.columns = ['item_to_last_sold_month']\n",
    "tmp.reset_index(inplace=True)\n",
    "tmp = tmp[['month', 'item_id', 'item_to_last_sold_month']]\n",
    "\n",
    "x = pd.merge(x, tmp, on=['month', 'item_id'], how='left')"
   ]
  },
  {
   "cell_type": "markdown",
   "metadata": {},
   "source": [
    "First sold month for the (shop, item) pair"
   ]
  },
  {
   "cell_type": "code",
   "execution_count": 35,
   "metadata": {},
   "outputs": [],
   "source": [
    "if True:\n",
    "    tmp = x.pivot_table(index=['shop_id', 'item_id'], columns='month', values='sales_month', aggfunc=np.sum)\n",
    "    tmp = tmp.replace(0.0, np.nan)\n",
    "\n",
    "    for n in range(tmp.shape[1]):\n",
    "        idx = np.where(~np.isnan(tmp.iloc[:, n]))[0]\n",
    "        tmp.iloc[idx, n] = n\n",
    "\n",
    "    tmp0 = pd.DataFrame(tmp.min(axis=1))\n",
    "    tmp0.reset_index(inplace=True)\n",
    "    tmp0.columns = ['shop_id', 'item_id', 'shop_item_to_first_sold_month']\n",
    "\n",
    "    x = x.merge(tmp0, on=['shop_id', 'item_id'], how='left')\n",
    "    x['shop_item_to_first_sold_month'] = x['month'] - x['shop_item_to_first_sold_month']\n",
    "\n",
    "    x.loc[x['shop_item_to_first_sold_month']<=0.0, 'shop_item_to_first_sold_month'] = np.nan"
   ]
  },
  {
   "cell_type": "markdown",
   "metadata": {},
   "source": [
    "First sold month for each item"
   ]
  },
  {
   "cell_type": "code",
   "execution_count": 36,
   "metadata": {},
   "outputs": [],
   "source": [
    "if True:\n",
    "    tmp = x.pivot_table(index=['item_id'], columns='month', values='sales_month', aggfunc=np.sum)\n",
    "    tmp = tmp.replace(0.0, np.nan)\n",
    "\n",
    "    for n in range(tmp.shape[1]):\n",
    "        idx = np.where(~np.isnan(tmp.iloc[:, n]))[0]\n",
    "        tmp.iloc[idx, n] = n\n",
    "\n",
    "    tmp0 = pd.DataFrame(tmp.min(axis=1))\n",
    "\n",
    "    tmp0.reset_index(inplace=True)\n",
    "\n",
    "    tmp0.columns = ['item_id', 'item_to_first_sold_month']\n",
    "\n",
    "    x = x.merge(tmp0, on='item_id', how='left')\n",
    "    x['item_to_first_sold_month'] = x['month'] - x['item_to_first_sold_month']\n",
    "\n",
    "    x.loc[x['item_to_first_sold_month']<=0.0, 'item_to_first_sold_month'] = np.nan"
   ]
  },
  {
   "cell_type": "markdown",
   "metadata": {},
   "source": [
    "## CV"
   ]
  },
  {
   "cell_type": "code",
   "execution_count": 37,
   "metadata": {},
   "outputs": [],
   "source": [
    "# Split train and test sets\n",
    "x_train = x.loc[(x['month']<=32) & (x['month']>=12), :].copy()\n",
    "x_val = x.loc[x['month']==33, :].copy()\n",
    "x_test = x.loc[x['month']==34, :].copy()\n",
    "\n",
    "# Drop target from test set\n",
    "x_test.drop(['sales_month'], axis=1, inplace=True)\n",
    "\n",
    "# Split target from train set\n",
    "# Note that target is first clipped to (0, 40), then clipped to (0, 20) in test set. \n",
    "# This is similar to the idea of calibration\n",
    "y_train = x_train['sales_month'].clip(0, 20)\n",
    "x_train.drop(['sales_month'], axis=1, inplace=True)\n",
    "\n",
    "y_val = x_val['sales_month'].clip(0, 20)\n",
    "x_val.drop(['sales_month'], axis=1, inplace=True)"
   ]
  },
  {
   "cell_type": "code",
   "execution_count": 38,
   "metadata": {},
   "outputs": [],
   "source": [
    "param = {'max_depth':10, \n",
    "         'subsample':0.8,\n",
    "         'min_child_weight':10,\n",
    "         'eta':0.1, \n",
    "         'lambda': 1,\n",
    "         'colsample_bytree':0.8,\n",
    "         'seed':1,\n",
    "         'silent':1,\n",
    "         'maximize': False,\n",
    "         'nthread':8}\n",
    "\n",
    "n_tree = 50\n",
    "verbose = True\n",
    "n_repetition = 4"
   ]
  },
  {
   "cell_type": "code",
   "execution_count": 39,
   "metadata": {
    "scrolled": true
   },
   "outputs": [
    {
     "name": "stdout",
     "output_type": "stream",
     "text": [
      "[14:49:03] Tree method is automatically selected to be 'approx' for faster speed. to use old behavior(exact greedy algorithm on single machine), set tree_method to 'exact'\n",
      "[0]\ttrain-rmse:1.14684\tval-rmse:1.1184\ttrain-clip-rmse:1.14684\tval-clip-rmse:1.1184\n",
      "[1]\ttrain-rmse:1.09613\tval-rmse:1.08373\ttrain-clip-rmse:1.09613\tval-clip-rmse:1.08373\n",
      "[2]\ttrain-rmse:1.04991\tval-rmse:1.05125\ttrain-clip-rmse:1.04991\tval-clip-rmse:1.05125\n",
      "[3]\ttrain-rmse:1.01025\tval-rmse:1.02519\ttrain-clip-rmse:1.01025\tval-clip-rmse:1.02519\n",
      "[4]\ttrain-rmse:0.975746\tval-rmse:1.00268\ttrain-clip-rmse:0.975746\tval-clip-rmse:1.00268\n",
      "[5]\ttrain-rmse:0.946684\tval-rmse:0.985774\ttrain-clip-rmse:0.946683\tval-clip-rmse:0.985774\n",
      "[6]\ttrain-rmse:0.919697\tval-rmse:0.972561\ttrain-clip-rmse:0.919697\tval-clip-rmse:0.972561\n",
      "[7]\ttrain-rmse:0.897007\tval-rmse:0.957399\ttrain-clip-rmse:0.897007\tval-clip-rmse:0.957399\n",
      "[8]\ttrain-rmse:0.877122\tval-rmse:0.947206\ttrain-clip-rmse:0.877122\tval-clip-rmse:0.947206\n",
      "[9]\ttrain-rmse:0.860195\tval-rmse:0.936336\ttrain-clip-rmse:0.860195\tval-clip-rmse:0.936336\n",
      "[10]\ttrain-rmse:0.84605\tval-rmse:0.929679\ttrain-clip-rmse:0.84605\tval-clip-rmse:0.929679\n",
      "[11]\ttrain-rmse:0.833954\tval-rmse:0.924894\ttrain-clip-rmse:0.833954\tval-clip-rmse:0.924894\n",
      "[12]\ttrain-rmse:0.823173\tval-rmse:0.919177\ttrain-clip-rmse:0.823173\tval-clip-rmse:0.919177\n",
      "[13]\ttrain-rmse:0.813328\tval-rmse:0.915074\ttrain-clip-rmse:0.813328\tval-clip-rmse:0.915074\n",
      "[14]\ttrain-rmse:0.804283\tval-rmse:0.911882\ttrain-clip-rmse:0.804283\tval-clip-rmse:0.911882\n",
      "[15]\ttrain-rmse:0.797444\tval-rmse:0.908664\ttrain-clip-rmse:0.797444\tval-clip-rmse:0.908664\n",
      "[16]\ttrain-rmse:0.790412\tval-rmse:0.90699\ttrain-clip-rmse:0.790412\tval-clip-rmse:0.90699\n",
      "[17]\ttrain-rmse:0.785\tval-rmse:0.905878\ttrain-clip-rmse:0.785\tval-clip-rmse:0.905878\n",
      "[18]\ttrain-rmse:0.778906\tval-rmse:0.904406\ttrain-clip-rmse:0.778906\tval-clip-rmse:0.904404\n",
      "[19]\ttrain-rmse:0.774348\tval-rmse:0.90317\ttrain-clip-rmse:0.774347\tval-clip-rmse:0.903169\n",
      "[20]\ttrain-rmse:0.768973\tval-rmse:0.903232\ttrain-clip-rmse:0.768973\tval-clip-rmse:0.903229\n",
      "[21]\ttrain-rmse:0.764944\tval-rmse:0.901789\ttrain-clip-rmse:0.764944\tval-clip-rmse:0.901786\n",
      "[22]\ttrain-rmse:0.761255\tval-rmse:0.90136\ttrain-clip-rmse:0.761255\tval-clip-rmse:0.901356\n",
      "[23]\ttrain-rmse:0.756965\tval-rmse:0.902216\ttrain-clip-rmse:0.756965\tval-clip-rmse:0.902213\n",
      "[24]\ttrain-rmse:0.753751\tval-rmse:0.901156\ttrain-clip-rmse:0.753751\tval-clip-rmse:0.901151\n",
      "[25]\ttrain-rmse:0.750771\tval-rmse:0.900467\ttrain-clip-rmse:0.75077\tval-clip-rmse:0.900462\n",
      "[26]\ttrain-rmse:0.747604\tval-rmse:0.900934\ttrain-clip-rmse:0.747603\tval-clip-rmse:0.900929\n",
      "[27]\ttrain-rmse:0.745108\tval-rmse:0.900504\ttrain-clip-rmse:0.745107\tval-clip-rmse:0.900497\n",
      "[28]\ttrain-rmse:0.742617\tval-rmse:0.900684\ttrain-clip-rmse:0.742617\tval-clip-rmse:0.900676\n",
      "[29]\ttrain-rmse:0.7396\tval-rmse:0.899192\ttrain-clip-rmse:0.739599\tval-clip-rmse:0.899184\n",
      "[30]\ttrain-rmse:0.737862\tval-rmse:0.899401\ttrain-clip-rmse:0.737861\tval-clip-rmse:0.899393\n",
      "[31]\ttrain-rmse:0.736052\tval-rmse:0.899223\ttrain-clip-rmse:0.736051\tval-clip-rmse:0.899211\n",
      "[32]\ttrain-rmse:0.734114\tval-rmse:0.899927\ttrain-clip-rmse:0.734112\tval-clip-rmse:0.899914\n",
      "[33]\ttrain-rmse:0.732396\tval-rmse:0.89977\ttrain-clip-rmse:0.732394\tval-clip-rmse:0.899759\n",
      "[34]\ttrain-rmse:0.730679\tval-rmse:0.900073\ttrain-clip-rmse:0.730677\tval-clip-rmse:0.900063\n",
      "[35]\ttrain-rmse:0.729483\tval-rmse:0.899288\ttrain-clip-rmse:0.729481\tval-clip-rmse:0.899276\n",
      "[36]\ttrain-rmse:0.72765\tval-rmse:0.899471\ttrain-clip-rmse:0.727647\tval-clip-rmse:0.899459\n",
      "[37]\ttrain-rmse:0.726588\tval-rmse:0.89898\ttrain-clip-rmse:0.726585\tval-clip-rmse:0.898967\n",
      "[38]\ttrain-rmse:0.724959\tval-rmse:0.898507\ttrain-clip-rmse:0.724955\tval-clip-rmse:0.898494\n",
      "[39]\ttrain-rmse:0.723859\tval-rmse:0.898573\ttrain-clip-rmse:0.723854\tval-clip-rmse:0.89857\n",
      "[40]\ttrain-rmse:0.722628\tval-rmse:0.898692\ttrain-clip-rmse:0.722622\tval-clip-rmse:0.898686\n",
      "[41]\ttrain-rmse:0.721216\tval-rmse:0.898376\ttrain-clip-rmse:0.721209\tval-clip-rmse:0.89837\n",
      "[42]\ttrain-rmse:0.720072\tval-rmse:0.898831\ttrain-clip-rmse:0.720063\tval-clip-rmse:0.898823\n",
      "[43]\ttrain-rmse:0.719323\tval-rmse:0.898822\ttrain-clip-rmse:0.719314\tval-clip-rmse:0.898814\n",
      "[44]\ttrain-rmse:0.718596\tval-rmse:0.898605\ttrain-clip-rmse:0.718585\tval-clip-rmse:0.898597\n",
      "[45]\ttrain-rmse:0.717218\tval-rmse:0.898674\ttrain-clip-rmse:0.717207\tval-clip-rmse:0.898665\n",
      "[46]\ttrain-rmse:0.715997\tval-rmse:0.89849\ttrain-clip-rmse:0.715985\tval-clip-rmse:0.89848\n",
      "[47]\ttrain-rmse:0.715152\tval-rmse:0.898427\ttrain-clip-rmse:0.715139\tval-clip-rmse:0.898421\n",
      "[48]\ttrain-rmse:0.713255\tval-rmse:0.898392\ttrain-clip-rmse:0.713241\tval-clip-rmse:0.898384\n",
      "[49]\ttrain-rmse:0.712695\tval-rmse:0.898338\ttrain-clip-rmse:0.712679\tval-clip-rmse:0.89833\n",
      "CV repetition 1/4 finished, running time 10.755 min, val score 0.8983.\n",
      "------------------------------------\n",
      "\n",
      "[0]\ttrain-rmse:1.14637\tval-rmse:1.12052\ttrain-clip-rmse:1.14637\tval-clip-rmse:1.12052\n",
      "[1]\ttrain-rmse:1.09306\tval-rmse:1.08465\ttrain-clip-rmse:1.09306\tval-clip-rmse:1.08465\n",
      "[2]\ttrain-rmse:1.04782\tval-rmse:1.05488\ttrain-clip-rmse:1.04782\tval-clip-rmse:1.05488\n",
      "[3]\ttrain-rmse:1.0096\tval-rmse:1.03155\ttrain-clip-rmse:1.0096\tval-clip-rmse:1.03155\n",
      "[4]\ttrain-rmse:0.975201\tval-rmse:1.0083\ttrain-clip-rmse:0.975201\tval-clip-rmse:1.0083\n",
      "[5]\ttrain-rmse:0.94382\tval-rmse:0.989008\ttrain-clip-rmse:0.94382\tval-clip-rmse:0.989008\n",
      "[6]\ttrain-rmse:0.917693\tval-rmse:0.973303\ttrain-clip-rmse:0.917693\tval-clip-rmse:0.973303\n",
      "[7]\ttrain-rmse:0.895212\tval-rmse:0.961256\ttrain-clip-rmse:0.895212\tval-clip-rmse:0.961256\n",
      "[8]\ttrain-rmse:0.876116\tval-rmse:0.949018\ttrain-clip-rmse:0.876116\tval-clip-rmse:0.949018\n",
      "[9]\ttrain-rmse:0.858635\tval-rmse:0.939141\ttrain-clip-rmse:0.858635\tval-clip-rmse:0.939141\n",
      "[10]\ttrain-rmse:0.844787\tval-rmse:0.93098\ttrain-clip-rmse:0.844788\tval-clip-rmse:0.93098\n",
      "[11]\ttrain-rmse:0.832969\tval-rmse:0.924432\ttrain-clip-rmse:0.832969\tval-clip-rmse:0.924432\n",
      "[12]\ttrain-rmse:0.82156\tval-rmse:0.920595\ttrain-clip-rmse:0.82156\tval-clip-rmse:0.920595\n",
      "[13]\ttrain-rmse:0.812623\tval-rmse:0.915082\ttrain-clip-rmse:0.812623\tval-clip-rmse:0.915082\n",
      "[14]\ttrain-rmse:0.803465\tval-rmse:0.911944\ttrain-clip-rmse:0.803465\tval-clip-rmse:0.911944\n",
      "[15]\ttrain-rmse:0.795707\tval-rmse:0.908149\ttrain-clip-rmse:0.795707\tval-clip-rmse:0.908149\n",
      "[16]\ttrain-rmse:0.788648\tval-rmse:0.906357\ttrain-clip-rmse:0.788648\tval-clip-rmse:0.906357\n",
      "[17]\ttrain-rmse:0.782571\tval-rmse:0.904965\ttrain-clip-rmse:0.782571\tval-clip-rmse:0.904965\n",
      "[18]\ttrain-rmse:0.77726\tval-rmse:0.903911\ttrain-clip-rmse:0.77726\tval-clip-rmse:0.903911\n",
      "[19]\ttrain-rmse:0.772742\tval-rmse:0.902772\ttrain-clip-rmse:0.772742\tval-clip-rmse:0.902772\n",
      "[20]\ttrain-rmse:0.768948\tval-rmse:0.901701\ttrain-clip-rmse:0.768948\tval-clip-rmse:0.901701\n",
      "[21]\ttrain-rmse:0.765085\tval-rmse:0.9016\ttrain-clip-rmse:0.765084\tval-clip-rmse:0.9016\n",
      "[22]\ttrain-rmse:0.761256\tval-rmse:0.900264\ttrain-clip-rmse:0.761256\tval-clip-rmse:0.900264\n",
      "[23]\ttrain-rmse:0.75834\tval-rmse:0.899798\ttrain-clip-rmse:0.758339\tval-clip-rmse:0.899797\n",
      "[24]\ttrain-rmse:0.755402\tval-rmse:0.90029\ttrain-clip-rmse:0.755402\tval-clip-rmse:0.900289\n",
      "[25]\ttrain-rmse:0.752521\tval-rmse:0.900013\ttrain-clip-rmse:0.75252\tval-clip-rmse:0.900013\n",
      "[26]\ttrain-rmse:0.749758\tval-rmse:0.899897\ttrain-clip-rmse:0.749758\tval-clip-rmse:0.899897\n",
      "[27]\ttrain-rmse:0.747506\tval-rmse:0.900211\ttrain-clip-rmse:0.747505\tval-clip-rmse:0.900208\n",
      "[28]\ttrain-rmse:0.745353\tval-rmse:0.900528\ttrain-clip-rmse:0.745352\tval-clip-rmse:0.900524\n",
      "[29]\ttrain-rmse:0.742528\tval-rmse:0.900863\ttrain-clip-rmse:0.742527\tval-clip-rmse:0.90086\n",
      "[30]\ttrain-rmse:0.740711\tval-rmse:0.900384\ttrain-clip-rmse:0.74071\tval-clip-rmse:0.900381\n",
      "[31]\ttrain-rmse:0.738732\tval-rmse:0.900237\ttrain-clip-rmse:0.73873\tval-clip-rmse:0.900234\n",
      "[32]\ttrain-rmse:0.737312\tval-rmse:0.900026\ttrain-clip-rmse:0.73731\tval-clip-rmse:0.900022\n",
      "[33]\ttrain-rmse:0.735469\tval-rmse:0.899583\ttrain-clip-rmse:0.735466\tval-clip-rmse:0.899577\n",
      "[34]\ttrain-rmse:0.733588\tval-rmse:0.899974\ttrain-clip-rmse:0.733585\tval-clip-rmse:0.899968\n",
      "[35]\ttrain-rmse:0.732075\tval-rmse:0.900425\ttrain-clip-rmse:0.732072\tval-clip-rmse:0.900419\n",
      "[36]\ttrain-rmse:0.729904\tval-rmse:0.900706\ttrain-clip-rmse:0.7299\tval-clip-rmse:0.9007\n",
      "[37]\ttrain-rmse:0.728314\tval-rmse:0.90126\ttrain-clip-rmse:0.728309\tval-clip-rmse:0.901253\n",
      "[38]\ttrain-rmse:0.726226\tval-rmse:0.901344\ttrain-clip-rmse:0.72622\tval-clip-rmse:0.901337\n"
     ]
    },
    {
     "name": "stdout",
     "output_type": "stream",
     "text": [
      "[39]\ttrain-rmse:0.724685\tval-rmse:0.900297\ttrain-clip-rmse:0.724679\tval-clip-rmse:0.900288\n",
      "[40]\ttrain-rmse:0.72351\tval-rmse:0.900325\ttrain-clip-rmse:0.723503\tval-clip-rmse:0.900316\n",
      "[41]\ttrain-rmse:0.721913\tval-rmse:0.900457\ttrain-clip-rmse:0.721904\tval-clip-rmse:0.900447\n",
      "[42]\ttrain-rmse:0.720712\tval-rmse:0.900571\ttrain-clip-rmse:0.720702\tval-clip-rmse:0.900561\n",
      "[43]\ttrain-rmse:0.718869\tval-rmse:0.899114\ttrain-clip-rmse:0.718858\tval-clip-rmse:0.899103\n",
      "[44]\ttrain-rmse:0.717363\tval-rmse:0.898853\ttrain-clip-rmse:0.717351\tval-clip-rmse:0.898841\n",
      "[45]\ttrain-rmse:0.716377\tval-rmse:0.898674\ttrain-clip-rmse:0.716363\tval-clip-rmse:0.898661\n",
      "[46]\ttrain-rmse:0.714897\tval-rmse:0.898886\ttrain-clip-rmse:0.714882\tval-clip-rmse:0.898867\n",
      "[47]\ttrain-rmse:0.713715\tval-rmse:0.89897\ttrain-clip-rmse:0.713699\tval-clip-rmse:0.898951\n",
      "[48]\ttrain-rmse:0.713008\tval-rmse:0.898801\ttrain-clip-rmse:0.712991\tval-clip-rmse:0.898781\n",
      "[49]\ttrain-rmse:0.71245\tval-rmse:0.898798\ttrain-clip-rmse:0.712432\tval-clip-rmse:0.898778\n",
      "CV repetition 2/4 finished, running time 10.800 min, val score 0.8988.\n",
      "------------------------------------\n",
      "\n",
      "[0]\ttrain-rmse:1.14498\tval-rmse:1.11038\ttrain-clip-rmse:1.14498\tval-clip-rmse:1.11038\n",
      "[1]\ttrain-rmse:1.09306\tval-rmse:1.07317\ttrain-clip-rmse:1.09306\tval-clip-rmse:1.07317\n",
      "[2]\ttrain-rmse:1.04847\tval-rmse:1.04425\ttrain-clip-rmse:1.04847\tval-clip-rmse:1.04425\n",
      "[3]\ttrain-rmse:1.0111\tval-rmse:1.02045\ttrain-clip-rmse:1.0111\tval-clip-rmse:1.02045\n",
      "[4]\ttrain-rmse:0.9746\tval-rmse:0.998846\ttrain-clip-rmse:0.9746\tval-clip-rmse:0.998846\n",
      "[5]\ttrain-rmse:0.944578\tval-rmse:0.977898\ttrain-clip-rmse:0.944578\tval-clip-rmse:0.977899\n",
      "[6]\ttrain-rmse:0.917812\tval-rmse:0.962118\ttrain-clip-rmse:0.917812\tval-clip-rmse:0.962118\n",
      "[7]\ttrain-rmse:0.895301\tval-rmse:0.94861\ttrain-clip-rmse:0.895301\tval-clip-rmse:0.94861\n",
      "[8]\ttrain-rmse:0.876326\tval-rmse:0.937485\ttrain-clip-rmse:0.876326\tval-clip-rmse:0.937485\n",
      "[9]\ttrain-rmse:0.860671\tval-rmse:0.928776\ttrain-clip-rmse:0.860671\tval-clip-rmse:0.928776\n",
      "[10]\ttrain-rmse:0.846041\tval-rmse:0.921368\ttrain-clip-rmse:0.846041\tval-clip-rmse:0.921368\n",
      "[11]\ttrain-rmse:0.833118\tval-rmse:0.916696\ttrain-clip-rmse:0.833118\tval-clip-rmse:0.916696\n",
      "[12]\ttrain-rmse:0.821683\tval-rmse:0.912124\ttrain-clip-rmse:0.821683\tval-clip-rmse:0.912124\n",
      "[13]\ttrain-rmse:0.811529\tval-rmse:0.907333\ttrain-clip-rmse:0.811529\tval-clip-rmse:0.907333\n",
      "[14]\ttrain-rmse:0.801943\tval-rmse:0.904538\ttrain-clip-rmse:0.801943\tval-clip-rmse:0.904538\n",
      "[15]\ttrain-rmse:0.794295\tval-rmse:0.902163\ttrain-clip-rmse:0.794295\tval-clip-rmse:0.902163\n",
      "[16]\ttrain-rmse:0.788653\tval-rmse:0.900624\ttrain-clip-rmse:0.788653\tval-clip-rmse:0.900624\n",
      "[17]\ttrain-rmse:0.781798\tval-rmse:0.898848\ttrain-clip-rmse:0.781798\tval-clip-rmse:0.898848\n",
      "[18]\ttrain-rmse:0.776206\tval-rmse:0.897625\ttrain-clip-rmse:0.776206\tval-clip-rmse:0.897625\n",
      "[19]\ttrain-rmse:0.771566\tval-rmse:0.896206\ttrain-clip-rmse:0.771566\tval-clip-rmse:0.896206\n",
      "[20]\ttrain-rmse:0.766332\tval-rmse:0.89594\ttrain-clip-rmse:0.766332\tval-clip-rmse:0.89594\n",
      "[21]\ttrain-rmse:0.762564\tval-rmse:0.893899\ttrain-clip-rmse:0.762564\tval-clip-rmse:0.893899\n",
      "[22]\ttrain-rmse:0.758386\tval-rmse:0.893666\ttrain-clip-rmse:0.758386\tval-clip-rmse:0.893666\n",
      "[23]\ttrain-rmse:0.755246\tval-rmse:0.892346\ttrain-clip-rmse:0.755246\tval-clip-rmse:0.892346\n",
      "[24]\ttrain-rmse:0.752692\tval-rmse:0.891737\ttrain-clip-rmse:0.752692\tval-clip-rmse:0.891737\n",
      "[25]\ttrain-rmse:0.749165\tval-rmse:0.891663\ttrain-clip-rmse:0.749165\tval-clip-rmse:0.891663\n",
      "[26]\ttrain-rmse:0.746436\tval-rmse:0.891076\ttrain-clip-rmse:0.746435\tval-clip-rmse:0.891072\n",
      "[27]\ttrain-rmse:0.744351\tval-rmse:0.890931\ttrain-clip-rmse:0.744351\tval-clip-rmse:0.89092\n",
      "[28]\ttrain-rmse:0.741932\tval-rmse:0.891801\ttrain-clip-rmse:0.741931\tval-clip-rmse:0.891801\n",
      "[29]\ttrain-rmse:0.73937\tval-rmse:0.890179\ttrain-clip-rmse:0.739369\tval-clip-rmse:0.890177\n",
      "[30]\ttrain-rmse:0.737001\tval-rmse:0.890366\ttrain-clip-rmse:0.737001\tval-clip-rmse:0.890363\n",
      "[31]\ttrain-rmse:0.73462\tval-rmse:0.890862\ttrain-clip-rmse:0.734619\tval-clip-rmse:0.890852\n",
      "[32]\ttrain-rmse:0.733255\tval-rmse:0.891163\ttrain-clip-rmse:0.733254\tval-clip-rmse:0.89116\n",
      "[33]\ttrain-rmse:0.731468\tval-rmse:0.891192\ttrain-clip-rmse:0.731466\tval-clip-rmse:0.891189\n",
      "[34]\ttrain-rmse:0.730195\tval-rmse:0.891735\ttrain-clip-rmse:0.730193\tval-clip-rmse:0.891732\n",
      "[35]\ttrain-rmse:0.728841\tval-rmse:0.891203\ttrain-clip-rmse:0.728839\tval-clip-rmse:0.891199\n",
      "[36]\ttrain-rmse:0.726855\tval-rmse:0.891241\ttrain-clip-rmse:0.726852\tval-clip-rmse:0.891237\n",
      "[37]\ttrain-rmse:0.724533\tval-rmse:0.890868\ttrain-clip-rmse:0.724529\tval-clip-rmse:0.890864\n",
      "[38]\ttrain-rmse:0.723099\tval-rmse:0.89093\ttrain-clip-rmse:0.723095\tval-clip-rmse:0.890925\n",
      "[39]\ttrain-rmse:0.721936\tval-rmse:0.890839\ttrain-clip-rmse:0.721931\tval-clip-rmse:0.890834\n",
      "[40]\ttrain-rmse:0.720665\tval-rmse:0.890593\ttrain-clip-rmse:0.720658\tval-clip-rmse:0.890588\n",
      "[41]\ttrain-rmse:0.718839\tval-rmse:0.890275\ttrain-clip-rmse:0.718831\tval-clip-rmse:0.890269\n",
      "[42]\ttrain-rmse:0.717648\tval-rmse:0.890315\ttrain-clip-rmse:0.717639\tval-clip-rmse:0.890294\n",
      "[43]\ttrain-rmse:0.716727\tval-rmse:0.890125\ttrain-clip-rmse:0.716717\tval-clip-rmse:0.890104\n",
      "[44]\ttrain-rmse:0.715928\tval-rmse:0.889903\ttrain-clip-rmse:0.715917\tval-clip-rmse:0.889874\n",
      "[45]\ttrain-rmse:0.715092\tval-rmse:0.889899\ttrain-clip-rmse:0.71508\tval-clip-rmse:0.889869\n",
      "[46]\ttrain-rmse:0.713655\tval-rmse:0.889929\ttrain-clip-rmse:0.713642\tval-clip-rmse:0.889899\n",
      "[47]\ttrain-rmse:0.712864\tval-rmse:0.889916\ttrain-clip-rmse:0.71285\tval-clip-rmse:0.889884\n",
      "[48]\ttrain-rmse:0.712361\tval-rmse:0.890029\ttrain-clip-rmse:0.712346\tval-clip-rmse:0.889973\n",
      "[49]\ttrain-rmse:0.711913\tval-rmse:0.890051\ttrain-clip-rmse:0.711897\tval-clip-rmse:0.889967\n",
      "CV repetition 3/4 finished, running time 10.606 min, val score 0.8900.\n",
      "------------------------------------\n",
      "\n",
      "[0]\ttrain-rmse:1.14552\tval-rmse:1.11581\ttrain-clip-rmse:1.14552\tval-clip-rmse:1.11581\n",
      "[1]\ttrain-rmse:1.09207\tval-rmse:1.08106\ttrain-clip-rmse:1.09207\tval-clip-rmse:1.08106\n",
      "[2]\ttrain-rmse:1.04699\tval-rmse:1.05232\ttrain-clip-rmse:1.04699\tval-clip-rmse:1.05232\n",
      "[3]\ttrain-rmse:1.00843\tval-rmse:1.02825\ttrain-clip-rmse:1.00843\tval-clip-rmse:1.02825\n",
      "[4]\ttrain-rmse:0.973991\tval-rmse:1.00709\ttrain-clip-rmse:0.973991\tval-clip-rmse:1.00709\n",
      "[5]\ttrain-rmse:0.943299\tval-rmse:0.98904\ttrain-clip-rmse:0.9433\tval-clip-rmse:0.98904\n",
      "[6]\ttrain-rmse:0.91678\tval-rmse:0.972266\ttrain-clip-rmse:0.91678\tval-clip-rmse:0.972266\n",
      "[7]\ttrain-rmse:0.895761\tval-rmse:0.960627\ttrain-clip-rmse:0.895762\tval-clip-rmse:0.960627\n",
      "[8]\ttrain-rmse:0.876975\tval-rmse:0.947773\ttrain-clip-rmse:0.876975\tval-clip-rmse:0.947773\n",
      "[9]\ttrain-rmse:0.86071\tval-rmse:0.939003\ttrain-clip-rmse:0.860711\tval-clip-rmse:0.939003\n",
      "[10]\ttrain-rmse:0.846264\tval-rmse:0.932928\ttrain-clip-rmse:0.846264\tval-clip-rmse:0.932927\n",
      "[11]\ttrain-rmse:0.833422\tval-rmse:0.92767\ttrain-clip-rmse:0.833422\tval-clip-rmse:0.92767\n",
      "[12]\ttrain-rmse:0.822446\tval-rmse:0.923753\ttrain-clip-rmse:0.822446\tval-clip-rmse:0.923753\n",
      "[13]\ttrain-rmse:0.811972\tval-rmse:0.920234\ttrain-clip-rmse:0.811972\tval-clip-rmse:0.920234\n",
      "[14]\ttrain-rmse:0.803704\tval-rmse:0.916438\ttrain-clip-rmse:0.803704\tval-clip-rmse:0.916438\n",
      "[15]\ttrain-rmse:0.795763\tval-rmse:0.914395\ttrain-clip-rmse:0.795762\tval-clip-rmse:0.914394\n",
      "[16]\ttrain-rmse:0.789339\tval-rmse:0.912924\ttrain-clip-rmse:0.789339\tval-clip-rmse:0.912924\n",
      "[17]\ttrain-rmse:0.783303\tval-rmse:0.910771\ttrain-clip-rmse:0.783303\tval-clip-rmse:0.910771\n",
      "[18]\ttrain-rmse:0.778253\tval-rmse:0.908361\ttrain-clip-rmse:0.778253\tval-clip-rmse:0.908361\n",
      "[19]\ttrain-rmse:0.773622\tval-rmse:0.90629\ttrain-clip-rmse:0.773622\tval-clip-rmse:0.90629\n",
      "[20]\ttrain-rmse:0.769132\tval-rmse:0.905111\ttrain-clip-rmse:0.769132\tval-clip-rmse:0.90511\n",
      "[21]\ttrain-rmse:0.7653\tval-rmse:0.904165\ttrain-clip-rmse:0.7653\tval-clip-rmse:0.904165\n",
      "[22]\ttrain-rmse:0.761505\tval-rmse:0.902812\ttrain-clip-rmse:0.761505\tval-clip-rmse:0.902812\n",
      "[23]\ttrain-rmse:0.758273\tval-rmse:0.90267\ttrain-clip-rmse:0.758272\tval-clip-rmse:0.90267\n",
      "[24]\ttrain-rmse:0.755091\tval-rmse:0.902625\ttrain-clip-rmse:0.755091\tval-clip-rmse:0.902625\n",
      "[25]\ttrain-rmse:0.751732\tval-rmse:0.902411\ttrain-clip-rmse:0.751732\tval-clip-rmse:0.902411\n",
      "[26]\ttrain-rmse:0.748908\tval-rmse:0.902119\ttrain-clip-rmse:0.748908\tval-clip-rmse:0.902119\n",
      "[27]\ttrain-rmse:0.746772\tval-rmse:0.901813\ttrain-clip-rmse:0.746772\tval-clip-rmse:0.901812\n"
     ]
    },
    {
     "name": "stdout",
     "output_type": "stream",
     "text": [
      "[28]\ttrain-rmse:0.744192\tval-rmse:0.90204\ttrain-clip-rmse:0.744191\tval-clip-rmse:0.902039\n",
      "[29]\ttrain-rmse:0.74198\tval-rmse:0.902345\ttrain-clip-rmse:0.741979\tval-clip-rmse:0.902343\n",
      "[30]\ttrain-rmse:0.740174\tval-rmse:0.902834\ttrain-clip-rmse:0.740173\tval-clip-rmse:0.902832\n",
      "[31]\ttrain-rmse:0.738545\tval-rmse:0.902988\ttrain-clip-rmse:0.738544\tval-clip-rmse:0.902984\n",
      "[32]\ttrain-rmse:0.735736\tval-rmse:0.904587\ttrain-clip-rmse:0.735736\tval-clip-rmse:0.904583\n",
      "[33]\ttrain-rmse:0.733629\tval-rmse:0.904494\ttrain-clip-rmse:0.733628\tval-clip-rmse:0.904488\n",
      "[34]\ttrain-rmse:0.731637\tval-rmse:0.904858\ttrain-clip-rmse:0.731636\tval-clip-rmse:0.904855\n",
      "[35]\ttrain-rmse:0.730357\tval-rmse:0.904577\ttrain-clip-rmse:0.730355\tval-clip-rmse:0.904573\n",
      "[36]\ttrain-rmse:0.72846\tval-rmse:0.905152\ttrain-clip-rmse:0.728457\tval-clip-rmse:0.905144\n",
      "[37]\ttrain-rmse:0.726437\tval-rmse:0.905425\ttrain-clip-rmse:0.726434\tval-clip-rmse:0.905417\n",
      "[38]\ttrain-rmse:0.725152\tval-rmse:0.905355\ttrain-clip-rmse:0.725149\tval-clip-rmse:0.905346\n",
      "[39]\ttrain-rmse:0.724195\tval-rmse:0.905007\ttrain-clip-rmse:0.724191\tval-clip-rmse:0.904998\n",
      "[40]\ttrain-rmse:0.72317\tval-rmse:0.905364\ttrain-clip-rmse:0.723165\tval-clip-rmse:0.90535\n",
      "[41]\ttrain-rmse:0.721915\tval-rmse:0.905355\ttrain-clip-rmse:0.721909\tval-clip-rmse:0.90534\n",
      "[42]\ttrain-rmse:0.72081\tval-rmse:0.905445\ttrain-clip-rmse:0.720803\tval-clip-rmse:0.90543\n",
      "[43]\ttrain-rmse:0.71914\tval-rmse:0.905178\ttrain-clip-rmse:0.719132\tval-clip-rmse:0.905161\n",
      "[44]\ttrain-rmse:0.717683\tval-rmse:0.905321\ttrain-clip-rmse:0.717674\tval-clip-rmse:0.905303\n",
      "[45]\ttrain-rmse:0.717099\tval-rmse:0.905198\ttrain-clip-rmse:0.717088\tval-clip-rmse:0.905182\n",
      "[46]\ttrain-rmse:0.715882\tval-rmse:0.90579\ttrain-clip-rmse:0.715871\tval-clip-rmse:0.905777\n",
      "[47]\ttrain-rmse:0.71487\tval-rmse:0.90576\ttrain-clip-rmse:0.714857\tval-clip-rmse:0.905746\n",
      "[48]\ttrain-rmse:0.714021\tval-rmse:0.905779\ttrain-clip-rmse:0.714007\tval-clip-rmse:0.905765\n",
      "[49]\ttrain-rmse:0.713583\tval-rmse:0.905674\ttrain-clip-rmse:0.713568\tval-clip-rmse:0.90566\n",
      "CV repetition 4/4 finished, running time 10.602 min, val score 0.9057.\n",
      "------------------------------------\n",
      "\n"
     ]
    }
   ],
   "source": [
    "if True:\n",
    "    dtrain = xgb.DMatrix(x_train, y_train)\n",
    "    dval = xgb.DMatrix(x_val, y_val)\n",
    "    cv_results = {}\n",
    "    cv_bst = {}\n",
    "    np.random.seed(429578)\n",
    "    for n in range(n_repetition):\n",
    "        time_start = time.time()\n",
    "        param['seed'] = np.random.randint(10**6)\n",
    "        cv_results[n] = {}\n",
    "        cv_bst[n] = xgb.train(param, dtrain,num_boost_round=n_tree, \n",
    "            evals=[(dtrain, 'train'), (dval, 'val')], \n",
    "            feval=clip_rmse, maximize=False, early_stopping_rounds=None, \n",
    "            evals_result=cv_results[n], verbose_eval=verbose)\n",
    "        running_time = time.time() - time_start\n",
    "        print('CV repetition {}/{} finished, running time {:.3f} min, val score {:.4f}.'.format(n+1, n_repetition, \n",
    "            running_time/60, cv_results[n]['val']['clip-rmse'][-1]))\n",
    "        print('------------------------------------\\n')"
   ]
  },
  {
   "cell_type": "markdown",
   "metadata": {},
   "source": [
    "CV history"
   ]
  },
  {
   "cell_type": "code",
   "execution_count": 40,
   "metadata": {},
   "outputs": [
    {
     "data": {
      "image/png": "[encoded data removed]",
      "text/plain": [
       "<Figure size 1152x648 with 1 Axes>"
      ]
     },
     "metadata": {},
     "output_type": "display_data"
    }
   ],
   "source": [
    "if True:\n",
    "    tmp = pd.DataFrame({(d, k): cv_results[k][d]['clip-rmse'] \n",
    "        for k, d in itertools.product(range(n_repetition), ['train', 'val'])})\n",
    "    tmp[[('train', 'mean'), ('val', 'mean')]] = tmp.mean(axis=1, level=0)\n",
    "    tmp[[('train', 'std'), ('val', 'std')]] = tmp.std(axis=1, level=0)\n",
    "    tmp.drop([0, 1], axis=1, level=1, inplace=True)\n",
    "\n",
    "    cv_history = tmp.copy()\n",
    "    \n",
    "    plt.figure(figsize=(16, 9))\n",
    "    plt.plot(np.arange(n_tree), cv_history[('train', 'mean')])\n",
    "    plt.fill_between(np.arange(n_tree), \n",
    "        cv_history[('train', 'mean')]-cv_history[('train', 'std')], \n",
    "        cv_history[('train', 'mean')]+cv_history[('train', 'std')],\n",
    "        alpha=0.5)\n",
    "    plt.plot(np.arange(n_tree), cv_history[('val', 'mean')])\n",
    "    plt.fill_between(np.arange(n_tree), \n",
    "        cv_history[('val', 'mean')]-cv_history[('val', 'std')], \n",
    "        cv_history[('val', 'mean')]+cv_history[('val', 'std')],\n",
    "        alpha=0.5)\n",
    "    plt.grid()"
   ]
  },
  {
   "cell_type": "markdown",
   "metadata": {},
   "source": [
    "Feature importance"
   ]
  },
  {
   "cell_type": "code",
   "execution_count": 41,
   "metadata": {},
   "outputs": [],
   "source": [
    "if True:\n",
    "    feature_importance = pd.DataFrame({k: cv_bst[k].get_score(importance_type='gain') for k in cv_bst.keys()})\n",
    "    feature_importance['mean'] = feature_importance.mean(axis=1)\n",
    "    feature_importance['std'] = feature_importance.std(axis=1)\n",
    "    feature_importance.drop(np.arange(n_repetition), axis=1, inplace=True)\n",
    "    feature_importance.sort_values('mean', axis=0, inplace=True, ascending=False)\n",
    "    feature_importance.to_csv('eda_11_7_feature_importance.csv')"
   ]
  },
  {
   "cell_type": "markdown",
   "metadata": {},
   "source": [
    "Train and submit"
   ]
  },
  {
   "cell_type": "code",
   "execution_count": 42,
   "metadata": {},
   "outputs": [],
   "source": [
    "if False:\n",
    "    n_tree=20\n",
    "    x_train = x.loc[(x['month']<=33) & (x['month']>=12), :].copy()\n",
    "    x_test = x.loc[x['month']==34, :].copy()\n",
    "\n",
    "    # Drop target from test set\n",
    "    x_test.drop(['sales_month'], axis=1, inplace=True)\n",
    "\n",
    "    y_train = x_train['sales_month'].clip(0, 40)\n",
    "    x_train.drop(['sales_month'], axis=1, inplace=True)\n",
    "    \n",
    "    dtrain = xgb.DMatrix(x_train, y_train)\n",
    "    bst = xgb.train(param, dtrain, num_boost_round=n_tree, \n",
    "                    evals=[(dtrain, 'train')], feval=clip_rmse, maximize=False,\n",
    "                    verbose_eval=True)\n",
    "\n",
    "    preds = bst.predict(xgb.DMatrix(x_test))\n",
    "    preds = list(map(lambda x: min(20, max(x, 0)), list(preds)))\n",
    "    sub_df = pd.DataFrame({'ID': test.index, 'item_cnt_month': preds})\n",
    "    sub_df.to_csv('eda_11_7_submit.csv', index=False)"
   ]
  },
  {
   "cell_type": "markdown",
   "metadata": {},
   "source": []
  }
 ],
 "metadata": {
  "kernelspec": {
   "display_name": "Python 3",
   "language": "python",
   "name": "python3"
  },
  "language_info": {
   "codemirror_mode": {
    "name": "ipython",
    "version": 3
   },
   "file_extension": ".py",
   "mimetype": "text/x-python",
   "name": "python",
   "nbconvert_exporter": "python",
   "pygments_lexer": "ipython3",
   "version": "3.6.5"
  }
 },
 "nbformat": 4,
 "nbformat_minor": 2
}
