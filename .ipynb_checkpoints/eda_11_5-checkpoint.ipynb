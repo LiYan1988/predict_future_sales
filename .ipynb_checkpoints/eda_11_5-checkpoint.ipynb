{
 "cells": [
  {
   "cell_type": "code",
   "execution_count": 1,
   "metadata": {},
   "outputs": [],
   "source": [
    "import numpy as np\n",
    "import pandas as pd\n",
    "import matplotlib.pyplot as plt\n",
    "import os\n",
    "import gc\n",
    "import sys\n",
    "import time\n",
    "import gc\n",
    "import itertools\n",
    "import tqdm\n",
    "import time\n",
    "import copy\n",
    "\n",
    "import scipy.stats as ss\n",
    "from numba import jit\n",
    "\n",
    "if os.name=='nt':\n",
    "    try:\n",
    "        mingw_path = 'C:\\\\Program Files\\\\mingw-w64\\\\x86_64-8.1.0-posix-seh-rt_v6-rev0\\\\mingw64\\\\bin'\n",
    "        os.environ['PATH'] = mingw_path + ';' + os.environ['PATH']\n",
    "    except:\n",
    "        pass\n",
    "    \n",
    "import xgboost as xgb\n",
    "from sklearn.metrics import mean_squared_error \n",
    "from sklearn.preprocessing import LabelEncoder\n",
    "from sklearn.model_selection import StratifiedKFold\n",
    "\n",
    "%matplotlib inline"
   ]
  },
  {
   "cell_type": "markdown",
   "metadata": {},
   "source": [
    "### Helper Function"
   ]
  },
  {
   "cell_type": "code",
   "execution_count": 2,
   "metadata": {},
   "outputs": [],
   "source": [
    "def lag_features(df, lags, col):\n",
    "    '''create lag features of col'''\n",
    "    cols_idx = ['date_block_num', 'shop_id', 'item_id']\n",
    "    cols_f = ['date_block_num', 'shop_id', 'item_id', col]\n",
    "    tmp = df.loc[:, cols_f]\n",
    "    for i in lags:\n",
    "        shifted = tmp.copy()\n",
    "        shifted_cols = shifted.columns.tolist()\n",
    "        shifted_cols[-1] = col+'_lag_'+str(i)\n",
    "        shifted.columns = shifted_cols\n",
    "        shifted['date_block_num'] += i\n",
    "        df = pd.merge(df, shifted, on=cols_idx, how='left')\n",
    "    return df    "
   ]
  },
  {
   "cell_type": "code",
   "execution_count": 3,
   "metadata": {},
   "outputs": [],
   "source": [
    "def clip_rmse(preds, dtrain):\n",
    "    y_test = np.array(dtrain.get_label())\n",
    "    preds = np.array(preds)\n",
    "    y_test = np.maximum(np.minimum(y_test, 20), 0)\n",
    "    preds = np.maximum(np.minimum(preds, 20), 0)\n",
    "    #preds = np.array(list(map(lambda x: min(20, max(x, 0)), list(preds))))\n",
    "    #y_test = np.array(list(map(lambda x: min(20, max(x, 0)), list(y_test))))\n",
    "    rmse = np.sqrt(mean_squared_error(preds,y_test))\n",
    "    return 'clip-rmse', rmse"
   ]
  },
  {
   "cell_type": "code",
   "execution_count": 4,
   "metadata": {},
   "outputs": [],
   "source": [
    "def cv(x_train, y_train, param, n_repetition, n_split, n_tree, verbose, random_state):\n",
    "    '''Repeated CV'''\n",
    "    \n",
    "    cv_results = {}\n",
    "    clf = {}\n",
    "    running_time = {}\n",
    "\n",
    "    np.random.seed(random_state)\n",
    "\n",
    "    for m in range(n_repetition):\n",
    "        # Train and valuation sets split\n",
    "        skf = StratifiedKFold(n_splits=n_split, random_state=np.random.randint(10**6), shuffle=True)\n",
    "\n",
    "        for n, (train_index, val_index) in enumerate(skf.split(x_train, y_train)):\n",
    "\n",
    "            start_time = time.time()\n",
    "\n",
    "            # Construct DMatrix\n",
    "            dtrain = xgb.DMatrix(x_train.iloc[train_index], label=y_train.iloc[train_index])\n",
    "            dval = xgb.DMatrix(x_train.iloc[val_index], label=y_train.iloc[val_index])\n",
    "\n",
    "            # Placeholder for evals_results\n",
    "            cv_results[m, n] = {}\n",
    "\n",
    "            param['seed'] = np.random.randint(10**6)\n",
    "            clf[m, n] = xgb.train(param, dtrain,num_boost_round=n_tree, \n",
    "                                  evals=[(dtrain, 'train'), (dval, 'val')], \n",
    "                                  feval=clip_rmse, maximize=False, early_stopping_rounds=None, \n",
    "                                  evals_result=cv_results[m, n], verbose_eval=verbose)\n",
    "\n",
    "            running_time[m, n] = time.time() - start_time\n",
    "\n",
    "            print('Repeat {}, split {}, val score = {:.3f}, running time = {:.3f} min.'.format(m, n, \n",
    "                cv_results[m, n]['val']['clip-rmse'][-1], running_time[m, n]/60))\n",
    "\n",
    "    cv_results_final = {}\n",
    "    for m in range(n_repetition):\n",
    "        for n in range(n_split):\n",
    "            cv_results_final['train', m, n] = cv_results[m, n]['train']['clip-rmse']\n",
    "            cv_results_final['val', m, n] = cv_results[m, n]['val']['clip-rmse']\n",
    "\n",
    "    df = pd.DataFrame(cv_results_final)\n",
    "    df.index.name = 'iteration'\n",
    "    df.columns.names = ['dataset', 'repetition', 'cv_split']\n",
    "\n",
    "    print('Val mean = {:.3f}, std = {:.3f}'.format(df['val'].iloc[-1].mean(), df['val'].iloc[-1].std()))\n",
    "    \n",
    "    return df, clf, running_time"
   ]
  },
  {
   "cell_type": "code",
   "execution_count": 5,
   "metadata": {},
   "outputs": [],
   "source": [
    "def feature_combination(x, feature_list, function_dict, column_name, merge=False):\n",
    "    '''Combination of new features'''\n",
    "    tmp = x.groupby(feature_list).agg(function_dict)\n",
    "    tmp.columns = column_name\n",
    "    if merge:\n",
    "        x = x.merge(tmp, on=feature_list, how='left')\n",
    "        return x, tmp\n",
    "    else:\n",
    "        return tmp"
   ]
  },
  {
   "cell_type": "markdown",
   "metadata": {},
   "source": [
    "### Load Data"
   ]
  },
  {
   "cell_type": "code",
   "execution_count": 6,
   "metadata": {},
   "outputs": [],
   "source": [
    "# Load data\n",
    "train = pd.read_csv('all/sales_train.csv.gz')\n",
    "test = pd.read_csv('all/test.csv.gz')\n",
    "shop = pd.read_csv('all/shops-translated.csv')\n",
    "item = pd.read_csv('all/item_category.csv')\n",
    "\n",
    "test.set_index('ID', inplace=True)\n",
    "item.drop(['item_name_translated'], axis=1, inplace=True)\n",
    "shop.drop(['Name'], axis=1, inplace=True)\n",
    "\n",
    "le = LabelEncoder()\n",
    "item['item_cat1'] = le.fit_transform(item['item_cat1'].astype(str))\n",
    "item['item_cat2'] = le.fit_transform(item['item_cat2'].astype(str))\n",
    "shop['City'] = le.fit_transform(shop['City'])\n",
    "shop['Type'] = le.fit_transform(shop['Type'])"
   ]
  },
  {
   "cell_type": "code",
   "execution_count": 7,
   "metadata": {},
   "outputs": [],
   "source": [
    "# Add date_block_num to test \n",
    "test['date_block_num'] = 34\n",
    "test = test[['date_block_num', 'shop_id', 'item_id']]"
   ]
  },
  {
   "cell_type": "code",
   "execution_count": 8,
   "metadata": {},
   "outputs": [],
   "source": [
    "train = train.merge(shop, on='shop_id', how='left')\n",
    "train = train.merge(item, on='item_id', how='left')\n",
    "train['revenue'] = train.item_price * train.item_cnt_day"
   ]
  },
  {
   "cell_type": "markdown",
   "metadata": {},
   "source": [
    "### Experiments"
   ]
  },
  {
   "cell_type": "code",
   "execution_count": 9,
   "metadata": {},
   "outputs": [],
   "source": [
    "x = train.groupby(['date_block_num', \n",
    "                   'shop_id', \n",
    "                   'item_id']).agg({\n",
    "    'item_price':[np.mean, np.std], 'item_cnt_day': np.sum, 'revenue': np.sum})\n",
    "# x.columns = ['price_mean_month', 'cnt_sum_month']\n",
    "\n",
    "#cols = ['price_mean_month', 'price_median_month', 'price_std_month', 'cnt_sum_month']\n",
    "cols = ['price_mean_month', 'price_std_month', 'cnt_sum_month', 'rev_sum_month']\n",
    "x.columns = cols\n",
    "\n",
    "x.reset_index(inplace=True)\n",
    "x = pd.concat((x, test), sort=False, ignore_index=True)\n",
    "x.reset_index(drop=True, inplace=True)\n",
    "\n",
    "x = pd.merge(x, shop, on='shop_id', how='left')\n",
    "x = pd.merge(x, item, on='item_id', how='left')"
   ]
  },
  {
   "cell_type": "code",
   "execution_count": 10,
   "metadata": {},
   "outputs": [],
   "source": [
    "tmp = x.columns.tolist()\n",
    "tmp[3:3] = ['City', 'Type', 'item_cat1', 'item_cat2']\n",
    "tmp = tmp[:11]\n",
    "x = x[tmp]"
   ]
  },
  {
   "cell_type": "markdown",
   "metadata": {},
   "source": [
    "#### Create combinations of features"
   ]
  },
  {
   "cell_type": "markdown",
   "metadata": {},
   "source": [
    "##### `(item_id, Type)`\n",
    "\n",
    "- count of shops with the same type and selling the same item, i.e., having the same `(item_id, Type)`\n",
    "- average sales count among these shops"
   ]
  },
  {
   "cell_type": "code",
   "execution_count": 11,
   "metadata": {},
   "outputs": [],
   "source": [
    "feature_list = ['date_block_num', 'item_id', 'Type']\n",
    "function_list = {'cnt_sum_month':['count', 'mean'], 'price_mean_month':np.mean, 'rev_sum_month':np.mean}\n",
    "column_name = ['shop_count_item_type', 'cnt_mean_item_type', 'price_mean_item_type', 'rev_mean_item_type']\n",
    "cols.extend(column_name)\n",
    "x, tmp = feature_combination(x, feature_list, function_list, column_name, merge=True)"
   ]
  },
  {
   "cell_type": "markdown",
   "metadata": {},
   "source": [
    "##### `(item_id, City)`"
   ]
  },
  {
   "cell_type": "code",
   "execution_count": 12,
   "metadata": {},
   "outputs": [],
   "source": [
    "feature_list = ['date_block_num', 'item_id', 'City']\n",
    "function_list = {'cnt_sum_month':['count', 'mean'], 'price_mean_month':np.mean, 'rev_sum_month':np.mean}\n",
    "column_name = ['shop_count_item_city', 'cnt_mean_item_city', 'price_mean_item_city', 'rev_mean_item_city']\n",
    "cols.extend(column_name)\n",
    "x, tmp = feature_combination(x, feature_list, function_list, column_name, merge=True)"
   ]
  },
  {
   "cell_type": "markdown",
   "metadata": {},
   "source": [
    "##### `(cat1, shop)`"
   ]
  },
  {
   "cell_type": "code",
   "execution_count": 13,
   "metadata": {},
   "outputs": [],
   "source": [
    "feature_list = ['date_block_num', 'item_cat1', 'shop_id']\n",
    "function_list = {'cnt_sum_month':['count', 'mean'], 'price_mean_month':np.mean, 'rev_sum_month':np.mean}\n",
    "column_name = ['shop_count_cat1_shop', 'cnt_mean_cat1_shop', 'price_mean_cat1_shop', 'rev_mean_cat1_shop']\n",
    "cols.extend(column_name)\n",
    "x, tmp = feature_combination(x, feature_list, function_list, column_name, merge=True)"
   ]
  },
  {
   "cell_type": "markdown",
   "metadata": {},
   "source": [
    "##### `(cat1, City)`"
   ]
  },
  {
   "cell_type": "code",
   "execution_count": 14,
   "metadata": {},
   "outputs": [],
   "source": [
    "feature_list = ['date_block_num', 'item_cat1', 'City']\n",
    "function_list = {'cnt_sum_month':['count', 'mean'], 'price_mean_month':np.mean, 'rev_sum_month':np.mean}\n",
    "column_name = ['shop_count_cat1_city', 'cnt_mean_cat1_city', 'price_mean_cat1_city', 'rev_mean_cat1_city']\n",
    "cols.extend(column_name)\n",
    "x, tmp = feature_combination(x, feature_list, function_list, column_name, merge=True)"
   ]
  },
  {
   "cell_type": "markdown",
   "metadata": {},
   "source": [
    "##### `(cat1, Type)`"
   ]
  },
  {
   "cell_type": "code",
   "execution_count": 15,
   "metadata": {},
   "outputs": [],
   "source": [
    "feature_list = ['date_block_num', 'item_cat1', 'Type']\n",
    "function_list = {'cnt_sum_month':['count', 'mean'], 'price_mean_month':np.mean, 'rev_sum_month':np.mean}\n",
    "column_name = ['shop_count_cat1_type', 'cnt_mean_cat1_type', 'price_mean_cat1_type', 'rev_mean_cat1_type']\n",
    "cols.extend(column_name)\n",
    "x, tmp = feature_combination(x, feature_list, function_list, column_name, merge=True)"
   ]
  },
  {
   "cell_type": "markdown",
   "metadata": {},
   "source": [
    "##### `(cat2, shop)`"
   ]
  },
  {
   "cell_type": "code",
   "execution_count": 16,
   "metadata": {},
   "outputs": [],
   "source": [
    "feature_list = ['date_block_num', 'item_cat2', 'shop_id']\n",
    "function_list = {'cnt_sum_month':['count', 'mean'], 'price_mean_month':np.mean, 'rev_sum_month':np.mean}\n",
    "column_name = ['shop_count_cat2_shop', 'cnt_mean_cat2_shop', 'price_mean_cat2_shop', 'rev_mean_cat2_shop']\n",
    "cols.extend(column_name)\n",
    "x, tmp = feature_combination(x, feature_list, function_list, column_name, merge=True)"
   ]
  },
  {
   "cell_type": "markdown",
   "metadata": {},
   "source": [
    "##### `(cat2, city)`"
   ]
  },
  {
   "cell_type": "code",
   "execution_count": 17,
   "metadata": {},
   "outputs": [],
   "source": [
    "feature_list = ['date_block_num', 'item_cat2', 'City']\n",
    "function_list = {'cnt_sum_month':['count', 'mean'], 'price_mean_month':np.mean, 'rev_sum_month':np.mean}\n",
    "column_name = ['shop_count_cat2_city', 'cnt_mean_cat2_city', 'price_mean_cat2_city', 'rev_mean_cat2_city']\n",
    "cols.extend(column_name)\n",
    "x, tmp = feature_combination(x, feature_list, function_list, column_name, merge=True)"
   ]
  },
  {
   "cell_type": "markdown",
   "metadata": {},
   "source": [
    "##### `(cat2, type)`"
   ]
  },
  {
   "cell_type": "code",
   "execution_count": 18,
   "metadata": {},
   "outputs": [],
   "source": [
    "feature_list = ['date_block_num', 'item_cat2', 'Type']\n",
    "function_list = {'cnt_sum_month':['count', 'mean'], 'price_mean_month':np.mean, 'rev_sum_month':np.mean}\n",
    "column_name = ['shop_count_cat2_type', 'cnt_mean_cat2_type', 'price_mean_cat2_type', 'rev_mean_cat2_type']\n",
    "cols.extend(column_name)\n",
    "x, tmp = feature_combination(x, feature_list, function_list, column_name, merge=True)"
   ]
  },
  {
   "cell_type": "markdown",
   "metadata": {},
   "source": [
    "##### `(cat1, cat2)`"
   ]
  },
  {
   "cell_type": "code",
   "execution_count": 19,
   "metadata": {},
   "outputs": [],
   "source": [
    "feature_list = ['date_block_num', 'item_cat1', 'item_cat2']\n",
    "function_list = {'cnt_sum_month':['count', 'mean'], 'price_mean_month':np.mean, 'rev_sum_month':np.mean}\n",
    "column_name = ['shop_count_cat1_cat2', 'cnt_mean_cat1_cat2', 'price_mean_cat1_cat2', 'rev_mean_cat1_cat2']\n",
    "cols.extend(column_name)\n",
    "x, tmp = feature_combination(x, feature_list, function_list, column_name, merge=True)"
   ]
  },
  {
   "cell_type": "markdown",
   "metadata": {},
   "source": [
    "##### `(city, type)`"
   ]
  },
  {
   "cell_type": "code",
   "execution_count": 20,
   "metadata": {},
   "outputs": [],
   "source": [
    "feature_list = ['date_block_num', 'City', 'Type']\n",
    "function_list = {'cnt_sum_month':['count', 'mean'], 'price_mean_month':np.mean, 'rev_sum_month':np.mean}\n",
    "column_name = ['shop_count_city_type', 'cnt_mean_city_type', 'price_mean_city_type', 'rev_mean_city_type']\n",
    "cols.extend(column_name)\n",
    "x, tmp = feature_combination(x, feature_list, function_list, column_name, merge=True)"
   ]
  },
  {
   "cell_type": "markdown",
   "metadata": {},
   "source": [
    "#### Write a function for the analysis"
   ]
  },
  {
   "cell_type": "code",
   "execution_count": 21,
   "metadata": {},
   "outputs": [
    {
     "data": {
      "text/html": [
       "<div>\n",
       "<style scoped>\n",
       "    .dataframe tbody tr th:only-of-type {\n",
       "        vertical-align: middle;\n",
       "    }\n",
       "\n",
       "    .dataframe tbody tr th {\n",
       "        vertical-align: top;\n",
       "    }\n",
       "\n",
       "    .dataframe thead th {\n",
       "        text-align: right;\n",
       "    }\n",
       "</style>\n",
       "<table border=\"1\" class=\"dataframe\">\n",
       "  <thead>\n",
       "    <tr style=\"text-align: right;\">\n",
       "      <th></th>\n",
       "      <th>date_block_num</th>\n",
       "      <th>shop_id</th>\n",
       "      <th>item_id</th>\n",
       "      <th>City</th>\n",
       "      <th>Type</th>\n",
       "      <th>item_cat1</th>\n",
       "      <th>item_cat2</th>\n",
       "      <th>price_mean_month</th>\n",
       "      <th>price_std_month</th>\n",
       "      <th>cnt_sum_month</th>\n",
       "      <th>...</th>\n",
       "      <th>price_mean_cat2_type</th>\n",
       "      <th>rev_mean_cat2_type</th>\n",
       "      <th>shop_count_cat1_cat2</th>\n",
       "      <th>cnt_mean_cat1_cat2</th>\n",
       "      <th>price_mean_cat1_cat2</th>\n",
       "      <th>rev_mean_cat1_cat2</th>\n",
       "      <th>shop_count_city_type</th>\n",
       "      <th>cnt_mean_city_type</th>\n",
       "      <th>price_mean_city_type</th>\n",
       "      <th>rev_mean_city_type</th>\n",
       "    </tr>\n",
       "  </thead>\n",
       "  <tbody>\n",
       "    <tr>\n",
       "      <th>1823319</th>\n",
       "      <td>34</td>\n",
       "      <td>45</td>\n",
       "      <td>18454</td>\n",
       "      <td>15</td>\n",
       "      <td>4</td>\n",
       "      <td>12</td>\n",
       "      <td>16</td>\n",
       "      <td>NaN</td>\n",
       "      <td>NaN</td>\n",
       "      <td>NaN</td>\n",
       "      <td>...</td>\n",
       "      <td>NaN</td>\n",
       "      <td>NaN</td>\n",
       "      <td>0</td>\n",
       "      <td>NaN</td>\n",
       "      <td>NaN</td>\n",
       "      <td>NaN</td>\n",
       "      <td>0</td>\n",
       "      <td>NaN</td>\n",
       "      <td>NaN</td>\n",
       "      <td>NaN</td>\n",
       "    </tr>\n",
       "    <tr>\n",
       "      <th>1823320</th>\n",
       "      <td>34</td>\n",
       "      <td>45</td>\n",
       "      <td>16188</td>\n",
       "      <td>15</td>\n",
       "      <td>4</td>\n",
       "      <td>10</td>\n",
       "      <td>12</td>\n",
       "      <td>NaN</td>\n",
       "      <td>NaN</td>\n",
       "      <td>NaN</td>\n",
       "      <td>...</td>\n",
       "      <td>NaN</td>\n",
       "      <td>NaN</td>\n",
       "      <td>0</td>\n",
       "      <td>NaN</td>\n",
       "      <td>NaN</td>\n",
       "      <td>NaN</td>\n",
       "      <td>0</td>\n",
       "      <td>NaN</td>\n",
       "      <td>NaN</td>\n",
       "      <td>NaN</td>\n",
       "    </tr>\n",
       "    <tr>\n",
       "      <th>1823321</th>\n",
       "      <td>34</td>\n",
       "      <td>45</td>\n",
       "      <td>15757</td>\n",
       "      <td>15</td>\n",
       "      <td>4</td>\n",
       "      <td>12</td>\n",
       "      <td>16</td>\n",
       "      <td>NaN</td>\n",
       "      <td>NaN</td>\n",
       "      <td>NaN</td>\n",
       "      <td>...</td>\n",
       "      <td>NaN</td>\n",
       "      <td>NaN</td>\n",
       "      <td>0</td>\n",
       "      <td>NaN</td>\n",
       "      <td>NaN</td>\n",
       "      <td>NaN</td>\n",
       "      <td>0</td>\n",
       "      <td>NaN</td>\n",
       "      <td>NaN</td>\n",
       "      <td>NaN</td>\n",
       "    </tr>\n",
       "    <tr>\n",
       "      <th>1823322</th>\n",
       "      <td>34</td>\n",
       "      <td>45</td>\n",
       "      <td>19648</td>\n",
       "      <td>15</td>\n",
       "      <td>4</td>\n",
       "      <td>3</td>\n",
       "      <td>23</td>\n",
       "      <td>NaN</td>\n",
       "      <td>NaN</td>\n",
       "      <td>NaN</td>\n",
       "      <td>...</td>\n",
       "      <td>NaN</td>\n",
       "      <td>NaN</td>\n",
       "      <td>0</td>\n",
       "      <td>NaN</td>\n",
       "      <td>NaN</td>\n",
       "      <td>NaN</td>\n",
       "      <td>0</td>\n",
       "      <td>NaN</td>\n",
       "      <td>NaN</td>\n",
       "      <td>NaN</td>\n",
       "    </tr>\n",
       "    <tr>\n",
       "      <th>1823323</th>\n",
       "      <td>34</td>\n",
       "      <td>45</td>\n",
       "      <td>969</td>\n",
       "      <td>15</td>\n",
       "      <td>4</td>\n",
       "      <td>3</td>\n",
       "      <td>9</td>\n",
       "      <td>NaN</td>\n",
       "      <td>NaN</td>\n",
       "      <td>NaN</td>\n",
       "      <td>...</td>\n",
       "      <td>NaN</td>\n",
       "      <td>NaN</td>\n",
       "      <td>0</td>\n",
       "      <td>NaN</td>\n",
       "      <td>NaN</td>\n",
       "      <td>NaN</td>\n",
       "      <td>0</td>\n",
       "      <td>NaN</td>\n",
       "      <td>NaN</td>\n",
       "      <td>NaN</td>\n",
       "    </tr>\n",
       "  </tbody>\n",
       "</table>\n",
       "<p>5 rows × 51 columns</p>\n",
       "</div>"
      ],
      "text/plain": [
       "         date_block_num  shop_id  item_id  City  Type  item_cat1  item_cat2  \\\n",
       "1823319              34       45    18454    15     4         12         16   \n",
       "1823320              34       45    16188    15     4         10         12   \n",
       "1823321              34       45    15757    15     4         12         16   \n",
       "1823322              34       45    19648    15     4          3         23   \n",
       "1823323              34       45      969    15     4          3          9   \n",
       "\n",
       "         price_mean_month  price_std_month  cnt_sum_month         ...          \\\n",
       "1823319               NaN              NaN            NaN         ...           \n",
       "1823320               NaN              NaN            NaN         ...           \n",
       "1823321               NaN              NaN            NaN         ...           \n",
       "1823322               NaN              NaN            NaN         ...           \n",
       "1823323               NaN              NaN            NaN         ...           \n",
       "\n",
       "         price_mean_cat2_type  rev_mean_cat2_type  shop_count_cat1_cat2  \\\n",
       "1823319                   NaN                 NaN                     0   \n",
       "1823320                   NaN                 NaN                     0   \n",
       "1823321                   NaN                 NaN                     0   \n",
       "1823322                   NaN                 NaN                     0   \n",
       "1823323                   NaN                 NaN                     0   \n",
       "\n",
       "         cnt_mean_cat1_cat2  price_mean_cat1_cat2  rev_mean_cat1_cat2  \\\n",
       "1823319                 NaN                   NaN                 NaN   \n",
       "1823320                 NaN                   NaN                 NaN   \n",
       "1823321                 NaN                   NaN                 NaN   \n",
       "1823322                 NaN                   NaN                 NaN   \n",
       "1823323                 NaN                   NaN                 NaN   \n",
       "\n",
       "         shop_count_city_type  cnt_mean_city_type  price_mean_city_type  \\\n",
       "1823319                     0                 NaN                   NaN   \n",
       "1823320                     0                 NaN                   NaN   \n",
       "1823321                     0                 NaN                   NaN   \n",
       "1823322                     0                 NaN                   NaN   \n",
       "1823323                     0                 NaN                   NaN   \n",
       "\n",
       "         rev_mean_city_type  \n",
       "1823319                 NaN  \n",
       "1823320                 NaN  \n",
       "1823321                 NaN  \n",
       "1823322                 NaN  \n",
       "1823323                 NaN  \n",
       "\n",
       "[5 rows x 51 columns]"
      ]
     },
     "execution_count": 21,
     "metadata": {},
     "output_type": "execute_result"
    }
   ],
   "source": [
    "x.tail()"
   ]
  },
  {
   "cell_type": "code",
   "execution_count": 22,
   "metadata": {},
   "outputs": [
    {
     "data": {
      "application/vnd.jupyter.widget-view+json": {
       "model_id": "98f9dfe8ca4d4e58a3b5c1b3aa4d451c",
       "version_major": 2,
       "version_minor": 0
      },
      "text/plain": [
       "HBox(children=(IntProgress(value=0, max=44), HTML(value='')))"
      ]
     },
     "metadata": {},
     "output_type": "display_data"
    },
    {
     "name": "stdout",
     "output_type": "stream",
     "text": [
      "\n"
     ]
    }
   ],
   "source": [
    "for c in tqdm.tqdm_notebook(cols):\n",
    "    x = lag_features(x, range(1, 13), c)"
   ]
  },
  {
   "cell_type": "code",
   "execution_count": 23,
   "metadata": {},
   "outputs": [],
   "source": [
    "cols.remove('cnt_sum_month')\n",
    "x.drop(cols, axis=1, inplace=True)"
   ]
  },
  {
   "cell_type": "markdown",
   "metadata": {},
   "source": [
    "#### CV"
   ]
  },
  {
   "cell_type": "code",
   "execution_count": 24,
   "metadata": {},
   "outputs": [],
   "source": [
    "# Split train and test sets\n",
    "x_train = x.loc[x['date_block_num']<=33, :].copy()\n",
    "x_test = x.loc[x['date_block_num']==34, :].copy()\n",
    "\n",
    "# Drop target from test set\n",
    "x_test.drop(['cnt_sum_month'], axis=1, inplace=True)\n",
    "\n",
    "# Split target from train set\n",
    "# Note that target is first clipped to (0, 40), then clipped to (0, 20) in test set. \n",
    "# This is similar to the idea of calibration\n",
    "y_train = x_train['cnt_sum_month'].clip(0, 40)\n",
    "x_train.drop(['cnt_sum_month'], axis=1, inplace=True)"
   ]
  },
  {
   "cell_type": "code",
   "execution_count": 25,
   "metadata": {},
   "outputs": [
    {
     "name": "stdout",
     "output_type": "stream",
     "text": [
      "[0]\ttrain-rmse:3.14841\tval-rmse:3.1866\ttrain-clip-rmse:2.461\tval-clip-rmse:2.49269\n",
      "[1]\ttrain-rmse:2.83125\tval-rmse:2.90803\ttrain-clip-rmse:2.17921\tval-clip-rmse:2.2425\n",
      "[2]\ttrain-rmse:2.61686\tval-rmse:2.72753\ttrain-clip-rmse:2.00932\tval-clip-rmse:2.09866\n",
      "[3]\ttrain-rmse:2.46314\tval-rmse:2.61139\ttrain-clip-rmse:1.89512\tval-clip-rmse:2.01231\n",
      "[4]\ttrain-rmse:2.35964\tval-rmse:2.5339\ttrain-clip-rmse:1.82412\tval-clip-rmse:1.95994\n",
      "[5]\ttrain-rmse:2.28574\tval-rmse:2.48223\ttrain-clip-rmse:1.7736\tval-clip-rmse:1.92602\n",
      "[6]\ttrain-rmse:2.23732\tval-rmse:2.44804\ttrain-clip-rmse:1.74322\tval-clip-rmse:1.90647\n",
      "[7]\ttrain-rmse:2.19409\tval-rmse:2.41671\ttrain-clip-rmse:1.7145\tval-clip-rmse:1.88684\n",
      "[8]\ttrain-rmse:2.16622\tval-rmse:2.40069\ttrain-clip-rmse:1.69561\tval-clip-rmse:1.878\n",
      "[9]\ttrain-rmse:2.13751\tval-rmse:2.38667\ttrain-clip-rmse:1.67521\tval-clip-rmse:1.87026\n",
      "[10]\ttrain-rmse:2.08259\tval-rmse:2.34721\ttrain-clip-rmse:1.63746\tval-clip-rmse:1.8451\n",
      "[11]\ttrain-rmse:2.06102\tval-rmse:2.33409\ttrain-clip-rmse:1.62319\tval-clip-rmse:1.83835\n",
      "[12]\ttrain-rmse:2.04608\tval-rmse:2.33018\ttrain-clip-rmse:1.61172\tval-clip-rmse:1.83642\n",
      "[13]\ttrain-rmse:2.01677\tval-rmse:2.31526\ttrain-clip-rmse:1.59332\tval-clip-rmse:1.82895\n",
      "[14]\ttrain-rmse:1.99889\tval-rmse:2.30711\ttrain-clip-rmse:1.57993\tval-clip-rmse:1.82438\n",
      "[15]\ttrain-rmse:1.96886\tval-rmse:2.28679\ttrain-clip-rmse:1.55941\tval-clip-rmse:1.81209\n",
      "[16]\ttrain-rmse:1.95988\tval-rmse:2.28251\ttrain-clip-rmse:1.55339\tval-clip-rmse:1.81019\n",
      "[17]\ttrain-rmse:1.92605\tval-rmse:2.26155\ttrain-clip-rmse:1.53184\tval-clip-rmse:1.7987\n",
      "[18]\ttrain-rmse:1.87888\tval-rmse:2.22933\ttrain-clip-rmse:1.49762\tval-clip-rmse:1.77486\n",
      "[19]\ttrain-rmse:1.85409\tval-rmse:2.21172\ttrain-clip-rmse:1.48138\tval-clip-rmse:1.76465\n",
      "[20]\ttrain-rmse:1.84386\tval-rmse:2.20869\ttrain-clip-rmse:1.47329\tval-clip-rmse:1.76346\n",
      "[21]\ttrain-rmse:1.83074\tval-rmse:2.20369\ttrain-clip-rmse:1.46439\tval-clip-rmse:1.76083\n",
      "[22]\ttrain-rmse:1.8175\tval-rmse:2.19961\ttrain-clip-rmse:1.45524\tval-clip-rmse:1.75912\n",
      "[23]\ttrain-rmse:1.80884\tval-rmse:2.19662\ttrain-clip-rmse:1.44775\tval-clip-rmse:1.7571\n",
      "[24]\ttrain-rmse:1.80692\tval-rmse:2.19589\ttrain-clip-rmse:1.44596\tval-clip-rmse:1.75654\n",
      "[25]\ttrain-rmse:1.78849\tval-rmse:2.18404\ttrain-clip-rmse:1.43276\tval-clip-rmse:1.7494\n",
      "[26]\ttrain-rmse:1.77868\tval-rmse:2.18018\ttrain-clip-rmse:1.42403\tval-clip-rmse:1.74648\n",
      "[27]\ttrain-rmse:1.76909\tval-rmse:2.17726\ttrain-clip-rmse:1.41527\tval-clip-rmse:1.74494\n",
      "[28]\ttrain-rmse:1.7649\tval-rmse:2.17584\ttrain-clip-rmse:1.41139\tval-clip-rmse:1.74357\n",
      "[29]\ttrain-rmse:1.7565\tval-rmse:2.17243\ttrain-clip-rmse:1.40515\tval-clip-rmse:1.74177\n",
      "[30]\ttrain-rmse:1.75435\tval-rmse:2.17236\ttrain-clip-rmse:1.40298\tval-clip-rmse:1.74161\n",
      "[31]\ttrain-rmse:1.74836\tval-rmse:2.17058\ttrain-clip-rmse:1.39858\tval-clip-rmse:1.74093\n",
      "[32]\ttrain-rmse:1.72172\tval-rmse:2.15329\ttrain-clip-rmse:1.37845\tval-clip-rmse:1.72861\n",
      "[33]\ttrain-rmse:1.68136\tval-rmse:2.12566\ttrain-clip-rmse:1.35291\tval-clip-rmse:1.71313\n",
      "[34]\ttrain-rmse:1.67251\tval-rmse:2.12358\ttrain-clip-rmse:1.346\tval-clip-rmse:1.71168\n",
      "[35]\ttrain-rmse:1.66827\tval-rmse:2.12309\ttrain-clip-rmse:1.34187\tval-clip-rmse:1.71169\n",
      "[36]\ttrain-rmse:1.66062\tval-rmse:2.12239\ttrain-clip-rmse:1.33532\tval-clip-rmse:1.71151\n",
      "[37]\ttrain-rmse:1.65861\tval-rmse:2.12245\ttrain-clip-rmse:1.33355\tval-clip-rmse:1.71158\n",
      "[38]\ttrain-rmse:1.65637\tval-rmse:2.12244\ttrain-clip-rmse:1.33134\tval-clip-rmse:1.71147\n",
      "[39]\ttrain-rmse:1.65087\tval-rmse:2.12011\ttrain-clip-rmse:1.32745\tval-clip-rmse:1.71091\n",
      "[40]\ttrain-rmse:1.64111\tval-rmse:2.11549\ttrain-clip-rmse:1.31964\tval-clip-rmse:1.70805\n",
      "[41]\ttrain-rmse:1.61042\tval-rmse:2.0968\ttrain-clip-rmse:1.30019\tval-clip-rmse:1.69728\n",
      "[42]\ttrain-rmse:1.60728\tval-rmse:2.09637\ttrain-clip-rmse:1.2971\tval-clip-rmse:1.69706\n",
      "[43]\ttrain-rmse:1.60165\tval-rmse:2.09374\ttrain-clip-rmse:1.29179\tval-clip-rmse:1.69447\n",
      "[44]\ttrain-rmse:1.59456\tval-rmse:2.08969\ttrain-clip-rmse:1.28724\tval-clip-rmse:1.69249\n",
      "[45]\ttrain-rmse:1.58721\tval-rmse:2.08824\ttrain-clip-rmse:1.28131\tval-clip-rmse:1.69199\n",
      "[46]\ttrain-rmse:1.58455\tval-rmse:2.08776\ttrain-clip-rmse:1.27865\tval-clip-rmse:1.69176\n",
      "[47]\ttrain-rmse:1.58219\tval-rmse:2.08718\ttrain-clip-rmse:1.27635\tval-clip-rmse:1.69138\n",
      "[48]\ttrain-rmse:1.57716\tval-rmse:2.0862\ttrain-clip-rmse:1.27235\tval-clip-rmse:1.69097\n",
      "[49]\ttrain-rmse:1.5737\tval-rmse:2.08543\ttrain-clip-rmse:1.26899\tval-clip-rmse:1.69038\n",
      "Repeat 0, split 0, val score = 1.690, running time = 7.194 min.\n",
      "[0]\ttrain-rmse:3.16561\tval-rmse:3.20554\ttrain-clip-rmse:2.47507\tval-clip-rmse:2.51226\n",
      "[1]\ttrain-rmse:2.78525\tval-rmse:2.86645\ttrain-clip-rmse:2.14289\tval-clip-rmse:2.21598\n",
      "[2]\ttrain-rmse:2.54255\tval-rmse:2.66267\ttrain-clip-rmse:1.95454\tval-clip-rmse:2.05723\n",
      "[3]\ttrain-rmse:2.38863\tval-rmse:2.54277\ttrain-clip-rmse:1.8448\tval-clip-rmse:1.97422\n",
      "[4]\ttrain-rmse:2.29718\tval-rmse:2.47735\ttrain-clip-rmse:1.78388\tval-clip-rmse:1.93152\n",
      "[5]\ttrain-rmse:2.24052\tval-rmse:2.4396\ttrain-clip-rmse:1.7475\tval-clip-rmse:1.90836\n",
      "[6]\ttrain-rmse:2.17969\tval-rmse:2.40194\ttrain-clip-rmse:1.70941\tval-clip-rmse:1.88663\n",
      "[7]\ttrain-rmse:2.12237\tval-rmse:2.36403\ttrain-clip-rmse:1.67055\tval-clip-rmse:1.8626\n",
      "[8]\ttrain-rmse:2.09013\tval-rmse:2.34653\ttrain-clip-rmse:1.64887\tval-clip-rmse:1.85243\n",
      "[9]\ttrain-rmse:2.05172\tval-rmse:2.32055\ttrain-clip-rmse:1.6256\tval-clip-rmse:1.83867\n",
      "[10]\ttrain-rmse:2.02357\tval-rmse:2.30568\ttrain-clip-rmse:1.60586\tval-clip-rmse:1.83008\n",
      "[11]\ttrain-rmse:1.99145\tval-rmse:2.28225\ttrain-clip-rmse:1.58505\tval-clip-rmse:1.81562\n",
      "[12]\ttrain-rmse:1.98015\tval-rmse:2.27628\ttrain-clip-rmse:1.57679\tval-clip-rmse:1.81234\n",
      "[13]\ttrain-rmse:1.97105\tval-rmse:2.27168\ttrain-clip-rmse:1.5703\tval-clip-rmse:1.80974\n",
      "[14]\ttrain-rmse:1.91093\tval-rmse:2.23188\ttrain-clip-rmse:1.52517\tval-clip-rmse:1.78098\n",
      "[15]\ttrain-rmse:1.87792\tval-rmse:2.20974\ttrain-clip-rmse:1.50324\tval-clip-rmse:1.76717\n",
      "[16]\ttrain-rmse:1.86277\tval-rmse:2.20323\ttrain-clip-rmse:1.49278\tval-clip-rmse:1.76402\n",
      "[17]\ttrain-rmse:1.85086\tval-rmse:2.19936\ttrain-clip-rmse:1.48298\tval-clip-rmse:1.76168\n",
      "[18]\ttrain-rmse:1.83238\tval-rmse:2.18815\ttrain-clip-rmse:1.47064\tval-clip-rmse:1.7566\n",
      "[19]\ttrain-rmse:1.82961\tval-rmse:2.18667\ttrain-clip-rmse:1.468\tval-clip-rmse:1.75554\n",
      "[20]\ttrain-rmse:1.81982\tval-rmse:2.18407\ttrain-clip-rmse:1.46074\tval-clip-rmse:1.75464\n",
      "[21]\ttrain-rmse:1.80803\tval-rmse:2.17655\ttrain-clip-rmse:1.45122\tval-clip-rmse:1.74907\n",
      "[22]\ttrain-rmse:1.79876\tval-rmse:2.17315\ttrain-clip-rmse:1.44301\tval-clip-rmse:1.74646\n",
      "[23]\ttrain-rmse:1.77872\tval-rmse:2.16024\ttrain-clip-rmse:1.42719\tval-clip-rmse:1.73809\n",
      "[24]\ttrain-rmse:1.7623\tval-rmse:2.14958\ttrain-clip-rmse:1.41481\tval-clip-rmse:1.73103\n",
      "[25]\ttrain-rmse:1.7574\tval-rmse:2.14916\ttrain-clip-rmse:1.40977\tval-clip-rmse:1.7308\n",
      "[26]\ttrain-rmse:1.7385\tval-rmse:2.13558\ttrain-clip-rmse:1.39848\tval-clip-rmse:1.72348\n",
      "[27]\ttrain-rmse:1.73382\tval-rmse:2.13381\ttrain-clip-rmse:1.39447\tval-clip-rmse:1.7222\n",
      "[28]\ttrain-rmse:1.72827\tval-rmse:2.13277\ttrain-clip-rmse:1.39038\tval-clip-rmse:1.72191\n",
      "[29]\ttrain-rmse:1.72169\tval-rmse:2.13111\ttrain-clip-rmse:1.38428\tval-clip-rmse:1.72045\n",
      "[30]\ttrain-rmse:1.71695\tval-rmse:2.13032\ttrain-clip-rmse:1.37951\tval-clip-rmse:1.71984\n",
      "[31]\ttrain-rmse:1.6987\tval-rmse:2.11813\ttrain-clip-rmse:1.37034\tval-clip-rmse:1.71361\n",
      "[32]\ttrain-rmse:1.68759\tval-rmse:2.11593\ttrain-clip-rmse:1.36224\tval-clip-rmse:1.71307\n",
      "[33]\ttrain-rmse:1.67805\tval-rmse:2.11062\ttrain-clip-rmse:1.35448\tval-clip-rmse:1.70917\n",
      "[34]\ttrain-rmse:1.67533\tval-rmse:2.11027\ttrain-clip-rmse:1.35248\tval-clip-rmse:1.70913\n",
      "[35]\ttrain-rmse:1.67308\tval-rmse:2.10996\ttrain-clip-rmse:1.35025\tval-clip-rmse:1.70897\n",
      "[36]\ttrain-rmse:1.66196\tval-rmse:2.10553\ttrain-clip-rmse:1.34051\tval-clip-rmse:1.70559\n",
      "[37]\ttrain-rmse:1.6599\tval-rmse:2.10532\ttrain-clip-rmse:1.33852\tval-clip-rmse:1.70538\n",
      "[38]\ttrain-rmse:1.6569\tval-rmse:2.10428\ttrain-clip-rmse:1.33694\tval-clip-rmse:1.70518\n",
      "[39]\ttrain-rmse:1.64383\tval-rmse:2.09592\ttrain-clip-rmse:1.3297\tval-clip-rmse:1.70146\n",
      "[40]\ttrain-rmse:1.63525\tval-rmse:2.09419\ttrain-clip-rmse:1.32358\tval-clip-rmse:1.70079\n",
      "[41]\ttrain-rmse:1.63338\tval-rmse:2.09393\ttrain-clip-rmse:1.32173\tval-clip-rmse:1.70062\n",
      "[42]\ttrain-rmse:1.62714\tval-rmse:2.09123\ttrain-clip-rmse:1.31577\tval-clip-rmse:1.69822\n",
      "[43]\ttrain-rmse:1.6236\tval-rmse:2.09034\ttrain-clip-rmse:1.31269\tval-clip-rmse:1.69762\n",
      "[44]\ttrain-rmse:1.62158\tval-rmse:2.09007\ttrain-clip-rmse:1.31058\tval-clip-rmse:1.69746\n"
     ]
    },
    {
     "name": "stdout",
     "output_type": "stream",
     "text": [
      "[45]\ttrain-rmse:1.61427\tval-rmse:2.08687\ttrain-clip-rmse:1.30395\tval-clip-rmse:1.69478\n",
      "[46]\ttrain-rmse:1.60872\tval-rmse:2.08412\ttrain-clip-rmse:1.29902\tval-clip-rmse:1.69243\n",
      "[47]\ttrain-rmse:1.60526\tval-rmse:2.08362\ttrain-clip-rmse:1.29576\tval-clip-rmse:1.69217\n",
      "[48]\ttrain-rmse:1.60007\tval-rmse:2.08083\ttrain-clip-rmse:1.29155\tval-clip-rmse:1.69009\n",
      "[49]\ttrain-rmse:1.58921\tval-rmse:2.07335\ttrain-clip-rmse:1.28523\tval-clip-rmse:1.6869\n",
      "Repeat 0, split 1, val score = 1.687, running time = 7.051 min.\n",
      "[0]\ttrain-rmse:3.14513\tval-rmse:3.20367\ttrain-clip-rmse:2.45711\tval-clip-rmse:2.51016\n",
      "[1]\ttrain-rmse:2.81037\tval-rmse:2.91197\ttrain-clip-rmse:2.15723\tval-clip-rmse:2.24659\n",
      "[2]\ttrain-rmse:2.61453\tval-rmse:2.75242\ttrain-clip-rmse:2.00148\tval-clip-rmse:2.11813\n",
      "[3]\ttrain-rmse:2.46957\tval-rmse:2.64097\ttrain-clip-rmse:1.89364\tval-clip-rmse:2.03534\n",
      "[4]\ttrain-rmse:2.35481\tval-rmse:2.55712\ttrain-clip-rmse:1.81617\tval-clip-rmse:1.9792\n",
      "[5]\ttrain-rmse:2.29469\tval-rmse:2.51811\ttrain-clip-rmse:1.77659\tval-clip-rmse:1.95545\n",
      "[6]\ttrain-rmse:2.23703\tval-rmse:2.47947\ttrain-clip-rmse:1.74079\tval-clip-rmse:1.93269\n",
      "[7]\ttrain-rmse:2.19932\tval-rmse:2.45749\ttrain-clip-rmse:1.71732\tval-clip-rmse:1.92177\n",
      "[8]\ttrain-rmse:2.17516\tval-rmse:2.44676\ttrain-clip-rmse:1.70033\tval-clip-rmse:1.91551\n",
      "[9]\ttrain-rmse:2.05166\tval-rmse:2.35197\ttrain-clip-rmse:1.61325\tval-clip-rmse:1.84928\n",
      "[10]\ttrain-rmse:2.01864\tval-rmse:2.33217\ttrain-clip-rmse:1.5943\tval-clip-rmse:1.84024\n",
      "[11]\ttrain-rmse:2.00054\tval-rmse:2.32252\ttrain-clip-rmse:1.58321\tval-clip-rmse:1.8361\n",
      "[12]\ttrain-rmse:1.98458\tval-rmse:2.31541\ttrain-clip-rmse:1.57213\tval-clip-rmse:1.83204\n",
      "[13]\ttrain-rmse:1.9751\tval-rmse:2.31169\ttrain-clip-rmse:1.56572\tval-clip-rmse:1.83007\n",
      "[14]\ttrain-rmse:1.91797\tval-rmse:2.27066\ttrain-clip-rmse:1.52785\tval-clip-rmse:1.80403\n",
      "[15]\ttrain-rmse:1.90188\tval-rmse:2.26258\ttrain-clip-rmse:1.51625\tval-clip-rmse:1.79937\n",
      "[16]\ttrain-rmse:1.88153\tval-rmse:2.24916\ttrain-clip-rmse:1.50345\tval-clip-rmse:1.79161\n",
      "[17]\ttrain-rmse:1.87776\tval-rmse:2.24815\ttrain-clip-rmse:1.49976\tval-clip-rmse:1.79088\n",
      "[18]\ttrain-rmse:1.86403\tval-rmse:2.24159\ttrain-clip-rmse:1.4902\tval-clip-rmse:1.78738\n",
      "[19]\ttrain-rmse:1.79208\tval-rmse:2.18778\ttrain-clip-rmse:1.44093\tval-clip-rmse:1.75347\n",
      "[20]\ttrain-rmse:1.78143\tval-rmse:2.18364\ttrain-clip-rmse:1.43331\tval-clip-rmse:1.75103\n",
      "[21]\ttrain-rmse:1.75095\tval-rmse:2.16071\ttrain-clip-rmse:1.41338\tval-clip-rmse:1.73762\n",
      "[22]\ttrain-rmse:1.73632\tval-rmse:2.15507\ttrain-clip-rmse:1.40281\tval-clip-rmse:1.73423\n",
      "[23]\ttrain-rmse:1.72197\tval-rmse:2.148\ttrain-clip-rmse:1.39265\tval-clip-rmse:1.73057\n",
      "[24]\ttrain-rmse:1.70581\tval-rmse:2.1396\ttrain-clip-rmse:1.38385\tval-clip-rmse:1.72697\n",
      "[25]\ttrain-rmse:1.69766\tval-rmse:2.13733\ttrain-clip-rmse:1.3769\tval-clip-rmse:1.72548\n",
      "[26]\ttrain-rmse:1.68895\tval-rmse:2.13505\ttrain-clip-rmse:1.37011\tval-clip-rmse:1.72452\n",
      "[27]\ttrain-rmse:1.68274\tval-rmse:2.13418\ttrain-clip-rmse:1.36411\tval-clip-rmse:1.724\n",
      "[28]\ttrain-rmse:1.67867\tval-rmse:2.13332\ttrain-clip-rmse:1.36018\tval-clip-rmse:1.72347\n",
      "[29]\ttrain-rmse:1.67293\tval-rmse:2.13008\ttrain-clip-rmse:1.35595\tval-clip-rmse:1.72191\n",
      "[30]\ttrain-rmse:1.66878\tval-rmse:2.12876\ttrain-clip-rmse:1.35253\tval-clip-rmse:1.72133\n",
      "[31]\ttrain-rmse:1.66456\tval-rmse:2.12779\ttrain-clip-rmse:1.34887\tval-clip-rmse:1.72089\n",
      "[32]\ttrain-rmse:1.66127\tval-rmse:2.1275\ttrain-clip-rmse:1.34543\tval-clip-rmse:1.72063\n",
      "[33]\ttrain-rmse:1.6559\tval-rmse:2.12614\ttrain-clip-rmse:1.34078\tval-clip-rmse:1.71954\n",
      "[34]\ttrain-rmse:1.64025\tval-rmse:2.11875\ttrain-clip-rmse:1.32895\tval-clip-rmse:1.71431\n",
      "[35]\ttrain-rmse:1.62575\tval-rmse:2.11579\ttrain-clip-rmse:1.31922\tval-clip-rmse:1.71337\n",
      "[36]\ttrain-rmse:1.6232\tval-rmse:2.11567\ttrain-clip-rmse:1.31675\tval-clip-rmse:1.7133\n",
      "[37]\ttrain-rmse:1.61758\tval-rmse:2.11554\ttrain-clip-rmse:1.31156\tval-clip-rmse:1.71324\n",
      "[38]\ttrain-rmse:1.60962\tval-rmse:2.11193\ttrain-clip-rmse:1.30503\tval-clip-rmse:1.71019\n",
      "[39]\ttrain-rmse:1.60876\tval-rmse:2.11152\ttrain-clip-rmse:1.30418\tval-clip-rmse:1.70984\n",
      "[40]\ttrain-rmse:1.59566\tval-rmse:2.10802\ttrain-clip-rmse:1.29447\tval-clip-rmse:1.70805\n",
      "[41]\ttrain-rmse:1.59177\tval-rmse:2.10631\ttrain-clip-rmse:1.29142\tval-clip-rmse:1.70672\n",
      "[42]\ttrain-rmse:1.59026\tval-rmse:2.10621\ttrain-clip-rmse:1.28986\tval-clip-rmse:1.70672\n",
      "[43]\ttrain-rmse:1.58661\tval-rmse:2.10566\ttrain-clip-rmse:1.2862\tval-clip-rmse:1.7064\n",
      "[44]\ttrain-rmse:1.58448\tval-rmse:2.10548\ttrain-clip-rmse:1.28402\tval-clip-rmse:1.70636\n",
      "[45]\ttrain-rmse:1.58156\tval-rmse:2.10465\ttrain-clip-rmse:1.28191\tval-clip-rmse:1.70579\n",
      "[46]\ttrain-rmse:1.57643\tval-rmse:2.10046\ttrain-clip-rmse:1.2774\tval-clip-rmse:1.703\n",
      "[47]\ttrain-rmse:1.571\tval-rmse:2.09836\ttrain-clip-rmse:1.27309\tval-clip-rmse:1.70196\n",
      "[48]\ttrain-rmse:1.56838\tval-rmse:2.09703\ttrain-clip-rmse:1.27149\tval-clip-rmse:1.70145\n",
      "[49]\ttrain-rmse:1.56539\tval-rmse:2.09665\ttrain-clip-rmse:1.26834\tval-clip-rmse:1.70133\n",
      "Repeat 0, split 2, val score = 1.701, running time = 6.956 min.\n",
      "[0]\ttrain-rmse:3.15286\tval-rmse:3.1886\ttrain-clip-rmse:2.46398\tval-clip-rmse:2.49601\n",
      "[1]\ttrain-rmse:2.80714\tval-rmse:2.88467\ttrain-clip-rmse:2.15782\tval-clip-rmse:2.22566\n",
      "[2]\ttrain-rmse:2.5721\tval-rmse:2.68906\ttrain-clip-rmse:1.97193\tval-clip-rmse:2.0707\n",
      "[3]\ttrain-rmse:2.44256\tval-rmse:2.58469\ttrain-clip-rmse:1.87626\tval-clip-rmse:1.99321\n",
      "[4]\ttrain-rmse:2.36526\tval-rmse:2.52956\ttrain-clip-rmse:1.82337\tval-clip-rmse:1.95514\n",
      "[5]\ttrain-rmse:2.30491\tval-rmse:2.49106\ttrain-clip-rmse:1.78486\tval-clip-rmse:1.93207\n",
      "[6]\ttrain-rmse:2.21432\tval-rmse:2.42367\ttrain-clip-rmse:1.72533\tval-clip-rmse:1.89106\n",
      "[7]\ttrain-rmse:2.18573\tval-rmse:2.4085\ttrain-clip-rmse:1.70973\tval-clip-rmse:1.88501\n",
      "[8]\ttrain-rmse:2.15335\tval-rmse:2.3916\ttrain-clip-rmse:1.68801\tval-clip-rmse:1.87485\n",
      "[9]\ttrain-rmse:2.09859\tval-rmse:2.35507\ttrain-clip-rmse:1.65217\tval-clip-rmse:1.85369\n",
      "[10]\ttrain-rmse:2.07333\tval-rmse:2.34024\ttrain-clip-rmse:1.63491\tval-clip-rmse:1.84545\n",
      "[11]\ttrain-rmse:2.01417\tval-rmse:2.29818\ttrain-clip-rmse:1.5935\tval-clip-rmse:1.81755\n",
      "[12]\ttrain-rmse:1.99526\tval-rmse:2.29042\ttrain-clip-rmse:1.58053\tval-clip-rmse:1.81363\n",
      "[13]\ttrain-rmse:1.97995\tval-rmse:2.28401\ttrain-clip-rmse:1.57116\tval-clip-rmse:1.81077\n",
      "[14]\ttrain-rmse:1.97016\tval-rmse:2.28048\ttrain-clip-rmse:1.5649\tval-clip-rmse:1.80952\n",
      "[15]\ttrain-rmse:1.95876\tval-rmse:2.27541\ttrain-clip-rmse:1.55477\tval-clip-rmse:1.80572\n",
      "[16]\ttrain-rmse:1.93488\tval-rmse:2.25815\ttrain-clip-rmse:1.54038\tval-clip-rmse:1.79753\n",
      "[17]\ttrain-rmse:1.92602\tval-rmse:2.2548\ttrain-clip-rmse:1.53291\tval-clip-rmse:1.7951\n",
      "[18]\ttrain-rmse:1.91649\tval-rmse:2.2506\ttrain-clip-rmse:1.52576\tval-clip-rmse:1.79259\n",
      "[19]\ttrain-rmse:1.89932\tval-rmse:2.23905\ttrain-clip-rmse:1.51418\tval-clip-rmse:1.78575\n",
      "[20]\ttrain-rmse:1.88304\tval-rmse:2.22999\ttrain-clip-rmse:1.50334\tval-clip-rmse:1.78025\n",
      "[21]\ttrain-rmse:1.85579\tval-rmse:2.212\ttrain-clip-rmse:1.48418\tval-clip-rmse:1.76866\n",
      "[22]\ttrain-rmse:1.83884\tval-rmse:2.20147\ttrain-clip-rmse:1.47258\tval-clip-rmse:1.763\n",
      "[23]\ttrain-rmse:1.8331\tval-rmse:2.1995\ttrain-clip-rmse:1.46724\tval-clip-rmse:1.76123\n",
      "[24]\ttrain-rmse:1.82042\tval-rmse:2.19126\ttrain-clip-rmse:1.45871\tval-clip-rmse:1.7563\n",
      "[25]\ttrain-rmse:1.80469\tval-rmse:2.18385\ttrain-clip-rmse:1.4477\tval-clip-rmse:1.75272\n",
      "[26]\ttrain-rmse:1.79024\tval-rmse:2.17636\ttrain-clip-rmse:1.43826\tval-clip-rmse:1.74909\n",
      "[27]\ttrain-rmse:1.78418\tval-rmse:2.17417\ttrain-clip-rmse:1.43299\tval-clip-rmse:1.74796\n",
      "[28]\ttrain-rmse:1.75631\tval-rmse:2.15386\ttrain-clip-rmse:1.41312\tval-clip-rmse:1.73467\n",
      "[29]\ttrain-rmse:1.75016\tval-rmse:2.1524\ttrain-clip-rmse:1.40843\tval-clip-rmse:1.73426\n",
      "[30]\ttrain-rmse:1.73693\tval-rmse:2.14416\ttrain-clip-rmse:1.39714\tval-clip-rmse:1.7277\n",
      "[31]\ttrain-rmse:1.73066\tval-rmse:2.14179\ttrain-clip-rmse:1.39234\tval-clip-rmse:1.72733\n",
      "[32]\ttrain-rmse:1.72231\tval-rmse:2.14028\ttrain-clip-rmse:1.38564\tval-clip-rmse:1.72664\n",
      "[33]\ttrain-rmse:1.70751\tval-rmse:2.13198\ttrain-clip-rmse:1.37557\tval-clip-rmse:1.7222\n",
      "[34]\ttrain-rmse:1.69797\tval-rmse:2.12818\ttrain-clip-rmse:1.36942\tval-clip-rmse:1.7212\n",
      "[35]\ttrain-rmse:1.69084\tval-rmse:2.12716\ttrain-clip-rmse:1.36299\tval-clip-rmse:1.72084\n",
      "[36]\ttrain-rmse:1.68938\tval-rmse:2.12703\ttrain-clip-rmse:1.36149\tval-clip-rmse:1.72072\n",
      "[37]\ttrain-rmse:1.68582\tval-rmse:2.12664\ttrain-clip-rmse:1.35816\tval-clip-rmse:1.72027\n",
      "[38]\ttrain-rmse:1.68247\tval-rmse:2.126\ttrain-clip-rmse:1.35499\tval-clip-rmse:1.71998\n"
     ]
    },
    {
     "name": "stdout",
     "output_type": "stream",
     "text": [
      "[39]\ttrain-rmse:1.67878\tval-rmse:2.12507\ttrain-clip-rmse:1.35153\tval-clip-rmse:1.71946\n",
      "[40]\ttrain-rmse:1.67319\tval-rmse:2.12373\ttrain-clip-rmse:1.34621\tval-clip-rmse:1.71877\n",
      "[41]\ttrain-rmse:1.67029\tval-rmse:2.1232\ttrain-clip-rmse:1.34337\tval-clip-rmse:1.71853\n",
      "[42]\ttrain-rmse:1.66545\tval-rmse:2.12273\ttrain-clip-rmse:1.3391\tval-clip-rmse:1.71875\n",
      "[43]\ttrain-rmse:1.64955\tval-rmse:2.11336\ttrain-clip-rmse:1.32997\tval-clip-rmse:1.71361\n",
      "[44]\ttrain-rmse:1.64785\tval-rmse:2.11289\ttrain-clip-rmse:1.32829\tval-clip-rmse:1.71339\n",
      "[45]\ttrain-rmse:1.62947\tval-rmse:2.1032\ttrain-clip-rmse:1.31269\tval-clip-rmse:1.70535\n",
      "[46]\ttrain-rmse:1.62492\tval-rmse:2.10241\ttrain-clip-rmse:1.30852\tval-clip-rmse:1.70503\n",
      "[47]\ttrain-rmse:1.62314\tval-rmse:2.10241\ttrain-clip-rmse:1.30683\tval-clip-rmse:1.70519\n",
      "[48]\ttrain-rmse:1.62102\tval-rmse:2.10228\ttrain-clip-rmse:1.30445\tval-clip-rmse:1.70505\n",
      "[49]\ttrain-rmse:1.61914\tval-rmse:2.10205\ttrain-clip-rmse:1.30283\tval-clip-rmse:1.70499\n",
      "Repeat 0, split 3, val score = 1.705, running time = 7.551 min.\n",
      "[0]\ttrain-rmse:3.17688\tval-rmse:3.21083\ttrain-clip-rmse:2.48795\tval-clip-rmse:2.52116\n",
      "[1]\ttrain-rmse:2.83463\tval-rmse:2.91343\ttrain-clip-rmse:2.18636\tval-clip-rmse:2.25888\n",
      "[2]\ttrain-rmse:2.60204\tval-rmse:2.7168\ttrain-clip-rmse:2.004\tval-clip-rmse:2.10623\n",
      "[3]\ttrain-rmse:2.44722\tval-rmse:2.59558\ttrain-clip-rmse:1.88477\tval-clip-rmse:2.01332\n",
      "[4]\ttrain-rmse:2.34504\tval-rmse:2.52118\ttrain-clip-rmse:1.8121\tval-clip-rmse:1.96191\n",
      "[5]\ttrain-rmse:2.28001\tval-rmse:2.47869\ttrain-clip-rmse:1.76937\tval-clip-rmse:1.93606\n",
      "[6]\ttrain-rmse:2.22424\tval-rmse:2.44554\ttrain-clip-rmse:1.73453\tval-clip-rmse:1.91829\n",
      "[7]\ttrain-rmse:2.17902\tval-rmse:2.42155\ttrain-clip-rmse:1.70404\tval-clip-rmse:1.90349\n",
      "[8]\ttrain-rmse:2.14769\tval-rmse:2.4054\ttrain-clip-rmse:1.68375\tval-clip-rmse:1.89494\n",
      "[9]\ttrain-rmse:2.10696\tval-rmse:2.38072\ttrain-clip-rmse:1.6582\tval-clip-rmse:1.88258\n",
      "[10]\ttrain-rmse:2.08936\tval-rmse:2.37401\ttrain-clip-rmse:1.64473\tval-clip-rmse:1.87918\n",
      "[11]\ttrain-rmse:2.06485\tval-rmse:2.36256\ttrain-clip-rmse:1.62849\tval-clip-rmse:1.87271\n",
      "[12]\ttrain-rmse:2.04373\tval-rmse:2.34963\ttrain-clip-rmse:1.61565\tval-clip-rmse:1.8669\n",
      "[13]\ttrain-rmse:1.98437\tval-rmse:2.31226\ttrain-clip-rmse:1.57506\tval-clip-rmse:1.84182\n",
      "[14]\ttrain-rmse:1.97168\tval-rmse:2.30833\ttrain-clip-rmse:1.56385\tval-clip-rmse:1.83936\n",
      "[15]\ttrain-rmse:1.96029\tval-rmse:2.30401\ttrain-clip-rmse:1.55357\tval-clip-rmse:1.8361\n",
      "[16]\ttrain-rmse:1.95087\tval-rmse:2.30047\ttrain-clip-rmse:1.54684\tval-clip-rmse:1.8339\n",
      "[17]\ttrain-rmse:1.90664\tval-rmse:2.27044\ttrain-clip-rmse:1.51781\tval-clip-rmse:1.81492\n",
      "[18]\ttrain-rmse:1.89281\tval-rmse:2.26442\ttrain-clip-rmse:1.50779\tval-clip-rmse:1.81202\n",
      "[19]\ttrain-rmse:1.88628\tval-rmse:2.26305\ttrain-clip-rmse:1.50133\tval-clip-rmse:1.81113\n",
      "[20]\ttrain-rmse:1.8741\tval-rmse:2.25891\ttrain-clip-rmse:1.49221\tval-clip-rmse:1.80928\n",
      "[21]\ttrain-rmse:1.86509\tval-rmse:2.25495\ttrain-clip-rmse:1.48667\tval-clip-rmse:1.80792\n",
      "[22]\ttrain-rmse:1.8298\tval-rmse:2.22925\ttrain-clip-rmse:1.46219\tval-clip-rmse:1.78987\n",
      "[23]\ttrain-rmse:1.82593\tval-rmse:2.22891\ttrain-clip-rmse:1.45824\tval-clip-rmse:1.78965\n",
      "[24]\ttrain-rmse:1.81385\tval-rmse:2.22137\ttrain-clip-rmse:1.44734\tval-clip-rmse:1.78308\n",
      "[25]\ttrain-rmse:1.80921\tval-rmse:2.21961\ttrain-clip-rmse:1.44321\tval-clip-rmse:1.78193\n",
      "[26]\ttrain-rmse:1.78964\tval-rmse:2.208\ttrain-clip-rmse:1.43113\tval-clip-rmse:1.77531\n",
      "[27]\ttrain-rmse:1.76824\tval-rmse:2.19491\ttrain-clip-rmse:1.41804\tval-clip-rmse:1.76844\n",
      "[28]\ttrain-rmse:1.74359\tval-rmse:2.17483\ttrain-clip-rmse:1.40354\tval-clip-rmse:1.75601\n",
      "[29]\ttrain-rmse:1.73653\tval-rmse:2.17164\ttrain-clip-rmse:1.39754\tval-clip-rmse:1.75357\n",
      "[30]\ttrain-rmse:1.72625\tval-rmse:2.16897\ttrain-clip-rmse:1.3903\tval-clip-rmse:1.75262\n",
      "[31]\ttrain-rmse:1.7066\tval-rmse:2.15797\ttrain-clip-rmse:1.37556\tval-clip-rmse:1.74416\n",
      "[32]\ttrain-rmse:1.70481\tval-rmse:2.15736\ttrain-clip-rmse:1.37363\tval-clip-rmse:1.74372\n",
      "[33]\ttrain-rmse:1.69845\tval-rmse:2.15521\ttrain-clip-rmse:1.36848\tval-clip-rmse:1.74239\n",
      "[34]\ttrain-rmse:1.69436\tval-rmse:2.15495\ttrain-clip-rmse:1.36432\tval-clip-rmse:1.74223\n",
      "[35]\ttrain-rmse:1.6816\tval-rmse:2.1492\ttrain-clip-rmse:1.35653\tval-clip-rmse:1.73951\n",
      "[36]\ttrain-rmse:1.65835\tval-rmse:2.13334\ttrain-clip-rmse:1.34358\tval-clip-rmse:1.73222\n",
      "[37]\ttrain-rmse:1.64837\tval-rmse:2.12729\ttrain-clip-rmse:1.33705\tval-clip-rmse:1.72886\n",
      "[38]\ttrain-rmse:1.63675\tval-rmse:2.11936\ttrain-clip-rmse:1.32847\tval-clip-rmse:1.72288\n",
      "[39]\ttrain-rmse:1.63231\tval-rmse:2.11805\ttrain-clip-rmse:1.32435\tval-clip-rmse:1.72224\n",
      "[40]\ttrain-rmse:1.62316\tval-rmse:2.11628\ttrain-clip-rmse:1.31752\tval-clip-rmse:1.72153\n",
      "[41]\ttrain-rmse:1.62016\tval-rmse:2.11522\ttrain-clip-rmse:1.31464\tval-clip-rmse:1.72077\n",
      "[42]\ttrain-rmse:1.59519\tval-rmse:2.10335\ttrain-clip-rmse:1.29685\tval-clip-rmse:1.71271\n",
      "[43]\ttrain-rmse:1.58412\tval-rmse:2.09899\ttrain-clip-rmse:1.28843\tval-clip-rmse:1.7095\n",
      "[44]\ttrain-rmse:1.57738\tval-rmse:2.09617\ttrain-clip-rmse:1.28459\tval-clip-rmse:1.708\n",
      "[45]\ttrain-rmse:1.57406\tval-rmse:2.09594\ttrain-clip-rmse:1.2812\tval-clip-rmse:1.70774\n",
      "[46]\ttrain-rmse:1.56708\tval-rmse:2.09427\ttrain-clip-rmse:1.27656\tval-clip-rmse:1.70704\n",
      "[47]\ttrain-rmse:1.56194\tval-rmse:2.09298\ttrain-clip-rmse:1.27274\tval-clip-rmse:1.70686\n",
      "[48]\ttrain-rmse:1.55271\tval-rmse:2.08897\ttrain-clip-rmse:1.2667\tval-clip-rmse:1.70489\n",
      "[49]\ttrain-rmse:1.551\tval-rmse:2.0886\ttrain-clip-rmse:1.26524\tval-clip-rmse:1.70459\n",
      "Repeat 0, split 4, val score = 1.705, running time = 7.715 min.\n",
      "Val mean = 1.698, std = 0.008\n"
     ]
    }
   ],
   "source": [
    "param = {'max_depth':14, \n",
    "         'subsample':0.9,\n",
    "         'min_child_weight':3,\n",
    "         'eta':0.3, \n",
    "         'lambda':2,\n",
    "         'colsample_bytree':0.6,\n",
    "         'seed':1,\n",
    "         'silent':1,\n",
    "         'maximize': False,\n",
    "         'nthread':8}\n",
    "\n",
    "n_tree = 50\n",
    "verbose = True\n",
    "\n",
    "n_split = 5\n",
    "n_repetition = 1\n",
    "\n",
    "df, clf, running_time = cv(x_train, y_train, param, n_repetition, n_split, n_tree, verbose, 42)"
   ]
  },
  {
   "cell_type": "code",
   "execution_count": 35,
   "metadata": {},
   "outputs": [],
   "source": [
    "a = {k: clf[0, 0].get_score(importance_type='gain') for k in clf.keys()}"
   ]
  },
  {
   "cell_type": "code",
   "execution_count": 37,
   "metadata": {},
   "outputs": [],
   "source": [
    "b = pd.DataFrame(a)"
   ]
  },
  {
   "cell_type": "code",
   "execution_count": 39,
   "metadata": {},
   "outputs": [],
   "source": [
    "b.columns = list(range(n_split))"
   ]
  },
  {
   "cell_type": "code",
   "execution_count": 43,
   "metadata": {},
   "outputs": [],
   "source": [
    "c = b.mean(axis=1).sort_values(ascending=False)"
   ]
  },
  {
   "cell_type": "code",
   "execution_count": 60,
   "metadata": {},
   "outputs": [],
   "source": [
    "d = c.head(50).index.tolist()\n",
    "e = []\n",
    "f = []\n",
    "for n in d:\n",
    "    if len(n.split('_'))>=2 and n.split('_')[-2] == 'lag':\n",
    "        e.append('_'.join(n.split('_')[:-2]))\n",
    "        \n",
    "e = set(e)"
   ]
  },
  {
   "cell_type": "code",
   "execution_count": 61,
   "metadata": {},
   "outputs": [
    {
     "data": {
      "text/plain": [
       "{'cnt_mean_cat1_cat2',\n",
       " 'cnt_mean_cat1_shop',\n",
       " 'cnt_mean_cat1_type',\n",
       " 'cnt_mean_cat2_type',\n",
       " 'cnt_mean_item_city',\n",
       " 'cnt_mean_item_type',\n",
       " 'cnt_sum_month',\n",
       " 'price_mean_cat1_cat2',\n",
       " 'price_mean_cat1_type',\n",
       " 'price_mean_cat2_type',\n",
       " 'price_mean_city_type',\n",
       " 'price_mean_item_city',\n",
       " 'price_mean_item_type',\n",
       " 'price_mean_month',\n",
       " 'price_std_month',\n",
       " 'rev_mean_cat1_cat2',\n",
       " 'rev_mean_cat1_city',\n",
       " 'rev_mean_cat1_type',\n",
       " 'rev_mean_cat2_type',\n",
       " 'rev_mean_city_type',\n",
       " 'rev_mean_item_city',\n",
       " 'rev_mean_item_type',\n",
       " 'shop_count_cat1_cat2',\n",
       " 'shop_count_cat1_type',\n",
       " 'shop_count_cat2_city',\n",
       " 'shop_count_item_city'}"
      ]
     },
     "execution_count": 61,
     "metadata": {},
     "output_type": "execute_result"
    }
   ],
   "source": [
    "e"
   ]
  }
 ],
 "metadata": {
  "kernelspec": {
   "display_name": "Python 3",
   "language": "python",
   "name": "python3"
  },
  "language_info": {
   "codemirror_mode": {
    "name": "ipython",
    "version": 3
   },
   "file_extension": ".py",
   "mimetype": "text/x-python",
   "name": "python",
   "nbconvert_exporter": "python",
   "pygments_lexer": "ipython3",
   "version": "3.6.6"
  }
 },
 "nbformat": 4,
 "nbformat_minor": 2
}
