{
 "cells": [
  {
   "cell_type": "code",
   "execution_count": 1,
   "metadata": {},
   "outputs": [],
   "source": [
    "import numpy as np\n",
    "import pandas as pd\n",
    "import matplotlib.pyplot as plt\n",
    "import os\n",
    "import gc\n",
    "import sys\n",
    "import time\n",
    "import gc\n",
    "import itertools\n",
    "import tqdm\n",
    "import time\n",
    "import copy\n",
    "\n",
    "import scipy.stats as ss\n",
    "from numba import jit\n",
    "\n",
    "if os.name=='nt':\n",
    "    try:\n",
    "        mingw_path = 'C:\\\\Program Files\\\\mingw-w64\\\\x86_64-8.1.0-posix-seh-rt_v6-rev0\\\\mingw64\\\\bin'\n",
    "        os.environ['PATH'] = mingw_path + ';' + os.environ['PATH']\n",
    "    except:\n",
    "        pass\n",
    "    \n",
    "import xgboost as xgb\n",
    "from sklearn.metrics import mean_squared_error \n",
    "from sklearn.preprocessing import LabelEncoder\n",
    "from sklearn.model_selection import StratifiedKFold\n",
    "\n",
    "%matplotlib inline"
   ]
  },
  {
   "cell_type": "markdown",
   "metadata": {},
   "source": [
    "### Helper Function"
   ]
  },
  {
   "cell_type": "code",
   "execution_count": 2,
   "metadata": {},
   "outputs": [],
   "source": [
    "def lag_features(df, lags, col):\n",
    "    '''create lag features of col'''\n",
    "    cols_idx = ['date_block_num', 'shop_id', 'item_id']\n",
    "    cols_f = ['date_block_num', 'shop_id', 'item_id', col]\n",
    "    tmp = df.loc[:, cols_f]\n",
    "    for i in lags:\n",
    "        shifted = tmp.copy()\n",
    "        shifted_cols = shifted.columns.tolist()\n",
    "        shifted_cols[-1] = col+'_lag_'+str(i)\n",
    "        shifted.columns = shifted_cols\n",
    "        shifted['date_block_num'] += i\n",
    "        df = pd.merge(df, shifted, on=cols_idx, how='left')\n",
    "    return df    "
   ]
  },
  {
   "cell_type": "code",
   "execution_count": 3,
   "metadata": {},
   "outputs": [],
   "source": [
    "def clip_rmse(preds, dtrain):\n",
    "    y_test = np.array(dtrain.get_label())\n",
    "    preds = np.array(preds)\n",
    "    y_test = np.maximum(np.minimum(y_test, 20), 0)\n",
    "    preds = np.maximum(np.minimum(preds, 20), 0)\n",
    "    #preds = np.array(list(map(lambda x: min(20, max(x, 0)), list(preds))))\n",
    "    #y_test = np.array(list(map(lambda x: min(20, max(x, 0)), list(y_test))))\n",
    "    rmse = np.sqrt(mean_squared_error(preds,y_test))\n",
    "    return 'clip-rmse', rmse"
   ]
  },
  {
   "cell_type": "code",
   "execution_count": 4,
   "metadata": {},
   "outputs": [],
   "source": [
    "def cv(x_train, y_train, param, n_repetition, n_split, n_tree, verbose, random_state):\n",
    "    '''Repeated CV'''\n",
    "    \n",
    "    cv_results = {}\n",
    "    clf = {}\n",
    "    running_time = {}\n",
    "\n",
    "    np.random.seed(random_state)\n",
    "\n",
    "    for m in range(n_repetition):\n",
    "        # Train and valuation sets split\n",
    "        skf = StratifiedKFold(n_splits=n_split, random_state=np.random.randint(10**6), shuffle=True)\n",
    "\n",
    "        for n, (train_index, val_index) in enumerate(skf.split(x_train, y_train)):\n",
    "\n",
    "            start_time = time.time()\n",
    "\n",
    "            # Construct DMatrix\n",
    "            dtrain = xgb.DMatrix(x_train.iloc[train_index], label=y_train.iloc[train_index])\n",
    "            dval = xgb.DMatrix(x_train.iloc[val_index], label=y_train.iloc[val_index])\n",
    "\n",
    "            # Placeholder for evals_results\n",
    "            cv_results[m, n] = {}\n",
    "\n",
    "            param['seed'] = np.random.randint(10**6)\n",
    "            clf[m, n] = xgb.train(param, dtrain,num_boost_round=n_tree, \n",
    "                                  evals=[(dtrain, 'train'), (dval, 'val')], \n",
    "                                  feval=clip_rmse, maximize=False, early_stopping_rounds=None, \n",
    "                                  evals_result=cv_results[m, n], verbose_eval=verbose)\n",
    "\n",
    "            running_time[m, n] = time.time() - start_time\n",
    "\n",
    "            print('Repeat {}, split {}, val score = {:.3f}, running time = {:.3f} min.'.format(m, n, \n",
    "                cv_results[m, n]['val']['clip-rmse'][-1], running_time[m, n]/60))\n",
    "\n",
    "    cv_results_final = {}\n",
    "    for m in range(n_repetition):\n",
    "        for n in range(n_split):\n",
    "            cv_results_final['train', m, n] = cv_results[m, n]['train']['clip-rmse']\n",
    "            cv_results_final['val', m, n] = cv_results[m, n]['val']['clip-rmse']\n",
    "\n",
    "    df = pd.DataFrame(cv_results_final)\n",
    "    df.index.name = 'iteration'\n",
    "    df.columns.names = ['dataset', 'repetition', 'cv_split']\n",
    "\n",
    "    print('Val mean = {:.3f}, std = {:.3f}'.format(df['val'].iloc[-1].mean(), df['val'].iloc[-1].std()))\n",
    "    \n",
    "    return df, clf, running_time"
   ]
  },
  {
   "cell_type": "code",
   "execution_count": 5,
   "metadata": {},
   "outputs": [],
   "source": [
    "def feature_combination(x, feature_list, function_dict, column_name, merge=False):\n",
    "    '''Combination of new features'''\n",
    "    tmp = x.groupby(feature_list).agg(function_dict)\n",
    "    tmp.columns = column_name\n",
    "    if merge:\n",
    "        x = x.merge(tmp, on=feature_list, how='left')\n",
    "        return x, tmp\n",
    "    else:\n",
    "        return tmp"
   ]
  },
  {
   "cell_type": "markdown",
   "metadata": {},
   "source": [
    "### Load Data"
   ]
  },
  {
   "cell_type": "code",
   "execution_count": 6,
   "metadata": {},
   "outputs": [],
   "source": [
    "# Load data\n",
    "train = pd.read_csv('all/sales_train.csv.gz')\n",
    "test = pd.read_csv('all/test.csv.gz')\n",
    "shop = pd.read_csv('all/shops-translated.csv')\n",
    "item = pd.read_csv('all/item_category.csv')\n",
    "\n",
    "test.set_index('ID', inplace=True)\n",
    "item.drop(['item_name_translated'], axis=1, inplace=True)\n",
    "shop.drop(['Name'], axis=1, inplace=True)\n",
    "\n",
    "le = LabelEncoder()\n",
    "item['item_cat1'] = le.fit_transform(item['item_cat1'].astype(str))\n",
    "item['item_cat2'] = le.fit_transform(item['item_cat2'].astype(str))\n",
    "shop['City'] = le.fit_transform(shop['City'])\n",
    "shop['Type'] = le.fit_transform(shop['Type'])"
   ]
  },
  {
   "cell_type": "code",
   "execution_count": 7,
   "metadata": {},
   "outputs": [],
   "source": [
    "# Add date_block_num to test \n",
    "test['date_block_num'] = 34\n",
    "test = test[['date_block_num', 'shop_id', 'item_id']]"
   ]
  },
  {
   "cell_type": "code",
   "execution_count": 8,
   "metadata": {},
   "outputs": [],
   "source": [
    "train = train.merge(shop, on='shop_id', how='left')\n",
    "train = train.merge(item, on='item_id', how='left')\n",
    "train['revenue'] = train.item_price * train.item_cnt_day"
   ]
  },
  {
   "cell_type": "markdown",
   "metadata": {},
   "source": [
    "### Experiments"
   ]
  },
  {
   "cell_type": "code",
   "execution_count": 9,
   "metadata": {},
   "outputs": [],
   "source": [
    "x = train.groupby(['date_block_num', \n",
    "                   'shop_id', \n",
    "                   'item_id']).agg({\n",
    "    'item_price':[np.mean, np.std], 'item_cnt_day': np.sum, 'revenue': np.sum})\n",
    "# x.columns = ['price_mean_month', 'cnt_sum_month']\n",
    "\n",
    "#cols = ['price_mean_month', 'price_median_month', 'price_std_month', 'cnt_sum_month']\n",
    "cols = ['price_mean_month', 'price_std_month', 'cnt_sum_month', 'rev_sum_month']\n",
    "x.columns = cols\n",
    "\n",
    "x.reset_index(inplace=True)\n",
    "x = pd.concat((x, test), sort=False, ignore_index=True)\n",
    "x.reset_index(drop=True, inplace=True)\n",
    "\n",
    "x = pd.merge(x, shop, on='shop_id', how='left')\n",
    "x = pd.merge(x, item, on='item_id', how='left')"
   ]
  },
  {
   "cell_type": "code",
   "execution_count": 10,
   "metadata": {},
   "outputs": [],
   "source": [
    "tmp = x.columns.tolist()\n",
    "tmp[3:3] = ['City', 'Type', 'item_cat1', 'item_cat2']\n",
    "tmp = tmp[:11]\n",
    "x = x[tmp]"
   ]
  },
  {
   "cell_type": "code",
   "execution_count": 11,
   "metadata": {},
   "outputs": [],
   "source": [
    "a = pd.read_csv('eda_11_5_feature_importance.csv', usecols=[0, 1])\n",
    "a.columns = ['feature_name', 'score']\n",
    "a.sort_values(by='score', ascending=False, inplace=True)"
   ]
  },
  {
   "cell_type": "markdown",
   "metadata": {},
   "source": [
    "#### Lag of `['price_mean_month', 'price_std_month', 'cnt_sum_month', 'rev_sum_month']`"
   ]
  },
  {
   "cell_type": "code",
   "execution_count": 12,
   "metadata": {},
   "outputs": [
    {
     "data": {
      "application/vnd.jupyter.widget-view+json": {
       "model_id": "1afbf31457c246fb9743c7248236adca",
       "version_major": 2,
       "version_minor": 0
      },
      "text/plain": [
       "HBox(children=(IntProgress(value=0, max=4), HTML(value='')))"
      ]
     },
     "metadata": {},
     "output_type": "display_data"
    },
    {
     "name": "stdout",
     "output_type": "stream",
     "text": [
      "\n"
     ]
    }
   ],
   "source": [
    "for c in tqdm.tqdm_notebook(cols):\n",
    "    x = lag_features(x, range(1, 7), c)"
   ]
  },
  {
   "cell_type": "markdown",
   "metadata": {},
   "source": [
    "#### Create combinations of features"
   ]
  },
  {
   "cell_type": "markdown",
   "metadata": {},
   "source": [
    "##### `(item_id, Type)`\n",
    "\n",
    "- count of shops with the same type and selling the same item, i.e., having the same `(item_id, Type)`\n",
    "- average sales count among these shops"
   ]
  },
  {
   "cell_type": "code",
   "execution_count": 13,
   "metadata": {},
   "outputs": [
    {
     "name": "stdout",
     "output_type": "stream",
     "text": [
      "43 rev_mean_item_type_lag_1 205.1912295064547\n"
     ]
    }
   ],
   "source": [
    "for i in range(len(a)):\n",
    "    if 'item_type' in a.iloc[i, 0]:\n",
    "        print(i, a.iloc[i, 0], a.iloc[i, 1])\n",
    "        break\n",
    "# (item, type) is not good"
   ]
  },
  {
   "cell_type": "code",
   "execution_count": 14,
   "metadata": {},
   "outputs": [],
   "source": [
    "feature_list = ['date_block_num', 'item_id', 'Type']\n",
    "function_list = {'rev_sum_month':np.mean}\n",
    "column_name = ['rev_mean_item_type']\n",
    "cols.extend(column_name)\n",
    "x, tmp = feature_combination(x, feature_list, function_list, column_name, merge=True)"
   ]
  },
  {
   "cell_type": "code",
   "execution_count": 15,
   "metadata": {},
   "outputs": [],
   "source": [
    "for c in column_name:\n",
    "    x = lag_features(x, [1], c)"
   ]
  },
  {
   "cell_type": "markdown",
   "metadata": {},
   "source": [
    "##### `(item_id, City)`"
   ]
  },
  {
   "cell_type": "code",
   "execution_count": 16,
   "metadata": {},
   "outputs": [
    {
     "name": "stdout",
     "output_type": "stream",
     "text": [
      "15 price_mean_item_city_lag_1 407.2581965373557\n",
      "17 cnt_mean_item_city_lag_1 402.0346140541581\n",
      "32 rev_mean_item_city_lag_1 247.7419952194\n",
      "42 cnt_mean_item_city_lag_2 207.6280725768317\n"
     ]
    }
   ],
   "source": [
    "for i in range(len(a)):\n",
    "    if 'item_city' in a.iloc[i, 0]:\n",
    "        print(i, a.iloc[i, 0], a.iloc[i, 1])\n",
    "    if i>50:\n",
    "        break\n",
    "# (item, city) keeps cnt_mean, rev_mean, price_mean, shop_count\n",
    "# lag = 1, 2, 5"
   ]
  },
  {
   "cell_type": "code",
   "execution_count": null,
   "metadata": {},
   "outputs": [],
   "source": [
    "feature_list = ['date_block_num', 'item_id', 'City']\n",
    "function_list = {'cnt_sum_month':'mean', 'price_mean_month':np.mean, 'rev_sum_month':np.mean}\n",
    "column_name = ['cnt_mean_item_city', 'price_mean_item_city', 'rev_mean_item_city']\n",
    "cols.extend(column_name)\n",
    "x, tmp = feature_combination(x, feature_list, function_list, column_name, merge=True)"
   ]
  },
  {
   "cell_type": "code",
   "execution_count": null,
   "metadata": {},
   "outputs": [],
   "source": [
    "for c in column_name:\n",
    "    x = lag_features(x, [1, 2], c)"
   ]
  },
  {
   "cell_type": "markdown",
   "metadata": {},
   "source": [
    "##### `(cat1, shop)`"
   ]
  },
  {
   "cell_type": "code",
   "execution_count": 19,
   "metadata": {},
   "outputs": [
    {
     "name": "stdout",
     "output_type": "stream",
     "text": [
      "29 cnt_mean_cat1_shop_lag_1 110.13483789434125\n"
     ]
    }
   ],
   "source": [
    "for i in range(len(a)):\n",
    "    if 'cat1_shop' in a.iloc[i, 0]:\n",
    "        print(i, a.iloc[i, 0], a.iloc[i, 1])\n",
    "    if i>50:\n",
    "        break\n",
    "# (cat1, shop) keeps cnt_mean\n",
    "# lag = 1"
   ]
  },
  {
   "cell_type": "code",
   "execution_count": 20,
   "metadata": {},
   "outputs": [],
   "source": [
    "feature_list = ['date_block_num', 'item_cat1', 'shop_id']\n",
    "function_list = {'cnt_sum_month':'mean'}\n",
    "column_name = ['cnt_mean_cat1_shop']\n",
    "cols.extend(column_name)\n",
    "x, tmp = feature_combination(x, feature_list, function_list, column_name, merge=True)"
   ]
  },
  {
   "cell_type": "code",
   "execution_count": 21,
   "metadata": {},
   "outputs": [],
   "source": [
    "for c in column_name:\n",
    "    x = lag_features(x, [1], c)"
   ]
  },
  {
   "cell_type": "markdown",
   "metadata": {},
   "source": [
    "##### `(cat1, City)`"
   ]
  },
  {
   "cell_type": "code",
   "execution_count": 22,
   "metadata": {},
   "outputs": [
    {
     "name": "stdout",
     "output_type": "stream",
     "text": [
      "41 rev_mean_cat1_city_lag_2 95.76644741700045\n"
     ]
    }
   ],
   "source": [
    "for i in range(len(a)):\n",
    "    if 'cat1_city' in a.iloc[i, 0]:\n",
    "        print(i, a.iloc[i, 0], a.iloc[i, 1])\n",
    "    if i>50:\n",
    "        break\n",
    "# (cat1, city) keeps rev_mean\n",
    "# lag = 2"
   ]
  },
  {
   "cell_type": "code",
   "execution_count": 23,
   "metadata": {},
   "outputs": [],
   "source": [
    "feature_list = ['date_block_num', 'item_cat1', 'City']\n",
    "function_list = {'rev_sum_month':np.mean}\n",
    "column_name = ['rev_mean_cat1_city']\n",
    "cols.extend(column_name)\n",
    "x, tmp = feature_combination(x, feature_list, function_list, column_name, merge=True)"
   ]
  },
  {
   "cell_type": "code",
   "execution_count": 24,
   "metadata": {},
   "outputs": [],
   "source": [
    "for c in column_name:\n",
    "    x = lag_features(x, [1, 2], c)"
   ]
  },
  {
   "cell_type": "markdown",
   "metadata": {},
   "source": [
    "##### `(cat1, Type)`"
   ]
  },
  {
   "cell_type": "code",
   "execution_count": 25,
   "metadata": {},
   "outputs": [
    {
     "name": "stdout",
     "output_type": "stream",
     "text": [
      "22 rev_mean_cat1_type_lag_1 131.5846505113204\n",
      "24 price_mean_cat1_type_lag_1 124.85491306936169\n",
      "38 cnt_mean_cat1_type_lag_1 96.7988390802824\n",
      "46 cnt_mean_cat1_type_lag_3 89.34707166635323\n",
      "49 shop_count_cat1_type_lag_2 87.08559819783136\n"
     ]
    }
   ],
   "source": [
    "for i in range(len(a)):\n",
    "    if 'cat1_type' in a.iloc[i, 0]:\n",
    "        print(i, a.iloc[i, 0], a.iloc[i, 1])\n",
    "    if i>50:\n",
    "        break\n",
    "# (cat1, type) keeps cnt_mean, rev_mean, price_mean, shop_count\n",
    "# lag = 1, 2, 3"
   ]
  },
  {
   "cell_type": "code",
   "execution_count": 26,
   "metadata": {},
   "outputs": [],
   "source": [
    "feature_list = ['date_block_num', 'item_cat1', 'Type']\n",
    "function_list = {'cnt_sum_month':['count', 'mean'], 'price_mean_month':np.mean, 'rev_sum_month':np.mean}\n",
    "column_name = ['shop_count_cat1_type', 'cnt_mean_cat1_type', 'price_mean_cat1_type', 'rev_mean_cat1_type']\n",
    "cols.extend(column_name)\n",
    "x, tmp = feature_combination(x, feature_list, function_list, column_name, merge=True)"
   ]
  },
  {
   "cell_type": "code",
   "execution_count": 27,
   "metadata": {},
   "outputs": [],
   "source": [
    "for c in column_name:\n",
    "    x = lag_features(x, [1, 2, 3], c)"
   ]
  },
  {
   "cell_type": "markdown",
   "metadata": {},
   "source": [
    "##### `(cat2, shop)`"
   ]
  },
  {
   "cell_type": "code",
   "execution_count": 28,
   "metadata": {},
   "outputs": [],
   "source": [
    "for i in range(len(a)):\n",
    "    if 'cat2_shop' in a.iloc[i, 0]:\n",
    "        print(i, a.iloc[i, 0], a.iloc[i, 1])\n",
    "    if i>50:\n",
    "        break\n",
    "# (cat2, shop) is not good"
   ]
  },
  {
   "cell_type": "code",
   "execution_count": 29,
   "metadata": {},
   "outputs": [],
   "source": [
    "#feature_list = ['date_block_num', 'item_cat2', 'shop_id']\n",
    "#function_list = {'cnt_sum_month':['count', 'mean'], 'price_mean_month':np.mean, 'rev_sum_month':np.mean}\n",
    "#column_name = ['shop_count_cat2_shop', 'cnt_mean_cat2_shop', 'price_mean_cat2_shop', 'rev_mean_cat2_shop']\n",
    "#cols.extend(column_name)\n",
    "#x, tmp = feature_combination(x, feature_list, function_list, column_name, merge=True)"
   ]
  },
  {
   "cell_type": "markdown",
   "metadata": {},
   "source": [
    "##### `(cat2, city)`"
   ]
  },
  {
   "cell_type": "code",
   "execution_count": 30,
   "metadata": {},
   "outputs": [
    {
     "name": "stdout",
     "output_type": "stream",
     "text": [
      "12 shop_count_cat2_city_lag_8 265.7488978910201\n"
     ]
    }
   ],
   "source": [
    "for i in range(len(a)):\n",
    "    if 'cat2_city' in a.iloc[i, 0]:\n",
    "        print(i, a.iloc[i, 0], a.iloc[i, 1])\n",
    "    if i>50:\n",
    "        break\n",
    "# (cat2, city) keeps shop_count\n",
    "# lag = 8"
   ]
  },
  {
   "cell_type": "code",
   "execution_count": 31,
   "metadata": {},
   "outputs": [],
   "source": [
    "#feature_list = ['date_block_num', 'item_cat2', 'City']\n",
    "#function_list = {'cnt_sum_month':'count'}\n",
    "#column_name = ['shop_count_cat2_city']\n",
    "#cols.extend(column_name)\n",
    "#x, tmp = feature_combination(x, feature_list, function_list, column_name, merge=True)"
   ]
  },
  {
   "cell_type": "code",
   "execution_count": 32,
   "metadata": {},
   "outputs": [],
   "source": [
    "#for c in column_name:\n",
    "#    x = lag_features(x, [1, 2, 3, 4, 5, 6, 7, 8], c)"
   ]
  },
  {
   "cell_type": "markdown",
   "metadata": {},
   "source": [
    "##### `(cat2, type)`"
   ]
  },
  {
   "cell_type": "code",
   "execution_count": 33,
   "metadata": {},
   "outputs": [
    {
     "name": "stdout",
     "output_type": "stream",
     "text": [
      "17 price_mean_cat2_type_lag_1 175.68014164708492\n",
      "18 rev_mean_cat2_type_lag_3 168.95614200670346\n",
      "32 rev_mean_cat2_type_lag_1 105.55702993735979\n",
      "35 cnt_mean_cat2_type_lag_4 102.2163544836913\n",
      "50 cnt_mean_cat2_type_lag_10 86.86068853386844\n",
      "51 cnt_mean_cat2_type_lag_2 86.70648924048363\n"
     ]
    }
   ],
   "source": [
    "for i in range(len(a)):\n",
    "    if 'cat2_type' in a.iloc[i, 0]:\n",
    "        print(i, a.iloc[i, 0], a.iloc[i, 1])\n",
    "    if i>50:\n",
    "        break"
   ]
  },
  {
   "cell_type": "code",
   "execution_count": 34,
   "metadata": {},
   "outputs": [],
   "source": [
    "feature_list = ['date_block_num', 'item_cat2', 'Type']\n",
    "function_list = {'cnt_sum_month':'mean', 'price_mean_month':np.mean, 'rev_sum_month':np.mean}\n",
    "column_name = ['cnt_mean_cat2_type', 'price_mean_cat2_type', 'rev_mean_cat2_type']\n",
    "cols.extend(column_name)\n",
    "x, tmp = feature_combination(x, feature_list, function_list, column_name, merge=True)"
   ]
  },
  {
   "cell_type": "code",
   "execution_count": 35,
   "metadata": {},
   "outputs": [],
   "source": [
    "for c in column_name:\n",
    "    x = lag_features(x, [1, 2, 3, 4], c)"
   ]
  },
  {
   "cell_type": "markdown",
   "metadata": {},
   "source": [
    "##### `(cat1, cat2)`"
   ]
  },
  {
   "cell_type": "code",
   "execution_count": 36,
   "metadata": {},
   "outputs": [
    {
     "name": "stdout",
     "output_type": "stream",
     "text": [
      "1 cnt_mean_cat1_cat2_lag_1 2225.2410129612413\n",
      "4 shop_count_cat1_cat2_lag_2 444.35774689280294\n",
      "5 cnt_mean_cat1_cat2_lag_2 369.8038679774178\n",
      "9 price_mean_cat1_cat2_lag_6 291.7342651120839\n",
      "14 price_mean_cat1_cat2_lag_1 255.2306733343093\n",
      "15 rev_mean_cat1_cat2_lag_1 243.23460913270299\n",
      "19 shop_count_cat1_cat2_lag_3 159.70604870486397\n",
      "30 rev_mean_cat1_cat2_lag_2 108.58749733343019\n",
      "33 shop_count_cat1_cat2_lag_1 102.61773123032671\n",
      "34 rev_mean_cat1_cat2_lag_10 102.2174760845\n",
      "39 price_mean_cat1_cat2_lag_2 96.01661601979878\n",
      "42 shop_count_cat1_cat2_lag_5 95.44898210324594\n"
     ]
    }
   ],
   "source": [
    "for i in range(len(a)):\n",
    "    if 'cat1_cat2' in a.iloc[i, 0]:\n",
    "        print(i, a.iloc[i, 0], a.iloc[i, 1])\n",
    "    if i>50:\n",
    "        break"
   ]
  },
  {
   "cell_type": "code",
   "execution_count": 37,
   "metadata": {},
   "outputs": [],
   "source": [
    "feature_list = ['date_block_num', 'item_cat1', 'item_cat2']\n",
    "function_list = {'cnt_sum_month':['count', 'mean'], 'price_mean_month':np.mean, 'rev_sum_month':np.mean}\n",
    "column_name = ['shop_count_cat1_cat2', 'cnt_mean_cat1_cat2', 'price_mean_cat1_cat2', 'rev_mean_cat1_cat2']\n",
    "cols.extend(column_name)\n",
    "x, tmp = feature_combination(x, feature_list, function_list, column_name, merge=True)"
   ]
  },
  {
   "cell_type": "code",
   "execution_count": 38,
   "metadata": {},
   "outputs": [],
   "source": [
    "for c in column_name:\n",
    "    x = lag_features(x, [1, 2, 3, 4, 5, 6], c)"
   ]
  },
  {
   "cell_type": "markdown",
   "metadata": {},
   "source": [
    "##### `(city, type)`"
   ]
  },
  {
   "cell_type": "code",
   "execution_count": 39,
   "metadata": {},
   "outputs": [
    {
     "name": "stdout",
     "output_type": "stream",
     "text": [
      "26 price_mean_city_type_lag_12 117.35751098371831\n",
      "36 rev_mean_city_type_lag_5 102.06072545810963\n"
     ]
    }
   ],
   "source": [
    "for i in range(len(a)):\n",
    "    if 'city_type' in a.iloc[i, 0]:\n",
    "        print(i, a.iloc[i, 0], a.iloc[i, 1])\n",
    "    if i>50:\n",
    "        break\n",
    "# (city, type) is not good"
   ]
  },
  {
   "cell_type": "code",
   "execution_count": 40,
   "metadata": {},
   "outputs": [],
   "source": [
    "#feature_list = ['date_block_num', 'City', 'Type']\n",
    "#function_list = {'price_mean_month':np.mean, 'rev_sum_month':np.mean}\n",
    "#column_name = ['price_mean_city_type', 'rev_mean_city_type']\n",
    "#cols.extend(column_name)\n",
    "#x, tmp = feature_combination(x, feature_list, function_list, column_name, merge=True)"
   ]
  },
  {
   "cell_type": "code",
   "execution_count": 41,
   "metadata": {},
   "outputs": [],
   "source": [
    "#for c in column_name:\n",
    "#    x = lag_features(x, [1, 5, 12], c)"
   ]
  },
  {
   "cell_type": "markdown",
   "metadata": {},
   "source": [
    "Remove value for the current month, since for test data we do not have this information"
   ]
  },
  {
   "cell_type": "code",
   "execution_count": 46,
   "metadata": {},
   "outputs": [],
   "source": [
    "cols.remove('cnt_sum_month')\n",
    "x.drop(cols, axis=1, inplace=True)"
   ]
  },
  {
   "cell_type": "markdown",
   "metadata": {},
   "source": [
    "#### CV"
   ]
  },
  {
   "cell_type": "code",
   "execution_count": 48,
   "metadata": {},
   "outputs": [],
   "source": [
    "# Split train and test sets\n",
    "x_train = x.loc[(x['date_block_num']<=33) & (x['date_block_num']>=12), :].copy()\n",
    "x_test = x.loc[x['date_block_num']==34, :].copy()\n",
    "\n",
    "# Drop target from test set\n",
    "x_test.drop(['cnt_sum_month'], axis=1, inplace=True)\n",
    "\n",
    "# Split target from train set\n",
    "# Note that target is first clipped to (0, 40), then clipped to (0, 20) in test set. \n",
    "# This is similar to the idea of calibration\n",
    "y_train = x_train['cnt_sum_month'].clip(0, 40)\n",
    "x_train.drop(['cnt_sum_month'], axis=1, inplace=True)"
   ]
  },
  {
   "cell_type": "code",
   "execution_count": 54,
   "metadata": {},
   "outputs": [
    {
     "name": "stdout",
     "output_type": "stream",
     "text": [
      "[0]\ttrain-rmse:2.70818\tval-rmse:2.72908\ttrain-clip-rmse:2.10916\tval-clip-rmse:2.13311\n",
      "[1]\ttrain-rmse:2.49598\tval-rmse:2.53852\ttrain-clip-rmse:1.96729\tval-clip-rmse:2.00585\n",
      "[2]\ttrain-rmse:2.40677\tval-rmse:2.46412\ttrain-clip-rmse:1.91022\tval-clip-rmse:1.95527\n",
      "[3]\ttrain-rmse:2.35775\tval-rmse:2.43248\ttrain-clip-rmse:1.88285\tval-clip-rmse:1.93753\n",
      "[4]\ttrain-rmse:2.32685\tval-rmse:2.40973\ttrain-clip-rmse:1.86688\tval-clip-rmse:1.92427\n",
      "[5]\ttrain-rmse:2.31498\tval-rmse:2.40099\ttrain-clip-rmse:1.85887\tval-clip-rmse:1.91805\n",
      "[6]\ttrain-rmse:2.29764\tval-rmse:2.38975\ttrain-clip-rmse:1.84811\tval-clip-rmse:1.9104\n",
      "[7]\ttrain-rmse:2.28012\tval-rmse:2.37585\ttrain-clip-rmse:1.83606\tval-clip-rmse:1.90048\n",
      "[8]\ttrain-rmse:2.22227\tval-rmse:2.32743\ttrain-clip-rmse:1.80245\tval-clip-rmse:1.87431\n",
      "[9]\ttrain-rmse:2.21223\tval-rmse:2.32139\ttrain-clip-rmse:1.79366\tval-clip-rmse:1.86862\n",
      "[10]\ttrain-rmse:2.20059\tval-rmse:2.31608\ttrain-clip-rmse:1.7844\tval-clip-rmse:1.86436\n",
      "[11]\ttrain-rmse:2.1924\tval-rmse:2.313\ttrain-clip-rmse:1.77892\tval-clip-rmse:1.86163\n",
      "[12]\ttrain-rmse:2.18533\tval-rmse:2.30927\ttrain-clip-rmse:1.77322\tval-clip-rmse:1.85895\n",
      "[13]\ttrain-rmse:2.14726\tval-rmse:2.28036\ttrain-clip-rmse:1.75303\tval-clip-rmse:1.84365\n",
      "[14]\ttrain-rmse:2.14129\tval-rmse:2.27766\ttrain-clip-rmse:1.74941\tval-clip-rmse:1.84234\n",
      "[15]\ttrain-rmse:2.13605\tval-rmse:2.2753\ttrain-clip-rmse:1.74526\tval-clip-rmse:1.84016\n",
      "[16]\ttrain-rmse:2.13135\tval-rmse:2.27295\ttrain-clip-rmse:1.74189\tval-clip-rmse:1.83892\n",
      "[17]\ttrain-rmse:2.12726\tval-rmse:2.27128\ttrain-clip-rmse:1.73848\tval-clip-rmse:1.83753\n",
      "[18]\ttrain-rmse:2.12165\tval-rmse:2.26918\ttrain-clip-rmse:1.73358\tval-clip-rmse:1.83533\n",
      "[19]\ttrain-rmse:2.11777\tval-rmse:2.26867\ttrain-clip-rmse:1.73059\tval-clip-rmse:1.83411\n",
      "[20]\ttrain-rmse:2.1092\tval-rmse:2.26625\ttrain-clip-rmse:1.72472\tval-clip-rmse:1.8321\n",
      "[21]\ttrain-rmse:2.0569\tval-rmse:2.21391\ttrain-clip-rmse:1.69606\tval-clip-rmse:1.80378\n",
      "[22]\ttrain-rmse:2.04612\tval-rmse:2.20443\ttrain-clip-rmse:1.68805\tval-clip-rmse:1.79661\n",
      "[23]\ttrain-rmse:2.0424\tval-rmse:2.2045\ttrain-clip-rmse:1.68555\tval-clip-rmse:1.79656\n",
      "[24]\ttrain-rmse:2.03781\tval-rmse:2.20465\ttrain-clip-rmse:1.68264\tval-clip-rmse:1.79641\n",
      "[25]\ttrain-rmse:2.03204\tval-rmse:2.20351\ttrain-clip-rmse:1.67858\tval-clip-rmse:1.79625\n",
      "[26]\ttrain-rmse:2.02862\tval-rmse:2.20265\ttrain-clip-rmse:1.6757\tval-clip-rmse:1.79551\n",
      "[27]\ttrain-rmse:2.01337\tval-rmse:2.18757\ttrain-clip-rmse:1.66768\tval-clip-rmse:1.78728\n",
      "[28]\ttrain-rmse:2.0093\tval-rmse:2.18676\ttrain-clip-rmse:1.66459\tval-clip-rmse:1.78657\n",
      "[29]\ttrain-rmse:2.00498\tval-rmse:2.18578\ttrain-clip-rmse:1.66076\tval-clip-rmse:1.78552\n",
      "[30]\ttrain-rmse:2.00226\tval-rmse:2.18562\ttrain-clip-rmse:1.6585\tval-clip-rmse:1.78482\n",
      "[31]\ttrain-rmse:1.99672\tval-rmse:2.18217\ttrain-clip-rmse:1.65425\tval-clip-rmse:1.7818\n",
      "[32]\ttrain-rmse:1.99198\tval-rmse:2.18125\ttrain-clip-rmse:1.65125\tval-clip-rmse:1.78184\n",
      "[33]\ttrain-rmse:1.99029\tval-rmse:2.1813\ttrain-clip-rmse:1.65\tval-clip-rmse:1.78202\n",
      "[34]\ttrain-rmse:1.98837\tval-rmse:2.18185\ttrain-clip-rmse:1.64838\tval-clip-rmse:1.78217\n",
      "[35]\ttrain-rmse:1.9876\tval-rmse:2.18143\ttrain-clip-rmse:1.64748\tval-clip-rmse:1.78171\n",
      "[36]\ttrain-rmse:1.9794\tval-rmse:2.18119\ttrain-clip-rmse:1.64166\tval-clip-rmse:1.78139\n",
      "[37]\ttrain-rmse:1.97477\tval-rmse:2.18023\ttrain-clip-rmse:1.63797\tval-clip-rmse:1.78134\n",
      "[38]\ttrain-rmse:1.96806\tval-rmse:2.17957\ttrain-clip-rmse:1.63284\tval-clip-rmse:1.78065\n",
      "[39]\ttrain-rmse:1.94361\tval-rmse:2.15558\ttrain-clip-rmse:1.61838\tval-clip-rmse:1.76654\n",
      "[40]\ttrain-rmse:1.93785\tval-rmse:2.15553\ttrain-clip-rmse:1.61361\tval-clip-rmse:1.76678\n",
      "[41]\ttrain-rmse:1.91871\tval-rmse:2.14345\ttrain-clip-rmse:1.60607\tval-clip-rmse:1.76214\n",
      "[42]\ttrain-rmse:1.91631\tval-rmse:2.14368\ttrain-clip-rmse:1.60383\tval-clip-rmse:1.76201\n",
      "[43]\ttrain-rmse:1.91222\tval-rmse:2.14161\ttrain-clip-rmse:1.60044\tval-clip-rmse:1.76052\n",
      "[44]\ttrain-rmse:1.91078\tval-rmse:2.14122\ttrain-clip-rmse:1.59954\tval-clip-rmse:1.76039\n",
      "[45]\ttrain-rmse:1.90939\tval-rmse:2.14166\ttrain-clip-rmse:1.59845\tval-clip-rmse:1.76061\n",
      "[46]\ttrain-rmse:1.90816\tval-rmse:2.14097\ttrain-clip-rmse:1.59739\tval-clip-rmse:1.76012\n",
      "[47]\ttrain-rmse:1.90519\tval-rmse:2.14137\ttrain-clip-rmse:1.5949\tval-clip-rmse:1.7607\n",
      "[48]\ttrain-rmse:1.90025\tval-rmse:2.14003\ttrain-clip-rmse:1.59023\tval-clip-rmse:1.75953\n",
      "[49]\ttrain-rmse:1.88573\tval-rmse:2.12949\ttrain-clip-rmse:1.58487\tval-clip-rmse:1.7578\n",
      "Repeat 0, split 0, val score = 1.758, running time = 0.761 min.\n",
      "[0]\ttrain-rmse:2.71813\tval-rmse:2.753\ttrain-clip-rmse:2.11917\tval-clip-rmse:2.138\n",
      "[1]\ttrain-rmse:2.49245\tval-rmse:2.55444\ttrain-clip-rmse:1.96841\tval-clip-rmse:2.00063\n",
      "[2]\ttrain-rmse:2.38548\tval-rmse:2.45845\ttrain-clip-rmse:1.90268\tval-clip-rmse:1.93945\n",
      "[3]\ttrain-rmse:2.35136\tval-rmse:2.43782\ttrain-clip-rmse:1.88307\tval-clip-rmse:1.92761\n",
      "[4]\ttrain-rmse:2.32506\tval-rmse:2.41873\ttrain-clip-rmse:1.86598\tval-clip-rmse:1.91473\n",
      "[5]\ttrain-rmse:2.2829\tval-rmse:2.38551\ttrain-clip-rmse:1.84039\tval-clip-rmse:1.89641\n",
      "[6]\ttrain-rmse:2.26133\tval-rmse:2.37065\ttrain-clip-rmse:1.82612\tval-clip-rmse:1.88929\n",
      "[7]\ttrain-rmse:2.24755\tval-rmse:2.36179\ttrain-clip-rmse:1.8163\tval-clip-rmse:1.88343\n",
      "[8]\ttrain-rmse:2.21344\tval-rmse:2.3342\ttrain-clip-rmse:1.79214\tval-clip-rmse:1.86303\n",
      "[9]\ttrain-rmse:2.20269\tval-rmse:2.32928\ttrain-clip-rmse:1.78419\tval-clip-rmse:1.85866\n",
      "[10]\ttrain-rmse:2.16486\tval-rmse:2.2951\ttrain-clip-rmse:1.76482\tval-clip-rmse:1.84234\n",
      "[11]\ttrain-rmse:2.11023\tval-rmse:2.24297\ttrain-clip-rmse:1.73197\tval-clip-rmse:1.8132\n",
      "[12]\ttrain-rmse:2.10185\tval-rmse:2.24029\ttrain-clip-rmse:1.72733\tval-clip-rmse:1.81216\n",
      "[13]\ttrain-rmse:2.09577\tval-rmse:2.23953\ttrain-clip-rmse:1.72247\tval-clip-rmse:1.81082\n",
      "[14]\ttrain-rmse:2.08689\tval-rmse:2.2363\ttrain-clip-rmse:1.71565\tval-clip-rmse:1.80842\n",
      "[15]\ttrain-rmse:2.07571\tval-rmse:2.23058\ttrain-clip-rmse:1.70925\tval-clip-rmse:1.80571\n",
      "[16]\ttrain-rmse:2.06258\tval-rmse:2.22286\ttrain-clip-rmse:1.69988\tval-clip-rmse:1.80069\n",
      "[17]\ttrain-rmse:2.0529\tval-rmse:2.22128\ttrain-clip-rmse:1.6929\tval-clip-rmse:1.80063\n",
      "[18]\ttrain-rmse:2.04695\tval-rmse:2.22136\ttrain-clip-rmse:1.689\tval-clip-rmse:1.80086\n",
      "[19]\ttrain-rmse:2.04256\tval-rmse:2.22099\ttrain-clip-rmse:1.68578\tval-clip-rmse:1.80086\n",
      "[20]\ttrain-rmse:2.03669\tval-rmse:2.21945\ttrain-clip-rmse:1.681\tval-clip-rmse:1.7997\n",
      "[21]\ttrain-rmse:2.02977\tval-rmse:2.21537\ttrain-clip-rmse:1.67642\tval-clip-rmse:1.79742\n",
      "[22]\ttrain-rmse:2.02674\tval-rmse:2.21392\ttrain-clip-rmse:1.67346\tval-clip-rmse:1.7959\n",
      "[23]\ttrain-rmse:2.02061\tval-rmse:2.21245\ttrain-clip-rmse:1.67058\tval-clip-rmse:1.79577\n",
      "[24]\ttrain-rmse:2.01916\tval-rmse:2.21321\ttrain-clip-rmse:1.66954\tval-clip-rmse:1.79606\n",
      "[25]\ttrain-rmse:2.01603\tval-rmse:2.21224\ttrain-clip-rmse:1.66723\tval-clip-rmse:1.79544\n",
      "[26]\ttrain-rmse:2.01228\tval-rmse:2.21155\ttrain-clip-rmse:1.66446\tval-clip-rmse:1.79516\n",
      "[27]\ttrain-rmse:2.00659\tval-rmse:2.20989\ttrain-clip-rmse:1.65966\tval-clip-rmse:1.79392\n",
      "[28]\ttrain-rmse:2.00221\tval-rmse:2.20983\ttrain-clip-rmse:1.65596\tval-clip-rmse:1.79385\n",
      "[29]\ttrain-rmse:1.99481\tval-rmse:2.20787\ttrain-clip-rmse:1.65122\tval-clip-rmse:1.79388\n",
      "[30]\ttrain-rmse:1.99158\tval-rmse:2.20762\ttrain-clip-rmse:1.6488\tval-clip-rmse:1.79357\n",
      "[31]\ttrain-rmse:1.98101\tval-rmse:2.20204\ttrain-clip-rmse:1.63986\tval-clip-rmse:1.78948\n",
      "[32]\ttrain-rmse:1.9777\tval-rmse:2.2024\ttrain-clip-rmse:1.63779\tval-clip-rmse:1.78944\n",
      "[33]\ttrain-rmse:1.97466\tval-rmse:2.20314\ttrain-clip-rmse:1.63509\tval-clip-rmse:1.78973\n",
      "[34]\ttrain-rmse:1.97211\tval-rmse:2.2028\ttrain-clip-rmse:1.63295\tval-clip-rmse:1.78983\n",
      "[35]\ttrain-rmse:1.97046\tval-rmse:2.20264\ttrain-clip-rmse:1.6316\tval-clip-rmse:1.79003\n",
      "[36]\ttrain-rmse:1.96589\tval-rmse:2.20129\ttrain-clip-rmse:1.62862\tval-clip-rmse:1.78982\n",
      "[37]\ttrain-rmse:1.96199\tval-rmse:2.19958\ttrain-clip-rmse:1.6246\tval-clip-rmse:1.78791\n",
      "[38]\ttrain-rmse:1.93616\tval-rmse:2.17971\ttrain-clip-rmse:1.61667\tval-clip-rmse:1.78129\n",
      "[39]\ttrain-rmse:1.93261\tval-rmse:2.17926\ttrain-clip-rmse:1.61426\tval-clip-rmse:1.78121\n",
      "[40]\ttrain-rmse:1.93029\tval-rmse:2.17892\ttrain-clip-rmse:1.61201\tval-clip-rmse:1.78085\n",
      "[41]\ttrain-rmse:1.92956\tval-rmse:2.17888\ttrain-clip-rmse:1.61145\tval-clip-rmse:1.78073\n",
      "[42]\ttrain-rmse:1.9233\tval-rmse:2.17657\ttrain-clip-rmse:1.60608\tval-clip-rmse:1.77888\n",
      "[43]\ttrain-rmse:1.92128\tval-rmse:2.17644\ttrain-clip-rmse:1.60458\tval-clip-rmse:1.77918\n",
      "[44]\ttrain-rmse:1.89192\tval-rmse:2.15428\ttrain-clip-rmse:1.58786\tval-clip-rmse:1.76852\n"
     ]
    },
    {
     "name": "stdout",
     "output_type": "stream",
     "text": [
      "[45]\ttrain-rmse:1.88959\tval-rmse:2.15396\ttrain-clip-rmse:1.58643\tval-clip-rmse:1.76857\n",
      "[46]\ttrain-rmse:1.88424\tval-rmse:2.15334\ttrain-clip-rmse:1.58211\tval-clip-rmse:1.76827\n",
      "[47]\ttrain-rmse:1.88073\tval-rmse:2.15436\ttrain-clip-rmse:1.57985\tval-clip-rmse:1.76882\n",
      "[48]\ttrain-rmse:1.8781\tval-rmse:2.15517\ttrain-clip-rmse:1.57759\tval-clip-rmse:1.76914\n",
      "[49]\ttrain-rmse:1.87602\tval-rmse:2.15486\ttrain-clip-rmse:1.57601\tval-clip-rmse:1.76894\n",
      "Repeat 0, split 1, val score = 1.769, running time = 0.774 min.\n",
      "[0]\ttrain-rmse:2.71845\tval-rmse:2.72506\ttrain-clip-rmse:2.12001\tval-clip-rmse:2.12734\n",
      "[1]\ttrain-rmse:2.48753\tval-rmse:2.51275\ttrain-clip-rmse:1.96311\tval-clip-rmse:1.98129\n",
      "[2]\ttrain-rmse:2.42092\tval-rmse:2.46043\ttrain-clip-rmse:1.9237\tval-clip-rmse:1.95057\n",
      "[3]\ttrain-rmse:2.38076\tval-rmse:2.43506\ttrain-clip-rmse:1.89988\tval-clip-rmse:1.9344\n",
      "[4]\ttrain-rmse:2.34162\tval-rmse:2.40409\ttrain-clip-rmse:1.87305\tval-clip-rmse:1.91358\n",
      "[5]\ttrain-rmse:2.32325\tval-rmse:2.3925\ttrain-clip-rmse:1.85988\tval-clip-rmse:1.90451\n",
      "[6]\ttrain-rmse:2.29008\tval-rmse:2.36436\ttrain-clip-rmse:1.83597\tval-clip-rmse:1.88492\n",
      "[7]\ttrain-rmse:2.28372\tval-rmse:2.36259\ttrain-clip-rmse:1.83198\tval-clip-rmse:1.88356\n",
      "[8]\ttrain-rmse:2.26721\tval-rmse:2.35511\ttrain-clip-rmse:1.82113\tval-clip-rmse:1.87855\n",
      "[9]\ttrain-rmse:2.19692\tval-rmse:2.3019\ttrain-clip-rmse:1.7794\tval-clip-rmse:1.84789\n",
      "[10]\ttrain-rmse:2.19042\tval-rmse:2.30115\ttrain-clip-rmse:1.77419\tval-clip-rmse:1.8474\n",
      "[11]\ttrain-rmse:2.15319\tval-rmse:2.27213\ttrain-clip-rmse:1.75016\tval-clip-rmse:1.82957\n",
      "[12]\ttrain-rmse:2.14544\tval-rmse:2.27049\ttrain-clip-rmse:1.74429\tval-clip-rmse:1.82816\n",
      "[13]\ttrain-rmse:2.14031\tval-rmse:2.268\ttrain-clip-rmse:1.74063\tval-clip-rmse:1.82659\n",
      "[14]\ttrain-rmse:2.13533\tval-rmse:2.2672\ttrain-clip-rmse:1.73706\tval-clip-rmse:1.82598\n",
      "[15]\ttrain-rmse:2.12384\tval-rmse:2.26172\ttrain-clip-rmse:1.72688\tval-clip-rmse:1.82076\n",
      "[16]\ttrain-rmse:2.11436\tval-rmse:2.25904\ttrain-clip-rmse:1.71996\tval-clip-rmse:1.81913\n",
      "[17]\ttrain-rmse:2.10339\tval-rmse:2.2522\ttrain-clip-rmse:1.71403\tval-clip-rmse:1.81709\n",
      "[18]\ttrain-rmse:2.0976\tval-rmse:2.25133\ttrain-clip-rmse:1.71039\tval-clip-rmse:1.81609\n",
      "[19]\ttrain-rmse:2.08873\tval-rmse:2.24886\ttrain-clip-rmse:1.70392\tval-clip-rmse:1.81406\n",
      "[20]\ttrain-rmse:2.08299\tval-rmse:2.24768\ttrain-clip-rmse:1.70006\tval-clip-rmse:1.81428\n",
      "[21]\ttrain-rmse:2.08137\tval-rmse:2.24754\ttrain-clip-rmse:1.69848\tval-clip-rmse:1.81427\n",
      "[22]\ttrain-rmse:2.07942\tval-rmse:2.247\ttrain-clip-rmse:1.69682\tval-clip-rmse:1.81337\n",
      "[23]\ttrain-rmse:2.07385\tval-rmse:2.24397\ttrain-clip-rmse:1.69203\tval-clip-rmse:1.81131\n",
      "[24]\ttrain-rmse:2.068\tval-rmse:2.24157\ttrain-clip-rmse:1.6872\tval-clip-rmse:1.8093\n",
      "[25]\ttrain-rmse:2.06008\tval-rmse:2.23741\ttrain-clip-rmse:1.68159\tval-clip-rmse:1.80638\n",
      "[26]\ttrain-rmse:2.05693\tval-rmse:2.23591\ttrain-clip-rmse:1.67881\tval-clip-rmse:1.80518\n",
      "[27]\ttrain-rmse:2.05351\tval-rmse:2.23631\ttrain-clip-rmse:1.67633\tval-clip-rmse:1.80551\n",
      "[28]\ttrain-rmse:2.04921\tval-rmse:2.23461\ttrain-clip-rmse:1.674\tval-clip-rmse:1.80545\n",
      "[29]\ttrain-rmse:2.04779\tval-rmse:2.23497\ttrain-clip-rmse:1.67303\tval-clip-rmse:1.80595\n",
      "[30]\ttrain-rmse:2.03131\tval-rmse:2.22723\ttrain-clip-rmse:1.66409\tval-clip-rmse:1.80194\n",
      "[31]\ttrain-rmse:2.0252\tval-rmse:2.22508\ttrain-clip-rmse:1.6591\tval-clip-rmse:1.80041\n",
      "[32]\ttrain-rmse:2.0212\tval-rmse:2.22522\ttrain-clip-rmse:1.65691\tval-clip-rmse:1.80097\n",
      "[33]\ttrain-rmse:2.01729\tval-rmse:2.225\ttrain-clip-rmse:1.6536\tval-clip-rmse:1.80119\n",
      "[34]\ttrain-rmse:2.01522\tval-rmse:2.22439\ttrain-clip-rmse:1.65149\tval-clip-rmse:1.80062\n",
      "[35]\ttrain-rmse:2.01349\tval-rmse:2.22484\ttrain-clip-rmse:1.65019\tval-clip-rmse:1.80152\n",
      "[36]\ttrain-rmse:2.01146\tval-rmse:2.22469\ttrain-clip-rmse:1.64831\tval-clip-rmse:1.80135\n",
      "[37]\ttrain-rmse:2.00977\tval-rmse:2.22507\ttrain-clip-rmse:1.64693\tval-clip-rmse:1.80168\n",
      "[38]\ttrain-rmse:2.00529\tval-rmse:2.22428\ttrain-clip-rmse:1.64322\tval-clip-rmse:1.80126\n",
      "[39]\ttrain-rmse:2.00302\tval-rmse:2.22371\ttrain-clip-rmse:1.64133\tval-clip-rmse:1.80066\n",
      "[40]\ttrain-rmse:1.99651\tval-rmse:2.22134\ttrain-clip-rmse:1.63648\tval-clip-rmse:1.7993\n",
      "[41]\ttrain-rmse:1.95048\tval-rmse:2.18902\ttrain-clip-rmse:1.61645\tval-clip-rmse:1.78465\n",
      "[42]\ttrain-rmse:1.92155\tval-rmse:2.17107\ttrain-clip-rmse:1.60405\tval-clip-rmse:1.77671\n",
      "[43]\ttrain-rmse:1.91737\tval-rmse:2.16982\ttrain-clip-rmse:1.59978\tval-clip-rmse:1.77514\n",
      "[44]\ttrain-rmse:1.91218\tval-rmse:2.16774\ttrain-clip-rmse:1.59528\tval-clip-rmse:1.77368\n",
      "[45]\ttrain-rmse:1.90731\tval-rmse:2.16667\ttrain-clip-rmse:1.59171\tval-clip-rmse:1.77326\n",
      "[46]\ttrain-rmse:1.90393\tval-rmse:2.16728\ttrain-clip-rmse:1.5889\tval-clip-rmse:1.77382\n",
      "[47]\ttrain-rmse:1.90074\tval-rmse:2.1673\ttrain-clip-rmse:1.58641\tval-clip-rmse:1.77453\n",
      "[48]\ttrain-rmse:1.87088\tval-rmse:2.14762\ttrain-clip-rmse:1.57294\tval-clip-rmse:1.76676\n",
      "[49]\ttrain-rmse:1.86769\tval-rmse:2.14689\ttrain-clip-rmse:1.57068\tval-clip-rmse:1.76603\n",
      "Repeat 0, split 2, val score = 1.766, running time = 0.820 min.\n",
      "Val mean = 1.764, std = 0.006\n"
     ]
    }
   ],
   "source": [
    "param = {'max_depth':8, \n",
    "         'subsample':0.8,\n",
    "         'min_child_weight':5,\n",
    "         'eta':0.6, \n",
    "         'lambda':2,\n",
    "         'colsample_bytree':0.8,\n",
    "         'seed':1,\n",
    "         'silent':1,\n",
    "         'maximize': False,\n",
    "         'nthread':8}\n",
    "\n",
    "n_tree = 50\n",
    "verbose = True\n",
    "\n",
    "n_split = 3\n",
    "n_repetition = 1\n",
    "\n",
    "df, clf, running_time = cv(x_train, y_train, param, n_repetition, n_split, n_tree, verbose, 42)"
   ]
  },
  {
   "cell_type": "code",
   "execution_count": 55,
   "metadata": {},
   "outputs": [],
   "source": [
    "a = {k: clf[0, 0].get_score(importance_type='gain') for k in clf.keys()}"
   ]
  },
  {
   "cell_type": "code",
   "execution_count": 56,
   "metadata": {},
   "outputs": [],
   "source": [
    "b = pd.DataFrame(a)"
   ]
  },
  {
   "cell_type": "code",
   "execution_count": 57,
   "metadata": {},
   "outputs": [],
   "source": [
    "b.columns = list(range(n_split))"
   ]
  },
  {
   "cell_type": "code",
   "execution_count": 58,
   "metadata": {},
   "outputs": [],
   "source": [
    "c = b.mean(axis=1).sort_values(ascending=False)"
   ]
  },
  {
   "cell_type": "code",
   "execution_count": 59,
   "metadata": {},
   "outputs": [],
   "source": [
    "d = c.head(50).index.tolist()\n",
    "e = []\n",
    "f = []\n",
    "for n in d:\n",
    "    if len(n.split('_'))>=2 and n.split('_')[-2] == 'lag':\n",
    "        e.append('_'.join(n.split('_')[:-2]))\n",
    "        f.append(int(n.split('_')[-1]))\n",
    "        \n",
    "e = set(e)\n",
    "f = set(f)"
   ]
  },
  {
   "cell_type": "code",
   "execution_count": 60,
   "metadata": {},
   "outputs": [
    {
     "data": {
      "text/plain": [
       "{'cnt_mean_cat1_cat2',\n",
       " 'cnt_mean_cat1_shop',\n",
       " 'cnt_mean_cat1_type',\n",
       " 'cnt_mean_cat2_type',\n",
       " 'cnt_mean_item_city',\n",
       " 'cnt_sum_month',\n",
       " 'price_mean_cat1_cat2',\n",
       " 'price_mean_cat1_type',\n",
       " 'price_mean_item_city',\n",
       " 'price_mean_month',\n",
       " 'rev_mean_cat1_cat2',\n",
       " 'rev_mean_cat1_city',\n",
       " 'rev_mean_cat1_type',\n",
       " 'rev_mean_cat2_type',\n",
       " 'rev_mean_item_city',\n",
       " 'rev_mean_item_type',\n",
       " 'rev_sum_month',\n",
       " 'shop_count_cat1_cat2'}"
      ]
     },
     "execution_count": 60,
     "metadata": {},
     "output_type": "execute_result"
    }
   ],
   "source": [
    "e"
   ]
  },
  {
   "cell_type": "code",
   "execution_count": 61,
   "metadata": {},
   "outputs": [
    {
     "data": {
      "text/plain": [
       "{1, 2, 3, 4, 5, 6}"
      ]
     },
     "execution_count": 61,
     "metadata": {},
     "output_type": "execute_result"
    }
   ],
   "source": [
    "f"
   ]
  },
  {
   "cell_type": "code",
   "execution_count": 62,
   "metadata": {},
   "outputs": [
    {
     "data": {
      "text/plain": [
       "260"
      ]
     },
     "execution_count": 62,
     "metadata": {},
     "output_type": "execute_result"
    }
   ],
   "source": [
    "26*10"
   ]
  },
  {
   "cell_type": "code",
   "execution_count": 64,
   "metadata": {},
   "outputs": [],
   "source": [
    "b.to_csv('eda_11_5_feature_importance.csv')"
   ]
  }
 ],
 "metadata": {
  "kernelspec": {
   "display_name": "Python 3",
   "language": "python",
   "name": "python3"
  },
  "language_info": {
   "codemirror_mode": {
    "name": "ipython",
    "version": 3
   },
   "file_extension": ".py",
   "mimetype": "text/x-python",
   "name": "python",
   "nbconvert_exporter": "python",
   "pygments_lexer": "ipython3",
   "version": "3.6.5"
  }
 },
 "nbformat": 4,
 "nbformat_minor": 2
}
