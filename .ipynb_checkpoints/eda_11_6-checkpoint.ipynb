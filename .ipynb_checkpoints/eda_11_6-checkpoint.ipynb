{
 "cells": [
  {
   "cell_type": "code",
   "execution_count": 1,
   "metadata": {},
   "outputs": [],
   "source": [
    "import numpy as np\n",
    "import pandas as pd\n",
    "import matplotlib.pyplot as plt\n",
    "import os\n",
    "import gc\n",
    "import sys\n",
    "import time\n",
    "import gc\n",
    "import itertools\n",
    "import tqdm\n",
    "import time\n",
    "import copy\n",
    "\n",
    "import scipy.stats as ss\n",
    "from numba import jit\n",
    "\n",
    "if os.name=='nt':\n",
    "    try:\n",
    "        mingw_path = 'C:\\\\Program Files\\\\mingw-w64\\\\x86_64-8.1.0-posix-seh-rt_v6-rev0\\\\mingw64\\\\bin'\n",
    "        os.environ['PATH'] = mingw_path + ';' + os.environ['PATH']\n",
    "    except:\n",
    "        pass\n",
    "    \n",
    "import xgboost as xgb\n",
    "from sklearn.metrics import mean_squared_error \n",
    "from sklearn.preprocessing import LabelEncoder\n",
    "from sklearn.model_selection import StratifiedKFold\n",
    "\n",
    "%matplotlib inline"
   ]
  },
  {
   "cell_type": "markdown",
   "metadata": {},
   "source": [
    "### Helper Function"
   ]
  },
  {
   "cell_type": "code",
   "execution_count": 2,
   "metadata": {},
   "outputs": [],
   "source": [
    "def lag_features(df, lags, merge_cols, shift_cols, fillna_value=None):\n",
    "    '''create lag features of col'''\n",
    "    cols = copy.copy(merge_cols)\n",
    "    cols.extend(shift_cols)\n",
    "    tmp = df.loc[:, cols]\n",
    "    for i in lags:\n",
    "        shifted = tmp.copy()\n",
    "        shifted_cols = shifted.columns.tolist()\n",
    "        shifted_cols = [c+'_lag_'+str(i) if c in shift_cols else c \n",
    "                        for c in shifted_cols]\n",
    "        shifted.columns = shifted_cols\n",
    "        shifted[merge_cols] += i\n",
    "        shifted.drop_duplicates(inplace=True)\n",
    "        df = pd.merge(df, shifted, on=merge_cols, how='left')\n",
    "    if fillna_value is not None:\n",
    "        df.fillna(fillna_value, inplace=True)\n",
    "    return df    "
   ]
  },
  {
   "cell_type": "code",
   "execution_count": 3,
   "metadata": {},
   "outputs": [],
   "source": [
    "def clip_rmse(preds, dtrain):\n",
    "    y_test = np.array(dtrain.get_label())\n",
    "    preds = np.array(preds)\n",
    "    y_test = np.maximum(np.minimum(y_test, 20), 0)\n",
    "    preds = np.maximum(np.minimum(preds, 20), 0)\n",
    "    #preds = np.array(list(map(lambda x: min(20, max(x, 0)), list(preds))))\n",
    "    #y_test = np.array(list(map(lambda x: min(20, max(x, 0)), list(y_test))))\n",
    "    rmse = np.sqrt(mean_squared_error(preds,y_test))\n",
    "    return 'clip-rmse', rmse"
   ]
  },
  {
   "cell_type": "code",
   "execution_count": 4,
   "metadata": {},
   "outputs": [],
   "source": [
    "def cv(x_train, y_train, param, n_repetition, n_split, n_tree, verbose, random_state):\n",
    "    '''Repeated CV'''\n",
    "    \n",
    "    cv_results = {}\n",
    "    clf = {}\n",
    "    running_time = {}\n",
    "\n",
    "    np.random.seed(random_state)\n",
    "\n",
    "    for m in range(n_repetition):\n",
    "        # Train and valuation sets split\n",
    "        skf = StratifiedKFold(n_splits=n_split, random_state=np.random.randint(10**6), shuffle=True)\n",
    "\n",
    "        for n, (train_index, val_index) in enumerate(skf.split(x_train, y_train)):\n",
    "\n",
    "            start_time = time.time()\n",
    "\n",
    "            # Construct DMatrix\n",
    "            dtrain = xgb.DMatrix(x_train.iloc[train_index], label=y_train.iloc[train_index])\n",
    "            dval = xgb.DMatrix(x_train.iloc[val_index], label=y_train.iloc[val_index])\n",
    "\n",
    "            # Placeholder for evals_results\n",
    "            cv_results[m, n] = {}\n",
    "\n",
    "            param['seed'] = np.random.randint(10**6)\n",
    "            clf[m, n] = xgb.train(param, dtrain,num_boost_round=n_tree, \n",
    "                                  evals=[(dtrain, 'train'), (dval, 'val')], \n",
    "                                  feval=clip_rmse, maximize=False, early_stopping_rounds=None, \n",
    "                                  evals_result=cv_results[m, n], verbose_eval=verbose)\n",
    "\n",
    "            running_time[m, n] = time.time() - start_time\n",
    "\n",
    "            print('Repeat {}, split {}, val score = {:.3f}, running time = {:.3f} min.'.format(m, n, \n",
    "                cv_results[m, n]['val']['clip-rmse'][-1], running_time[m, n]/60))\n",
    "\n",
    "    cv_results_final = {}\n",
    "    for m in range(n_repetition):\n",
    "        for n in range(n_split):\n",
    "            cv_results_final['train', m, n] = cv_results[m, n]['train']['clip-rmse']\n",
    "            cv_results_final['val', m, n] = cv_results[m, n]['val']['clip-rmse']\n",
    "\n",
    "    df = pd.DataFrame(cv_results_final)\n",
    "    df.index.name = 'iteration'\n",
    "    df.columns.names = ['dataset', 'repetition', 'cv_split']\n",
    "\n",
    "    print('Val mean = {:.3f}, std = {:.3f}'.format(df['val'].iloc[-1].mean(), df['val'].iloc[-1].std()))\n",
    "    \n",
    "    return df, clf, running_time"
   ]
  },
  {
   "cell_type": "code",
   "execution_count": 5,
   "metadata": {},
   "outputs": [],
   "source": [
    "def feature_combination(x, feature_list, function_dict, column_name, merge=False):\n",
    "    '''Combination of new features'''\n",
    "    tmp = x.groupby(feature_list).agg(function_dict)\n",
    "    tmp.columns = column_name\n",
    "    if merge:\n",
    "        x = x.merge(tmp, on=feature_list, how='left')\n",
    "        return x, tmp\n",
    "    else:\n",
    "        return tmp"
   ]
  },
  {
   "cell_type": "markdown",
   "metadata": {},
   "source": [
    "### Load and Preprocess Data"
   ]
  },
  {
   "cell_type": "code",
   "execution_count": 6,
   "metadata": {},
   "outputs": [],
   "source": [
    "# Load data\n",
    "train = pd.read_csv('all/sales_train.csv.gz')\n",
    "test = pd.read_csv('all/test.csv.gz')\n",
    "shop = pd.read_csv('all/shops-translated.csv')\n",
    "item = pd.read_csv('all/item_category.csv')\n",
    "\n",
    "test.set_index('ID', inplace=True)\n",
    "item.drop(['item_name_translated'], axis=1, inplace=True)\n",
    "shop.drop(['Name'], axis=1, inplace=True)\n",
    "\n",
    "le = LabelEncoder()\n",
    "item['item_cat1'] = le.fit_transform(item['item_cat1'].astype(str))\n",
    "item['item_cat2'] = le.fit_transform(item['item_cat2'].astype(str))\n",
    "shop['City'] = le.fit_transform(shop['City'])\n",
    "shop['Type'] = le.fit_transform(shop['Type'])"
   ]
  },
  {
   "cell_type": "markdown",
   "metadata": {},
   "source": [
    "Remove outliers"
   ]
  },
  {
   "cell_type": "code",
   "execution_count": 7,
   "metadata": {},
   "outputs": [],
   "source": [
    "train = train[train.item_price<100000]\n",
    "train = train[train.item_cnt_day<1001]\n",
    "median = train[(train.shop_id==32)&(train.item_id==2973)&(train.date_block_num==4)&(train.item_price>0)].item_price.median()\n",
    "train.loc[train.item_price<0, 'item_price'] = median"
   ]
  },
  {
   "cell_type": "markdown",
   "metadata": {},
   "source": [
    "Fix shop names and ids"
   ]
  },
  {
   "cell_type": "code",
   "execution_count": 8,
   "metadata": {},
   "outputs": [],
   "source": [
    "train.loc[train.shop_id == 0, 'shop_id'] = 57\n",
    "test.loc[test.shop_id == 0, 'shop_id'] = 57\n",
    "train.loc[train.shop_id == 1, 'shop_id'] = 58\n",
    "test.loc[test.shop_id == 1, 'shop_id'] = 58\n",
    "train.loc[train.shop_id == 10, 'shop_id'] = 11\n",
    "test.loc[test.shop_id == 10, 'shop_id'] = 11"
   ]
  },
  {
   "cell_type": "markdown",
   "metadata": {},
   "source": [
    "Monthly sales for all the samples"
   ]
  },
  {
   "cell_type": "code",
   "execution_count": 9,
   "metadata": {},
   "outputs": [],
   "source": [
    "x = pd.DataFrame(train.groupby(['date_block_num', 'shop_id', 'item_id'])['item_cnt_day'].sum())\n",
    "\n",
    "x.reset_index(inplace=True)"
   ]
  },
  {
   "cell_type": "code",
   "execution_count": 10,
   "metadata": {},
   "outputs": [],
   "source": [
    "test['date_block_num'] = 34"
   ]
  },
  {
   "cell_type": "code",
   "execution_count": 11,
   "metadata": {},
   "outputs": [],
   "source": [
    "x = pd.concat((x, test), sort=False).fillna(0.0)"
   ]
  },
  {
   "cell_type": "markdown",
   "metadata": {},
   "source": [
    "Add shop/item features"
   ]
  },
  {
   "cell_type": "code",
   "execution_count": 12,
   "metadata": {},
   "outputs": [],
   "source": [
    "x = pd.merge(x, shop, on='shop_id', how='left')\n",
    "x = pd.merge(x, item, on='item_id', how='left')"
   ]
  },
  {
   "cell_type": "markdown",
   "metadata": {},
   "source": [
    "Change column names"
   ]
  },
  {
   "cell_type": "code",
   "execution_count": 13,
   "metadata": {},
   "outputs": [],
   "source": [
    "x.columns = ['month', 'shop_id', 'item_id', 'sales_month', \n",
    "             'City', 'Type', 'item_cat1', 'item_cat2']"
   ]
  },
  {
   "cell_type": "markdown",
   "metadata": {},
   "source": [
    "Change column types"
   ]
  },
  {
   "cell_type": "code",
   "execution_count": 14,
   "metadata": {},
   "outputs": [],
   "source": [
    "x['City'] = x['City'].astype(np.int8)\n",
    "x['Type'] = x['Type'].astype(np.int8)\n",
    "x['item_cat1'] = x['item_cat1'].astype(np.int8)\n",
    "x['item_cat2'] = x['item_cat2'].astype(np.int8)\n",
    "x['sales_month'] = x['sales_month'].astype(np.float16)\n",
    "x['month'] = x['month'].astype(np.int8)\n",
    "x['shop_id'] = x['shop_id'].astype(np.int8)"
   ]
  },
  {
   "cell_type": "markdown",
   "metadata": {},
   "source": [
    "### Target Lags"
   ]
  },
  {
   "cell_type": "code",
   "execution_count": 15,
   "metadata": {},
   "outputs": [],
   "source": [
    "x = lag_features(x, [1, 2, 3, 6, 12], \n",
    "                 ['month', 'shop_id', 'item_id'], \n",
    "                 ['sales_month'], fillna_value=0)"
   ]
  },
  {
   "cell_type": "markdown",
   "metadata": {},
   "source": [
    "### Mean Encoding"
   ]
  },
  {
   "cell_type": "markdown",
   "metadata": {},
   "source": [
    "`sales_mean_month`"
   ]
  },
  {
   "cell_type": "code",
   "execution_count": 17,
   "metadata": {},
   "outputs": [],
   "source": [
    "group = x.groupby('month').agg({'sales_month': ['mean']})\n",
    "group.columns = ['sales_mean_month']\n",
    "group.reset_index(inplace=True)\n",
    "\n",
    "x = pd.merge(x, group, on=['month'], how='left')\n",
    "x['sales_mean_month'] = x['sales_mean_month'].astype(np.float16)\n",
    "x = lag_features(x, [1], ['month'], ['sales_mean_month'], fillna_value=0.0)\n",
    "x.drop(['sales_mean_month'], axis=1, inplace=True)"
   ]
  },
  {
   "cell_type": "markdown",
   "metadata": {},
   "source": [
    "`sales_mean_month_item`"
   ]
  },
  {
   "cell_type": "code",
   "execution_count": 19,
   "metadata": {},
   "outputs": [],
   "source": [
    "col = 'sales_mean_month_item'\n",
    "group = x.groupby(['month', 'item_id']).agg({'sales_month': ['mean']})\n",
    "group.columns = [col]\n",
    "group.reset_index(inplace=True)\n",
    "\n",
    "x = pd.merge(x, group, on=['month', 'item_id'], how='left')\n",
    "x[col] = x[col].astype(np.float16)\n",
    "x = lag_features(x, [1, 2, 3, 6, 12], \n",
    "                 ['month', 'item_id'], \n",
    "                 [col], fillna_value=0.0)\n",
    "x.drop([col], axis=1, inplace=True)"
   ]
  },
  {
   "cell_type": "markdown",
   "metadata": {},
   "source": [
    "`sales_mean_month_shop`"
   ]
  },
  {
   "cell_type": "code",
   "execution_count": 22,
   "metadata": {},
   "outputs": [],
   "source": [
    "col = 'sales_mean_month_shop'\n",
    "merge_cols = ['month', 'shop_id']\n",
    "group = x.groupby(merge_cols).agg({'sales_month': ['mean']})\n",
    "group.columns = [col]\n",
    "group.reset_index(inplace=True)\n",
    "\n",
    "x = pd.merge(x, group, on=merge_cols, how='left')\n",
    "x[col] = x[col].astype(np.float16)\n",
    "x = lag_features(x, [1, 2, 3, 6, 12], \n",
    "                 merge_cols, \n",
    "                 [col], fillna_value=0.0)\n",
    "x.drop([col], axis=1, inplace=True)"
   ]
  },
  {
   "cell_type": "markdown",
   "metadata": {},
   "source": [
    "`sales_mean_month_cat1`"
   ]
  },
  {
   "cell_type": "code",
   "execution_count": 24,
   "metadata": {},
   "outputs": [],
   "source": [
    "col = 'sales_mean_month_cat1'\n",
    "merge_cols = ['month', 'item_cat1']\n",
    "group = x.groupby(merge_cols).agg({'sales_month': ['mean']})\n",
    "group.columns = [col]\n",
    "group.reset_index(inplace=True)\n",
    "\n",
    "x = pd.merge(x, group, on=merge_cols, how='left')\n",
    "x[col] = x[col].astype(np.float16)\n",
    "x = lag_features(x, [1], \n",
    "                 merge_cols, \n",
    "                 [col], fillna_value=0.0)\n",
    "x.drop([col], axis=1, inplace=True)"
   ]
  },
  {
   "cell_type": "markdown",
   "metadata": {},
   "source": [
    "`sales_mean_month_shop_cat1`"
   ]
  },
  {
   "cell_type": "code",
   "execution_count": 27,
   "metadata": {},
   "outputs": [],
   "source": [
    "col = 'sales_mean_month_shop_cat1'\n",
    "merge_cols = ['month', 'shop_id', 'item_cat1']\n",
    "group = x.groupby(merge_cols).agg({'sales_month': ['mean']})\n",
    "group.columns = [col]\n",
    "group.reset_index(inplace=True)\n",
    "\n",
    "x = pd.merge(x, group, on=merge_cols, how='left')\n",
    "x[col] = x[col].astype(np.float16)\n",
    "x = lag_features(x, [1], \n",
    "                 merge_cols, \n",
    "                 [col], fillna_value=0.0)\n",
    "x.drop([col], axis=1, inplace=True)"
   ]
  },
  {
   "cell_type": "markdown",
   "metadata": {},
   "source": [
    "`sales_mean_month_shop_type`"
   ]
  },
  {
   "cell_type": "code",
   "execution_count": 30,
   "metadata": {},
   "outputs": [],
   "source": [
    "col = 'sales_mean_month_shop_type'\n",
    "merge_cols = ['month', 'shop_id', 'Type']\n",
    "group = x.groupby(merge_cols).agg({'sales_month': ['mean']})\n",
    "group.columns = [col]\n",
    "group.reset_index(inplace=True)\n",
    "\n",
    "x = pd.merge(x, group, on=merge_cols, how='left')\n",
    "x[col] = x[col].astype(np.float16)\n",
    "x = lag_features(x, [1], \n",
    "                 merge_cols, \n",
    "                 [col], fillna_value=0.0)\n",
    "x.drop([col], axis=1, inplace=True)"
   ]
  },
  {
   "cell_type": "markdown",
   "metadata": {},
   "source": [
    "`sales_mean_month_shop_cat2`"
   ]
  },
  {
   "cell_type": "code",
   "execution_count": 33,
   "metadata": {},
   "outputs": [],
   "source": [
    "col = 'sales_mean_month_shop_cat2'\n",
    "merge_cols = ['month', 'shop_id', 'item_cat2']\n",
    "group = x.groupby(merge_cols).agg({'sales_month': ['mean']})\n",
    "group.columns = [col]\n",
    "group.reset_index(inplace=True)\n",
    "\n",
    "x = pd.merge(x, group, on=merge_cols, how='left')\n",
    "x[col] = x[col].astype(np.float16)\n",
    "x = lag_features(x, [1], \n",
    "                 merge_cols, \n",
    "                 [col], fillna_value=0.0)\n",
    "x.drop([col], axis=1, inplace=True)"
   ]
  },
  {
   "cell_type": "markdown",
   "metadata": {},
   "source": [
    "`sales_mean_month_city`"
   ]
  },
  {
   "cell_type": "code",
   "execution_count": 36,
   "metadata": {},
   "outputs": [],
   "source": [
    "col = 'sales_mean_month_city'\n",
    "merge_cols = ['month', 'City']\n",
    "group = x.groupby(merge_cols).agg({'sales_month': ['mean']})\n",
    "group.columns = [col]\n",
    "group.reset_index(inplace=True)\n",
    "\n",
    "x = pd.merge(x, group, on=merge_cols, how='left')\n",
    "x[col] = x[col].astype(np.float16)\n",
    "x = lag_features(x, [1], \n",
    "                 merge_cols, \n",
    "                 [col], fillna_value=0.0)\n",
    "x.drop([col], axis=1, inplace=True)"
   ]
  },
  {
   "cell_type": "markdown",
   "metadata": {},
   "source": [
    "`sales_mean_month_item_city`"
   ]
  },
  {
   "cell_type": "code",
   "execution_count": 37,
   "metadata": {},
   "outputs": [],
   "source": [
    "col = 'sales_mean_month_item_city'\n",
    "merge_cols = ['month', 'item_id', 'City']\n",
    "group = x.groupby(merge_cols).agg({'sales_month': ['mean']})\n",
    "group.columns = [col]\n",
    "group.reset_index(inplace=True)\n",
    "\n",
    "x = pd.merge(x, group, on=merge_cols, how='left')\n",
    "x[col] = x[col].astype(np.float16)\n",
    "x = lag_features(x, [1], \n",
    "                 merge_cols, \n",
    "                 [col], fillna_value=0.0)\n",
    "x.drop([col], axis=1, inplace=True)"
   ]
  },
  {
   "cell_type": "markdown",
   "metadata": {},
   "source": [
    "`sales_mean_month_cat2`"
   ]
  },
  {
   "cell_type": "code",
   "execution_count": 38,
   "metadata": {},
   "outputs": [],
   "source": [
    "col = 'sales_mean_month_cat2'\n",
    "merge_cols = ['month', 'item_cat2']\n",
    "group = x.groupby(merge_cols).agg({'sales_month': ['mean']})\n",
    "group.columns = [col]\n",
    "group.reset_index(inplace=True)\n",
    "\n",
    "x = pd.merge(x, group, on=merge_cols, how='left')\n",
    "x[col] = x[col].astype(np.float16)\n",
    "x = lag_features(x, [1], \n",
    "                 merge_cols, \n",
    "                 [col], fillna_value=0.0)\n",
    "x.drop([col], axis=1, inplace=True)"
   ]
  },
  {
   "cell_type": "markdown",
   "metadata": {},
   "source": [
    "`sales_mean_month_cat1_cat2`"
   ]
  },
  {
   "cell_type": "code",
   "execution_count": 39,
   "metadata": {},
   "outputs": [],
   "source": [
    "col = 'sales_mean_month_cat1_cat2'\n",
    "merge_cols = ['month', 'item_cat1', 'item_cat2']\n",
    "group = x.groupby(merge_cols).agg({'sales_month': ['mean']})\n",
    "group.columns = [col]\n",
    "group.reset_index(inplace=True)\n",
    "\n",
    "x = pd.merge(x, group, on=merge_cols, how='left')\n",
    "x[col] = x[col].astype(np.float16)\n",
    "x = lag_features(x, [1, 2, 3, 6], \n",
    "                 merge_cols, \n",
    "                 [col], fillna_value=0.0)\n",
    "x.drop([col], axis=1, inplace=True)"
   ]
  },
  {
   "cell_type": "code",
   "execution_count": 42,
   "metadata": {},
   "outputs": [
    {
     "data": {
      "text/plain": [
       "(1823323, 35)"
      ]
     },
     "execution_count": 42,
     "metadata": {},
     "output_type": "execute_result"
    }
   ],
   "source": [
    "x.shape"
   ]
  },
  {
   "cell_type": "markdown",
   "metadata": {},
   "source": [
    "#### CV"
   ]
  },
  {
   "cell_type": "code",
   "execution_count": 43,
   "metadata": {},
   "outputs": [
    {
     "ename": "KeyError",
     "evalue": "'date_block_num'",
     "output_type": "error",
     "traceback": [
      "\u001b[1;31m---------------------------------------------------------------------------\u001b[0m",
      "\u001b[1;31mKeyError\u001b[0m                                  Traceback (most recent call last)",
      "\u001b[1;32m~\\AppData\\Local\\Continuum\\anaconda3\\lib\\site-packages\\pandas\\core\\indexes\\base.py\u001b[0m in \u001b[0;36mget_loc\u001b[1;34m(self, key, method, tolerance)\u001b[0m\n\u001b[0;32m   3062\u001b[0m             \u001b[1;32mtry\u001b[0m\u001b[1;33m:\u001b[0m\u001b[1;33m\u001b[0m\u001b[0m\n\u001b[1;32m-> 3063\u001b[1;33m                 \u001b[1;32mreturn\u001b[0m \u001b[0mself\u001b[0m\u001b[1;33m.\u001b[0m\u001b[0m_engine\u001b[0m\u001b[1;33m.\u001b[0m\u001b[0mget_loc\u001b[0m\u001b[1;33m(\u001b[0m\u001b[0mkey\u001b[0m\u001b[1;33m)\u001b[0m\u001b[1;33m\u001b[0m\u001b[0m\n\u001b[0m\u001b[0;32m   3064\u001b[0m             \u001b[1;32mexcept\u001b[0m \u001b[0mKeyError\u001b[0m\u001b[1;33m:\u001b[0m\u001b[1;33m\u001b[0m\u001b[0m\n",
      "\u001b[1;32mpandas\\_libs\\index.pyx\u001b[0m in \u001b[0;36mpandas._libs.index.IndexEngine.get_loc\u001b[1;34m()\u001b[0m\n",
      "\u001b[1;32mpandas\\_libs\\index.pyx\u001b[0m in \u001b[0;36mpandas._libs.index.IndexEngine.get_loc\u001b[1;34m()\u001b[0m\n",
      "\u001b[1;32mpandas\\_libs\\hashtable_class_helper.pxi\u001b[0m in \u001b[0;36mpandas._libs.hashtable.PyObjectHashTable.get_item\u001b[1;34m()\u001b[0m\n",
      "\u001b[1;32mpandas\\_libs\\hashtable_class_helper.pxi\u001b[0m in \u001b[0;36mpandas._libs.hashtable.PyObjectHashTable.get_item\u001b[1;34m()\u001b[0m\n",
      "\u001b[1;31mKeyError\u001b[0m: 'date_block_num'",
      "\nDuring handling of the above exception, another exception occurred:\n",
      "\u001b[1;31mKeyError\u001b[0m                                  Traceback (most recent call last)",
      "\u001b[1;32m<ipython-input-43-e6c88f98cdcd>\u001b[0m in \u001b[0;36m<module>\u001b[1;34m()\u001b[0m\n\u001b[0;32m      1\u001b[0m \u001b[1;31m# Split train and test sets\u001b[0m\u001b[1;33m\u001b[0m\u001b[1;33m\u001b[0m\u001b[0m\n\u001b[1;32m----> 2\u001b[1;33m \u001b[0mx_train\u001b[0m \u001b[1;33m=\u001b[0m \u001b[0mx\u001b[0m\u001b[1;33m.\u001b[0m\u001b[0mloc\u001b[0m\u001b[1;33m[\u001b[0m\u001b[1;33m(\u001b[0m\u001b[0mx\u001b[0m\u001b[1;33m[\u001b[0m\u001b[1;34m'date_block_num'\u001b[0m\u001b[1;33m]\u001b[0m\u001b[1;33m<=\u001b[0m\u001b[1;36m33\u001b[0m\u001b[1;33m)\u001b[0m \u001b[1;33m&\u001b[0m \u001b[1;33m(\u001b[0m\u001b[0mx\u001b[0m\u001b[1;33m[\u001b[0m\u001b[1;34m'date_block_num'\u001b[0m\u001b[1;33m]\u001b[0m\u001b[1;33m>=\u001b[0m\u001b[1;36m6\u001b[0m\u001b[1;33m)\u001b[0m\u001b[1;33m,\u001b[0m \u001b[1;33m:\u001b[0m\u001b[1;33m]\u001b[0m\u001b[1;33m.\u001b[0m\u001b[0mcopy\u001b[0m\u001b[1;33m(\u001b[0m\u001b[1;33m)\u001b[0m\u001b[1;33m\u001b[0m\u001b[0m\n\u001b[0m\u001b[0;32m      3\u001b[0m \u001b[0mx_test\u001b[0m \u001b[1;33m=\u001b[0m \u001b[0mx\u001b[0m\u001b[1;33m.\u001b[0m\u001b[0mloc\u001b[0m\u001b[1;33m[\u001b[0m\u001b[0mx\u001b[0m\u001b[1;33m[\u001b[0m\u001b[1;34m'date_block_num'\u001b[0m\u001b[1;33m]\u001b[0m\u001b[1;33m==\u001b[0m\u001b[1;36m34\u001b[0m\u001b[1;33m,\u001b[0m \u001b[1;33m:\u001b[0m\u001b[1;33m]\u001b[0m\u001b[1;33m.\u001b[0m\u001b[0mcopy\u001b[0m\u001b[1;33m(\u001b[0m\u001b[1;33m)\u001b[0m\u001b[1;33m\u001b[0m\u001b[0m\n\u001b[0;32m      4\u001b[0m \u001b[1;33m\u001b[0m\u001b[0m\n\u001b[0;32m      5\u001b[0m \u001b[1;31m# Drop target from test set\u001b[0m\u001b[1;33m\u001b[0m\u001b[1;33m\u001b[0m\u001b[0m\n",
      "\u001b[1;32m~\\AppData\\Local\\Continuum\\anaconda3\\lib\\site-packages\\pandas\\core\\frame.py\u001b[0m in \u001b[0;36m__getitem__\u001b[1;34m(self, key)\u001b[0m\n\u001b[0;32m   2683\u001b[0m             \u001b[1;32mreturn\u001b[0m \u001b[0mself\u001b[0m\u001b[1;33m.\u001b[0m\u001b[0m_getitem_multilevel\u001b[0m\u001b[1;33m(\u001b[0m\u001b[0mkey\u001b[0m\u001b[1;33m)\u001b[0m\u001b[1;33m\u001b[0m\u001b[0m\n\u001b[0;32m   2684\u001b[0m         \u001b[1;32melse\u001b[0m\u001b[1;33m:\u001b[0m\u001b[1;33m\u001b[0m\u001b[0m\n\u001b[1;32m-> 2685\u001b[1;33m             \u001b[1;32mreturn\u001b[0m \u001b[0mself\u001b[0m\u001b[1;33m.\u001b[0m\u001b[0m_getitem_column\u001b[0m\u001b[1;33m(\u001b[0m\u001b[0mkey\u001b[0m\u001b[1;33m)\u001b[0m\u001b[1;33m\u001b[0m\u001b[0m\n\u001b[0m\u001b[0;32m   2686\u001b[0m \u001b[1;33m\u001b[0m\u001b[0m\n\u001b[0;32m   2687\u001b[0m     \u001b[1;32mdef\u001b[0m \u001b[0m_getitem_column\u001b[0m\u001b[1;33m(\u001b[0m\u001b[0mself\u001b[0m\u001b[1;33m,\u001b[0m \u001b[0mkey\u001b[0m\u001b[1;33m)\u001b[0m\u001b[1;33m:\u001b[0m\u001b[1;33m\u001b[0m\u001b[0m\n",
      "\u001b[1;32m~\\AppData\\Local\\Continuum\\anaconda3\\lib\\site-packages\\pandas\\core\\frame.py\u001b[0m in \u001b[0;36m_getitem_column\u001b[1;34m(self, key)\u001b[0m\n\u001b[0;32m   2690\u001b[0m         \u001b[1;31m# get column\u001b[0m\u001b[1;33m\u001b[0m\u001b[1;33m\u001b[0m\u001b[0m\n\u001b[0;32m   2691\u001b[0m         \u001b[1;32mif\u001b[0m \u001b[0mself\u001b[0m\u001b[1;33m.\u001b[0m\u001b[0mcolumns\u001b[0m\u001b[1;33m.\u001b[0m\u001b[0mis_unique\u001b[0m\u001b[1;33m:\u001b[0m\u001b[1;33m\u001b[0m\u001b[0m\n\u001b[1;32m-> 2692\u001b[1;33m             \u001b[1;32mreturn\u001b[0m \u001b[0mself\u001b[0m\u001b[1;33m.\u001b[0m\u001b[0m_get_item_cache\u001b[0m\u001b[1;33m(\u001b[0m\u001b[0mkey\u001b[0m\u001b[1;33m)\u001b[0m\u001b[1;33m\u001b[0m\u001b[0m\n\u001b[0m\u001b[0;32m   2693\u001b[0m \u001b[1;33m\u001b[0m\u001b[0m\n\u001b[0;32m   2694\u001b[0m         \u001b[1;31m# duplicate columns & possible reduce dimensionality\u001b[0m\u001b[1;33m\u001b[0m\u001b[1;33m\u001b[0m\u001b[0m\n",
      "\u001b[1;32m~\\AppData\\Local\\Continuum\\anaconda3\\lib\\site-packages\\pandas\\core\\generic.py\u001b[0m in \u001b[0;36m_get_item_cache\u001b[1;34m(self, item)\u001b[0m\n\u001b[0;32m   2484\u001b[0m         \u001b[0mres\u001b[0m \u001b[1;33m=\u001b[0m \u001b[0mcache\u001b[0m\u001b[1;33m.\u001b[0m\u001b[0mget\u001b[0m\u001b[1;33m(\u001b[0m\u001b[0mitem\u001b[0m\u001b[1;33m)\u001b[0m\u001b[1;33m\u001b[0m\u001b[0m\n\u001b[0;32m   2485\u001b[0m         \u001b[1;32mif\u001b[0m \u001b[0mres\u001b[0m \u001b[1;32mis\u001b[0m \u001b[1;32mNone\u001b[0m\u001b[1;33m:\u001b[0m\u001b[1;33m\u001b[0m\u001b[0m\n\u001b[1;32m-> 2486\u001b[1;33m             \u001b[0mvalues\u001b[0m \u001b[1;33m=\u001b[0m \u001b[0mself\u001b[0m\u001b[1;33m.\u001b[0m\u001b[0m_data\u001b[0m\u001b[1;33m.\u001b[0m\u001b[0mget\u001b[0m\u001b[1;33m(\u001b[0m\u001b[0mitem\u001b[0m\u001b[1;33m)\u001b[0m\u001b[1;33m\u001b[0m\u001b[0m\n\u001b[0m\u001b[0;32m   2487\u001b[0m             \u001b[0mres\u001b[0m \u001b[1;33m=\u001b[0m \u001b[0mself\u001b[0m\u001b[1;33m.\u001b[0m\u001b[0m_box_item_values\u001b[0m\u001b[1;33m(\u001b[0m\u001b[0mitem\u001b[0m\u001b[1;33m,\u001b[0m \u001b[0mvalues\u001b[0m\u001b[1;33m)\u001b[0m\u001b[1;33m\u001b[0m\u001b[0m\n\u001b[0;32m   2488\u001b[0m             \u001b[0mcache\u001b[0m\u001b[1;33m[\u001b[0m\u001b[0mitem\u001b[0m\u001b[1;33m]\u001b[0m \u001b[1;33m=\u001b[0m \u001b[0mres\u001b[0m\u001b[1;33m\u001b[0m\u001b[0m\n",
      "\u001b[1;32m~\\AppData\\Local\\Continuum\\anaconda3\\lib\\site-packages\\pandas\\core\\internals.py\u001b[0m in \u001b[0;36mget\u001b[1;34m(self, item, fastpath)\u001b[0m\n\u001b[0;32m   4113\u001b[0m \u001b[1;33m\u001b[0m\u001b[0m\n\u001b[0;32m   4114\u001b[0m             \u001b[1;32mif\u001b[0m \u001b[1;32mnot\u001b[0m \u001b[0misna\u001b[0m\u001b[1;33m(\u001b[0m\u001b[0mitem\u001b[0m\u001b[1;33m)\u001b[0m\u001b[1;33m:\u001b[0m\u001b[1;33m\u001b[0m\u001b[0m\n\u001b[1;32m-> 4115\u001b[1;33m                 \u001b[0mloc\u001b[0m \u001b[1;33m=\u001b[0m \u001b[0mself\u001b[0m\u001b[1;33m.\u001b[0m\u001b[0mitems\u001b[0m\u001b[1;33m.\u001b[0m\u001b[0mget_loc\u001b[0m\u001b[1;33m(\u001b[0m\u001b[0mitem\u001b[0m\u001b[1;33m)\u001b[0m\u001b[1;33m\u001b[0m\u001b[0m\n\u001b[0m\u001b[0;32m   4116\u001b[0m             \u001b[1;32melse\u001b[0m\u001b[1;33m:\u001b[0m\u001b[1;33m\u001b[0m\u001b[0m\n\u001b[0;32m   4117\u001b[0m                 \u001b[0mindexer\u001b[0m \u001b[1;33m=\u001b[0m \u001b[0mnp\u001b[0m\u001b[1;33m.\u001b[0m\u001b[0marange\u001b[0m\u001b[1;33m(\u001b[0m\u001b[0mlen\u001b[0m\u001b[1;33m(\u001b[0m\u001b[0mself\u001b[0m\u001b[1;33m.\u001b[0m\u001b[0mitems\u001b[0m\u001b[1;33m)\u001b[0m\u001b[1;33m)\u001b[0m\u001b[1;33m[\u001b[0m\u001b[0misna\u001b[0m\u001b[1;33m(\u001b[0m\u001b[0mself\u001b[0m\u001b[1;33m.\u001b[0m\u001b[0mitems\u001b[0m\u001b[1;33m)\u001b[0m\u001b[1;33m]\u001b[0m\u001b[1;33m\u001b[0m\u001b[0m\n",
      "\u001b[1;32m~\\AppData\\Local\\Continuum\\anaconda3\\lib\\site-packages\\pandas\\core\\indexes\\base.py\u001b[0m in \u001b[0;36mget_loc\u001b[1;34m(self, key, method, tolerance)\u001b[0m\n\u001b[0;32m   3063\u001b[0m                 \u001b[1;32mreturn\u001b[0m \u001b[0mself\u001b[0m\u001b[1;33m.\u001b[0m\u001b[0m_engine\u001b[0m\u001b[1;33m.\u001b[0m\u001b[0mget_loc\u001b[0m\u001b[1;33m(\u001b[0m\u001b[0mkey\u001b[0m\u001b[1;33m)\u001b[0m\u001b[1;33m\u001b[0m\u001b[0m\n\u001b[0;32m   3064\u001b[0m             \u001b[1;32mexcept\u001b[0m \u001b[0mKeyError\u001b[0m\u001b[1;33m:\u001b[0m\u001b[1;33m\u001b[0m\u001b[0m\n\u001b[1;32m-> 3065\u001b[1;33m                 \u001b[1;32mreturn\u001b[0m \u001b[0mself\u001b[0m\u001b[1;33m.\u001b[0m\u001b[0m_engine\u001b[0m\u001b[1;33m.\u001b[0m\u001b[0mget_loc\u001b[0m\u001b[1;33m(\u001b[0m\u001b[0mself\u001b[0m\u001b[1;33m.\u001b[0m\u001b[0m_maybe_cast_indexer\u001b[0m\u001b[1;33m(\u001b[0m\u001b[0mkey\u001b[0m\u001b[1;33m)\u001b[0m\u001b[1;33m)\u001b[0m\u001b[1;33m\u001b[0m\u001b[0m\n\u001b[0m\u001b[0;32m   3066\u001b[0m \u001b[1;33m\u001b[0m\u001b[0m\n\u001b[0;32m   3067\u001b[0m         \u001b[0mindexer\u001b[0m \u001b[1;33m=\u001b[0m \u001b[0mself\u001b[0m\u001b[1;33m.\u001b[0m\u001b[0mget_indexer\u001b[0m\u001b[1;33m(\u001b[0m\u001b[1;33m[\u001b[0m\u001b[0mkey\u001b[0m\u001b[1;33m]\u001b[0m\u001b[1;33m,\u001b[0m \u001b[0mmethod\u001b[0m\u001b[1;33m=\u001b[0m\u001b[0mmethod\u001b[0m\u001b[1;33m,\u001b[0m \u001b[0mtolerance\u001b[0m\u001b[1;33m=\u001b[0m\u001b[0mtolerance\u001b[0m\u001b[1;33m)\u001b[0m\u001b[1;33m\u001b[0m\u001b[0m\n",
      "\u001b[1;32mpandas\\_libs\\index.pyx\u001b[0m in \u001b[0;36mpandas._libs.index.IndexEngine.get_loc\u001b[1;34m()\u001b[0m\n",
      "\u001b[1;32mpandas\\_libs\\index.pyx\u001b[0m in \u001b[0;36mpandas._libs.index.IndexEngine.get_loc\u001b[1;34m()\u001b[0m\n",
      "\u001b[1;32mpandas\\_libs\\hashtable_class_helper.pxi\u001b[0m in \u001b[0;36mpandas._libs.hashtable.PyObjectHashTable.get_item\u001b[1;34m()\u001b[0m\n",
      "\u001b[1;32mpandas\\_libs\\hashtable_class_helper.pxi\u001b[0m in \u001b[0;36mpandas._libs.hashtable.PyObjectHashTable.get_item\u001b[1;34m()\u001b[0m\n",
      "\u001b[1;31mKeyError\u001b[0m: 'date_block_num'"
     ]
    }
   ],
   "source": [
    "# Split train and test sets\n",
    "x_train = x.loc[(x['month']<=33) & (x['month']>=6), :].copy()\n",
    "x_test = x.loc[x['month']==34, :].copy()\n",
    "\n",
    "# Drop target from test set\n",
    "x_test.drop(['month'], axis=1, inplace=True)\n",
    "\n",
    "# Split target from train set\n",
    "# Note that target is first clipped to (0, 40), then clipped to (0, 20) in test set. \n",
    "# This is similar to the idea of calibration\n",
    "y_train = x_train['sales_month'].clip(0, 40)\n",
    "x_train.drop(['sales_month'], axis=1, inplace=True)"
   ]
  },
  {
   "cell_type": "code",
   "execution_count": 49,
   "metadata": {},
   "outputs": [
    {
     "name": "stdout",
     "output_type": "stream",
     "text": [
      "[0]\ttrain-rmse:3.23992\tval-rmse:3.24644\ttrain-clip-rmse:2.51909\tval-clip-rmse:2.52481\n",
      "[1]\ttrain-rmse:2.93021\tval-rmse:2.94515\ttrain-clip-rmse:2.24786\tval-clip-rmse:2.26091\n",
      "[2]\ttrain-rmse:2.75342\tval-rmse:2.7743\ttrain-clip-rmse:2.11382\tval-clip-rmse:2.13217\n",
      "[3]\ttrain-rmse:2.65281\tval-rmse:2.68006\ttrain-clip-rmse:2.04484\tval-clip-rmse:2.06842\n",
      "[4]\ttrain-rmse:2.59031\tval-rmse:2.62431\ttrain-clip-rmse:2.00617\tval-clip-rmse:2.03512\n",
      "[5]\ttrain-rmse:2.53172\tval-rmse:2.57003\ttrain-clip-rmse:1.97232\tval-clip-rmse:2.00435\n",
      "[6]\ttrain-rmse:2.50331\tval-rmse:2.54829\ttrain-clip-rmse:1.95721\tval-clip-rmse:1.99397\n",
      "[7]\ttrain-rmse:2.47266\tval-rmse:2.52135\ttrain-clip-rmse:1.93847\tval-clip-rmse:1.97722\n",
      "[8]\ttrain-rmse:2.44599\tval-rmse:2.50118\ttrain-clip-rmse:1.92166\tval-clip-rmse:1.96565\n",
      "[9]\ttrain-rmse:2.43422\tval-rmse:2.49283\ttrain-clip-rmse:1.91553\tval-clip-rmse:1.96167\n",
      "[10]\ttrain-rmse:2.40943\tval-rmse:2.47464\ttrain-clip-rmse:1.89917\tval-clip-rmse:1.94852\n",
      "[11]\ttrain-rmse:2.39776\tval-rmse:2.46657\ttrain-clip-rmse:1.89248\tval-clip-rmse:1.94409\n",
      "[12]\ttrain-rmse:2.39292\tval-rmse:2.46288\ttrain-clip-rmse:1.88975\tval-clip-rmse:1.94215\n",
      "[13]\ttrain-rmse:2.36817\tval-rmse:2.44173\ttrain-clip-rmse:1.87311\tval-clip-rmse:1.92846\n",
      "[14]\ttrain-rmse:2.36218\tval-rmse:2.43759\ttrain-clip-rmse:1.86862\tval-clip-rmse:1.92535\n",
      "[15]\ttrain-rmse:2.35431\tval-rmse:2.43187\ttrain-clip-rmse:1.86232\tval-clip-rmse:1.92072\n",
      "[16]\ttrain-rmse:2.33849\tval-rmse:2.41971\ttrain-clip-rmse:1.85085\tval-clip-rmse:1.9113\n",
      "[17]\ttrain-rmse:2.3328\tval-rmse:2.41687\ttrain-clip-rmse:1.8474\tval-clip-rmse:1.90976\n",
      "[18]\ttrain-rmse:2.30786\tval-rmse:2.39476\ttrain-clip-rmse:1.82865\tval-clip-rmse:1.89324\n",
      "[19]\ttrain-rmse:2.28828\tval-rmse:2.37914\ttrain-clip-rmse:1.81623\tval-clip-rmse:1.88361\n",
      "[20]\ttrain-rmse:2.28093\tval-rmse:2.37406\ttrain-clip-rmse:1.8108\tval-clip-rmse:1.87995\n",
      "[21]\ttrain-rmse:2.27724\tval-rmse:2.37203\ttrain-clip-rmse:1.80784\tval-clip-rmse:1.87832\n",
      "[22]\ttrain-rmse:2.26172\tval-rmse:2.3596\ttrain-clip-rmse:1.79888\tval-clip-rmse:1.87176\n",
      "[23]\ttrain-rmse:2.25526\tval-rmse:2.35636\ttrain-clip-rmse:1.79452\tval-clip-rmse:1.8696\n",
      "[24]\ttrain-rmse:2.2513\tval-rmse:2.35405\ttrain-clip-rmse:1.79095\tval-clip-rmse:1.86777\n",
      "[25]\ttrain-rmse:2.23158\tval-rmse:2.33875\ttrain-clip-rmse:1.77706\tval-clip-rmse:1.85655\n",
      "[26]\ttrain-rmse:2.2291\tval-rmse:2.33758\ttrain-clip-rmse:1.77495\tval-clip-rmse:1.85525\n",
      "[27]\ttrain-rmse:2.22517\tval-rmse:2.33533\ttrain-clip-rmse:1.77328\tval-clip-rmse:1.85447\n",
      "[28]\ttrain-rmse:2.22274\tval-rmse:2.33431\ttrain-clip-rmse:1.77178\tval-clip-rmse:1.85359\n",
      "[29]\ttrain-rmse:2.21554\tval-rmse:2.32878\ttrain-clip-rmse:1.76718\tval-clip-rmse:1.85004\n",
      "[30]\ttrain-rmse:2.21174\tval-rmse:2.32721\ttrain-clip-rmse:1.76383\tval-clip-rmse:1.84857\n",
      "[31]\ttrain-rmse:2.2072\tval-rmse:2.32469\ttrain-clip-rmse:1.76053\tval-clip-rmse:1.84683\n",
      "[32]\ttrain-rmse:2.2025\tval-rmse:2.32184\ttrain-clip-rmse:1.75674\tval-clip-rmse:1.84451\n",
      "[33]\ttrain-rmse:2.19927\tval-rmse:2.32076\ttrain-clip-rmse:1.75398\tval-clip-rmse:1.84379\n",
      "[34]\ttrain-rmse:2.19521\tval-rmse:2.31853\ttrain-clip-rmse:1.75178\tval-clip-rmse:1.84295\n",
      "[35]\ttrain-rmse:2.19159\tval-rmse:2.3171\ttrain-clip-rmse:1.74877\tval-clip-rmse:1.84169\n",
      "[36]\ttrain-rmse:2.17846\tval-rmse:2.30797\ttrain-clip-rmse:1.74033\tval-clip-rmse:1.83521\n",
      "[37]\ttrain-rmse:2.17591\tval-rmse:2.30678\ttrain-clip-rmse:1.73845\tval-clip-rmse:1.83434\n",
      "[38]\ttrain-rmse:2.1561\tval-rmse:2.28949\ttrain-clip-rmse:1.72833\tval-clip-rmse:1.82652\n",
      "[39]\ttrain-rmse:2.14739\tval-rmse:2.28235\ttrain-clip-rmse:1.72299\tval-clip-rmse:1.82233\n",
      "[40]\ttrain-rmse:2.14493\tval-rmse:2.28185\ttrain-clip-rmse:1.72131\tval-clip-rmse:1.82201\n",
      "[41]\ttrain-rmse:2.1432\tval-rmse:2.28099\ttrain-clip-rmse:1.71995\tval-clip-rmse:1.82119\n",
      "[42]\ttrain-rmse:2.14169\tval-rmse:2.2804\ttrain-clip-rmse:1.71889\tval-clip-rmse:1.82069\n",
      "[43]\ttrain-rmse:2.13755\tval-rmse:2.27832\ttrain-clip-rmse:1.71568\tval-clip-rmse:1.81946\n",
      "[44]\ttrain-rmse:2.1364\tval-rmse:2.27811\ttrain-clip-rmse:1.71491\tval-clip-rmse:1.81916\n",
      "[45]\ttrain-rmse:2.13471\tval-rmse:2.27785\ttrain-clip-rmse:1.71348\tval-clip-rmse:1.81889\n",
      "[46]\ttrain-rmse:2.13322\tval-rmse:2.27736\ttrain-clip-rmse:1.71243\tval-clip-rmse:1.81868\n",
      "[47]\ttrain-rmse:2.12987\tval-rmse:2.27504\ttrain-clip-rmse:1.71\tval-clip-rmse:1.81719\n",
      "[48]\ttrain-rmse:2.11722\tval-rmse:2.26488\ttrain-clip-rmse:1.70197\tval-clip-rmse:1.81095\n",
      "[49]\ttrain-rmse:2.10967\tval-rmse:2.2594\ttrain-clip-rmse:1.69746\tval-clip-rmse:1.8077\n",
      "[50]\ttrain-rmse:2.10387\tval-rmse:2.25544\ttrain-clip-rmse:1.69414\tval-clip-rmse:1.80587\n",
      "[51]\ttrain-rmse:2.10081\tval-rmse:2.25428\ttrain-clip-rmse:1.69148\tval-clip-rmse:1.80465\n",
      "[52]\ttrain-rmse:2.09665\tval-rmse:2.25184\ttrain-clip-rmse:1.68853\tval-clip-rmse:1.803\n",
      "[53]\ttrain-rmse:2.0959\tval-rmse:2.25152\ttrain-clip-rmse:1.68787\tval-clip-rmse:1.80267\n",
      "[54]\ttrain-rmse:2.09462\tval-rmse:2.25082\ttrain-clip-rmse:1.68696\tval-clip-rmse:1.80216\n",
      "[55]\ttrain-rmse:2.0867\tval-rmse:2.24534\ttrain-clip-rmse:1.68068\tval-clip-rmse:1.79796\n",
      "[56]\ttrain-rmse:2.08363\tval-rmse:2.24446\ttrain-clip-rmse:1.67843\tval-clip-rmse:1.7973\n",
      "[57]\ttrain-rmse:2.08284\tval-rmse:2.2446\ttrain-clip-rmse:1.67768\tval-clip-rmse:1.79729\n",
      "[58]\ttrain-rmse:2.08098\tval-rmse:2.24375\ttrain-clip-rmse:1.67616\tval-clip-rmse:1.79642\n",
      "[59]\ttrain-rmse:2.07403\tval-rmse:2.23867\ttrain-clip-rmse:1.67093\tval-clip-rmse:1.79265\n",
      "[60]\ttrain-rmse:2.07305\tval-rmse:2.23849\ttrain-clip-rmse:1.67043\tval-clip-rmse:1.79266\n",
      "[61]\ttrain-rmse:2.07201\tval-rmse:2.23807\ttrain-clip-rmse:1.66953\tval-clip-rmse:1.79238\n",
      "[62]\ttrain-rmse:2.06978\tval-rmse:2.23731\ttrain-clip-rmse:1.66795\tval-clip-rmse:1.79179\n",
      "[63]\ttrain-rmse:2.06548\tval-rmse:2.23324\ttrain-clip-rmse:1.66494\tval-clip-rmse:1.78948\n",
      "[64]\ttrain-rmse:2.06327\tval-rmse:2.23299\ttrain-clip-rmse:1.66318\tval-clip-rmse:1.78925\n",
      "[65]\ttrain-rmse:2.05897\tval-rmse:2.23101\ttrain-clip-rmse:1.66007\tval-clip-rmse:1.78812\n",
      "[66]\ttrain-rmse:2.04118\tval-rmse:2.21273\ttrain-clip-rmse:1.64958\tval-clip-rmse:1.77769\n",
      "[67]\ttrain-rmse:2.03905\tval-rmse:2.21206\ttrain-clip-rmse:1.64786\tval-clip-rmse:1.7771\n",
      "[68]\ttrain-rmse:2.03769\tval-rmse:2.21178\ttrain-clip-rmse:1.64674\tval-clip-rmse:1.777\n",
      "[69]\ttrain-rmse:2.03408\tval-rmse:2.21012\ttrain-clip-rmse:1.64345\tval-clip-rmse:1.77539\n",
      "[70]\ttrain-rmse:2.03313\tval-rmse:2.21006\ttrain-clip-rmse:1.64252\tval-clip-rmse:1.7752\n",
      "[71]\ttrain-rmse:2.03204\tval-rmse:2.20975\ttrain-clip-rmse:1.64157\tval-clip-rmse:1.77466\n",
      "[72]\ttrain-rmse:2.02983\tval-rmse:2.20888\ttrain-clip-rmse:1.64009\tval-clip-rmse:1.7742\n",
      "[73]\ttrain-rmse:2.02712\tval-rmse:2.20798\ttrain-clip-rmse:1.63804\tval-clip-rmse:1.77364\n",
      "[74]\ttrain-rmse:2.02596\tval-rmse:2.20765\ttrain-clip-rmse:1.63714\tval-clip-rmse:1.77341\n",
      "[75]\ttrain-rmse:2.023\tval-rmse:2.2071\ttrain-clip-rmse:1.63464\tval-clip-rmse:1.77281\n",
      "[76]\ttrain-rmse:2.02178\tval-rmse:2.20701\ttrain-clip-rmse:1.63371\tval-clip-rmse:1.77256\n",
      "[77]\ttrain-rmse:2.01799\tval-rmse:2.20567\ttrain-clip-rmse:1.63157\tval-clip-rmse:1.77221\n",
      "[78]\ttrain-rmse:2.01696\tval-rmse:2.20579\ttrain-clip-rmse:1.63094\tval-clip-rmse:1.77219\n",
      "[79]\ttrain-rmse:2.01601\tval-rmse:2.20564\ttrain-clip-rmse:1.63024\tval-clip-rmse:1.77204\n",
      "Repeat 0, split 0, val score = 1.772, running time = 1.923 min.\n",
      "[0]\ttrain-rmse:3.22109\tval-rmse:3.23175\ttrain-clip-rmse:2.50545\tval-clip-rmse:2.51161\n",
      "[1]\ttrain-rmse:2.92196\tval-rmse:2.94115\ttrain-clip-rmse:2.24633\tval-clip-rmse:2.25655\n",
      "[2]\ttrain-rmse:2.74634\tval-rmse:2.77413\ttrain-clip-rmse:2.11373\tval-clip-rmse:2.1281\n",
      "[3]\ttrain-rmse:2.64279\tval-rmse:2.67774\ttrain-clip-rmse:2.04258\tval-clip-rmse:2.06024\n",
      "[4]\ttrain-rmse:2.58081\tval-rmse:2.62469\ttrain-clip-rmse:2.00519\tval-clip-rmse:2.02691\n",
      "[5]\ttrain-rmse:2.54308\tval-rmse:2.59441\ttrain-clip-rmse:1.98483\tval-clip-rmse:2.01057\n",
      "[6]\ttrain-rmse:2.51177\tval-rmse:2.56892\ttrain-clip-rmse:1.96654\tval-clip-rmse:1.99518\n",
      "[7]\ttrain-rmse:2.48879\tval-rmse:2.55091\ttrain-clip-rmse:1.95355\tval-clip-rmse:1.98457\n",
      "[8]\ttrain-rmse:2.45827\tval-rmse:2.52448\ttrain-clip-rmse:1.93471\tval-clip-rmse:1.96763\n",
      "[9]\ttrain-rmse:2.44339\tval-rmse:2.51427\ttrain-clip-rmse:1.9247\tval-clip-rmse:1.96032\n",
      "[10]\ttrain-rmse:2.43056\tval-rmse:2.50634\ttrain-clip-rmse:1.91678\tval-clip-rmse:1.95543\n",
      "[11]\ttrain-rmse:2.42206\tval-rmse:2.50095\ttrain-clip-rmse:1.91157\tval-clip-rmse:1.95246\n",
      "[12]\ttrain-rmse:2.41295\tval-rmse:2.49553\ttrain-clip-rmse:1.90526\tval-clip-rmse:1.94876\n",
      "[13]\ttrain-rmse:2.39497\tval-rmse:2.48101\ttrain-clip-rmse:1.89198\tval-clip-rmse:1.93833\n",
      "[14]\ttrain-rmse:2.37615\tval-rmse:2.46338\ttrain-clip-rmse:1.87839\tval-clip-rmse:1.92604\n"
     ]
    },
    {
     "name": "stdout",
     "output_type": "stream",
     "text": [
      "[15]\ttrain-rmse:2.35651\tval-rmse:2.44703\ttrain-clip-rmse:1.86323\tval-clip-rmse:1.91339\n",
      "[16]\ttrain-rmse:2.32789\tval-rmse:2.42216\ttrain-clip-rmse:1.84247\tval-clip-rmse:1.89543\n",
      "[17]\ttrain-rmse:2.31892\tval-rmse:2.41596\ttrain-clip-rmse:1.83639\tval-clip-rmse:1.89162\n",
      "[18]\ttrain-rmse:2.29552\tval-rmse:2.39595\ttrain-clip-rmse:1.82074\tval-clip-rmse:1.87824\n",
      "[19]\ttrain-rmse:2.28877\tval-rmse:2.39191\ttrain-clip-rmse:1.81618\tval-clip-rmse:1.87574\n",
      "[20]\ttrain-rmse:2.28133\tval-rmse:2.38776\ttrain-clip-rmse:1.80996\tval-clip-rmse:1.87167\n",
      "[21]\ttrain-rmse:2.27341\tval-rmse:2.38195\ttrain-clip-rmse:1.8045\tval-clip-rmse:1.86777\n",
      "[22]\ttrain-rmse:2.25816\tval-rmse:2.36953\ttrain-clip-rmse:1.79419\tval-clip-rmse:1.86\n",
      "[23]\ttrain-rmse:2.23839\tval-rmse:2.35522\ttrain-clip-rmse:1.78073\tval-clip-rmse:1.84995\n",
      "[24]\ttrain-rmse:2.23665\tval-rmse:2.35403\ttrain-clip-rmse:1.77941\tval-clip-rmse:1.8493\n",
      "[25]\ttrain-rmse:2.23334\tval-rmse:2.35252\ttrain-clip-rmse:1.77705\tval-clip-rmse:1.84803\n",
      "[26]\ttrain-rmse:2.22943\tval-rmse:2.34953\ttrain-clip-rmse:1.77387\tval-clip-rmse:1.84558\n",
      "[27]\ttrain-rmse:2.22257\tval-rmse:2.34553\ttrain-clip-rmse:1.76943\tval-clip-rmse:1.84323\n",
      "[28]\ttrain-rmse:2.21086\tval-rmse:2.33511\ttrain-clip-rmse:1.76221\tval-clip-rmse:1.83712\n",
      "[29]\ttrain-rmse:2.19812\tval-rmse:2.32765\ttrain-clip-rmse:1.75558\tval-clip-rmse:1.83388\n",
      "[30]\ttrain-rmse:2.19624\tval-rmse:2.32691\ttrain-clip-rmse:1.75401\tval-clip-rmse:1.83319\n",
      "[31]\ttrain-rmse:2.19311\tval-rmse:2.32489\ttrain-clip-rmse:1.75167\tval-clip-rmse:1.83203\n",
      "[32]\ttrain-rmse:2.18891\tval-rmse:2.32174\ttrain-clip-rmse:1.74859\tval-clip-rmse:1.82975\n",
      "[33]\ttrain-rmse:2.18463\tval-rmse:2.31968\ttrain-clip-rmse:1.74533\tval-clip-rmse:1.82833\n",
      "[34]\ttrain-rmse:2.1828\tval-rmse:2.319\ttrain-clip-rmse:1.74371\tval-clip-rmse:1.82764\n",
      "[35]\ttrain-rmse:2.18044\tval-rmse:2.31805\ttrain-clip-rmse:1.74177\tval-clip-rmse:1.82693\n",
      "[36]\ttrain-rmse:2.16466\tval-rmse:2.3062\ttrain-clip-rmse:1.73274\tval-clip-rmse:1.82017\n",
      "[37]\ttrain-rmse:2.16232\tval-rmse:2.30516\ttrain-clip-rmse:1.73124\tval-clip-rmse:1.81947\n",
      "[38]\ttrain-rmse:2.16126\tval-rmse:2.30467\ttrain-clip-rmse:1.73033\tval-clip-rmse:1.81903\n",
      "[39]\ttrain-rmse:2.15854\tval-rmse:2.30381\ttrain-clip-rmse:1.72804\tval-clip-rmse:1.81831\n",
      "[40]\ttrain-rmse:2.15404\tval-rmse:2.30079\ttrain-clip-rmse:1.72494\tval-clip-rmse:1.8163\n",
      "[41]\ttrain-rmse:2.15267\tval-rmse:2.30051\ttrain-clip-rmse:1.7241\tval-clip-rmse:1.81608\n",
      "[42]\ttrain-rmse:2.13713\tval-rmse:2.28713\ttrain-clip-rmse:1.71593\tval-clip-rmse:1.8086\n",
      "[43]\ttrain-rmse:2.13293\tval-rmse:2.2839\ttrain-clip-rmse:1.71293\tval-clip-rmse:1.80662\n",
      "[44]\ttrain-rmse:2.13211\tval-rmse:2.28355\ttrain-clip-rmse:1.71232\tval-clip-rmse:1.80636\n",
      "[45]\ttrain-rmse:2.12992\tval-rmse:2.28302\ttrain-clip-rmse:1.7106\tval-clip-rmse:1.80588\n",
      "[46]\ttrain-rmse:2.12838\tval-rmse:2.28288\ttrain-clip-rmse:1.70939\tval-clip-rmse:1.80588\n",
      "[47]\ttrain-rmse:2.12706\tval-rmse:2.28251\ttrain-clip-rmse:1.70834\tval-clip-rmse:1.80546\n",
      "[48]\ttrain-rmse:2.12585\tval-rmse:2.28187\ttrain-clip-rmse:1.70735\tval-clip-rmse:1.80487\n",
      "[49]\ttrain-rmse:2.12416\tval-rmse:2.28123\ttrain-clip-rmse:1.70601\tval-clip-rmse:1.80447\n",
      "[50]\ttrain-rmse:2.11907\tval-rmse:2.27852\ttrain-clip-rmse:1.70246\tval-clip-rmse:1.80239\n",
      "[51]\ttrain-rmse:2.11863\tval-rmse:2.27853\ttrain-clip-rmse:1.70209\tval-clip-rmse:1.80235\n",
      "[52]\ttrain-rmse:2.11049\tval-rmse:2.27106\ttrain-clip-rmse:1.69718\tval-clip-rmse:1.79852\n",
      "[53]\ttrain-rmse:2.1074\tval-rmse:2.27048\ttrain-clip-rmse:1.6945\tval-clip-rmse:1.79816\n",
      "[54]\ttrain-rmse:2.10677\tval-rmse:2.27042\ttrain-clip-rmse:1.69404\tval-clip-rmse:1.79801\n",
      "[55]\ttrain-rmse:2.10275\tval-rmse:2.2684\ttrain-clip-rmse:1.69125\tval-clip-rmse:1.79677\n",
      "[56]\ttrain-rmse:2.10062\tval-rmse:2.26748\ttrain-clip-rmse:1.68952\tval-clip-rmse:1.79636\n",
      "[57]\ttrain-rmse:2.09194\tval-rmse:2.26017\ttrain-clip-rmse:1.68359\tval-clip-rmse:1.79136\n",
      "[58]\ttrain-rmse:2.09108\tval-rmse:2.26019\ttrain-clip-rmse:1.68312\tval-clip-rmse:1.79125\n",
      "[59]\ttrain-rmse:2.09002\tval-rmse:2.25996\ttrain-clip-rmse:1.6824\tval-clip-rmse:1.79103\n",
      "[60]\ttrain-rmse:2.08558\tval-rmse:2.25671\ttrain-clip-rmse:1.67829\tval-clip-rmse:1.78773\n",
      "[61]\ttrain-rmse:2.08424\tval-rmse:2.25695\ttrain-clip-rmse:1.67757\tval-clip-rmse:1.7875\n",
      "[62]\ttrain-rmse:2.08214\tval-rmse:2.25618\ttrain-clip-rmse:1.67595\tval-clip-rmse:1.78713\n",
      "[63]\ttrain-rmse:2.06102\tval-rmse:2.23862\ttrain-clip-rmse:1.6676\tval-clip-rmse:1.77963\n",
      "[64]\ttrain-rmse:2.05942\tval-rmse:2.23825\ttrain-clip-rmse:1.66632\tval-clip-rmse:1.77926\n",
      "[65]\ttrain-rmse:2.05708\tval-rmse:2.238\ttrain-clip-rmse:1.66447\tval-clip-rmse:1.77919\n",
      "[66]\ttrain-rmse:2.05589\tval-rmse:2.23752\ttrain-clip-rmse:1.66353\tval-clip-rmse:1.77883\n",
      "[67]\ttrain-rmse:2.05359\tval-rmse:2.23607\ttrain-clip-rmse:1.66173\tval-clip-rmse:1.77775\n",
      "[68]\ttrain-rmse:2.05211\tval-rmse:2.23559\ttrain-clip-rmse:1.66019\tval-clip-rmse:1.77726\n",
      "[69]\ttrain-rmse:2.05061\tval-rmse:2.23514\ttrain-clip-rmse:1.65884\tval-clip-rmse:1.77677\n",
      "[70]\ttrain-rmse:2.04807\tval-rmse:2.23458\ttrain-clip-rmse:1.65725\tval-clip-rmse:1.77646\n",
      "[71]\ttrain-rmse:2.0468\tval-rmse:2.23434\ttrain-clip-rmse:1.65612\tval-clip-rmse:1.77624\n",
      "[72]\ttrain-rmse:2.04085\tval-rmse:2.22925\ttrain-clip-rmse:1.6535\tval-clip-rmse:1.77438\n",
      "[73]\ttrain-rmse:2.0391\tval-rmse:2.2289\ttrain-clip-rmse:1.65199\tval-clip-rmse:1.77422\n",
      "[74]\ttrain-rmse:2.0369\tval-rmse:2.22734\ttrain-clip-rmse:1.65003\tval-clip-rmse:1.77266\n",
      "[75]\ttrain-rmse:2.03657\tval-rmse:2.2274\ttrain-clip-rmse:1.64986\tval-clip-rmse:1.7727\n",
      "[76]\ttrain-rmse:2.02967\tval-rmse:2.22146\ttrain-clip-rmse:1.64515\tval-clip-rmse:1.76881\n",
      "[77]\ttrain-rmse:2.02818\tval-rmse:2.221\ttrain-clip-rmse:1.64413\tval-clip-rmse:1.76873\n",
      "[78]\ttrain-rmse:2.02715\tval-rmse:2.22081\ttrain-clip-rmse:1.64318\tval-clip-rmse:1.76847\n",
      "[79]\ttrain-rmse:2.02647\tval-rmse:2.22074\ttrain-clip-rmse:1.64265\tval-clip-rmse:1.76838\n",
      "Repeat 0, split 1, val score = 1.768, running time = 1.878 min.\n",
      "[0]\ttrain-rmse:3.23063\tval-rmse:3.23734\ttrain-clip-rmse:2.51162\tval-clip-rmse:2.51708\n",
      "[1]\ttrain-rmse:2.92197\tval-rmse:2.93939\ttrain-clip-rmse:2.24291\tval-clip-rmse:2.25618\n",
      "[2]\ttrain-rmse:2.7501\tval-rmse:2.77913\ttrain-clip-rmse:2.11441\tval-clip-rmse:2.13373\n",
      "[3]\ttrain-rmse:2.64183\tval-rmse:2.67748\ttrain-clip-rmse:2.0398\tval-clip-rmse:2.06274\n",
      "[4]\ttrain-rmse:2.58148\tval-rmse:2.62398\ttrain-clip-rmse:2.00325\tval-clip-rmse:2.02957\n",
      "[5]\ttrain-rmse:2.54196\tval-rmse:2.59121\ttrain-clip-rmse:1.97867\tval-clip-rmse:2.00825\n",
      "[6]\ttrain-rmse:2.51676\tval-rmse:2.57032\ttrain-clip-rmse:1.96563\tval-clip-rmse:1.99765\n",
      "[7]\ttrain-rmse:2.49616\tval-rmse:2.5518\ttrain-clip-rmse:1.95248\tval-clip-rmse:1.98579\n",
      "[8]\ttrain-rmse:2.48106\tval-rmse:2.54169\ttrain-clip-rmse:1.9439\tval-clip-rmse:1.98076\n",
      "[9]\ttrain-rmse:2.45419\tval-rmse:2.52004\ttrain-clip-rmse:1.92661\tval-clip-rmse:1.96625\n",
      "[10]\ttrain-rmse:2.43866\tval-rmse:2.50824\ttrain-clip-rmse:1.91625\tval-clip-rmse:1.95785\n",
      "[11]\ttrain-rmse:2.42549\tval-rmse:2.4956\ttrain-clip-rmse:1.90804\tval-clip-rmse:1.95018\n",
      "[12]\ttrain-rmse:2.41526\tval-rmse:2.48877\ttrain-clip-rmse:1.90193\tval-clip-rmse:1.94623\n",
      "[13]\ttrain-rmse:2.40934\tval-rmse:2.48529\ttrain-clip-rmse:1.89774\tval-clip-rmse:1.94356\n",
      "[14]\ttrain-rmse:2.37129\tval-rmse:2.45292\ttrain-clip-rmse:1.87144\tval-clip-rmse:1.92055\n",
      "[15]\ttrain-rmse:2.36177\tval-rmse:2.44459\ttrain-clip-rmse:1.86484\tval-clip-rmse:1.91502\n",
      "[16]\ttrain-rmse:2.34979\tval-rmse:2.43636\ttrain-clip-rmse:1.85573\tval-clip-rmse:1.9087\n",
      "[17]\ttrain-rmse:2.34282\tval-rmse:2.43256\ttrain-clip-rmse:1.85064\tval-clip-rmse:1.90634\n",
      "[18]\ttrain-rmse:2.32785\tval-rmse:2.41966\ttrain-clip-rmse:1.84041\tval-clip-rmse:1.89759\n",
      "[19]\ttrain-rmse:2.30133\tval-rmse:2.3954\ttrain-clip-rmse:1.82191\tval-clip-rmse:1.88179\n",
      "[20]\ttrain-rmse:2.29439\tval-rmse:2.38986\ttrain-clip-rmse:1.81826\tval-clip-rmse:1.87953\n",
      "[21]\ttrain-rmse:2.28844\tval-rmse:2.38605\ttrain-clip-rmse:1.81425\tval-clip-rmse:1.87713\n",
      "[22]\ttrain-rmse:2.28407\tval-rmse:2.38254\ttrain-clip-rmse:1.81103\tval-clip-rmse:1.87453\n",
      "[23]\ttrain-rmse:2.26826\tval-rmse:2.36944\ttrain-clip-rmse:1.8004\tval-clip-rmse:1.86496\n",
      "[24]\ttrain-rmse:2.26413\tval-rmse:2.36768\ttrain-clip-rmse:1.79723\tval-clip-rmse:1.86343\n",
      "[25]\ttrain-rmse:2.25839\tval-rmse:2.36503\ttrain-clip-rmse:1.7933\tval-clip-rmse:1.86206\n",
      "[26]\ttrain-rmse:2.2523\tval-rmse:2.36099\ttrain-clip-rmse:1.78925\tval-clip-rmse:1.85951\n",
      "[27]\ttrain-rmse:2.23732\tval-rmse:2.3495\ttrain-clip-rmse:1.77936\tval-clip-rmse:1.85197\n"
     ]
    },
    {
     "ename": "KeyboardInterrupt",
     "evalue": "",
     "output_type": "error",
     "traceback": [
      "\u001b[1;31m---------------------------------------------------------------------------\u001b[0m",
      "\u001b[1;31mKeyboardInterrupt\u001b[0m                         Traceback (most recent call last)",
      "\u001b[1;32m<ipython-input-49-7bfb9c221eee>\u001b[0m in \u001b[0;36m<module>\u001b[1;34m()\u001b[0m\n\u001b[0;32m     16\u001b[0m \u001b[0mn_repetition\u001b[0m \u001b[1;33m=\u001b[0m \u001b[1;36m1\u001b[0m\u001b[1;33m\u001b[0m\u001b[0m\n\u001b[0;32m     17\u001b[0m \u001b[1;33m\u001b[0m\u001b[0m\n\u001b[1;32m---> 18\u001b[1;33m \u001b[0mdf\u001b[0m\u001b[1;33m,\u001b[0m \u001b[0mclf\u001b[0m\u001b[1;33m,\u001b[0m \u001b[0mrunning_time\u001b[0m \u001b[1;33m=\u001b[0m \u001b[0mcv\u001b[0m\u001b[1;33m(\u001b[0m\u001b[0mx_train\u001b[0m\u001b[1;33m,\u001b[0m \u001b[0my_train\u001b[0m\u001b[1;33m,\u001b[0m \u001b[0mparam\u001b[0m\u001b[1;33m,\u001b[0m \u001b[0mn_repetition\u001b[0m\u001b[1;33m,\u001b[0m \u001b[0mn_split\u001b[0m\u001b[1;33m,\u001b[0m \u001b[0mn_tree\u001b[0m\u001b[1;33m,\u001b[0m \u001b[0mverbose\u001b[0m\u001b[1;33m,\u001b[0m \u001b[1;36m42\u001b[0m\u001b[1;33m)\u001b[0m\u001b[1;33m\u001b[0m\u001b[0m\n\u001b[0m",
      "\u001b[1;32m<ipython-input-4-0c6e987cd55f>\u001b[0m in \u001b[0;36mcv\u001b[1;34m(x_train, y_train, param, n_repetition, n_split, n_tree, verbose, random_state)\u001b[0m\n\u001b[0;32m     27\u001b[0m                                   \u001b[0mevals\u001b[0m\u001b[1;33m=\u001b[0m\u001b[1;33m[\u001b[0m\u001b[1;33m(\u001b[0m\u001b[0mdtrain\u001b[0m\u001b[1;33m,\u001b[0m \u001b[1;34m'train'\u001b[0m\u001b[1;33m)\u001b[0m\u001b[1;33m,\u001b[0m \u001b[1;33m(\u001b[0m\u001b[0mdval\u001b[0m\u001b[1;33m,\u001b[0m \u001b[1;34m'val'\u001b[0m\u001b[1;33m)\u001b[0m\u001b[1;33m]\u001b[0m\u001b[1;33m,\u001b[0m\u001b[1;33m\u001b[0m\u001b[0m\n\u001b[0;32m     28\u001b[0m                                   \u001b[0mfeval\u001b[0m\u001b[1;33m=\u001b[0m\u001b[0mclip_rmse\u001b[0m\u001b[1;33m,\u001b[0m \u001b[0mmaximize\u001b[0m\u001b[1;33m=\u001b[0m\u001b[1;32mFalse\u001b[0m\u001b[1;33m,\u001b[0m \u001b[0mearly_stopping_rounds\u001b[0m\u001b[1;33m=\u001b[0m\u001b[1;32mNone\u001b[0m\u001b[1;33m,\u001b[0m\u001b[1;33m\u001b[0m\u001b[0m\n\u001b[1;32m---> 29\u001b[1;33m                                   evals_result=cv_results[m, n], verbose_eval=verbose)\n\u001b[0m\u001b[0;32m     30\u001b[0m \u001b[1;33m\u001b[0m\u001b[0m\n\u001b[0;32m     31\u001b[0m             \u001b[0mrunning_time\u001b[0m\u001b[1;33m[\u001b[0m\u001b[0mm\u001b[0m\u001b[1;33m,\u001b[0m \u001b[0mn\u001b[0m\u001b[1;33m]\u001b[0m \u001b[1;33m=\u001b[0m \u001b[0mtime\u001b[0m\u001b[1;33m.\u001b[0m\u001b[0mtime\u001b[0m\u001b[1;33m(\u001b[0m\u001b[1;33m)\u001b[0m \u001b[1;33m-\u001b[0m \u001b[0mstart_time\u001b[0m\u001b[1;33m\u001b[0m\u001b[0m\n",
      "\u001b[1;32m~\\AppData\\Local\\Continuum\\anaconda3\\lib\\site-packages\\xgboost\\training.py\u001b[0m in \u001b[0;36mtrain\u001b[1;34m(params, dtrain, num_boost_round, evals, obj, feval, maximize, early_stopping_rounds, evals_result, verbose_eval, xgb_model, callbacks, learning_rates)\u001b[0m\n\u001b[0;32m    202\u001b[0m                            \u001b[0mevals\u001b[0m\u001b[1;33m=\u001b[0m\u001b[0mevals\u001b[0m\u001b[1;33m,\u001b[0m\u001b[1;33m\u001b[0m\u001b[0m\n\u001b[0;32m    203\u001b[0m                            \u001b[0mobj\u001b[0m\u001b[1;33m=\u001b[0m\u001b[0mobj\u001b[0m\u001b[1;33m,\u001b[0m \u001b[0mfeval\u001b[0m\u001b[1;33m=\u001b[0m\u001b[0mfeval\u001b[0m\u001b[1;33m,\u001b[0m\u001b[1;33m\u001b[0m\u001b[0m\n\u001b[1;32m--> 204\u001b[1;33m                            xgb_model=xgb_model, callbacks=callbacks)\n\u001b[0m\u001b[0;32m    205\u001b[0m \u001b[1;33m\u001b[0m\u001b[0m\n\u001b[0;32m    206\u001b[0m \u001b[1;33m\u001b[0m\u001b[0m\n",
      "\u001b[1;32m~\\AppData\\Local\\Continuum\\anaconda3\\lib\\site-packages\\xgboost\\training.py\u001b[0m in \u001b[0;36m_train_internal\u001b[1;34m(params, dtrain, num_boost_round, evals, obj, feval, xgb_model, callbacks)\u001b[0m\n\u001b[0;32m     72\u001b[0m         \u001b[1;31m# Skip the first update if it is a recovery step.\u001b[0m\u001b[1;33m\u001b[0m\u001b[1;33m\u001b[0m\u001b[0m\n\u001b[0;32m     73\u001b[0m         \u001b[1;32mif\u001b[0m \u001b[0mversion\u001b[0m \u001b[1;33m%\u001b[0m \u001b[1;36m2\u001b[0m \u001b[1;33m==\u001b[0m \u001b[1;36m0\u001b[0m\u001b[1;33m:\u001b[0m\u001b[1;33m\u001b[0m\u001b[0m\n\u001b[1;32m---> 74\u001b[1;33m             \u001b[0mbst\u001b[0m\u001b[1;33m.\u001b[0m\u001b[0mupdate\u001b[0m\u001b[1;33m(\u001b[0m\u001b[0mdtrain\u001b[0m\u001b[1;33m,\u001b[0m \u001b[0mi\u001b[0m\u001b[1;33m,\u001b[0m \u001b[0mobj\u001b[0m\u001b[1;33m)\u001b[0m\u001b[1;33m\u001b[0m\u001b[0m\n\u001b[0m\u001b[0;32m     75\u001b[0m             \u001b[0mbst\u001b[0m\u001b[1;33m.\u001b[0m\u001b[0msave_rabit_checkpoint\u001b[0m\u001b[1;33m(\u001b[0m\u001b[1;33m)\u001b[0m\u001b[1;33m\u001b[0m\u001b[0m\n\u001b[0;32m     76\u001b[0m             \u001b[0mversion\u001b[0m \u001b[1;33m+=\u001b[0m \u001b[1;36m1\u001b[0m\u001b[1;33m\u001b[0m\u001b[0m\n",
      "\u001b[1;32m~\\AppData\\Local\\Continuum\\anaconda3\\lib\\site-packages\\xgboost\\core.py\u001b[0m in \u001b[0;36mupdate\u001b[1;34m(self, dtrain, iteration, fobj)\u001b[0m\n\u001b[0;32m   1019\u001b[0m         \u001b[1;32mif\u001b[0m \u001b[0mfobj\u001b[0m \u001b[1;32mis\u001b[0m \u001b[1;32mNone\u001b[0m\u001b[1;33m:\u001b[0m\u001b[1;33m\u001b[0m\u001b[0m\n\u001b[0;32m   1020\u001b[0m             _check_call(_LIB.XGBoosterUpdateOneIter(self.handle, ctypes.c_int(iteration),\n\u001b[1;32m-> 1021\u001b[1;33m                                                     dtrain.handle))\n\u001b[0m\u001b[0;32m   1022\u001b[0m         \u001b[1;32melse\u001b[0m\u001b[1;33m:\u001b[0m\u001b[1;33m\u001b[0m\u001b[0m\n\u001b[0;32m   1023\u001b[0m             \u001b[0mpred\u001b[0m \u001b[1;33m=\u001b[0m \u001b[0mself\u001b[0m\u001b[1;33m.\u001b[0m\u001b[0mpredict\u001b[0m\u001b[1;33m(\u001b[0m\u001b[0mdtrain\u001b[0m\u001b[1;33m)\u001b[0m\u001b[1;33m\u001b[0m\u001b[0m\n",
      "\u001b[1;31mKeyboardInterrupt\u001b[0m: "
     ]
    }
   ],
   "source": [
    "param = {'max_depth':8, \n",
    "         'subsample':0.8,\n",
    "         'min_child_weight':5,\n",
    "         'eta':0.3, \n",
    "         'lambda':2,\n",
    "         'colsample_bytree':0.8,\n",
    "         'seed':1,\n",
    "         'silent':1,\n",
    "         'maximize': False,\n",
    "         'nthread':8}\n",
    "\n",
    "n_tree = 80\n",
    "verbose = True\n",
    "\n",
    "n_split = 3\n",
    "n_repetition = 1\n",
    "\n",
    "df, clf, running_time = cv(x_train, y_train, param, n_repetition, n_split, n_tree, verbose, 42)"
   ]
  },
  {
   "cell_type": "code",
   "execution_count": 55,
   "metadata": {},
   "outputs": [],
   "source": [
    "a = {k: clf[0, 0].get_score(importance_type='gain') for k in clf.keys()}"
   ]
  },
  {
   "cell_type": "code",
   "execution_count": 56,
   "metadata": {},
   "outputs": [],
   "source": [
    "b = pd.DataFrame(a)"
   ]
  },
  {
   "cell_type": "code",
   "execution_count": 57,
   "metadata": {},
   "outputs": [],
   "source": [
    "b.columns = list(range(n_split))"
   ]
  },
  {
   "cell_type": "code",
   "execution_count": 58,
   "metadata": {},
   "outputs": [],
   "source": [
    "c = b.mean(axis=1).sort_values(ascending=False)"
   ]
  },
  {
   "cell_type": "code",
   "execution_count": 59,
   "metadata": {},
   "outputs": [],
   "source": [
    "d = c.head(50).index.tolist()\n",
    "e = []\n",
    "f = []\n",
    "for n in d:\n",
    "    if len(n.split('_'))>=2 and n.split('_')[-2] == 'lag':\n",
    "        e.append('_'.join(n.split('_')[:-2]))\n",
    "        f.append(int(n.split('_')[-1]))\n",
    "        \n",
    "e = set(e)\n",
    "f = set(f)"
   ]
  },
  {
   "cell_type": "code",
   "execution_count": 60,
   "metadata": {},
   "outputs": [
    {
     "data": {
      "text/plain": [
       "{'cnt_mean_cat1_cat2',\n",
       " 'cnt_mean_cat1_shop',\n",
       " 'cnt_mean_cat1_type',\n",
       " 'cnt_mean_cat2_type',\n",
       " 'cnt_mean_item_city',\n",
       " 'cnt_sum_month',\n",
       " 'price_mean_cat1_cat2',\n",
       " 'price_mean_cat1_type',\n",
       " 'price_mean_item_city',\n",
       " 'price_mean_month',\n",
       " 'rev_mean_cat1_cat2',\n",
       " 'rev_mean_cat1_city',\n",
       " 'rev_mean_cat1_type',\n",
       " 'rev_mean_cat2_type',\n",
       " 'rev_mean_item_city',\n",
       " 'rev_mean_item_type',\n",
       " 'rev_sum_month',\n",
       " 'shop_count_cat1_cat2'}"
      ]
     },
     "execution_count": 60,
     "metadata": {},
     "output_type": "execute_result"
    }
   ],
   "source": [
    "e"
   ]
  },
  {
   "cell_type": "code",
   "execution_count": 61,
   "metadata": {},
   "outputs": [
    {
     "data": {
      "text/plain": [
       "{1, 2, 3, 4, 5, 6}"
      ]
     },
     "execution_count": 61,
     "metadata": {},
     "output_type": "execute_result"
    }
   ],
   "source": [
    "f"
   ]
  },
  {
   "cell_type": "code",
   "execution_count": 62,
   "metadata": {},
   "outputs": [
    {
     "data": {
      "text/plain": [
       "260"
      ]
     },
     "execution_count": 62,
     "metadata": {},
     "output_type": "execute_result"
    }
   ],
   "source": [
    "26*10"
   ]
  },
  {
   "cell_type": "code",
   "execution_count": 64,
   "metadata": {},
   "outputs": [],
   "source": [
    "b.to_csv('eda_11_5_feature_importance.csv')"
   ]
  }
 ],
 "metadata": {
  "kernelspec": {
   "display_name": "Python 3",
   "language": "python",
   "name": "python3"
  },
  "language_info": {
   "codemirror_mode": {
    "name": "ipython",
    "version": 3
   },
   "file_extension": ".py",
   "mimetype": "text/x-python",
   "name": "python",
   "nbconvert_exporter": "python",
   "pygments_lexer": "ipython3",
   "version": "3.6.5"
  }
 },
 "nbformat": 4,
 "nbformat_minor": 2
}
