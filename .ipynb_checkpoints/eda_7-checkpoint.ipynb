{
 "cells": [
  {
   "cell_type": "code",
   "execution_count": 1,
   "metadata": {},
   "outputs": [],
   "source": [
    "import numpy as np\n",
    "import pandas as pd\n",
    "import matplotlib.pyplot as plt\n",
    "import os\n",
    "import gc\n",
    "import sys\n",
    "import time\n",
    "\n",
    "from sklearn.preprocessing import LabelEncoder\n",
    "import scipy.stats as ss\n",
    "\n",
    "if os.name=='nt':\n",
    "    try:\n",
    "        mingw_path = 'C:\\\\Program Files\\\\mingw-w64\\\\x86_64-8.1.0-posix-seh-rt_v6-rev0\\\\mingw64\\\\bin'\n",
    "        os.environ['PATH'] = mingw_path + ';' + os.environ['PATH']\n",
    "    except:\n",
    "        pass\n",
    "    \n",
    "import xgboost as xgb\n",
    "from sklearn.metrics import mean_squared_error \n",
    "from numba import jit\n",
    "\n",
    "%matplotlib inline"
   ]
  },
  {
   "cell_type": "code",
   "execution_count": 2,
   "metadata": {},
   "outputs": [],
   "source": [
    "# Load data\n",
    "train = pd.read_csv('all/sales_train.csv.gz')\n",
    "test = pd.read_csv('all/test.csv.gz')\n",
    "shop = pd.read_csv('all/shops-translated.csv')\n",
    "item = pd.read_csv('all/item_category.csv')\n",
    "\n",
    "test.set_index('ID', inplace=True)\n",
    "item.drop(['item_name_translated'], axis=1, inplace=True)\n",
    "shop.drop(['Name'], axis=1, inplace=True)\n",
    "\n",
    "le = LabelEncoder()\n",
    "item['item_cat1'] = le.fit_transform(item['item_cat1'].astype(str))\n",
    "item['item_cat2'] = le.fit_transform(item['item_cat2'].astype(str))\n",
    "shop['City'] = le.fit_transform(shop['City'])\n",
    "shop['Type'] = le.fit_transform(shop['Type'])"
   ]
  },
  {
   "cell_type": "code",
   "execution_count": 3,
   "metadata": {},
   "outputs": [],
   "source": [
    "p_df = train.pivot_table(index=['shop_id', 'item_id'],\n",
    "                        columns=['date_block_num'],\n",
    "                        values='item_cnt_day',\n",
    "                        aggfunc='sum').fillna(0.0)"
   ]
  },
  {
   "cell_type": "code",
   "execution_count": 5,
   "metadata": {},
   "outputs": [],
   "source": [
    "u = test.join(p_df, on=['shop_id', 'item_id']).fillna(0.0)"
   ]
  },
  {
   "cell_type": "code",
   "execution_count": 7,
   "metadata": {},
   "outputs": [],
   "source": [
    "u = test.join(p_df, on=['shop_id', 'item_id']).fillna(0.0)\n",
    "\n",
    "cols = ['m{}'.format(n) if isinstance(n, (int)) else n for n in u.columns ]\n",
    "\n",
    "u.columns = cols\n",
    "\n",
    "u['m34'] = np.zeros(u.shape[0])\n",
    "\n",
    "u = u.merge(item, how='left', on='item_id')\n",
    "u = u.merge(shop, how='left', on='shop_id')\n",
    "\n",
    "le = LabelEncoder()\n",
    "u['item_cat1'] = le.fit_transform(u['item_cat1'])\n",
    "u['item_cat2'] = le.fit_transform(u['item_cat2'].astype(str))\n",
    "u['City'] = le.fit_transform(u['City'])\n",
    "u['Type'] = le.fit_transform(u['Type'])\n",
    "\n",
    "cols = u.columns.tolist()\n",
    "cols.append('shop_id')\n",
    "cols.append('item_id')\n",
    "del cols[0]\n",
    "del cols[0]\n",
    "\n",
    "u = u[cols]"
   ]
  },
  {
   "cell_type": "code",
   "execution_count": 9,
   "metadata": {},
   "outputs": [],
   "source": [
    "def clip_rmse(preds, dtrain):\n",
    "    y_test = np.array(dtrain.get_label())\n",
    "    preds = np.array(preds)\n",
    "    y_test = np.maximum(np.minimum(y_test, 20), 0)\n",
    "    preds = np.maximum(np.minimum(preds, 20), 0)\n",
    "    #preds = np.array(list(map(lambda x: min(20, max(x, 0)), list(preds))))\n",
    "    #y_test = np.array(list(map(lambda x: min(20, max(x, 0)), list(y_test))))\n",
    "    rmse = np.sqrt(mean_squared_error(preds,y_test))\n",
    "    return 'clip-rmse', rmse"
   ]
  },
  {
   "cell_type": "code",
   "execution_count": 14,
   "metadata": {},
   "outputs": [
    {
     "name": "stdout",
     "output_type": "stream",
     "text": [
      "[0]\ttrain-rmse:1.9713\ttest-rmse:5.33783\ttrain-clip-rmse:0.892926\ttest-clip-rmse:0.988394\n",
      "[1]\ttrain-rmse:1.60052\ttest-rmse:5.20713\ttrain-clip-rmse:0.763827\ttest-clip-rmse:0.95125\n",
      "[2]\ttrain-rmse:1.32934\ttest-rmse:5.12443\ttrain-clip-rmse:0.685277\ttest-clip-rmse:0.941122\n",
      "[3]\ttrain-rmse:1.13885\ttest-rmse:5.08667\ttrain-clip-rmse:0.639915\ttest-clip-rmse:0.940351\n",
      "[4]\ttrain-rmse:1.00216\ttest-rmse:5.07324\ttrain-clip-rmse:0.609118\ttest-clip-rmse:0.945908\n",
      "5.07324344637134\n"
     ]
    }
   ],
   "source": [
    "m = 33 # for CV, m<=33\n",
    "p = 32 # p<=m-1\n",
    "\n",
    "col_x_train = ['m{}'.format(n) for n in list(np.arange(m-p-1, m-1))]\n",
    "col_x_train.extend(['item_cat1', 'item_cat2', 'City', \n",
    "                    'Type', 'shop_id', 'item_id'])\n",
    "\n",
    "col_x_test = ['m{}'.format(n) for n in list(np.arange(m-p, m))] \n",
    "col_x_test.extend(['item_cat1', 'item_cat2', 'City', 'Type', 'shop_id', 'item_id'])\n",
    "\n",
    "x_train = u[col_x_train].values\n",
    "y_train = u.loc[:, 'm{}'.format(m-1)].values\n",
    "x_test = u[col_x_test].values\n",
    "y_test = u.loc[:, 'm{}'.format(m)].values\n",
    "\n",
    "param = {'max_depth':14, \n",
    "         'subsample':1,\n",
    "         'min_child_weight':0.5,\n",
    "         'eta':0.3, \n",
    "         'seed':1,\n",
    "         'silent':1,\n",
    "         'eval_metric':'rmse',\n",
    "         'maximize': False}\n",
    "\n",
    "progress = dict()\n",
    "dtrain = xgb.DMatrix(x_train, y_train)\n",
    "dtest = xgb.DMatrix(x_test, y_test)\n",
    "watchlist  = [(dtrain,'train'), (dtest, 'test')]\n",
    "\n",
    "bst = xgb.train(param, dtrain, evals=watchlist,\n",
    "               evals_result=progress,\n",
    "               verbose_eval=True,\n",
    "               num_boost_round=5,\n",
    "               feval=clip_rmse)\n",
    "\n",
    "preds = bst.predict(xgb.DMatrix(x_test))\n",
    "rmse = np.sqrt(mean_squared_error(preds,y_test))\n",
    "print(rmse)"
   ]
  },
  {
   "cell_type": "code",
   "execution_count": 16,
   "metadata": {},
   "outputs": [
    {
     "data": {
      "text/plain": [
       "[<matplotlib.lines.Line2D at 0x1bd9d936278>]"
      ]
     },
     "execution_count": 16,
     "metadata": {},
     "output_type": "execute_result"
    },
    {
     "data": {
      "image/png": "[encoded data removed]",
      "text/plain": [
       "<Figure size 432x288 with 1 Axes>"
      ]
     },
     "metadata": {},
     "output_type": "display_data"
    }
   ],
   "source": [
    "plt.plot(u['m33'])\n",
    "plt.plot(u['m32'])"
   ]
  },
  {
   "cell_type": "code",
   "execution_count": 17,
   "metadata": {},
   "outputs": [],
   "source": [
    "preds = list(map(lambda x: min(20, max(x, 0)), list(preds)))\n",
    "sub_df = pd.DataFrame({'ID': u.index, 'item_cnt_month':preds})\n",
    "sub_df.to_csv('eda_7.csv', index=False)"
   ]
  }
 ],
 "metadata": {
  "kernelspec": {
   "display_name": "Python 3",
   "language": "python",
   "name": "python3"
  },
  "language_info": {
   "codemirror_mode": {
    "name": "ipython",
    "version": 3
   },
   "file_extension": ".py",
   "mimetype": "text/x-python",
   "name": "python",
   "nbconvert_exporter": "python",
   "pygments_lexer": "ipython3",
   "version": "3.6.5"
  }
 },
 "nbformat": 4,
 "nbformat_minor": 2
}
