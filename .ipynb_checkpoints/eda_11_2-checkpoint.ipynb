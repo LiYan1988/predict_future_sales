{
 "cells": [
  {
   "cell_type": "code",
   "execution_count": 1,
   "metadata": {},
   "outputs": [],
   "source": [
    "import numpy as np\n",
    "import pandas as pd\n",
    "import matplotlib.pyplot as plt\n",
    "import os\n",
    "import gc\n",
    "import sys\n",
    "import time\n",
    "import gc\n",
    "import itertools\n",
    "import tqdm\n",
    "import time\n",
    "\n",
    "from sklearn.preprocessing import LabelEncoder\n",
    "import scipy.stats as ss\n",
    "\n",
    "if os.name=='nt':\n",
    "    try:\n",
    "        mingw_path = 'C:\\\\Program Files\\\\mingw-w64\\\\x86_64-8.1.0-posix-seh-rt_v6-rev0\\\\mingw64\\\\bin'\n",
    "        os.environ['PATH'] = mingw_path + ';' + os.environ['PATH']\n",
    "    except:\n",
    "        pass\n",
    "    \n",
    "import xgboost as xgb\n",
    "from sklearn.metrics import mean_squared_error \n",
    "from numba import jit\n",
    "\n",
    "%matplotlib inline"
   ]
  },
  {
   "cell_type": "code",
   "execution_count": 2,
   "metadata": {},
   "outputs": [],
   "source": [
    "# Load data\n",
    "train = pd.read_csv('all/sales_train.csv.gz')\n",
    "test = pd.read_csv('all/test.csv.gz')\n",
    "shop = pd.read_csv('all/shops-translated.csv')\n",
    "item = pd.read_csv('all/item_category.csv')\n",
    "\n",
    "test.set_index('ID', inplace=True)\n",
    "item.drop(['item_name_translated'], axis=1, inplace=True)\n",
    "shop.drop(['Name'], axis=1, inplace=True)\n",
    "\n",
    "le = LabelEncoder()\n",
    "item['item_cat1'] = le.fit_transform(item['item_cat1'].astype(str))\n",
    "item['item_cat2'] = le.fit_transform(item['item_cat2'].astype(str))\n",
    "shop['City'] = le.fit_transform(shop['City'])\n",
    "shop['Type'] = le.fit_transform(shop['Type'])\n",
    "\n",
    "# test = test.merge(item, on='item_id', how='left')\n",
    "# test = test.merge(shop, on='shop_id', how='left')"
   ]
  },
  {
   "cell_type": "code",
   "execution_count": 3,
   "metadata": {},
   "outputs": [],
   "source": [
    "# count of sales per month\n",
    "cnt = train.pivot_table(index=['shop_id', 'item_id'],\n",
    "                        columns=['date_block_num'],\n",
    "                        values='item_cnt_day',\n",
    "                        aggfunc='sum').fillna(0.0)\n",
    "\n",
    "cnt = test.join(cnt, on=['shop_id', 'item_id'], how='left').fillna(0.0)\n",
    "cnt.drop(['shop_id', 'item_id'], axis=1, inplace=True)\n",
    "cnt.columns = ['cnt_'+str(k) for k in cnt.columns]"
   ]
  },
  {
   "cell_type": "code",
   "execution_count": 4,
   "metadata": {},
   "outputs": [],
   "source": [
    "# total value of sales per month\n",
    "train['sales'] = train['item_cnt_day']*train['item_price']\n",
    "sales = train.pivot_table(index=['shop_id', 'item_id'],\n",
    "                         columns='date_block_num',\n",
    "                         values='sales',\n",
    "                         aggfunc=np.sum).fillna(0.0)\n",
    "\n",
    "sales = test.join(sales, on=['shop_id', 'item_id'], how='left').fillna(0.0)\n",
    "sales.drop(['shop_id', 'item_id'], axis=1, inplace=True)\n",
    "sales.columns = ['sales_'+str(k) for k in sales.columns]"
   ]
  },
  {
   "cell_type": "code",
   "execution_count": 5,
   "metadata": {},
   "outputs": [],
   "source": [
    "test_shop_item = test.merge(shop, on=['shop_id'], how='left')\n",
    "test_shop_item = test_shop_item.merge(item, on=['item_id'], how='left')"
   ]
  },
  {
   "cell_type": "markdown",
   "metadata": {},
   "source": [
    "### Mean Encoding"
   ]
  },
  {
   "cell_type": "code",
   "execution_count": 6,
   "metadata": {},
   "outputs": [],
   "source": [
    "# Apply pivot table with combinations of the following parameters\n",
    "index_list = ['item_id', 'shop_id', 'City', 'Type', 'item_cat1', 'item_cat2']\n",
    "column_list = ['date_block_num']\n",
    "value_list = ['item_price', 'item_cnt_day', 'sales'] # ['item_price', 'item_cnt_day', 'sales']\n",
    "\n",
    "quantile_low = lambda x: np.quantile(x, 0.25)\n",
    "quantile_high = lambda x: np.quantile(x, 0.75)\n",
    "#aggfunc_list = [('sum', np.sum), ('mean', np.mean), ('std', np.std), \n",
    "#                ('median', np.median), ('ql', quantile_low), ('qh', quantile_high)]\n",
    "aggfunc_list = [('sum', np.sum), ('mean', np.mean), ('std', np.std), ('median', np.median)]"
   ]
  },
  {
   "cell_type": "code",
   "execution_count": 7,
   "metadata": {},
   "outputs": [],
   "source": [
    "x = train.merge(shop, on='shop_id', how='left')\n",
    "x = x.merge(item, on='item_id', how='left')"
   ]
  },
  {
   "cell_type": "code",
   "execution_count": 8,
   "metadata": {},
   "outputs": [],
   "source": [
    "cols_drop = ['shop_id', 'item_id', 'City', 'Type', 'item_cat1', 'item_cat2']"
   ]
  },
  {
   "cell_type": "code",
   "execution_count": 9,
   "metadata": {},
   "outputs": [
    {
     "data": {
      "application/vnd.jupyter.widget-view+json": {
       "model_id": "d1c246cf5b5644c2940e4ad35373ad75",
       "version_major": 2,
       "version_minor": 0
      },
      "text/plain": [
       "HBox(children=(IntProgress(value=0, max=72), HTML(value='')))"
      ]
     },
     "metadata": {},
     "output_type": "display_data"
    },
    {
     "name": "stdout",
     "output_type": "stream",
     "text": [
      "\n"
     ]
    }
   ],
   "source": [
    "feature_dict2 = {}\n",
    "for idx, col, val, agf in tqdm.tqdm_notebook(list(itertools.product(index_list, column_list, value_list, aggfunc_list))):\n",
    "    tmp = x.pivot_table(index=idx, columns=col, values=val, aggfunc=agf[1]).fillna(0.0)\n",
    "    tmp_name = '-'.join([idx, val, agf[0]])\n",
    "    tmp.columns = [tmp_name+'_'+str(k) for k in tmp.columns]\n",
    "    tmp = test_shop_item.merge(tmp, on=idx, how='left').fillna(0.0)\n",
    "    tmp.drop(cols_drop, axis=1, inplace=True)\n",
    "    feature_dict2[tmp_name] = tmp"
   ]
  },
  {
   "cell_type": "code",
   "execution_count": 10,
   "metadata": {},
   "outputs": [
    {
     "data": {
      "text/plain": [
       "dict_keys(['item_id-item_price-sum', 'item_id-item_price-mean', 'item_id-item_price-std', 'item_id-item_price-median', 'item_id-item_cnt_day-sum', 'item_id-item_cnt_day-mean', 'item_id-item_cnt_day-std', 'item_id-item_cnt_day-median', 'item_id-sales-sum', 'item_id-sales-mean', 'item_id-sales-std', 'item_id-sales-median', 'shop_id-item_price-sum', 'shop_id-item_price-mean', 'shop_id-item_price-std', 'shop_id-item_price-median', 'shop_id-item_cnt_day-sum', 'shop_id-item_cnt_day-mean', 'shop_id-item_cnt_day-std', 'shop_id-item_cnt_day-median', 'shop_id-sales-sum', 'shop_id-sales-mean', 'shop_id-sales-std', 'shop_id-sales-median', 'City-item_price-sum', 'City-item_price-mean', 'City-item_price-std', 'City-item_price-median', 'City-item_cnt_day-sum', 'City-item_cnt_day-mean', 'City-item_cnt_day-std', 'City-item_cnt_day-median', 'City-sales-sum', 'City-sales-mean', 'City-sales-std', 'City-sales-median', 'Type-item_price-sum', 'Type-item_price-mean', 'Type-item_price-std', 'Type-item_price-median', 'Type-item_cnt_day-sum', 'Type-item_cnt_day-mean', 'Type-item_cnt_day-std', 'Type-item_cnt_day-median', 'Type-sales-sum', 'Type-sales-mean', 'Type-sales-std', 'Type-sales-median', 'item_cat1-item_price-sum', 'item_cat1-item_price-mean', 'item_cat1-item_price-std', 'item_cat1-item_price-median', 'item_cat1-item_cnt_day-sum', 'item_cat1-item_cnt_day-mean', 'item_cat1-item_cnt_day-std', 'item_cat1-item_cnt_day-median', 'item_cat1-sales-sum', 'item_cat1-sales-mean', 'item_cat1-sales-std', 'item_cat1-sales-median', 'item_cat2-item_price-sum', 'item_cat2-item_price-mean', 'item_cat2-item_price-std', 'item_cat2-item_price-median', 'item_cat2-item_cnt_day-sum', 'item_cat2-item_cnt_day-mean', 'item_cat2-item_cnt_day-std', 'item_cat2-item_cnt_day-median', 'item_cat2-sales-sum', 'item_cat2-sales-mean', 'item_cat2-sales-std', 'item_cat2-sales-median'])"
      ]
     },
     "execution_count": 10,
     "metadata": {},
     "output_type": "execute_result"
    }
   ],
   "source": [
    "feature_dict2.keys()"
   ]
  },
  {
   "cell_type": "markdown",
   "metadata": {},
   "source": [
    "### CV"
   ]
  },
  {
   "cell_type": "markdown",
   "metadata": {},
   "source": [
    "#### Prepare data for CV"
   ]
  },
  {
   "cell_type": "markdown",
   "metadata": {},
   "source": [
    "#### Functions for CV and ensemble"
   ]
  },
  {
   "cell_type": "code",
   "execution_count": 24,
   "metadata": {},
   "outputs": [],
   "source": [
    "def clip_rmse(preds, dtrain):\n",
    "    y_test = np.array(dtrain.get_label())\n",
    "    preds = np.array(preds)\n",
    "    y_test = np.maximum(np.minimum(y_test, 20), 0)\n",
    "    preds = np.maximum(np.minimum(preds, 20), 0)\n",
    "    #preds = np.array(list(map(lambda x: min(20, max(x, 0)), list(preds))))\n",
    "    #y_test = np.array(list(map(lambda x: min(20, max(x, 0)), list(y_test))))\n",
    "    rmse = np.sqrt(mean_squared_error(preds,y_test))\n",
    "    return 'clip-rmse', rmse"
   ]
  },
  {
   "cell_type": "code",
   "execution_count": 25,
   "metadata": {},
   "outputs": [],
   "source": [
    "def cv_predict(param, n_tree, x_train, y_train, month_in_cv, sub_name, verbose=False):\n",
    "    '''CV and predict'''\n",
    "    progress = dict()\n",
    "    bst_cv = dict()\n",
    "    \n",
    "    for m in month_in_cv:\n",
    "        if m<month_in_cv[-2]:\n",
    "            # CV \n",
    "            print('CV of month {} is started.'.format(m))\n",
    "            time_start = time.time()\n",
    "            progress[m] = {}\n",
    "            dtrain = xgb.DMatrix(x_train[m], y_train[m], nthread=-1)\n",
    "            dval = xgb.DMatrix(x_train[m+1], y_train[m+1], nthread=-1)\n",
    "            watchlist = [(dtrain, 'train'), (dval, 'val')]\n",
    "\n",
    "            bst_cv[m] = xgb.train(param, \n",
    "                            dtrain, \n",
    "                            evals=watchlist,\n",
    "                            evals_result=progress[m], \n",
    "                            verbose_eval=verbose,\n",
    "                            num_boost_round=n_tree,\n",
    "                            feval=clip_rmse)\n",
    "\n",
    "            time_end = time.time()\n",
    "\n",
    "            print('CV of month {} is finished, uses {:.2f} sec, clip-rmse on val {:.2f}\\n'.format(m, \n",
    "                time_end-time_start, progress[m]['val']['clip-rmse'][-1]))\n",
    "            \n",
    "        elif m==month_in_cv[-2]:\n",
    "            # Train the last cv model for prediction\n",
    "            print('Training of month {} is started.'.format(m))\n",
    "            time_start = time.time()\n",
    "            dtrain = xgb.DMatrix(x_train[m], y_train[m], nthread=-1)\n",
    "            watchlist = [(dtrain, 'train')]\n",
    "\n",
    "            bst_cv[m] = xgb.train(param, \n",
    "                            dtrain, \n",
    "                            evals=watchlist,\n",
    "                            verbose_eval=verbose,\n",
    "                            num_boost_round=n_tree,\n",
    "                            feval=clip_rmse)\n",
    "\n",
    "            time_end = time.time()\n",
    "            print('Train of month {} is finished, uses {:.2f} sec.\\n'.format(m, time_end-time_start))\n",
    "                  \n",
    "        else:\n",
    "            # Prediction\n",
    "            print('Predicting of month {} is started.'.format(m))\n",
    "            preds = bst_cv[m-1].predict(xgb.DMatrix(x_train[m]))\n",
    "            preds = list(map(lambda x: min(20, max(x, 0)), list(preds)))\n",
    "            sub_df = pd.DataFrame({'ID': cnt.index, 'item_cnt_month': preds})\n",
    "            sub_df.to_csv(sub_name, index=False)\n",
    "            print('Prediction of month {} is finished.\\n'.format(m))\n",
    "        \n",
    "    progress = {m: {'train': progress[m]['train']['clip-rmse'], \n",
    "            'val': progress[m]['val']['clip-rmse']} \n",
    "        for m in progress.keys()}\n",
    "    progress = pd.DataFrame({(m, k): progress[m][k] \n",
    "                             for m in progress.keys() \n",
    "                             for k in progress[m].keys()})\n",
    "    \n",
    "    return progress, bst_cv, sub_df"
   ]
  },
  {
   "cell_type": "code",
   "execution_count": 26,
   "metadata": {},
   "outputs": [],
   "source": [
    "def ensemble(n_model, param, n_tree, x_train, y_train, month_in_cv, sub_name, verbose=True, random_state=42):\n",
    "    '''Change random seed and train, then combine predictions'''\n",
    "    \n",
    "    np.random.seed(random_state)\n",
    "    \n",
    "    bst = {}\n",
    "    preds = []\n",
    "    m = month_in_cv[-2]\n",
    "    \n",
    "    for n in range(n_model):\n",
    "        # Train the model with a different random seed\n",
    "        param['seed'] = np.random.randint(100000)\n",
    "        \n",
    "        # Train the last cv model for prediction\n",
    "        print('Start training model {} on month {}'.format(n, m))\n",
    "        time_start = time.time()\n",
    "        dtrain = xgb.DMatrix(x_train[m], y_train[m], nthread=-1)\n",
    "        watchlist = [(dtrain, 'train')]\n",
    "\n",
    "        bst[n] = xgb.train(param, \n",
    "                        dtrain, \n",
    "                        evals=watchlist,\n",
    "                        verbose_eval=verbose,\n",
    "                        num_boost_round=n_tree,\n",
    "                        feval=clip_rmse)\n",
    "\n",
    "        time_end = time.time()\n",
    "        print('Train of model {} on month {} is finished, uses {:.2f} sec.\\n'.format(n, m, time_end-time_start))\n",
    "\n",
    "        # Prediction\n",
    "        print('Start predicting model {} on month {}.'.format(n, m+1))\n",
    "        preds.append(bst[n].predict(xgb.DMatrix(x_train[m+1])))\n",
    "        print('Prediction of model {} on month {} is finished.\\n'.format(n, m+1))\n",
    "        \n",
    "        print('---------------------------------------\\n')\n",
    "    \n",
    "    preds_mean = np.array(preds).mean(axis=0)\n",
    "    preds_mean = list(map(lambda x: min(20, max(x, 0)), list(preds_mean)))\n",
    "    preds_mean = pd.DataFrame({'ID': cnt.index, 'item_cnt_month': preds_mean})\n",
    "    preds_mean.to_csv(sub_name, index=False)\n",
    "    \n",
    "    \n",
    "    return bst, preds, preds_mean"
   ]
  },
  {
   "cell_type": "markdown",
   "metadata": {},
   "source": [
    "#### Find Important Features\n",
    "\n",
    "Train 1 random models on data and find the most important 100 features"
   ]
  },
  {
   "cell_type": "code",
   "execution_count": 11,
   "metadata": {},
   "outputs": [],
   "source": [
    "# month_in_model = 31\n",
    "# month_test = 34\n",
    "# month_in_cv = list(range(month_in_model, 35))\n",
    "# cols_cv = {k: list(range(k-month_in_model, k)) for k in month_in_cv} # The last month is test\n",
    "# month_in_cv = [33]\n",
    "\n",
    "# x_train = {}\n",
    "# y_train = {}\n",
    "# for m in month_in_cv:\n",
    "#     print(m)\n",
    "#     df_list = [test_shop_item, \n",
    "#            cnt.iloc[:, cols_cv[m]], \n",
    "#            sales.iloc[:, cols_cv[m]]]\n",
    "#     df_list.extend([feature_dict2[k].iloc[:, cols_cv[m]] \n",
    "#                     for k in feature_dict2.keys()])\n",
    "#     x_train[m] = pd.concat(df_list, axis=1, sort=False).values\n",
    "#     if m<month_test:\n",
    "#         # only train months have y_train, test month does not have it\n",
    "#         # clip ground truth since the objective is clipped\n",
    "#         y_train[m] = np.maximum(np.minimum(cnt.iloc[:, m].values, 40.0), 0.0)"
   ]
  },
  {
   "cell_type": "code",
   "execution_count": 16,
   "metadata": {},
   "outputs": [
    {
     "name": "stdout",
     "output_type": "stream",
     "text": [
      "[0]\ttrain-rmse:1.31658\ttrain-clip-rmse:1.09197\n",
      "[1]\ttrain-rmse:1.29652\ttrain-clip-rmse:1.07294\n",
      "[2]\ttrain-rmse:1.27177\ttrain-clip-rmse:1.04976\n",
      "[3]\ttrain-rmse:1.2469\ttrain-clip-rmse:1.02655\n",
      "[4]\ttrain-rmse:1.22311\ttrain-clip-rmse:1.00459\n",
      "[5]\ttrain-rmse:1.20557\ttrain-clip-rmse:0.988239\n",
      "[6]\ttrain-rmse:1.18856\ttrain-clip-rmse:0.972418\n",
      "[7]\ttrain-rmse:1.16657\ttrain-clip-rmse:0.952342\n",
      "[8]\ttrain-rmse:1.14505\ttrain-clip-rmse:0.932874\n",
      "[9]\ttrain-rmse:1.12431\ttrain-clip-rmse:0.914197\n",
      "[10]\ttrain-rmse:1.10428\ttrain-clip-rmse:0.896436\n",
      "[11]\ttrain-rmse:1.08459\ttrain-clip-rmse:0.879051\n",
      "[12]\ttrain-rmse:1.06569\ttrain-clip-rmse:0.862534\n",
      "[13]\ttrain-rmse:1.05195\ttrain-clip-rmse:0.85039\n",
      "[14]\ttrain-rmse:1.03846\ttrain-clip-rmse:0.838465\n",
      "[15]\ttrain-rmse:1.02614\ttrain-clip-rmse:0.827545\n",
      "[16]\ttrain-rmse:1.00875\ttrain-clip-rmse:0.812705\n",
      "[17]\ttrain-rmse:0.992065\ttrain-clip-rmse:0.798719\n",
      "[18]\ttrain-rmse:0.976332\ttrain-clip-rmse:0.785638\n",
      "[19]\ttrain-rmse:0.960659\ttrain-clip-rmse:0.772706\n",
      "[20]\ttrain-rmse:0.945213\ttrain-clip-rmse:0.760047\n",
      "[21]\ttrain-rmse:0.934873\ttrain-clip-rmse:0.751586\n",
      "[22]\ttrain-rmse:0.920768\ttrain-clip-rmse:0.740198\n",
      "[23]\ttrain-rmse:0.910972\ttrain-clip-rmse:0.732277\n",
      "[24]\ttrain-rmse:0.901764\ttrain-clip-rmse:0.724837\n",
      "[25]\ttrain-rmse:0.888432\ttrain-clip-rmse:0.714466\n",
      "[26]\ttrain-rmse:0.875346\ttrain-clip-rmse:0.704231\n",
      "[27]\ttrain-rmse:0.866838\ttrain-clip-rmse:0.697649\n",
      "[28]\ttrain-rmse:0.85463\ttrain-clip-rmse:0.688224\n",
      "[29]\ttrain-rmse:0.842907\ttrain-clip-rmse:0.679163\n",
      "[30]\ttrain-rmse:0.831373\ttrain-clip-rmse:0.67031\n",
      "[31]\ttrain-rmse:0.820281\ttrain-clip-rmse:0.661992\n",
      "[32]\ttrain-rmse:0.809149\ttrain-clip-rmse:0.653877\n",
      "[33]\ttrain-rmse:0.798746\ttrain-clip-rmse:0.646331\n",
      "[34]\ttrain-rmse:0.792203\ttrain-clip-rmse:0.641243\n",
      "[35]\ttrain-rmse:0.785912\ttrain-clip-rmse:0.636567\n",
      "[36]\ttrain-rmse:0.779531\ttrain-clip-rmse:0.631814\n",
      "[37]\ttrain-rmse:0.770031\ttrain-clip-rmse:0.624914\n",
      "[38]\ttrain-rmse:0.764003\ttrain-clip-rmse:0.620256\n",
      "[39]\ttrain-rmse:0.754613\ttrain-clip-rmse:0.613686\n"
     ]
    }
   ],
   "source": [
    "# param = {'max_depth':14, \n",
    "#          'subsample':0.9,\n",
    "#          'min_child_weight':3,\n",
    "#          'eta':0.03, \n",
    "#          'lambda':2,\n",
    "#          'colsample_bytree':0.6,\n",
    "#          'seed':1,\n",
    "#          'silent':1,\n",
    "#          'eval_metric':'rmse',\n",
    "#          'maximize': False,\n",
    "#          'nthread':8}\n",
    "# n_tree = 40\n",
    "\n",
    "# dtrain = xgb.DMatrix(x_train[33], y_train[33], nthread=-1)\n",
    "# bst = xgb.train(param, dtrain, evals=[(dtrain, 'train')], verbose_eval=True, num_boost_round=n_tree, feval=clip_rmse)"
   ]
  },
  {
   "cell_type": "code",
   "execution_count": 23,
   "metadata": {},
   "outputs": [
    {
     "data": {
      "text/plain": [
       "[<matplotlib.lines.Line2D at 0x1e284bf1ef0>]"
      ]
     },
     "execution_count": 23,
     "metadata": {},
     "output_type": "execute_result"
    },
    {
     "data": {
      "image/png": "[encoded data removed]",
      "text/plain": [
       "<Figure size 1152x648 with 1 Axes>"
      ]
     },
     "metadata": {},
     "output_type": "display_data"
    }
   ],
   "source": [
    "# n_important_features = 200\n",
    "\n",
    "# #a = {k: bst[k].get_score(importance_type='gain') for k in range(n_model)}\n",
    "# a = bst.get_score(importance_type='gain')\n",
    "\n",
    "# a = pd.Series(a)\n",
    "\n",
    "# a.index = [int(k[1:]) for k in a.index]\n",
    "\n",
    "# b = a.sort_values(ascending=False)\n",
    "\n",
    "# important_features = b.iloc[:200].index.tolist()\n",
    "\n",
    "# plt.figure(figsize=(16, 9))\n",
    "# plt.plot(a.sort_values(ascending=False).values)"
   ]
  },
  {
   "cell_type": "code",
   "execution_count": 25,
   "metadata": {},
   "outputs": [],
   "source": [
    "# u = pd.concat(df_list, axis=1, sort=False)\n",
    "\n",
    "# c = b.iloc[:200].copy()\n",
    "\n",
    "# c.index = u.columns[important_features]\n",
    "\n",
    "# r = set(['_'.join(k.split('_')[:-1]) for k in u.columns[important_features]])"
   ]
  },
  {
   "cell_type": "code",
   "execution_count": 33,
   "metadata": {},
   "outputs": [],
   "source": [
    "# c.to_csv('eda_11_2_feature_importance_names.csv')\n",
    "# a.to_csv('eda_11_2_feature_importance.csv')"
   ]
  },
  {
   "cell_type": "markdown",
   "metadata": {},
   "source": [
    "#### Prepare CV"
   ]
  },
  {
   "cell_type": "code",
   "execution_count": 30,
   "metadata": {},
   "outputs": [],
   "source": [
    "important_features = pd.read_csv('eda_11_2_feature_importance.csv', header=None)\n",
    "\n",
    "important_features = important_features.iloc[:200, 0].tolist()"
   ]
  },
  {
   "cell_type": "code",
   "execution_count": 31,
   "metadata": {},
   "outputs": [
    {
     "name": "stdout",
     "output_type": "stream",
     "text": [
      "31\n",
      "32\n",
      "33\n",
      "34\n"
     ]
    }
   ],
   "source": [
    "month_in_model = 31\n",
    "month_test = 34\n",
    "month_in_cv = list(range(month_in_model, 35))\n",
    "cols_cv = {k: list(range(k-month_in_model, k)) for k in month_in_cv} # The last month is test\n",
    "\n",
    "x_train = {}\n",
    "y_train = {}\n",
    "for m in month_in_cv:\n",
    "    print(m)\n",
    "    df_list = [test_shop_item, \n",
    "           cnt.iloc[:, cols_cv[m]], \n",
    "           sales.iloc[:, cols_cv[m]]]\n",
    "    df_list.extend([feature_dict2[k].iloc[:, cols_cv[m]] \n",
    "                    for k in feature_dict2.keys()])\n",
    "    x_train[m] = pd.concat(df_list, axis=1, sort=False).values[:, important_features]\n",
    "    if m<month_test:\n",
    "        # only train months have y_train, test month does not have it\n",
    "        # clip ground truth since the objective is clipped\n",
    "        y_train[m] = np.maximum(np.minimum(cnt.iloc[:, m].values, 40.0), 0.0)"
   ]
  },
  {
   "cell_type": "code",
   "execution_count": 34,
   "metadata": {},
   "outputs": [
    {
     "name": "stdout",
     "output_type": "stream",
     "text": [
      "CV of month 31 is started.\n",
      "[0]\ttrain-rmse:1.19576\tval-rmse:1.39434\ttrain-clip-rmse:1.04702\tval-clip-rmse:1.13641\n",
      "[1]\ttrain-rmse:1.18337\tval-rmse:1.38759\ttrain-clip-rmse:1.03507\tval-clip-rmse:1.12981\n",
      "[2]\ttrain-rmse:1.1718\tval-rmse:1.37986\ttrain-clip-rmse:1.02384\tval-clip-rmse:1.12222\n",
      "[3]\ttrain-rmse:1.15928\tval-rmse:1.37185\ttrain-clip-rmse:1.01182\tval-clip-rmse:1.11431\n",
      "[4]\ttrain-rmse:1.14674\tval-rmse:1.36453\ttrain-clip-rmse:0.999745\tval-clip-rmse:1.10709\n",
      "[5]\ttrain-rmse:1.1345\tval-rmse:1.35635\ttrain-clip-rmse:0.988013\tval-clip-rmse:1.09897\n",
      "[6]\ttrain-rmse:1.12274\tval-rmse:1.34963\ttrain-clip-rmse:0.976744\tval-clip-rmse:1.09237\n",
      "[7]\ttrain-rmse:1.11088\tval-rmse:1.34279\ttrain-clip-rmse:0.965526\tval-clip-rmse:1.08586\n",
      "[8]\ttrain-rmse:1.10042\tval-rmse:1.33574\ttrain-clip-rmse:0.955563\tval-clip-rmse:1.07906\n",
      "[9]\ttrain-rmse:1.08917\tval-rmse:1.32867\ttrain-clip-rmse:0.945013\tval-clip-rmse:1.07232\n",
      "[10]\ttrain-rmse:1.07868\tval-rmse:1.32354\ttrain-clip-rmse:0.935123\tval-clip-rmse:1.06748\n",
      "[11]\ttrain-rmse:1.06803\tval-rmse:1.31743\ttrain-clip-rmse:0.924998\tval-clip-rmse:1.06158\n",
      "[12]\ttrain-rmse:1.05764\tval-rmse:1.31156\ttrain-clip-rmse:0.915157\tval-clip-rmse:1.05595\n",
      "[13]\ttrain-rmse:1.04764\tval-rmse:1.30618\ttrain-clip-rmse:0.905692\tval-clip-rmse:1.05087\n",
      "[14]\ttrain-rmse:1.03782\tval-rmse:1.30093\ttrain-clip-rmse:0.896487\tval-clip-rmse:1.04603\n",
      "[15]\ttrain-rmse:1.02897\tval-rmse:1.29602\ttrain-clip-rmse:0.888132\tval-clip-rmse:1.04144\n",
      "[16]\ttrain-rmse:1.02016\tval-rmse:1.29045\ttrain-clip-rmse:0.879803\tval-clip-rmse:1.03621\n",
      "[17]\ttrain-rmse:1.01143\tval-rmse:1.28506\ttrain-clip-rmse:0.871703\tval-clip-rmse:1.03113\n",
      "[18]\ttrain-rmse:1.00308\tval-rmse:1.28002\ttrain-clip-rmse:0.863939\tval-clip-rmse:1.02659\n",
      "[19]\ttrain-rmse:0.995003\tval-rmse:1.27568\ttrain-clip-rmse:0.856512\tval-clip-rmse:1.0227\n",
      "[20]\ttrain-rmse:0.985761\tval-rmse:1.2707\ttrain-clip-rmse:0.848047\tval-clip-rmse:1.01822\n",
      "[21]\ttrain-rmse:0.978053\tval-rmse:1.26661\ttrain-clip-rmse:0.840926\tval-clip-rmse:1.01455\n",
      "[22]\ttrain-rmse:0.970179\tval-rmse:1.26204\ttrain-clip-rmse:0.833771\tval-clip-rmse:1.01047\n",
      "[23]\ttrain-rmse:0.963189\tval-rmse:1.2584\ttrain-clip-rmse:0.827357\tval-clip-rmse:1.00721\n",
      "[24]\ttrain-rmse:0.955933\tval-rmse:1.25499\ttrain-clip-rmse:0.820872\tval-clip-rmse:1.00416\n",
      "[25]\ttrain-rmse:0.948443\tval-rmse:1.25078\ttrain-clip-rmse:0.814163\tval-clip-rmse:1.00051\n",
      "[26]\ttrain-rmse:0.941366\tval-rmse:1.24705\ttrain-clip-rmse:0.807955\tval-clip-rmse:0.997402\n",
      "[27]\ttrain-rmse:0.933538\tval-rmse:1.24277\ttrain-clip-rmse:0.800936\tval-clip-rmse:0.993695\n",
      "[28]\ttrain-rmse:0.926639\tval-rmse:1.2389\ttrain-clip-rmse:0.794884\tval-clip-rmse:0.990473\n",
      "[29]\ttrain-rmse:0.919002\tval-rmse:1.23532\ttrain-clip-rmse:0.788027\tval-clip-rmse:0.987391\n",
      "[30]\ttrain-rmse:0.912755\tval-rmse:1.23212\ttrain-clip-rmse:0.782384\tval-clip-rmse:0.984625\n",
      "[31]\ttrain-rmse:0.906255\tval-rmse:1.2285\ttrain-clip-rmse:0.776664\tval-clip-rmse:0.98168\n",
      "[32]\ttrain-rmse:0.89869\tval-rmse:1.22506\ttrain-clip-rmse:0.769993\tval-clip-rmse:0.978927\n",
      "[33]\ttrain-rmse:0.892949\tval-rmse:1.22222\ttrain-clip-rmse:0.765075\tval-clip-rmse:0.976736\n",
      "[34]\ttrain-rmse:0.886854\tval-rmse:1.21892\ttrain-clip-rmse:0.759785\tval-clip-rmse:0.973935\n",
      "[35]\ttrain-rmse:0.881367\tval-rmse:1.21631\ttrain-clip-rmse:0.755133\tval-clip-rmse:0.971864\n",
      "[36]\ttrain-rmse:0.874297\tval-rmse:1.21304\ttrain-clip-rmse:0.74896\tval-clip-rmse:0.969211\n",
      "[37]\ttrain-rmse:0.867594\tval-rmse:1.21011\ttrain-clip-rmse:0.743033\tval-clip-rmse:0.966829\n",
      "[38]\ttrain-rmse:0.861465\tval-rmse:1.20769\ttrain-clip-rmse:0.737828\tval-clip-rmse:0.965046\n",
      "[39]\ttrain-rmse:0.856002\tval-rmse:1.20473\ttrain-clip-rmse:0.733153\tval-clip-rmse:0.962722\n",
      "[40]\ttrain-rmse:0.84982\tval-rmse:1.2026\ttrain-clip-rmse:0.727893\tval-clip-rmse:0.961108\n",
      "[41]\ttrain-rmse:0.84466\tval-rmse:1.20015\ttrain-clip-rmse:0.723455\tval-clip-rmse:0.959264\n",
      "[42]\ttrain-rmse:0.839499\tval-rmse:1.19804\ttrain-clip-rmse:0.719184\tval-clip-rmse:0.957643\n",
      "[43]\ttrain-rmse:0.833707\tval-rmse:1.19555\ttrain-clip-rmse:0.714269\tval-clip-rmse:0.955722\n",
      "[44]\ttrain-rmse:0.827766\tval-rmse:1.19315\ttrain-clip-rmse:0.709264\tval-clip-rmse:0.95398\n",
      "[45]\ttrain-rmse:0.822281\tval-rmse:1.19127\ttrain-clip-rmse:0.704753\tval-clip-rmse:0.95263\n",
      "[46]\ttrain-rmse:0.817393\tval-rmse:1.1888\ttrain-clip-rmse:0.700654\tval-clip-rmse:0.950763\n",
      "[47]\ttrain-rmse:0.811745\tval-rmse:1.18663\ttrain-clip-rmse:0.695951\tval-clip-rmse:0.949207\n",
      "[48]\ttrain-rmse:0.806431\tval-rmse:1.18455\ttrain-clip-rmse:0.691445\tval-clip-rmse:0.947646\n",
      "[49]\ttrain-rmse:0.800968\tval-rmse:1.18248\ttrain-clip-rmse:0.686972\tval-clip-rmse:0.946268\n",
      "[50]\ttrain-rmse:0.795688\tval-rmse:1.18073\ttrain-clip-rmse:0.68255\tval-clip-rmse:0.945104\n",
      "[51]\ttrain-rmse:0.790265\tval-rmse:1.17883\ttrain-clip-rmse:0.67811\tval-clip-rmse:0.943767\n",
      "[52]\ttrain-rmse:0.785031\tval-rmse:1.17689\ttrain-clip-rmse:0.673749\tval-clip-rmse:0.942522\n",
      "[53]\ttrain-rmse:0.780665\tval-rmse:1.1748\ttrain-clip-rmse:0.670218\tval-clip-rmse:0.941062\n",
      "[54]\ttrain-rmse:0.776584\tval-rmse:1.17323\ttrain-clip-rmse:0.66687\tval-clip-rmse:0.939988\n",
      "[55]\ttrain-rmse:0.771989\tval-rmse:1.17165\ttrain-clip-rmse:0.663161\tval-clip-rmse:0.939017\n",
      "[56]\ttrain-rmse:0.768035\tval-rmse:1.16985\ttrain-clip-rmse:0.660045\tval-clip-rmse:0.937801\n",
      "[57]\ttrain-rmse:0.764204\tval-rmse:1.16833\ttrain-clip-rmse:0.656963\tval-clip-rmse:0.936856\n",
      "[58]\ttrain-rmse:0.759673\tval-rmse:1.16696\ttrain-clip-rmse:0.653276\tval-clip-rmse:0.935953\n",
      "[59]\ttrain-rmse:0.755125\tval-rmse:1.16544\ttrain-clip-rmse:0.649448\tval-clip-rmse:0.934963\n",
      "[60]\ttrain-rmse:0.750763\tval-rmse:1.16435\ttrain-clip-rmse:0.646004\tval-clip-rmse:0.934467\n",
      "[61]\ttrain-rmse:0.74636\tval-rmse:1.16307\ttrain-clip-rmse:0.642463\tval-clip-rmse:0.933639\n",
      "[62]\ttrain-rmse:0.74283\tval-rmse:1.16177\ttrain-clip-rmse:0.639571\tval-clip-rmse:0.932831\n",
      "[63]\ttrain-rmse:0.738755\tval-rmse:1.16084\ttrain-clip-rmse:0.636308\tval-clip-rmse:0.932324\n",
      "[64]\ttrain-rmse:0.735582\tval-rmse:1.15979\ttrain-clip-rmse:0.633846\tval-clip-rmse:0.93168\n",
      "[65]\ttrain-rmse:0.731364\tval-rmse:1.15839\ttrain-clip-rmse:0.630424\tval-clip-rmse:0.930829\n",
      "[66]\ttrain-rmse:0.727968\tval-rmse:1.15706\ttrain-clip-rmse:0.627717\tval-clip-rmse:0.930028\n",
      "[67]\ttrain-rmse:0.724667\tval-rmse:1.15589\ttrain-clip-rmse:0.625047\tval-clip-rmse:0.929287\n",
      "[68]\ttrain-rmse:0.721419\tval-rmse:1.15508\ttrain-clip-rmse:0.62244\tval-clip-rmse:0.928583\n",
      "[69]\ttrain-rmse:0.717488\tval-rmse:1.15419\ttrain-clip-rmse:0.619276\tval-clip-rmse:0.928043\n",
      "[70]\ttrain-rmse:0.714434\tval-rmse:1.15291\ttrain-clip-rmse:0.616861\tval-clip-rmse:0.927282\n",
      "[71]\ttrain-rmse:0.7106\tval-rmse:1.15176\ttrain-clip-rmse:0.613651\tval-clip-rmse:0.926577\n",
      "[72]\ttrain-rmse:0.70774\tval-rmse:1.15078\ttrain-clip-rmse:0.611341\tval-clip-rmse:0.926032\n",
      "[73]\ttrain-rmse:0.70419\tval-rmse:1.14999\ttrain-clip-rmse:0.60857\tval-clip-rmse:0.925664\n",
      "[74]\ttrain-rmse:0.701284\tval-rmse:1.14921\ttrain-clip-rmse:0.60628\tval-clip-rmse:0.925166\n",
      "[75]\ttrain-rmse:0.697565\tval-rmse:1.14862\ttrain-clip-rmse:0.603158\tval-clip-rmse:0.924695\n",
      "[76]\ttrain-rmse:0.694833\tval-rmse:1.1478\ttrain-clip-rmse:0.600987\tval-clip-rmse:0.92421\n",
      "[77]\ttrain-rmse:0.691423\tval-rmse:1.14694\ttrain-clip-rmse:0.598256\tval-clip-rmse:0.923677\n",
      "[78]\ttrain-rmse:0.688633\tval-rmse:1.14594\ttrain-clip-rmse:0.59606\tval-clip-rmse:0.92303\n",
      "[79]\ttrain-rmse:0.684997\tval-rmse:1.1453\ttrain-clip-rmse:0.593059\tval-clip-rmse:0.922586\n",
      "[80]\ttrain-rmse:0.681772\tval-rmse:1.14471\ttrain-clip-rmse:0.590499\tval-clip-rmse:0.922402\n",
      "[81]\ttrain-rmse:0.679272\tval-rmse:1.14391\ttrain-clip-rmse:0.588569\tval-clip-rmse:0.92202\n",
      "[82]\ttrain-rmse:0.676775\tval-rmse:1.14302\ttrain-clip-rmse:0.586609\tval-clip-rmse:0.921571\n",
      "[83]\ttrain-rmse:0.67391\tval-rmse:1.14246\ttrain-clip-rmse:0.58431\tval-clip-rmse:0.921318\n",
      "[84]\ttrain-rmse:0.671498\tval-rmse:1.14174\ttrain-clip-rmse:0.582438\tval-clip-rmse:0.920909\n",
      "[85]\ttrain-rmse:0.669155\tval-rmse:1.14122\ttrain-clip-rmse:0.580555\tval-clip-rmse:0.920544\n",
      "[86]\ttrain-rmse:0.666062\tval-rmse:1.1406\ttrain-clip-rmse:0.578043\tval-clip-rmse:0.920241\n",
      "[87]\ttrain-rmse:0.663764\tval-rmse:1.13989\ttrain-clip-rmse:0.576225\tval-clip-rmse:0.919897\n",
      "[88]\ttrain-rmse:0.660804\tval-rmse:1.13919\ttrain-clip-rmse:0.573809\tval-clip-rmse:0.919519\n",
      "[89]\ttrain-rmse:0.65796\tval-rmse:1.13862\ttrain-clip-rmse:0.5715\tval-clip-rmse:0.91927\n",
      "[90]\ttrain-rmse:0.654871\tval-rmse:1.13787\ttrain-clip-rmse:0.569039\tval-clip-rmse:0.918851\n",
      "[91]\ttrain-rmse:0.652112\tval-rmse:1.13729\ttrain-clip-rmse:0.566797\tval-clip-rmse:0.918591\n"
     ]
    },
    {
     "name": "stdout",
     "output_type": "stream",
     "text": [
      "[92]\ttrain-rmse:0.64929\tval-rmse:1.13675\ttrain-clip-rmse:0.564563\tval-clip-rmse:0.918344\n",
      "[93]\ttrain-rmse:0.647194\tval-rmse:1.13643\ttrain-clip-rmse:0.562907\tval-clip-rmse:0.918143\n",
      "[94]\ttrain-rmse:0.644711\tval-rmse:1.13594\ttrain-clip-rmse:0.560926\tval-clip-rmse:0.917946\n",
      "[95]\ttrain-rmse:0.642229\tval-rmse:1.13557\ttrain-clip-rmse:0.558998\tval-clip-rmse:0.917802\n",
      "[96]\ttrain-rmse:0.639623\tval-rmse:1.13514\ttrain-clip-rmse:0.556952\tval-clip-rmse:0.917613\n",
      "[97]\ttrain-rmse:0.637734\tval-rmse:1.13473\ttrain-clip-rmse:0.555387\tval-clip-rmse:0.917424\n",
      "[98]\ttrain-rmse:0.63536\tval-rmse:1.13438\ttrain-clip-rmse:0.553528\tval-clip-rmse:0.917309\n",
      "[99]\ttrain-rmse:0.633339\tval-rmse:1.13383\ttrain-clip-rmse:0.551853\tval-clip-rmse:0.917016\n",
      "[100]\ttrain-rmse:0.63161\tval-rmse:1.13338\ttrain-clip-rmse:0.550456\tval-clip-rmse:0.916666\n",
      "[101]\ttrain-rmse:0.629909\tval-rmse:1.13311\ttrain-clip-rmse:0.549137\tval-clip-rmse:0.916559\n",
      "[102]\ttrain-rmse:0.627418\tval-rmse:1.13266\ttrain-clip-rmse:0.547128\tval-clip-rmse:0.916354\n",
      "[103]\ttrain-rmse:0.625623\tval-rmse:1.13232\ttrain-clip-rmse:0.545648\tval-clip-rmse:0.916223\n",
      "[104]\ttrain-rmse:0.623324\tval-rmse:1.13198\ttrain-clip-rmse:0.543868\tval-clip-rmse:0.916132\n",
      "[105]\ttrain-rmse:0.621559\tval-rmse:1.13154\ttrain-clip-rmse:0.542514\tval-clip-rmse:0.915893\n",
      "[106]\ttrain-rmse:0.619278\tval-rmse:1.13122\ttrain-clip-rmse:0.540648\tval-clip-rmse:0.915781\n",
      "[107]\ttrain-rmse:0.617512\tval-rmse:1.1308\ttrain-clip-rmse:0.53919\tval-clip-rmse:0.915579\n",
      "[108]\ttrain-rmse:0.615948\tval-rmse:1.13053\ttrain-clip-rmse:0.537923\tval-clip-rmse:0.915537\n",
      "[109]\ttrain-rmse:0.613676\tval-rmse:1.13027\ttrain-clip-rmse:0.536043\tval-clip-rmse:0.915445\n",
      "[110]\ttrain-rmse:0.612092\tval-rmse:1.13001\ttrain-clip-rmse:0.534759\tval-clip-rmse:0.915341\n",
      "[111]\ttrain-rmse:0.609811\tval-rmse:1.12978\ttrain-clip-rmse:0.532899\tval-clip-rmse:0.91521\n",
      "[112]\ttrain-rmse:0.607827\tval-rmse:1.12961\ttrain-clip-rmse:0.531281\tval-clip-rmse:0.915212\n",
      "[113]\ttrain-rmse:0.605793\tval-rmse:1.12936\ttrain-clip-rmse:0.529639\tval-clip-rmse:0.915107\n",
      "[114]\ttrain-rmse:0.604295\tval-rmse:1.12906\ttrain-clip-rmse:0.528396\tval-clip-rmse:0.914957\n",
      "[115]\ttrain-rmse:0.602732\tval-rmse:1.12875\ttrain-clip-rmse:0.527084\tval-clip-rmse:0.914761\n",
      "[116]\ttrain-rmse:0.600794\tval-rmse:1.12839\ttrain-clip-rmse:0.525464\tval-clip-rmse:0.914561\n",
      "[117]\ttrain-rmse:0.598814\tval-rmse:1.12807\ttrain-clip-rmse:0.523795\tval-clip-rmse:0.91445\n",
      "[118]\ttrain-rmse:0.596874\tval-rmse:1.12785\ttrain-clip-rmse:0.522175\tval-clip-rmse:0.914339\n",
      "[119]\ttrain-rmse:0.594797\tval-rmse:1.12762\ttrain-clip-rmse:0.520491\tval-clip-rmse:0.914286\n",
      "[120]\ttrain-rmse:0.592909\tval-rmse:1.12728\ttrain-clip-rmse:0.519006\tval-clip-rmse:0.914157\n",
      "[121]\ttrain-rmse:0.591637\tval-rmse:1.12704\ttrain-clip-rmse:0.517971\tval-clip-rmse:0.914066\n",
      "[122]\ttrain-rmse:0.590202\tval-rmse:1.12679\ttrain-clip-rmse:0.516781\tval-clip-rmse:0.913955\n",
      "[123]\ttrain-rmse:0.58891\tval-rmse:1.12654\ttrain-clip-rmse:0.51574\tval-clip-rmse:0.913803\n",
      "[124]\ttrain-rmse:0.587637\tval-rmse:1.12631\ttrain-clip-rmse:0.514691\tval-clip-rmse:0.913738\n",
      "[125]\ttrain-rmse:0.586327\tval-rmse:1.12594\ttrain-clip-rmse:0.513623\tval-clip-rmse:0.913565\n",
      "[126]\ttrain-rmse:0.584449\tval-rmse:1.1257\ttrain-clip-rmse:0.512118\tval-clip-rmse:0.913545\n",
      "[127]\ttrain-rmse:0.583214\tval-rmse:1.12551\ttrain-clip-rmse:0.511117\tval-clip-rmse:0.913514\n",
      "[128]\ttrain-rmse:0.58131\tval-rmse:1.12528\ttrain-clip-rmse:0.509629\tval-clip-rmse:0.913465\n",
      "[129]\ttrain-rmse:0.580074\tval-rmse:1.12511\ttrain-clip-rmse:0.508586\tval-clip-rmse:0.913413\n",
      "[130]\ttrain-rmse:0.578844\tval-rmse:1.12489\ttrain-clip-rmse:0.507562\tval-clip-rmse:0.913311\n",
      "[131]\ttrain-rmse:0.577052\tval-rmse:1.1247\ttrain-clip-rmse:0.506112\tval-clip-rmse:0.91327\n",
      "[132]\ttrain-rmse:0.575851\tval-rmse:1.12442\ttrain-clip-rmse:0.505126\tval-clip-rmse:0.913134\n",
      "[133]\ttrain-rmse:0.574149\tval-rmse:1.1243\ttrain-clip-rmse:0.503741\tval-clip-rmse:0.913128\n",
      "[134]\ttrain-rmse:0.573029\tval-rmse:1.12416\ttrain-clip-rmse:0.502808\tval-clip-rmse:0.913127\n",
      "[135]\ttrain-rmse:0.571279\tval-rmse:1.12401\ttrain-clip-rmse:0.501387\tval-clip-rmse:0.913098\n",
      "[136]\ttrain-rmse:0.5695\tval-rmse:1.12374\ttrain-clip-rmse:0.499948\tval-clip-rmse:0.912968\n",
      "[137]\ttrain-rmse:0.568403\tval-rmse:1.12356\ttrain-clip-rmse:0.499035\tval-clip-rmse:0.912914\n",
      "[138]\ttrain-rmse:0.567226\tval-rmse:1.12332\ttrain-clip-rmse:0.498104\tval-clip-rmse:0.912795\n",
      "[139]\ttrain-rmse:0.566168\tval-rmse:1.12317\ttrain-clip-rmse:0.497244\tval-clip-rmse:0.912803\n",
      "CV of month 31 is finished, uses 446.75 sec, clip-rmse on val 0.91\n",
      "\n",
      "CV of month 32 is started.\n",
      "[0]\ttrain-rmse:1.38874\tval-rmse:1.33715\ttrain-clip-rmse:1.13088\tval-clip-rmse:1.11135\n",
      "[1]\ttrain-rmse:1.37477\tval-rmse:1.33021\ttrain-clip-rmse:1.11731\tval-clip-rmse:1.10488\n",
      "[2]\ttrain-rmse:1.365\tval-rmse:1.32281\ttrain-clip-rmse:1.10764\tval-clip-rmse:1.09768\n",
      "[3]\ttrain-rmse:1.3501\tval-rmse:1.31645\ttrain-clip-rmse:1.09312\tval-clip-rmse:1.09217\n",
      "[4]\ttrain-rmse:1.33564\tval-rmse:1.30998\ttrain-clip-rmse:1.07909\tval-clip-rmse:1.08671\n"
     ]
    },
    {
     "ename": "KeyboardInterrupt",
     "evalue": "",
     "output_type": "error",
     "traceback": [
      "\u001b[1;31m---------------------------------------------------------------------------\u001b[0m",
      "\u001b[1;31mKeyboardInterrupt\u001b[0m                         Traceback (most recent call last)",
      "\u001b[1;32m<ipython-input-34-7a7eefad38fb>\u001b[0m in \u001b[0;36m<module>\u001b[1;34m()\u001b[0m\n\u001b[0;32m     12\u001b[0m \u001b[0mn_tree\u001b[0m \u001b[1;33m=\u001b[0m \u001b[1;36m140\u001b[0m\u001b[1;33m\u001b[0m\u001b[0m\n\u001b[0;32m     13\u001b[0m \u001b[1;33m\u001b[0m\u001b[0m\n\u001b[1;32m---> 14\u001b[1;33m \u001b[0mprogress\u001b[0m\u001b[1;33m,\u001b[0m \u001b[0mbst_cv\u001b[0m\u001b[1;33m,\u001b[0m \u001b[0msub_df\u001b[0m \u001b[1;33m=\u001b[0m \u001b[0mcv_predict\u001b[0m\u001b[1;33m(\u001b[0m\u001b[0mparam\u001b[0m\u001b[1;33m,\u001b[0m \u001b[0mn_tree\u001b[0m\u001b[1;33m,\u001b[0m \u001b[0mx_train\u001b[0m\u001b[1;33m,\u001b[0m \u001b[0my_train\u001b[0m\u001b[1;33m,\u001b[0m \u001b[0mmonth_in_cv\u001b[0m\u001b[1;33m,\u001b[0m \u001b[1;34m'eda_11.csv'\u001b[0m\u001b[1;33m,\u001b[0m \u001b[0mverbose\u001b[0m\u001b[1;33m=\u001b[0m\u001b[1;32mTrue\u001b[0m\u001b[1;33m)\u001b[0m\u001b[1;33m\u001b[0m\u001b[0m\n\u001b[0m",
      "\u001b[1;32m<ipython-input-25-ea3c1c0a43e8>\u001b[0m in \u001b[0;36mcv_predict\u001b[1;34m(param, n_tree, x_train, y_train, month_in_cv, sub_name, verbose)\u001b[0m\n\u001b[0;32m     20\u001b[0m                             \u001b[0mverbose_eval\u001b[0m\u001b[1;33m=\u001b[0m\u001b[0mverbose\u001b[0m\u001b[1;33m,\u001b[0m\u001b[1;33m\u001b[0m\u001b[0m\n\u001b[0;32m     21\u001b[0m                             \u001b[0mnum_boost_round\u001b[0m\u001b[1;33m=\u001b[0m\u001b[0mn_tree\u001b[0m\u001b[1;33m,\u001b[0m\u001b[1;33m\u001b[0m\u001b[0m\n\u001b[1;32m---> 22\u001b[1;33m                             feval=clip_rmse)\n\u001b[0m\u001b[0;32m     23\u001b[0m \u001b[1;33m\u001b[0m\u001b[0m\n\u001b[0;32m     24\u001b[0m             \u001b[0mtime_end\u001b[0m \u001b[1;33m=\u001b[0m \u001b[0mtime\u001b[0m\u001b[1;33m.\u001b[0m\u001b[0mtime\u001b[0m\u001b[1;33m(\u001b[0m\u001b[1;33m)\u001b[0m\u001b[1;33m\u001b[0m\u001b[0m\n",
      "\u001b[1;32m~\\Anaconda3\\envs\\kaggle\\lib\\site-packages\\xgboost-0.72-py3.6.egg\\xgboost\\training.py\u001b[0m in \u001b[0;36mtrain\u001b[1;34m(params, dtrain, num_boost_round, evals, obj, feval, maximize, early_stopping_rounds, evals_result, verbose_eval, xgb_model, callbacks, learning_rates)\u001b[0m\n\u001b[0;32m    202\u001b[0m                            \u001b[0mevals\u001b[0m\u001b[1;33m=\u001b[0m\u001b[0mevals\u001b[0m\u001b[1;33m,\u001b[0m\u001b[1;33m\u001b[0m\u001b[0m\n\u001b[0;32m    203\u001b[0m                            \u001b[0mobj\u001b[0m\u001b[1;33m=\u001b[0m\u001b[0mobj\u001b[0m\u001b[1;33m,\u001b[0m \u001b[0mfeval\u001b[0m\u001b[1;33m=\u001b[0m\u001b[0mfeval\u001b[0m\u001b[1;33m,\u001b[0m\u001b[1;33m\u001b[0m\u001b[0m\n\u001b[1;32m--> 204\u001b[1;33m                            xgb_model=xgb_model, callbacks=callbacks)\n\u001b[0m\u001b[0;32m    205\u001b[0m \u001b[1;33m\u001b[0m\u001b[0m\n\u001b[0;32m    206\u001b[0m \u001b[1;33m\u001b[0m\u001b[0m\n",
      "\u001b[1;32m~\\Anaconda3\\envs\\kaggle\\lib\\site-packages\\xgboost-0.72-py3.6.egg\\xgboost\\training.py\u001b[0m in \u001b[0;36m_train_internal\u001b[1;34m(params, dtrain, num_boost_round, evals, obj, feval, xgb_model, callbacks)\u001b[0m\n\u001b[0;32m     72\u001b[0m         \u001b[1;31m# Skip the first update if it is a recovery step.\u001b[0m\u001b[1;33m\u001b[0m\u001b[1;33m\u001b[0m\u001b[0m\n\u001b[0;32m     73\u001b[0m         \u001b[1;32mif\u001b[0m \u001b[0mversion\u001b[0m \u001b[1;33m%\u001b[0m \u001b[1;36m2\u001b[0m \u001b[1;33m==\u001b[0m \u001b[1;36m0\u001b[0m\u001b[1;33m:\u001b[0m\u001b[1;33m\u001b[0m\u001b[0m\n\u001b[1;32m---> 74\u001b[1;33m             \u001b[0mbst\u001b[0m\u001b[1;33m.\u001b[0m\u001b[0mupdate\u001b[0m\u001b[1;33m(\u001b[0m\u001b[0mdtrain\u001b[0m\u001b[1;33m,\u001b[0m \u001b[0mi\u001b[0m\u001b[1;33m,\u001b[0m \u001b[0mobj\u001b[0m\u001b[1;33m)\u001b[0m\u001b[1;33m\u001b[0m\u001b[0m\n\u001b[0m\u001b[0;32m     75\u001b[0m             \u001b[0mbst\u001b[0m\u001b[1;33m.\u001b[0m\u001b[0msave_rabit_checkpoint\u001b[0m\u001b[1;33m(\u001b[0m\u001b[1;33m)\u001b[0m\u001b[1;33m\u001b[0m\u001b[0m\n\u001b[0;32m     76\u001b[0m             \u001b[0mversion\u001b[0m \u001b[1;33m+=\u001b[0m \u001b[1;36m1\u001b[0m\u001b[1;33m\u001b[0m\u001b[0m\n",
      "\u001b[1;32m~\\Anaconda3\\envs\\kaggle\\lib\\site-packages\\xgboost-0.72-py3.6.egg\\xgboost\\core.py\u001b[0m in \u001b[0;36mupdate\u001b[1;34m(self, dtrain, iteration, fobj)\u001b[0m\n\u001b[0;32m    895\u001b[0m         \u001b[1;32mif\u001b[0m \u001b[0mfobj\u001b[0m \u001b[1;32mis\u001b[0m \u001b[1;32mNone\u001b[0m\u001b[1;33m:\u001b[0m\u001b[1;33m\u001b[0m\u001b[0m\n\u001b[0;32m    896\u001b[0m             _check_call(_LIB.XGBoosterUpdateOneIter(self.handle, ctypes.c_int(iteration),\n\u001b[1;32m--> 897\u001b[1;33m                                                     dtrain.handle))\n\u001b[0m\u001b[0;32m    898\u001b[0m         \u001b[1;32melse\u001b[0m\u001b[1;33m:\u001b[0m\u001b[1;33m\u001b[0m\u001b[0m\n\u001b[0;32m    899\u001b[0m             \u001b[0mpred\u001b[0m \u001b[1;33m=\u001b[0m \u001b[0mself\u001b[0m\u001b[1;33m.\u001b[0m\u001b[0mpredict\u001b[0m\u001b[1;33m(\u001b[0m\u001b[0mdtrain\u001b[0m\u001b[1;33m)\u001b[0m\u001b[1;33m\u001b[0m\u001b[0m\n",
      "\u001b[1;31mKeyboardInterrupt\u001b[0m: "
     ]
    }
   ],
   "source": [
    "param = {'max_depth':14, \n",
    "         'subsample':0.8,\n",
    "         'min_child_weight':5,\n",
    "         'eta':0.02, \n",
    "         'lambda':10,\n",
    "         'colsample_bytree':0.5,\n",
    "         'seed':1,\n",
    "         'silent':1,\n",
    "         'eval_metric':'rmse',\n",
    "         'maximize': False,\n",
    "         'nthread':8}\n",
    "n_tree = 140\n",
    "\n",
    "progress, bst_cv, sub_df = cv_predict(param, n_tree, x_train, y_train, month_in_cv, 'eda_11.csv', verbose=True)"
   ]
  },
  {
   "cell_type": "code",
   "execution_count": 29,
   "metadata": {},
   "outputs": [
    {
     "data": {
      "image/png": "[encoded data removed]",
      "text/plain": [
       "<Figure size 1152x648 with 1 Axes>"
      ]
     },
     "metadata": {},
     "output_type": "display_data"
    }
   ],
   "source": [
    "val_mean = progress.xs('val', axis=1, level=1).mean(axis=1)\n",
    "val_std = progress.xs('val', axis=1, level=1).std(axis=1)\n",
    "\n",
    "train_mean = progress.xs('train', axis=1, level=1).mean(axis=1)\n",
    "train_std = progress.xs('train', axis=1, level=1).std(axis=1)\n",
    "\n",
    "plt.figure(figsize=(16, 9))\n",
    "plt.rcParams.update({'font.size': 20})\n",
    "plt.plot(np.arange(len(train_mean)), train_mean)\n",
    "plt.fill_between(np.arange(len(train_std)), \n",
    "                 train_mean-train_std, \n",
    "                 train_mean+train_std, alpha=0.5)\n",
    "plt.plot(np.arange(len(val_mean)), val_mean)\n",
    "plt.fill_between(np.arange(len(val_mean)), \n",
    "                 val_mean-val_std, \n",
    "                 val_mean+val_std, alpha=0.5)\n",
    "plt.legend(['train', 'val'])\n",
    "plt.xlabel('iteration')\n",
    "plt.ylabel('clip-rmse')\n",
    "plt.grid()"
   ]
  },
  {
   "cell_type": "markdown",
   "metadata": {},
   "source": [
    "### Ensemble"
   ]
  },
  {
   "cell_type": "markdown",
   "metadata": {},
   "source": [
    "### Train with important 100 features"
   ]
  },
  {
   "cell_type": "code",
   "execution_count": 86,
   "metadata": {},
   "outputs": [
    {
     "name": "stdout",
     "output_type": "stream",
     "text": [
      "31\n",
      "32\n",
      "33\n",
      "34\n"
     ]
    }
   ],
   "source": [
    "month_in_model = 31\n",
    "month_test = 34\n",
    "month_in_cv = list(range(month_in_model, 35))\n",
    "cols_cv = {k: list(range(k-month_in_model, k)) for k in month_in_cv} # The last month is test\n",
    "\n",
    "x_train = {}\n",
    "y_train = {}\n",
    "for m in month_in_cv:\n",
    "    print(m)\n",
    "    df_list = [test_shop_item, \n",
    "           cnt.iloc[:, cols_cv[m]], \n",
    "           sales.iloc[:, cols_cv[m]]]\n",
    "    df_list.extend([feature_dict2[k].iloc[:, cols_cv[m]] \n",
    "                    for k in feature_dict2.keys()])\n",
    "    x_train[m] = pd.concat(df_list, axis=1, sort=False).values[:, important_features]\n",
    "    if m<month_test:\n",
    "        # only train months have y_train, test month does not have it\n",
    "        # clip ground truth since the objective is clipped\n",
    "        y_train[m] = np.maximum(np.minimum(cnt.iloc[:, m].values, 40.0), 0.0)"
   ]
  },
  {
   "cell_type": "code",
   "execution_count": 87,
   "metadata": {},
   "outputs": [
    {
     "name": "stdout",
     "output_type": "stream",
     "text": [
      "CV of month 31 is started.\n",
      "[0]\ttrain-rmse:1.18696\tval-rmse:1.38768\ttrain-clip-rmse:1.03891\tval-clip-rmse:1.13017\n",
      "[1]\ttrain-rmse:1.16333\tval-rmse:1.37394\ttrain-clip-rmse:1.01664\tval-clip-rmse:1.11682\n",
      "[2]\ttrain-rmse:1.1409\tval-rmse:1.36023\ttrain-clip-rmse:0.99542\tval-clip-rmse:1.10367\n",
      "[3]\ttrain-rmse:1.12145\tval-rmse:1.34825\ttrain-clip-rmse:0.977015\tval-clip-rmse:1.09231\n",
      "[4]\ttrain-rmse:1.10041\tval-rmse:1.33738\ttrain-clip-rmse:0.95734\tval-clip-rmse:1.08169\n",
      "[5]\ttrain-rmse:1.08259\tval-rmse:1.32609\ttrain-clip-rmse:0.940538\tval-clip-rmse:1.07096\n",
      "[6]\ttrain-rmse:1.06224\tval-rmse:1.31489\ttrain-clip-rmse:0.921689\tval-clip-rmse:1.06047\n",
      "[7]\ttrain-rmse:1.04338\tval-rmse:1.30463\ttrain-clip-rmse:0.904508\tval-clip-rmse:1.05105\n",
      "[8]\ttrain-rmse:1.02659\tval-rmse:1.29416\ttrain-clip-rmse:0.889086\tval-clip-rmse:1.04131\n",
      "[9]\ttrain-rmse:1.00783\tval-rmse:1.28366\ttrain-clip-rmse:0.87193\tval-clip-rmse:1.03165\n",
      "[10]\ttrain-rmse:0.989646\tval-rmse:1.27522\ttrain-clip-rmse:0.855247\tval-clip-rmse:1.02415\n",
      "[11]\ttrain-rmse:0.974632\tval-rmse:1.26689\ttrain-clip-rmse:0.841636\tval-clip-rmse:1.01684\n",
      "[12]\ttrain-rmse:0.957286\tval-rmse:1.25895\ttrain-clip-rmse:0.825881\tval-clip-rmse:1.00991\n",
      "[13]\ttrain-rmse:0.943437\tval-rmse:1.25116\ttrain-clip-rmse:0.813576\tval-clip-rmse:1.00311\n",
      "[14]\ttrain-rmse:0.929483\tval-rmse:1.2439\ttrain-clip-rmse:0.801151\tval-clip-rmse:0.996979\n",
      "[15]\ttrain-rmse:0.916561\tval-rmse:1.23742\ttrain-clip-rmse:0.789687\tval-clip-rmse:0.991564\n",
      "[16]\ttrain-rmse:0.904275\tval-rmse:1.23137\ttrain-clip-rmse:0.779014\tval-clip-rmse:0.986711\n",
      "[17]\ttrain-rmse:0.889125\tval-rmse:1.22572\ttrain-clip-rmse:0.765808\tval-clip-rmse:0.98234\n",
      "[18]\ttrain-rmse:0.874749\tval-rmse:1.22051\ttrain-clip-rmse:0.753263\tval-clip-rmse:0.97824\n",
      "[19]\ttrain-rmse:0.86364\tval-rmse:1.21569\ttrain-clip-rmse:0.743924\tval-clip-rmse:0.974593\n",
      "[20]\ttrain-rmse:0.852579\tval-rmse:1.21026\ttrain-clip-rmse:0.734354\tval-clip-rmse:0.970342\n",
      "[21]\ttrain-rmse:0.841773\tval-rmse:1.20494\ttrain-clip-rmse:0.725279\tval-clip-rmse:0.966308\n",
      "[22]\ttrain-rmse:0.828342\tval-rmse:1.20019\ttrain-clip-rmse:0.713838\tval-clip-rmse:0.962911\n",
      "[23]\ttrain-rmse:0.815436\tval-rmse:1.19651\ttrain-clip-rmse:0.702842\tval-clip-rmse:0.960526\n",
      "[24]\ttrain-rmse:0.805442\tval-rmse:1.19214\ttrain-clip-rmse:0.694518\tval-clip-rmse:0.957286\n",
      "[25]\ttrain-rmse:0.793798\tval-rmse:1.18855\ttrain-clip-rmse:0.684781\tval-clip-rmse:0.954853\n",
      "[26]\ttrain-rmse:0.784625\tval-rmse:1.18489\ttrain-clip-rmse:0.677309\tval-clip-rmse:0.952554\n",
      "[27]\ttrain-rmse:0.773166\tval-rmse:1.1817\ttrain-clip-rmse:0.667821\tval-clip-rmse:0.950355\n",
      "[28]\ttrain-rmse:0.762578\tval-rmse:1.17863\ttrain-clip-rmse:0.658769\tval-clip-rmse:0.948587\n",
      "[29]\ttrain-rmse:0.751812\tval-rmse:1.17548\ttrain-clip-rmse:0.649847\tval-clip-rmse:0.946493\n",
      "[30]\ttrain-rmse:0.741453\tval-rmse:1.17274\ttrain-clip-rmse:0.641319\tval-clip-rmse:0.944813\n",
      "[31]\ttrain-rmse:0.73178\tval-rmse:1.17031\ttrain-clip-rmse:0.633632\tval-clip-rmse:0.943553\n",
      "[32]\ttrain-rmse:0.721743\tval-rmse:1.16811\ttrain-clip-rmse:0.625465\tval-clip-rmse:0.942463\n",
      "[33]\ttrain-rmse:0.712472\tval-rmse:1.16575\ttrain-clip-rmse:0.61792\tval-clip-rmse:0.940821\n",
      "[34]\ttrain-rmse:0.703272\tval-rmse:1.16357\ttrain-clip-rmse:0.610585\tval-clip-rmse:0.939485\n",
      "[35]\ttrain-rmse:0.6946\tval-rmse:1.16192\ttrain-clip-rmse:0.603597\tval-clip-rmse:0.938759\n",
      "[36]\ttrain-rmse:0.687919\tval-rmse:1.1598\ttrain-clip-rmse:0.598147\tval-clip-rmse:0.937525\n",
      "[37]\ttrain-rmse:0.681159\tval-rmse:1.15816\ttrain-clip-rmse:0.592598\tval-clip-rmse:0.936578\n",
      "[38]\ttrain-rmse:0.6749\tval-rmse:1.1563\ttrain-clip-rmse:0.587571\tval-clip-rmse:0.93556\n",
      "[39]\ttrain-rmse:0.667033\tval-rmse:1.15531\ttrain-clip-rmse:0.581288\tval-clip-rmse:0.935302\n",
      "CV of month 31 is finished, uses 12.62 sec, clip-rmse on val 0.94\n",
      "\n",
      "CV of month 32 is started.\n",
      "[0]\ttrain-rmse:1.3834\tval-rmse:1.32923\ttrain-clip-rmse:1.1261\tval-clip-rmse:1.10419\n",
      "[1]\ttrain-rmse:1.35619\tval-rmse:1.31578\ttrain-clip-rmse:1.10055\tval-clip-rmse:1.09158\n",
      "[2]\ttrain-rmse:1.32905\tval-rmse:1.30107\ttrain-clip-rmse:1.07511\tval-clip-rmse:1.07741\n",
      "[3]\ttrain-rmse:1.31233\tval-rmse:1.28903\ttrain-clip-rmse:1.05922\tval-clip-rmse:1.06623\n",
      "[4]\ttrain-rmse:1.28687\tval-rmse:1.2768\ttrain-clip-rmse:1.03546\tval-clip-rmse:1.05506\n",
      "[5]\ttrain-rmse:1.27058\tval-rmse:1.263\ttrain-clip-rmse:1.02008\tval-clip-rmse:1.04245\n",
      "[6]\ttrain-rmse:1.24597\tval-rmse:1.25206\ttrain-clip-rmse:0.997279\tval-clip-rmse:1.03295\n",
      "[7]\ttrain-rmse:1.2236\tval-rmse:1.24119\ttrain-clip-rmse:0.97694\tval-clip-rmse:1.02332\n",
      "[8]\ttrain-rmse:1.209\tval-rmse:1.22934\ttrain-clip-rmse:0.963317\tval-clip-rmse:1.01278\n",
      "[9]\ttrain-rmse:1.18624\tval-rmse:1.21971\ttrain-clip-rmse:0.942821\tval-clip-rmse:1.00478\n",
      "[10]\ttrain-rmse:1.16418\tval-rmse:1.21087\ttrain-clip-rmse:0.923137\tval-clip-rmse:0.997387\n",
      "[11]\ttrain-rmse:1.15076\tval-rmse:1.2008\ttrain-clip-rmse:0.910826\tval-clip-rmse:0.988749\n",
      "[12]\ttrain-rmse:1.12926\tval-rmse:1.1914\ttrain-clip-rmse:0.891726\tval-clip-rmse:0.980803\n",
      "[13]\ttrain-rmse:1.11726\tval-rmse:1.18332\ttrain-clip-rmse:0.881046\tval-clip-rmse:0.974483\n",
      "[14]\ttrain-rmse:1.10544\tval-rmse:1.17549\ttrain-clip-rmse:0.870448\tval-clip-rmse:0.968291\n",
      "[15]\ttrain-rmse:1.09421\tval-rmse:1.16865\ttrain-clip-rmse:0.86058\tval-clip-rmse:0.962826\n",
      "[16]\ttrain-rmse:1.08323\tval-rmse:1.16067\ttrain-clip-rmse:0.85104\tval-clip-rmse:0.956758\n",
      "[17]\ttrain-rmse:1.06395\tval-rmse:1.15423\ttrain-clip-rmse:0.834434\tval-clip-rmse:0.95179\n",
      "[18]\ttrain-rmse:1.04588\tval-rmse:1.1489\ttrain-clip-rmse:0.819061\tval-clip-rmse:0.947803\n",
      "[19]\ttrain-rmse:1.03619\tval-rmse:1.14314\ttrain-clip-rmse:0.810869\tval-clip-rmse:0.943607\n",
      "[20]\ttrain-rmse:1.02641\tval-rmse:1.13775\ttrain-clip-rmse:0.802733\tval-clip-rmse:0.939579\n",
      "[21]\ttrain-rmse:1.01699\tval-rmse:1.13198\ttrain-clip-rmse:0.794942\tval-clip-rmse:0.935635\n",
      "[22]\ttrain-rmse:0.99989\tval-rmse:1.12697\ttrain-clip-rmse:0.780706\tval-clip-rmse:0.932351\n",
      "[23]\ttrain-rmse:0.983805\tval-rmse:1.12411\ttrain-clip-rmse:0.767473\tval-clip-rmse:0.931479\n",
      "[24]\ttrain-rmse:0.975256\tval-rmse:1.11955\ttrain-clip-rmse:0.76054\tval-clip-rmse:0.928418\n",
      "[25]\ttrain-rmse:0.959806\tval-rmse:1.11583\ttrain-clip-rmse:0.74819\tval-clip-rmse:0.926644\n",
      "[26]\ttrain-rmse:0.95162\tval-rmse:1.11169\ttrain-clip-rmse:0.741679\tval-clip-rmse:0.924129\n",
      "[27]\ttrain-rmse:0.936538\tval-rmse:1.10827\ttrain-clip-rmse:0.729778\tval-clip-rmse:0.922033\n",
      "[28]\ttrain-rmse:0.922521\tval-rmse:1.10465\ttrain-clip-rmse:0.718625\tval-clip-rmse:0.920056\n",
      "[29]\ttrain-rmse:0.908238\tval-rmse:1.1016\ttrain-clip-rmse:0.707411\tval-clip-rmse:0.918484\n",
      "[30]\ttrain-rmse:0.894008\tval-rmse:1.09916\ttrain-clip-rmse:0.696237\tval-clip-rmse:0.917275\n",
      "[31]\ttrain-rmse:0.880612\tval-rmse:1.0966\ttrain-clip-rmse:0.685907\tval-clip-rmse:0.916112\n",
      "[32]\ttrain-rmse:0.867642\tval-rmse:1.09425\ttrain-clip-rmse:0.676107\tval-clip-rmse:0.915134\n",
      "[33]\ttrain-rmse:0.854842\tval-rmse:1.09408\ttrain-clip-rmse:0.666567\tval-clip-rmse:0.915951\n",
      "[34]\ttrain-rmse:0.843088\tval-rmse:1.09181\ttrain-clip-rmse:0.658019\tval-clip-rmse:0.914809\n",
      "[35]\ttrain-rmse:0.832214\tval-rmse:1.09036\ttrain-clip-rmse:0.650001\tval-clip-rmse:0.914517\n",
      "[36]\ttrain-rmse:0.826104\tval-rmse:1.08824\ttrain-clip-rmse:0.645289\tval-clip-rmse:0.913475\n",
      "[37]\ttrain-rmse:0.820457\tval-rmse:1.08624\ttrain-clip-rmse:0.640882\tval-clip-rmse:0.91253\n",
      "[38]\ttrain-rmse:0.815049\tval-rmse:1.0843\ttrain-clip-rmse:0.636719\tval-clip-rmse:0.911729\n",
      "[39]\ttrain-rmse:0.804847\tval-rmse:1.08362\ttrain-clip-rmse:0.629135\tval-clip-rmse:0.912277\n",
      "CV of month 32 is finished, uses 12.56 sec, clip-rmse on val 0.91\n",
      "\n",
      "Training of month 33 is started.\n",
      "[0]\ttrain-rmse:1.32353\ttrain-clip-rmse:1.0984\n",
      "[1]\ttrain-rmse:1.29785\ttrain-clip-rmse:1.07432\n",
      "[2]\ttrain-rmse:1.27295\ttrain-clip-rmse:1.05101\n",
      "[3]\ttrain-rmse:1.25545\ttrain-clip-rmse:1.03451\n",
      "[4]\ttrain-rmse:1.23235\ttrain-clip-rmse:1.01326\n",
      "[5]\ttrain-rmse:1.21579\ttrain-clip-rmse:0.997885\n",
      "[6]\ttrain-rmse:1.19389\ttrain-clip-rmse:0.977784\n",
      "[7]\ttrain-rmse:1.17315\ttrain-clip-rmse:0.958721\n",
      "[8]\ttrain-rmse:1.15808\ttrain-clip-rmse:0.944829\n",
      "[9]\ttrain-rmse:1.13759\ttrain-clip-rmse:0.926372\n",
      "[10]\ttrain-rmse:1.11758\ttrain-clip-rmse:0.908541\n",
      "[11]\ttrain-rmse:1.10373\ttrain-clip-rmse:0.896197\n",
      "[12]\ttrain-rmse:1.08513\ttrain-clip-rmse:0.87976\n",
      "[13]\ttrain-rmse:1.07269\ttrain-clip-rmse:0.868902\n",
      "[14]\ttrain-rmse:1.06024\ttrain-clip-rmse:0.857936\n",
      "[15]\ttrain-rmse:1.04841\ttrain-clip-rmse:0.847514\n",
      "[16]\ttrain-rmse:1.03705\ttrain-clip-rmse:0.837978\n",
      "[17]\ttrain-rmse:1.02043\ttrain-clip-rmse:0.823896\n",
      "[18]\ttrain-rmse:1.00459\ttrain-clip-rmse:0.81061\n"
     ]
    },
    {
     "name": "stdout",
     "output_type": "stream",
     "text": [
      "[19]\ttrain-rmse:0.994936\ttrain-clip-rmse:0.802647\n",
      "[20]\ttrain-rmse:0.984732\ttrain-clip-rmse:0.7942\n",
      "[21]\ttrain-rmse:0.975083\ttrain-clip-rmse:0.786349\n",
      "[22]\ttrain-rmse:0.960584\ttrain-clip-rmse:0.774505\n",
      "[23]\ttrain-rmse:0.945939\ttrain-clip-rmse:0.762437\n",
      "[24]\ttrain-rmse:0.937309\ttrain-clip-rmse:0.755555\n",
      "[25]\ttrain-rmse:0.92308\ttrain-clip-rmse:0.744281\n",
      "[26]\ttrain-rmse:0.914773\ttrain-clip-rmse:0.737709\n",
      "[27]\ttrain-rmse:0.901464\ttrain-clip-rmse:0.727248\n",
      "[28]\ttrain-rmse:0.88858\ttrain-clip-rmse:0.71713\n",
      "[29]\ttrain-rmse:0.876194\ttrain-clip-rmse:0.7075\n",
      "[30]\ttrain-rmse:0.86437\ttrain-clip-rmse:0.698248\n",
      "[31]\ttrain-rmse:0.852616\ttrain-clip-rmse:0.689197\n",
      "[32]\ttrain-rmse:0.84159\ttrain-clip-rmse:0.680966\n",
      "[33]\ttrain-rmse:0.83092\ttrain-clip-rmse:0.672938\n",
      "[34]\ttrain-rmse:0.820502\ttrain-clip-rmse:0.665317\n",
      "[35]\ttrain-rmse:0.810674\ttrain-clip-rmse:0.658017\n",
      "[36]\ttrain-rmse:0.80457\ttrain-clip-rmse:0.653416\n",
      "[37]\ttrain-rmse:0.798842\ttrain-clip-rmse:0.649047\n",
      "[38]\ttrain-rmse:0.793548\ttrain-clip-rmse:0.645082\n",
      "[39]\ttrain-rmse:0.784751\ttrain-clip-rmse:0.638744\n",
      "Train of month 33 is finished, uses 11.74 sec.\n",
      "\n",
      "Predicting of month 34 is started.\n",
      "Prediction of month 34 is finished.\n",
      "\n"
     ]
    }
   ],
   "source": [
    "param = {'max_depth':14, \n",
    "         'subsample':0.9,\n",
    "         'min_child_weight':3,\n",
    "         'eta':0.03, \n",
    "         'lambda':2,\n",
    "         'colsample_bytree':0.6,\n",
    "         'seed':1,\n",
    "         'silent':1,\n",
    "         'eval_metric':'rmse',\n",
    "         'maximize': False,\n",
    "         'nthread':8}\n",
    "n_tree = 40\n",
    "\n",
    "progress, bst_cv, sub_df = cv_predict(param, n_tree, x_train, y_train, month_in_cv, 'eda_11.csv', verbose=True)"
   ]
  },
  {
   "cell_type": "code",
   "execution_count": 89,
   "metadata": {},
   "outputs": [
    {
     "data": {
      "image/png": "[encoded data removed]",
      "text/plain": [
       "<Figure size 1152x648 with 1 Axes>"
      ]
     },
     "metadata": {},
     "output_type": "display_data"
    }
   ],
   "source": [
    "val_mean = progress.xs('val', axis=1, level=1).mean(axis=1)\n",
    "val_std = progress.xs('val', axis=1, level=1).std(axis=1)\n",
    "\n",
    "train_mean = progress.xs('train', axis=1, level=1).mean(axis=1)\n",
    "train_std = progress.xs('train', axis=1, level=1).std(axis=1)\n",
    "\n",
    "plt.figure(figsize=(16, 9))\n",
    "plt.rcParams.update({'font.size': 20})\n",
    "plt.plot(np.arange(len(train_mean)), train_mean)\n",
    "plt.fill_between(np.arange(len(train_std)), \n",
    "                 train_mean-train_std, \n",
    "                 train_mean+train_std, alpha=0.5)\n",
    "plt.plot(np.arange(len(val_mean)), val_mean)\n",
    "plt.fill_between(np.arange(len(val_mean)), \n",
    "                 val_mean-val_std, \n",
    "                 val_mean+val_std, alpha=0.5)\n",
    "plt.legend(['train', 'val'])\n",
    "plt.xlabel('iteration')\n",
    "plt.ylabel('clip-rmse')\n",
    "plt.grid()"
   ]
  },
  {
   "cell_type": "code",
   "execution_count": 91,
   "metadata": {},
   "outputs": [
    {
     "name": "stdout",
     "output_type": "stream",
     "text": [
      "Start training model 0 on month 33\n",
      "Train of model 0 on month 33 is finished, uses 13.44 sec.\n",
      "\n",
      "Start predicting model 0 on month 34.\n",
      "Prediction of model 0 on month 34 is finished.\n",
      "\n",
      "---------------------------------------\n",
      "\n",
      "Start training model 1 on month 33\n",
      "Train of model 1 on month 33 is finished, uses 13.64 sec.\n",
      "\n",
      "Start predicting model 1 on month 34.\n",
      "Prediction of model 1 on month 34 is finished.\n",
      "\n",
      "---------------------------------------\n",
      "\n",
      "Start training model 2 on month 33\n",
      "Train of model 2 on month 33 is finished, uses 13.56 sec.\n",
      "\n",
      "Start predicting model 2 on month 34.\n",
      "Prediction of model 2 on month 34 is finished.\n",
      "\n",
      "---------------------------------------\n",
      "\n",
      "Start training model 3 on month 33\n",
      "Train of model 3 on month 33 is finished, uses 13.46 sec.\n",
      "\n",
      "Start predicting model 3 on month 34.\n",
      "Prediction of model 3 on month 34 is finished.\n",
      "\n",
      "---------------------------------------\n",
      "\n",
      "Start training model 4 on month 33\n",
      "Train of model 4 on month 33 is finished, uses 14.33 sec.\n",
      "\n",
      "Start predicting model 4 on month 34.\n",
      "Prediction of model 4 on month 34 is finished.\n",
      "\n",
      "---------------------------------------\n",
      "\n",
      "Start training model 5 on month 33\n",
      "Train of model 5 on month 33 is finished, uses 13.98 sec.\n",
      "\n",
      "Start predicting model 5 on month 34.\n",
      "Prediction of model 5 on month 34 is finished.\n",
      "\n",
      "---------------------------------------\n",
      "\n",
      "Start training model 6 on month 33\n",
      "Train of model 6 on month 33 is finished, uses 13.66 sec.\n",
      "\n",
      "Start predicting model 6 on month 34.\n",
      "Prediction of model 6 on month 34 is finished.\n",
      "\n",
      "---------------------------------------\n",
      "\n",
      "Start training model 7 on month 33\n",
      "Train of model 7 on month 33 is finished, uses 13.66 sec.\n",
      "\n",
      "Start predicting model 7 on month 34.\n",
      "Prediction of model 7 on month 34 is finished.\n",
      "\n",
      "---------------------------------------\n",
      "\n",
      "Start training model 8 on month 33\n",
      "Train of model 8 on month 33 is finished, uses 13.63 sec.\n",
      "\n",
      "Start predicting model 8 on month 34.\n",
      "Prediction of model 8 on month 34 is finished.\n",
      "\n",
      "---------------------------------------\n",
      "\n",
      "Start training model 9 on month 33\n",
      "Train of model 9 on month 33 is finished, uses 14.01 sec.\n",
      "\n",
      "Start predicting model 9 on month 34.\n",
      "Prediction of model 9 on month 34 is finished.\n",
      "\n",
      "---------------------------------------\n",
      "\n"
     ]
    }
   ],
   "source": [
    "param = {'max_depth':14, \n",
    "         'subsample':0.9,\n",
    "         'min_child_weight':3,\n",
    "         'eta':0.03, \n",
    "         'lambda':2,\n",
    "         'colsample_bytree':0.8,\n",
    "         'seed':1,\n",
    "         'silent':1,\n",
    "         'eval_metric':'rmse',\n",
    "         'maximize': False,\n",
    "         'nthread':8}\n",
    "n_tree = 40\n",
    "n_model = 10\n",
    "\n",
    "bst, preds, preds_mean = ensemble(n_model, param, n_tree, x_train, y_train, month_in_cv, 'eda_11.csv', verbose=False)"
   ]
  }
 ],
 "metadata": {
  "kernelspec": {
   "display_name": "Python 3",
   "language": "python",
   "name": "python3"
  },
  "language_info": {
   "codemirror_mode": {
    "name": "ipython",
    "version": 3
   },
   "file_extension": ".py",
   "mimetype": "text/x-python",
   "name": "python",
   "nbconvert_exporter": "python",
   "pygments_lexer": "ipython3",
   "version": "3.6.6"
  }
 },
 "nbformat": 4,
 "nbformat_minor": 2
}
