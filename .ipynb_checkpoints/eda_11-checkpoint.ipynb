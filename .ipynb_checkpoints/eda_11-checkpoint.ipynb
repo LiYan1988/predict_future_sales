{
 "cells": [
  {
   "cell_type": "code",
   "execution_count": 1,
   "metadata": {},
   "outputs": [],
   "source": [
    "import numpy as np\n",
    "import pandas as pd\n",
    "import matplotlib.pyplot as plt\n",
    "import os\n",
    "import gc\n",
    "import sys\n",
    "import time\n",
    "import gc\n",
    "import itertools\n",
    "import tqdm\n",
    "import time\n",
    "\n",
    "from sklearn.preprocessing import LabelEncoder\n",
    "import scipy.stats as ss\n",
    "\n",
    "if os.name=='nt':\n",
    "    try:\n",
    "        mingw_path = 'C:\\\\Program Files\\\\mingw-w64\\\\x86_64-8.1.0-posix-seh-rt_v6-rev0\\\\mingw64\\\\bin'\n",
    "        os.environ['PATH'] = mingw_path + ';' + os.environ['PATH']\n",
    "    except:\n",
    "        pass\n",
    "    \n",
    "import xgboost as xgb\n",
    "from sklearn.metrics import mean_squared_error \n",
    "from numba import jit\n",
    "\n",
    "%matplotlib inline"
   ]
  },
  {
   "cell_type": "code",
   "execution_count": 2,
   "metadata": {},
   "outputs": [],
   "source": [
    "# Load data\n",
    "train = pd.read_csv('all/sales_train.csv.gz')\n",
    "test = pd.read_csv('all/test.csv.gz')\n",
    "shop = pd.read_csv('all/shops-translated.csv')\n",
    "item = pd.read_csv('all/item_category.csv')\n",
    "\n",
    "test.set_index('ID', inplace=True)\n",
    "item.drop(['item_name_translated'], axis=1, inplace=True)\n",
    "shop.drop(['Name'], axis=1, inplace=True)\n",
    "\n",
    "le = LabelEncoder()\n",
    "item['item_cat1'] = le.fit_transform(item['item_cat1'].astype(str))\n",
    "item['item_cat2'] = le.fit_transform(item['item_cat2'].astype(str))\n",
    "shop['City'] = le.fit_transform(shop['City'])\n",
    "shop['Type'] = le.fit_transform(shop['Type'])\n",
    "\n",
    "# test = test.merge(item, on='item_id', how='left')\n",
    "# test = test.merge(shop, on='shop_id', how='left')"
   ]
  },
  {
   "cell_type": "code",
   "execution_count": 3,
   "metadata": {},
   "outputs": [],
   "source": [
    "# count of sales per month\n",
    "cnt = train.pivot_table(index=['shop_id', 'item_id'],\n",
    "                        columns=['date_block_num'],\n",
    "                        values='item_cnt_day',\n",
    "                        aggfunc='sum').fillna(0.0)\n",
    "\n",
    "cnt = test.join(cnt, on=['shop_id', 'item_id'], how='left').fillna(0.0)\n",
    "cnt.drop(['shop_id', 'item_id'], axis=1, inplace=True)\n",
    "cnt.columns = ['cnt_'+str(k) for k in cnt.columns]"
   ]
  },
  {
   "cell_type": "code",
   "execution_count": 4,
   "metadata": {},
   "outputs": [],
   "source": [
    "# total value of sales per month\n",
    "train['sales'] = train['item_cnt_day']*train['item_price']\n",
    "sales = train.pivot_table(index=['shop_id', 'item_id'],\n",
    "                         columns='date_block_num',\n",
    "                         values='sales',\n",
    "                         aggfunc=np.sum).fillna(0.0)\n",
    "\n",
    "sales = test.join(sales, on=['shop_id', 'item_id'], how='left').fillna(0.0)\n",
    "sales.drop(['shop_id', 'item_id'], axis=1, inplace=True)\n",
    "sales.columns = ['sales_'+str(k) for k in sales.columns]"
   ]
  },
  {
   "cell_type": "code",
   "execution_count": 5,
   "metadata": {},
   "outputs": [],
   "source": [
    "test_shop_item = test.merge(shop, on=['shop_id'], how='left')\n",
    "test_shop_item = test_shop_item.merge(item, on=['item_id'], how='left')"
   ]
  },
  {
   "cell_type": "markdown",
   "metadata": {},
   "source": [
    "### Mean Encoding"
   ]
  },
  {
   "cell_type": "code",
   "execution_count": 6,
   "metadata": {},
   "outputs": [],
   "source": [
    "# Apply pivot table with combinations of the following parameters\n",
    "index_list = ['item_id', 'shop_id', 'City', 'Type', 'item_cat1', 'item_cat2']\n",
    "column_list = ['date_block_num']\n",
    "value_list = ['item_price', 'item_cnt_day', 'sales'] # ['item_price', 'item_cnt_day', 'sales']\n",
    "aggfunc_list = [np.sum, np.mean]"
   ]
  },
  {
   "cell_type": "code",
   "execution_count": 7,
   "metadata": {},
   "outputs": [],
   "source": [
    "x = train.merge(shop, on='shop_id', how='left')\n",
    "x = x.merge(item, on='item_id', how='left')"
   ]
  },
  {
   "cell_type": "code",
   "execution_count": 8,
   "metadata": {},
   "outputs": [],
   "source": [
    "cols_drop = ['shop_id', 'item_id', 'City', 'Type', 'item_cat1', 'item_cat2']"
   ]
  },
  {
   "cell_type": "code",
   "execution_count": 9,
   "metadata": {},
   "outputs": [
    {
     "data": {
      "application/vnd.jupyter.widget-view+json": {
       "model_id": "ffb937488286429fbdd5f41b462d57ab",
       "version_major": 2,
       "version_minor": 0
      },
      "text/plain": [
       "HBox(children=(IntProgress(value=0, max=36), HTML(value='')))"
      ]
     },
     "metadata": {},
     "output_type": "display_data"
    },
    {
     "name": "stdout",
     "output_type": "stream",
     "text": [
      "\n"
     ]
    }
   ],
   "source": [
    "feature_dict2 = {}\n",
    "for idx, col, val, agf in tqdm.tqdm_notebook(list(itertools.product(index_list, column_list, value_list, aggfunc_list))):\n",
    "    tmp = x.pivot_table(index=idx, columns=col, values=val, aggfunc=agf).fillna(0.0)\n",
    "    tmp_name = '-'.join([idx, val, str(agf).split(' ')[1]])\n",
    "    tmp.columns = [tmp_name+'_'+str(k) for k in tmp.columns]\n",
    "    tmp = test_shop_item.merge(tmp, on=idx, how='left').fillna(0.0)\n",
    "    tmp.drop(cols_drop, axis=1, inplace=True)\n",
    "    feature_dict2[tmp_name] = tmp"
   ]
  },
  {
   "cell_type": "code",
   "execution_count": 10,
   "metadata": {},
   "outputs": [
    {
     "data": {
      "text/plain": [
       "dict_keys(['item_id-item_price-sum', 'item_id-item_price-mean', 'item_id-item_cnt_day-sum', 'item_id-item_cnt_day-mean', 'item_id-sales-sum', 'item_id-sales-mean', 'shop_id-item_price-sum', 'shop_id-item_price-mean', 'shop_id-item_cnt_day-sum', 'shop_id-item_cnt_day-mean', 'shop_id-sales-sum', 'shop_id-sales-mean', 'City-item_price-sum', 'City-item_price-mean', 'City-item_cnt_day-sum', 'City-item_cnt_day-mean', 'City-sales-sum', 'City-sales-mean', 'Type-item_price-sum', 'Type-item_price-mean', 'Type-item_cnt_day-sum', 'Type-item_cnt_day-mean', 'Type-sales-sum', 'Type-sales-mean', 'item_cat1-item_price-sum', 'item_cat1-item_price-mean', 'item_cat1-item_cnt_day-sum', 'item_cat1-item_cnt_day-mean', 'item_cat1-sales-sum', 'item_cat1-sales-mean', 'item_cat2-item_price-sum', 'item_cat2-item_price-mean', 'item_cat2-item_cnt_day-sum', 'item_cat2-item_cnt_day-mean', 'item_cat2-sales-sum', 'item_cat2-sales-mean'])"
      ]
     },
     "execution_count": 10,
     "metadata": {},
     "output_type": "execute_result"
    }
   ],
   "source": [
    "feature_dict2.keys()"
   ]
  },
  {
   "cell_type": "markdown",
   "metadata": {},
   "source": [
    "### CV"
   ]
  },
  {
   "cell_type": "code",
   "execution_count": 11,
   "metadata": {},
   "outputs": [],
   "source": [
    "month_in_model = 31\n",
    "month_test = 34\n",
    "month_in_cv = list(range(month_in_model, 35))\n",
    "cols_cv = {k: list(range(k-month_in_model, k)) for k in month_in_cv} # The last month is test\n",
    "\n",
    "x_train = {}\n",
    "y_train = {}\n",
    "for m in month_in_cv:\n",
    "    print(m)\n",
    "    df_list = [test_shop_item, \n",
    "           cnt.iloc[:, cols_cv[m]], \n",
    "           sales.iloc[:, cols_cv[m]]]\n",
    "    df_list.extend([feature_dict2[k].iloc[:, cols_cv[m]] \n",
    "                    for k in feature_dict2.keys()])\n",
    "    x_train[m] = pd.concat(df_list, axis=1, sort=False).values\n",
    "    if m<month_test:\n",
    "        # only train months have y_train, test month does not have it\n",
    "        # clip ground truth since the objective is clipped\n",
    "        y_train[m] = np.maximum(np.minimum(cnt.iloc[:, m].values, 40.0), 0.0)"
   ]
  },
  {
   "cell_type": "code",
   "execution_count": 13,
   "metadata": {},
   "outputs": [],
   "source": [
    "def clip_rmse(preds, dtrain):\n",
    "    y_test = np.array(dtrain.get_label())\n",
    "    preds = np.array(preds)\n",
    "    y_test = np.maximum(np.minimum(y_test, 20), 0)\n",
    "    preds = np.maximum(np.minimum(preds, 20), 0)\n",
    "    #preds = np.array(list(map(lambda x: min(20, max(x, 0)), list(preds))))\n",
    "    #y_test = np.array(list(map(lambda x: min(20, max(x, 0)), list(y_test))))\n",
    "    rmse = np.sqrt(mean_squared_error(preds,y_test))\n",
    "    return 'clip-rmse', rmse"
   ]
  },
  {
   "cell_type": "code",
   "execution_count": 14,
   "metadata": {},
   "outputs": [],
   "source": [
    "def cv_predict(param, n_tree, x_train, y_train, month_in_cv, sub_name, verbose=False):\n",
    "    '''CV and predict'''\n",
    "    progress = dict()\n",
    "    bst_cv = dict()\n",
    "    \n",
    "    for m in month_in_cv:\n",
    "        if m<month_in_cv[-2]:\n",
    "            # CV \n",
    "            print('CV of month {} is started.'.format(m))\n",
    "            time_start = time.time()\n",
    "            progress[m] = {}\n",
    "            dtrain = xgb.DMatrix(x_train[m], y_train[m], nthread=-1)\n",
    "            dval = xgb.DMatrix(x_train[m+1], y_train[m+1], nthread=-1)\n",
    "            watchlist = [(dtrain, 'train'), (dval, 'val')]\n",
    "\n",
    "            bst_cv[m] = xgb.train(param, \n",
    "                            dtrain, \n",
    "                            evals=watchlist,\n",
    "                            evals_result=progress[m], \n",
    "                            verbose_eval=verbose,\n",
    "                            num_boost_round=n_tree,\n",
    "                            feval=clip_rmse)\n",
    "\n",
    "            time_end = time.time()\n",
    "\n",
    "            print('CV of month {} is finished, uses {:.2f} sec, clip-rmse on val {:.2f}\\n'.format(m, \n",
    "                time_end-time_start, progress[m]['val']['clip-rmse'][-1]))\n",
    "            \n",
    "        elif m==month_in_cv[-2]:\n",
    "            # Train the last cv model for prediction\n",
    "            print('Training of month {} is started.'.format(m))\n",
    "            time_start = time.time()\n",
    "            dtrain = xgb.DMatrix(x_train[m], y_train[m], nthread=-1)\n",
    "            watchlist = [(dtrain, 'train')]\n",
    "\n",
    "            bst_cv[m] = xgb.train(param, \n",
    "                            dtrain, \n",
    "                            evals=watchlist,\n",
    "                            verbose_eval=verbose,\n",
    "                            num_boost_round=n_tree,\n",
    "                            feval=clip_rmse)\n",
    "\n",
    "            time_end = time.time()\n",
    "            print('Train of month {} is finished, uses {:.2f} sec.\\n'.format(m, time_end-time_start))\n",
    "                  \n",
    "        else:\n",
    "            # Prediction\n",
    "            print('Predicting of month {} is started.'.format(m))\n",
    "            preds = bst_cv[m-1].predict(xgb.DMatrix(x_train[m]))\n",
    "            preds = list(map(lambda x: min(20, max(x, 0)), list(preds)))\n",
    "            sub_df = pd.DataFrame({'ID': cnt.index, 'item_cnt_month': preds})\n",
    "            sub_df.to_csv(sub_name, index=False)\n",
    "            print('Prediction of month {} is finished.\\n'.format(m))\n",
    "        \n",
    "    progress = {m: {'train': progress[m]['train']['clip-rmse'], \n",
    "            'val': progress[m]['val']['clip-rmse']} \n",
    "        for m in progress.keys()}\n",
    "    progress = pd.DataFrame({(m, k): progress[m][k] \n",
    "                             for m in progress.keys() \n",
    "                             for k in progress[m].keys()})\n",
    "    \n",
    "    return progress, bst_cv, sub_df"
   ]
  },
  {
   "cell_type": "code",
   "execution_count": null,
   "metadata": {},
   "outputs": [],
   "source": [
    "param = {'max_depth':14, \n",
    "         'subsample':0.9,\n",
    "         'min_child_weight':3,\n",
    "         'eta':0.03, \n",
    "         'lambda':2,\n",
    "         'colsample_bytree':0.6,\n",
    "         'seed':1,\n",
    "         'silent':1,\n",
    "         'eval_metric':'rmse',\n",
    "         'maximize': False,\n",
    "         'nthread':8}\n",
    "n_tree = 40\n",
    "\n",
    "progress, bst_cv, sub_df = cv_predict(param, n_tree, x_train, y_train, month_in_cv, 'eda_11.csv', verbose=True)"
   ]
  },
  {
   "cell_type": "code",
   "execution_count": 16,
   "metadata": {},
   "outputs": [
    {
     "data": {
      "image/png": "[encoded data removed]",
      "text/plain": [
       "<Figure size 1152x648 with 1 Axes>"
      ]
     },
     "metadata": {},
     "output_type": "display_data"
    }
   ],
   "source": [
    "val_mean = progress.xs('val', axis=1, level=1).mean(axis=1)\n",
    "val_std = progress.xs('val', axis=1, level=1).std(axis=1)\n",
    "\n",
    "train_mean = progress.xs('train', axis=1, level=1).mean(axis=1)\n",
    "train_std = progress.xs('train', axis=1, level=1).std(axis=1)\n",
    "\n",
    "plt.figure(figsize=(16, 9))\n",
    "plt.rcParams.update({'font.size': 20})\n",
    "plt.plot(np.arange(len(train_mean)), train_mean)\n",
    "plt.fill_between(np.arange(len(train_std)), \n",
    "                 train_mean-train_std, \n",
    "                 train_mean+train_std, alpha=0.5)\n",
    "plt.plot(np.arange(len(val_mean)), val_mean)\n",
    "plt.fill_between(np.arange(len(val_mean)), \n",
    "                 val_mean-val_std, \n",
    "                 val_mean+val_std, alpha=0.5)\n",
    "plt.legend(['train', 'val'])\n",
    "plt.xlabel('iteration')\n",
    "plt.ylabel('clip-rmse')\n",
    "plt.grid()"
   ]
  },
  {
   "cell_type": "markdown",
   "metadata": {},
   "source": [
    "### Ensemble"
   ]
  },
  {
   "cell_type": "code",
   "execution_count": 35,
   "metadata": {},
   "outputs": [],
   "source": [
    "def ensemble(n_model, param, n_tree, x_train, y_train, month_in_cv, sub_name, verbose=True, random_state=42):\n",
    "    '''Change random seed and train, then combine predictions'''\n",
    "    \n",
    "    np.random.seed(random_state)\n",
    "    \n",
    "    bst = {}\n",
    "    preds = []\n",
    "    m = month_in_cv[-2]\n",
    "    \n",
    "    for n in range(n_model):\n",
    "        # Train the model with a different random seed\n",
    "        param['seed'] = np.random.randint(100000)\n",
    "        \n",
    "        # Train the last cv model for prediction\n",
    "        print('Start training model {} on month {}'.format(n, m))\n",
    "        time_start = time.time()\n",
    "        dtrain = xgb.DMatrix(x_train[m], y_train[m], nthread=-1)\n",
    "        watchlist = [(dtrain, 'train')]\n",
    "\n",
    "        bst[n] = xgb.train(param, \n",
    "                        dtrain, \n",
    "                        evals=watchlist,\n",
    "                        verbose_eval=verbose,\n",
    "                        num_boost_round=n_tree,\n",
    "                        feval=clip_rmse)\n",
    "\n",
    "        time_end = time.time()\n",
    "        print('Train of model {} on month {} is finished, uses {:.2f} sec.\\n'.format(n, m, time_end-time_start))\n",
    "\n",
    "        # Prediction\n",
    "        print('Start predicting model {} on month {}.'.format(n, m+1))\n",
    "        preds.append(bst[n].predict(xgb.DMatrix(x_train[m+1])))\n",
    "        print('Prediction of model {} on month {} is finished.\\n'.format(n, m+1))\n",
    "        \n",
    "        print('---------------------------------------\\n')\n",
    "    \n",
    "    preds_mean = np.array(preds).mean(axis=0)\n",
    "    preds_mean = list(map(lambda x: min(20, max(x, 0)), list(preds_mean)))\n",
    "    preds_mean = pd.DataFrame({'ID': cnt.index, 'item_cnt_month': preds_mean})\n",
    "    preds_mean.to_csv(sub_name, index=False)\n",
    "    \n",
    "    \n",
    "    return bst, preds, preds_mean"
   ]
  },
  {
   "cell_type": "code",
   "execution_count": null,
   "metadata": {},
   "outputs": [],
   "source": [
    "param = {'max_depth':14, \n",
    "         'subsample':0.9,\n",
    "         'min_child_weight':3,\n",
    "         'eta':0.03, \n",
    "         'lambda':2,\n",
    "         'colsample_bytree':0.8,\n",
    "         'seed':1,\n",
    "         'silent':1,\n",
    "         'eval_metric':'rmse',\n",
    "         'maximize': False,\n",
    "         'nthread':8}\n",
    "n_tree = 40\n",
    "n_model = 10\n",
    "\n",
    "bst, preds, preds_mean = ensemble(n_model, param, n_tree, x_train, y_train, month_in_cv, 'eda_11.csv', verbose=True)"
   ]
  },
  {
   "cell_type": "code",
   "execution_count": 60,
   "metadata": {},
   "outputs": [],
   "source": [
    "a = {k: bst[k].get_score(importance_type='gain') for k in range(n_model)}"
   ]
  },
  {
   "cell_type": "code",
   "execution_count": 61,
   "metadata": {},
   "outputs": [],
   "source": [
    "a = pd.DataFrame(a)"
   ]
  },
  {
   "cell_type": "code",
   "execution_count": 66,
   "metadata": {},
   "outputs": [],
   "source": [
    "a.index = [int(k[1:]) for k in a.index]"
   ]
  },
  {
   "cell_type": "code",
   "execution_count": 78,
   "metadata": {},
   "outputs": [],
   "source": [
    "b = a.mean(axis=1).sort_values(ascending=False)"
   ]
  },
  {
   "cell_type": "code",
   "execution_count": 85,
   "metadata": {},
   "outputs": [],
   "source": [
    "important_features = b.iloc[:100].index.tolist()"
   ]
  },
  {
   "cell_type": "code",
   "execution_count": 75,
   "metadata": {},
   "outputs": [
    {
     "data": {
      "text/plain": [
       "[<matplotlib.lines.Line2D at 0x28eb5447be0>]"
      ]
     },
     "execution_count": 75,
     "metadata": {},
     "output_type": "execute_result"
    },
    {
     "data": {
      "image/png": "[encoded data removed]",
      "text/plain": [
       "<Figure size 1152x648 with 1 Axes>"
      ]
     },
     "metadata": {},
     "output_type": "display_data"
    }
   ],
   "source": [
    "plt.figure(figsize=(16, 9))\n",
    "plt.plot(a.mean(axis=1).sort_values(ascending=False).values)"
   ]
  },
  {
   "cell_type": "markdown",
   "metadata": {},
   "source": [
    "### Train with important 100 features"
   ]
  },
  {
   "cell_type": "code",
   "execution_count": null,
   "metadata": {},
   "outputs": [],
   "source": [
    "month_in_model = 31\n",
    "month_test = 34\n",
    "month_in_cv = list(range(month_in_model, 35))\n",
    "cols_cv = {k: list(range(k-month_in_model, k)) for k in month_in_cv} # The last month is test\n",
    "\n",
    "x_train = {}\n",
    "y_train = {}\n",
    "for m in month_in_cv:\n",
    "    print(m)\n",
    "    df_list = [test_shop_item, \n",
    "           cnt.iloc[:, cols_cv[m]], \n",
    "           sales.iloc[:, cols_cv[m]]]\n",
    "    df_list.extend([feature_dict2[k].iloc[:, cols_cv[m]] \n",
    "                    for k in feature_dict2.keys()])\n",
    "    x_train[m] = pd.concat(df_list, axis=1, sort=False).values[:, important_features]\n",
    "    if m<month_test:\n",
    "        # only train months have y_train, test month does not have it\n",
    "        # clip ground truth since the objective is clipped\n",
    "        y_train[m] = np.maximum(np.minimum(cnt.iloc[:, m].values, 40.0), 0.0)"
   ]
  }
 ],
 "metadata": {
  "kernelspec": {
   "display_name": "Python 3",
   "language": "python",
   "name": "python3"
  },
  "language_info": {
   "codemirror_mode": {
    "name": "ipython",
    "version": 3
   },
   "file_extension": ".py",
   "mimetype": "text/x-python",
   "name": "python",
   "nbconvert_exporter": "python",
   "pygments_lexer": "ipython3",
   "version": "3.6.6"
  }
 },
 "nbformat": 4,
 "nbformat_minor": 2
}
