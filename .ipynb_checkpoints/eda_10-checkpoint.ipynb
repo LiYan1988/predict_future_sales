{
 "cells": [
  {
   "cell_type": "code",
   "execution_count": 1,
   "metadata": {},
   "outputs": [],
   "source": [
    "import numpy as np\n",
    "import pandas as pd\n",
    "import matplotlib.pyplot as plt\n",
    "import os\n",
    "import gc\n",
    "import sys\n",
    "import time\n",
    "import gc\n",
    "import itertools\n",
    "import tqdm\n",
    "\n",
    "from sklearn.preprocessing import LabelEncoder\n",
    "import scipy.stats as ss\n",
    "\n",
    "if os.name=='nt':\n",
    "    try:\n",
    "        mingw_path = 'C:\\\\Program Files\\\\mingw-w64\\\\x86_64-8.1.0-posix-seh-rt_v6-rev0\\\\mingw64\\\\bin'\n",
    "        os.environ['PATH'] = mingw_path + ';' + os.environ['PATH']\n",
    "    except:\n",
    "        pass\n",
    "    \n",
    "import xgboost as xgb\n",
    "from sklearn.metrics import mean_squared_error \n",
    "from numba import jit\n",
    "\n",
    "%matplotlib inline"
   ]
  },
  {
   "cell_type": "markdown",
   "metadata": {},
   "source": [
    "### Load data"
   ]
  },
  {
   "cell_type": "code",
   "execution_count": 2,
   "metadata": {},
   "outputs": [],
   "source": [
    "# Load data\n",
    "train = pd.read_csv('all/sales_train.csv.gz')\n",
    "test = pd.read_csv('all/test.csv.gz')\n",
    "shop = pd.read_csv('all/shops-translated.csv')\n",
    "item = pd.read_csv('all/item_category.csv')\n",
    "\n",
    "test.set_index('ID', inplace=True)\n",
    "item.drop(['item_name_translated'], axis=1, inplace=True)\n",
    "shop.drop(['Name'], axis=1, inplace=True)\n",
    "\n",
    "le = LabelEncoder()\n",
    "item['item_cat1'] = le.fit_transform(item['item_cat1'].astype(str))\n",
    "item['item_cat2'] = le.fit_transform(item['item_cat2'].astype(str))\n",
    "shop['City'] = le.fit_transform(shop['City'])\n",
    "shop['Type'] = le.fit_transform(shop['Type'])\n",
    "\n",
    "shop.set_index('shop_id', inplace=True)\n",
    "item.set_index('item_id', inplace=True)"
   ]
  },
  {
   "cell_type": "code",
   "execution_count": 3,
   "metadata": {},
   "outputs": [],
   "source": [
    "train['sales'] = train['item_price']*train['item_cnt_day']\n",
    "train = train.merge(shop, how='left', left_on='shop_id', right_index=True)\n",
    "train = train.merge(item, how='left', left_on='item_id', right_index=True)\n",
    "train.date = pd.to_datetime(train.date, format='%d.%m.%Y')\n",
    "\n",
    "test = test.merge(shop, how='left', left_on='shop_id', right_index=True)\n",
    "test = test.merge(item, how='left', left_on='item_id', right_index=True)"
   ]
  },
  {
   "cell_type": "markdown",
   "metadata": {},
   "source": [
    "### `cnt`"
   ]
  },
  {
   "cell_type": "code",
   "execution_count": 4,
   "metadata": {},
   "outputs": [],
   "source": [
    "feature_dict = {} # dict containing all the features"
   ]
  },
  {
   "cell_type": "code",
   "execution_count": 5,
   "metadata": {},
   "outputs": [],
   "source": [
    "# Total count of sales per month\n",
    "train_p = train.pivot_table(index=['shop_id', 'item_id'],\n",
    "                           columns='date_block_num',\n",
    "                           values='item_cnt_day',\n",
    "                           aggfunc=np.sum).fillna(0.0)\n",
    "# Rename columns\n",
    "train_p.columns = ['cnt_'+str(k) for k in train_p.columns.get_level_values(0)]\n",
    "# Add one column for test data\n",
    "train_p['cnt_34'] = np.zeros((len(train_p), 1))\n",
    "# Merge to test\n",
    "train_p = test.merge(train_p, how='left', left_on=['shop_id', 'item_id'], right_index=True)\n",
    "# Add to the feature dict\n",
    "feature_dict['cnt'] = train_p"
   ]
  },
  {
   "cell_type": "markdown",
   "metadata": {},
   "source": [
    "### `sales`"
   ]
  },
  {
   "cell_type": "code",
   "execution_count": 6,
   "metadata": {},
   "outputs": [],
   "source": [
    "# Total value of sales per month\n",
    "sales = train.pivot_table(index=['shop_id', 'item_id'],\n",
    "                         columns='date_block_num', \n",
    "                         values='sales',\n",
    "                         aggfunc=np.sum).fillna(0.0)\n",
    "# Rename columns\n",
    "sales.columns = ['sales_'+str(k) for k in sales.columns.get_level_values(0)]\n",
    "# Add on column for test data\n",
    "sales['sales_34'] = np.zeros((len(sales), 1))\n",
    "# Merge to test\n",
    "sales = test.merge(sales, how='left', left_on=['shop_id', 'item_id'], right_index=True)\n",
    "# Add to the feature dict\n",
    "feature_dict['sales'] = sales"
   ]
  },
  {
   "cell_type": "markdown",
   "metadata": {},
   "source": [
    "### explore"
   ]
  },
  {
   "cell_type": "code",
   "execution_count": 7,
   "metadata": {},
   "outputs": [],
   "source": [
    "# Apply pivot table to x with combinations of the following parameters\n",
    "index_list = ['item_id', 'shop_id', 'City', 'Type', 'item_cat1', 'item_cat2']\n",
    "column_list = ['date_block_num']\n",
    "value_list = ['item_price', 'item_cnt_day', 'sales']\n",
    "aggfunc_list = [np.sum, np.mean]"
   ]
  },
  {
   "cell_type": "code",
   "execution_count": 8,
   "metadata": {},
   "outputs": [
    {
     "data": {
      "application/vnd.jupyter.widget-view+json": {
       "model_id": "376c4426353147c9ba8e63d046c89e8a",
       "version_major": 2,
       "version_minor": 0
      },
      "text/plain": [
       "HBox(children=(IntProgress(value=0, max=36), HTML(value='')))"
      ]
     },
     "metadata": {},
     "output_type": "display_data"
    },
    {
     "name": "stdout",
     "output_type": "stream",
     "text": [
      "\n"
     ]
    }
   ],
   "source": [
    "feature_dict2 = {}\n",
    "for idx, col, val, agf in tqdm.tqdm_notebook(list(itertools.product(index_list, column_list, value_list, aggfunc_list))):\n",
    "    tmp = train.pivot_table(index=idx, columns=col, values=val, aggfunc=agf).fillna(0.0)\n",
    "    tmp_name = '-'.join([idx, val, str(agf).split(' ')[1]])\n",
    "    tmp.columns = [tmp_name+'_'+str(k) for k in tmp.columns]\n",
    "    tmp[tmp_name+'_34'] = np.zeros((len(tmp), 1))\n",
    "    feature_dict2[tmp_name] = tmp"
   ]
  },
  {
   "cell_type": "markdown",
   "metadata": {},
   "source": [
    "### CV"
   ]
  },
  {
   "cell_type": "code",
   "execution_count": 9,
   "metadata": {},
   "outputs": [],
   "source": [
    "def clip_rmse(preds, dtrain):\n",
    "    y_test = np.array(dtrain.get_label())\n",
    "    preds = np.array(preds)\n",
    "    y_test = np.maximum(np.minimum(y_test, 20), 0)\n",
    "    preds = np.maximum(np.minimum(preds, 20), 0)\n",
    "    rmse = np.sqrt(mean_squared_error(preds,y_test))\n",
    "    return 'clip-rmse', rmse"
   ]
  },
  {
   "cell_type": "code",
   "execution_count": 155,
   "metadata": {},
   "outputs": [],
   "source": [
    "month_number = 31\n",
    "train_end_month = 31\n",
    "val_end_month=train_end_month+1\n",
    "test_end_month=val_end_month+1\n",
    "\n",
    "x = train_p.fillna(0.0)\n",
    "cnt = x.iloc[:, 6:]\n",
    "cnt_train = cnt.iloc[:, train_end_month-month_number:train_end_month]\n",
    "cnt_val = cnt.iloc[:, val_end_month-month_number:val_end_month]\n",
    "cnt_test = cnt.iloc[:, test_end_month-month_number:test_end_month]\n",
    "p = x.iloc[:, :6]\n",
    "\n",
    "x_train = pd.concat((p, cnt_train), axis=1, sort=False).values\n",
    "y_train = cnt.iloc[:, train_end_month+1].values\n",
    "y_train = np.maximum(np.minimum(y_train, 40), 0)\n",
    "\n",
    "x_val = pd.concat((p, cnt_val), axis=1, sort=False).values\n",
    "y_val = cnt.iloc[:, val_end_month+1].values\n",
    "y_val = np.maximum(np.minimum(y_val, 40), 0)\n",
    "\n",
    "x_test = pd.concat((p, cnt_test), axis=1, sort=False).values"
   ]
  },
  {
   "cell_type": "code",
   "execution_count": 157,
   "metadata": {},
   "outputs": [
    {
     "data": {
      "text/plain": [
       "<matplotlib.legend.Legend at 0x262053647f0>"
      ]
     },
     "execution_count": 157,
     "metadata": {},
     "output_type": "execute_result"
    },
    {
     "data": {
      "image/png": "[encoded data removed]",
      "text/plain": [
       "<Figure size 1152x648 with 1 Axes>"
      ]
     },
     "metadata": {},
     "output_type": "display_data"
    }
   ],
   "source": [
    "param = {'max_depth': 14, \n",
    "        'subsample': 1,\n",
    "        'min_child_weight': 0.5,\n",
    "        'eta': 0.3,\n",
    "        'seed': 1,\n",
    "        'silent': 1,\n",
    "        'maximize': False}\n",
    "\n",
    "progress = dict()\n",
    "dtrain = xgb.DMatrix(x_train, y_train)\n",
    "dval = xgb.DMatrix(x_val, y_val)\n",
    "watchlist = [(dtrain, 'train'), (dval, 'val')]\n",
    "\n",
    "bst = xgb.train(param, \n",
    "                dtrain, \n",
    "                evals=watchlist,\n",
    "                evals_result=progress,\n",
    "                verbose_eval=False,\n",
    "                num_boost_round=6,\n",
    "                feval=clip_rmse)\n",
    "\n",
    "plt.figure(figsize=(16, 9))\n",
    "plt.plot(progress['train']['clip-rmse'], label='train')\n",
    "plt.plot(progress['val']['clip-rmse'], label='evaluation')\n",
    "plt.ylabel('clip-rmse', fontsize=20)\n",
    "plt.xlabel('iteration', fontsize=20)\n",
    "plt.legend(fontsize=20)"
   ]
  },
  {
   "cell_type": "code",
   "execution_count": 98,
   "metadata": {},
   "outputs": [
    {
     "name": "stdout",
     "output_type": "stream",
     "text": [
      "('clip-rmse', 0.76773775)\n"
     ]
    }
   ],
   "source": [
    "preds = bst.predict(xgb.DMatrix(x_val))\n",
    "preds_clip_rmse = clip_rmse(preds, dval)\n",
    "print(preds_clip_rmse)"
   ]
  },
  {
   "cell_type": "code",
   "execution_count": 111,
   "metadata": {},
   "outputs": [],
   "source": [
    "bst = xgb.train(param, dval, num_boost_round=50)"
   ]
  },
  {
   "cell_type": "code",
   "execution_count": 106,
   "metadata": {},
   "outputs": [],
   "source": [
    "preds = bst.predict(xgb.DMatrix(x_test))\n",
    "preds = list(map(lambda x: min(20, max(x, 0)), list(preds)))\n",
    "sub_df = pd.DataFrame({'ID': cnt.index, 'item_cnt_month': preds})\n",
    "sub_df.to_csv('eda_10.csv', index=False)"
   ]
  },
  {
   "cell_type": "code",
   "execution_count": 116,
   "metadata": {},
   "outputs": [
    {
     "data": {
      "text/plain": [
       "(214200, 38)"
      ]
     },
     "execution_count": 116,
     "metadata": {},
     "output_type": "execute_result"
    }
   ],
   "source": [
    "x_train.shape"
   ]
  },
  {
   "cell_type": "code",
   "execution_count": 120,
   "metadata": {},
   "outputs": [
    {
     "data": {
      "text/plain": [
       "(214200, 41)"
      ]
     },
     "execution_count": 120,
     "metadata": {},
     "output_type": "execute_result"
    }
   ],
   "source": [
    "feature_dict['cnt'].shape"
   ]
  },
  {
   "cell_type": "code",
   "execution_count": 121,
   "metadata": {},
   "outputs": [],
   "source": [
    "train = feature_dict['cnt'].fillna(0.0)"
   ]
  },
  {
   "cell_type": "code",
   "execution_count": 137,
   "metadata": {},
   "outputs": [],
   "source": [
    "train = pd.concat((train.iloc[:, :6], train.iloc[:, 6:]), axis=1, sort=False)"
   ]
  },
  {
   "cell_type": "code",
   "execution_count": 139,
   "metadata": {},
   "outputs": [],
   "source": [
    "cols_train = train.columns.tolist()[:6]\n",
    "cols_train.extend(['cnt_'+str(k) for k in range(32)])\n",
    "\n",
    "cols_val = train.columns.tolist()[:6]\n",
    "cols_val.extend(['cnt_'+str(k) for k in range(1, 33)])"
   ]
  },
  {
   "cell_type": "code",
   "execution_count": 140,
   "metadata": {},
   "outputs": [],
   "source": [
    "x_train = train[cols_train].values\n",
    "y_train = train['cnt_32']\n",
    "\n",
    "x_val = train[cols_val].values\n",
    "y_val = train['cnt_33']"
   ]
  },
  {
   "cell_type": "code",
   "execution_count": 146,
   "metadata": {},
   "outputs": [],
   "source": [
    "u = train.iloc[:, :6]\n",
    "cols_train = ['cnt_'+str(k) for k in range(32)]\n",
    "cols_val = ['cnt_'+str(k) for k in range(1, 33)]\n",
    "\n",
    "x_train = pd.concat((u, train[cols_train]), axis=1, sort=False).values\n",
    "x_val = pd.concat((u, train[cols_val]), axis=1, sort=False).values"
   ]
  },
  {
   "cell_type": "code",
   "execution_count": null,
   "metadata": {},
   "outputs": [],
   "source": []
  },
  {
   "cell_type": "code",
   "execution_count": 147,
   "metadata": {},
   "outputs": [
    {
     "data": {
      "text/plain": [
       "<matplotlib.legend.Legend at 0x2620658e8d0>"
      ]
     },
     "execution_count": 147,
     "metadata": {},
     "output_type": "execute_result"
    },
    {
     "data": {
      "image/png": "[encoded data removed]",
      "text/plain": [
       "<Figure size 1152x648 with 1 Axes>"
      ]
     },
     "metadata": {},
     "output_type": "display_data"
    }
   ],
   "source": [
    "param = {'max_depth': 14, \n",
    "        'subsample': 1,\n",
    "        'min_child_weight': 0.5,\n",
    "        'eta': 0.3,\n",
    "        'seed': 1,\n",
    "        'silent': 1,\n",
    "        'maximize': False}\n",
    "\n",
    "progress = dict()\n",
    "dtrain = xgb.DMatrix(x_train, y_train)\n",
    "dval = xgb.DMatrix(x_val, y_val)\n",
    "watchlist = [(dtrain, 'train'), (dval, 'val')]\n",
    "\n",
    "bst = xgb.train(param, \n",
    "                dtrain, \n",
    "                evals=watchlist,\n",
    "                evals_result=progress,\n",
    "                verbose_eval=False,\n",
    "                num_boost_round=50,\n",
    "                feval=clip_rmse)\n",
    "\n",
    "plt.figure(figsize=(16, 9))\n",
    "plt.plot(progress['train']['clip-rmse'], label='train')\n",
    "plt.plot(progress['val']['clip-rmse'], label='evaluation')\n",
    "plt.ylabel('clip-rmse', fontsize=20)\n",
    "plt.xlabel('iteration', fontsize=20)\n",
    "plt.legend(fontsize=20)"
   ]
  },
  {
   "cell_type": "code",
   "execution_count": null,
   "metadata": {},
   "outputs": [],
   "source": []
  }
 ],
 "metadata": {
  "kernelspec": {
   "display_name": "Python 3",
   "language": "python",
   "name": "python3"
  },
  "language_info": {
   "codemirror_mode": {
    "name": "ipython",
    "version": 3
   },
   "file_extension": ".py",
   "mimetype": "text/x-python",
   "name": "python",
   "nbconvert_exporter": "python",
   "pygments_lexer": "ipython3",
   "version": "3.6.6"
  }
 },
 "nbformat": 4,
 "nbformat_minor": 2
}
