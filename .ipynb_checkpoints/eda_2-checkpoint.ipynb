{
 "cells": [
  {
   "cell_type": "code",
   "execution_count": 1,
   "metadata": {},
   "outputs": [],
   "source": [
    "import numpy as np\n",
    "import pandas as pd\n",
    "import matplotlib.pyplot as plt\n",
    "import os\n",
    "import gc\n",
    "\n",
    "%matplotlib inline"
   ]
  },
  {
   "cell_type": "markdown",
   "metadata": {},
   "source": [
    "### Load training data"
   ]
  },
  {
   "cell_type": "code",
   "execution_count": 2,
   "metadata": {},
   "outputs": [],
   "source": [
    "item = pd.read_csv('all/item_category.csv')"
   ]
  },
  {
   "cell_type": "code",
   "execution_count": 3,
   "metadata": {},
   "outputs": [
    {
     "data": {
      "text/html": [
       "<div>\n",
       "<style scoped>\n",
       "    .dataframe tbody tr th:only-of-type {\n",
       "        vertical-align: middle;\n",
       "    }\n",
       "\n",
       "    .dataframe tbody tr th {\n",
       "        vertical-align: top;\n",
       "    }\n",
       "\n",
       "    .dataframe thead th {\n",
       "        text-align: right;\n",
       "    }\n",
       "</style>\n",
       "<table border=\"1\" class=\"dataframe\">\n",
       "  <thead>\n",
       "    <tr style=\"text-align: right;\">\n",
       "      <th></th>\n",
       "      <th>item_id</th>\n",
       "      <th>item_name_translated</th>\n",
       "      <th>item_cat1</th>\n",
       "      <th>item_cat2</th>\n",
       "    </tr>\n",
       "  </thead>\n",
       "  <tbody>\n",
       "    <tr>\n",
       "      <th>0</th>\n",
       "      <td>5441</td>\n",
       "      <td>PC: Headset HyperX Cloud Core gaming stereo (K...</td>\n",
       "      <td>PC</td>\n",
       "      <td>Headsets / Headphones</td>\n",
       "    </tr>\n",
       "    <tr>\n",
       "      <th>1</th>\n",
       "      <td>16255</td>\n",
       "      <td>Headphones PHILIPS SBC HC8680</td>\n",
       "      <td>PC</td>\n",
       "      <td>Headsets / Headphones</td>\n",
       "    </tr>\n",
       "    <tr>\n",
       "      <th>2</th>\n",
       "      <td>16256</td>\n",
       "      <td>Headphones RITMIX RH-120</td>\n",
       "      <td>PC</td>\n",
       "      <td>Headsets / Headphones</td>\n",
       "    </tr>\n",
       "    <tr>\n",
       "      <th>3</th>\n",
       "      <td>16257</td>\n",
       "      <td>Headphones RITMIX RH-124 Black</td>\n",
       "      <td>PC</td>\n",
       "      <td>Headsets / Headphones</td>\n",
       "    </tr>\n",
       "    <tr>\n",
       "      <th>4</th>\n",
       "      <td>5606</td>\n",
       "      <td>PS2: Memory Card 8 MB Black (Memory Card 8Mb -...</td>\n",
       "      <td>Accessories</td>\n",
       "      <td>PS2</td>\n",
       "    </tr>\n",
       "  </tbody>\n",
       "</table>\n",
       "</div>"
      ],
      "text/plain": [
       "   item_id                               item_name_translated    item_cat1  \\\n",
       "0     5441  PC: Headset HyperX Cloud Core gaming stereo (K...           PC   \n",
       "1    16255                      Headphones PHILIPS SBC HC8680           PC   \n",
       "2    16256                           Headphones RITMIX RH-120           PC   \n",
       "3    16257                     Headphones RITMIX RH-124 Black           PC   \n",
       "4     5606  PS2: Memory Card 8 MB Black (Memory Card 8Mb -...  Accessories   \n",
       "\n",
       "               item_cat2  \n",
       "0  Headsets / Headphones  \n",
       "1  Headsets / Headphones  \n",
       "2  Headsets / Headphones  \n",
       "3  Headsets / Headphones  \n",
       "4                    PS2  "
      ]
     },
     "execution_count": 3,
     "metadata": {},
     "output_type": "execute_result"
    }
   ],
   "source": [
    "item.head()"
   ]
  },
  {
   "cell_type": "code",
   "execution_count": 4,
   "metadata": {},
   "outputs": [],
   "source": [
    "shop = pd.read_csv('all/shops-translated.csv')"
   ]
  },
  {
   "cell_type": "code",
   "execution_count": 5,
   "metadata": {},
   "outputs": [
    {
     "data": {
      "text/html": [
       "<div>\n",
       "<style scoped>\n",
       "    .dataframe tbody tr th:only-of-type {\n",
       "        vertical-align: middle;\n",
       "    }\n",
       "\n",
       "    .dataframe tbody tr th {\n",
       "        vertical-align: top;\n",
       "    }\n",
       "\n",
       "    .dataframe thead th {\n",
       "        text-align: right;\n",
       "    }\n",
       "</style>\n",
       "<table border=\"1\" class=\"dataframe\">\n",
       "  <thead>\n",
       "    <tr style=\"text-align: right;\">\n",
       "      <th></th>\n",
       "      <th>shop_id</th>\n",
       "      <th>City</th>\n",
       "      <th>Type</th>\n",
       "      <th>Name</th>\n",
       "    </tr>\n",
       "  </thead>\n",
       "  <tbody>\n",
       "    <tr>\n",
       "      <th>0</th>\n",
       "      <td>0</td>\n",
       "      <td>Yakutsk</td>\n",
       "      <td>Shop</td>\n",
       "      <td>Ordzhonikidze, 56 francs</td>\n",
       "    </tr>\n",
       "    <tr>\n",
       "      <th>1</th>\n",
       "      <td>1</td>\n",
       "      <td>Yakutsk</td>\n",
       "      <td>TC</td>\n",
       "      <td>Central franc</td>\n",
       "    </tr>\n",
       "    <tr>\n",
       "      <th>2</th>\n",
       "      <td>2</td>\n",
       "      <td>Adygea</td>\n",
       "      <td>TC</td>\n",
       "      <td>Mega</td>\n",
       "    </tr>\n",
       "    <tr>\n",
       "      <th>3</th>\n",
       "      <td>3</td>\n",
       "      <td>Balashikha</td>\n",
       "      <td>TRC</td>\n",
       "      <td>October-Kinomir</td>\n",
       "    </tr>\n",
       "    <tr>\n",
       "      <th>4</th>\n",
       "      <td>4</td>\n",
       "      <td>Volzhsky</td>\n",
       "      <td>TC</td>\n",
       "      <td>Volga Mall</td>\n",
       "    </tr>\n",
       "  </tbody>\n",
       "</table>\n",
       "</div>"
      ],
      "text/plain": [
       "   shop_id        City  Type                      Name\n",
       "0        0     Yakutsk  Shop  Ordzhonikidze, 56 francs\n",
       "1        1     Yakutsk    TC             Central franc\n",
       "2        2      Adygea    TC                      Mega\n",
       "3        3  Balashikha   TRC           October-Kinomir\n",
       "4        4    Volzhsky    TC                Volga Mall"
      ]
     },
     "execution_count": 5,
     "metadata": {},
     "output_type": "execute_result"
    }
   ],
   "source": [
    "shop.head()"
   ]
  },
  {
   "cell_type": "code",
   "execution_count": 6,
   "metadata": {},
   "outputs": [],
   "source": [
    "train = pd.read_csv('all/sales_train.csv.gz')"
   ]
  },
  {
   "cell_type": "code",
   "execution_count": 7,
   "metadata": {},
   "outputs": [],
   "source": [
    "train = pd.merge(train, shop)\n",
    "train = pd.merge(train, item)"
   ]
  },
  {
   "cell_type": "code",
   "execution_count": 8,
   "metadata": {},
   "outputs": [
    {
     "data": {
      "text/html": [
       "<div>\n",
       "<style scoped>\n",
       "    .dataframe tbody tr th:only-of-type {\n",
       "        vertical-align: middle;\n",
       "    }\n",
       "\n",
       "    .dataframe tbody tr th {\n",
       "        vertical-align: top;\n",
       "    }\n",
       "\n",
       "    .dataframe thead th {\n",
       "        text-align: right;\n",
       "    }\n",
       "</style>\n",
       "<table border=\"1\" class=\"dataframe\">\n",
       "  <thead>\n",
       "    <tr style=\"text-align: right;\">\n",
       "      <th></th>\n",
       "      <th>date</th>\n",
       "      <th>date_block_num</th>\n",
       "      <th>shop_id</th>\n",
       "      <th>item_id</th>\n",
       "      <th>item_price</th>\n",
       "      <th>item_cnt_day</th>\n",
       "      <th>City</th>\n",
       "      <th>Type</th>\n",
       "      <th>Name</th>\n",
       "      <th>item_name_translated</th>\n",
       "      <th>item_cat1</th>\n",
       "      <th>item_cat2</th>\n",
       "    </tr>\n",
       "  </thead>\n",
       "  <tbody>\n",
       "    <tr>\n",
       "      <th>0</th>\n",
       "      <td>02.01.2013</td>\n",
       "      <td>0</td>\n",
       "      <td>59</td>\n",
       "      <td>22154</td>\n",
       "      <td>999.0</td>\n",
       "      <td>1.0</td>\n",
       "      <td>Yaroslavl</td>\n",
       "      <td>SC</td>\n",
       "      <td>Altair</td>\n",
       "      <td>SCENE 2012 (BD)</td>\n",
       "      <td>Cinema</td>\n",
       "      <td>Blu-Ray</td>\n",
       "    </tr>\n",
       "    <tr>\n",
       "      <th>1</th>\n",
       "      <td>02.01.2013</td>\n",
       "      <td>0</td>\n",
       "      <td>25</td>\n",
       "      <td>22154</td>\n",
       "      <td>999.0</td>\n",
       "      <td>1.0</td>\n",
       "      <td>Moscow</td>\n",
       "      <td>TRC</td>\n",
       "      <td>Atrium</td>\n",
       "      <td>SCENE 2012 (BD)</td>\n",
       "      <td>Cinema</td>\n",
       "      <td>Blu-Ray</td>\n",
       "    </tr>\n",
       "    <tr>\n",
       "      <th>2</th>\n",
       "      <td>03.01.2013</td>\n",
       "      <td>0</td>\n",
       "      <td>25</td>\n",
       "      <td>22154</td>\n",
       "      <td>999.0</td>\n",
       "      <td>1.0</td>\n",
       "      <td>Moscow</td>\n",
       "      <td>TRC</td>\n",
       "      <td>Atrium</td>\n",
       "      <td>SCENE 2012 (BD)</td>\n",
       "      <td>Cinema</td>\n",
       "      <td>Blu-Ray</td>\n",
       "    </tr>\n",
       "    <tr>\n",
       "      <th>3</th>\n",
       "      <td>20.01.2013</td>\n",
       "      <td>0</td>\n",
       "      <td>25</td>\n",
       "      <td>22154</td>\n",
       "      <td>999.0</td>\n",
       "      <td>1.0</td>\n",
       "      <td>Moscow</td>\n",
       "      <td>TRC</td>\n",
       "      <td>Atrium</td>\n",
       "      <td>SCENE 2012 (BD)</td>\n",
       "      <td>Cinema</td>\n",
       "      <td>Blu-Ray</td>\n",
       "    </tr>\n",
       "    <tr>\n",
       "      <th>4</th>\n",
       "      <td>23.01.2013</td>\n",
       "      <td>0</td>\n",
       "      <td>25</td>\n",
       "      <td>22154</td>\n",
       "      <td>999.0</td>\n",
       "      <td>1.0</td>\n",
       "      <td>Moscow</td>\n",
       "      <td>TRC</td>\n",
       "      <td>Atrium</td>\n",
       "      <td>SCENE 2012 (BD)</td>\n",
       "      <td>Cinema</td>\n",
       "      <td>Blu-Ray</td>\n",
       "    </tr>\n",
       "  </tbody>\n",
       "</table>\n",
       "</div>"
      ],
      "text/plain": [
       "         date  date_block_num  shop_id  item_id  item_price  item_cnt_day  \\\n",
       "0  02.01.2013               0       59    22154       999.0           1.0   \n",
       "1  02.01.2013               0       25    22154       999.0           1.0   \n",
       "2  03.01.2013               0       25    22154       999.0           1.0   \n",
       "3  20.01.2013               0       25    22154       999.0           1.0   \n",
       "4  23.01.2013               0       25    22154       999.0           1.0   \n",
       "\n",
       "        City Type    Name item_name_translated item_cat1 item_cat2  \n",
       "0  Yaroslavl   SC  Altair      SCENE 2012 (BD)    Cinema   Blu-Ray  \n",
       "1     Moscow  TRC  Atrium      SCENE 2012 (BD)    Cinema   Blu-Ray  \n",
       "2     Moscow  TRC  Atrium      SCENE 2012 (BD)    Cinema   Blu-Ray  \n",
       "3     Moscow  TRC  Atrium      SCENE 2012 (BD)    Cinema   Blu-Ray  \n",
       "4     Moscow  TRC  Atrium      SCENE 2012 (BD)    Cinema   Blu-Ray  "
      ]
     },
     "execution_count": 8,
     "metadata": {},
     "output_type": "execute_result"
    }
   ],
   "source": [
    "train.head()"
   ]
  },
  {
   "cell_type": "code",
   "execution_count": 9,
   "metadata": {},
   "outputs": [
    {
     "data": {
      "text/plain": [
       "Moscow             1049370\n",
       "Yakutsk             204404\n",
       "SanktPetersburg     148535\n",
       "Voronezh            144151\n",
       "Khimki              143480\n",
       "Tyumen              125455\n",
       "Ufa                  96423\n",
       "Krasnoyarsk          76177\n",
       "Samara               75421\n",
       "Chekhov              69573\n",
       "Web                  69463\n",
       "SergievPosad         66321\n",
       "NizhnyNovgorod       64197\n",
       "Kursk                63911\n",
       "Rostov-on-Don        59664\n",
       "Kaluga               59511\n",
       "Surgut               56695\n",
       "Kazan                54803\n",
       "Omsk                 46013\n",
       "Yaroslavl            42108\n",
       "Novosibirsk          39944\n",
       "Volzhsky             38242\n",
       "Vologda              38179\n",
       "Adygea               25991\n",
       "Balashikha           25532\n",
       "Zhukovsky            21896\n",
       "Tomsk                21612\n",
       "Mytischi              5027\n",
       "OutboundTrade         3751\n",
       "Name: City, dtype: int64"
      ]
     },
     "execution_count": 9,
     "metadata": {},
     "output_type": "execute_result"
    }
   ],
   "source": [
    "train.City.value_counts()"
   ]
  },
  {
   "cell_type": "code",
   "execution_count": 10,
   "metadata": {},
   "outputs": [
    {
     "data": {
      "text/html": [
       "<div>\n",
       "<style scoped>\n",
       "    .dataframe tbody tr th:only-of-type {\n",
       "        vertical-align: middle;\n",
       "    }\n",
       "\n",
       "    .dataframe tbody tr th {\n",
       "        vertical-align: top;\n",
       "    }\n",
       "\n",
       "    .dataframe thead th {\n",
       "        text-align: right;\n",
       "    }\n",
       "</style>\n",
       "<table border=\"1\" class=\"dataframe\">\n",
       "  <thead>\n",
       "    <tr style=\"text-align: right;\">\n",
       "      <th></th>\n",
       "      <th>date</th>\n",
       "      <th>date_block_num</th>\n",
       "      <th>shop_id</th>\n",
       "      <th>item_id</th>\n",
       "      <th>item_price</th>\n",
       "      <th>item_cnt_day</th>\n",
       "      <th>City</th>\n",
       "      <th>Type</th>\n",
       "      <th>Name</th>\n",
       "      <th>item_name_translated</th>\n",
       "      <th>item_cat1</th>\n",
       "      <th>item_cat2</th>\n",
       "    </tr>\n",
       "  </thead>\n",
       "  <tbody>\n",
       "    <tr>\n",
       "      <th>0</th>\n",
       "      <td>02.01.2013</td>\n",
       "      <td>0</td>\n",
       "      <td>59</td>\n",
       "      <td>22154</td>\n",
       "      <td>999.0</td>\n",
       "      <td>1.0</td>\n",
       "      <td>Yaroslavl</td>\n",
       "      <td>SC</td>\n",
       "      <td>Altair</td>\n",
       "      <td>SCENE 2012 (BD)</td>\n",
       "      <td>Cinema</td>\n",
       "      <td>Blu-Ray</td>\n",
       "    </tr>\n",
       "    <tr>\n",
       "      <th>1</th>\n",
       "      <td>02.01.2013</td>\n",
       "      <td>0</td>\n",
       "      <td>25</td>\n",
       "      <td>22154</td>\n",
       "      <td>999.0</td>\n",
       "      <td>1.0</td>\n",
       "      <td>Moscow</td>\n",
       "      <td>TRC</td>\n",
       "      <td>Atrium</td>\n",
       "      <td>SCENE 2012 (BD)</td>\n",
       "      <td>Cinema</td>\n",
       "      <td>Blu-Ray</td>\n",
       "    </tr>\n",
       "    <tr>\n",
       "      <th>2</th>\n",
       "      <td>03.01.2013</td>\n",
       "      <td>0</td>\n",
       "      <td>25</td>\n",
       "      <td>22154</td>\n",
       "      <td>999.0</td>\n",
       "      <td>1.0</td>\n",
       "      <td>Moscow</td>\n",
       "      <td>TRC</td>\n",
       "      <td>Atrium</td>\n",
       "      <td>SCENE 2012 (BD)</td>\n",
       "      <td>Cinema</td>\n",
       "      <td>Blu-Ray</td>\n",
       "    </tr>\n",
       "    <tr>\n",
       "      <th>3</th>\n",
       "      <td>20.01.2013</td>\n",
       "      <td>0</td>\n",
       "      <td>25</td>\n",
       "      <td>22154</td>\n",
       "      <td>999.0</td>\n",
       "      <td>1.0</td>\n",
       "      <td>Moscow</td>\n",
       "      <td>TRC</td>\n",
       "      <td>Atrium</td>\n",
       "      <td>SCENE 2012 (BD)</td>\n",
       "      <td>Cinema</td>\n",
       "      <td>Blu-Ray</td>\n",
       "    </tr>\n",
       "    <tr>\n",
       "      <th>4</th>\n",
       "      <td>23.01.2013</td>\n",
       "      <td>0</td>\n",
       "      <td>25</td>\n",
       "      <td>22154</td>\n",
       "      <td>999.0</td>\n",
       "      <td>1.0</td>\n",
       "      <td>Moscow</td>\n",
       "      <td>TRC</td>\n",
       "      <td>Atrium</td>\n",
       "      <td>SCENE 2012 (BD)</td>\n",
       "      <td>Cinema</td>\n",
       "      <td>Blu-Ray</td>\n",
       "    </tr>\n",
       "  </tbody>\n",
       "</table>\n",
       "</div>"
      ],
      "text/plain": [
       "         date  date_block_num  shop_id  item_id  item_price  item_cnt_day  \\\n",
       "0  02.01.2013               0       59    22154       999.0           1.0   \n",
       "1  02.01.2013               0       25    22154       999.0           1.0   \n",
       "2  03.01.2013               0       25    22154       999.0           1.0   \n",
       "3  20.01.2013               0       25    22154       999.0           1.0   \n",
       "4  23.01.2013               0       25    22154       999.0           1.0   \n",
       "\n",
       "        City Type    Name item_name_translated item_cat1 item_cat2  \n",
       "0  Yaroslavl   SC  Altair      SCENE 2012 (BD)    Cinema   Blu-Ray  \n",
       "1     Moscow  TRC  Atrium      SCENE 2012 (BD)    Cinema   Blu-Ray  \n",
       "2     Moscow  TRC  Atrium      SCENE 2012 (BD)    Cinema   Blu-Ray  \n",
       "3     Moscow  TRC  Atrium      SCENE 2012 (BD)    Cinema   Blu-Ray  \n",
       "4     Moscow  TRC  Atrium      SCENE 2012 (BD)    Cinema   Blu-Ray  "
      ]
     },
     "execution_count": 10,
     "metadata": {},
     "output_type": "execute_result"
    }
   ],
   "source": [
    "train.head()"
   ]
  },
  {
   "cell_type": "code",
   "execution_count": 11,
   "metadata": {},
   "outputs": [
    {
     "data": {
      "text/plain": [
       "TC       1738640\n",
       "TRC       458041\n",
       "Shop      277278\n",
       "SC        223155\n",
       "SEC       163729\n",
       "Web        69463\n",
       "Other       5543\n",
       "Name: Type, dtype: int64"
      ]
     },
     "execution_count": 11,
     "metadata": {},
     "output_type": "execute_result"
    }
   ],
   "source": [
    "train.Type.value_counts()"
   ]
  },
  {
   "cell_type": "code",
   "execution_count": 12,
   "metadata": {},
   "outputs": [
    {
     "data": {
      "text/plain": [
       "Mega                          297089\n",
       "Семеновский                   235636\n",
       "Atrium                        186104\n",
       "MEGA Teply Stan II\"           142234\n",
       "Ordzhonikidze, 56             117428\n",
       "Central                       114943\n",
       "Nevsky Center                 109253\n",
       "MEGA Belaya Dacha II          105366\n",
       "(Plekhanovskaya, 13)           82663\n",
       "Carnival                       69573\n",
       "7YA                            66321\n",
       "Goodwin                        65173\n",
       "Pushkinsky                     63911\n",
       "XXI Century                    59511\n",
       "Fantastic                      58445\n",
       "Afi Mall                       58133\n",
       "Maksimir                       58076\n",
       "City Mall                      56695\n",
       "Areal (Belyaevo)               53910\n",
       "June                           53227\n",
       "Budenovskiy (pav.K7)           53032\n",
       "Family 2                       52921\n",
       "Colosseum Rio\"                 52734\n",
       "Perlovski                      50860\n",
       "New Century (Novokosino)\"      49225\n",
       "С21                            45434\n",
       "Green Beach                    44433\n",
       "Altair                         42108\n",
       "Melody                         39530\n",
       "Sennaya                        39282\n",
       "Volga Mall                     38242\n",
       "Marmalade                      38179\n",
       "ParkHaus II                    36979\n",
       "ParkHaus                       35891\n",
       "DigitalWarehouse 1C-Online     34769\n",
       "Online Shop Emergency          34694\n",
       "October-Kinomir                25532\n",
       "Vzletka Plaza                  22950\n",
       "Chkalov Str. 39 m2             21896\n",
       "Emerald City                   21612\n",
       "Behetle                        17824\n",
       "Crystal                        15849\n",
       "Megacenter Horizon             13440\n",
       "Ordzhonikidze, 56 francs        9857\n",
       "Silver House                    7947\n",
       "Budenovskiy (pav.A2)            6963\n",
       "RIO                             5752\n",
       "Central franc                   5678\n",
       "XL-3                            5027\n",
       "Megacenter Horizon Island       4257\n",
       "City-Park Grad\"                 3412\n",
       "Sale                            1792\n",
       "Gallery Novosibirsk              306\n",
       "Name: Name, dtype: int64"
      ]
     },
     "execution_count": 12,
     "metadata": {},
     "output_type": "execute_result"
    }
   ],
   "source": [
    "train.Name.value_counts()"
   ]
  },
  {
   "cell_type": "code",
   "execution_count": 13,
   "metadata": {},
   "outputs": [
    {
     "data": {
      "text/html": [
       "<div>\n",
       "<style scoped>\n",
       "    .dataframe tbody tr th:only-of-type {\n",
       "        vertical-align: middle;\n",
       "    }\n",
       "\n",
       "    .dataframe tbody tr th {\n",
       "        vertical-align: top;\n",
       "    }\n",
       "\n",
       "    .dataframe thead th {\n",
       "        text-align: right;\n",
       "    }\n",
       "</style>\n",
       "<table border=\"1\" class=\"dataframe\">\n",
       "  <thead>\n",
       "    <tr style=\"text-align: right;\">\n",
       "      <th></th>\n",
       "      <th>date</th>\n",
       "      <th>date_block_num</th>\n",
       "      <th>shop_id</th>\n",
       "      <th>item_id</th>\n",
       "      <th>item_price</th>\n",
       "      <th>item_cnt_day</th>\n",
       "      <th>City</th>\n",
       "      <th>Type</th>\n",
       "      <th>Name</th>\n",
       "      <th>item_name_translated</th>\n",
       "      <th>item_cat1</th>\n",
       "      <th>item_cat2</th>\n",
       "    </tr>\n",
       "  </thead>\n",
       "  <tbody>\n",
       "    <tr>\n",
       "      <th>0</th>\n",
       "      <td>02.01.2013</td>\n",
       "      <td>0</td>\n",
       "      <td>59</td>\n",
       "      <td>22154</td>\n",
       "      <td>999.0</td>\n",
       "      <td>1.0</td>\n",
       "      <td>Yaroslavl</td>\n",
       "      <td>SC</td>\n",
       "      <td>Altair</td>\n",
       "      <td>SCENE 2012 (BD)</td>\n",
       "      <td>Cinema</td>\n",
       "      <td>Blu-Ray</td>\n",
       "    </tr>\n",
       "    <tr>\n",
       "      <th>1</th>\n",
       "      <td>02.01.2013</td>\n",
       "      <td>0</td>\n",
       "      <td>25</td>\n",
       "      <td>22154</td>\n",
       "      <td>999.0</td>\n",
       "      <td>1.0</td>\n",
       "      <td>Moscow</td>\n",
       "      <td>TRC</td>\n",
       "      <td>Atrium</td>\n",
       "      <td>SCENE 2012 (BD)</td>\n",
       "      <td>Cinema</td>\n",
       "      <td>Blu-Ray</td>\n",
       "    </tr>\n",
       "    <tr>\n",
       "      <th>2</th>\n",
       "      <td>03.01.2013</td>\n",
       "      <td>0</td>\n",
       "      <td>25</td>\n",
       "      <td>22154</td>\n",
       "      <td>999.0</td>\n",
       "      <td>1.0</td>\n",
       "      <td>Moscow</td>\n",
       "      <td>TRC</td>\n",
       "      <td>Atrium</td>\n",
       "      <td>SCENE 2012 (BD)</td>\n",
       "      <td>Cinema</td>\n",
       "      <td>Blu-Ray</td>\n",
       "    </tr>\n",
       "    <tr>\n",
       "      <th>3</th>\n",
       "      <td>20.01.2013</td>\n",
       "      <td>0</td>\n",
       "      <td>25</td>\n",
       "      <td>22154</td>\n",
       "      <td>999.0</td>\n",
       "      <td>1.0</td>\n",
       "      <td>Moscow</td>\n",
       "      <td>TRC</td>\n",
       "      <td>Atrium</td>\n",
       "      <td>SCENE 2012 (BD)</td>\n",
       "      <td>Cinema</td>\n",
       "      <td>Blu-Ray</td>\n",
       "    </tr>\n",
       "    <tr>\n",
       "      <th>4</th>\n",
       "      <td>23.01.2013</td>\n",
       "      <td>0</td>\n",
       "      <td>25</td>\n",
       "      <td>22154</td>\n",
       "      <td>999.0</td>\n",
       "      <td>1.0</td>\n",
       "      <td>Moscow</td>\n",
       "      <td>TRC</td>\n",
       "      <td>Atrium</td>\n",
       "      <td>SCENE 2012 (BD)</td>\n",
       "      <td>Cinema</td>\n",
       "      <td>Blu-Ray</td>\n",
       "    </tr>\n",
       "  </tbody>\n",
       "</table>\n",
       "</div>"
      ],
      "text/plain": [
       "         date  date_block_num  shop_id  item_id  item_price  item_cnt_day  \\\n",
       "0  02.01.2013               0       59    22154       999.0           1.0   \n",
       "1  02.01.2013               0       25    22154       999.0           1.0   \n",
       "2  03.01.2013               0       25    22154       999.0           1.0   \n",
       "3  20.01.2013               0       25    22154       999.0           1.0   \n",
       "4  23.01.2013               0       25    22154       999.0           1.0   \n",
       "\n",
       "        City Type    Name item_name_translated item_cat1 item_cat2  \n",
       "0  Yaroslavl   SC  Altair      SCENE 2012 (BD)    Cinema   Blu-Ray  \n",
       "1     Moscow  TRC  Atrium      SCENE 2012 (BD)    Cinema   Blu-Ray  \n",
       "2     Moscow  TRC  Atrium      SCENE 2012 (BD)    Cinema   Blu-Ray  \n",
       "3     Moscow  TRC  Atrium      SCENE 2012 (BD)    Cinema   Blu-Ray  \n",
       "4     Moscow  TRC  Atrium      SCENE 2012 (BD)    Cinema   Blu-Ray  "
      ]
     },
     "execution_count": 13,
     "metadata": {},
     "output_type": "execute_result"
    }
   ],
   "source": [
    "train.head()"
   ]
  },
  {
   "cell_type": "code",
   "execution_count": 14,
   "metadata": {},
   "outputs": [
    {
     "data": {
      "text/plain": [
       "Cinema                                  833416\n",
       "Games                                   523559\n",
       "PC Games                                506036\n",
       "Music                                   401862\n",
       "Gifts                                   370450\n",
       "Accessories                              76238\n",
       "Books                                    69421\n",
       "Programs                                 65234\n",
       "Payment cards                            33011\n",
       "Game Consoles                            24770\n",
       "Office                                    9067\n",
       "Elements of a food                        7206\n",
       "Payment cards (Movies, Music, Games)      4875\n",
       "Clean media (piece)                       4390\n",
       "Delivery of goods                         2193\n",
       "Tickets (figure)                          1877\n",
       "Official                                  1325\n",
       "Clean carriers (spire)                     795\n",
       "Android games                               91\n",
       "Payment Cards                               19\n",
       "MAC Games                                    8\n",
       "Книги                                        3\n",
       "PC                                           3\n",
       "Name: item_cat1, dtype: int64"
      ]
     },
     "execution_count": 14,
     "metadata": {},
     "output_type": "execute_result"
    }
   ],
   "source": [
    "train.item_cat1.value_counts()"
   ]
  },
  {
   "cell_type": "code",
   "execution_count": 15,
   "metadata": {},
   "outputs": [
    {
     "data": {
      "text/plain": [
       "DVD                         564652\n",
       "Standard Edition            351591\n",
       "CD of local production      339585\n",
       "PS3                         232789\n",
       "Blu-Ray                     192674\n",
       "XBOX 360                    170647\n",
       "Additional Edition          121539\n",
       "PS4                         111743\n",
       "Soft toys                    53845\n",
       "Board games (compact)        53227\n",
       "Figures                      47177\n",
       "Blu-Ray 3D                   42718\n",
       "Home and Office              42603\n",
       "Development                  41706\n",
       "Board Games                  37635\n",
       "Souvenirs (per sample)       35484\n",
       "PSP                          34823\n",
       "PSVita                       34056\n",
       "Collector's                  32748\n",
       "MP3                          32490\n",
       "Bags, Albums, Mouse pads     31397\n",
       "Souvenirs                    26822\n",
       "Audiobooks                   26537\n",
       "Gadgets, robots, sports      25949\n",
       "Methodical materials 1С      23708\n",
       "PSN                          23166\n",
       "XBOX ONE                     21597\n",
       "Digit                        20748\n",
       "Accessories for games        18576\n",
       "Vinyl                        13702\n",
       "                             ...  \n",
       "Collector's Edition          12257\n",
       "Attributes                   12237\n",
       "CD of branded production      7931\n",
       "Live!                         7924\n",
       "Musical video                 6629\n",
       "Comics, manga                 5657\n",
       "Audiobooks 1C                 5234\n",
       "Number                        5175\n",
       "Postcards, stickers           4848\n",
       "Home and Office (Figure)      3746\n",
       "Teaching                      3703\n",
       "Artbook, encyclopedia         2835\n",
       "Teaching (Numbers)            2346\n",
       "Live! (Numeral)               1921\n",
       "Gift edition                  1525\n",
       "Tickets                       1325\n",
       "Blu-Ray 4K                     624\n",
       "Other                          322\n",
       "Audiobooks (Numbers)           248\n",
       "Certificates, services         123\n",
       "MAC (Number)                    56\n",
       "Windows (Digital)               19\n",
       "Business Literature             15\n",
       "PS2                             14\n",
       "Computer Literature              6\n",
       "Headsets / Headphones            3\n",
       "Путеводители                     3\n",
       "Fiction                          3\n",
       "Postcards                        2\n",
       "Cognitive Literature             1\n",
       "Name: item_cat2, Length: 61, dtype: int64"
      ]
     },
     "execution_count": 15,
     "metadata": {},
     "output_type": "execute_result"
    }
   ],
   "source": [
    "train.item_cat2.value_counts()"
   ]
  },
  {
   "cell_type": "code",
   "execution_count": 16,
   "metadata": {},
   "outputs": [
    {
     "data": {
      "text/html": [
       "<div>\n",
       "<style scoped>\n",
       "    .dataframe tbody tr th:only-of-type {\n",
       "        vertical-align: middle;\n",
       "    }\n",
       "\n",
       "    .dataframe tbody tr th {\n",
       "        vertical-align: top;\n",
       "    }\n",
       "\n",
       "    .dataframe thead th {\n",
       "        text-align: right;\n",
       "    }\n",
       "</style>\n",
       "<table border=\"1\" class=\"dataframe\">\n",
       "  <thead>\n",
       "    <tr style=\"text-align: right;\">\n",
       "      <th></th>\n",
       "      <th>date</th>\n",
       "      <th>date_block_num</th>\n",
       "      <th>shop_id</th>\n",
       "      <th>item_id</th>\n",
       "      <th>item_price</th>\n",
       "      <th>item_cnt_day</th>\n",
       "      <th>City</th>\n",
       "      <th>Type</th>\n",
       "      <th>Name</th>\n",
       "      <th>item_name_translated</th>\n",
       "      <th>item_cat1</th>\n",
       "      <th>item_cat2</th>\n",
       "    </tr>\n",
       "  </thead>\n",
       "  <tbody>\n",
       "    <tr>\n",
       "      <th>0</th>\n",
       "      <td>02.01.2013</td>\n",
       "      <td>0</td>\n",
       "      <td>59</td>\n",
       "      <td>22154</td>\n",
       "      <td>999.0</td>\n",
       "      <td>1.0</td>\n",
       "      <td>Yaroslavl</td>\n",
       "      <td>SC</td>\n",
       "      <td>Altair</td>\n",
       "      <td>SCENE 2012 (BD)</td>\n",
       "      <td>Cinema</td>\n",
       "      <td>Blu-Ray</td>\n",
       "    </tr>\n",
       "    <tr>\n",
       "      <th>1</th>\n",
       "      <td>02.01.2013</td>\n",
       "      <td>0</td>\n",
       "      <td>25</td>\n",
       "      <td>22154</td>\n",
       "      <td>999.0</td>\n",
       "      <td>1.0</td>\n",
       "      <td>Moscow</td>\n",
       "      <td>TRC</td>\n",
       "      <td>Atrium</td>\n",
       "      <td>SCENE 2012 (BD)</td>\n",
       "      <td>Cinema</td>\n",
       "      <td>Blu-Ray</td>\n",
       "    </tr>\n",
       "    <tr>\n",
       "      <th>2</th>\n",
       "      <td>03.01.2013</td>\n",
       "      <td>0</td>\n",
       "      <td>25</td>\n",
       "      <td>22154</td>\n",
       "      <td>999.0</td>\n",
       "      <td>1.0</td>\n",
       "      <td>Moscow</td>\n",
       "      <td>TRC</td>\n",
       "      <td>Atrium</td>\n",
       "      <td>SCENE 2012 (BD)</td>\n",
       "      <td>Cinema</td>\n",
       "      <td>Blu-Ray</td>\n",
       "    </tr>\n",
       "    <tr>\n",
       "      <th>3</th>\n",
       "      <td>20.01.2013</td>\n",
       "      <td>0</td>\n",
       "      <td>25</td>\n",
       "      <td>22154</td>\n",
       "      <td>999.0</td>\n",
       "      <td>1.0</td>\n",
       "      <td>Moscow</td>\n",
       "      <td>TRC</td>\n",
       "      <td>Atrium</td>\n",
       "      <td>SCENE 2012 (BD)</td>\n",
       "      <td>Cinema</td>\n",
       "      <td>Blu-Ray</td>\n",
       "    </tr>\n",
       "    <tr>\n",
       "      <th>4</th>\n",
       "      <td>23.01.2013</td>\n",
       "      <td>0</td>\n",
       "      <td>25</td>\n",
       "      <td>22154</td>\n",
       "      <td>999.0</td>\n",
       "      <td>1.0</td>\n",
       "      <td>Moscow</td>\n",
       "      <td>TRC</td>\n",
       "      <td>Atrium</td>\n",
       "      <td>SCENE 2012 (BD)</td>\n",
       "      <td>Cinema</td>\n",
       "      <td>Blu-Ray</td>\n",
       "    </tr>\n",
       "  </tbody>\n",
       "</table>\n",
       "</div>"
      ],
      "text/plain": [
       "         date  date_block_num  shop_id  item_id  item_price  item_cnt_day  \\\n",
       "0  02.01.2013               0       59    22154       999.0           1.0   \n",
       "1  02.01.2013               0       25    22154       999.0           1.0   \n",
       "2  03.01.2013               0       25    22154       999.0           1.0   \n",
       "3  20.01.2013               0       25    22154       999.0           1.0   \n",
       "4  23.01.2013               0       25    22154       999.0           1.0   \n",
       "\n",
       "        City Type    Name item_name_translated item_cat1 item_cat2  \n",
       "0  Yaroslavl   SC  Altair      SCENE 2012 (BD)    Cinema   Blu-Ray  \n",
       "1     Moscow  TRC  Atrium      SCENE 2012 (BD)    Cinema   Blu-Ray  \n",
       "2     Moscow  TRC  Atrium      SCENE 2012 (BD)    Cinema   Blu-Ray  \n",
       "3     Moscow  TRC  Atrium      SCENE 2012 (BD)    Cinema   Blu-Ray  \n",
       "4     Moscow  TRC  Atrium      SCENE 2012 (BD)    Cinema   Blu-Ray  "
      ]
     },
     "execution_count": 16,
     "metadata": {},
     "output_type": "execute_result"
    }
   ],
   "source": [
    "train.head()"
   ]
  },
  {
   "cell_type": "markdown",
   "metadata": {},
   "source": [
    "### Some shops are not in the test set"
   ]
  },
  {
   "cell_type": "code",
   "execution_count": 17,
   "metadata": {},
   "outputs": [],
   "source": [
    "x = train.groupby(['shop_id', 'date_block_num'])['item_cnt_day'].sum()"
   ]
  },
  {
   "cell_type": "code",
   "execution_count": 18,
   "metadata": {},
   "outputs": [],
   "source": [
    "shop_max_month = {}\n",
    "for s in x.index.levels[0]:\n",
    "    shop_max_month[s] = x[s].index.max()"
   ]
  },
  {
   "cell_type": "code",
   "execution_count": 19,
   "metadata": {},
   "outputs": [],
   "source": [
    "shop_max_month = pd.Series(shop_max_month)"
   ]
  },
  {
   "cell_type": "code",
   "execution_count": 20,
   "metadata": {},
   "outputs": [
    {
     "data": {
      "text/plain": [
       "[<matplotlib.lines.Line2D at 0x18b01239ef0>]"
      ]
     },
     "execution_count": 20,
     "metadata": {},
     "output_type": "execute_result"
    },
    {
     "data": {
      "image/png": "[encoded data removed]",
      "text/plain": [
       "<Figure size 432x288 with 1 Axes>"
      ]
     },
     "metadata": {},
     "output_type": "display_data"
    }
   ],
   "source": [
    "plt.plot(shop_max_month)"
   ]
  },
  {
   "cell_type": "code",
   "execution_count": 21,
   "metadata": {},
   "outputs": [],
   "source": [
    "test = pd.read_csv('all/test.csv.gz')"
   ]
  },
  {
   "cell_type": "code",
   "execution_count": 22,
   "metadata": {},
   "outputs": [
    {
     "data": {
      "text/plain": [
       "array([ 5,  4,  6,  3,  2,  7, 10, 12, 28, 31, 26, 25, 22, 24, 21, 15, 16,\n",
       "       18, 14, 19, 42, 50, 49, 53, 52, 47, 48, 57, 58, 59, 55, 56, 36, 37,\n",
       "       35, 38, 34, 46, 41, 44, 39, 45], dtype=int64)"
      ]
     },
     "execution_count": 22,
     "metadata": {},
     "output_type": "execute_result"
    }
   ],
   "source": [
    "test.shop_id.unique()"
   ]
  },
  {
   "cell_type": "code",
   "execution_count": 23,
   "metadata": {},
   "outputs": [
    {
     "data": {
      "text/plain": [
       "Text(0.5,1,'Some shops are not in the test set')"
      ]
     },
     "execution_count": 23,
     "metadata": {},
     "output_type": "execute_result"
    },
    {
     "data": {
      "image/png": "[encoded data removed]",
      "text/plain": [
       "<Figure size 1008x504 with 1 Axes>"
      ]
     },
     "metadata": {},
     "output_type": "display_data"
    }
   ],
   "source": [
    "plt.figure(figsize=(14, 7))\n",
    "plt.plot(shop_max_month.index, shop_max_month, label='train')\n",
    "plt.plot(test.shop_id.unique(), 33*np.ones((42, )), 'o', label='test')\n",
    "plt.legend()\n",
    "plt.title('Some shops are not in the test set')"
   ]
  },
  {
   "cell_type": "markdown",
   "metadata": {},
   "source": [
    "Remove those shops"
   ]
  },
  {
   "cell_type": "code",
   "execution_count": 74,
   "metadata": {},
   "outputs": [],
   "source": [
    "test_shop_id = test.shop_id.unique()\n",
    "\n",
    "# train = train[train.shop_id.isin(test_shop_id)]"
   ]
  },
  {
   "cell_type": "markdown",
   "metadata": {},
   "source": [
    "### Items not in train or not in test?"
   ]
  },
  {
   "cell_type": "code",
   "execution_count": 94,
   "metadata": {},
   "outputs": [],
   "source": [
    "items_train_test = set(train.item_id)&set(test.item_id)# items in both train and test"
   ]
  },
  {
   "cell_type": "code",
   "execution_count": 96,
   "metadata": {},
   "outputs": [
    {
     "data": {
      "text/plain": [
       "4716"
      ]
     },
     "execution_count": 96,
     "metadata": {},
     "output_type": "execute_result"
    }
   ],
   "source": [
    "len(items_train_test)"
   ]
  },
  {
   "cell_type": "code",
   "execution_count": 97,
   "metadata": {},
   "outputs": [],
   "source": [
    "items_train_only = set(train.item_id)-set(test.item_id) # items only in train"
   ]
  },
  {
   "cell_type": "code",
   "execution_count": 98,
   "metadata": {},
   "outputs": [
    {
     "data": {
      "text/plain": [
       "16289"
      ]
     },
     "execution_count": 98,
     "metadata": {},
     "output_type": "execute_result"
    }
   ],
   "source": [
    "len(items_train_only)"
   ]
  },
  {
   "cell_type": "code",
   "execution_count": 99,
   "metadata": {},
   "outputs": [],
   "source": [
    "items_test_only = set(test.item_id)-set(train.item_id) # items only in test"
   ]
  },
  {
   "cell_type": "code",
   "execution_count": 100,
   "metadata": {},
   "outputs": [
    {
     "data": {
      "text/plain": [
       "384"
      ]
     },
     "execution_count": 100,
     "metadata": {},
     "output_type": "execute_result"
    }
   ],
   "source": [
    "len(items_test_only)"
   ]
  },
  {
   "cell_type": "code",
   "execution_count": 101,
   "metadata": {},
   "outputs": [
    {
     "data": {
      "text/plain": [
       "(5100,)"
      ]
     },
     "execution_count": 101,
     "metadata": {},
     "output_type": "execute_result"
    }
   ],
   "source": [
    "test.item_id.unique().shape"
   ]
  },
  {
   "cell_type": "code",
   "execution_count": 102,
   "metadata": {},
   "outputs": [
    {
     "data": {
      "text/plain": [
       "(42,)"
      ]
     },
     "execution_count": 102,
     "metadata": {},
     "output_type": "execute_result"
    }
   ],
   "source": [
    "test.shop_id.unique().shape"
   ]
  },
  {
   "cell_type": "code",
   "execution_count": 103,
   "metadata": {},
   "outputs": [
    {
     "data": {
      "text/plain": [
       "214200"
      ]
     },
     "execution_count": 103,
     "metadata": {},
     "output_type": "execute_result"
    }
   ],
   "source": [
    "42*5100"
   ]
  },
  {
   "cell_type": "code",
   "execution_count": 104,
   "metadata": {},
   "outputs": [
    {
     "data": {
      "text/plain": [
       "(214200, 3)"
      ]
     },
     "execution_count": 104,
     "metadata": {},
     "output_type": "execute_result"
    }
   ],
   "source": [
    "test.shape"
   ]
  },
  {
   "cell_type": "code",
   "execution_count": null,
   "metadata": {},
   "outputs": [],
   "source": []
  }
 ],
 "metadata": {
  "kernelspec": {
   "display_name": "Python 3",
   "language": "python",
   "name": "python3"
  },
  "language_info": {
   "codemirror_mode": {
    "name": "ipython",
    "version": 3
   },
   "file_extension": ".py",
   "mimetype": "text/x-python",
   "name": "python",
   "nbconvert_exporter": "python",
   "pygments_lexer": "ipython3",
   "version": "3.6.6"
  }
 },
 "nbformat": 4,
 "nbformat_minor": 2
}
