{
 "cells": [
  {
   "cell_type": "code",
   "execution_count": 1,
   "metadata": {},
   "outputs": [],
   "source": [
    "import numpy as np\n",
    "import pandas as pd\n",
    "import matplotlib.pyplot as plt\n",
    "import os\n",
    "import gc\n",
    "import sys\n",
    "import time\n",
    "import gc\n",
    "import itertools\n",
    "import tqdm\n",
    "import time\n",
    "import copy\n",
    "\n",
    "import scipy.stats as ss\n",
    "from numba import jit\n",
    "\n",
    "if os.name=='nt':\n",
    "    try:\n",
    "        mingw_path = 'C:\\\\Program Files\\\\mingw-w64\\\\x86_64-8.1.0-posix-seh-rt_v6-rev0\\\\mingw64\\\\bin'\n",
    "        os.environ['PATH'] = mingw_path + ';' + os.environ['PATH']\n",
    "    except:\n",
    "        pass\n",
    "    \n",
    "import xgboost as xgb\n",
    "from sklearn.metrics import mean_squared_error \n",
    "from sklearn.preprocessing import LabelEncoder\n",
    "from sklearn.model_selection import StratifiedKFold\n",
    "\n",
    "%matplotlib inline"
   ]
  },
  {
   "cell_type": "markdown",
   "metadata": {},
   "source": [
    "### Helper Function"
   ]
  },
  {
   "cell_type": "code",
   "execution_count": 2,
   "metadata": {},
   "outputs": [],
   "source": [
    "def lag_features(df, lags, merge_cols, shift_cols, fillna_value=None):\n",
    "    '''create lag features of col'''\n",
    "    cols = copy.copy(merge_cols)\n",
    "    cols.extend(shift_cols)\n",
    "    tmp = df.loc[:, cols]\n",
    "    for i in lags:\n",
    "        shifted = tmp.copy()\n",
    "        shifted_cols = shifted.columns.tolist()\n",
    "        shifted_cols = [c+'_lag_'+str(i) if c in shift_cols else c \n",
    "                        for c in shifted_cols]\n",
    "        shifted.columns = shifted_cols\n",
    "        shifted[merge_cols] += i\n",
    "        shifted.drop_duplicates(inplace=True)\n",
    "        df = pd.merge(df, shifted, on=merge_cols, how='left')\n",
    "    if fillna_value is not None:\n",
    "        df.fillna(fillna_value, inplace=True)\n",
    "    return df    "
   ]
  },
  {
   "cell_type": "code",
   "execution_count": 3,
   "metadata": {},
   "outputs": [],
   "source": [
    "def clip_rmse(preds, dtrain):\n",
    "    y_test = np.array(dtrain.get_label())\n",
    "    preds = np.array(preds)\n",
    "    y_test = np.maximum(np.minimum(y_test, 20), 0)\n",
    "    preds = np.maximum(np.minimum(preds, 20), 0)\n",
    "    #preds = np.array(list(map(lambda x: min(20, max(x, 0)), list(preds))))\n",
    "    #y_test = np.array(list(map(lambda x: min(20, max(x, 0)), list(y_test))))\n",
    "    rmse = np.sqrt(mean_squared_error(preds,y_test))\n",
    "    return 'clip-rmse', rmse"
   ]
  },
  {
   "cell_type": "code",
   "execution_count": 4,
   "metadata": {},
   "outputs": [],
   "source": [
    "def cv(x_train, y_train, param, n_repetition, n_split, n_tree, verbose, random_state):\n",
    "    '''Repeated CV'''\n",
    "    \n",
    "    cv_results = {}\n",
    "    clf = {}\n",
    "    running_time = {}\n",
    "\n",
    "    np.random.seed(random_state)\n",
    "\n",
    "    for m in range(n_repetition):\n",
    "        # Train and valuation sets split\n",
    "        skf = StratifiedKFold(n_splits=n_split, random_state=np.random.randint(10**6), shuffle=True)\n",
    "\n",
    "        for n, (train_index, val_index) in enumerate(skf.split(x_train, y_train)):\n",
    "\n",
    "            start_time = time.time()\n",
    "\n",
    "            # Construct DMatrix\n",
    "            dtrain = xgb.DMatrix(x_train.iloc[train_index], label=y_train.iloc[train_index])\n",
    "            dval = xgb.DMatrix(x_train.iloc[val_index], label=y_train.iloc[val_index])\n",
    "\n",
    "            # Placeholder for evals_results\n",
    "            cv_results[m, n] = {}\n",
    "\n",
    "            param['seed'] = np.random.randint(10**6)\n",
    "            clf[m, n] = xgb.train(param, dtrain,num_boost_round=n_tree, \n",
    "                                  evals=[(dtrain, 'train'), (dval, 'val')], \n",
    "                                  feval=clip_rmse, maximize=False, early_stopping_rounds=None, \n",
    "                                  evals_result=cv_results[m, n], verbose_eval=verbose)\n",
    "\n",
    "            running_time[m, n] = time.time() - start_time\n",
    "\n",
    "            print('Repeat {}, split {}, val score = {:.3f}, running time = {:.3f} min.'.format(m, n, \n",
    "                cv_results[m, n]['val']['clip-rmse'][-1], running_time[m, n]/60))\n",
    "\n",
    "    cv_results_final = {}\n",
    "    for m in range(n_repetition):\n",
    "        for n in range(n_split):\n",
    "            cv_results_final['train', m, n] = cv_results[m, n]['train']['clip-rmse']\n",
    "            cv_results_final['val', m, n] = cv_results[m, n]['val']['clip-rmse']\n",
    "\n",
    "    df = pd.DataFrame(cv_results_final)\n",
    "    df.index.name = 'iteration'\n",
    "    df.columns.names = ['dataset', 'repetition', 'cv_split']\n",
    "\n",
    "    print('Val mean = {:.3f}, std = {:.3f}'.format(df['val'].iloc[-1].mean(), df['val'].iloc[-1].std()))\n",
    "    \n",
    "    return df, clf, running_time"
   ]
  },
  {
   "cell_type": "code",
   "execution_count": 5,
   "metadata": {},
   "outputs": [],
   "source": [
    "def feature_combination(x, feature_list, function_dict, column_name, merge=False):\n",
    "    '''Combination of new features'''\n",
    "    tmp = x.groupby(feature_list).agg(function_dict)\n",
    "    tmp.columns = column_name\n",
    "    if merge:\n",
    "        x = x.merge(tmp, on=feature_list, how='left')\n",
    "        return x, tmp\n",
    "    else:\n",
    "        return tmp"
   ]
  },
  {
   "cell_type": "markdown",
   "metadata": {},
   "source": [
    "### Load and Preprocess Data"
   ]
  },
  {
   "cell_type": "code",
   "execution_count": 6,
   "metadata": {},
   "outputs": [],
   "source": [
    "# Load data\n",
    "train = pd.read_csv('all/sales_train.csv.gz')\n",
    "test = pd.read_csv('all/test.csv.gz')\n",
    "shop = pd.read_csv('all/shops-translated.csv')\n",
    "item = pd.read_csv('all/item_category.csv')\n",
    "\n",
    "test.set_index('ID', inplace=True)\n",
    "item.drop(['item_name_translated'], axis=1, inplace=True)\n",
    "shop.drop(['Name'], axis=1, inplace=True)\n",
    "\n",
    "le = LabelEncoder()\n",
    "item['item_cat1'] = le.fit_transform(item['item_cat1'].astype(str))\n",
    "item['item_cat2'] = le.fit_transform(item['item_cat2'].astype(str))\n",
    "shop['City'] = le.fit_transform(shop['City'])\n",
    "shop['Type'] = le.fit_transform(shop['Type'])"
   ]
  },
  {
   "cell_type": "markdown",
   "metadata": {},
   "source": [
    "Remove outliers"
   ]
  },
  {
   "cell_type": "code",
   "execution_count": 7,
   "metadata": {},
   "outputs": [],
   "source": [
    "train = train[train.item_price<100000]\n",
    "train = train[train.item_cnt_day<1001]\n",
    "median = train[(train.shop_id==32)&(train.item_id==2973)&(train.date_block_num==4)&(train.item_price>0)].item_price.median()\n",
    "train.loc[train.item_price<0, 'item_price'] = median"
   ]
  },
  {
   "cell_type": "markdown",
   "metadata": {},
   "source": [
    "Fix shop names and ids"
   ]
  },
  {
   "cell_type": "code",
   "execution_count": 8,
   "metadata": {},
   "outputs": [],
   "source": [
    "train.loc[train.shop_id == 0, 'shop_id'] = 57\n",
    "test.loc[test.shop_id == 0, 'shop_id'] = 57\n",
    "train.loc[train.shop_id == 1, 'shop_id'] = 58\n",
    "test.loc[test.shop_id == 1, 'shop_id'] = 58\n",
    "train.loc[train.shop_id == 10, 'shop_id'] = 11\n",
    "test.loc[test.shop_id == 10, 'shop_id'] = 11"
   ]
  },
  {
   "cell_type": "markdown",
   "metadata": {},
   "source": [
    "Monthly sales for all the samples"
   ]
  },
  {
   "cell_type": "code",
   "execution_count": 9,
   "metadata": {},
   "outputs": [],
   "source": [
    "x = pd.DataFrame(train.groupby(['date_block_num', 'shop_id', 'item_id'])['item_cnt_day'].sum())\n",
    "\n",
    "x.reset_index(inplace=True)"
   ]
  },
  {
   "cell_type": "code",
   "execution_count": 10,
   "metadata": {},
   "outputs": [],
   "source": [
    "test['date_block_num'] = 34"
   ]
  },
  {
   "cell_type": "code",
   "execution_count": 11,
   "metadata": {},
   "outputs": [],
   "source": [
    "x = pd.concat((x, test), sort=False).fillna(0.0)"
   ]
  },
  {
   "cell_type": "markdown",
   "metadata": {},
   "source": [
    "Add shop/item features"
   ]
  },
  {
   "cell_type": "code",
   "execution_count": 12,
   "metadata": {},
   "outputs": [],
   "source": [
    "x = pd.merge(x, shop, on='shop_id', how='left')\n",
    "x = pd.merge(x, item, on='item_id', how='left')"
   ]
  },
  {
   "cell_type": "markdown",
   "metadata": {},
   "source": [
    "Change column names"
   ]
  },
  {
   "cell_type": "code",
   "execution_count": 13,
   "metadata": {},
   "outputs": [],
   "source": [
    "x.columns = ['month', 'shop_id', 'item_id', 'sales_month', \n",
    "             'City', 'Type', 'item_cat1', 'item_cat2']"
   ]
  },
  {
   "cell_type": "markdown",
   "metadata": {},
   "source": [
    "Change column types"
   ]
  },
  {
   "cell_type": "code",
   "execution_count": 14,
   "metadata": {},
   "outputs": [],
   "source": [
    "x['City'] = x['City'].astype(np.int8)\n",
    "x['Type'] = x['Type'].astype(np.int8)\n",
    "x['item_cat1'] = x['item_cat1'].astype(np.int8)\n",
    "x['item_cat2'] = x['item_cat2'].astype(np.int8)\n",
    "x['sales_month'] = x['sales_month'].astype(np.float16)\n",
    "x['month'] = x['month'].astype(np.int8)\n",
    "x['shop_id'] = x['shop_id'].astype(np.int8)"
   ]
  },
  {
   "cell_type": "markdown",
   "metadata": {},
   "source": [
    "### Target Lags"
   ]
  },
  {
   "cell_type": "code",
   "execution_count": 15,
   "metadata": {},
   "outputs": [],
   "source": [
    "x = lag_features(x, [1, 2, 3, 6, 12], \n",
    "                 ['month', 'shop_id', 'item_id'], \n",
    "                 ['sales_month'], fillna_value=0)"
   ]
  },
  {
   "cell_type": "markdown",
   "metadata": {},
   "source": [
    "### Mean Encoding"
   ]
  },
  {
   "cell_type": "markdown",
   "metadata": {},
   "source": [
    "`sales_mean_month`"
   ]
  },
  {
   "cell_type": "code",
   "execution_count": 17,
   "metadata": {},
   "outputs": [],
   "source": [
    "group = x.groupby('month').agg({'sales_month': ['mean']})\n",
    "group.columns = ['sales_mean_month']\n",
    "group.reset_index(inplace=True)\n",
    "\n",
    "x = pd.merge(x, group, on=['month'], how='left')\n",
    "x['sales_mean_month'] = x['sales_mean_month'].astype(np.float16)\n",
    "x = lag_features(x, [1], ['month'], ['sales_mean_month'], fillna_value=0.0)\n",
    "x.drop(['sales_mean_month'], axis=1, inplace=True)"
   ]
  },
  {
   "cell_type": "markdown",
   "metadata": {},
   "source": [
    "`sales_mean_month_item`"
   ]
  },
  {
   "cell_type": "code",
   "execution_count": 19,
   "metadata": {},
   "outputs": [],
   "source": [
    "col = 'sales_mean_month_item'\n",
    "group = x.groupby(['month', 'item_id']).agg({'sales_month': ['mean']})\n",
    "group.columns = [col]\n",
    "group.reset_index(inplace=True)\n",
    "\n",
    "x = pd.merge(x, group, on=['month', 'item_id'], how='left')\n",
    "x[col] = x[col].astype(np.float16)\n",
    "x = lag_features(x, [1, 2, 3, 6, 12], \n",
    "                 ['month', 'item_id'], \n",
    "                 [col], fillna_value=0.0)\n",
    "x.drop([col], axis=1, inplace=True)"
   ]
  },
  {
   "cell_type": "markdown",
   "metadata": {},
   "source": [
    "`sales_mean_month_shop`"
   ]
  },
  {
   "cell_type": "code",
   "execution_count": 22,
   "metadata": {},
   "outputs": [],
   "source": [
    "col = 'sales_mean_month_shop'\n",
    "merge_cols = ['month', 'shop_id']\n",
    "group = x.groupby(merge_cols).agg({'sales_month': ['mean']})\n",
    "group.columns = [col]\n",
    "group.reset_index(inplace=True)\n",
    "\n",
    "x = pd.merge(x, group, on=merge_cols, how='left')\n",
    "x[col] = x[col].astype(np.float16)\n",
    "x = lag_features(x, [1, 2, 3, 6, 12], \n",
    "                 merge_cols, \n",
    "                 [col], fillna_value=0.0)\n",
    "x.drop([col], axis=1, inplace=True)"
   ]
  },
  {
   "cell_type": "markdown",
   "metadata": {},
   "source": [
    "`sales_mean_month_cat1`"
   ]
  },
  {
   "cell_type": "code",
   "execution_count": 24,
   "metadata": {},
   "outputs": [],
   "source": [
    "col = 'sales_mean_month_cat1'\n",
    "merge_cols = ['month', 'item_cat1']\n",
    "group = x.groupby(merge_cols).agg({'sales_month': ['mean']})\n",
    "group.columns = [col]\n",
    "group.reset_index(inplace=True)\n",
    "\n",
    "x = pd.merge(x, group, on=merge_cols, how='left')\n",
    "x[col] = x[col].astype(np.float16)\n",
    "x = lag_features(x, [1], \n",
    "                 merge_cols, \n",
    "                 [col], fillna_value=0.0)\n",
    "x.drop([col], axis=1, inplace=True)"
   ]
  },
  {
   "cell_type": "markdown",
   "metadata": {},
   "source": [
    "`sales_mean_month_shop_cat1`"
   ]
  },
  {
   "cell_type": "code",
   "execution_count": 27,
   "metadata": {},
   "outputs": [],
   "source": [
    "col = 'sales_mean_month_shop_cat1'\n",
    "merge_cols = ['month', 'shop_id', 'item_cat1']\n",
    "group = x.groupby(merge_cols).agg({'sales_month': ['mean']})\n",
    "group.columns = [col]\n",
    "group.reset_index(inplace=True)\n",
    "\n",
    "x = pd.merge(x, group, on=merge_cols, how='left')\n",
    "x[col] = x[col].astype(np.float16)\n",
    "x = lag_features(x, [1], \n",
    "                 merge_cols, \n",
    "                 [col], fillna_value=0.0)\n",
    "x.drop([col], axis=1, inplace=True)"
   ]
  },
  {
   "cell_type": "markdown",
   "metadata": {},
   "source": [
    "`sales_mean_month_shop_type`"
   ]
  },
  {
   "cell_type": "code",
   "execution_count": 30,
   "metadata": {},
   "outputs": [],
   "source": [
    "col = 'sales_mean_month_shop_type'\n",
    "merge_cols = ['month', 'shop_id', 'Type']\n",
    "group = x.groupby(merge_cols).agg({'sales_month': ['mean']})\n",
    "group.columns = [col]\n",
    "group.reset_index(inplace=True)\n",
    "\n",
    "x = pd.merge(x, group, on=merge_cols, how='left')\n",
    "x[col] = x[col].astype(np.float16)\n",
    "x = lag_features(x, [1], \n",
    "                 merge_cols, \n",
    "                 [col], fillna_value=0.0)\n",
    "x.drop([col], axis=1, inplace=True)"
   ]
  },
  {
   "cell_type": "markdown",
   "metadata": {},
   "source": [
    "`sales_mean_month_shop_cat2`"
   ]
  },
  {
   "cell_type": "code",
   "execution_count": 33,
   "metadata": {},
   "outputs": [],
   "source": [
    "col = 'sales_mean_month_shop_cat2'\n",
    "merge_cols = ['month', 'shop_id', 'item_cat2']\n",
    "group = x.groupby(merge_cols).agg({'sales_month': ['mean']})\n",
    "group.columns = [col]\n",
    "group.reset_index(inplace=True)\n",
    "\n",
    "x = pd.merge(x, group, on=merge_cols, how='left')\n",
    "x[col] = x[col].astype(np.float16)\n",
    "x = lag_features(x, [1], \n",
    "                 merge_cols, \n",
    "                 [col], fillna_value=0.0)\n",
    "x.drop([col], axis=1, inplace=True)"
   ]
  },
  {
   "cell_type": "markdown",
   "metadata": {},
   "source": [
    "`sales_mean_month_city`"
   ]
  },
  {
   "cell_type": "code",
   "execution_count": 36,
   "metadata": {},
   "outputs": [],
   "source": [
    "col = 'sales_mean_month_city'\n",
    "merge_cols = ['month', 'City']\n",
    "group = x.groupby(merge_cols).agg({'sales_month': ['mean']})\n",
    "group.columns = [col]\n",
    "group.reset_index(inplace=True)\n",
    "\n",
    "x = pd.merge(x, group, on=merge_cols, how='left')\n",
    "x[col] = x[col].astype(np.float16)\n",
    "x = lag_features(x, [1], \n",
    "                 merge_cols, \n",
    "                 [col], fillna_value=0.0)\n",
    "x.drop([col], axis=1, inplace=True)"
   ]
  },
  {
   "cell_type": "markdown",
   "metadata": {},
   "source": [
    "`sales_mean_month_item_city`"
   ]
  },
  {
   "cell_type": "code",
   "execution_count": 37,
   "metadata": {},
   "outputs": [],
   "source": [
    "col = 'sales_mean_month_item_city'\n",
    "merge_cols = ['month', 'item_id', 'City']\n",
    "group = x.groupby(merge_cols).agg({'sales_month': ['mean']})\n",
    "group.columns = [col]\n",
    "group.reset_index(inplace=True)\n",
    "\n",
    "x = pd.merge(x, group, on=merge_cols, how='left')\n",
    "x[col] = x[col].astype(np.float16)\n",
    "x = lag_features(x, [1], \n",
    "                 merge_cols, \n",
    "                 [col], fillna_value=0.0)\n",
    "x.drop([col], axis=1, inplace=True)"
   ]
  },
  {
   "cell_type": "markdown",
   "metadata": {},
   "source": [
    "`sales_mean_month_cat2`"
   ]
  },
  {
   "cell_type": "code",
   "execution_count": 38,
   "metadata": {},
   "outputs": [],
   "source": [
    "col = 'sales_mean_month_cat2'\n",
    "merge_cols = ['month', 'item_cat2']\n",
    "group = x.groupby(merge_cols).agg({'sales_month': ['mean']})\n",
    "group.columns = [col]\n",
    "group.reset_index(inplace=True)\n",
    "\n",
    "x = pd.merge(x, group, on=merge_cols, how='left')\n",
    "x[col] = x[col].astype(np.float16)\n",
    "x = lag_features(x, [1], \n",
    "                 merge_cols, \n",
    "                 [col], fillna_value=0.0)\n",
    "x.drop([col], axis=1, inplace=True)"
   ]
  },
  {
   "cell_type": "markdown",
   "metadata": {},
   "source": [
    "`sales_mean_month_cat1_cat2`"
   ]
  },
  {
   "cell_type": "code",
   "execution_count": 39,
   "metadata": {},
   "outputs": [],
   "source": [
    "col = 'sales_mean_month_cat1_cat2'\n",
    "merge_cols = ['month', 'item_cat1', 'item_cat2']\n",
    "group = x.groupby(merge_cols).agg({'sales_month': ['mean']})\n",
    "group.columns = [col]\n",
    "group.reset_index(inplace=True)\n",
    "\n",
    "x = pd.merge(x, group, on=merge_cols, how='left')\n",
    "x[col] = x[col].astype(np.float16)\n",
    "x = lag_features(x, [1, 2, 3, 6], \n",
    "                 merge_cols, \n",
    "                 [col], fillna_value=0.0)\n",
    "x.drop([col], axis=1, inplace=True)"
   ]
  },
  {
   "cell_type": "markdown",
   "metadata": {},
   "source": [
    "#### CV"
   ]
  },
  {
   "cell_type": "code",
   "execution_count": 49,
   "metadata": {},
   "outputs": [],
   "source": [
    "x.replace([np.inf, -np.inf], np.nan, inplace=True)\n",
    "x.fillna(0.0, inplace=True)"
   ]
  },
  {
   "cell_type": "code",
   "execution_count": 54,
   "metadata": {},
   "outputs": [],
   "source": [
    "# Split train and test sets\n",
    "x_train = x.loc[(x['month']<=33) & (x['month']>=12), :].copy()\n",
    "x_test = x.loc[x['month']==34, :].copy()\n",
    "\n",
    "# Drop target from test set\n",
    "x_test.drop(['month'], axis=1, inplace=True)\n",
    "\n",
    "# Split target from train set\n",
    "# Note that target is first clipped to (0, 40), then clipped to (0, 20) in test set. \n",
    "# This is similar to the idea of calibration\n",
    "y_train = x_train['sales_month'].clip(0, 20)\n",
    "x_train.drop(['sales_month'], axis=1, inplace=True)"
   ]
  },
  {
   "cell_type": "code",
   "execution_count": 55,
   "metadata": {},
   "outputs": [
    {
     "name": "stderr",
     "output_type": "stream",
     "text": [
      "C:\\Users\\elunden\\AppData\\Local\\Continuum\\anaconda3\\lib\\site-packages\\numpy\\core\\_methods.py:32: RuntimeWarning: overflow encountered in reduce\n",
      "  return umr_sum(a, axis, dtype, out, keepdims)\n"
     ]
    },
    {
     "name": "stdout",
     "output_type": "stream",
     "text": [
      "[0]\ttrain-rmse:2.65226\tval-rmse:2.65368\ttrain-clip-rmse:2.65226\tval-clip-rmse:2.65368\n",
      "[1]\ttrain-rmse:2.45934\tval-rmse:2.46022\ttrain-clip-rmse:2.45934\tval-clip-rmse:2.46022\n",
      "[2]\ttrain-rmse:2.35618\tval-rmse:2.35648\ttrain-clip-rmse:2.35618\tval-clip-rmse:2.35648\n",
      "[3]\ttrain-rmse:2.30456\tval-rmse:2.30485\ttrain-clip-rmse:2.30456\tval-clip-rmse:2.30485\n",
      "[4]\ttrain-rmse:2.25256\tval-rmse:2.25482\ttrain-clip-rmse:2.25256\tval-clip-rmse:2.25482\n",
      "[5]\ttrain-rmse:2.22492\tval-rmse:2.22807\ttrain-clip-rmse:2.22492\tval-clip-rmse:2.22807\n",
      "[6]\ttrain-rmse:2.21374\tval-rmse:2.21725\ttrain-clip-rmse:2.21374\tval-clip-rmse:2.21725\n",
      "[7]\ttrain-rmse:2.19072\tval-rmse:2.19603\ttrain-clip-rmse:2.19072\tval-clip-rmse:2.19603\n",
      "[8]\ttrain-rmse:2.18074\tval-rmse:2.18679\ttrain-clip-rmse:2.18074\tval-clip-rmse:2.18679\n",
      "[9]\ttrain-rmse:2.17177\tval-rmse:2.17905\ttrain-clip-rmse:2.17177\tval-clip-rmse:2.17905\n",
      "[10]\ttrain-rmse:2.15772\tval-rmse:2.16608\ttrain-clip-rmse:2.15772\tval-clip-rmse:2.16608\n",
      "[11]\ttrain-rmse:2.15069\tval-rmse:2.15933\ttrain-clip-rmse:2.15069\tval-clip-rmse:2.15933\n",
      "[12]\ttrain-rmse:2.14428\tval-rmse:2.15344\ttrain-clip-rmse:2.14428\tval-clip-rmse:2.15344\n",
      "[13]\ttrain-rmse:2.13579\tval-rmse:2.14592\ttrain-clip-rmse:2.13579\tval-clip-rmse:2.14592\n",
      "[14]\ttrain-rmse:2.12724\tval-rmse:2.13877\ttrain-clip-rmse:2.12724\tval-clip-rmse:2.13877\n",
      "[15]\ttrain-rmse:2.12362\tval-rmse:2.13527\ttrain-clip-rmse:2.12362\tval-clip-rmse:2.13527\n",
      "[16]\ttrain-rmse:2.11957\tval-rmse:2.13136\ttrain-clip-rmse:2.11957\tval-clip-rmse:2.13136\n",
      "[17]\ttrain-rmse:2.11493\tval-rmse:2.12629\ttrain-clip-rmse:2.11493\tval-clip-rmse:2.12629\n",
      "[18]\ttrain-rmse:2.11153\tval-rmse:2.12302\ttrain-clip-rmse:2.11153\tval-clip-rmse:2.12302\n",
      "[19]\ttrain-rmse:2.10819\tval-rmse:2.11983\ttrain-clip-rmse:2.10819\tval-clip-rmse:2.11983\n",
      "[20]\ttrain-rmse:2.10284\tval-rmse:2.11471\ttrain-clip-rmse:2.10284\tval-clip-rmse:2.11471\n",
      "[21]\ttrain-rmse:2.09607\tval-rmse:2.10906\ttrain-clip-rmse:2.09607\tval-clip-rmse:2.10906\n",
      "[22]\ttrain-rmse:2.08745\tval-rmse:2.10057\ttrain-clip-rmse:2.08745\tval-clip-rmse:2.10056\n",
      "[23]\ttrain-rmse:2.0848\tval-rmse:2.09796\ttrain-clip-rmse:2.08478\tval-clip-rmse:2.09794\n",
      "[24]\ttrain-rmse:2.07444\tval-rmse:2.08835\ttrain-clip-rmse:2.07442\tval-clip-rmse:2.08833\n",
      "[25]\ttrain-rmse:2.0698\tval-rmse:2.08431\ttrain-clip-rmse:2.06978\tval-clip-rmse:2.08428\n",
      "[26]\ttrain-rmse:2.06864\tval-rmse:2.08322\ttrain-clip-rmse:2.06862\tval-clip-rmse:2.0832\n",
      "[27]\ttrain-rmse:2.0668\tval-rmse:2.08174\ttrain-clip-rmse:2.06677\tval-clip-rmse:2.08171\n",
      "[28]\ttrain-rmse:2.06424\tval-rmse:2.07966\ttrain-clip-rmse:2.06422\tval-clip-rmse:2.07963\n",
      "[29]\ttrain-rmse:2.05897\tval-rmse:2.07425\ttrain-clip-rmse:2.05894\tval-clip-rmse:2.07422\n",
      "[30]\ttrain-rmse:2.05224\tval-rmse:2.06807\ttrain-clip-rmse:2.05221\tval-clip-rmse:2.06804\n",
      "[31]\ttrain-rmse:2.0508\tval-rmse:2.06696\ttrain-clip-rmse:2.05077\tval-clip-rmse:2.06692\n",
      "[32]\ttrain-rmse:2.04903\tval-rmse:2.06536\ttrain-clip-rmse:2.049\tval-clip-rmse:2.06533\n",
      "[33]\ttrain-rmse:2.04551\tval-rmse:2.06166\ttrain-clip-rmse:2.04548\tval-clip-rmse:2.06163\n",
      "[34]\ttrain-rmse:2.04416\tval-rmse:2.06066\ttrain-clip-rmse:2.04412\tval-clip-rmse:2.06062\n",
      "[35]\ttrain-rmse:2.04021\tval-rmse:2.05684\ttrain-clip-rmse:2.04017\tval-clip-rmse:2.0568\n",
      "[36]\ttrain-rmse:2.03869\tval-rmse:2.05545\ttrain-clip-rmse:2.03864\tval-clip-rmse:2.0554\n",
      "[37]\ttrain-rmse:2.03192\tval-rmse:2.04895\ttrain-clip-rmse:2.03188\tval-clip-rmse:2.04889\n",
      "[38]\ttrain-rmse:2.02954\tval-rmse:2.04679\ttrain-clip-rmse:2.02943\tval-clip-rmse:2.04668\n",
      "[39]\ttrain-rmse:2.02706\tval-rmse:2.0445\ttrain-clip-rmse:2.02694\tval-clip-rmse:2.04438\n",
      "[40]\ttrain-rmse:2.02653\tval-rmse:2.04393\ttrain-clip-rmse:2.02642\tval-clip-rmse:2.04381\n",
      "[41]\ttrain-rmse:2.02415\tval-rmse:2.04209\ttrain-clip-rmse:2.02404\tval-clip-rmse:2.04197\n",
      "[42]\ttrain-rmse:2.0212\tval-rmse:2.0396\ttrain-clip-rmse:2.02108\tval-clip-rmse:2.03948\n",
      "[43]\ttrain-rmse:2.01934\tval-rmse:2.03834\ttrain-clip-rmse:2.01922\tval-clip-rmse:2.03822\n",
      "[44]\ttrain-rmse:2.01842\tval-rmse:2.03774\ttrain-clip-rmse:2.0183\tval-clip-rmse:2.03761\n",
      "[45]\ttrain-rmse:2.01589\tval-rmse:2.03509\ttrain-clip-rmse:2.01577\tval-clip-rmse:2.03496\n",
      "[46]\ttrain-rmse:2.01512\tval-rmse:2.03445\ttrain-clip-rmse:2.01499\tval-clip-rmse:2.03432\n",
      "[47]\ttrain-rmse:2.01314\tval-rmse:2.03226\ttrain-clip-rmse:2.01301\tval-clip-rmse:2.03213\n",
      "[48]\ttrain-rmse:2.00948\tval-rmse:2.02878\ttrain-clip-rmse:2.00935\tval-clip-rmse:2.02864\n",
      "[49]\ttrain-rmse:2.00888\tval-rmse:2.02843\ttrain-clip-rmse:2.00875\tval-clip-rmse:2.02829\n",
      "[50]\ttrain-rmse:2.008\tval-rmse:2.0275\ttrain-clip-rmse:2.00787\tval-clip-rmse:2.02735\n",
      "[51]\ttrain-rmse:2.00693\tval-rmse:2.02665\ttrain-clip-rmse:2.0068\tval-clip-rmse:2.02651\n",
      "[52]\ttrain-rmse:2.0043\tval-rmse:2.02416\ttrain-clip-rmse:2.00417\tval-clip-rmse:2.02402\n",
      "[53]\ttrain-rmse:2.00227\tval-rmse:2.02237\ttrain-clip-rmse:2.00213\tval-clip-rmse:2.02222\n",
      "[54]\ttrain-rmse:1.99898\tval-rmse:2.01951\ttrain-clip-rmse:1.99877\tval-clip-rmse:2.01929\n",
      "[55]\ttrain-rmse:1.99714\tval-rmse:2.01802\ttrain-clip-rmse:1.99693\tval-clip-rmse:2.01779\n",
      "[56]\ttrain-rmse:1.99591\tval-rmse:2.01715\ttrain-clip-rmse:1.99569\tval-clip-rmse:2.01692\n",
      "[57]\ttrain-rmse:1.99467\tval-rmse:2.01607\ttrain-clip-rmse:1.99445\tval-clip-rmse:2.01582\n",
      "[58]\ttrain-rmse:1.99447\tval-rmse:2.01592\ttrain-clip-rmse:1.99424\tval-clip-rmse:2.01567\n",
      "[59]\ttrain-rmse:1.99379\tval-rmse:2.01531\ttrain-clip-rmse:1.99356\tval-clip-rmse:2.01505\n",
      "[60]\ttrain-rmse:1.99178\tval-rmse:2.01352\ttrain-clip-rmse:1.99155\tval-clip-rmse:2.01328\n",
      "[61]\ttrain-rmse:1.99121\tval-rmse:2.01323\ttrain-clip-rmse:1.99098\tval-clip-rmse:2.01298\n",
      "[62]\ttrain-rmse:1.98975\tval-rmse:2.01186\ttrain-clip-rmse:1.98952\tval-clip-rmse:2.01161\n",
      "[63]\ttrain-rmse:1.98785\tval-rmse:2.00983\ttrain-clip-rmse:1.98762\tval-clip-rmse:2.00957\n",
      "[64]\ttrain-rmse:1.98645\tval-rmse:2.00875\ttrain-clip-rmse:1.98621\tval-clip-rmse:2.00849\n",
      "[65]\ttrain-rmse:1.98479\tval-rmse:2.00721\ttrain-clip-rmse:1.98454\tval-clip-rmse:2.00694\n",
      "[66]\ttrain-rmse:1.98336\tval-rmse:2.00612\ttrain-clip-rmse:1.98311\tval-clip-rmse:2.00585\n",
      "[67]\ttrain-rmse:1.98228\tval-rmse:2.00522\ttrain-clip-rmse:1.98203\tval-clip-rmse:2.00495\n",
      "[68]\ttrain-rmse:1.98167\tval-rmse:2.00464\ttrain-clip-rmse:1.98142\tval-clip-rmse:2.00437\n",
      "[69]\ttrain-rmse:1.98138\tval-rmse:2.00437\ttrain-clip-rmse:1.98113\tval-clip-rmse:2.00409\n",
      "[70]\ttrain-rmse:1.98086\tval-rmse:2.00391\ttrain-clip-rmse:1.9806\tval-clip-rmse:2.00363\n",
      "[71]\ttrain-rmse:1.98062\tval-rmse:2.00366\ttrain-clip-rmse:1.98037\tval-clip-rmse:2.00338\n",
      "[72]\ttrain-rmse:1.97975\tval-rmse:2.00301\ttrain-clip-rmse:1.97948\tval-clip-rmse:2.00272\n",
      "[73]\ttrain-rmse:1.97923\tval-rmse:2.00277\ttrain-clip-rmse:1.97897\tval-clip-rmse:2.00248\n",
      "[74]\ttrain-rmse:1.9782\tval-rmse:2.00199\ttrain-clip-rmse:1.97793\tval-clip-rmse:2.00169\n",
      "[75]\ttrain-rmse:1.97709\tval-rmse:2.00119\ttrain-clip-rmse:1.97681\tval-clip-rmse:2.00089\n",
      "[76]\ttrain-rmse:1.97382\tval-rmse:1.99823\ttrain-clip-rmse:1.97353\tval-clip-rmse:1.99791\n",
      "[77]\ttrain-rmse:1.97322\tval-rmse:1.99798\ttrain-clip-rmse:1.97293\tval-clip-rmse:1.99767\n",
      "[78]\ttrain-rmse:1.97185\tval-rmse:1.99711\ttrain-clip-rmse:1.97156\tval-clip-rmse:1.9968\n",
      "[79]\ttrain-rmse:1.96885\tval-rmse:1.99462\ttrain-clip-rmse:1.96855\tval-clip-rmse:1.9943\n",
      "Repeat 0, split 0, val score = 1.994, running time = 0.565 min.\n",
      "[0]\ttrain-rmse:2.61629\tval-rmse:2.62019\ttrain-clip-rmse:2.61629\tval-clip-rmse:2.62019\n",
      "[1]\ttrain-rmse:2.43904\tval-rmse:2.44604\ttrain-clip-rmse:2.43904\tval-clip-rmse:2.44604\n",
      "[2]\ttrain-rmse:2.34261\tval-rmse:2.35082\ttrain-clip-rmse:2.34261\tval-clip-rmse:2.35082\n",
      "[3]\ttrain-rmse:2.28966\tval-rmse:2.30045\ttrain-clip-rmse:2.28966\tval-clip-rmse:2.30045\n",
      "[4]\ttrain-rmse:2.25446\tval-rmse:2.26662\ttrain-clip-rmse:2.25446\tval-clip-rmse:2.26662\n",
      "[5]\ttrain-rmse:2.22182\tval-rmse:2.23573\ttrain-clip-rmse:2.22182\tval-clip-rmse:2.23573\n",
      "[6]\ttrain-rmse:2.19983\tval-rmse:2.21532\ttrain-clip-rmse:2.19983\tval-clip-rmse:2.21532\n",
      "[7]\ttrain-rmse:2.19128\tval-rmse:2.20749\ttrain-clip-rmse:2.19128\tval-clip-rmse:2.20749\n",
      "[8]\ttrain-rmse:2.18014\tval-rmse:2.1969\ttrain-clip-rmse:2.18014\tval-clip-rmse:2.1969\n",
      "[9]\ttrain-rmse:2.16978\tval-rmse:2.18697\ttrain-clip-rmse:2.16978\tval-clip-rmse:2.18697\n",
      "[10]\ttrain-rmse:2.15971\tval-rmse:2.17732\ttrain-clip-rmse:2.15971\tval-clip-rmse:2.17732\n",
      "[11]\ttrain-rmse:2.15009\tval-rmse:2.16816\ttrain-clip-rmse:2.15009\tval-clip-rmse:2.16816\n",
      "[12]\ttrain-rmse:2.14463\tval-rmse:2.16335\ttrain-clip-rmse:2.14463\tval-clip-rmse:2.16335\n",
      "[13]\ttrain-rmse:2.13729\tval-rmse:2.15687\ttrain-clip-rmse:2.13729\tval-clip-rmse:2.15687\n"
     ]
    },
    {
     "name": "stdout",
     "output_type": "stream",
     "text": [
      "[14]\ttrain-rmse:2.12931\tval-rmse:2.14959\ttrain-clip-rmse:2.12931\tval-clip-rmse:2.14959\n",
      "[15]\ttrain-rmse:2.12509\tval-rmse:2.14556\ttrain-clip-rmse:2.12509\tval-clip-rmse:2.14556\n",
      "[16]\ttrain-rmse:2.11407\tval-rmse:2.13475\ttrain-clip-rmse:2.11407\tval-clip-rmse:2.13475\n",
      "[17]\ttrain-rmse:2.11064\tval-rmse:2.13158\ttrain-clip-rmse:2.11064\tval-clip-rmse:2.13158\n",
      "[18]\ttrain-rmse:2.10697\tval-rmse:2.12825\ttrain-clip-rmse:2.10697\tval-clip-rmse:2.12825\n",
      "[19]\ttrain-rmse:2.09707\tval-rmse:2.11744\ttrain-clip-rmse:2.09707\tval-clip-rmse:2.11744\n",
      "[20]\ttrain-rmse:2.09202\tval-rmse:2.11298\ttrain-clip-rmse:2.09202\tval-clip-rmse:2.11297\n",
      "[21]\ttrain-rmse:2.08081\tval-rmse:2.10223\ttrain-clip-rmse:2.0808\tval-clip-rmse:2.10222\n",
      "[22]\ttrain-rmse:2.0776\tval-rmse:2.09959\ttrain-clip-rmse:2.0776\tval-clip-rmse:2.09958\n",
      "[23]\ttrain-rmse:2.07358\tval-rmse:2.09571\ttrain-clip-rmse:2.07358\tval-clip-rmse:2.0957\n",
      "[24]\ttrain-rmse:2.07113\tval-rmse:2.09366\ttrain-clip-rmse:2.07112\tval-clip-rmse:2.09365\n",
      "[25]\ttrain-rmse:2.07079\tval-rmse:2.09345\ttrain-clip-rmse:2.07078\tval-clip-rmse:2.09343\n",
      "[26]\ttrain-rmse:2.0684\tval-rmse:2.09148\ttrain-clip-rmse:2.06839\tval-clip-rmse:2.09147\n",
      "[27]\ttrain-rmse:2.06695\tval-rmse:2.09065\ttrain-clip-rmse:2.06694\tval-clip-rmse:2.09063\n",
      "[28]\ttrain-rmse:2.06346\tval-rmse:2.08752\ttrain-clip-rmse:2.06346\tval-clip-rmse:2.08751\n",
      "[29]\ttrain-rmse:2.05925\tval-rmse:2.08331\ttrain-clip-rmse:2.05924\tval-clip-rmse:2.0833\n",
      "[30]\ttrain-rmse:2.05755\tval-rmse:2.08154\ttrain-clip-rmse:2.05754\tval-clip-rmse:2.08152\n",
      "[31]\ttrain-rmse:2.05321\tval-rmse:2.07764\ttrain-clip-rmse:2.0532\tval-clip-rmse:2.07762\n",
      "[32]\ttrain-rmse:2.04558\tval-rmse:2.0704\ttrain-clip-rmse:2.04557\tval-clip-rmse:2.07037\n",
      "[33]\ttrain-rmse:2.04304\tval-rmse:2.06797\ttrain-clip-rmse:2.04303\tval-clip-rmse:2.06795\n",
      "[34]\ttrain-rmse:2.0425\tval-rmse:2.06758\ttrain-clip-rmse:2.04249\tval-clip-rmse:2.06755\n",
      "[35]\ttrain-rmse:2.03763\tval-rmse:2.06315\ttrain-clip-rmse:2.03761\tval-clip-rmse:2.06312\n",
      "[36]\ttrain-rmse:2.036\tval-rmse:2.06178\ttrain-clip-rmse:2.03598\tval-clip-rmse:2.06174\n",
      "[37]\ttrain-rmse:2.03444\tval-rmse:2.06046\ttrain-clip-rmse:2.03441\tval-clip-rmse:2.06042\n",
      "[38]\ttrain-rmse:2.03165\tval-rmse:2.05794\ttrain-clip-rmse:2.03162\tval-clip-rmse:2.05789\n",
      "[39]\ttrain-rmse:2.02988\tval-rmse:2.05654\ttrain-clip-rmse:2.02985\tval-clip-rmse:2.05649\n",
      "[40]\ttrain-rmse:2.027\tval-rmse:2.05399\ttrain-clip-rmse:2.02697\tval-clip-rmse:2.05394\n",
      "[41]\ttrain-rmse:2.01709\tval-rmse:2.0441\ttrain-clip-rmse:2.01705\tval-clip-rmse:2.04404\n",
      "[42]\ttrain-rmse:2.01171\tval-rmse:2.03906\ttrain-clip-rmse:2.01167\tval-clip-rmse:2.039\n",
      "[43]\ttrain-rmse:2.01093\tval-rmse:2.03848\ttrain-clip-rmse:2.01089\tval-clip-rmse:2.03842\n",
      "[44]\ttrain-rmse:2.00786\tval-rmse:2.03542\ttrain-clip-rmse:2.00781\tval-clip-rmse:2.03536\n",
      "[45]\ttrain-rmse:2.00445\tval-rmse:2.03204\ttrain-clip-rmse:2.0044\tval-clip-rmse:2.03197\n",
      "[46]\ttrain-rmse:2.00259\tval-rmse:2.03028\ttrain-clip-rmse:2.00254\tval-clip-rmse:2.03021\n",
      "[47]\ttrain-rmse:2.00184\tval-rmse:2.02985\ttrain-clip-rmse:2.00178\tval-clip-rmse:2.02977\n",
      "[48]\ttrain-rmse:2.00055\tval-rmse:2.02872\ttrain-clip-rmse:2.00049\tval-clip-rmse:2.02864\n",
      "[49]\ttrain-rmse:1.99698\tval-rmse:2.02502\ttrain-clip-rmse:1.99691\tval-clip-rmse:2.02493\n",
      "[50]\ttrain-rmse:1.99655\tval-rmse:2.02487\ttrain-clip-rmse:1.99648\tval-clip-rmse:2.02478\n",
      "[51]\ttrain-rmse:1.99501\tval-rmse:2.0237\ttrain-clip-rmse:1.99491\tval-clip-rmse:2.02358\n",
      "[52]\ttrain-rmse:1.99322\tval-rmse:2.02216\ttrain-clip-rmse:1.99313\tval-clip-rmse:2.02205\n",
      "[53]\ttrain-rmse:1.99137\tval-rmse:2.02041\ttrain-clip-rmse:1.99126\tval-clip-rmse:2.02027\n",
      "[54]\ttrain-rmse:1.99076\tval-rmse:2.01989\ttrain-clip-rmse:1.99065\tval-clip-rmse:2.01975\n",
      "[55]\ttrain-rmse:1.99039\tval-rmse:2.01962\ttrain-clip-rmse:1.99027\tval-clip-rmse:2.01948\n",
      "[56]\ttrain-rmse:1.98854\tval-rmse:2.01831\ttrain-clip-rmse:1.98842\tval-clip-rmse:2.01816\n",
      "[57]\ttrain-rmse:1.98697\tval-rmse:2.01689\ttrain-clip-rmse:1.98684\tval-clip-rmse:2.01673\n",
      "[58]\ttrain-rmse:1.9837\tval-rmse:2.01383\ttrain-clip-rmse:1.98357\tval-clip-rmse:2.01367\n",
      "[59]\ttrain-rmse:1.97956\tval-rmse:2.01016\ttrain-clip-rmse:1.97943\tval-clip-rmse:2.01\n",
      "[60]\ttrain-rmse:1.9788\tval-rmse:2.00953\ttrain-clip-rmse:1.97866\tval-clip-rmse:2.00936\n",
      "[61]\ttrain-rmse:1.97749\tval-rmse:2.00858\ttrain-clip-rmse:1.97735\tval-clip-rmse:2.00841\n",
      "[62]\ttrain-rmse:1.97685\tval-rmse:2.00818\ttrain-clip-rmse:1.97671\tval-clip-rmse:2.00801\n",
      "[63]\ttrain-rmse:1.97613\tval-rmse:2.00787\ttrain-clip-rmse:1.97599\tval-clip-rmse:2.00771\n",
      "[64]\ttrain-rmse:1.97447\tval-rmse:2.00632\ttrain-clip-rmse:1.97432\tval-clip-rmse:2.00616\n",
      "[65]\ttrain-rmse:1.97388\tval-rmse:2.00592\ttrain-clip-rmse:1.97373\tval-clip-rmse:2.00574\n",
      "[66]\ttrain-rmse:1.97353\tval-rmse:2.00564\ttrain-clip-rmse:1.97338\tval-clip-rmse:2.00547\n",
      "[67]\ttrain-rmse:1.97205\tval-rmse:2.00461\ttrain-clip-rmse:1.97189\tval-clip-rmse:2.00443\n",
      "[68]\ttrain-rmse:1.97166\tval-rmse:2.00438\ttrain-clip-rmse:1.97151\tval-clip-rmse:2.0042\n",
      "[69]\ttrain-rmse:1.96904\tval-rmse:2.00163\ttrain-clip-rmse:1.96887\tval-clip-rmse:2.00144\n",
      "[70]\ttrain-rmse:1.96715\tval-rmse:2\ttrain-clip-rmse:1.96698\tval-clip-rmse:1.99981\n",
      "[71]\ttrain-rmse:1.96553\tval-rmse:1.99883\ttrain-clip-rmse:1.96535\tval-clip-rmse:1.99864\n",
      "[72]\ttrain-rmse:1.96476\tval-rmse:1.99815\ttrain-clip-rmse:1.96457\tval-clip-rmse:1.99795\n",
      "[73]\ttrain-rmse:1.96368\tval-rmse:1.99729\ttrain-clip-rmse:1.96349\tval-clip-rmse:1.99709\n",
      "[74]\ttrain-rmse:1.96311\tval-rmse:1.9969\ttrain-clip-rmse:1.96292\tval-clip-rmse:1.99669\n",
      "[75]\ttrain-rmse:1.96277\tval-rmse:1.99667\ttrain-clip-rmse:1.96258\tval-clip-rmse:1.99646\n",
      "[76]\ttrain-rmse:1.95874\tval-rmse:1.99278\ttrain-clip-rmse:1.95854\tval-clip-rmse:1.99257\n",
      "[77]\ttrain-rmse:1.95829\tval-rmse:1.99236\ttrain-clip-rmse:1.95809\tval-clip-rmse:1.99214\n",
      "[78]\ttrain-rmse:1.95802\tval-rmse:1.9921\ttrain-clip-rmse:1.95782\tval-clip-rmse:1.99188\n",
      "[79]\ttrain-rmse:1.95631\tval-rmse:1.99092\ttrain-clip-rmse:1.9561\tval-clip-rmse:1.9907\n",
      "Repeat 0, split 1, val score = 1.991, running time = 0.632 min.\n",
      "[0]\ttrain-rmse:2.62373\tval-rmse:2.62211\ttrain-clip-rmse:2.62373\tval-clip-rmse:2.62211\n",
      "[1]\ttrain-rmse:2.44984\tval-rmse:2.44817\ttrain-clip-rmse:2.44984\tval-clip-rmse:2.44817\n",
      "[2]\ttrain-rmse:2.34931\tval-rmse:2.34664\ttrain-clip-rmse:2.34931\tval-clip-rmse:2.34664\n",
      "[3]\ttrain-rmse:2.28978\tval-rmse:2.28748\ttrain-clip-rmse:2.28978\tval-clip-rmse:2.28748\n",
      "[4]\ttrain-rmse:2.25175\tval-rmse:2.2508\ttrain-clip-rmse:2.25175\tval-clip-rmse:2.2508\n",
      "[5]\ttrain-rmse:2.22603\tval-rmse:2.2258\ttrain-clip-rmse:2.22603\tval-clip-rmse:2.2258\n",
      "[6]\ttrain-rmse:2.21191\tval-rmse:2.21201\ttrain-clip-rmse:2.21191\tval-clip-rmse:2.212\n",
      "[7]\ttrain-rmse:2.20307\tval-rmse:2.20348\ttrain-clip-rmse:2.20307\tval-clip-rmse:2.20348\n",
      "[8]\ttrain-rmse:2.1942\tval-rmse:2.19527\ttrain-clip-rmse:2.1942\tval-clip-rmse:2.19527\n",
      "[9]\ttrain-rmse:2.18349\tval-rmse:2.18599\ttrain-clip-rmse:2.18349\tval-clip-rmse:2.18599\n",
      "[10]\ttrain-rmse:2.16689\tval-rmse:2.17017\ttrain-clip-rmse:2.16689\tval-clip-rmse:2.17017\n",
      "[11]\ttrain-rmse:2.16186\tval-rmse:2.16535\ttrain-clip-rmse:2.16186\tval-clip-rmse:2.16535\n",
      "[12]\ttrain-rmse:2.15397\tval-rmse:2.15762\ttrain-clip-rmse:2.15397\tval-clip-rmse:2.15762\n",
      "[13]\ttrain-rmse:2.14517\tval-rmse:2.14978\ttrain-clip-rmse:2.14517\tval-clip-rmse:2.14978\n",
      "[14]\ttrain-rmse:2.13209\tval-rmse:2.13747\ttrain-clip-rmse:2.13209\tval-clip-rmse:2.13747\n",
      "[15]\ttrain-rmse:2.12789\tval-rmse:2.13372\ttrain-clip-rmse:2.12789\tval-clip-rmse:2.13372\n",
      "[16]\ttrain-rmse:2.12228\tval-rmse:2.12877\ttrain-clip-rmse:2.12228\tval-clip-rmse:2.12877\n",
      "[17]\ttrain-rmse:2.11496\tval-rmse:2.12186\ttrain-clip-rmse:2.11495\tval-clip-rmse:2.12185\n",
      "[18]\ttrain-rmse:2.10656\tval-rmse:2.11448\ttrain-clip-rmse:2.10656\tval-clip-rmse:2.11448\n",
      "[19]\ttrain-rmse:2.10231\tval-rmse:2.11052\ttrain-clip-rmse:2.10231\tval-clip-rmse:2.11051\n",
      "[20]\ttrain-rmse:2.10128\tval-rmse:2.10968\ttrain-clip-rmse:2.10127\tval-clip-rmse:2.10966\n",
      "[21]\ttrain-rmse:2.09245\tval-rmse:2.10193\ttrain-clip-rmse:2.09243\tval-clip-rmse:2.10189\n",
      "[22]\ttrain-rmse:2.09114\tval-rmse:2.10045\ttrain-clip-rmse:2.09112\tval-clip-rmse:2.10041\n",
      "[23]\ttrain-rmse:2.08877\tval-rmse:2.09831\ttrain-clip-rmse:2.08875\tval-clip-rmse:2.09827\n",
      "[24]\ttrain-rmse:2.08566\tval-rmse:2.09535\ttrain-clip-rmse:2.08555\tval-clip-rmse:2.09519\n",
      "[25]\ttrain-rmse:2.07527\tval-rmse:2.08515\ttrain-clip-rmse:2.07517\tval-clip-rmse:2.08499\n",
      "[26]\ttrain-rmse:2.07194\tval-rmse:2.08221\ttrain-clip-rmse:2.07175\tval-clip-rmse:2.08195\n",
      "[27]\ttrain-rmse:2.06729\tval-rmse:2.07777\ttrain-clip-rmse:2.06698\tval-clip-rmse:2.07737\n",
      "[28]\ttrain-rmse:2.06493\tval-rmse:2.0756\ttrain-clip-rmse:2.06462\tval-clip-rmse:2.0752\n"
     ]
    },
    {
     "name": "stdout",
     "output_type": "stream",
     "text": [
      "[29]\ttrain-rmse:2.06139\tval-rmse:2.07267\ttrain-clip-rmse:2.06109\tval-clip-rmse:2.07227\n",
      "[30]\ttrain-rmse:2.05398\tval-rmse:2.06623\ttrain-clip-rmse:2.05368\tval-clip-rmse:2.06582\n",
      "[31]\ttrain-rmse:2.04944\tval-rmse:2.06234\ttrain-clip-rmse:2.04913\tval-clip-rmse:2.06193\n",
      "[32]\ttrain-rmse:2.04858\tval-rmse:2.0615\ttrain-clip-rmse:2.04827\tval-clip-rmse:2.06109\n",
      "[33]\ttrain-rmse:2.04466\tval-rmse:2.05795\ttrain-clip-rmse:2.04435\tval-clip-rmse:2.05753\n",
      "[34]\ttrain-rmse:2.04031\tval-rmse:2.05355\ttrain-clip-rmse:2.04\tval-clip-rmse:2.05313\n",
      "[35]\ttrain-rmse:2.03775\tval-rmse:2.05118\ttrain-clip-rmse:2.03742\tval-clip-rmse:2.05075\n",
      "[36]\ttrain-rmse:2.03526\tval-rmse:2.04882\ttrain-clip-rmse:2.03494\tval-clip-rmse:2.04839\n",
      "[37]\ttrain-rmse:2.03441\tval-rmse:2.04811\ttrain-clip-rmse:2.03408\tval-clip-rmse:2.04768\n",
      "[38]\ttrain-rmse:2.03002\tval-rmse:2.04455\ttrain-clip-rmse:2.02966\tval-clip-rmse:2.0441\n",
      "[39]\ttrain-rmse:2.02563\tval-rmse:2.04058\ttrain-clip-rmse:2.02527\tval-clip-rmse:2.04013\n",
      "[40]\ttrain-rmse:2.02257\tval-rmse:2.03758\ttrain-clip-rmse:2.02222\tval-clip-rmse:2.03713\n",
      "[41]\ttrain-rmse:2.0208\tval-rmse:2.0364\ttrain-clip-rmse:2.02044\tval-clip-rmse:2.03595\n",
      "[42]\ttrain-rmse:2.01522\tval-rmse:2.03102\ttrain-clip-rmse:2.01486\tval-clip-rmse:2.03057\n",
      "[43]\ttrain-rmse:2.01228\tval-rmse:2.02866\ttrain-clip-rmse:2.01192\tval-clip-rmse:2.0282\n",
      "[44]\ttrain-rmse:2.01129\tval-rmse:2.02802\ttrain-clip-rmse:2.01092\tval-clip-rmse:2.02756\n",
      "[45]\ttrain-rmse:2.00803\tval-rmse:2.0253\ttrain-clip-rmse:2.00767\tval-clip-rmse:2.02484\n",
      "[46]\ttrain-rmse:2.00297\tval-rmse:2.0209\ttrain-clip-rmse:2.00259\tval-clip-rmse:2.02043\n",
      "[47]\ttrain-rmse:2.00169\tval-rmse:2.01996\ttrain-clip-rmse:2.00131\tval-clip-rmse:2.01948\n",
      "[48]\ttrain-rmse:2.0002\tval-rmse:2.01869\ttrain-clip-rmse:1.99982\tval-clip-rmse:2.01821\n",
      "[49]\ttrain-rmse:1.99887\tval-rmse:2.01744\ttrain-clip-rmse:1.99848\tval-clip-rmse:2.01695\n",
      "[50]\ttrain-rmse:1.99817\tval-rmse:2.01686\ttrain-clip-rmse:1.99778\tval-clip-rmse:2.01638\n",
      "[51]\ttrain-rmse:1.99265\tval-rmse:2.01178\ttrain-clip-rmse:1.99226\tval-clip-rmse:2.01129\n",
      "[52]\ttrain-rmse:1.99147\tval-rmse:2.01093\ttrain-clip-rmse:1.99107\tval-clip-rmse:2.01042\n",
      "[53]\ttrain-rmse:1.99115\tval-rmse:2.01071\ttrain-clip-rmse:1.99075\tval-clip-rmse:2.01019\n",
      "[54]\ttrain-rmse:1.99066\tval-rmse:2.01031\ttrain-clip-rmse:1.99026\tval-clip-rmse:2.0098\n",
      "[55]\ttrain-rmse:1.98907\tval-rmse:2.00882\ttrain-clip-rmse:1.98866\tval-clip-rmse:2.0083\n",
      "[56]\ttrain-rmse:1.98836\tval-rmse:2.00834\ttrain-clip-rmse:1.98795\tval-clip-rmse:2.00782\n",
      "[57]\ttrain-rmse:1.9867\tval-rmse:2.0071\ttrain-clip-rmse:1.98629\tval-clip-rmse:2.00657\n",
      "[58]\ttrain-rmse:1.98352\tval-rmse:2.00482\ttrain-clip-rmse:1.9831\tval-clip-rmse:2.00429\n",
      "[59]\ttrain-rmse:1.98251\tval-rmse:2.00375\ttrain-clip-rmse:1.98209\tval-clip-rmse:2.00321\n",
      "[60]\ttrain-rmse:1.98097\tval-rmse:2.00269\ttrain-clip-rmse:1.98055\tval-clip-rmse:2.00214\n",
      "[61]\ttrain-rmse:1.98076\tval-rmse:2.00257\ttrain-clip-rmse:1.98034\tval-clip-rmse:2.00202\n",
      "[62]\ttrain-rmse:1.97907\tval-rmse:2.00094\ttrain-clip-rmse:1.97864\tval-clip-rmse:2.00038\n",
      "[63]\ttrain-rmse:1.97835\tval-rmse:2.00054\ttrain-clip-rmse:1.97792\tval-clip-rmse:1.99998\n",
      "[64]\ttrain-rmse:1.97586\tval-rmse:1.99829\ttrain-clip-rmse:1.97542\tval-clip-rmse:1.99772\n",
      "[65]\ttrain-rmse:1.97335\tval-rmse:1.99608\ttrain-clip-rmse:1.97291\tval-clip-rmse:1.99549\n",
      "[66]\ttrain-rmse:1.97009\tval-rmse:1.99356\ttrain-clip-rmse:1.96965\tval-clip-rmse:1.99298\n",
      "[67]\ttrain-rmse:1.96827\tval-rmse:1.99194\ttrain-clip-rmse:1.96782\tval-clip-rmse:1.99135\n",
      "[68]\ttrain-rmse:1.96654\tval-rmse:1.99037\ttrain-clip-rmse:1.96607\tval-clip-rmse:1.98976\n",
      "[69]\ttrain-rmse:1.96573\tval-rmse:1.98959\ttrain-clip-rmse:1.96525\tval-clip-rmse:1.98897\n",
      "[70]\ttrain-rmse:1.9651\tval-rmse:1.98914\ttrain-clip-rmse:1.96462\tval-clip-rmse:1.98852\n",
      "[71]\ttrain-rmse:1.96322\tval-rmse:1.98801\ttrain-clip-rmse:1.96273\tval-clip-rmse:1.98738\n",
      "[72]\ttrain-rmse:1.96078\tval-rmse:1.98594\ttrain-clip-rmse:1.96029\tval-clip-rmse:1.98531\n",
      "[73]\ttrain-rmse:1.96007\tval-rmse:1.98532\ttrain-clip-rmse:1.95958\tval-clip-rmse:1.9847\n",
      "[74]\ttrain-rmse:1.95816\tval-rmse:1.98363\ttrain-clip-rmse:1.95767\tval-clip-rmse:1.98301\n",
      "[75]\ttrain-rmse:1.95706\tval-rmse:1.98269\ttrain-clip-rmse:1.95657\tval-clip-rmse:1.98207\n",
      "[76]\ttrain-rmse:1.95398\tval-rmse:1.97981\ttrain-clip-rmse:1.95348\tval-clip-rmse:1.97918\n",
      "[77]\ttrain-rmse:1.95122\tval-rmse:1.97747\ttrain-clip-rmse:1.95072\tval-clip-rmse:1.97684\n",
      "[78]\ttrain-rmse:1.95028\tval-rmse:1.97661\ttrain-clip-rmse:1.94978\tval-clip-rmse:1.97597\n",
      "[79]\ttrain-rmse:1.94919\tval-rmse:1.97587\ttrain-clip-rmse:1.94868\tval-clip-rmse:1.97521\n",
      "Repeat 0, split 2, val score = 1.975, running time = 0.602 min.\n",
      "Val mean = 1.987, std = 0.010\n"
     ]
    }
   ],
   "source": [
    "param = {'max_depth':8, \n",
    "         'subsample':0.8,\n",
    "         'min_child_weight':300,\n",
    "         'eta':0.3, \n",
    "         'lambda':2,\n",
    "         'colsample_bytree':0.8,\n",
    "         'seed':1,\n",
    "         'silent':1,\n",
    "         'maximize': False,\n",
    "         'nthread':8}\n",
    "\n",
    "n_tree = 80\n",
    "verbose = True\n",
    "\n",
    "n_split = 3\n",
    "n_repetition = 1\n",
    "\n",
    "df, clf, running_time = cv(x_train, y_train, param, n_repetition, n_split, n_tree, verbose, 42)"
   ]
  },
  {
   "cell_type": "code",
   "execution_count": 55,
   "metadata": {},
   "outputs": [],
   "source": [
    "a = {k: clf[0, 0].get_score(importance_type='gain') for k in clf.keys()}"
   ]
  },
  {
   "cell_type": "code",
   "execution_count": 56,
   "metadata": {},
   "outputs": [],
   "source": [
    "b = pd.DataFrame(a)"
   ]
  },
  {
   "cell_type": "code",
   "execution_count": 57,
   "metadata": {},
   "outputs": [],
   "source": [
    "b.columns = list(range(n_split))"
   ]
  },
  {
   "cell_type": "code",
   "execution_count": 58,
   "metadata": {},
   "outputs": [],
   "source": [
    "c = b.mean(axis=1).sort_values(ascending=False)"
   ]
  },
  {
   "cell_type": "code",
   "execution_count": 59,
   "metadata": {},
   "outputs": [],
   "source": [
    "d = c.head(50).index.tolist()\n",
    "e = []\n",
    "f = []\n",
    "for n in d:\n",
    "    if len(n.split('_'))>=2 and n.split('_')[-2] == 'lag':\n",
    "        e.append('_'.join(n.split('_')[:-2]))\n",
    "        f.append(int(n.split('_')[-1]))\n",
    "        \n",
    "e = set(e)\n",
    "f = set(f)"
   ]
  },
  {
   "cell_type": "code",
   "execution_count": 60,
   "metadata": {},
   "outputs": [
    {
     "data": {
      "text/plain": [
       "{'cnt_mean_cat1_cat2',\n",
       " 'cnt_mean_cat1_shop',\n",
       " 'cnt_mean_cat1_type',\n",
       " 'cnt_mean_cat2_type',\n",
       " 'cnt_mean_item_city',\n",
       " 'cnt_sum_month',\n",
       " 'price_mean_cat1_cat2',\n",
       " 'price_mean_cat1_type',\n",
       " 'price_mean_item_city',\n",
       " 'price_mean_month',\n",
       " 'rev_mean_cat1_cat2',\n",
       " 'rev_mean_cat1_city',\n",
       " 'rev_mean_cat1_type',\n",
       " 'rev_mean_cat2_type',\n",
       " 'rev_mean_item_city',\n",
       " 'rev_mean_item_type',\n",
       " 'rev_sum_month',\n",
       " 'shop_count_cat1_cat2'}"
      ]
     },
     "execution_count": 60,
     "metadata": {},
     "output_type": "execute_result"
    }
   ],
   "source": [
    "e"
   ]
  },
  {
   "cell_type": "code",
   "execution_count": 61,
   "metadata": {},
   "outputs": [
    {
     "data": {
      "text/plain": [
       "{1, 2, 3, 4, 5, 6}"
      ]
     },
     "execution_count": 61,
     "metadata": {},
     "output_type": "execute_result"
    }
   ],
   "source": [
    "f"
   ]
  },
  {
   "cell_type": "code",
   "execution_count": 62,
   "metadata": {},
   "outputs": [
    {
     "data": {
      "text/plain": [
       "260"
      ]
     },
     "execution_count": 62,
     "metadata": {},
     "output_type": "execute_result"
    }
   ],
   "source": [
    "26*10"
   ]
  },
  {
   "cell_type": "code",
   "execution_count": 64,
   "metadata": {},
   "outputs": [],
   "source": [
    "b.to_csv('eda_11_5_feature_importance.csv')"
   ]
  }
 ],
 "metadata": {
  "kernelspec": {
   "display_name": "Python 3",
   "language": "python",
   "name": "python3"
  },
  "language_info": {
   "codemirror_mode": {
    "name": "ipython",
    "version": 3
   },
   "file_extension": ".py",
   "mimetype": "text/x-python",
   "name": "python",
   "nbconvert_exporter": "python",
   "pygments_lexer": "ipython3",
   "version": "3.6.5"
  }
 },
 "nbformat": 4,
 "nbformat_minor": 2
}
