{
 "cells": [
  {
   "cell_type": "code",
   "execution_count": 1,
   "metadata": {},
   "outputs": [],
   "source": [
    "import numpy as np\n",
    "import pandas as pd\n",
    "import matplotlib.pyplot as plt\n",
    "import os\n",
    "import gc\n",
    "import sys\n",
    "import time\n",
    "import gc\n",
    "import itertools\n",
    "import tqdm\n",
    "import time\n",
    "import copy\n",
    "\n",
    "import scipy.stats as ss\n",
    "from numba import jit\n",
    "\n",
    "if os.name=='nt':\n",
    "    try:\n",
    "        mingw_path = 'C:\\\\Program Files\\\\mingw-w64\\\\x86_64-8.1.0-posix-seh-rt_v6-rev0\\\\mingw64\\\\bin'\n",
    "        os.environ['PATH'] = mingw_path + ';' + os.environ['PATH']\n",
    "    except:\n",
    "        pass\n",
    "    \n",
    "import xgboost as xgb\n",
    "from sklearn.metrics import mean_squared_error \n",
    "from sklearn.preprocessing import LabelEncoder\n",
    "from sklearn.model_selection import StratifiedKFold\n",
    "\n",
    "%matplotlib inline"
   ]
  },
  {
   "cell_type": "markdown",
   "metadata": {},
   "source": [
    "### Helper Function"
   ]
  },
  {
   "cell_type": "code",
   "execution_count": 2,
   "metadata": {},
   "outputs": [],
   "source": [
    "def lag_features(df, lags, merge_cols, shift_cols, fillna_value=None):\n",
    "    '''create lag features of col'''\n",
    "    cols = copy.copy(merge_cols)\n",
    "    cols.extend(shift_cols)\n",
    "    tmp = df.loc[:, cols]\n",
    "    for i in lags:\n",
    "        shifted = tmp.copy()\n",
    "        shifted_cols = shifted.columns.tolist()\n",
    "        shifted_cols = [c+'_lag_'+str(i) if c in shift_cols else c \n",
    "                        for c in shifted_cols]\n",
    "        shifted.columns = shifted_cols\n",
    "        shifted['month'] += i\n",
    "        shifted.drop_duplicates(inplace=True)\n",
    "        df = pd.merge(df, shifted, on=merge_cols, how='left')\n",
    "    if fillna_value is not None:\n",
    "        df.fillna(fillna_value, inplace=True)\n",
    "    return df    "
   ]
  },
  {
   "cell_type": "code",
   "execution_count": 3,
   "metadata": {},
   "outputs": [],
   "source": [
    "def clip_rmse(preds, dtrain):\n",
    "    y_test = np.array(dtrain.get_label())\n",
    "    preds = np.array(preds)\n",
    "    y_test = np.maximum(np.minimum(y_test, 20), 0)\n",
    "    preds = np.maximum(np.minimum(preds, 20), 0)\n",
    "    #preds = np.array(list(map(lambda x: min(20, max(x, 0)), list(preds))))\n",
    "    #y_test = np.array(list(map(lambda x: min(20, max(x, 0)), list(y_test))))\n",
    "    rmse = np.sqrt(mean_squared_error(preds,y_test))\n",
    "    return 'clip-rmse', rmse"
   ]
  },
  {
   "cell_type": "code",
   "execution_count": 4,
   "metadata": {},
   "outputs": [],
   "source": [
    "def cv(x_train, y_train, param, n_repetition, n_split, n_tree, verbose, random_state):\n",
    "    '''Repeated CV'''\n",
    "    \n",
    "    cv_results = {}\n",
    "    clf = {}\n",
    "    running_time = {}\n",
    "\n",
    "    np.random.seed(random_state)\n",
    "\n",
    "    for m in range(n_repetition):\n",
    "        # Train and valuation sets split\n",
    "        skf = StratifiedKFold(n_splits=n_split, random_state=np.random.randint(10**6), shuffle=True)\n",
    "\n",
    "        for n, (train_index, val_index) in enumerate(skf.split(x_train, y_train)):\n",
    "\n",
    "            start_time = time.time()\n",
    "\n",
    "            # Construct DMatrix\n",
    "            dtrain = xgb.DMatrix(x_train.iloc[train_index], label=y_train.iloc[train_index])\n",
    "            dval = xgb.DMatrix(x_train.iloc[val_index], label=y_train.iloc[val_index])\n",
    "\n",
    "            # Placeholder for evals_results\n",
    "            cv_results[m, n] = {}\n",
    "\n",
    "            param['seed'] = np.random.randint(10**6)\n",
    "            clf[m, n] = xgb.train(param, dtrain,num_boost_round=n_tree, \n",
    "                                  evals=[(dtrain, 'train'), (dval, 'val')], \n",
    "                                  feval=clip_rmse, maximize=False, early_stopping_rounds=None, \n",
    "                                  evals_result=cv_results[m, n], verbose_eval=verbose)\n",
    "\n",
    "            running_time[m, n] = time.time() - start_time\n",
    "\n",
    "            print('Repeat {}, split {}, val score = {:.3f}, running time = {:.3f} min.'.format(m, n, \n",
    "                cv_results[m, n]['val']['clip-rmse'][-1], running_time[m, n]/60))\n",
    "\n",
    "    cv_results_final = {}\n",
    "    for m in range(n_repetition):\n",
    "        for n in range(n_split):\n",
    "            cv_results_final['train', m, n] = cv_results[m, n]['train']['clip-rmse']\n",
    "            cv_results_final['val', m, n] = cv_results[m, n]['val']['clip-rmse']\n",
    "\n",
    "    df = pd.DataFrame(cv_results_final)\n",
    "    df.index.name = 'iteration'\n",
    "    df.columns.names = ['dataset', 'repetition', 'cv_split']\n",
    "\n",
    "    print('Val mean = {:.3f}, std = {:.3f}'.format(df['val'].iloc[-1].mean(), df['val'].iloc[-1].std()))\n",
    "    \n",
    "    return df, clf, running_time"
   ]
  },
  {
   "cell_type": "code",
   "execution_count": 5,
   "metadata": {},
   "outputs": [],
   "source": [
    "def feature_combination(x, feature_list, function_dict, column_name, merge=False):\n",
    "    '''Combination of new features'''\n",
    "    tmp = x.groupby(feature_list).agg(function_dict)\n",
    "    tmp.columns = column_name\n",
    "    if merge:\n",
    "        x = x.merge(tmp, on=feature_list, how='left')\n",
    "        return x, tmp\n",
    "    else:\n",
    "        return tmp"
   ]
  },
  {
   "cell_type": "markdown",
   "metadata": {},
   "source": [
    "### Load and Preprocess Data"
   ]
  },
  {
   "cell_type": "code",
   "execution_count": 6,
   "metadata": {},
   "outputs": [],
   "source": [
    "# Load data\n",
    "train = pd.read_csv('all/sales_train.csv.gz')\n",
    "test = pd.read_csv('all/test.csv.gz')\n",
    "shop = pd.read_csv('all/shops-translated.csv')\n",
    "item = pd.read_csv('all/item_category.csv')\n",
    "\n",
    "test.set_index('ID', inplace=True)\n",
    "item.drop(['item_name_translated'], axis=1, inplace=True)\n",
    "shop.drop(['Name'], axis=1, inplace=True)\n",
    "\n",
    "le = LabelEncoder()\n",
    "item['item_cat1'] = le.fit_transform(item['item_cat1'].astype(str))\n",
    "item['item_cat2'] = le.fit_transform(item['item_cat2'].astype(str))\n",
    "shop['City'] = le.fit_transform(shop['City'])\n",
    "shop['Type'] = le.fit_transform(shop['Type'])"
   ]
  },
  {
   "cell_type": "markdown",
   "metadata": {},
   "source": [
    "Remove outliers"
   ]
  },
  {
   "cell_type": "code",
   "execution_count": 7,
   "metadata": {},
   "outputs": [],
   "source": [
    "train = train[train.item_price<100000]\n",
    "train = train[train.item_cnt_day<1001]\n",
    "median = train[(train.shop_id==32)&(train.item_id==2973)&(train.date_block_num==4)&(train.item_price>0)].item_price.median()\n",
    "train.loc[train.item_price<0, 'item_price'] = median"
   ]
  },
  {
   "cell_type": "markdown",
   "metadata": {},
   "source": [
    "Fix shop names and ids"
   ]
  },
  {
   "cell_type": "code",
   "execution_count": 8,
   "metadata": {},
   "outputs": [],
   "source": [
    "train.loc[train.shop_id == 0, 'shop_id'] = 57\n",
    "test.loc[test.shop_id == 0, 'shop_id'] = 57\n",
    "train.loc[train.shop_id == 1, 'shop_id'] = 58\n",
    "test.loc[test.shop_id == 1, 'shop_id'] = 58\n",
    "train.loc[train.shop_id == 10, 'shop_id'] = 11\n",
    "test.loc[test.shop_id == 10, 'shop_id'] = 11"
   ]
  },
  {
   "cell_type": "markdown",
   "metadata": {},
   "source": [
    "Monthly sales for all the samples"
   ]
  },
  {
   "cell_type": "code",
   "execution_count": 9,
   "metadata": {},
   "outputs": [],
   "source": [
    "x = pd.DataFrame(train.groupby(['date_block_num', 'shop_id', 'item_id'])['item_cnt_day'].sum())\n",
    "\n",
    "x.reset_index(inplace=True)"
   ]
  },
  {
   "cell_type": "markdown",
   "metadata": {},
   "source": [
    "Training set only contains sold samples, need to extend to all samples.\n",
    "\n",
    "There are two ways of extending:\n",
    "1. overall product between elements in (month, shop_id, item_id)\n",
    "2. in each month, the product between elements in (shop_id, item_id)\n",
    "\n",
    "The first one increases the number of rows by 23.5 times, the second one 6 times"
   ]
  },
  {
   "cell_type": "code",
   "execution_count": 10,
   "metadata": {},
   "outputs": [
    {
     "name": "stdout",
     "output_type": "stream",
     "text": [
      "overall product count is 42260028, sample count is 1609123, ratio is 26.263\n",
      "monthly product count sum is 10913804, monthly sample count is 1609123, ratio is 6.782\n"
     ]
    }
   ],
   "source": [
    "shop_count = {}\n",
    "item_count = {}\n",
    "product_count = {}\n",
    "sample_count = {}\n",
    "ratio = {}\n",
    "\n",
    "for n in x.date_block_num.unique():\n",
    "    shop_count[n] = len(x.loc[x.date_block_num==n, 'shop_id'].unique())\n",
    "    item_count[n] = len(x.loc[x.date_block_num==n, 'item_id'].unique())\n",
    "    sample_count[n] = len(x.loc[x.date_block_num==n, :])\n",
    "    product_count[n] = shop_count[n]*item_count[n]\n",
    "    ratio[n] = product_count[n]/sample_count[n]\n",
    "#     print('product count is {}, sample count is {}, ratio is {:.3f}'.format(product_count[n], \n",
    "#                                                                             sample_count[n], \n",
    "#                                                                             product_count[n]/sample_count[n]))\n",
    "    \n",
    "print('overall product count is {}, sample count is {}, ratio is {:.3f}'.format(\n",
    "    len(x.shop_id.unique())*len(x.item_id.unique())*34, \n",
    "    x.shape[0], 34*len(x.shop_id.unique())*len(x.item_id.unique())/x.shape[0]))\n",
    "print('monthly product count sum is {}, monthly sample count is {}, ratio is {:.3f}'.format(\n",
    "    sum(product_count.values()), sum(sample_count.values()), sum(product_count.values())/sum(sample_count.values())))"
   ]
  },
  {
   "cell_type": "markdown",
   "metadata": {},
   "source": [
    "Try the first extending method\n",
    "\n",
    "It requires huge RAM"
   ]
  },
  {
   "cell_type": "code",
   "execution_count": 11,
   "metadata": {},
   "outputs": [],
   "source": [
    "if False:\n",
    "    month = np.arange(0, 34)\n",
    "    shop_list = train.shop_id.unique().tolist()\n",
    "    item_list = train.item_id.unique().tolist()\n",
    "    n_rows = len(month)*len(shop_list)*len(item_list)\n",
    "\n",
    "    idx = pd.MultiIndex.from_product([month, shop_list, item_list], names=['date_block_num', 'shop_id', 'item_id'])\n",
    "\n",
    "    x2 = pd.DataFrame(np.zeros((n_rows,2)), index=idx)\n",
    "    x2.reset_index(inplace=True, drop=False)\n",
    "    x2.drop([0, 1], axis=1, inplace=True)\n",
    "\n",
    "    x = x2.merge(x, on=['date_block_num', 'shop_id', 'item_id'], how='outer').fillna(0.0)\n",
    "    test['date_block_num'] = 34\n",
    "    x = pd.concat((x, test), sort=False).fillna(0.0)\n",
    "\n",
    "    del x2\n",
    "    gc.collect()"
   ]
  },
  {
   "cell_type": "markdown",
   "metadata": {},
   "source": [
    "Try the second method"
   ]
  },
  {
   "cell_type": "code",
   "execution_count": 12,
   "metadata": {},
   "outputs": [],
   "source": [
    "tmp = []\n",
    "for n in range(34):\n",
    "    shop_list = x.loc[x.date_block_num==n, 'shop_id'].unique()\n",
    "    item_list = x.loc[x.date_block_num==n, 'item_id'].unique()\n",
    "    idx = pd.MultiIndex.from_product([[n], shop_list, item_list], names=['date_block_num', 'shop_id', 'item_id'])\n",
    "    df_tmp = pd.DataFrame(np.zeros((len(idx),2)), index=idx)\n",
    "    tmp.append(df_tmp)\n",
    "tmp = pd.concat(tmp, sort=False)\n",
    "tmp.reset_index(inplace=True, drop=False)\n",
    "tmp.drop([0, 1], axis=1, inplace=True)\n",
    "x = tmp.merge(x, on=['date_block_num', 'shop_id', 'item_id'], how='outer').fillna(0.0)\n",
    "test['date_block_num'] = 34\n",
    "x = pd.concat((x, test), sort=False).fillna(0.0)"
   ]
  },
  {
   "cell_type": "markdown",
   "metadata": {},
   "source": [
    "Add shop/item features"
   ]
  },
  {
   "cell_type": "code",
   "execution_count": 13,
   "metadata": {},
   "outputs": [],
   "source": [
    "x = pd.merge(x, shop, on='shop_id', how='left')\n",
    "x = pd.merge(x, item, on='item_id', how='left')"
   ]
  },
  {
   "cell_type": "markdown",
   "metadata": {},
   "source": [
    "Change column names"
   ]
  },
  {
   "cell_type": "code",
   "execution_count": 14,
   "metadata": {},
   "outputs": [],
   "source": [
    "x.columns = ['month', 'shop_id', 'item_id', 'sales_month', \n",
    "             'City', 'Type', 'item_cat1', 'item_cat2']"
   ]
  },
  {
   "cell_type": "markdown",
   "metadata": {},
   "source": [
    "Change column types"
   ]
  },
  {
   "cell_type": "code",
   "execution_count": 15,
   "metadata": {},
   "outputs": [],
   "source": [
    "x['City'] = x['City'].astype(np.int8)\n",
    "x['Type'] = x['Type'].astype(np.int8)\n",
    "x['item_cat1'] = x['item_cat1'].astype(np.int8)\n",
    "x['item_cat2'] = x['item_cat2'].astype(np.int8)\n",
    "x['sales_month'] = x['sales_month'].astype(np.float16)\n",
    "x['month'] = x['month'].astype(np.int8)\n",
    "x['shop_id'] = x['shop_id'].astype(np.int8)"
   ]
  },
  {
   "cell_type": "markdown",
   "metadata": {},
   "source": [
    "### Target Lags"
   ]
  },
  {
   "cell_type": "code",
   "execution_count": 16,
   "metadata": {},
   "outputs": [],
   "source": [
    "x = lag_features(x, [1, 2, 3, 6, 12], \n",
    "                 ['month', 'shop_id', 'item_id'], \n",
    "                 ['sales_month'], fillna_value=0)"
   ]
  },
  {
   "cell_type": "markdown",
   "metadata": {},
   "source": [
    "### Mean Encoding"
   ]
  },
  {
   "cell_type": "markdown",
   "metadata": {},
   "source": [
    "`sales_mean_month`"
   ]
  },
  {
   "cell_type": "code",
   "execution_count": 17,
   "metadata": {},
   "outputs": [],
   "source": [
    "group = x.groupby('month').agg({'sales_month': ['mean']})\n",
    "group.columns = ['sales_mean_month']\n",
    "group.reset_index(inplace=True)\n",
    "\n",
    "x = pd.merge(x, group, on=['month'], how='left')\n",
    "x['sales_mean_month'] = x['sales_mean_month'].astype(np.float16)\n",
    "x = lag_features(x, [1], ['month'], ['sales_mean_month'], fillna_value=0.0)\n",
    "x.drop(['sales_mean_month'], axis=1, inplace=True)"
   ]
  },
  {
   "cell_type": "markdown",
   "metadata": {},
   "source": [
    "`sales_mean_month_item`"
   ]
  },
  {
   "cell_type": "code",
   "execution_count": 18,
   "metadata": {},
   "outputs": [],
   "source": [
    "col = 'sales_mean_month_item'\n",
    "group = x.groupby(['month', 'item_id']).agg({'sales_month': ['mean']})\n",
    "group.columns = [col]\n",
    "group.reset_index(inplace=True)\n",
    "\n",
    "x = pd.merge(x, group, on=['month', 'item_id'], how='left')\n",
    "x[col] = x[col].astype(np.float16)\n",
    "x = lag_features(x, [1, 2, 3, 6, 12], \n",
    "                 ['month', 'item_id'], \n",
    "                 [col], fillna_value=0.0)\n",
    "x.drop([col], axis=1, inplace=True)"
   ]
  },
  {
   "cell_type": "markdown",
   "metadata": {},
   "source": [
    "`sales_mean_month_shop`"
   ]
  },
  {
   "cell_type": "code",
   "execution_count": 19,
   "metadata": {},
   "outputs": [],
   "source": [
    "col = 'sales_mean_month_shop'\n",
    "merge_cols = ['month', 'shop_id']\n",
    "group = x.groupby(merge_cols).agg({'sales_month': ['mean']})\n",
    "group.columns = [col]\n",
    "group.reset_index(inplace=True)\n",
    "\n",
    "x = pd.merge(x, group, on=merge_cols, how='left')\n",
    "x[col] = x[col].astype(np.float16)\n",
    "x = lag_features(x, [1, 2, 3, 6, 12], \n",
    "                 merge_cols, \n",
    "                 [col], fillna_value=0.0)\n",
    "x.drop([col], axis=1, inplace=True)"
   ]
  },
  {
   "cell_type": "markdown",
   "metadata": {},
   "source": [
    "`sales_mean_month_cat1`"
   ]
  },
  {
   "cell_type": "code",
   "execution_count": 20,
   "metadata": {},
   "outputs": [],
   "source": [
    "col = 'sales_mean_month_cat1'\n",
    "merge_cols = ['month', 'item_cat1']\n",
    "group = x.groupby(merge_cols).agg({'sales_month': ['mean']})\n",
    "group.columns = [col]\n",
    "group.reset_index(inplace=True)\n",
    "\n",
    "x = pd.merge(x, group, on=merge_cols, how='left')\n",
    "x[col] = x[col].astype(np.float16)\n",
    "x = lag_features(x, [1], \n",
    "                 merge_cols, \n",
    "                 [col], fillna_value=0.0)\n",
    "x.drop([col], axis=1, inplace=True)"
   ]
  },
  {
   "cell_type": "markdown",
   "metadata": {},
   "source": [
    "`sales_mean_month_shop_cat1`"
   ]
  },
  {
   "cell_type": "code",
   "execution_count": 21,
   "metadata": {},
   "outputs": [],
   "source": [
    "col = 'sales_mean_month_shop_cat1'\n",
    "merge_cols = ['month', 'shop_id', 'item_cat1']\n",
    "group = x.groupby(merge_cols).agg({'sales_month': ['mean']})\n",
    "group.columns = [col]\n",
    "group.reset_index(inplace=True)\n",
    "\n",
    "x = pd.merge(x, group, on=merge_cols, how='left')\n",
    "x[col] = x[col].astype(np.float16)\n",
    "x = lag_features(x, [1], \n",
    "                 merge_cols, \n",
    "                 [col], fillna_value=0.0)\n",
    "x.drop([col], axis=1, inplace=True)"
   ]
  },
  {
   "cell_type": "markdown",
   "metadata": {},
   "source": [
    "`sales_mean_month_shop_type`"
   ]
  },
  {
   "cell_type": "code",
   "execution_count": 22,
   "metadata": {},
   "outputs": [],
   "source": [
    "col = 'sales_mean_month_shop_type'\n",
    "merge_cols = ['month', 'shop_id', 'Type']\n",
    "group = x.groupby(merge_cols).agg({'sales_month': ['mean']})\n",
    "group.columns = [col]\n",
    "group.reset_index(inplace=True)\n",
    "\n",
    "x = pd.merge(x, group, on=merge_cols, how='left')\n",
    "x[col] = x[col].astype(np.float16)\n",
    "x = lag_features(x, [1], \n",
    "                 merge_cols, \n",
    "                 [col], fillna_value=0.0)\n",
    "x.drop([col], axis=1, inplace=True)"
   ]
  },
  {
   "cell_type": "markdown",
   "metadata": {},
   "source": [
    "`sales_mean_month_shop_cat2`"
   ]
  },
  {
   "cell_type": "code",
   "execution_count": 23,
   "metadata": {},
   "outputs": [],
   "source": [
    "col = 'sales_mean_month_shop_cat2'\n",
    "merge_cols = ['month', 'shop_id', 'item_cat2']\n",
    "group = x.groupby(merge_cols).agg({'sales_month': ['mean']})\n",
    "group.columns = [col]\n",
    "group.reset_index(inplace=True)\n",
    "\n",
    "x = pd.merge(x, group, on=merge_cols, how='left')\n",
    "x[col] = x[col].astype(np.float16)\n",
    "x = lag_features(x, [1], \n",
    "                 merge_cols, \n",
    "                 [col], fillna_value=0.0)\n",
    "x.drop([col], axis=1, inplace=True)"
   ]
  },
  {
   "cell_type": "markdown",
   "metadata": {},
   "source": [
    "`sales_mean_month_city`"
   ]
  },
  {
   "cell_type": "code",
   "execution_count": 24,
   "metadata": {},
   "outputs": [],
   "source": [
    "col = 'sales_mean_month_city'\n",
    "merge_cols = ['month', 'City']\n",
    "group = x.groupby(merge_cols).agg({'sales_month': ['mean']})\n",
    "group.columns = [col]\n",
    "group.reset_index(inplace=True)\n",
    "\n",
    "x = pd.merge(x, group, on=merge_cols, how='left')\n",
    "x[col] = x[col].astype(np.float16)\n",
    "x = lag_features(x, [1], \n",
    "                 merge_cols, \n",
    "                 [col], fillna_value=0.0)\n",
    "x.drop([col], axis=1, inplace=True)"
   ]
  },
  {
   "cell_type": "markdown",
   "metadata": {},
   "source": [
    "`sales_mean_month_item_city`"
   ]
  },
  {
   "cell_type": "code",
   "execution_count": 25,
   "metadata": {},
   "outputs": [],
   "source": [
    "col = 'sales_mean_month_item_city'\n",
    "merge_cols = ['month', 'item_id', 'City']\n",
    "group = x.groupby(merge_cols).agg({'sales_month': ['mean']})\n",
    "group.columns = [col]\n",
    "group.reset_index(inplace=True)\n",
    "\n",
    "x = pd.merge(x, group, on=merge_cols, how='left')\n",
    "x[col] = x[col].astype(np.float16)\n",
    "x = lag_features(x, [1], \n",
    "                 merge_cols, \n",
    "                 [col], fillna_value=0.0)\n",
    "x.drop([col], axis=1, inplace=True)"
   ]
  },
  {
   "cell_type": "markdown",
   "metadata": {},
   "source": [
    "`sales_mean_month_cat2`"
   ]
  },
  {
   "cell_type": "code",
   "execution_count": 26,
   "metadata": {},
   "outputs": [],
   "source": [
    "col = 'sales_mean_month_cat2'\n",
    "merge_cols = ['month', 'item_cat2']\n",
    "group = x.groupby(merge_cols).agg({'sales_month': ['mean']})\n",
    "group.columns = [col]\n",
    "group.reset_index(inplace=True)\n",
    "\n",
    "x = pd.merge(x, group, on=merge_cols, how='left')\n",
    "x[col] = x[col].astype(np.float16)\n",
    "x = lag_features(x, [1], \n",
    "                 merge_cols, \n",
    "                 [col], fillna_value=0.0)\n",
    "x.drop([col], axis=1, inplace=True)"
   ]
  },
  {
   "cell_type": "markdown",
   "metadata": {},
   "source": [
    "`sales_mean_month_cat1_cat2`"
   ]
  },
  {
   "cell_type": "code",
   "execution_count": 27,
   "metadata": {},
   "outputs": [],
   "source": [
    "col = 'sales_mean_month_cat1_cat2'\n",
    "merge_cols = ['month', 'item_cat1', 'item_cat2']\n",
    "group = x.groupby(merge_cols).agg({'sales_month': ['mean']})\n",
    "group.columns = [col]\n",
    "group.reset_index(inplace=True)\n",
    "\n",
    "x = pd.merge(x, group, on=merge_cols, how='left')\n",
    "x[col] = x[col].astype(np.float16)\n",
    "x = lag_features(x, [1, 2, 3, 6], \n",
    "                 merge_cols, \n",
    "                 [col], fillna_value=0.0)\n",
    "x.drop([col], axis=1, inplace=True)"
   ]
  },
  {
   "cell_type": "markdown",
   "metadata": {},
   "source": [
    "#### CV"
   ]
  },
  {
   "cell_type": "code",
   "execution_count": 28,
   "metadata": {},
   "outputs": [],
   "source": [
    "if False:\n",
    "    x.replace([np.inf, -np.inf], np.nan, inplace=True)\n",
    "    x.fillna(0.0, inplace=True)"
   ]
  },
  {
   "cell_type": "code",
   "execution_count": 29,
   "metadata": {},
   "outputs": [],
   "source": [
    "# Split train and test sets\n",
    "x_train = x.loc[(x['month']<=33) & (x['month']>=12), :].copy()\n",
    "x_test = x.loc[x['month']==34, :].copy()\n",
    "\n",
    "# Drop target from test set\n",
    "x_test.drop(['sales_month'], axis=1, inplace=True)\n",
    "\n",
    "# Split target from train set\n",
    "# Note that target is first clipped to (0, 40), then clipped to (0, 20) in test set. \n",
    "# This is similar to the idea of calibration\n",
    "y_train = x_train['sales_month'].clip(0, 40)\n",
    "x_train.drop(['sales_month'], axis=1, inplace=True)"
   ]
  },
  {
   "cell_type": "code",
   "execution_count": 30,
   "metadata": {},
   "outputs": [
    {
     "name": "stderr",
     "output_type": "stream",
     "text": [
      "C:\\Users\\lyaa\\AppData\\Local\\Continuum\\miniconda3\\envs\\kaggle\\lib\\site-packages\\numpy\\core\\_methods.py:36: RuntimeWarning: overflow encountered in reduce\n",
      "  return umr_sum(a, axis, dtype, out, keepdims, initial)\n"
     ]
    },
    {
     "name": "stdout",
     "output_type": "stream",
     "text": [
      "[0]\ttrain-rmse:1.27292\tval-rmse:1.27885\ttrain-clip-rmse:1.04041\tval-clip-rmse:1.04506\n",
      "[1]\ttrain-rmse:1.17087\tval-rmse:1.1794\ttrain-clip-rmse:0.954435\tval-clip-rmse:0.961319\n",
      "[2]\ttrain-rmse:1.10935\tval-rmse:1.12171\ttrain-clip-rmse:0.907575\tval-clip-rmse:0.917166\n",
      "[3]\ttrain-rmse:1.06717\tval-rmse:1.08232\ttrain-clip-rmse:0.877998\tval-clip-rmse:0.889057\n",
      "[4]\ttrain-rmse:1.04278\tval-rmse:1.05999\ttrain-clip-rmse:0.862281\tval-clip-rmse:0.874431\n",
      "[5]\ttrain-rmse:1.02828\tval-rmse:1.0477\ttrain-clip-rmse:0.854022\tval-clip-rmse:0.867187\n",
      "[6]\ttrain-rmse:1.01799\tval-rmse:1.03901\ttrain-clip-rmse:0.848105\tval-clip-rmse:0.862184\n",
      "[7]\ttrain-rmse:1.00989\tval-rmse:1.03344\ttrain-clip-rmse:0.843297\tval-clip-rmse:0.858991\n",
      "[8]\ttrain-rmse:1.00353\tval-rmse:1.02837\ttrain-clip-rmse:0.839441\tval-clip-rmse:0.856033\n",
      "[9]\ttrain-rmse:0.998523\tval-rmse:1.02518\ttrain-clip-rmse:0.836555\tval-clip-rmse:0.854246\n",
      "[10]\ttrain-rmse:0.993186\tval-rmse:1.02083\ttrain-clip-rmse:0.833334\tval-clip-rmse:0.85148\n",
      "[11]\ttrain-rmse:0.989601\tval-rmse:1.01905\ttrain-clip-rmse:0.831468\tval-clip-rmse:0.850704\n",
      "[12]\ttrain-rmse:0.985321\tval-rmse:1.01634\ttrain-clip-rmse:0.828784\tval-clip-rmse:0.84882\n",
      "[13]\ttrain-rmse:0.981379\tval-rmse:1.01329\ttrain-clip-rmse:0.825779\tval-clip-rmse:0.846301\n",
      "[14]\ttrain-rmse:0.977886\tval-rmse:1.01018\ttrain-clip-rmse:0.823457\tval-clip-rmse:0.84426\n",
      "[15]\ttrain-rmse:0.967921\tval-rmse:1.00146\ttrain-clip-rmse:0.817088\tval-clip-rmse:0.838771\n",
      "[16]\ttrain-rmse:0.965702\tval-rmse:1.00002\ttrain-clip-rmse:0.815466\tval-clip-rmse:0.837756\n",
      "[17]\ttrain-rmse:0.963117\tval-rmse:0.998099\ttrain-clip-rmse:0.813775\tval-clip-rmse:0.836568\n",
      "[18]\ttrain-rmse:0.960338\tval-rmse:0.996293\ttrain-clip-rmse:0.811593\tval-clip-rmse:0.835122\n",
      "[19]\ttrain-rmse:0.955351\tval-rmse:0.992956\ttrain-clip-rmse:0.808626\tval-clip-rmse:0.83326\n",
      "[20]\ttrain-rmse:0.952885\tval-rmse:0.991425\ttrain-clip-rmse:0.806518\tval-clip-rmse:0.831824\n",
      "[21]\ttrain-rmse:0.949079\tval-rmse:0.988421\ttrain-clip-rmse:0.804216\tval-clip-rmse:0.830015\n",
      "[22]\ttrain-rmse:0.947141\tval-rmse:0.987347\ttrain-clip-rmse:0.802858\tval-clip-rmse:0.829231\n",
      "[23]\ttrain-rmse:0.94594\tval-rmse:0.986559\ttrain-clip-rmse:0.802227\tval-clip-rmse:0.828997\n",
      "[24]\ttrain-rmse:0.944122\tval-rmse:0.985795\ttrain-clip-rmse:0.80092\tval-clip-rmse:0.82842\n",
      "[25]\ttrain-rmse:0.943858\tval-rmse:0.985626\ttrain-clip-rmse:0.800764\tval-clip-rmse:0.828329\n",
      "[26]\ttrain-rmse:0.93653\tval-rmse:0.979102\ttrain-clip-rmse:0.796474\tval-clip-rmse:0.824527\n",
      "[27]\ttrain-rmse:0.934295\tval-rmse:0.977697\ttrain-clip-rmse:0.795278\tval-clip-rmse:0.823944\n",
      "[28]\ttrain-rmse:0.932812\tval-rmse:0.97668\ttrain-clip-rmse:0.794223\tval-clip-rmse:0.823205\n",
      "[29]\ttrain-rmse:0.931208\tval-rmse:0.975495\ttrain-clip-rmse:0.793331\tval-clip-rmse:0.822556\n",
      "[30]\ttrain-rmse:0.929198\tval-rmse:0.974068\ttrain-clip-rmse:0.791755\tval-clip-rmse:0.821457\n",
      "[31]\ttrain-rmse:0.92836\tval-rmse:0.973847\ttrain-clip-rmse:0.79103\tval-clip-rmse:0.821206\n",
      "[32]\ttrain-rmse:0.926927\tval-rmse:0.972866\ttrain-clip-rmse:0.79003\tval-clip-rmse:0.820523\n",
      "[33]\ttrain-rmse:0.925907\tval-rmse:0.972659\ttrain-clip-rmse:0.789298\tval-clip-rmse:0.820249\n",
      "[34]\ttrain-rmse:0.925051\tval-rmse:0.972408\ttrain-clip-rmse:0.788627\tval-clip-rmse:0.819947\n",
      "[35]\ttrain-rmse:0.923254\tval-rmse:0.971887\ttrain-clip-rmse:0.787674\tval-clip-rmse:0.819808\n",
      "[36]\ttrain-rmse:0.922615\tval-rmse:0.971629\ttrain-clip-rmse:0.787226\tval-clip-rmse:0.819671\n",
      "[37]\ttrain-rmse:0.922155\tval-rmse:0.971312\ttrain-clip-rmse:0.787093\tval-clip-rmse:0.819601\n",
      "[38]\ttrain-rmse:0.921094\tval-rmse:0.970527\ttrain-clip-rmse:0.786243\tval-clip-rmse:0.818902\n",
      "[39]\ttrain-rmse:0.919766\tval-rmse:0.970088\ttrain-clip-rmse:0.785422\tval-clip-rmse:0.818469\n",
      "[40]\ttrain-rmse:0.914975\tval-rmse:0.965771\ttrain-clip-rmse:0.782736\tval-clip-rmse:0.815898\n",
      "[41]\ttrain-rmse:0.913954\tval-rmse:0.965246\ttrain-clip-rmse:0.78201\tval-clip-rmse:0.815464\n",
      "[42]\ttrain-rmse:0.912121\tval-rmse:0.96441\ttrain-clip-rmse:0.780818\tval-clip-rmse:0.814943\n",
      "[43]\ttrain-rmse:0.910594\tval-rmse:0.963609\ttrain-clip-rmse:0.779683\tval-clip-rmse:0.81441\n",
      "[44]\ttrain-rmse:0.905973\tval-rmse:0.959975\ttrain-clip-rmse:0.776949\tval-clip-rmse:0.812357\n",
      "[45]\ttrain-rmse:0.905065\tval-rmse:0.959671\ttrain-clip-rmse:0.77629\tval-clip-rmse:0.812101\n",
      "[46]\ttrain-rmse:0.904537\tval-rmse:0.959593\ttrain-clip-rmse:0.775928\tval-clip-rmse:0.812046\n",
      "[47]\ttrain-rmse:0.903873\tval-rmse:0.959159\ttrain-clip-rmse:0.775497\tval-clip-rmse:0.811725\n",
      "[48]\ttrain-rmse:0.902334\tval-rmse:0.958199\ttrain-clip-rmse:0.774486\tval-clip-rmse:0.811082\n",
      "[49]\ttrain-rmse:0.901462\tval-rmse:0.957936\ttrain-clip-rmse:0.773886\tval-clip-rmse:0.810828\n",
      "[50]\ttrain-rmse:0.901212\tval-rmse:0.957808\ttrain-clip-rmse:0.773669\tval-clip-rmse:0.810686\n",
      "[51]\ttrain-rmse:0.900202\tval-rmse:0.957224\ttrain-clip-rmse:0.772965\tval-clip-rmse:0.81023\n",
      "[52]\ttrain-rmse:0.898878\tval-rmse:0.956677\ttrain-clip-rmse:0.772233\tval-clip-rmse:0.809941\n",
      "[53]\ttrain-rmse:0.897385\tval-rmse:0.955845\ttrain-clip-rmse:0.771327\tval-clip-rmse:0.809516\n",
      "[54]\ttrain-rmse:0.896297\tval-rmse:0.955382\ttrain-clip-rmse:0.770515\tval-clip-rmse:0.80916\n",
      "[55]\ttrain-rmse:0.895992\tval-rmse:0.955259\ttrain-clip-rmse:0.770322\tval-clip-rmse:0.809109\n",
      "[56]\ttrain-rmse:0.894953\tval-rmse:0.955003\ttrain-clip-rmse:0.76951\tval-clip-rmse:0.808892\n",
      "[57]\ttrain-rmse:0.893814\tval-rmse:0.954528\ttrain-clip-rmse:0.7689\tval-clip-rmse:0.808754\n",
      "[58]\ttrain-rmse:0.893463\tval-rmse:0.954311\ttrain-clip-rmse:0.76866\tval-clip-rmse:0.808603\n",
      "[59]\ttrain-rmse:0.891864\tval-rmse:0.953592\ttrain-clip-rmse:0.767641\tval-clip-rmse:0.808185\n",
      "[60]\ttrain-rmse:0.890855\tval-rmse:0.953271\ttrain-clip-rmse:0.767153\tval-clip-rmse:0.808228\n",
      "[61]\ttrain-rmse:0.890089\tval-rmse:0.953009\ttrain-clip-rmse:0.766591\tval-clip-rmse:0.808096\n",
      "[62]\ttrain-rmse:0.889546\tval-rmse:0.952923\ttrain-clip-rmse:0.766241\tval-clip-rmse:0.808019\n",
      "[63]\ttrain-rmse:0.887466\tval-rmse:0.95114\ttrain-clip-rmse:0.764823\tval-clip-rmse:0.806864\n",
      "[64]\ttrain-rmse:0.886071\tval-rmse:0.950183\ttrain-clip-rmse:0.763998\tval-clip-rmse:0.80633\n",
      "[65]\ttrain-rmse:0.885791\tval-rmse:0.950045\ttrain-clip-rmse:0.763799\tval-clip-rmse:0.806204\n",
      "[66]\ttrain-rmse:0.885229\tval-rmse:0.949888\ttrain-clip-rmse:0.76335\tval-clip-rmse:0.806053\n",
      "[67]\ttrain-rmse:0.884863\tval-rmse:0.949929\ttrain-clip-rmse:0.763082\tval-clip-rmse:0.806076\n",
      "[68]\ttrain-rmse:0.883731\tval-rmse:0.949923\ttrain-clip-rmse:0.762454\tval-clip-rmse:0.806115\n",
      "[69]\ttrain-rmse:0.883073\tval-rmse:0.949625\ttrain-clip-rmse:0.761993\tval-clip-rmse:0.805925\n",
      "[70]\ttrain-rmse:0.882844\tval-rmse:0.94946\ttrain-clip-rmse:0.761849\tval-clip-rmse:0.805836\n",
      "[71]\ttrain-rmse:0.882377\tval-rmse:0.949175\ttrain-clip-rmse:0.761473\tval-clip-rmse:0.805594\n",
      "[72]\ttrain-rmse:0.881421\tval-rmse:0.949011\ttrain-clip-rmse:0.760727\tval-clip-rmse:0.805456\n",
      "[73]\ttrain-rmse:0.880717\tval-rmse:0.948796\ttrain-clip-rmse:0.760122\tval-clip-rmse:0.805224\n",
      "[74]\ttrain-rmse:0.879825\tval-rmse:0.948419\ttrain-clip-rmse:0.759476\tval-clip-rmse:0.804948\n",
      "[75]\ttrain-rmse:0.878801\tval-rmse:0.948242\ttrain-clip-rmse:0.758888\tval-clip-rmse:0.804886\n",
      "[76]\ttrain-rmse:0.878332\tval-rmse:0.948062\ttrain-clip-rmse:0.758555\tval-clip-rmse:0.804772\n",
      "[77]\ttrain-rmse:0.877412\tval-rmse:0.947625\ttrain-clip-rmse:0.757881\tval-clip-rmse:0.804463\n",
      "[78]\ttrain-rmse:0.877008\tval-rmse:0.947699\ttrain-clip-rmse:0.757533\tval-clip-rmse:0.804493\n",
      "[79]\ttrain-rmse:0.876666\tval-rmse:0.947636\ttrain-clip-rmse:0.757151\tval-clip-rmse:0.804371\n",
      "Repeat 0, split 0, val score = 0.804, running time = 3.119 min.\n",
      "[0]\ttrain-rmse:1.30497\tval-rmse:1.31086\ttrain-clip-rmse:1.07297\tval-clip-rmse:1.07606\n",
      "[1]\ttrain-rmse:1.18336\tval-rmse:1.19546\ttrain-clip-rmse:0.967567\tval-clip-rmse:0.973604\n",
      "[2]\ttrain-rmse:1.11608\tval-rmse:1.13245\ttrain-clip-rmse:0.915283\tval-clip-rmse:0.923075\n",
      "[3]\ttrain-rmse:1.07393\tval-rmse:1.09308\ttrain-clip-rmse:0.884872\tval-clip-rmse:0.893634\n",
      "[4]\ttrain-rmse:1.04785\tval-rmse:1.06969\ttrain-clip-rmse:0.867877\tval-clip-rmse:0.87801\n",
      "[5]\ttrain-rmse:1.03043\tval-rmse:1.05387\ttrain-clip-rmse:0.857458\tval-clip-rmse:0.868271\n",
      "[6]\ttrain-rmse:1.02006\tval-rmse:1.04464\ttrain-clip-rmse:0.851811\tval-clip-rmse:0.863207\n",
      "[7]\ttrain-rmse:1.01148\tval-rmse:1.03773\ttrain-clip-rmse:0.846646\tval-clip-rmse:0.859175\n",
      "[8]\ttrain-rmse:1.00349\tval-rmse:1.03062\ttrain-clip-rmse:0.842026\tval-clip-rmse:0.855092\n",
      "[9]\ttrain-rmse:0.996721\tval-rmse:1.02518\ttrain-clip-rmse:0.837603\tval-clip-rmse:0.851509\n",
      "[10]\ttrain-rmse:0.993053\tval-rmse:1.02263\ttrain-clip-rmse:0.835203\tval-clip-rmse:0.849919\n"
     ]
    },
    {
     "name": "stdout",
     "output_type": "stream",
     "text": [
      "[11]\ttrain-rmse:0.987695\tval-rmse:1.01818\ttrain-clip-rmse:0.831775\tval-clip-rmse:0.84716\n",
      "[12]\ttrain-rmse:0.984609\tval-rmse:1.01641\ttrain-clip-rmse:0.829857\tval-clip-rmse:0.846055\n",
      "[13]\ttrain-rmse:0.980318\tval-rmse:1.01319\ttrain-clip-rmse:0.826369\tval-clip-rmse:0.843141\n",
      "[14]\ttrain-rmse:0.97734\tval-rmse:1.01069\ttrain-clip-rmse:0.824201\tval-clip-rmse:0.841242\n",
      "[15]\ttrain-rmse:0.974693\tval-rmse:1.00892\ttrain-clip-rmse:0.822403\tval-clip-rmse:0.839888\n",
      "[16]\ttrain-rmse:0.971207\tval-rmse:1.00607\ttrain-clip-rmse:0.820029\tval-clip-rmse:0.838006\n",
      "[17]\ttrain-rmse:0.968583\tval-rmse:1.00458\ttrain-clip-rmse:0.817988\tval-clip-rmse:0.836819\n",
      "[18]\ttrain-rmse:0.958739\tval-rmse:0.994952\ttrain-clip-rmse:0.811838\tval-clip-rmse:0.830899\n",
      "[19]\ttrain-rmse:0.956638\tval-rmse:0.993797\ttrain-clip-rmse:0.810348\tval-clip-rmse:0.830164\n",
      "[20]\ttrain-rmse:0.955611\tval-rmse:0.993507\ttrain-clip-rmse:0.809613\tval-clip-rmse:0.829961\n",
      "[21]\ttrain-rmse:0.953549\tval-rmse:0.992427\ttrain-clip-rmse:0.808405\tval-clip-rmse:0.829259\n",
      "[22]\ttrain-rmse:0.95126\tval-rmse:0.991159\ttrain-clip-rmse:0.806967\tval-clip-rmse:0.828384\n",
      "[23]\ttrain-rmse:0.945345\tval-rmse:0.985905\ttrain-clip-rmse:0.802634\tval-clip-rmse:0.82453\n",
      "[24]\ttrain-rmse:0.943306\tval-rmse:0.984313\ttrain-clip-rmse:0.801337\tval-clip-rmse:0.823453\n",
      "[25]\ttrain-rmse:0.942054\tval-rmse:0.983612\ttrain-clip-rmse:0.800424\tval-clip-rmse:0.822874\n",
      "[26]\ttrain-rmse:0.941024\tval-rmse:0.983336\ttrain-clip-rmse:0.799599\tval-clip-rmse:0.822661\n",
      "[27]\ttrain-rmse:0.939856\tval-rmse:0.982746\ttrain-clip-rmse:0.798757\tval-clip-rmse:0.822272\n",
      "[28]\ttrain-rmse:0.938424\tval-rmse:0.982411\ttrain-clip-rmse:0.79762\tval-clip-rmse:0.821969\n",
      "[29]\ttrain-rmse:0.937592\tval-rmse:0.982121\ttrain-clip-rmse:0.796961\tval-clip-rmse:0.821753\n",
      "[30]\ttrain-rmse:0.936209\tval-rmse:0.981341\ttrain-clip-rmse:0.795778\tval-clip-rmse:0.821048\n",
      "[31]\ttrain-rmse:0.930387\tval-rmse:0.976657\ttrain-clip-rmse:0.791883\tval-clip-rmse:0.817805\n",
      "[32]\ttrain-rmse:0.928807\tval-rmse:0.975618\ttrain-clip-rmse:0.790754\tval-clip-rmse:0.817139\n",
      "[33]\ttrain-rmse:0.927406\tval-rmse:0.974507\ttrain-clip-rmse:0.789752\tval-clip-rmse:0.816415\n",
      "[34]\ttrain-rmse:0.926605\tval-rmse:0.974445\ttrain-clip-rmse:0.789168\tval-clip-rmse:0.816373\n",
      "[35]\ttrain-rmse:0.925639\tval-rmse:0.973853\ttrain-clip-rmse:0.788676\tval-clip-rmse:0.816101\n",
      "[36]\ttrain-rmse:0.92367\tval-rmse:0.972531\ttrain-clip-rmse:0.787156\tval-clip-rmse:0.815112\n",
      "[37]\ttrain-rmse:0.922046\tval-rmse:0.971866\ttrain-clip-rmse:0.785911\tval-clip-rmse:0.814612\n",
      "[38]\ttrain-rmse:0.920923\tval-rmse:0.971742\ttrain-clip-rmse:0.785071\tval-clip-rmse:0.814489\n",
      "[39]\ttrain-rmse:0.916298\tval-rmse:0.966987\ttrain-clip-rmse:0.782481\tval-clip-rmse:0.811816\n",
      "[40]\ttrain-rmse:0.913044\tval-rmse:0.964315\ttrain-clip-rmse:0.780125\tval-clip-rmse:0.809764\n",
      "[41]\ttrain-rmse:0.911809\tval-rmse:0.963989\ttrain-clip-rmse:0.779183\tval-clip-rmse:0.809548\n",
      "[42]\ttrain-rmse:0.910853\tval-rmse:0.96374\ttrain-clip-rmse:0.778553\tval-clip-rmse:0.80929\n",
      "[43]\ttrain-rmse:0.909852\tval-rmse:0.963802\ttrain-clip-rmse:0.777798\tval-clip-rmse:0.809328\n",
      "[44]\ttrain-rmse:0.908745\tval-rmse:0.963527\ttrain-clip-rmse:0.777001\tval-clip-rmse:0.809069\n",
      "[45]\ttrain-rmse:0.907886\tval-rmse:0.963333\ttrain-clip-rmse:0.776326\tval-clip-rmse:0.808988\n",
      "[46]\ttrain-rmse:0.907266\tval-rmse:0.96328\ttrain-clip-rmse:0.775898\tval-clip-rmse:0.808967\n",
      "[47]\ttrain-rmse:0.905549\tval-rmse:0.961974\ttrain-clip-rmse:0.775057\tval-clip-rmse:0.808631\n",
      "[48]\ttrain-rmse:0.902108\tval-rmse:0.959523\ttrain-clip-rmse:0.773078\tval-clip-rmse:0.80721\n",
      "[49]\ttrain-rmse:0.901258\tval-rmse:0.959006\ttrain-clip-rmse:0.77256\tval-clip-rmse:0.806973\n",
      "[50]\ttrain-rmse:0.900661\tval-rmse:0.958977\ttrain-clip-rmse:0.772219\tval-clip-rmse:0.806932\n",
      "[51]\ttrain-rmse:0.897437\tval-rmse:0.956121\ttrain-clip-rmse:0.770343\tval-clip-rmse:0.805231\n",
      "[52]\ttrain-rmse:0.895807\tval-rmse:0.955003\ttrain-clip-rmse:0.769351\tval-clip-rmse:0.804606\n",
      "[53]\ttrain-rmse:0.893479\tval-rmse:0.953204\ttrain-clip-rmse:0.768005\tval-clip-rmse:0.803772\n",
      "[54]\ttrain-rmse:0.892455\tval-rmse:0.952712\ttrain-clip-rmse:0.767169\tval-clip-rmse:0.803328\n",
      "[55]\ttrain-rmse:0.891976\tval-rmse:0.952574\ttrain-clip-rmse:0.766753\tval-clip-rmse:0.803213\n",
      "[56]\ttrain-rmse:0.891096\tval-rmse:0.952141\ttrain-clip-rmse:0.766201\tval-clip-rmse:0.803069\n",
      "[57]\ttrain-rmse:0.890421\tval-rmse:0.951855\ttrain-clip-rmse:0.765817\tval-clip-rmse:0.80295\n",
      "[58]\ttrain-rmse:0.888265\tval-rmse:0.950093\ttrain-clip-rmse:0.764369\tval-clip-rmse:0.801905\n",
      "[59]\ttrain-rmse:0.888042\tval-rmse:0.949995\ttrain-clip-rmse:0.764136\tval-clip-rmse:0.80177\n",
      "[60]\ttrain-rmse:0.887184\tval-rmse:0.949711\ttrain-clip-rmse:0.763453\tval-clip-rmse:0.801596\n",
      "[61]\ttrain-rmse:0.886535\tval-rmse:0.949681\ttrain-clip-rmse:0.762969\tval-clip-rmse:0.801634\n",
      "[62]\ttrain-rmse:0.884138\tval-rmse:0.947175\ttrain-clip-rmse:0.76161\tval-clip-rmse:0.800277\n",
      "[63]\ttrain-rmse:0.88315\tval-rmse:0.946694\ttrain-clip-rmse:0.761222\tval-clip-rmse:0.800269\n",
      "[64]\ttrain-rmse:0.882613\tval-rmse:0.946469\ttrain-clip-rmse:0.760799\tval-clip-rmse:0.800099\n",
      "[65]\ttrain-rmse:0.882116\tval-rmse:0.946364\ttrain-clip-rmse:0.76046\tval-clip-rmse:0.800066\n",
      "[66]\ttrain-rmse:0.880861\tval-rmse:0.945956\ttrain-clip-rmse:0.759691\tval-clip-rmse:0.799806\n",
      "[67]\ttrain-rmse:0.880327\tval-rmse:0.945837\ttrain-clip-rmse:0.7593\tval-clip-rmse:0.799717\n",
      "[68]\ttrain-rmse:0.879726\tval-rmse:0.945537\ttrain-clip-rmse:0.758903\tval-clip-rmse:0.799569\n",
      "[69]\ttrain-rmse:0.879376\tval-rmse:0.945437\ttrain-clip-rmse:0.758704\tval-clip-rmse:0.799534\n",
      "[70]\ttrain-rmse:0.878582\tval-rmse:0.945097\ttrain-clip-rmse:0.758104\tval-clip-rmse:0.799388\n",
      "[71]\ttrain-rmse:0.877964\tval-rmse:0.945012\ttrain-clip-rmse:0.757617\tval-clip-rmse:0.799339\n",
      "[72]\ttrain-rmse:0.87689\tval-rmse:0.944097\ttrain-clip-rmse:0.757284\tval-clip-rmse:0.799079\n",
      "[73]\ttrain-rmse:0.876063\tval-rmse:0.94391\ttrain-clip-rmse:0.756558\tval-clip-rmse:0.79891\n",
      "[74]\ttrain-rmse:0.875335\tval-rmse:0.943615\ttrain-clip-rmse:0.756059\tval-clip-rmse:0.798797\n",
      "[75]\ttrain-rmse:0.874869\tval-rmse:0.943272\ttrain-clip-rmse:0.755628\tval-clip-rmse:0.798532\n",
      "[76]\ttrain-rmse:0.874271\tval-rmse:0.943081\ttrain-clip-rmse:0.75528\tval-clip-rmse:0.798465\n",
      "[77]\ttrain-rmse:0.873586\tval-rmse:0.942723\ttrain-clip-rmse:0.754785\tval-clip-rmse:0.798294\n",
      "[78]\ttrain-rmse:0.872497\tval-rmse:0.942099\ttrain-clip-rmse:0.75397\tval-clip-rmse:0.797847\n",
      "[79]\ttrain-rmse:0.870431\tval-rmse:0.940625\ttrain-clip-rmse:0.752449\tval-clip-rmse:0.796762\n",
      "Repeat 0, split 1, val score = 0.797, running time = 3.151 min.\n",
      "[0]\ttrain-rmse:1.27269\tval-rmse:1.2677\ttrain-clip-rmse:1.03885\tval-clip-rmse:1.03707\n",
      "[1]\ttrain-rmse:1.16825\tval-rmse:1.16274\ttrain-clip-rmse:0.950125\tval-clip-rmse:0.949832\n",
      "[2]\ttrain-rmse:1.10911\tval-rmse:1.10476\ttrain-clip-rmse:0.906034\tval-clip-rmse:0.908304\n",
      "[3]\ttrain-rmse:1.07416\tval-rmse:1.07213\ttrain-clip-rmse:0.882119\tval-clip-rmse:0.887051\n",
      "[4]\ttrain-rmse:1.05143\tval-rmse:1.05149\ttrain-clip-rmse:0.867712\tval-clip-rmse:0.874445\n",
      "[5]\ttrain-rmse:1.03398\tval-rmse:1.03634\ttrain-clip-rmse:0.856377\tval-clip-rmse:0.865099\n",
      "[6]\ttrain-rmse:1.02334\tval-rmse:1.02786\ttrain-clip-rmse:0.850441\tval-clip-rmse:0.860242\n",
      "[7]\ttrain-rmse:1.01498\tval-rmse:1.02147\ttrain-clip-rmse:0.845635\tval-clip-rmse:0.856655\n",
      "[8]\ttrain-rmse:1.00854\tval-rmse:1.0163\ttrain-clip-rmse:0.841781\tval-clip-rmse:0.853822\n",
      "[9]\ttrain-rmse:1.0032\tval-rmse:1.01202\ttrain-clip-rmse:0.838906\tval-clip-rmse:0.851572\n",
      "[10]\ttrain-rmse:0.996358\tval-rmse:1.00636\ttrain-clip-rmse:0.83482\tval-clip-rmse:0.848349\n",
      "[11]\ttrain-rmse:0.993337\tval-rmse:1.00403\ttrain-clip-rmse:0.832966\tval-clip-rmse:0.846855\n",
      "[12]\ttrain-rmse:0.990145\tval-rmse:1.00154\ttrain-clip-rmse:0.830667\tval-clip-rmse:0.845127\n",
      "[13]\ttrain-rmse:0.987665\tval-rmse:1.00005\ttrain-clip-rmse:0.829029\tval-clip-rmse:0.844093\n",
      "[14]\ttrain-rmse:0.985512\tval-rmse:0.999064\ttrain-clip-rmse:0.827413\tval-clip-rmse:0.84336\n",
      "[15]\ttrain-rmse:0.979752\tval-rmse:0.99515\ttrain-clip-rmse:0.824\tval-clip-rmse:0.841001\n",
      "[16]\ttrain-rmse:0.976624\tval-rmse:0.993439\ttrain-clip-rmse:0.82225\tval-clip-rmse:0.840277\n",
      "[17]\ttrain-rmse:0.966907\tval-rmse:0.986239\ttrain-clip-rmse:0.815934\tval-clip-rmse:0.835234\n",
      "[18]\ttrain-rmse:0.963821\tval-rmse:0.983541\ttrain-clip-rmse:0.81341\tval-clip-rmse:0.832932\n",
      "[19]\ttrain-rmse:0.961752\tval-rmse:0.98197\ttrain-clip-rmse:0.812094\tval-clip-rmse:0.831969\n",
      "[20]\ttrain-rmse:0.958471\tval-rmse:0.979736\ttrain-clip-rmse:0.809882\tval-clip-rmse:0.830514\n",
      "[21]\ttrain-rmse:0.957077\tval-rmse:0.978761\ttrain-clip-rmse:0.808827\tval-clip-rmse:0.82972\n"
     ]
    },
    {
     "name": "stdout",
     "output_type": "stream",
     "text": [
      "[22]\ttrain-rmse:0.955037\tval-rmse:0.977882\ttrain-clip-rmse:0.807472\tval-clip-rmse:0.82911\n",
      "[23]\ttrain-rmse:0.953183\tval-rmse:0.97681\ttrain-clip-rmse:0.806148\tval-clip-rmse:0.828204\n",
      "[24]\ttrain-rmse:0.94858\tval-rmse:0.973067\ttrain-clip-rmse:0.802715\tval-clip-rmse:0.825445\n",
      "[25]\ttrain-rmse:0.947168\tval-rmse:0.972341\ttrain-clip-rmse:0.801497\tval-clip-rmse:0.824817\n",
      "[26]\ttrain-rmse:0.945797\tval-rmse:0.971677\ttrain-clip-rmse:0.800349\tval-clip-rmse:0.824216\n",
      "[27]\ttrain-rmse:0.944968\tval-rmse:0.971461\ttrain-clip-rmse:0.799727\tval-clip-rmse:0.823949\n",
      "[28]\ttrain-rmse:0.943581\tval-rmse:0.971088\ttrain-clip-rmse:0.798754\tval-clip-rmse:0.823499\n",
      "[29]\ttrain-rmse:0.940148\tval-rmse:0.969369\ttrain-clip-rmse:0.796878\tval-clip-rmse:0.822596\n",
      "[30]\ttrain-rmse:0.938913\tval-rmse:0.969253\ttrain-clip-rmse:0.796081\tval-clip-rmse:0.822446\n",
      "[31]\ttrain-rmse:0.9372\tval-rmse:0.968391\ttrain-clip-rmse:0.794979\tval-clip-rmse:0.821897\n",
      "[32]\ttrain-rmse:0.93432\tval-rmse:0.966749\ttrain-clip-rmse:0.793353\tval-clip-rmse:0.821035\n",
      "[33]\ttrain-rmse:0.933448\tval-rmse:0.966514\ttrain-clip-rmse:0.792859\tval-clip-rmse:0.820875\n",
      "[34]\ttrain-rmse:0.931764\tval-rmse:0.965385\ttrain-clip-rmse:0.791772\tval-clip-rmse:0.82028\n",
      "[35]\ttrain-rmse:0.930515\tval-rmse:0.965178\ttrain-clip-rmse:0.790734\tval-clip-rmse:0.820087\n",
      "[36]\ttrain-rmse:0.924354\tval-rmse:0.960874\ttrain-clip-rmse:0.787354\tval-clip-rmse:0.817627\n",
      "[37]\ttrain-rmse:0.922552\tval-rmse:0.959591\ttrain-clip-rmse:0.785945\tval-clip-rmse:0.816562\n",
      "[38]\ttrain-rmse:0.921602\tval-rmse:0.959475\ttrain-clip-rmse:0.785399\tval-clip-rmse:0.816574\n",
      "[39]\ttrain-rmse:0.916181\tval-rmse:0.954934\ttrain-clip-rmse:0.781713\tval-clip-rmse:0.813446\n",
      "[40]\ttrain-rmse:0.911868\tval-rmse:0.951615\ttrain-clip-rmse:0.7793\tval-clip-rmse:0.811617\n",
      "[41]\ttrain-rmse:0.911233\tval-rmse:0.951378\ttrain-clip-rmse:0.778823\tval-clip-rmse:0.811533\n",
      "[42]\ttrain-rmse:0.909528\tval-rmse:0.950729\ttrain-clip-rmse:0.777645\tval-clip-rmse:0.811071\n",
      "[43]\ttrain-rmse:0.908728\tval-rmse:0.950468\ttrain-clip-rmse:0.777025\tval-clip-rmse:0.810801\n",
      "[44]\ttrain-rmse:0.906432\tval-rmse:0.949302\ttrain-clip-rmse:0.775524\tval-clip-rmse:0.809971\n",
      "[45]\ttrain-rmse:0.903687\tval-rmse:0.947612\ttrain-clip-rmse:0.773858\tval-clip-rmse:0.809115\n",
      "[46]\ttrain-rmse:0.903042\tval-rmse:0.947305\ttrain-clip-rmse:0.773462\tval-clip-rmse:0.809002\n",
      "[47]\ttrain-rmse:0.900994\tval-rmse:0.94602\ttrain-clip-rmse:0.772017\tval-clip-rmse:0.808146\n",
      "[48]\ttrain-rmse:0.900078\tval-rmse:0.945728\ttrain-clip-rmse:0.771238\tval-clip-rmse:0.80783\n",
      "[49]\ttrain-rmse:0.898858\tval-rmse:0.945021\ttrain-clip-rmse:0.770323\tval-clip-rmse:0.80724\n",
      "[50]\ttrain-rmse:0.889102\tval-rmse:0.936782\ttrain-clip-rmse:0.764772\tval-clip-rmse:0.802549\n",
      "[51]\ttrain-rmse:0.88868\tval-rmse:0.936634\ttrain-clip-rmse:0.764446\tval-clip-rmse:0.802437\n",
      "[52]\ttrain-rmse:0.888308\tval-rmse:0.936485\ttrain-clip-rmse:0.764214\tval-clip-rmse:0.802306\n",
      "[53]\ttrain-rmse:0.887549\tval-rmse:0.936327\ttrain-clip-rmse:0.763517\tval-clip-rmse:0.802149\n",
      "[54]\ttrain-rmse:0.883512\tval-rmse:0.933711\ttrain-clip-rmse:0.760878\tval-clip-rmse:0.800483\n",
      "[55]\ttrain-rmse:0.88214\tval-rmse:0.932774\ttrain-clip-rmse:0.760101\tval-clip-rmse:0.799956\n",
      "[56]\ttrain-rmse:0.88073\tval-rmse:0.932143\ttrain-clip-rmse:0.759143\tval-clip-rmse:0.799497\n",
      "[57]\ttrain-rmse:0.88005\tval-rmse:0.93191\ttrain-clip-rmse:0.758639\tval-clip-rmse:0.799341\n",
      "[58]\ttrain-rmse:0.879072\tval-rmse:0.931697\ttrain-clip-rmse:0.758034\tval-clip-rmse:0.799278\n",
      "[59]\ttrain-rmse:0.87814\tval-rmse:0.931683\ttrain-clip-rmse:0.757394\tval-clip-rmse:0.799303\n",
      "[60]\ttrain-rmse:0.876977\tval-rmse:0.931192\ttrain-clip-rmse:0.756567\tval-clip-rmse:0.798936\n",
      "[61]\ttrain-rmse:0.87644\tval-rmse:0.930875\ttrain-clip-rmse:0.756191\tval-clip-rmse:0.798758\n",
      "[62]\ttrain-rmse:0.875798\tval-rmse:0.930721\ttrain-clip-rmse:0.755737\tval-clip-rmse:0.79869\n",
      "[63]\ttrain-rmse:0.874437\tval-rmse:0.929581\ttrain-clip-rmse:0.754722\tval-clip-rmse:0.797899\n",
      "[64]\ttrain-rmse:0.873778\tval-rmse:0.929517\ttrain-clip-rmse:0.754138\tval-clip-rmse:0.797838\n",
      "[65]\ttrain-rmse:0.873097\tval-rmse:0.929082\ttrain-clip-rmse:0.753542\tval-clip-rmse:0.797556\n",
      "[66]\ttrain-rmse:0.872394\tval-rmse:0.929019\ttrain-clip-rmse:0.753222\tval-clip-rmse:0.797463\n",
      "[67]\ttrain-rmse:0.871701\tval-rmse:0.928813\ttrain-clip-rmse:0.752712\tval-clip-rmse:0.797333\n",
      "[68]\ttrain-rmse:0.87064\tval-rmse:0.928524\ttrain-clip-rmse:0.7519\tval-clip-rmse:0.797049\n",
      "[69]\ttrain-rmse:0.870021\tval-rmse:0.928326\ttrain-clip-rmse:0.751424\tval-clip-rmse:0.796799\n",
      "[70]\ttrain-rmse:0.868632\tval-rmse:0.927845\ttrain-clip-rmse:0.750488\tval-clip-rmse:0.796493\n",
      "[71]\ttrain-rmse:0.866297\tval-rmse:0.926687\ttrain-clip-rmse:0.749217\tval-clip-rmse:0.795744\n",
      "[72]\ttrain-rmse:0.865795\tval-rmse:0.926668\ttrain-clip-rmse:0.74882\tval-clip-rmse:0.795652\n",
      "[73]\ttrain-rmse:0.864888\tval-rmse:0.926273\ttrain-clip-rmse:0.748335\tval-clip-rmse:0.795354\n",
      "[74]\ttrain-rmse:0.862645\tval-rmse:0.924646\ttrain-clip-rmse:0.747084\tval-clip-rmse:0.794397\n",
      "[75]\ttrain-rmse:0.862046\tval-rmse:0.92465\ttrain-clip-rmse:0.746761\tval-clip-rmse:0.794402\n",
      "[76]\ttrain-rmse:0.861704\tval-rmse:0.924548\ttrain-clip-rmse:0.746518\tval-clip-rmse:0.794368\n",
      "[77]\ttrain-rmse:0.86104\tval-rmse:0.924491\ttrain-clip-rmse:0.745955\tval-clip-rmse:0.794311\n",
      "[78]\ttrain-rmse:0.860405\tval-rmse:0.924304\ttrain-clip-rmse:0.745449\tval-clip-rmse:0.794248\n",
      "[79]\ttrain-rmse:0.859423\tval-rmse:0.924193\ttrain-clip-rmse:0.744756\tval-clip-rmse:0.79425\n",
      "Repeat 0, split 2, val score = 0.794, running time = 3.173 min.\n",
      "Val mean = 0.798, std = 0.005\n"
     ]
    }
   ],
   "source": [
    "param = {'max_depth':8, \n",
    "         'subsample':0.8,\n",
    "         'min_child_weight':10,\n",
    "         'eta':0.3, \n",
    "         'lambda':2,\n",
    "         'colsample_bytree':0.8,\n",
    "         'seed':1,\n",
    "         'silent':1,\n",
    "         'maximize': False,\n",
    "         'nthread':8}\n",
    "\n",
    "n_tree = 80\n",
    "verbose = True\n",
    "\n",
    "n_split = 3\n",
    "n_repetition = 1\n",
    "\n",
    "df, clf, running_time = cv(x_train, y_train, param, n_repetition, n_split, n_tree, verbose, 42)"
   ]
  },
  {
   "cell_type": "code",
   "execution_count": 32,
   "metadata": {},
   "outputs": [
    {
     "data": {
      "text/plain": [
       "[<matplotlib.lines.Line2D at 0x1b9001509e8>]"
      ]
     },
     "execution_count": 32,
     "metadata": {},
     "output_type": "execute_result"
    },
    {
     "data": {
      "image/png": "[encoded data removed]",
      "text/plain": [
       "<Figure size 432x288 with 1 Axes>"
      ]
     },
     "metadata": {},
     "output_type": "display_data"
    }
   ],
   "source": [
    "a = {k: clf[k].get_score(importance_type='gain') for k in clf.keys()}\n",
    "\n",
    "b = pd.DataFrame(a)\n",
    "\n",
    "b.columns = list(range(n_split))\n",
    "\n",
    "c = b.mean(axis=1).sort_values(ascending=False)\n",
    "\n",
    "d = c.head(50).index.tolist()\n",
    "e = []\n",
    "f = []\n",
    "for n in d:\n",
    "    if len(n.split('_'))>=2 and n.split('_')[-2] == 'lag':\n",
    "        e.append('_'.join(n.split('_')[:-2]))\n",
    "        f.append(int(n.split('_')[-1]))\n",
    "        \n",
    "e = set(e)\n",
    "f = set(f)\n",
    "\n",
    "b.to_csv('eda_11_6_feature_importance.csv')\n",
    "\n",
    "plt.plot(c)"
   ]
  },
  {
   "cell_type": "code",
   "execution_count": 33,
   "metadata": {},
   "outputs": [
    {
     "name": "stdout",
     "output_type": "stream",
     "text": [
      "[0]\ttrain-rmse:1.28651\ttrain-clip-rmse:1.05308\n",
      "[1]\ttrain-rmse:1.17546\ttrain-clip-rmse:0.958029\n",
      "[2]\ttrain-rmse:1.10923\ttrain-clip-rmse:0.907598\n",
      "[3]\ttrain-rmse:1.07397\ttrain-clip-rmse:0.882732\n",
      "[4]\ttrain-rmse:1.04817\ttrain-clip-rmse:0.865898\n",
      "[5]\ttrain-rmse:1.03244\ttrain-clip-rmse:0.856321\n",
      "[6]\ttrain-rmse:1.01762\ttrain-clip-rmse:0.847534\n",
      "[7]\ttrain-rmse:1.00958\ttrain-clip-rmse:0.843146\n",
      "[8]\ttrain-rmse:1.00332\ttrain-clip-rmse:0.839893\n",
      "[9]\ttrain-rmse:0.99796\ttrain-clip-rmse:0.836906\n",
      "[10]\ttrain-rmse:0.994891\ttrain-clip-rmse:0.835014\n",
      "[11]\ttrain-rmse:0.991187\ttrain-clip-rmse:0.833055\n",
      "[12]\ttrain-rmse:0.986816\ttrain-clip-rmse:0.830095\n",
      "[13]\ttrain-rmse:0.97877\ttrain-clip-rmse:0.825326\n",
      "[14]\ttrain-rmse:0.976144\ttrain-clip-rmse:0.823772\n",
      "[15]\ttrain-rmse:0.971939\ttrain-clip-rmse:0.820839\n",
      "[16]\ttrain-rmse:0.970135\ttrain-clip-rmse:0.819547\n",
      "[17]\ttrain-rmse:0.963384\ttrain-clip-rmse:0.815093\n",
      "[18]\ttrain-rmse:0.961317\ttrain-clip-rmse:0.813528\n",
      "[19]\ttrain-rmse:0.957914\ttrain-clip-rmse:0.81146\n",
      "[20]\ttrain-rmse:0.956237\ttrain-clip-rmse:0.810091\n",
      "[21]\ttrain-rmse:0.954121\ttrain-clip-rmse:0.808912\n",
      "[22]\ttrain-rmse:0.95116\ttrain-clip-rmse:0.80709\n",
      "[23]\ttrain-rmse:0.949724\ttrain-clip-rmse:0.805884\n",
      "[24]\ttrain-rmse:0.947206\ttrain-clip-rmse:0.804202\n",
      "[25]\ttrain-rmse:0.945421\ttrain-clip-rmse:0.802755\n",
      "[26]\ttrain-rmse:0.944012\ttrain-clip-rmse:0.801875\n",
      "[27]\ttrain-rmse:0.939411\ttrain-clip-rmse:0.79889\n",
      "[28]\ttrain-rmse:0.937701\ttrain-clip-rmse:0.797568\n",
      "[29]\ttrain-rmse:0.936004\ttrain-clip-rmse:0.796614\n",
      "[30]\ttrain-rmse:0.934256\ttrain-clip-rmse:0.795163\n",
      "[31]\ttrain-rmse:0.930212\ttrain-clip-rmse:0.792283\n",
      "[32]\ttrain-rmse:0.929313\ttrain-clip-rmse:0.791506\n",
      "[33]\ttrain-rmse:0.925982\ttrain-clip-rmse:0.789475\n",
      "[34]\ttrain-rmse:0.92523\ttrain-clip-rmse:0.788938\n",
      "[35]\ttrain-rmse:0.924214\ttrain-clip-rmse:0.788285\n",
      "[36]\ttrain-rmse:0.922881\ttrain-clip-rmse:0.787229\n",
      "[37]\ttrain-rmse:0.922211\ttrain-clip-rmse:0.786754\n",
      "[38]\ttrain-rmse:0.921463\ttrain-clip-rmse:0.786136\n",
      "[39]\ttrain-rmse:0.920872\ttrain-clip-rmse:0.785662\n",
      "[40]\ttrain-rmse:0.918975\ttrain-clip-rmse:0.784196\n",
      "[41]\ttrain-rmse:0.918862\ttrain-clip-rmse:0.784115\n",
      "[42]\ttrain-rmse:0.916025\ttrain-clip-rmse:0.78242\n",
      "[43]\ttrain-rmse:0.909535\ttrain-clip-rmse:0.778965\n",
      "[44]\ttrain-rmse:0.908305\ttrain-clip-rmse:0.77804\n",
      "[45]\ttrain-rmse:0.907375\ttrain-clip-rmse:0.777401\n",
      "[46]\ttrain-rmse:0.905988\ttrain-clip-rmse:0.776375\n",
      "[47]\ttrain-rmse:0.903155\ttrain-clip-rmse:0.774669\n",
      "[48]\ttrain-rmse:0.902095\ttrain-clip-rmse:0.774123\n",
      "[49]\ttrain-rmse:0.9008\ttrain-clip-rmse:0.773191\n",
      "[50]\ttrain-rmse:0.900579\ttrain-clip-rmse:0.773038\n",
      "[51]\ttrain-rmse:0.897405\ttrain-clip-rmse:0.7714\n",
      "[52]\ttrain-rmse:0.896857\ttrain-clip-rmse:0.770962\n",
      "[53]\ttrain-rmse:0.896178\ttrain-clip-rmse:0.770505\n",
      "[54]\ttrain-rmse:0.894472\ttrain-clip-rmse:0.769511\n",
      "[55]\ttrain-rmse:0.889167\ttrain-clip-rmse:0.766655\n",
      "[56]\ttrain-rmse:0.888659\ttrain-clip-rmse:0.766241\n",
      "[57]\ttrain-rmse:0.887663\ttrain-clip-rmse:0.765665\n",
      "[58]\ttrain-rmse:0.88565\ttrain-clip-rmse:0.764514\n",
      "[59]\ttrain-rmse:0.885346\ttrain-clip-rmse:0.76437\n",
      "[60]\ttrain-rmse:0.884668\ttrain-clip-rmse:0.763988\n",
      "[61]\ttrain-rmse:0.883638\ttrain-clip-rmse:0.763132\n",
      "[62]\ttrain-rmse:0.883065\ttrain-clip-rmse:0.762709\n",
      "[63]\ttrain-rmse:0.882309\ttrain-clip-rmse:0.762449\n",
      "[64]\ttrain-rmse:0.881493\ttrain-clip-rmse:0.761826\n",
      "[65]\ttrain-rmse:0.880891\ttrain-clip-rmse:0.76138\n",
      "[66]\ttrain-rmse:0.880372\ttrain-clip-rmse:0.760998\n",
      "[67]\ttrain-rmse:0.880133\ttrain-clip-rmse:0.760883\n",
      "[68]\ttrain-rmse:0.879592\ttrain-clip-rmse:0.760572\n",
      "[69]\ttrain-rmse:0.878598\ttrain-clip-rmse:0.759974\n",
      "[70]\ttrain-rmse:0.877666\ttrain-clip-rmse:0.759337\n",
      "[71]\ttrain-rmse:0.877206\ttrain-clip-rmse:0.759068\n",
      "[72]\ttrain-rmse:0.875696\ttrain-clip-rmse:0.757997\n",
      "[73]\ttrain-rmse:0.875042\ttrain-clip-rmse:0.757546\n",
      "[74]\ttrain-rmse:0.873338\ttrain-clip-rmse:0.75641\n",
      "[75]\ttrain-rmse:0.872171\ttrain-clip-rmse:0.755469\n",
      "[76]\ttrain-rmse:0.871205\ttrain-clip-rmse:0.754912\n",
      "[77]\ttrain-rmse:0.87031\ttrain-clip-rmse:0.75448\n",
      "[78]\ttrain-rmse:0.869692\ttrain-clip-rmse:0.754114\n",
      "[79]\ttrain-rmse:0.868506\ttrain-clip-rmse:0.753357\n"
     ]
    }
   ],
   "source": [
    "dtrain = xgb.DMatrix(x_train, y_train)\n",
    "bst = xgb.train(param, dtrain, num_boost_round=n_tree, \n",
    "                evals=[(dtrain, 'train')], feval=clip_rmse, maximize=False, \n",
    "                verbose_eval=True)"
   ]
  },
  {
   "cell_type": "code",
   "execution_count": 34,
   "metadata": {},
   "outputs": [],
   "source": [
    "preds = bst.predict(xgb.DMatrix(x_test))\n",
    "preds = list(map(lambda x: min(20, max(x, 0)), list(preds)))\n",
    "sub_df = pd.DataFrame({'ID': test.index, 'item_cnt_month': preds})\n",
    "sub_df.to_csv('eda_11_6.csv', index=False)"
   ]
  }
 ],
 "metadata": {
  "kernelspec": {
   "display_name": "Python 3",
   "language": "python",
   "name": "python3"
  },
  "language_info": {
   "codemirror_mode": {
    "name": "ipython",
    "version": 3
   },
   "file_extension": ".py",
   "mimetype": "text/x-python",
   "name": "python",
   "nbconvert_exporter": "python",
   "pygments_lexer": "ipython3",
   "version": "3.6.6"
  }
 },
 "nbformat": 4,
 "nbformat_minor": 2
}
