{
 "cells": [
  {
   "cell_type": "code",
   "execution_count": 1,
   "metadata": {},
   "outputs": [],
   "source": [
    "import numpy as np\n",
    "import pandas as pd\n",
    "import matplotlib.pyplot as plt\n",
    "import os\n",
    "import gc\n",
    "import sys\n",
    "import time\n",
    "import gc\n",
    "import itertools\n",
    "import tqdm\n",
    "import time\n",
    "import copy\n",
    "\n",
    "import scipy.stats as ss\n",
    "from numba import jit\n",
    "\n",
    "if os.name=='nt':\n",
    "    try:\n",
    "        mingw_path = 'C:\\\\Program Files\\\\mingw-w64\\\\x86_64-8.1.0-posix-seh-rt_v6-rev0\\\\mingw64\\\\bin'\n",
    "        os.environ['PATH'] = mingw_path + ';' + os.environ['PATH']\n",
    "    except:\n",
    "        pass\n",
    "    \n",
    "import xgboost as xgb\n",
    "from sklearn.metrics import mean_squared_error \n",
    "from sklearn.preprocessing import LabelEncoder\n",
    "from sklearn.model_selection import StratifiedKFold\n",
    "\n",
    "%matplotlib inline"
   ]
  },
  {
   "cell_type": "markdown",
   "metadata": {},
   "source": [
    "### Helper Function"
   ]
  },
  {
   "cell_type": "code",
   "execution_count": 2,
   "metadata": {},
   "outputs": [],
   "source": [
    "def lag_features(df, lags, col):\n",
    "    '''create lag features of col'''\n",
    "    cols_idx = ['date_block_num', 'shop_id', 'item_id']\n",
    "    cols_f = ['date_block_num', 'shop_id', 'item_id', col]\n",
    "    tmp = df.loc[:, cols_f]\n",
    "    for i in lags:\n",
    "        shifted = tmp.copy()\n",
    "        shifted_cols = shifted.columns.tolist()\n",
    "        shifted_cols[-1] = col+'_lag_'+str(i)\n",
    "        shifted.columns = shifted_cols\n",
    "        shifted['date_block_num'] += i\n",
    "        df = pd.merge(df, shifted, on=cols_idx, how='left')\n",
    "    return df    "
   ]
  },
  {
   "cell_type": "code",
   "execution_count": 3,
   "metadata": {},
   "outputs": [],
   "source": [
    "def clip_rmse(preds, dtrain):\n",
    "    y_test = np.array(dtrain.get_label())\n",
    "    preds = np.array(preds)\n",
    "    y_test = np.maximum(np.minimum(y_test, 20), 0)\n",
    "    preds = np.maximum(np.minimum(preds, 20), 0)\n",
    "    #preds = np.array(list(map(lambda x: min(20, max(x, 0)), list(preds))))\n",
    "    #y_test = np.array(list(map(lambda x: min(20, max(x, 0)), list(y_test))))\n",
    "    rmse = np.sqrt(mean_squared_error(preds,y_test))\n",
    "    return 'clip-rmse', rmse"
   ]
  },
  {
   "cell_type": "code",
   "execution_count": 4,
   "metadata": {},
   "outputs": [],
   "source": [
    "def cv(x_train, y_train, param, n_repetition, n_split, n_tree, verbose, random_state):\n",
    "    '''Repeated CV'''\n",
    "    \n",
    "    cv_results = {}\n",
    "    clf = {}\n",
    "    running_time = {}\n",
    "\n",
    "    np.random.seed(random_state)\n",
    "\n",
    "    for m in range(n_repetition):\n",
    "        # Train and valuation sets split\n",
    "        skf = StratifiedKFold(n_splits=n_split, random_state=np.random.randint(10**6), shuffle=True)\n",
    "\n",
    "        for n, (train_index, val_index) in enumerate(skf.split(x_train, y_train)):\n",
    "\n",
    "            start_time = time.time()\n",
    "\n",
    "            # Construct DMatrix\n",
    "            dtrain = xgb.DMatrix(x_train.iloc[train_index], label=y_train.iloc[train_index])\n",
    "            dval = xgb.DMatrix(x_train.iloc[val_index], label=y_train.iloc[val_index])\n",
    "\n",
    "            # Placeholder for evals_results\n",
    "            cv_results[m, n] = {}\n",
    "\n",
    "            param['seed'] = np.random.randint(10**6)\n",
    "            clf[m, n] = xgb.train(param, dtrain,num_boost_round=n_tree, \n",
    "                                  evals=[(dtrain, 'train'), (dval, 'val')], \n",
    "                                  feval=clip_rmse, maximize=False, early_stopping_rounds=None, \n",
    "                                  evals_result=cv_results[m, n], verbose_eval=verbose)\n",
    "\n",
    "            running_time[m, n] = time.time() - start_time\n",
    "\n",
    "            print('Repeat {}, split {}, val score = {:.3f}, running time = {:.3f} min.'.format(m, n, \n",
    "                cv_results[m, n]['val']['clip-rmse'][-1], running_time[m, n]/60))\n",
    "\n",
    "    cv_results_final = {}\n",
    "    for m in range(n_repetition):\n",
    "        for n in range(n_split):\n",
    "            cv_results_final['train', m, n] = cv_results[m, n]['train']['clip-rmse']\n",
    "            cv_results_final['val', m, n] = cv_results[m, n]['val']['clip-rmse']\n",
    "\n",
    "    df = pd.DataFrame(cv_results_final)\n",
    "    df.index.name = 'iteration'\n",
    "    df.columns.names = ['dataset', 'repetition', 'cv_split']\n",
    "\n",
    "    print('Val mean = {:.3f}, std = {:.3f}'.format(df['val'].iloc[-1].mean(), df['val'].iloc[-1].std()))\n",
    "    \n",
    "    return df, clf, running_time"
   ]
  },
  {
   "cell_type": "code",
   "execution_count": 5,
   "metadata": {},
   "outputs": [],
   "source": [
    "def feature_combination(x, feature_list, function_dict, column_name, merge=False):\n",
    "    '''Combination of new features'''\n",
    "    tmp = x.groupby(feature_list).agg(function_dict)\n",
    "    tmp.columns = column_name\n",
    "    if merge:\n",
    "        x = x.merge(tmp, on=feature_list, how='left')\n",
    "        return x, tmp\n",
    "    else:\n",
    "        return tmp"
   ]
  },
  {
   "cell_type": "markdown",
   "metadata": {},
   "source": [
    "### Load Data"
   ]
  },
  {
   "cell_type": "code",
   "execution_count": 6,
   "metadata": {},
   "outputs": [],
   "source": [
    "# Load data\n",
    "train = pd.read_csv('all/sales_train.csv.gz')\n",
    "test = pd.read_csv('all/test.csv.gz')\n",
    "shop = pd.read_csv('all/shops-translated.csv')\n",
    "item = pd.read_csv('all/item_category.csv')\n",
    "\n",
    "test.set_index('ID', inplace=True)\n",
    "item.drop(['item_name_translated'], axis=1, inplace=True)\n",
    "shop.drop(['Name'], axis=1, inplace=True)\n",
    "\n",
    "le = LabelEncoder()\n",
    "item['item_cat1'] = le.fit_transform(item['item_cat1'].astype(str))\n",
    "item['item_cat2'] = le.fit_transform(item['item_cat2'].astype(str))\n",
    "shop['City'] = le.fit_transform(shop['City'])\n",
    "shop['Type'] = le.fit_transform(shop['Type'])"
   ]
  },
  {
   "cell_type": "code",
   "execution_count": 7,
   "metadata": {},
   "outputs": [],
   "source": [
    "# Add date_block_num to test \n",
    "test['date_block_num'] = 34\n",
    "test = test[['date_block_num', 'shop_id', 'item_id']]"
   ]
  },
  {
   "cell_type": "code",
   "execution_count": 8,
   "metadata": {},
   "outputs": [],
   "source": [
    "train = train.merge(shop, on='shop_id', how='left')\n",
    "train = train.merge(item, on='item_id', how='left')\n",
    "train['revenue'] = train.item_price * train.item_cnt_day"
   ]
  },
  {
   "cell_type": "markdown",
   "metadata": {},
   "source": [
    "### Experiments"
   ]
  },
  {
   "cell_type": "code",
   "execution_count": 9,
   "metadata": {},
   "outputs": [],
   "source": [
    "x = train.groupby(['date_block_num', \n",
    "                   'shop_id', \n",
    "                   'item_id']).agg({\n",
    "    'item_price':[np.mean, np.std], 'item_cnt_day': np.sum, 'revenue': np.sum})\n",
    "# x.columns = ['price_mean_month', 'cnt_sum_month']\n",
    "\n",
    "#cols = ['price_mean_month', 'price_median_month', 'price_std_month', 'cnt_sum_month']\n",
    "cols = ['price_mean_month', 'price_std_month', 'cnt_sum_month', 'rev_sum_month']\n",
    "x.columns = cols\n",
    "\n",
    "x.reset_index(inplace=True)\n",
    "x = pd.concat((x, test), sort=False, ignore_index=True)\n",
    "x.reset_index(drop=True, inplace=True)\n",
    "\n",
    "x = pd.merge(x, shop, on='shop_id', how='left')\n",
    "x = pd.merge(x, item, on='item_id', how='left')"
   ]
  },
  {
   "cell_type": "code",
   "execution_count": 10,
   "metadata": {},
   "outputs": [],
   "source": [
    "tmp = x.columns.tolist()\n",
    "tmp[3:3] = ['City', 'Type', 'item_cat1', 'item_cat2']\n",
    "tmp = tmp[:11]\n",
    "x = x[tmp]"
   ]
  },
  {
   "cell_type": "code",
   "execution_count": 11,
   "metadata": {},
   "outputs": [],
   "source": [
    "a = pd.read_csv('eda_11_5_feature_importance.csv', usecols=[0, 1])\n",
    "a.columns = ['feature_name', 'score']\n",
    "a.sort_values(by='score', ascending=False, inplace=True)"
   ]
  },
  {
   "cell_type": "markdown",
   "metadata": {},
   "source": [
    "#### Lag of `['price_mean_month', 'price_std_month', 'cnt_sum_month', 'rev_sum_month']`"
   ]
  },
  {
   "cell_type": "code",
   "execution_count": 12,
   "metadata": {},
   "outputs": [
    {
     "data": {
      "application/vnd.jupyter.widget-view+json": {
       "model_id": "1afbf31457c246fb9743c7248236adca",
       "version_major": 2,
       "version_minor": 0
      },
      "text/plain": [
       "HBox(children=(IntProgress(value=0, max=4), HTML(value='')))"
      ]
     },
     "metadata": {},
     "output_type": "display_data"
    },
    {
     "name": "stdout",
     "output_type": "stream",
     "text": [
      "\n"
     ]
    }
   ],
   "source": [
    "for c in tqdm.tqdm_notebook(cols):\n",
    "    x = lag_features(x, range(1, 7), c)"
   ]
  },
  {
   "cell_type": "markdown",
   "metadata": {},
   "source": [
    "#### Create combinations of features"
   ]
  },
  {
   "cell_type": "markdown",
   "metadata": {},
   "source": [
    "##### `(item_id, Type)`\n",
    "\n",
    "- count of shops with the same type and selling the same item, i.e., having the same `(item_id, Type)`\n",
    "- average sales count among these shops"
   ]
  },
  {
   "cell_type": "code",
   "execution_count": 13,
   "metadata": {},
   "outputs": [
    {
     "name": "stdout",
     "output_type": "stream",
     "text": [
      "43 rev_mean_item_type_lag_1 205.1912295064547\n"
     ]
    }
   ],
   "source": [
    "for i in range(len(a)):\n",
    "    if 'item_type' in a.iloc[i, 0]:\n",
    "        print(i, a.iloc[i, 0], a.iloc[i, 1])\n",
    "        break\n",
    "# (item, type) is not good"
   ]
  },
  {
   "cell_type": "code",
   "execution_count": 14,
   "metadata": {},
   "outputs": [],
   "source": [
    "feature_list = ['date_block_num', 'item_id', 'Type']\n",
    "function_list = {'rev_sum_month':np.mean}\n",
    "column_name = ['rev_mean_item_type']\n",
    "cols.extend(column_name)\n",
    "x, tmp = feature_combination(x, feature_list, function_list, column_name, merge=True)"
   ]
  },
  {
   "cell_type": "code",
   "execution_count": 15,
   "metadata": {},
   "outputs": [],
   "source": [
    "for c in column_name:\n",
    "    x = lag_features(x, [1], c)"
   ]
  },
  {
   "cell_type": "markdown",
   "metadata": {},
   "source": [
    "##### `(item_id, City)`"
   ]
  },
  {
   "cell_type": "code",
   "execution_count": 16,
   "metadata": {},
   "outputs": [
    {
     "name": "stdout",
     "output_type": "stream",
     "text": [
      "15 price_mean_item_city_lag_1 407.2581965373557\n",
      "17 cnt_mean_item_city_lag_1 402.0346140541581\n",
      "32 rev_mean_item_city_lag_1 247.7419952194\n",
      "42 cnt_mean_item_city_lag_2 207.6280725768317\n"
     ]
    }
   ],
   "source": [
    "for i in range(len(a)):\n",
    "    if 'item_city' in a.iloc[i, 0]:\n",
    "        print(i, a.iloc[i, 0], a.iloc[i, 1])\n",
    "    if i>50:\n",
    "        break\n",
    "# (item, city) keeps cnt_mean, rev_mean, price_mean, shop_count\n",
    "# lag = 1, 2, 5"
   ]
  },
  {
   "cell_type": "code",
   "execution_count": 17,
   "metadata": {},
   "outputs": [],
   "source": [
    "feature_list = ['date_block_num', 'item_id', 'City']\n",
    "function_list = {'cnt_sum_month':'mean', 'price_mean_month':np.mean, 'rev_sum_month':np.mean}\n",
    "column_name = ['cnt_mean_item_city', 'price_mean_item_city', 'rev_mean_item_city']\n",
    "cols.extend(column_name)\n",
    "x, tmp = feature_combination(x, feature_list, function_list, column_name, merge=True)"
   ]
  },
  {
   "cell_type": "code",
   "execution_count": 18,
   "metadata": {},
   "outputs": [],
   "source": [
    "for c in column_name:\n",
    "    x = lag_features(x, [1, 2], c)"
   ]
  },
  {
   "cell_type": "markdown",
   "metadata": {},
   "source": [
    "##### `(cat1, shop)`"
   ]
  },
  {
   "cell_type": "code",
   "execution_count": 19,
   "metadata": {},
   "outputs": [
    {
     "name": "stdout",
     "output_type": "stream",
     "text": [
      "28 cnt_mean_cat1_shop_lag_1 264.6864350965387\n"
     ]
    }
   ],
   "source": [
    "for i in range(len(a)):\n",
    "    if 'cat1_shop' in a.iloc[i, 0]:\n",
    "        print(i, a.iloc[i, 0], a.iloc[i, 1])\n",
    "    if i>50:\n",
    "        break\n",
    "# (cat1, shop) keeps cnt_mean\n",
    "# lag = 1"
   ]
  },
  {
   "cell_type": "code",
   "execution_count": 20,
   "metadata": {},
   "outputs": [],
   "source": [
    "feature_list = ['date_block_num', 'item_cat1', 'shop_id']\n",
    "function_list = {'cnt_sum_month':'mean'}\n",
    "column_name = ['cnt_mean_cat1_shop']\n",
    "cols.extend(column_name)\n",
    "x, tmp = feature_combination(x, feature_list, function_list, column_name, merge=True)"
   ]
  },
  {
   "cell_type": "code",
   "execution_count": 21,
   "metadata": {},
   "outputs": [],
   "source": [
    "for c in column_name:\n",
    "    x = lag_features(x, [1], c)"
   ]
  },
  {
   "cell_type": "markdown",
   "metadata": {},
   "source": [
    "##### `(cat1, City)`"
   ]
  },
  {
   "cell_type": "code",
   "execution_count": 22,
   "metadata": {},
   "outputs": [
    {
     "name": "stdout",
     "output_type": "stream",
     "text": [
      "39 rev_mean_cat1_city_lag_1 224.80017184708407\n"
     ]
    }
   ],
   "source": [
    "for i in range(len(a)):\n",
    "    if 'cat1_city' in a.iloc[i, 0]:\n",
    "        print(i, a.iloc[i, 0], a.iloc[i, 1])\n",
    "    if i>50:\n",
    "        break\n",
    "# (cat1, city) keeps rev_mean\n",
    "# lag = 2"
   ]
  },
  {
   "cell_type": "code",
   "execution_count": 23,
   "metadata": {},
   "outputs": [],
   "source": [
    "feature_list = ['date_block_num', 'item_cat1', 'City']\n",
    "function_list = {'rev_sum_month':np.mean}\n",
    "column_name = ['rev_mean_cat1_city']\n",
    "cols.extend(column_name)\n",
    "x, tmp = feature_combination(x, feature_list, function_list, column_name, merge=True)"
   ]
  },
  {
   "cell_type": "code",
   "execution_count": 24,
   "metadata": {},
   "outputs": [],
   "source": [
    "for c in column_name:\n",
    "    x = lag_features(x, [1, 2], c)"
   ]
  },
  {
   "cell_type": "markdown",
   "metadata": {},
   "source": [
    "##### `(cat1, Type)`"
   ]
  },
  {
   "cell_type": "code",
   "execution_count": 25,
   "metadata": {},
   "outputs": [
    {
     "name": "stdout",
     "output_type": "stream",
     "text": [
      "23 price_mean_cat1_type_lag_2 318.85016734611116\n",
      "24 rev_mean_cat1_type_lag_1 305.90656485440684\n",
      "31 rev_mean_cat1_type_lag_3 249.9310523411764\n",
      "36 price_mean_cat1_type_lag_1 232.9496278383077\n",
      "37 cnt_mean_cat1_type_lag_1 225.8227948488464\n",
      "47 cnt_mean_cat1_type_lag_2 200.1026545284617\n"
     ]
    }
   ],
   "source": [
    "for i in range(len(a)):\n",
    "    if 'cat1_type' in a.iloc[i, 0]:\n",
    "        print(i, a.iloc[i, 0], a.iloc[i, 1])\n",
    "    if i>50:\n",
    "        break\n",
    "# (cat1, type) keeps cnt_mean, rev_mean, price_mean, shop_count\n",
    "# lag = 1, 2, 3"
   ]
  },
  {
   "cell_type": "code",
   "execution_count": 26,
   "metadata": {},
   "outputs": [],
   "source": [
    "feature_list = ['date_block_num', 'item_cat1', 'Type']\n",
    "function_list = {'cnt_sum_month':'mean', 'price_mean_month':np.mean, 'rev_sum_month':np.mean}\n",
    "column_name = ['cnt_mean_cat1_type', 'price_mean_cat1_type', 'rev_mean_cat1_type']\n",
    "cols.extend(column_name)\n",
    "x, tmp = feature_combination(x, feature_list, function_list, column_name, merge=True)"
   ]
  },
  {
   "cell_type": "code",
   "execution_count": 27,
   "metadata": {},
   "outputs": [],
   "source": [
    "for c in column_name:\n",
    "    x = lag_features(x, [1, 2, 3], c)"
   ]
  },
  {
   "cell_type": "markdown",
   "metadata": {},
   "source": [
    "##### `(cat2, shop)`"
   ]
  },
  {
   "cell_type": "code",
   "execution_count": 29,
   "metadata": {},
   "outputs": [],
   "source": [
    "for i in range(len(a)):\n",
    "    if 'cat2_shop' in a.iloc[i, 0]:\n",
    "        print(i, a.iloc[i, 0], a.iloc[i, 1])\n",
    "    if i>50:\n",
    "        break\n",
    "# (cat2, shop) is not good"
   ]
  },
  {
   "cell_type": "code",
   "execution_count": 30,
   "metadata": {},
   "outputs": [],
   "source": [
    "#feature_list = ['date_block_num', 'item_cat2', 'shop_id']\n",
    "#function_list = {'cnt_sum_month':['count', 'mean'], 'price_mean_month':np.mean, 'rev_sum_month':np.mean}\n",
    "#column_name = ['shop_count_cat2_shop', 'cnt_mean_cat2_shop', 'price_mean_cat2_shop', 'rev_mean_cat2_shop']\n",
    "#cols.extend(column_name)\n",
    "#x, tmp = feature_combination(x, feature_list, function_list, column_name, merge=True)"
   ]
  },
  {
   "cell_type": "markdown",
   "metadata": {},
   "source": [
    "##### `(cat2, city)`"
   ]
  },
  {
   "cell_type": "code",
   "execution_count": 31,
   "metadata": {},
   "outputs": [],
   "source": [
    "for i in range(len(a)):\n",
    "    if 'cat2_city' in a.iloc[i, 0]:\n",
    "        print(i, a.iloc[i, 0], a.iloc[i, 1])\n",
    "    if i>50:\n",
    "        break\n",
    "# (cat2, city) keeps shop_count\n",
    "# lag = 8"
   ]
  },
  {
   "cell_type": "code",
   "execution_count": 32,
   "metadata": {},
   "outputs": [],
   "source": [
    "#feature_list = ['date_block_num', 'item_cat2', 'City']\n",
    "#function_list = {'cnt_sum_month':'count'}\n",
    "#column_name = ['shop_count_cat2_city']\n",
    "#cols.extend(column_name)\n",
    "#x, tmp = feature_combination(x, feature_list, function_list, column_name, merge=True)"
   ]
  },
  {
   "cell_type": "code",
   "execution_count": 33,
   "metadata": {},
   "outputs": [],
   "source": [
    "#for c in column_name:\n",
    "#    x = lag_features(x, [1, 2, 3, 4, 5, 6, 7, 8], c)"
   ]
  },
  {
   "cell_type": "markdown",
   "metadata": {},
   "source": [
    "##### `(cat2, type)`"
   ]
  },
  {
   "cell_type": "code",
   "execution_count": 34,
   "metadata": {},
   "outputs": [
    {
     "name": "stdout",
     "output_type": "stream",
     "text": [
      "21 cnt_mean_cat2_type_lag_2 336.4159801201851\n",
      "33 rev_mean_cat2_type_lag_1 237.25313811365382\n",
      "40 cnt_mean_cat2_type_lag_1 223.8460154976001\n",
      "51 price_mean_cat2_type_lag_3 186.54455810311364\n"
     ]
    }
   ],
   "source": [
    "for i in range(len(a)):\n",
    "    if 'cat2_type' in a.iloc[i, 0]:\n",
    "        print(i, a.iloc[i, 0], a.iloc[i, 1])\n",
    "    if i>50:\n",
    "        break"
   ]
  },
  {
   "cell_type": "code",
   "execution_count": 35,
   "metadata": {},
   "outputs": [],
   "source": [
    "feature_list = ['date_block_num', 'item_cat2', 'Type']\n",
    "function_list = {'cnt_sum_month':'mean', 'price_mean_month':np.mean, 'rev_sum_month':np.mean}\n",
    "column_name = ['cnt_mean_cat2_type', 'price_mean_cat2_type', 'rev_mean_cat2_type']\n",
    "cols.extend(column_name)\n",
    "x, tmp = feature_combination(x, feature_list, function_list, column_name, merge=True)"
   ]
  },
  {
   "cell_type": "code",
   "execution_count": 36,
   "metadata": {},
   "outputs": [],
   "source": [
    "for c in column_name:\n",
    "    x = lag_features(x, [1, 2], c)"
   ]
  },
  {
   "cell_type": "markdown",
   "metadata": {},
   "source": [
    "##### `(cat1, cat2)`"
   ]
  },
  {
   "cell_type": "code",
   "execution_count": 37,
   "metadata": {},
   "outputs": [
    {
     "name": "stdout",
     "output_type": "stream",
     "text": [
      "0 cnt_mean_cat1_cat2_lag_2 10181.935589181076\n",
      "2 cnt_mean_cat1_cat2_lag_1 1255.6685222378576\n",
      "7 shop_count_cat1_cat2_lag_1 690.0411360021566\n",
      "12 price_mean_cat1_cat2_lag_2 437.05246716000016\n",
      "13 shop_count_cat1_cat2_lag_3 432.8327789164\n",
      "18 cnt_mean_cat1_cat2_lag_3 393.79537253769234\n",
      "19 price_mean_cat1_cat2_lag_5 368.8642840515625\n",
      "20 price_mean_cat1_cat2_lag_3 362.13488607333335\n",
      "25 shop_count_cat1_cat2_lag_2 288.4192905980952\n",
      "29 price_mean_cat1_cat2_lag_1 261.4393863478182\n",
      "30 rev_mean_cat1_cat2_lag_1 257.97522428891307\n",
      "34 rev_mean_cat1_cat2_lag_2 236.4968992340541\n",
      "38 rev_mean_cat1_cat2_lag_5 224.871415595862\n",
      "44 shop_count_cat1_cat2_lag_4 205.12218922341373\n",
      "45 shop_count_cat1_cat2_lag_6 203.25753134102558\n",
      "46 rev_mean_cat1_cat2_lag_3 200.7767644164\n",
      "48 rev_mean_cat1_cat2_lag_4 192.63357779615384\n"
     ]
    }
   ],
   "source": [
    "for i in range(len(a)):\n",
    "    if 'cat1_cat2' in a.iloc[i, 0]:\n",
    "        print(i, a.iloc[i, 0], a.iloc[i, 1])\n",
    "    if i>50:\n",
    "        break"
   ]
  },
  {
   "cell_type": "code",
   "execution_count": 38,
   "metadata": {},
   "outputs": [],
   "source": [
    "feature_list = ['date_block_num', 'item_cat1', 'item_cat2']\n",
    "function_list = {'cnt_sum_month':['count', 'mean'], 'price_mean_month':np.mean, 'rev_sum_month':np.mean}\n",
    "column_name = ['shop_count_cat1_cat2', 'cnt_mean_cat1_cat2', 'price_mean_cat1_cat2', 'rev_mean_cat1_cat2']\n",
    "cols.extend(column_name)\n",
    "x, tmp = feature_combination(x, feature_list, function_list, column_name, merge=True)"
   ]
  },
  {
   "cell_type": "code",
   "execution_count": 39,
   "metadata": {},
   "outputs": [],
   "source": [
    "for c in column_name:\n",
    "    x = lag_features(x, [1, 2, 3, 4, 5, 6], c)"
   ]
  },
  {
   "cell_type": "markdown",
   "metadata": {},
   "source": [
    "##### `(city, type)`"
   ]
  },
  {
   "cell_type": "code",
   "execution_count": 40,
   "metadata": {},
   "outputs": [],
   "source": [
    "for i in range(len(a)):\n",
    "    if 'city_type' in a.iloc[i, 0]:\n",
    "        print(i, a.iloc[i, 0], a.iloc[i, 1])\n",
    "    if i>50:\n",
    "        break\n",
    "# (city, type) is not good"
   ]
  },
  {
   "cell_type": "code",
   "execution_count": 41,
   "metadata": {},
   "outputs": [],
   "source": [
    "#feature_list = ['date_block_num', 'City', 'Type']\n",
    "#function_list = {'price_mean_month':np.mean, 'rev_sum_month':np.mean}\n",
    "#column_name = ['price_mean_city_type', 'rev_mean_city_type']\n",
    "#cols.extend(column_name)\n",
    "#x, tmp = feature_combination(x, feature_list, function_list, column_name, merge=True)"
   ]
  },
  {
   "cell_type": "code",
   "execution_count": 42,
   "metadata": {},
   "outputs": [],
   "source": [
    "#for c in column_name:\n",
    "#    x = lag_features(x, [1, 5, 12], c)"
   ]
  },
  {
   "cell_type": "markdown",
   "metadata": {},
   "source": [
    "Remove value for the current month, since for test data we do not have this information"
   ]
  },
  {
   "cell_type": "code",
   "execution_count": 45,
   "metadata": {},
   "outputs": [],
   "source": [
    "cols.remove('cnt_sum_month')\n",
    "x.drop(cols, axis=1, inplace=True)"
   ]
  },
  {
   "cell_type": "markdown",
   "metadata": {},
   "source": [
    "#### CV"
   ]
  },
  {
   "cell_type": "code",
   "execution_count": 47,
   "metadata": {},
   "outputs": [],
   "source": [
    "# Split train and test sets\n",
    "x_train = x.loc[(x['date_block_num']<=33) & (x['date_block_num']>=6), :].copy()\n",
    "x_test = x.loc[x['date_block_num']==34, :].copy()\n",
    "\n",
    "# Drop target from test set\n",
    "x_test.drop(['cnt_sum_month'], axis=1, inplace=True)\n",
    "\n",
    "# Split target from train set\n",
    "# Note that target is first clipped to (0, 40), then clipped to (0, 20) in test set. \n",
    "# This is similar to the idea of calibration\n",
    "y_train = x_train['cnt_sum_month'].clip(0, 40)\n",
    "x_train.drop(['cnt_sum_month'], axis=1, inplace=True)"
   ]
  },
  {
   "cell_type": "code",
   "execution_count": null,
   "metadata": {},
   "outputs": [
    {
     "name": "stdout",
     "output_type": "stream",
     "text": [
      "[0]\ttrain-rmse:3.23992\tval-rmse:3.24644\ttrain-clip-rmse:2.51909\tval-clip-rmse:2.52481\n",
      "[1]\ttrain-rmse:2.93021\tval-rmse:2.94515\ttrain-clip-rmse:2.24786\tval-clip-rmse:2.26091\n",
      "[2]\ttrain-rmse:2.75342\tval-rmse:2.7743\ttrain-clip-rmse:2.11382\tval-clip-rmse:2.13217\n",
      "[3]\ttrain-rmse:2.65281\tval-rmse:2.68006\ttrain-clip-rmse:2.04484\tval-clip-rmse:2.06842\n",
      "[4]\ttrain-rmse:2.59031\tval-rmse:2.62431\ttrain-clip-rmse:2.00617\tval-clip-rmse:2.03512\n",
      "[5]\ttrain-rmse:2.53172\tval-rmse:2.57003\ttrain-clip-rmse:1.97232\tval-clip-rmse:2.00435\n",
      "[6]\ttrain-rmse:2.50331\tval-rmse:2.54829\ttrain-clip-rmse:1.95721\tval-clip-rmse:1.99397\n",
      "[7]\ttrain-rmse:2.47266\tval-rmse:2.52135\ttrain-clip-rmse:1.93847\tval-clip-rmse:1.97722\n",
      "[8]\ttrain-rmse:2.44599\tval-rmse:2.50118\ttrain-clip-rmse:1.92166\tval-clip-rmse:1.96565\n",
      "[9]\ttrain-rmse:2.43422\tval-rmse:2.49283\ttrain-clip-rmse:1.91553\tval-clip-rmse:1.96167\n",
      "[10]\ttrain-rmse:2.40943\tval-rmse:2.47464\ttrain-clip-rmse:1.89917\tval-clip-rmse:1.94852\n",
      "[11]\ttrain-rmse:2.39776\tval-rmse:2.46657\ttrain-clip-rmse:1.89248\tval-clip-rmse:1.94409\n",
      "[12]\ttrain-rmse:2.39292\tval-rmse:2.46288\ttrain-clip-rmse:1.88975\tval-clip-rmse:1.94215\n",
      "[13]\ttrain-rmse:2.36817\tval-rmse:2.44173\ttrain-clip-rmse:1.87311\tval-clip-rmse:1.92846\n",
      "[14]\ttrain-rmse:2.36218\tval-rmse:2.43759\ttrain-clip-rmse:1.86862\tval-clip-rmse:1.92535\n",
      "[15]\ttrain-rmse:2.35431\tval-rmse:2.43187\ttrain-clip-rmse:1.86232\tval-clip-rmse:1.92072\n",
      "[16]\ttrain-rmse:2.33849\tval-rmse:2.41971\ttrain-clip-rmse:1.85085\tval-clip-rmse:1.9113\n",
      "[17]\ttrain-rmse:2.3328\tval-rmse:2.41687\ttrain-clip-rmse:1.8474\tval-clip-rmse:1.90976\n",
      "[18]\ttrain-rmse:2.30786\tval-rmse:2.39476\ttrain-clip-rmse:1.82865\tval-clip-rmse:1.89324\n",
      "[19]\ttrain-rmse:2.28828\tval-rmse:2.37914\ttrain-clip-rmse:1.81623\tval-clip-rmse:1.88361\n",
      "[20]\ttrain-rmse:2.28093\tval-rmse:2.37406\ttrain-clip-rmse:1.8108\tval-clip-rmse:1.87995\n",
      "[21]\ttrain-rmse:2.27724\tval-rmse:2.37203\ttrain-clip-rmse:1.80784\tval-clip-rmse:1.87832\n",
      "[22]\ttrain-rmse:2.26172\tval-rmse:2.3596\ttrain-clip-rmse:1.79888\tval-clip-rmse:1.87176\n",
      "[23]\ttrain-rmse:2.25526\tval-rmse:2.35636\ttrain-clip-rmse:1.79452\tval-clip-rmse:1.8696\n",
      "[24]\ttrain-rmse:2.2513\tval-rmse:2.35405\ttrain-clip-rmse:1.79095\tval-clip-rmse:1.86777\n",
      "[25]\ttrain-rmse:2.23158\tval-rmse:2.33875\ttrain-clip-rmse:1.77706\tval-clip-rmse:1.85655\n",
      "[26]\ttrain-rmse:2.2291\tval-rmse:2.33758\ttrain-clip-rmse:1.77495\tval-clip-rmse:1.85525\n",
      "[27]\ttrain-rmse:2.22517\tval-rmse:2.33533\ttrain-clip-rmse:1.77328\tval-clip-rmse:1.85447\n",
      "[28]\ttrain-rmse:2.22274\tval-rmse:2.33431\ttrain-clip-rmse:1.77178\tval-clip-rmse:1.85359\n",
      "[29]\ttrain-rmse:2.21554\tval-rmse:2.32878\ttrain-clip-rmse:1.76718\tval-clip-rmse:1.85004\n",
      "[30]\ttrain-rmse:2.21174\tval-rmse:2.32721\ttrain-clip-rmse:1.76383\tval-clip-rmse:1.84857\n",
      "[31]\ttrain-rmse:2.2072\tval-rmse:2.32469\ttrain-clip-rmse:1.76053\tval-clip-rmse:1.84683\n",
      "[32]\ttrain-rmse:2.2025\tval-rmse:2.32184\ttrain-clip-rmse:1.75674\tval-clip-rmse:1.84451\n",
      "[33]\ttrain-rmse:2.19927\tval-rmse:2.32076\ttrain-clip-rmse:1.75398\tval-clip-rmse:1.84379\n",
      "[34]\ttrain-rmse:2.19521\tval-rmse:2.31853\ttrain-clip-rmse:1.75178\tval-clip-rmse:1.84295\n",
      "[35]\ttrain-rmse:2.19159\tval-rmse:2.3171\ttrain-clip-rmse:1.74877\tval-clip-rmse:1.84169\n",
      "[36]\ttrain-rmse:2.17846\tval-rmse:2.30797\ttrain-clip-rmse:1.74033\tval-clip-rmse:1.83521\n",
      "[37]\ttrain-rmse:2.17591\tval-rmse:2.30678\ttrain-clip-rmse:1.73845\tval-clip-rmse:1.83434\n",
      "[38]\ttrain-rmse:2.1561\tval-rmse:2.28949\ttrain-clip-rmse:1.72833\tval-clip-rmse:1.82652\n",
      "[39]\ttrain-rmse:2.14739\tval-rmse:2.28235\ttrain-clip-rmse:1.72299\tval-clip-rmse:1.82233\n",
      "[40]\ttrain-rmse:2.14493\tval-rmse:2.28185\ttrain-clip-rmse:1.72131\tval-clip-rmse:1.82201\n",
      "[41]\ttrain-rmse:2.1432\tval-rmse:2.28099\ttrain-clip-rmse:1.71995\tval-clip-rmse:1.82119\n",
      "[42]\ttrain-rmse:2.14169\tval-rmse:2.2804\ttrain-clip-rmse:1.71889\tval-clip-rmse:1.82069\n",
      "[43]\ttrain-rmse:2.13755\tval-rmse:2.27832\ttrain-clip-rmse:1.71568\tval-clip-rmse:1.81946\n",
      "[44]\ttrain-rmse:2.1364\tval-rmse:2.27811\ttrain-clip-rmse:1.71491\tval-clip-rmse:1.81916\n",
      "[45]\ttrain-rmse:2.13471\tval-rmse:2.27785\ttrain-clip-rmse:1.71348\tval-clip-rmse:1.81889\n",
      "[46]\ttrain-rmse:2.13322\tval-rmse:2.27736\ttrain-clip-rmse:1.71243\tval-clip-rmse:1.81868\n",
      "[47]\ttrain-rmse:2.12987\tval-rmse:2.27504\ttrain-clip-rmse:1.71\tval-clip-rmse:1.81719\n",
      "[48]\ttrain-rmse:2.11722\tval-rmse:2.26488\ttrain-clip-rmse:1.70197\tval-clip-rmse:1.81095\n",
      "[49]\ttrain-rmse:2.10967\tval-rmse:2.2594\ttrain-clip-rmse:1.69746\tval-clip-rmse:1.8077\n",
      "[50]\ttrain-rmse:2.10387\tval-rmse:2.25544\ttrain-clip-rmse:1.69414\tval-clip-rmse:1.80587\n",
      "[51]\ttrain-rmse:2.10081\tval-rmse:2.25428\ttrain-clip-rmse:1.69148\tval-clip-rmse:1.80465\n",
      "[52]\ttrain-rmse:2.09665\tval-rmse:2.25184\ttrain-clip-rmse:1.68853\tval-clip-rmse:1.803\n",
      "[53]\ttrain-rmse:2.0959\tval-rmse:2.25152\ttrain-clip-rmse:1.68787\tval-clip-rmse:1.80267\n",
      "[54]\ttrain-rmse:2.09462\tval-rmse:2.25082\ttrain-clip-rmse:1.68696\tval-clip-rmse:1.80216\n",
      "[55]\ttrain-rmse:2.0867\tval-rmse:2.24534\ttrain-clip-rmse:1.68068\tval-clip-rmse:1.79796\n",
      "[56]\ttrain-rmse:2.08363\tval-rmse:2.24446\ttrain-clip-rmse:1.67843\tval-clip-rmse:1.7973\n",
      "[57]\ttrain-rmse:2.08284\tval-rmse:2.2446\ttrain-clip-rmse:1.67768\tval-clip-rmse:1.79729\n",
      "[58]\ttrain-rmse:2.08098\tval-rmse:2.24375\ttrain-clip-rmse:1.67616\tval-clip-rmse:1.79642\n",
      "[59]\ttrain-rmse:2.07403\tval-rmse:2.23867\ttrain-clip-rmse:1.67093\tval-clip-rmse:1.79265\n",
      "[60]\ttrain-rmse:2.07305\tval-rmse:2.23849\ttrain-clip-rmse:1.67043\tval-clip-rmse:1.79266\n",
      "[61]\ttrain-rmse:2.07201\tval-rmse:2.23807\ttrain-clip-rmse:1.66953\tval-clip-rmse:1.79238\n",
      "[62]\ttrain-rmse:2.06978\tval-rmse:2.23731\ttrain-clip-rmse:1.66795\tval-clip-rmse:1.79179\n",
      "[63]\ttrain-rmse:2.06548\tval-rmse:2.23324\ttrain-clip-rmse:1.66494\tval-clip-rmse:1.78948\n",
      "[64]\ttrain-rmse:2.06327\tval-rmse:2.23299\ttrain-clip-rmse:1.66318\tval-clip-rmse:1.78925\n",
      "[65]\ttrain-rmse:2.05897\tval-rmse:2.23101\ttrain-clip-rmse:1.66007\tval-clip-rmse:1.78812\n",
      "[66]\ttrain-rmse:2.04118\tval-rmse:2.21273\ttrain-clip-rmse:1.64958\tval-clip-rmse:1.77769\n",
      "[67]\ttrain-rmse:2.03905\tval-rmse:2.21206\ttrain-clip-rmse:1.64786\tval-clip-rmse:1.7771\n",
      "[68]\ttrain-rmse:2.03769\tval-rmse:2.21178\ttrain-clip-rmse:1.64674\tval-clip-rmse:1.777\n",
      "[69]\ttrain-rmse:2.03408\tval-rmse:2.21012\ttrain-clip-rmse:1.64345\tval-clip-rmse:1.77539\n",
      "[70]\ttrain-rmse:2.03313\tval-rmse:2.21006\ttrain-clip-rmse:1.64252\tval-clip-rmse:1.7752\n",
      "[71]\ttrain-rmse:2.03204\tval-rmse:2.20975\ttrain-clip-rmse:1.64157\tval-clip-rmse:1.77466\n",
      "[72]\ttrain-rmse:2.02983\tval-rmse:2.20888\ttrain-clip-rmse:1.64009\tval-clip-rmse:1.7742\n",
      "[73]\ttrain-rmse:2.02712\tval-rmse:2.20798\ttrain-clip-rmse:1.63804\tval-clip-rmse:1.77364\n",
      "[74]\ttrain-rmse:2.02596\tval-rmse:2.20765\ttrain-clip-rmse:1.63714\tval-clip-rmse:1.77341\n",
      "[75]\ttrain-rmse:2.023\tval-rmse:2.2071\ttrain-clip-rmse:1.63464\tval-clip-rmse:1.77281\n",
      "[76]\ttrain-rmse:2.02178\tval-rmse:2.20701\ttrain-clip-rmse:1.63371\tval-clip-rmse:1.77256\n",
      "[77]\ttrain-rmse:2.01799\tval-rmse:2.20567\ttrain-clip-rmse:1.63157\tval-clip-rmse:1.77221\n",
      "[78]\ttrain-rmse:2.01696\tval-rmse:2.20579\ttrain-clip-rmse:1.63094\tval-clip-rmse:1.77219\n",
      "[79]\ttrain-rmse:2.01601\tval-rmse:2.20564\ttrain-clip-rmse:1.63024\tval-clip-rmse:1.77204\n",
      "Repeat 0, split 0, val score = 1.772, running time = 1.923 min.\n",
      "[0]\ttrain-rmse:3.22109\tval-rmse:3.23175\ttrain-clip-rmse:2.50545\tval-clip-rmse:2.51161\n",
      "[1]\ttrain-rmse:2.92196\tval-rmse:2.94115\ttrain-clip-rmse:2.24633\tval-clip-rmse:2.25655\n",
      "[2]\ttrain-rmse:2.74634\tval-rmse:2.77413\ttrain-clip-rmse:2.11373\tval-clip-rmse:2.1281\n",
      "[3]\ttrain-rmse:2.64279\tval-rmse:2.67774\ttrain-clip-rmse:2.04258\tval-clip-rmse:2.06024\n",
      "[4]\ttrain-rmse:2.58081\tval-rmse:2.62469\ttrain-clip-rmse:2.00519\tval-clip-rmse:2.02691\n",
      "[5]\ttrain-rmse:2.54308\tval-rmse:2.59441\ttrain-clip-rmse:1.98483\tval-clip-rmse:2.01057\n",
      "[6]\ttrain-rmse:2.51177\tval-rmse:2.56892\ttrain-clip-rmse:1.96654\tval-clip-rmse:1.99518\n",
      "[7]\ttrain-rmse:2.48879\tval-rmse:2.55091\ttrain-clip-rmse:1.95355\tval-clip-rmse:1.98457\n",
      "[8]\ttrain-rmse:2.45827\tval-rmse:2.52448\ttrain-clip-rmse:1.93471\tval-clip-rmse:1.96763\n",
      "[9]\ttrain-rmse:2.44339\tval-rmse:2.51427\ttrain-clip-rmse:1.9247\tval-clip-rmse:1.96032\n",
      "[10]\ttrain-rmse:2.43056\tval-rmse:2.50634\ttrain-clip-rmse:1.91678\tval-clip-rmse:1.95543\n",
      "[11]\ttrain-rmse:2.42206\tval-rmse:2.50095\ttrain-clip-rmse:1.91157\tval-clip-rmse:1.95246\n",
      "[12]\ttrain-rmse:2.41295\tval-rmse:2.49553\ttrain-clip-rmse:1.90526\tval-clip-rmse:1.94876\n",
      "[13]\ttrain-rmse:2.39497\tval-rmse:2.48101\ttrain-clip-rmse:1.89198\tval-clip-rmse:1.93833\n",
      "[14]\ttrain-rmse:2.37615\tval-rmse:2.46338\ttrain-clip-rmse:1.87839\tval-clip-rmse:1.92604\n"
     ]
    },
    {
     "name": "stdout",
     "output_type": "stream",
     "text": [
      "[15]\ttrain-rmse:2.35651\tval-rmse:2.44703\ttrain-clip-rmse:1.86323\tval-clip-rmse:1.91339\n",
      "[16]\ttrain-rmse:2.32789\tval-rmse:2.42216\ttrain-clip-rmse:1.84247\tval-clip-rmse:1.89543\n",
      "[17]\ttrain-rmse:2.31892\tval-rmse:2.41596\ttrain-clip-rmse:1.83639\tval-clip-rmse:1.89162\n",
      "[18]\ttrain-rmse:2.29552\tval-rmse:2.39595\ttrain-clip-rmse:1.82074\tval-clip-rmse:1.87824\n",
      "[19]\ttrain-rmse:2.28877\tval-rmse:2.39191\ttrain-clip-rmse:1.81618\tval-clip-rmse:1.87574\n",
      "[20]\ttrain-rmse:2.28133\tval-rmse:2.38776\ttrain-clip-rmse:1.80996\tval-clip-rmse:1.87167\n",
      "[21]\ttrain-rmse:2.27341\tval-rmse:2.38195\ttrain-clip-rmse:1.8045\tval-clip-rmse:1.86777\n",
      "[22]\ttrain-rmse:2.25816\tval-rmse:2.36953\ttrain-clip-rmse:1.79419\tval-clip-rmse:1.86\n",
      "[23]\ttrain-rmse:2.23839\tval-rmse:2.35522\ttrain-clip-rmse:1.78073\tval-clip-rmse:1.84995\n",
      "[24]\ttrain-rmse:2.23665\tval-rmse:2.35403\ttrain-clip-rmse:1.77941\tval-clip-rmse:1.8493\n",
      "[25]\ttrain-rmse:2.23334\tval-rmse:2.35252\ttrain-clip-rmse:1.77705\tval-clip-rmse:1.84803\n",
      "[26]\ttrain-rmse:2.22943\tval-rmse:2.34953\ttrain-clip-rmse:1.77387\tval-clip-rmse:1.84558\n",
      "[27]\ttrain-rmse:2.22257\tval-rmse:2.34553\ttrain-clip-rmse:1.76943\tval-clip-rmse:1.84323\n",
      "[28]\ttrain-rmse:2.21086\tval-rmse:2.33511\ttrain-clip-rmse:1.76221\tval-clip-rmse:1.83712\n",
      "[29]\ttrain-rmse:2.19812\tval-rmse:2.32765\ttrain-clip-rmse:1.75558\tval-clip-rmse:1.83388\n",
      "[30]\ttrain-rmse:2.19624\tval-rmse:2.32691\ttrain-clip-rmse:1.75401\tval-clip-rmse:1.83319\n",
      "[31]\ttrain-rmse:2.19311\tval-rmse:2.32489\ttrain-clip-rmse:1.75167\tval-clip-rmse:1.83203\n",
      "[32]\ttrain-rmse:2.18891\tval-rmse:2.32174\ttrain-clip-rmse:1.74859\tval-clip-rmse:1.82975\n",
      "[33]\ttrain-rmse:2.18463\tval-rmse:2.31968\ttrain-clip-rmse:1.74533\tval-clip-rmse:1.82833\n",
      "[34]\ttrain-rmse:2.1828\tval-rmse:2.319\ttrain-clip-rmse:1.74371\tval-clip-rmse:1.82764\n",
      "[35]\ttrain-rmse:2.18044\tval-rmse:2.31805\ttrain-clip-rmse:1.74177\tval-clip-rmse:1.82693\n",
      "[36]\ttrain-rmse:2.16466\tval-rmse:2.3062\ttrain-clip-rmse:1.73274\tval-clip-rmse:1.82017\n",
      "[37]\ttrain-rmse:2.16232\tval-rmse:2.30516\ttrain-clip-rmse:1.73124\tval-clip-rmse:1.81947\n",
      "[38]\ttrain-rmse:2.16126\tval-rmse:2.30467\ttrain-clip-rmse:1.73033\tval-clip-rmse:1.81903\n",
      "[39]\ttrain-rmse:2.15854\tval-rmse:2.30381\ttrain-clip-rmse:1.72804\tval-clip-rmse:1.81831\n",
      "[40]\ttrain-rmse:2.15404\tval-rmse:2.30079\ttrain-clip-rmse:1.72494\tval-clip-rmse:1.8163\n",
      "[41]\ttrain-rmse:2.15267\tval-rmse:2.30051\ttrain-clip-rmse:1.7241\tval-clip-rmse:1.81608\n",
      "[42]\ttrain-rmse:2.13713\tval-rmse:2.28713\ttrain-clip-rmse:1.71593\tval-clip-rmse:1.8086\n",
      "[43]\ttrain-rmse:2.13293\tval-rmse:2.2839\ttrain-clip-rmse:1.71293\tval-clip-rmse:1.80662\n",
      "[44]\ttrain-rmse:2.13211\tval-rmse:2.28355\ttrain-clip-rmse:1.71232\tval-clip-rmse:1.80636\n",
      "[45]\ttrain-rmse:2.12992\tval-rmse:2.28302\ttrain-clip-rmse:1.7106\tval-clip-rmse:1.80588\n",
      "[46]\ttrain-rmse:2.12838\tval-rmse:2.28288\ttrain-clip-rmse:1.70939\tval-clip-rmse:1.80588\n",
      "[47]\ttrain-rmse:2.12706\tval-rmse:2.28251\ttrain-clip-rmse:1.70834\tval-clip-rmse:1.80546\n",
      "[48]\ttrain-rmse:2.12585\tval-rmse:2.28187\ttrain-clip-rmse:1.70735\tval-clip-rmse:1.80487\n",
      "[49]\ttrain-rmse:2.12416\tval-rmse:2.28123\ttrain-clip-rmse:1.70601\tval-clip-rmse:1.80447\n",
      "[50]\ttrain-rmse:2.11907\tval-rmse:2.27852\ttrain-clip-rmse:1.70246\tval-clip-rmse:1.80239\n",
      "[51]\ttrain-rmse:2.11863\tval-rmse:2.27853\ttrain-clip-rmse:1.70209\tval-clip-rmse:1.80235\n",
      "[52]\ttrain-rmse:2.11049\tval-rmse:2.27106\ttrain-clip-rmse:1.69718\tval-clip-rmse:1.79852\n",
      "[53]\ttrain-rmse:2.1074\tval-rmse:2.27048\ttrain-clip-rmse:1.6945\tval-clip-rmse:1.79816\n",
      "[54]\ttrain-rmse:2.10677\tval-rmse:2.27042\ttrain-clip-rmse:1.69404\tval-clip-rmse:1.79801\n",
      "[55]\ttrain-rmse:2.10275\tval-rmse:2.2684\ttrain-clip-rmse:1.69125\tval-clip-rmse:1.79677\n",
      "[56]\ttrain-rmse:2.10062\tval-rmse:2.26748\ttrain-clip-rmse:1.68952\tval-clip-rmse:1.79636\n",
      "[57]\ttrain-rmse:2.09194\tval-rmse:2.26017\ttrain-clip-rmse:1.68359\tval-clip-rmse:1.79136\n",
      "[58]\ttrain-rmse:2.09108\tval-rmse:2.26019\ttrain-clip-rmse:1.68312\tval-clip-rmse:1.79125\n",
      "[59]\ttrain-rmse:2.09002\tval-rmse:2.25996\ttrain-clip-rmse:1.6824\tval-clip-rmse:1.79103\n",
      "[60]\ttrain-rmse:2.08558\tval-rmse:2.25671\ttrain-clip-rmse:1.67829\tval-clip-rmse:1.78773\n",
      "[61]\ttrain-rmse:2.08424\tval-rmse:2.25695\ttrain-clip-rmse:1.67757\tval-clip-rmse:1.7875\n",
      "[62]\ttrain-rmse:2.08214\tval-rmse:2.25618\ttrain-clip-rmse:1.67595\tval-clip-rmse:1.78713\n",
      "[63]\ttrain-rmse:2.06102\tval-rmse:2.23862\ttrain-clip-rmse:1.6676\tval-clip-rmse:1.77963\n",
      "[64]\ttrain-rmse:2.05942\tval-rmse:2.23825\ttrain-clip-rmse:1.66632\tval-clip-rmse:1.77926\n",
      "[65]\ttrain-rmse:2.05708\tval-rmse:2.238\ttrain-clip-rmse:1.66447\tval-clip-rmse:1.77919\n",
      "[66]\ttrain-rmse:2.05589\tval-rmse:2.23752\ttrain-clip-rmse:1.66353\tval-clip-rmse:1.77883\n",
      "[67]\ttrain-rmse:2.05359\tval-rmse:2.23607\ttrain-clip-rmse:1.66173\tval-clip-rmse:1.77775\n",
      "[68]\ttrain-rmse:2.05211\tval-rmse:2.23559\ttrain-clip-rmse:1.66019\tval-clip-rmse:1.77726\n",
      "[69]\ttrain-rmse:2.05061\tval-rmse:2.23514\ttrain-clip-rmse:1.65884\tval-clip-rmse:1.77677\n",
      "[70]\ttrain-rmse:2.04807\tval-rmse:2.23458\ttrain-clip-rmse:1.65725\tval-clip-rmse:1.77646\n",
      "[71]\ttrain-rmse:2.0468\tval-rmse:2.23434\ttrain-clip-rmse:1.65612\tval-clip-rmse:1.77624\n",
      "[72]\ttrain-rmse:2.04085\tval-rmse:2.22925\ttrain-clip-rmse:1.6535\tval-clip-rmse:1.77438\n",
      "[73]\ttrain-rmse:2.0391\tval-rmse:2.2289\ttrain-clip-rmse:1.65199\tval-clip-rmse:1.77422\n",
      "[74]\ttrain-rmse:2.0369\tval-rmse:2.22734\ttrain-clip-rmse:1.65003\tval-clip-rmse:1.77266\n",
      "[75]\ttrain-rmse:2.03657\tval-rmse:2.2274\ttrain-clip-rmse:1.64986\tval-clip-rmse:1.7727\n",
      "[76]\ttrain-rmse:2.02967\tval-rmse:2.22146\ttrain-clip-rmse:1.64515\tval-clip-rmse:1.76881\n",
      "[77]\ttrain-rmse:2.02818\tval-rmse:2.221\ttrain-clip-rmse:1.64413\tval-clip-rmse:1.76873\n",
      "[78]\ttrain-rmse:2.02715\tval-rmse:2.22081\ttrain-clip-rmse:1.64318\tval-clip-rmse:1.76847\n",
      "[79]\ttrain-rmse:2.02647\tval-rmse:2.22074\ttrain-clip-rmse:1.64265\tval-clip-rmse:1.76838\n",
      "Repeat 0, split 1, val score = 1.768, running time = 1.878 min.\n",
      "[0]\ttrain-rmse:3.23063\tval-rmse:3.23734\ttrain-clip-rmse:2.51162\tval-clip-rmse:2.51708\n",
      "[1]\ttrain-rmse:2.92197\tval-rmse:2.93939\ttrain-clip-rmse:2.24291\tval-clip-rmse:2.25618\n",
      "[2]\ttrain-rmse:2.7501\tval-rmse:2.77913\ttrain-clip-rmse:2.11441\tval-clip-rmse:2.13373\n",
      "[3]\ttrain-rmse:2.64183\tval-rmse:2.67748\ttrain-clip-rmse:2.0398\tval-clip-rmse:2.06274\n",
      "[4]\ttrain-rmse:2.58148\tval-rmse:2.62398\ttrain-clip-rmse:2.00325\tval-clip-rmse:2.02957\n",
      "[5]\ttrain-rmse:2.54196\tval-rmse:2.59121\ttrain-clip-rmse:1.97867\tval-clip-rmse:2.00825\n",
      "[6]\ttrain-rmse:2.51676\tval-rmse:2.57032\ttrain-clip-rmse:1.96563\tval-clip-rmse:1.99765\n",
      "[7]\ttrain-rmse:2.49616\tval-rmse:2.5518\ttrain-clip-rmse:1.95248\tval-clip-rmse:1.98579\n",
      "[8]\ttrain-rmse:2.48106\tval-rmse:2.54169\ttrain-clip-rmse:1.9439\tval-clip-rmse:1.98076\n",
      "[9]\ttrain-rmse:2.45419\tval-rmse:2.52004\ttrain-clip-rmse:1.92661\tval-clip-rmse:1.96625\n",
      "[10]\ttrain-rmse:2.43866\tval-rmse:2.50824\ttrain-clip-rmse:1.91625\tval-clip-rmse:1.95785\n",
      "[11]\ttrain-rmse:2.42549\tval-rmse:2.4956\ttrain-clip-rmse:1.90804\tval-clip-rmse:1.95018\n",
      "[12]\ttrain-rmse:2.41526\tval-rmse:2.48877\ttrain-clip-rmse:1.90193\tval-clip-rmse:1.94623\n"
     ]
    }
   ],
   "source": [
    "param = {'max_depth':8, \n",
    "         'subsample':0.8,\n",
    "         'min_child_weight':5,\n",
    "         'eta':0.3, \n",
    "         'lambda':2,\n",
    "         'colsample_bytree':0.8,\n",
    "         'seed':1,\n",
    "         'silent':1,\n",
    "         'maximize': False,\n",
    "         'nthread':8}\n",
    "\n",
    "n_tree = 80\n",
    "verbose = True\n",
    "\n",
    "n_split = 3\n",
    "n_repetition = 1\n",
    "\n",
    "df, clf, running_time = cv(x_train, y_train, param, n_repetition, n_split, n_tree, verbose, 42)"
   ]
  },
  {
   "cell_type": "code",
   "execution_count": 55,
   "metadata": {},
   "outputs": [],
   "source": [
    "a = {k: clf[0, 0].get_score(importance_type='gain') for k in clf.keys()}"
   ]
  },
  {
   "cell_type": "code",
   "execution_count": 56,
   "metadata": {},
   "outputs": [],
   "source": [
    "b = pd.DataFrame(a)"
   ]
  },
  {
   "cell_type": "code",
   "execution_count": 57,
   "metadata": {},
   "outputs": [],
   "source": [
    "b.columns = list(range(n_split))"
   ]
  },
  {
   "cell_type": "code",
   "execution_count": 58,
   "metadata": {},
   "outputs": [],
   "source": [
    "c = b.mean(axis=1).sort_values(ascending=False)"
   ]
  },
  {
   "cell_type": "code",
   "execution_count": 59,
   "metadata": {},
   "outputs": [],
   "source": [
    "d = c.head(50).index.tolist()\n",
    "e = []\n",
    "f = []\n",
    "for n in d:\n",
    "    if len(n.split('_'))>=2 and n.split('_')[-2] == 'lag':\n",
    "        e.append('_'.join(n.split('_')[:-2]))\n",
    "        f.append(int(n.split('_')[-1]))\n",
    "        \n",
    "e = set(e)\n",
    "f = set(f)"
   ]
  },
  {
   "cell_type": "code",
   "execution_count": 60,
   "metadata": {},
   "outputs": [
    {
     "data": {
      "text/plain": [
       "{'cnt_mean_cat1_cat2',\n",
       " 'cnt_mean_cat1_shop',\n",
       " 'cnt_mean_cat1_type',\n",
       " 'cnt_mean_cat2_type',\n",
       " 'cnt_mean_item_city',\n",
       " 'cnt_sum_month',\n",
       " 'price_mean_cat1_cat2',\n",
       " 'price_mean_cat1_type',\n",
       " 'price_mean_item_city',\n",
       " 'price_mean_month',\n",
       " 'rev_mean_cat1_cat2',\n",
       " 'rev_mean_cat1_city',\n",
       " 'rev_mean_cat1_type',\n",
       " 'rev_mean_cat2_type',\n",
       " 'rev_mean_item_city',\n",
       " 'rev_mean_item_type',\n",
       " 'rev_sum_month',\n",
       " 'shop_count_cat1_cat2'}"
      ]
     },
     "execution_count": 60,
     "metadata": {},
     "output_type": "execute_result"
    }
   ],
   "source": [
    "e"
   ]
  },
  {
   "cell_type": "code",
   "execution_count": 61,
   "metadata": {},
   "outputs": [
    {
     "data": {
      "text/plain": [
       "{1, 2, 3, 4, 5, 6}"
      ]
     },
     "execution_count": 61,
     "metadata": {},
     "output_type": "execute_result"
    }
   ],
   "source": [
    "f"
   ]
  },
  {
   "cell_type": "code",
   "execution_count": 62,
   "metadata": {},
   "outputs": [
    {
     "data": {
      "text/plain": [
       "260"
      ]
     },
     "execution_count": 62,
     "metadata": {},
     "output_type": "execute_result"
    }
   ],
   "source": [
    "26*10"
   ]
  },
  {
   "cell_type": "code",
   "execution_count": 64,
   "metadata": {},
   "outputs": [],
   "source": [
    "b.to_csv('eda_11_5_feature_importance.csv')"
   ]
  }
 ],
 "metadata": {
  "kernelspec": {
   "display_name": "Python 3",
   "language": "python",
   "name": "python3"
  },
  "language_info": {
   "codemirror_mode": {
    "name": "ipython",
    "version": 3
   },
   "file_extension": ".py",
   "mimetype": "text/x-python",
   "name": "python",
   "nbconvert_exporter": "python",
   "pygments_lexer": "ipython3",
   "version": "3.6.5"
  }
 },
 "nbformat": 4,
 "nbformat_minor": 2
}
