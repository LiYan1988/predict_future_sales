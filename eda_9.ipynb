{
 "cells": [
  {
   "cell_type": "code",
   "execution_count": 1,
   "metadata": {},
   "outputs": [],
   "source": [
    "import numpy as np\n",
    "import pandas as pd\n",
    "import matplotlib.pyplot as plt\n",
    "import os\n",
    "import gc\n",
    "import sys\n",
    "import time\n",
    "\n",
    "from sklearn.preprocessing import LabelEncoder\n",
    "import scipy.stats as ss\n",
    "\n",
    "if os.name=='nt':\n",
    "    try:\n",
    "        mingw_path = 'C:\\\\Program Files\\\\mingw-w64\\\\x86_64-8.1.0-posix-seh-rt_v6-rev0\\\\mingw64\\\\bin'\n",
    "        os.environ['PATH'] = mingw_path + ';' + os.environ['PATH']\n",
    "    except:\n",
    "        pass\n",
    "    \n",
    "import xgboost as xgb\n",
    "from sklearn.metrics import mean_squared_error \n",
    "from numba import jit\n",
    "\n",
    "%matplotlib inline"
   ]
  },
  {
   "cell_type": "markdown",
   "metadata": {},
   "source": [
    "### Load data"
   ]
  },
  {
   "cell_type": "code",
   "execution_count": 2,
   "metadata": {},
   "outputs": [],
   "source": [
    "train = pd.read_csv('all/sales_train.csv.gz')\n",
    "test = pd.read_csv('all/test.csv.gz')\n",
    "shop = pd.read_csv('all/shops-translated.csv')\n",
    "item = pd.read_csv('all/items.csv')\n",
    "item.drop(['item_name'], axis=1, inplace=True)"
   ]
  },
  {
   "cell_type": "markdown",
   "metadata": {},
   "source": [
    "### Combinations of date, shop, and item"
   ]
  },
  {
   "cell_type": "code",
   "execution_count": 3,
   "metadata": {},
   "outputs": [],
   "source": [
    "from itertools import product\n",
    "index_cols = ['shop_id', 'item_id', 'date_block_num']\n",
    "grid = []\n",
    "for block_num in train['date_block_num'].unique():\n",
    "    cur_shops = train.loc[train['date_block_num']==block_num, 'shop_id'].unique()\n",
    "    cur_items = train.loc[train['date_block_num']==block_num, 'item_id'].unique()\n",
    "    grid.append(np.array(list(product(*[cur_shops, cur_items, [block_num]])), dtype=np.int32))\n",
    "grid = pd.DataFrame(np.vstack(grid), columns=index_cols, dtype=np.int32)"
   ]
  },
  {
   "cell_type": "markdown",
   "metadata": {},
   "source": [
    "### clean up"
   ]
  },
  {
   "cell_type": "code",
   "execution_count": 4,
   "metadata": {},
   "outputs": [],
   "source": [
    "train = train[train.item_price<100000]\n",
    "train = train[train.item_price<1000]"
   ]
  },
  {
   "cell_type": "markdown",
   "metadata": {},
   "source": [
    "### Mean encodings"
   ]
  },
  {
   "cell_type": "code",
   "execution_count": 5,
   "metadata": {},
   "outputs": [],
   "source": [
    "sales_m = train.groupby(['date_block_num', 'shop_id', 'item_id']).agg({'item_cnt_day': np.sum, \n",
    "                                                                      'item_price': np.mean}).reset_index()"
   ]
  },
  {
   "cell_type": "code",
   "execution_count": 6,
   "metadata": {},
   "outputs": [],
   "source": [
    "sales_m = pd.merge(grid, sales_m, on=['date_block_num', 'shop_id', 'item_id'], how='left').fillna(0.0)"
   ]
  },
  {
   "cell_type": "code",
   "execution_count": 7,
   "metadata": {},
   "outputs": [],
   "source": [
    "sales_m = pd.merge(sales_m, item, on=['item_id'], how='left')"
   ]
  },
  {
   "cell_type": "code",
   "execution_count": 8,
   "metadata": {},
   "outputs": [],
   "source": [
    "for type_id in ['item_id', 'shop_id', 'item_category_id']:\n",
    "    for column_id, aggregator, aggtype in [('item_price', np.mean, 'avg'), \n",
    "                                           ('item_cnt_day', np.sum, 'sum'), \n",
    "                                           ('item_cnt_day', np.mean, 'avg')]:\n",
    "        mean_df = sales_m.groupby([type_id, 'date_block_num']).\\\n",
    "            aggregate(aggregator).reset_index()[[column_id, type_id, 'date_block_num']]\n",
    "        mean_df.columns = [type_id+'_'+aggtype+'_'+column_id,type_id,'date_block_num']\n",
    "        sales_m = pd.merge(sales_m, mean_df, on=['date_block_num', type_id], how='left')"
   ]
  },
  {
   "cell_type": "code",
   "execution_count": 9,
   "metadata": {},
   "outputs": [
    {
     "data": {
      "text/html": [
       "<div>\n",
       "<style scoped>\n",
       "    .dataframe tbody tr th:only-of-type {\n",
       "        vertical-align: middle;\n",
       "    }\n",
       "\n",
       "    .dataframe tbody tr th {\n",
       "        vertical-align: top;\n",
       "    }\n",
       "\n",
       "    .dataframe thead th {\n",
       "        text-align: right;\n",
       "    }\n",
       "</style>\n",
       "<table border=\"1\" class=\"dataframe\">\n",
       "  <thead>\n",
       "    <tr style=\"text-align: right;\">\n",
       "      <th></th>\n",
       "      <th>shop_id</th>\n",
       "      <th>item_id</th>\n",
       "      <th>date_block_num</th>\n",
       "      <th>item_cnt_day</th>\n",
       "      <th>item_price</th>\n",
       "      <th>item_category_id</th>\n",
       "      <th>item_id_avg_item_price</th>\n",
       "      <th>item_id_sum_item_cnt_day</th>\n",
       "      <th>item_id_avg_item_cnt_day</th>\n",
       "      <th>shop_id_avg_item_price</th>\n",
       "      <th>shop_id_sum_item_cnt_day</th>\n",
       "      <th>shop_id_avg_item_cnt_day</th>\n",
       "      <th>item_category_id_avg_item_price</th>\n",
       "      <th>item_category_id_sum_item_cnt_day</th>\n",
       "      <th>item_category_id_avg_item_cnt_day</th>\n",
       "    </tr>\n",
       "  </thead>\n",
       "  <tbody>\n",
       "    <tr>\n",
       "      <th>0</th>\n",
       "      <td>59</td>\n",
       "      <td>22154</td>\n",
       "      <td>0</td>\n",
       "      <td>1.0</td>\n",
       "      <td>999.0</td>\n",
       "      <td>37</td>\n",
       "      <td>310.800000</td>\n",
       "      <td>18.0</td>\n",
       "      <td>0.400000</td>\n",
       "      <td>39.178139</td>\n",
       "      <td>1687.0</td>\n",
       "      <td>0.207887</td>\n",
       "      <td>53.041263</td>\n",
       "      <td>5819.0</td>\n",
       "      <td>0.190724</td>\n",
       "    </tr>\n",
       "    <tr>\n",
       "      <th>1</th>\n",
       "      <td>59</td>\n",
       "      <td>2552</td>\n",
       "      <td>0</td>\n",
       "      <td>0.0</td>\n",
       "      <td>0.0</td>\n",
       "      <td>58</td>\n",
       "      <td>19.977778</td>\n",
       "      <td>0.0</td>\n",
       "      <td>0.000000</td>\n",
       "      <td>39.178139</td>\n",
       "      <td>1687.0</td>\n",
       "      <td>0.207887</td>\n",
       "      <td>6.195011</td>\n",
       "      <td>51.0</td>\n",
       "      <td>0.007710</td>\n",
       "    </tr>\n",
       "    <tr>\n",
       "      <th>2</th>\n",
       "      <td>59</td>\n",
       "      <td>2554</td>\n",
       "      <td>0</td>\n",
       "      <td>0.0</td>\n",
       "      <td>0.0</td>\n",
       "      <td>58</td>\n",
       "      <td>0.000000</td>\n",
       "      <td>0.0</td>\n",
       "      <td>0.000000</td>\n",
       "      <td>39.178139</td>\n",
       "      <td>1687.0</td>\n",
       "      <td>0.207887</td>\n",
       "      <td>6.195011</td>\n",
       "      <td>51.0</td>\n",
       "      <td>0.007710</td>\n",
       "    </tr>\n",
       "    <tr>\n",
       "      <th>3</th>\n",
       "      <td>59</td>\n",
       "      <td>2555</td>\n",
       "      <td>0</td>\n",
       "      <td>0.0</td>\n",
       "      <td>0.0</td>\n",
       "      <td>56</td>\n",
       "      <td>0.000000</td>\n",
       "      <td>0.0</td>\n",
       "      <td>0.000000</td>\n",
       "      <td>39.178139</td>\n",
       "      <td>1687.0</td>\n",
       "      <td>0.207887</td>\n",
       "      <td>23.386519</td>\n",
       "      <td>197.0</td>\n",
       "      <td>0.036481</td>\n",
       "    </tr>\n",
       "    <tr>\n",
       "      <th>4</th>\n",
       "      <td>59</td>\n",
       "      <td>2564</td>\n",
       "      <td>0</td>\n",
       "      <td>0.0</td>\n",
       "      <td>0.0</td>\n",
       "      <td>59</td>\n",
       "      <td>36.400000</td>\n",
       "      <td>5.0</td>\n",
       "      <td>0.111111</td>\n",
       "      <td>39.178139</td>\n",
       "      <td>1687.0</td>\n",
       "      <td>0.207887</td>\n",
       "      <td>22.932845</td>\n",
       "      <td>637.0</td>\n",
       "      <td>0.084764</td>\n",
       "    </tr>\n",
       "  </tbody>\n",
       "</table>\n",
       "</div>"
      ],
      "text/plain": [
       "   shop_id  item_id  date_block_num  item_cnt_day  item_price  \\\n",
       "0       59    22154               0           1.0       999.0   \n",
       "1       59     2552               0           0.0         0.0   \n",
       "2       59     2554               0           0.0         0.0   \n",
       "3       59     2555               0           0.0         0.0   \n",
       "4       59     2564               0           0.0         0.0   \n",
       "\n",
       "   item_category_id  item_id_avg_item_price  item_id_sum_item_cnt_day  \\\n",
       "0                37              310.800000                      18.0   \n",
       "1                58               19.977778                       0.0   \n",
       "2                58                0.000000                       0.0   \n",
       "3                56                0.000000                       0.0   \n",
       "4                59               36.400000                       5.0   \n",
       "\n",
       "   item_id_avg_item_cnt_day  shop_id_avg_item_price  shop_id_sum_item_cnt_day  \\\n",
       "0                  0.400000               39.178139                    1687.0   \n",
       "1                  0.000000               39.178139                    1687.0   \n",
       "2                  0.000000               39.178139                    1687.0   \n",
       "3                  0.000000               39.178139                    1687.0   \n",
       "4                  0.111111               39.178139                    1687.0   \n",
       "\n",
       "   shop_id_avg_item_cnt_day  item_category_id_avg_item_price  \\\n",
       "0                  0.207887                        53.041263   \n",
       "1                  0.207887                         6.195011   \n",
       "2                  0.207887                         6.195011   \n",
       "3                  0.207887                        23.386519   \n",
       "4                  0.207887                        22.932845   \n",
       "\n",
       "   item_category_id_sum_item_cnt_day  item_category_id_avg_item_cnt_day  \n",
       "0                             5819.0                           0.190724  \n",
       "1                               51.0                           0.007710  \n",
       "2                               51.0                           0.007710  \n",
       "3                              197.0                           0.036481  \n",
       "4                              637.0                           0.084764  "
      ]
     },
     "execution_count": 9,
     "metadata": {},
     "output_type": "execute_result"
    }
   ],
   "source": [
    "sales_m.head()"
   ]
  },
  {
   "cell_type": "markdown",
   "metadata": {},
   "source": [
    "### Lag features"
   ]
  },
  {
   "cell_type": "code",
   "execution_count": 24,
   "metadata": {},
   "outputs": [],
   "source": [
    "lag_variables = list(sales_m.columns[7:])+['item_cnt_day']\n",
    "lags = [1, 2, 3, 4, 5, 12]\n",
    "for lag in lags:\n",
    "    sales_new_df = sales_m.copy()\n",
    "    sales_new_df.date_block_num += lag\n",
    "    sales_new_df = sales_new_df[['date_block_num', 'shop_id', 'item_id']+lag_variables]\n",
    "    sales_new_df.columns = ['date_block_num', 'shop_id', 'item_id'] + [lag_feat+'_lag_'+str(lag) for lag_feat in lag_variables]\n",
    "    sales_m = pd.merge(sales_m, sales_new_df, on=['date_block_num', 'shop_id', 'item_id'], how='left')"
   ]
  },
  {
   "cell_type": "markdown",
   "metadata": {},
   "source": [
    "### Fillna"
   ]
  },
  {
   "cell_type": "code",
   "execution_count": 28,
   "metadata": {},
   "outputs": [],
   "source": [
    "for feat in sales_m.columns:\n",
    "    if 'item_cnt' in feat:\n",
    "        sales_m[feat] = sales_m[feat].fillna(0.0)\n",
    "    elif 'item_price' in feat:\n",
    "        sales_m[feat] = sales_m[feat].fillna(sales_m[feat].median())"
   ]
  },
  {
   "cell_type": "markdown",
   "metadata": {},
   "source": [
    "### Drop columns that will be used"
   ]
  },
  {
   "cell_type": "code",
   "execution_count": 34,
   "metadata": {},
   "outputs": [],
   "source": [
    "cols_to_drop = lag_variables[:-1]+['item_price']"
   ]
  },
  {
   "cell_type": "code",
   "execution_count": 35,
   "metadata": {},
   "outputs": [
    {
     "data": {
      "text/plain": [
       "['item_id_sum_item_cnt_day',\n",
       " 'item_id_avg_item_cnt_day',\n",
       " 'shop_id_avg_item_price',\n",
       " 'shop_id_sum_item_cnt_day',\n",
       " 'shop_id_avg_item_cnt_day',\n",
       " 'item_category_id_avg_item_price',\n",
       " 'item_category_id_sum_item_cnt_day',\n",
       " 'item_category_id_avg_item_cnt_day',\n",
       " 'item_price']"
      ]
     },
     "execution_count": 35,
     "metadata": {},
     "output_type": "execute_result"
    }
   ],
   "source": [
    "cols_to_drop"
   ]
  },
  {
   "cell_type": "markdown",
   "metadata": {},
   "source": [
    "### Recent data only"
   ]
  },
  {
   "cell_type": "code",
   "execution_count": 31,
   "metadata": {},
   "outputs": [],
   "source": [
    "sales_m = sales_m[sales_m['date_block_num']>12]"
   ]
  },
  {
   "cell_type": "markdown",
   "metadata": {},
   "source": [
    "### Split into train and CV"
   ]
  },
  {
   "cell_type": "code",
   "execution_count": 38,
   "metadata": {},
   "outputs": [],
   "source": [
    "x_train = sales_m[sales_m['date_block_num']<33].drop(cols_to_drop, axis=1)\n",
    "x_cv =  sales_m[sales_m['date_block_num']==33].drop(cols_to_drop, axis=1)"
   ]
  },
  {
   "cell_type": "markdown",
   "metadata": {},
   "source": [
    "### Clip [0, 40]"
   ]
  },
  {
   "cell_type": "code",
   "execution_count": 39,
   "metadata": {},
   "outputs": [],
   "source": [
    "def clip(x):\n",
    "    if x>40:\n",
    "        return 40\n",
    "    elif x<0:\n",
    "        return 0\n",
    "    else:\n",
    "        return x\n",
    "x_train['item_cnt_day'] = x_train.apply(lambda x: clip(x['item_cnt_day']),axis=1)\n",
    "x_cv['item_cnt_day'] = x_cv.apply(lambda x: clip(x['item_cnt_day']),axis=1)"
   ]
  },
  {
   "cell_type": "code",
   "execution_count": 41,
   "metadata": {},
   "outputs": [
    {
     "data": {
      "text/plain": [
       "array([13, 14, 15, 16, 17, 18, 19, 20, 21, 22, 23, 24, 25, 26, 27, 28, 29,\n",
       "       30, 31, 32, 33], dtype=int64)"
      ]
     },
     "execution_count": 41,
     "metadata": {},
     "output_type": "execute_result"
    }
   ],
   "source": [
    "sales_m.date_block_num.unique()"
   ]
  },
  {
   "cell_type": "code",
   "execution_count": 43,
   "metadata": {},
   "outputs": [
    {
     "data": {
      "text/html": [
       "<div>\n",
       "<style scoped>\n",
       "    .dataframe tbody tr th:only-of-type {\n",
       "        vertical-align: middle;\n",
       "    }\n",
       "\n",
       "    .dataframe tbody tr th {\n",
       "        vertical-align: top;\n",
       "    }\n",
       "\n",
       "    .dataframe thead th {\n",
       "        text-align: right;\n",
       "    }\n",
       "</style>\n",
       "<table border=\"1\" class=\"dataframe\">\n",
       "  <thead>\n",
       "    <tr style=\"text-align: right;\">\n",
       "      <th></th>\n",
       "      <th>shop_id</th>\n",
       "      <th>item_id</th>\n",
       "      <th>date_block_num</th>\n",
       "      <th>item_cnt_day</th>\n",
       "      <th>item_price</th>\n",
       "      <th>item_category_id</th>\n",
       "      <th>item_id_avg_item_price</th>\n",
       "      <th>item_id_sum_item_cnt_day</th>\n",
       "      <th>item_id_avg_item_cnt_day</th>\n",
       "      <th>shop_id_avg_item_price</th>\n",
       "      <th>...</th>\n",
       "      <th>item_cnt_day_lag_5</th>\n",
       "      <th>item_id_sum_item_cnt_day_lag_12</th>\n",
       "      <th>item_id_avg_item_cnt_day_lag_12</th>\n",
       "      <th>shop_id_avg_item_price_lag_12</th>\n",
       "      <th>shop_id_sum_item_cnt_day_lag_12</th>\n",
       "      <th>shop_id_avg_item_cnt_day_lag_12</th>\n",
       "      <th>item_category_id_avg_item_price_lag_12</th>\n",
       "      <th>item_category_id_sum_item_cnt_day_lag_12</th>\n",
       "      <th>item_category_id_avg_item_cnt_day_lag_12</th>\n",
       "      <th>item_cnt_day_lag_12</th>\n",
       "    </tr>\n",
       "  </thead>\n",
       "  <tbody>\n",
       "    <tr>\n",
       "      <th>4836102</th>\n",
       "      <td>27</td>\n",
       "      <td>15242</td>\n",
       "      <td>13</td>\n",
       "      <td>2.0</td>\n",
       "      <td>699.0</td>\n",
       "      <td>63</td>\n",
       "      <td>100.760870</td>\n",
       "      <td>8.0</td>\n",
       "      <td>0.173913</td>\n",
       "      <td>68.322742</td>\n",
       "      <td>...</td>\n",
       "      <td>0.0</td>\n",
       "      <td>0.0</td>\n",
       "      <td>0.000000</td>\n",
       "      <td>39.612071</td>\n",
       "      <td>0.0</td>\n",
       "      <td>0.000000</td>\n",
       "      <td>39.604979</td>\n",
       "      <td>0.0</td>\n",
       "      <td>0.00000</td>\n",
       "      <td>0.0</td>\n",
       "    </tr>\n",
       "    <tr>\n",
       "      <th>4836103</th>\n",
       "      <td>27</td>\n",
       "      <td>15200</td>\n",
       "      <td>13</td>\n",
       "      <td>1.0</td>\n",
       "      <td>299.0</td>\n",
       "      <td>69</td>\n",
       "      <td>6.500000</td>\n",
       "      <td>1.0</td>\n",
       "      <td>0.021739</td>\n",
       "      <td>68.322742</td>\n",
       "      <td>...</td>\n",
       "      <td>0.0</td>\n",
       "      <td>0.0</td>\n",
       "      <td>0.000000</td>\n",
       "      <td>39.612071</td>\n",
       "      <td>0.0</td>\n",
       "      <td>0.000000</td>\n",
       "      <td>39.604979</td>\n",
       "      <td>0.0</td>\n",
       "      <td>0.00000</td>\n",
       "      <td>0.0</td>\n",
       "    </tr>\n",
       "    <tr>\n",
       "      <th>4836104</th>\n",
       "      <td>27</td>\n",
       "      <td>15279</td>\n",
       "      <td>13</td>\n",
       "      <td>2.0</td>\n",
       "      <td>799.0</td>\n",
       "      <td>63</td>\n",
       "      <td>382.130435</td>\n",
       "      <td>48.0</td>\n",
       "      <td>1.043478</td>\n",
       "      <td>68.322742</td>\n",
       "      <td>...</td>\n",
       "      <td>0.0</td>\n",
       "      <td>0.0</td>\n",
       "      <td>0.000000</td>\n",
       "      <td>39.612071</td>\n",
       "      <td>0.0</td>\n",
       "      <td>0.000000</td>\n",
       "      <td>39.604979</td>\n",
       "      <td>0.0</td>\n",
       "      <td>0.00000</td>\n",
       "      <td>0.0</td>\n",
       "    </tr>\n",
       "    <tr>\n",
       "      <th>4836105</th>\n",
       "      <td>27</td>\n",
       "      <td>15202</td>\n",
       "      <td>13</td>\n",
       "      <td>1.0</td>\n",
       "      <td>299.0</td>\n",
       "      <td>69</td>\n",
       "      <td>23.847826</td>\n",
       "      <td>3.0</td>\n",
       "      <td>0.065217</td>\n",
       "      <td>68.322742</td>\n",
       "      <td>...</td>\n",
       "      <td>0.0</td>\n",
       "      <td>5.0</td>\n",
       "      <td>0.108696</td>\n",
       "      <td>67.775807</td>\n",
       "      <td>3515.0</td>\n",
       "      <td>0.430338</td>\n",
       "      <td>91.566044</td>\n",
       "      <td>498.0</td>\n",
       "      <td>0.23535</td>\n",
       "      <td>0.0</td>\n",
       "    </tr>\n",
       "    <tr>\n",
       "      <th>4836106</th>\n",
       "      <td>27</td>\n",
       "      <td>14888</td>\n",
       "      <td>13</td>\n",
       "      <td>1.0</td>\n",
       "      <td>549.0</td>\n",
       "      <td>55</td>\n",
       "      <td>165.652174</td>\n",
       "      <td>19.0</td>\n",
       "      <td>0.413043</td>\n",
       "      <td>68.322742</td>\n",
       "      <td>...</td>\n",
       "      <td>5.0</td>\n",
       "      <td>0.0</td>\n",
       "      <td>0.000000</td>\n",
       "      <td>39.612071</td>\n",
       "      <td>0.0</td>\n",
       "      <td>0.000000</td>\n",
       "      <td>39.604979</td>\n",
       "      <td>0.0</td>\n",
       "      <td>0.00000</td>\n",
       "      <td>0.0</td>\n",
       "    </tr>\n",
       "  </tbody>\n",
       "</table>\n",
       "<p>5 rows × 69 columns</p>\n",
       "</div>"
      ],
      "text/plain": [
       "         shop_id  item_id  date_block_num  item_cnt_day  item_price  \\\n",
       "4836102       27    15242              13           2.0       699.0   \n",
       "4836103       27    15200              13           1.0       299.0   \n",
       "4836104       27    15279              13           2.0       799.0   \n",
       "4836105       27    15202              13           1.0       299.0   \n",
       "4836106       27    14888              13           1.0       549.0   \n",
       "\n",
       "         item_category_id  item_id_avg_item_price  item_id_sum_item_cnt_day  \\\n",
       "4836102                63              100.760870                       8.0   \n",
       "4836103                69                6.500000                       1.0   \n",
       "4836104                63              382.130435                      48.0   \n",
       "4836105                69               23.847826                       3.0   \n",
       "4836106                55              165.652174                      19.0   \n",
       "\n",
       "         item_id_avg_item_cnt_day  shop_id_avg_item_price  \\\n",
       "4836102                  0.173913               68.322742   \n",
       "4836103                  0.021739               68.322742   \n",
       "4836104                  1.043478               68.322742   \n",
       "4836105                  0.065217               68.322742   \n",
       "4836106                  0.413043               68.322742   \n",
       "\n",
       "                ...           item_cnt_day_lag_5  \\\n",
       "4836102         ...                          0.0   \n",
       "4836103         ...                          0.0   \n",
       "4836104         ...                          0.0   \n",
       "4836105         ...                          0.0   \n",
       "4836106         ...                          5.0   \n",
       "\n",
       "         item_id_sum_item_cnt_day_lag_12  item_id_avg_item_cnt_day_lag_12  \\\n",
       "4836102                              0.0                         0.000000   \n",
       "4836103                              0.0                         0.000000   \n",
       "4836104                              0.0                         0.000000   \n",
       "4836105                              5.0                         0.108696   \n",
       "4836106                              0.0                         0.000000   \n",
       "\n",
       "         shop_id_avg_item_price_lag_12  shop_id_sum_item_cnt_day_lag_12  \\\n",
       "4836102                      39.612071                              0.0   \n",
       "4836103                      39.612071                              0.0   \n",
       "4836104                      39.612071                              0.0   \n",
       "4836105                      67.775807                           3515.0   \n",
       "4836106                      39.612071                              0.0   \n",
       "\n",
       "         shop_id_avg_item_cnt_day_lag_12  \\\n",
       "4836102                         0.000000   \n",
       "4836103                         0.000000   \n",
       "4836104                         0.000000   \n",
       "4836105                         0.430338   \n",
       "4836106                         0.000000   \n",
       "\n",
       "         item_category_id_avg_item_price_lag_12  \\\n",
       "4836102                               39.604979   \n",
       "4836103                               39.604979   \n",
       "4836104                               39.604979   \n",
       "4836105                               91.566044   \n",
       "4836106                               39.604979   \n",
       "\n",
       "         item_category_id_sum_item_cnt_day_lag_12  \\\n",
       "4836102                                       0.0   \n",
       "4836103                                       0.0   \n",
       "4836104                                       0.0   \n",
       "4836105                                     498.0   \n",
       "4836106                                       0.0   \n",
       "\n",
       "         item_category_id_avg_item_cnt_day_lag_12  item_cnt_day_lag_12  \n",
       "4836102                                   0.00000                  0.0  \n",
       "4836103                                   0.00000                  0.0  \n",
       "4836104                                   0.00000                  0.0  \n",
       "4836105                                   0.23535                  0.0  \n",
       "4836106                                   0.00000                  0.0  \n",
       "\n",
       "[5 rows x 69 columns]"
      ]
     },
     "execution_count": 43,
     "metadata": {},
     "output_type": "execute_result"
    }
   ],
   "source": [
    "sales_m.head()"
   ]
  }
 ],
 "metadata": {
  "kernelspec": {
   "display_name": "Python 3",
   "language": "python",
   "name": "python3"
  },
  "language_info": {
   "codemirror_mode": {
    "name": "ipython",
    "version": 3
   },
   "file_extension": ".py",
   "mimetype": "text/x-python",
   "name": "python",
   "nbconvert_exporter": "python",
   "pygments_lexer": "ipython3",
   "version": "3.6.6"
  }
 },
 "nbformat": 4,
 "nbformat_minor": 2
}
